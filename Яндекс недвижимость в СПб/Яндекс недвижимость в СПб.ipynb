{
 "cells": [
  {
   "cell_type": "markdown",
   "metadata": {},
   "source": [
    "# Исследование объявлений о продаже квартир\n",
    "\n",
    "В вашем распоряжении данные сервиса Яндекс.Недвижимость — архив объявлений о продаже квартир в Санкт-Петербурге и соседних населённых пунктов за несколько лет. Нужно научиться определять рыночную стоимость объектов недвижимости. Ваша задача — установить параметры. Это позволит построить автоматизированную систему: она отследит аномалии и мошенническую деятельность. \n",
    "\n",
    "По каждой квартире на продажу доступны два вида данных. Первые вписаны пользователем, вторые — получены автоматически на основе картографических данных. Например, расстояние до центра, аэропорта, ближайшего парка и водоёма. "
   ]
  },
  {
   "cell_type": "markdown",
   "metadata": {},
   "source": [
    "**Цель исследования:**\n",
    "1. Определить рыночную стоимость объектов недвижимости.\n",
    "2. Построить автоматизированную систему, которая отследит аномалии и мошенническую деятельность.\n",
    "3. Установить, какие факторы влияют на ценообразование стоимости квартир."
   ]
  },
  {
   "cell_type": "markdown",
   "metadata": {},
   "source": [
    "### Откройте файл с данными и изучите общую информацию. "
   ]
  },
  {
   "cell_type": "code",
   "execution_count": 1,
   "metadata": {
    "scrolled": false
   },
   "outputs": [
    {
     "name": "stdout",
     "output_type": "stream",
     "text": [
      "<class 'pandas.core.frame.DataFrame'>\n",
      "RangeIndex: 23699 entries, 0 to 23698\n",
      "Data columns (total 22 columns):\n",
      " #   Column                Non-Null Count  Dtype  \n",
      "---  ------                --------------  -----  \n",
      " 0   total_images          23699 non-null  int64  \n",
      " 1   last_price            23699 non-null  float64\n",
      " 2   total_area            23699 non-null  float64\n",
      " 3   first_day_exposition  23699 non-null  object \n",
      " 4   rooms                 23699 non-null  int64  \n",
      " 5   ceiling_height        14504 non-null  float64\n",
      " 6   floors_total          23613 non-null  float64\n",
      " 7   living_area           21796 non-null  float64\n",
      " 8   floor                 23699 non-null  int64  \n",
      " 9   is_apartment          2775 non-null   object \n",
      " 10  studio                23699 non-null  bool   \n",
      " 11  open_plan             23699 non-null  bool   \n",
      " 12  kitchen_area          21421 non-null  float64\n",
      " 13  balcony               12180 non-null  float64\n",
      " 14  locality_name         23650 non-null  object \n",
      " 15  airports_nearest      18157 non-null  float64\n",
      " 16  cityCenters_nearest   18180 non-null  float64\n",
      " 17  parks_around3000      18181 non-null  float64\n",
      " 18  parks_nearest         8079 non-null   float64\n",
      " 19  ponds_around3000      18181 non-null  float64\n",
      " 20  ponds_nearest         9110 non-null   float64\n",
      " 21  days_exposition       20518 non-null  float64\n",
      "dtypes: bool(2), float64(14), int64(3), object(3)\n",
      "memory usage: 3.7+ MB\n"
     ]
    },
    {
     "data": {
      "text/html": [
       "<div>\n",
       "<style scoped>\n",
       "    .dataframe tbody tr th:only-of-type {\n",
       "        vertical-align: middle;\n",
       "    }\n",
       "\n",
       "    .dataframe tbody tr th {\n",
       "        vertical-align: top;\n",
       "    }\n",
       "\n",
       "    .dataframe thead th {\n",
       "        text-align: right;\n",
       "    }\n",
       "</style>\n",
       "<table border=\"1\" class=\"dataframe\">\n",
       "  <thead>\n",
       "    <tr style=\"text-align: right;\">\n",
       "      <th></th>\n",
       "      <th>total_images</th>\n",
       "      <th>last_price</th>\n",
       "      <th>total_area</th>\n",
       "      <th>first_day_exposition</th>\n",
       "      <th>rooms</th>\n",
       "      <th>ceiling_height</th>\n",
       "      <th>floors_total</th>\n",
       "      <th>living_area</th>\n",
       "      <th>floor</th>\n",
       "      <th>is_apartment</th>\n",
       "      <th>...</th>\n",
       "      <th>kitchen_area</th>\n",
       "      <th>balcony</th>\n",
       "      <th>locality_name</th>\n",
       "      <th>airports_nearest</th>\n",
       "      <th>cityCenters_nearest</th>\n",
       "      <th>parks_around3000</th>\n",
       "      <th>parks_nearest</th>\n",
       "      <th>ponds_around3000</th>\n",
       "      <th>ponds_nearest</th>\n",
       "      <th>days_exposition</th>\n",
       "    </tr>\n",
       "  </thead>\n",
       "  <tbody>\n",
       "    <tr>\n",
       "      <th>0</th>\n",
       "      <td>20</td>\n",
       "      <td>13000000.0</td>\n",
       "      <td>108.0</td>\n",
       "      <td>2019-03-07T00:00:00</td>\n",
       "      <td>3</td>\n",
       "      <td>2.70</td>\n",
       "      <td>16.0</td>\n",
       "      <td>51.0</td>\n",
       "      <td>8</td>\n",
       "      <td>NaN</td>\n",
       "      <td>...</td>\n",
       "      <td>25.0</td>\n",
       "      <td>NaN</td>\n",
       "      <td>Санкт-Петербург</td>\n",
       "      <td>18863.0</td>\n",
       "      <td>16028.0</td>\n",
       "      <td>1.0</td>\n",
       "      <td>482.0</td>\n",
       "      <td>2.0</td>\n",
       "      <td>755.0</td>\n",
       "      <td>NaN</td>\n",
       "    </tr>\n",
       "    <tr>\n",
       "      <th>1</th>\n",
       "      <td>7</td>\n",
       "      <td>3350000.0</td>\n",
       "      <td>40.4</td>\n",
       "      <td>2018-12-04T00:00:00</td>\n",
       "      <td>1</td>\n",
       "      <td>NaN</td>\n",
       "      <td>11.0</td>\n",
       "      <td>18.6</td>\n",
       "      <td>1</td>\n",
       "      <td>NaN</td>\n",
       "      <td>...</td>\n",
       "      <td>11.0</td>\n",
       "      <td>2.0</td>\n",
       "      <td>посёлок Шушары</td>\n",
       "      <td>12817.0</td>\n",
       "      <td>18603.0</td>\n",
       "      <td>0.0</td>\n",
       "      <td>NaN</td>\n",
       "      <td>0.0</td>\n",
       "      <td>NaN</td>\n",
       "      <td>81.0</td>\n",
       "    </tr>\n",
       "    <tr>\n",
       "      <th>2</th>\n",
       "      <td>10</td>\n",
       "      <td>5196000.0</td>\n",
       "      <td>56.0</td>\n",
       "      <td>2015-08-20T00:00:00</td>\n",
       "      <td>2</td>\n",
       "      <td>NaN</td>\n",
       "      <td>5.0</td>\n",
       "      <td>34.3</td>\n",
       "      <td>4</td>\n",
       "      <td>NaN</td>\n",
       "      <td>...</td>\n",
       "      <td>8.3</td>\n",
       "      <td>0.0</td>\n",
       "      <td>Санкт-Петербург</td>\n",
       "      <td>21741.0</td>\n",
       "      <td>13933.0</td>\n",
       "      <td>1.0</td>\n",
       "      <td>90.0</td>\n",
       "      <td>2.0</td>\n",
       "      <td>574.0</td>\n",
       "      <td>558.0</td>\n",
       "    </tr>\n",
       "    <tr>\n",
       "      <th>3</th>\n",
       "      <td>0</td>\n",
       "      <td>64900000.0</td>\n",
       "      <td>159.0</td>\n",
       "      <td>2015-07-24T00:00:00</td>\n",
       "      <td>3</td>\n",
       "      <td>NaN</td>\n",
       "      <td>14.0</td>\n",
       "      <td>NaN</td>\n",
       "      <td>9</td>\n",
       "      <td>NaN</td>\n",
       "      <td>...</td>\n",
       "      <td>NaN</td>\n",
       "      <td>0.0</td>\n",
       "      <td>Санкт-Петербург</td>\n",
       "      <td>28098.0</td>\n",
       "      <td>6800.0</td>\n",
       "      <td>2.0</td>\n",
       "      <td>84.0</td>\n",
       "      <td>3.0</td>\n",
       "      <td>234.0</td>\n",
       "      <td>424.0</td>\n",
       "    </tr>\n",
       "    <tr>\n",
       "      <th>4</th>\n",
       "      <td>2</td>\n",
       "      <td>10000000.0</td>\n",
       "      <td>100.0</td>\n",
       "      <td>2018-06-19T00:00:00</td>\n",
       "      <td>2</td>\n",
       "      <td>3.03</td>\n",
       "      <td>14.0</td>\n",
       "      <td>32.0</td>\n",
       "      <td>13</td>\n",
       "      <td>NaN</td>\n",
       "      <td>...</td>\n",
       "      <td>41.0</td>\n",
       "      <td>NaN</td>\n",
       "      <td>Санкт-Петербург</td>\n",
       "      <td>31856.0</td>\n",
       "      <td>8098.0</td>\n",
       "      <td>2.0</td>\n",
       "      <td>112.0</td>\n",
       "      <td>1.0</td>\n",
       "      <td>48.0</td>\n",
       "      <td>121.0</td>\n",
       "    </tr>\n",
       "  </tbody>\n",
       "</table>\n",
       "<p>5 rows × 22 columns</p>\n",
       "</div>"
      ],
      "text/plain": [
       "   total_images  last_price  total_area first_day_exposition  rooms  \\\n",
       "0            20  13000000.0       108.0  2019-03-07T00:00:00      3   \n",
       "1             7   3350000.0        40.4  2018-12-04T00:00:00      1   \n",
       "2            10   5196000.0        56.0  2015-08-20T00:00:00      2   \n",
       "3             0  64900000.0       159.0  2015-07-24T00:00:00      3   \n",
       "4             2  10000000.0       100.0  2018-06-19T00:00:00      2   \n",
       "\n",
       "   ceiling_height  floors_total  living_area  floor is_apartment  ...  \\\n",
       "0            2.70          16.0         51.0      8          NaN  ...   \n",
       "1             NaN          11.0         18.6      1          NaN  ...   \n",
       "2             NaN           5.0         34.3      4          NaN  ...   \n",
       "3             NaN          14.0          NaN      9          NaN  ...   \n",
       "4            3.03          14.0         32.0     13          NaN  ...   \n",
       "\n",
       "   kitchen_area  balcony    locality_name  airports_nearest  \\\n",
       "0          25.0      NaN  Санкт-Петербург           18863.0   \n",
       "1          11.0      2.0   посёлок Шушары           12817.0   \n",
       "2           8.3      0.0  Санкт-Петербург           21741.0   \n",
       "3           NaN      0.0  Санкт-Петербург           28098.0   \n",
       "4          41.0      NaN  Санкт-Петербург           31856.0   \n",
       "\n",
       "  cityCenters_nearest  parks_around3000  parks_nearest  ponds_around3000  \\\n",
       "0             16028.0               1.0          482.0               2.0   \n",
       "1             18603.0               0.0            NaN               0.0   \n",
       "2             13933.0               1.0           90.0               2.0   \n",
       "3              6800.0               2.0           84.0               3.0   \n",
       "4              8098.0               2.0          112.0               1.0   \n",
       "\n",
       "   ponds_nearest  days_exposition  \n",
       "0          755.0              NaN  \n",
       "1            NaN             81.0  \n",
       "2          574.0            558.0  \n",
       "3          234.0            424.0  \n",
       "4           48.0            121.0  \n",
       "\n",
       "[5 rows x 22 columns]"
      ]
     },
     "execution_count": 1,
     "metadata": {},
     "output_type": "execute_result"
    }
   ],
   "source": [
    "import pandas as pd\n",
    "data = pd.read_csv('/datasets/real_estate_data.csv', sep='\\t')\n",
    "data.info()\n",
    "data.head()"
   ]
  },
  {
   "cell_type": "markdown",
   "metadata": {},
   "source": [
    " Что мы видим? В таблице куча колонок, встречаются все типы данных: целые числа, дробные, булевы значения, текст. Много пропусков - примерно в половине столбцов, и с каждым надо разбираться отдельно"
   ]
  },
  {
   "cell_type": "markdown",
   "metadata": {},
   "source": [
    "Чтобы яснее понять общую картину по базе построим гистограммы на каждый столбец. Гистограмм не будет только на колонки с булевыми значениями и текстом."
   ]
  },
  {
   "cell_type": "code",
   "execution_count": 2,
   "metadata": {
    "scrolled": true
   },
   "outputs": [
    {
     "data": {
      "image/png": "[encoded data removed]",
      "text/plain": [
       "<Figure size 1080x1440 with 20 Axes>"
      ]
     },
     "metadata": {
      "needs_background": "light"
     },
     "output_type": "display_data"
    }
   ],
   "source": [
    "import matplotlib.pyplot as plt\n",
    "data.hist(figsize=(15, 20))\n",
    "plt.show()"
   ]
  },
  {
   "cell_type": "markdown",
   "metadata": {},
   "source": [
    "### Предобработка данных"
   ]
  },
  {
   "cell_type": "markdown",
   "metadata": {},
   "source": [
    "Найдем и изучим пропущенные значения в столбцах"
   ]
  },
  {
   "cell_type": "code",
   "execution_count": 3,
   "metadata": {},
   "outputs": [
    {
     "data": {
      "text/plain": [
       "is_apartment            20924\n",
       "parks_nearest           15620\n",
       "ponds_nearest           14589\n",
       "balcony                 11519\n",
       "ceiling_height           9195\n",
       "airports_nearest         5542\n",
       "cityCenters_nearest      5519\n",
       "ponds_around3000         5518\n",
       "parks_around3000         5518\n",
       "days_exposition          3181\n",
       "kitchen_area             2278\n",
       "living_area              1903\n",
       "floors_total               86\n",
       "locality_name              49\n",
       "total_images                0\n",
       "last_price                  0\n",
       "studio                      0\n",
       "floor                       0\n",
       "rooms                       0\n",
       "first_day_exposition        0\n",
       "total_area                  0\n",
       "open_plan                   0\n",
       "dtype: int64"
      ]
     },
     "execution_count": 3,
     "metadata": {},
     "output_type": "execute_result"
    }
   ],
   "source": [
    "data.isna().sum().sort_values(ascending=False)"
   ]
  },
  {
   "cell_type": "markdown",
   "metadata": {},
   "source": [
    "**Изучим столбец 'is_apartment'.** Там больше всего пропусков: 20924 из 23699. И если в пропусках стоит NaN, посмотрим, что же стоит там где нет пропуска."
   ]
  },
  {
   "cell_type": "code",
   "execution_count": 4,
   "metadata": {},
   "outputs": [
    {
     "data": {
      "text/plain": [
       "array([nan, False, True], dtype=object)"
      ]
     },
     "execution_count": 4,
     "metadata": {},
     "output_type": "execute_result"
    }
   ],
   "source": [
    "data['is_apartment'].unique()"
   ]
  },
  {
   "cell_type": "markdown",
   "metadata": {},
   "source": [
    "Оказывается это булев столбец. И надо решить, что делать с пропусками. Очевидно, что удалять нельзя, потеряем почти все данные.\n",
    "Если заменить NaN на 'unknown', то тип столбца на булев мы поменять не сможем. Как понять, апарт в строке или нет... \n",
    "Думаю, логично будет предположить, что отсутствие данных = False, т.к. апартов пока на рынке явно меньше, нежели квартир. Поэтому заменим пропуски и поменяем тип данных."
   ]
  },
  {
   "cell_type": "code",
   "execution_count": 5,
   "metadata": {
    "scrolled": true
   },
   "outputs": [
    {
     "name": "stdout",
     "output_type": "stream",
     "text": [
      "[False  True]\n",
      "bool\n"
     ]
    },
    {
     "data": {
      "text/html": [
       "<div>\n",
       "<style scoped>\n",
       "    .dataframe tbody tr th:only-of-type {\n",
       "        vertical-align: middle;\n",
       "    }\n",
       "\n",
       "    .dataframe tbody tr th {\n",
       "        vertical-align: top;\n",
       "    }\n",
       "\n",
       "    .dataframe thead th {\n",
       "        text-align: right;\n",
       "    }\n",
       "</style>\n",
       "<table border=\"1\" class=\"dataframe\">\n",
       "  <thead>\n",
       "    <tr style=\"text-align: right;\">\n",
       "      <th></th>\n",
       "      <th>total_images</th>\n",
       "      <th>last_price</th>\n",
       "      <th>total_area</th>\n",
       "      <th>first_day_exposition</th>\n",
       "      <th>rooms</th>\n",
       "      <th>ceiling_height</th>\n",
       "      <th>floors_total</th>\n",
       "      <th>living_area</th>\n",
       "      <th>floor</th>\n",
       "      <th>is_apartment</th>\n",
       "      <th>...</th>\n",
       "      <th>kitchen_area</th>\n",
       "      <th>balcony</th>\n",
       "      <th>locality_name</th>\n",
       "      <th>airports_nearest</th>\n",
       "      <th>cityCenters_nearest</th>\n",
       "      <th>parks_around3000</th>\n",
       "      <th>parks_nearest</th>\n",
       "      <th>ponds_around3000</th>\n",
       "      <th>ponds_nearest</th>\n",
       "      <th>days_exposition</th>\n",
       "    </tr>\n",
       "  </thead>\n",
       "  <tbody>\n",
       "    <tr>\n",
       "      <th>0</th>\n",
       "      <td>20</td>\n",
       "      <td>13000000.0</td>\n",
       "      <td>108.0</td>\n",
       "      <td>2019-03-07T00:00:00</td>\n",
       "      <td>3</td>\n",
       "      <td>2.70</td>\n",
       "      <td>16.0</td>\n",
       "      <td>51.0</td>\n",
       "      <td>8</td>\n",
       "      <td>False</td>\n",
       "      <td>...</td>\n",
       "      <td>25.0</td>\n",
       "      <td>NaN</td>\n",
       "      <td>Санкт-Петербург</td>\n",
       "      <td>18863.0</td>\n",
       "      <td>16028.0</td>\n",
       "      <td>1.0</td>\n",
       "      <td>482.0</td>\n",
       "      <td>2.0</td>\n",
       "      <td>755.0</td>\n",
       "      <td>NaN</td>\n",
       "    </tr>\n",
       "    <tr>\n",
       "      <th>1</th>\n",
       "      <td>7</td>\n",
       "      <td>3350000.0</td>\n",
       "      <td>40.4</td>\n",
       "      <td>2018-12-04T00:00:00</td>\n",
       "      <td>1</td>\n",
       "      <td>NaN</td>\n",
       "      <td>11.0</td>\n",
       "      <td>18.6</td>\n",
       "      <td>1</td>\n",
       "      <td>False</td>\n",
       "      <td>...</td>\n",
       "      <td>11.0</td>\n",
       "      <td>2.0</td>\n",
       "      <td>посёлок Шушары</td>\n",
       "      <td>12817.0</td>\n",
       "      <td>18603.0</td>\n",
       "      <td>0.0</td>\n",
       "      <td>NaN</td>\n",
       "      <td>0.0</td>\n",
       "      <td>NaN</td>\n",
       "      <td>81.0</td>\n",
       "    </tr>\n",
       "    <tr>\n",
       "      <th>2</th>\n",
       "      <td>10</td>\n",
       "      <td>5196000.0</td>\n",
       "      <td>56.0</td>\n",
       "      <td>2015-08-20T00:00:00</td>\n",
       "      <td>2</td>\n",
       "      <td>NaN</td>\n",
       "      <td>5.0</td>\n",
       "      <td>34.3</td>\n",
       "      <td>4</td>\n",
       "      <td>False</td>\n",
       "      <td>...</td>\n",
       "      <td>8.3</td>\n",
       "      <td>0.0</td>\n",
       "      <td>Санкт-Петербург</td>\n",
       "      <td>21741.0</td>\n",
       "      <td>13933.0</td>\n",
       "      <td>1.0</td>\n",
       "      <td>90.0</td>\n",
       "      <td>2.0</td>\n",
       "      <td>574.0</td>\n",
       "      <td>558.0</td>\n",
       "    </tr>\n",
       "    <tr>\n",
       "      <th>3</th>\n",
       "      <td>0</td>\n",
       "      <td>64900000.0</td>\n",
       "      <td>159.0</td>\n",
       "      <td>2015-07-24T00:00:00</td>\n",
       "      <td>3</td>\n",
       "      <td>NaN</td>\n",
       "      <td>14.0</td>\n",
       "      <td>NaN</td>\n",
       "      <td>9</td>\n",
       "      <td>False</td>\n",
       "      <td>...</td>\n",
       "      <td>NaN</td>\n",
       "      <td>0.0</td>\n",
       "      <td>Санкт-Петербург</td>\n",
       "      <td>28098.0</td>\n",
       "      <td>6800.0</td>\n",
       "      <td>2.0</td>\n",
       "      <td>84.0</td>\n",
       "      <td>3.0</td>\n",
       "      <td>234.0</td>\n",
       "      <td>424.0</td>\n",
       "    </tr>\n",
       "    <tr>\n",
       "      <th>4</th>\n",
       "      <td>2</td>\n",
       "      <td>10000000.0</td>\n",
       "      <td>100.0</td>\n",
       "      <td>2018-06-19T00:00:00</td>\n",
       "      <td>2</td>\n",
       "      <td>3.03</td>\n",
       "      <td>14.0</td>\n",
       "      <td>32.0</td>\n",
       "      <td>13</td>\n",
       "      <td>False</td>\n",
       "      <td>...</td>\n",
       "      <td>41.0</td>\n",
       "      <td>NaN</td>\n",
       "      <td>Санкт-Петербург</td>\n",
       "      <td>31856.0</td>\n",
       "      <td>8098.0</td>\n",
       "      <td>2.0</td>\n",
       "      <td>112.0</td>\n",
       "      <td>1.0</td>\n",
       "      <td>48.0</td>\n",
       "      <td>121.0</td>\n",
       "    </tr>\n",
       "  </tbody>\n",
       "</table>\n",
       "<p>5 rows × 22 columns</p>\n",
       "</div>"
      ],
      "text/plain": [
       "   total_images  last_price  total_area first_day_exposition  rooms  \\\n",
       "0            20  13000000.0       108.0  2019-03-07T00:00:00      3   \n",
       "1             7   3350000.0        40.4  2018-12-04T00:00:00      1   \n",
       "2            10   5196000.0        56.0  2015-08-20T00:00:00      2   \n",
       "3             0  64900000.0       159.0  2015-07-24T00:00:00      3   \n",
       "4             2  10000000.0       100.0  2018-06-19T00:00:00      2   \n",
       "\n",
       "   ceiling_height  floors_total  living_area  floor  is_apartment  ...  \\\n",
       "0            2.70          16.0         51.0      8         False  ...   \n",
       "1             NaN          11.0         18.6      1         False  ...   \n",
       "2             NaN           5.0         34.3      4         False  ...   \n",
       "3             NaN          14.0          NaN      9         False  ...   \n",
       "4            3.03          14.0         32.0     13         False  ...   \n",
       "\n",
       "   kitchen_area  balcony    locality_name  airports_nearest  \\\n",
       "0          25.0      NaN  Санкт-Петербург           18863.0   \n",
       "1          11.0      2.0   посёлок Шушары           12817.0   \n",
       "2           8.3      0.0  Санкт-Петербург           21741.0   \n",
       "3           NaN      0.0  Санкт-Петербург           28098.0   \n",
       "4          41.0      NaN  Санкт-Петербург           31856.0   \n",
       "\n",
       "  cityCenters_nearest  parks_around3000  parks_nearest  ponds_around3000  \\\n",
       "0             16028.0               1.0          482.0               2.0   \n",
       "1             18603.0               0.0            NaN               0.0   \n",
       "2             13933.0               1.0           90.0               2.0   \n",
       "3              6800.0               2.0           84.0               3.0   \n",
       "4              8098.0               2.0          112.0               1.0   \n",
       "\n",
       "   ponds_nearest  days_exposition  \n",
       "0          755.0              NaN  \n",
       "1            NaN             81.0  \n",
       "2          574.0            558.0  \n",
       "3          234.0            424.0  \n",
       "4           48.0            121.0  \n",
       "\n",
       "[5 rows x 22 columns]"
      ]
     },
     "execution_count": 5,
     "metadata": {},
     "output_type": "execute_result"
    }
   ],
   "source": [
    "# Если сразу применить astype, то пропуски NaN заменятся на True, поэтому обойдем эту неприятность таким вот образом\n",
    "data['is_apartment'] = data['is_apartment'].fillna(0)\n",
    "data['is_apartment'] = data['is_apartment'].astype('bool')\n",
    "# Проверим себя\n",
    "print(data['is_apartment'].unique())\n",
    "print(data['is_apartment'].dtype)\n",
    "data.head()\n"
   ]
  },
  {
   "cell_type": "markdown",
   "metadata": {},
   "source": [
    "**Изучим столбцы 'parks_nearest' и 'ponds_nearest**"
   ]
  },
  {
   "cell_type": "code",
   "execution_count": 6,
   "metadata": {
    "scrolled": true
   },
   "outputs": [
    {
     "data": {
      "text/plain": [
       "10959    3190.0\n",
       "19430    3190.0\n",
       "1590     3064.0\n",
       "19208    3013.0\n",
       "23080    2984.0\n",
       "          ...  \n",
       "23691       NaN\n",
       "23692       NaN\n",
       "23695       NaN\n",
       "23696       NaN\n",
       "23698       NaN\n",
       "Name: parks_nearest, Length: 23699, dtype: float64"
      ]
     },
     "execution_count": 6,
     "metadata": {},
     "output_type": "execute_result"
    }
   ],
   "source": [
    "data['parks_nearest'].sort_values(ascending=False)"
   ]
  },
  {
   "cell_type": "code",
   "execution_count": 7,
   "metadata": {},
   "outputs": [
    {
     "data": {
      "text/plain": [
       "20726    1344.0\n",
       "19924    1341.0\n",
       "19138    1341.0\n",
       "1476     1337.0\n",
       "12054    1313.0\n",
       "          ...  \n",
       "23690       NaN\n",
       "23692       NaN\n",
       "23695       NaN\n",
       "23696       NaN\n",
       "23698       NaN\n",
       "Name: ponds_nearest, Length: 23699, dtype: float64"
      ]
     },
     "execution_count": 7,
     "metadata": {},
     "output_type": "execute_result"
    }
   ],
   "source": [
    "data['ponds_nearest'].sort_values(ascending=False)"
   ]
  },
  {
   "cell_type": "markdown",
   "metadata": {},
   "source": [
    "В обоих колонках больше половины значений с пропусками. Причина пропусков возможно в отсутствии рядом и парка и пруда. Самое большое значение для парка 3190 метров, для пруда - 1344 метра. Это кстати примерно 40 мин / 20 мин пешком. Видимо дальше по удаленности указывать нет смысла. Предлагаю поставить нули вместо пропусков.\n",
    "\n",
    "Тип колонок вещественные (дробные) числа, расстояние в метрах до парка/пруда. Даже если внутри данных есть дробные числа, нам точность до сантиметров не нужна, - преобразуем колонки в целые числа."
   ]
  },
  {
   "cell_type": "code",
   "execution_count": 8,
   "metadata": {},
   "outputs": [
    {
     "name": "stdout",
     "output_type": "stream",
     "text": [
      "0\n",
      "int64\n",
      "0\n",
      "int64\n"
     ]
    }
   ],
   "source": [
    "data['parks_nearest'] = data['parks_nearest'].fillna(0).astype('int')\n",
    "data['ponds_nearest'] = data['ponds_nearest'].fillna(0).astype('int')\n",
    "# проверим, что получилось\n",
    "print(data['parks_nearest'].isna().sum())\n",
    "print(data['parks_nearest'].dtype)\n",
    "print(data['ponds_nearest'].isna().sum())\n",
    "print(data['ponds_nearest'].dtype)"
   ]
  },
  {
   "cell_type": "markdown",
   "metadata": {},
   "source": [
    "**Разберемся с балконами**\n",
    "\n",
    "В колонке больше 11 тыс пропусков. Однако если продавец не указал число балконов, то, скорее всего, в квартире их нет. Такие пропуски правильно заменить на 0.\n",
    "\n",
    "И поменяем тип данных с float на int, ведь не может же быть 1,5 балкона..."
   ]
  },
  {
   "cell_type": "code",
   "execution_count": 9,
   "metadata": {},
   "outputs": [],
   "source": [
    "data['balcony'] = data['balcony'].fillna(0).astype('int')"
   ]
  },
  {
   "cell_type": "code",
   "execution_count": 10,
   "metadata": {},
   "outputs": [
    {
     "data": {
      "text/plain": [
       "0    15277\n",
       "1     4195\n",
       "2     3659\n",
       "5      304\n",
       "4      183\n",
       "3       81\n",
       "Name: balcony, dtype: int64"
      ]
     },
     "execution_count": 10,
     "metadata": {},
     "output_type": "execute_result"
    }
   ],
   "source": [
    "# посмотрим и посчитаем уникальные значения\n",
    "data['balcony'].value_counts()"
   ]
  },
  {
   "cell_type": "markdown",
   "metadata": {},
   "source": [
    "Очень странно, в нашей стране я не встречала квартиры больше, чем с двумя балконами. Погуглила, нашла эксклюзивный вариант с 3 балконами в одном загородном ЖК, и все. Думаю, что объекты с 3, 4 и 5 балконами можно удалить из базы как недостоверные."
   ]
  },
  {
   "cell_type": "code",
   "execution_count": 11,
   "metadata": {},
   "outputs": [],
   "source": [
    "data = data.query('balcony < 3')"
   ]
  },
  {
   "cell_type": "markdown",
   "metadata": {},
   "source": [
    "**ceiling_height** float  9195 пропусков\n"
   ]
  },
  {
   "cell_type": "code",
   "execution_count": 12,
   "metadata": {},
   "outputs": [
    {
     "data": {
      "text/plain": [
       "array([ 2.7 ,   nan,  3.03,  2.5 ,  2.67,  2.56,  3.05,  2.75,  2.6 ,\n",
       "        2.9 ,  2.8 ,  2.55,  3.  ,  2.65,  3.2 ,  2.61,  3.25,  3.45,\n",
       "        2.77,  2.85,  2.64,  2.57,  4.15,  3.5 ,  3.3 ,  2.71,  4.  ,\n",
       "        2.47,  2.73,  2.84,  3.1 ,  2.34,  3.4 ,  3.06,  2.72,  2.54,\n",
       "        2.51,  2.78,  2.76, 25.  ,  2.58,  3.7 ,  2.52,  5.2 ,  2.87,\n",
       "        2.66,  2.59,  2.  ,  2.45,  3.6 ,  2.92,  3.11,  3.13,  3.8 ,\n",
       "        3.15,  3.55,  3.16,  3.62,  3.12,  2.53,  2.74,  2.96,  2.46,\n",
       "        5.3 ,  5.  ,  2.79,  2.95,  4.06,  2.94,  3.82,  3.54,  3.53,\n",
       "        2.83,  4.7 ,  2.4 ,  3.38,  3.01,  5.6 ,  3.65,  3.9 ,  3.18,\n",
       "        3.35,  2.3 ,  3.57,  2.48,  2.62,  2.82,  3.98,  2.63,  3.83,\n",
       "        3.52,  3.95,  3.75,  2.88,  3.67,  3.87,  3.66,  3.85,  3.86,\n",
       "        4.19,  3.24,  4.8 ,  4.5 ,  4.2 ,  3.36, 32.  ,  3.08,  3.68,\n",
       "        3.07,  3.37,  3.09,  8.  ,  3.26,  3.34,  2.81,  3.44,  2.97,\n",
       "        3.14,  4.37,  2.68,  3.22,  3.27, 27.  ,  4.1 ,  2.93,  3.46,\n",
       "       24.  ,  3.47,  3.33,  3.63,  3.32, 26.  ,  1.2 ,  8.3 ,  2.98,\n",
       "        2.86,  3.17,  4.4 ,  3.28,  3.04,  4.45,  5.5 ,  3.84,  3.23,\n",
       "        3.02,  3.21,  3.43,  3.78,  4.3 ,  3.39,  2.69,  3.31,  4.65,\n",
       "        3.56,  2.2 ,  3.51,  3.93,  3.42,  2.99,  3.49, 14.  ,  4.14,\n",
       "        3.88,  1.75,  4.25,  3.29,  2.25,  3.76,  3.69,  2.91,  6.  ,\n",
       "       22.6 ,  2.89,  3.58,  5.8 , 27.5 ,  2.49,  4.9 ,  3.48, 10.3 ,\n",
       "        1.  ,  3.59])"
      ]
     },
     "execution_count": 12,
     "metadata": {},
     "output_type": "execute_result"
    }
   ],
   "source": [
    "data['ceiling_height'].unique()"
   ]
  },
  {
   "cell_type": "markdown",
   "metadata": {},
   "source": [
    "Что-то слишком много для высоты потолков уникальных значений... Глаза разбегаются...\n",
    "\n",
    "Предлагаю уменьшить их количество округлением до десятых."
   ]
  },
  {
   "cell_type": "code",
   "execution_count": 13,
   "metadata": {},
   "outputs": [
    {
     "data": {
      "text/plain": [
       "array([ 2.7,  nan,  3. ,  2.5,  2.6,  2.8,  2.9,  3.2,  3.4,  4.2,  3.5,\n",
       "        3.3,  4. ,  3.1,  2.3, 25. ,  3.7,  5.2,  2. ,  2.4,  3.6,  3.8,\n",
       "        5.3,  5. ,  4.1,  4.7,  5.6,  3.9,  4.8,  4.5, 32. ,  8. ,  4.4,\n",
       "       27. , 24. , 26. ,  1.2,  8.3,  5.5,  4.3,  4.6,  2.2, 14. ,  1.8,\n",
       "        6. , 22.6,  5.8, 27.5,  4.9, 10.3,  1. ])"
      ]
     },
     "execution_count": 13,
     "metadata": {},
     "output_type": "execute_result"
    }
   ],
   "source": [
    "data['ceiling_height'] = data['ceiling_height'].round(1)\n",
    "data['ceiling_height'].unique()"
   ]
  },
  {
   "cell_type": "markdown",
   "metadata": {},
   "source": [
    "О! уже лучше! Кстати, потолков меньше 2,5 м и больше 5 м (для двухуровневых квартир) я не встречала. \n",
    "\n",
    "Нет ли явных опечаток среди выбросов?\n",
    "\n",
    "25.  -- это скорее всего 2,5\n",
    "\n",
    "32.  -- 3,2\n",
    "\n",
    "27.5 -- 2,75 или с округлением до десятых 2,8\n",
    "\n",
    "26. -- 2,6\n",
    "\n",
    "27. -- 2,7\n",
    "\n",
    "Заменим их"
   ]
  },
  {
   "cell_type": "code",
   "execution_count": 14,
   "metadata": {},
   "outputs": [
    {
     "data": {
      "text/plain": [
       "2.5     3731\n",
       "2.6     3623\n",
       "2.8     2140\n",
       "2.7     1710\n",
       "3.0     1184\n",
       "3.2      400\n",
       "3.1      275\n",
       "2.9      206\n",
       "3.3      176\n",
       "3.5      154\n",
       "3.4      138\n",
       "3.6       72\n",
       "4.0       48\n",
       "3.7       37\n",
       "3.8       36\n",
       "2.4       34\n",
       "3.9       19\n",
       "4.2       14\n",
       "2.0       11\n",
       "4.5        7\n",
       "4.4        6\n",
       "4.1        5\n",
       "2.3        5\n",
       "8.0        3\n",
       "4.7        2\n",
       "5.3        2\n",
       "2.2        2\n",
       "4.3        1\n",
       "8.3        1\n",
       "1.0        1\n",
       "5.6        1\n",
       "1.8        1\n",
       "5.0        1\n",
       "6.0        1\n",
       "5.5        1\n",
       "4.6        1\n",
       "4.8        1\n",
       "10.3       1\n",
       "24.0       1\n",
       "14.0       1\n",
       "22.6       1\n",
       "4.9        1\n",
       "5.2        1\n",
       "5.8        1\n",
       "1.2        1\n",
       "Name: ceiling_height, dtype: int64"
      ]
     },
     "execution_count": 14,
     "metadata": {},
     "output_type": "execute_result"
    }
   ],
   "source": [
    "data['ceiling_height'] = data['ceiling_height'].replace({25. :2.5, 32. :3.2, 27.5:2.8, 26. :2.6, 27. :2.7})\n",
    "data['ceiling_height'].value_counts()"
   ]
  },
  {
   "cell_type": "markdown",
   "metadata": {},
   "source": [
    "После замены аномалий, вернемся к пропускам. В данном случае логично заменить их средним значением"
   ]
  },
  {
   "cell_type": "code",
   "execution_count": 15,
   "metadata": {
    "scrolled": false
   },
   "outputs": [
    {
     "data": {
      "text/html": [
       "<div>\n",
       "<style scoped>\n",
       "    .dataframe tbody tr th:only-of-type {\n",
       "        vertical-align: middle;\n",
       "    }\n",
       "\n",
       "    .dataframe tbody tr th {\n",
       "        vertical-align: top;\n",
       "    }\n",
       "\n",
       "    .dataframe thead th {\n",
       "        text-align: right;\n",
       "    }\n",
       "</style>\n",
       "<table border=\"1\" class=\"dataframe\">\n",
       "  <thead>\n",
       "    <tr style=\"text-align: right;\">\n",
       "      <th></th>\n",
       "      <th>total_images</th>\n",
       "      <th>last_price</th>\n",
       "      <th>total_area</th>\n",
       "      <th>first_day_exposition</th>\n",
       "      <th>rooms</th>\n",
       "      <th>ceiling_height</th>\n",
       "      <th>floors_total</th>\n",
       "      <th>living_area</th>\n",
       "      <th>floor</th>\n",
       "      <th>is_apartment</th>\n",
       "      <th>...</th>\n",
       "      <th>kitchen_area</th>\n",
       "      <th>balcony</th>\n",
       "      <th>locality_name</th>\n",
       "      <th>airports_nearest</th>\n",
       "      <th>cityCenters_nearest</th>\n",
       "      <th>parks_around3000</th>\n",
       "      <th>parks_nearest</th>\n",
       "      <th>ponds_around3000</th>\n",
       "      <th>ponds_nearest</th>\n",
       "      <th>days_exposition</th>\n",
       "    </tr>\n",
       "  </thead>\n",
       "  <tbody>\n",
       "    <tr>\n",
       "      <th>0</th>\n",
       "      <td>20</td>\n",
       "      <td>13000000.0</td>\n",
       "      <td>108.0</td>\n",
       "      <td>2019-03-07T00:00:00</td>\n",
       "      <td>3</td>\n",
       "      <td>2.7</td>\n",
       "      <td>16.0</td>\n",
       "      <td>51.0</td>\n",
       "      <td>8</td>\n",
       "      <td>False</td>\n",
       "      <td>...</td>\n",
       "      <td>25.0</td>\n",
       "      <td>0</td>\n",
       "      <td>Санкт-Петербург</td>\n",
       "      <td>18863.0</td>\n",
       "      <td>16028.0</td>\n",
       "      <td>1.0</td>\n",
       "      <td>482</td>\n",
       "      <td>2.0</td>\n",
       "      <td>755</td>\n",
       "      <td>NaN</td>\n",
       "    </tr>\n",
       "    <tr>\n",
       "      <th>1</th>\n",
       "      <td>7</td>\n",
       "      <td>3350000.0</td>\n",
       "      <td>40.4</td>\n",
       "      <td>2018-12-04T00:00:00</td>\n",
       "      <td>1</td>\n",
       "      <td>2.7</td>\n",
       "      <td>11.0</td>\n",
       "      <td>18.6</td>\n",
       "      <td>1</td>\n",
       "      <td>False</td>\n",
       "      <td>...</td>\n",
       "      <td>11.0</td>\n",
       "      <td>2</td>\n",
       "      <td>посёлок Шушары</td>\n",
       "      <td>12817.0</td>\n",
       "      <td>18603.0</td>\n",
       "      <td>0.0</td>\n",
       "      <td>0</td>\n",
       "      <td>0.0</td>\n",
       "      <td>0</td>\n",
       "      <td>81.0</td>\n",
       "    </tr>\n",
       "    <tr>\n",
       "      <th>2</th>\n",
       "      <td>10</td>\n",
       "      <td>5196000.0</td>\n",
       "      <td>56.0</td>\n",
       "      <td>2015-08-20T00:00:00</td>\n",
       "      <td>2</td>\n",
       "      <td>2.7</td>\n",
       "      <td>5.0</td>\n",
       "      <td>34.3</td>\n",
       "      <td>4</td>\n",
       "      <td>False</td>\n",
       "      <td>...</td>\n",
       "      <td>8.3</td>\n",
       "      <td>0</td>\n",
       "      <td>Санкт-Петербург</td>\n",
       "      <td>21741.0</td>\n",
       "      <td>13933.0</td>\n",
       "      <td>1.0</td>\n",
       "      <td>90</td>\n",
       "      <td>2.0</td>\n",
       "      <td>574</td>\n",
       "      <td>558.0</td>\n",
       "    </tr>\n",
       "    <tr>\n",
       "      <th>3</th>\n",
       "      <td>0</td>\n",
       "      <td>64900000.0</td>\n",
       "      <td>159.0</td>\n",
       "      <td>2015-07-24T00:00:00</td>\n",
       "      <td>3</td>\n",
       "      <td>2.7</td>\n",
       "      <td>14.0</td>\n",
       "      <td>NaN</td>\n",
       "      <td>9</td>\n",
       "      <td>False</td>\n",
       "      <td>...</td>\n",
       "      <td>NaN</td>\n",
       "      <td>0</td>\n",
       "      <td>Санкт-Петербург</td>\n",
       "      <td>28098.0</td>\n",
       "      <td>6800.0</td>\n",
       "      <td>2.0</td>\n",
       "      <td>84</td>\n",
       "      <td>3.0</td>\n",
       "      <td>234</td>\n",
       "      <td>424.0</td>\n",
       "    </tr>\n",
       "    <tr>\n",
       "      <th>4</th>\n",
       "      <td>2</td>\n",
       "      <td>10000000.0</td>\n",
       "      <td>100.0</td>\n",
       "      <td>2018-06-19T00:00:00</td>\n",
       "      <td>2</td>\n",
       "      <td>3.0</td>\n",
       "      <td>14.0</td>\n",
       "      <td>32.0</td>\n",
       "      <td>13</td>\n",
       "      <td>False</td>\n",
       "      <td>...</td>\n",
       "      <td>41.0</td>\n",
       "      <td>0</td>\n",
       "      <td>Санкт-Петербург</td>\n",
       "      <td>31856.0</td>\n",
       "      <td>8098.0</td>\n",
       "      <td>2.0</td>\n",
       "      <td>112</td>\n",
       "      <td>1.0</td>\n",
       "      <td>48</td>\n",
       "      <td>121.0</td>\n",
       "    </tr>\n",
       "  </tbody>\n",
       "</table>\n",
       "<p>5 rows × 22 columns</p>\n",
       "</div>"
      ],
      "text/plain": [
       "   total_images  last_price  total_area first_day_exposition  rooms  \\\n",
       "0            20  13000000.0       108.0  2019-03-07T00:00:00      3   \n",
       "1             7   3350000.0        40.4  2018-12-04T00:00:00      1   \n",
       "2            10   5196000.0        56.0  2015-08-20T00:00:00      2   \n",
       "3             0  64900000.0       159.0  2015-07-24T00:00:00      3   \n",
       "4             2  10000000.0       100.0  2018-06-19T00:00:00      2   \n",
       "\n",
       "   ceiling_height  floors_total  living_area  floor  is_apartment  ...  \\\n",
       "0             2.7          16.0         51.0      8         False  ...   \n",
       "1             2.7          11.0         18.6      1         False  ...   \n",
       "2             2.7           5.0         34.3      4         False  ...   \n",
       "3             2.7          14.0          NaN      9         False  ...   \n",
       "4             3.0          14.0         32.0     13         False  ...   \n",
       "\n",
       "   kitchen_area  balcony    locality_name  airports_nearest  \\\n",
       "0          25.0        0  Санкт-Петербург           18863.0   \n",
       "1          11.0        2   посёлок Шушары           12817.0   \n",
       "2           8.3        0  Санкт-Петербург           21741.0   \n",
       "3           NaN        0  Санкт-Петербург           28098.0   \n",
       "4          41.0        0  Санкт-Петербург           31856.0   \n",
       "\n",
       "  cityCenters_nearest  parks_around3000  parks_nearest  ponds_around3000  \\\n",
       "0             16028.0               1.0            482               2.0   \n",
       "1             18603.0               0.0              0               0.0   \n",
       "2             13933.0               1.0             90               2.0   \n",
       "3              6800.0               2.0             84               3.0   \n",
       "4              8098.0               2.0            112               1.0   \n",
       "\n",
       "   ponds_nearest  days_exposition  \n",
       "0            755              NaN  \n",
       "1              0             81.0  \n",
       "2            574            558.0  \n",
       "3            234            424.0  \n",
       "4             48            121.0  \n",
       "\n",
       "[5 rows x 22 columns]"
      ]
     },
     "execution_count": 15,
     "metadata": {},
     "output_type": "execute_result"
    }
   ],
   "source": [
    "data['ceiling_height'] = data['ceiling_height'].fillna(data['ceiling_height'].mean().round(1))\n",
    "data.head()"
   ]
  },
  {
   "cell_type": "code",
   "execution_count": 16,
   "metadata": {},
   "outputs": [
    {
     "data": {
      "text/plain": [
       "array([2.7, 3. , 2.5, 2.6, 2.8, 2.9, 3.2, 3.4, 4.2, 3.5, 3.3, 4. , 3.1,\n",
       "       3.7, 3.6, 3.8, 5. , 4.1, 4.7, 3.9, 4.8, 4.5, 4.4, 4.3, 4.6, 4.9])"
      ]
     },
     "execution_count": 16,
     "metadata": {},
     "output_type": "execute_result"
    }
   ],
   "source": [
    "# оставшихся аномальных значений, которые меньше 2,5 и больше 5м - совсем не много, можно спокойно их удалить\n",
    "data = data.query('2.5 <= ceiling_height <= 5.0')\n",
    "data['ceiling_height'].unique()"
   ]
  },
  {
   "cell_type": "markdown",
   "metadata": {},
   "source": [
    "**airports_nearest** float  5542 пропуска"
   ]
  },
  {
   "cell_type": "code",
   "execution_count": 17,
   "metadata": {},
   "outputs": [
    {
     "data": {
      "text/plain": [
       "count    17667.000000\n",
       "mean     28760.326881\n",
       "std      12637.881262\n",
       "min          0.000000\n",
       "25%      18574.500000\n",
       "50%      26609.000000\n",
       "75%      37227.000000\n",
       "max      84869.000000\n",
       "Name: airports_nearest, dtype: float64"
      ]
     },
     "execution_count": 17,
     "metadata": {},
     "output_type": "execute_result"
    }
   ],
   "source": [
    "data['airports_nearest'].describe()"
   ]
  },
  {
   "cell_type": "markdown",
   "metadata": {},
   "source": [
    "Разброс очень большой, от 0 до 85 км, причем 2/3 квартир находятся не далее 37 км от аэропорта.\n",
    "\n",
    "Пропуски составляют 23% данных, удалять жалко. Предполагаю, что причина пропусков - областная локация. Поэтому большинству покупателей этот параметр не так уж и важен, или это далеко настолько, что не потрудились посчитать. Проверим предположение."
   ]
  },
  {
   "cell_type": "code",
   "execution_count": 18,
   "metadata": {},
   "outputs": [
    {
     "data": {
      "text/html": [
       "<div>\n",
       "<style scoped>\n",
       "    .dataframe tbody tr th:only-of-type {\n",
       "        vertical-align: middle;\n",
       "    }\n",
       "\n",
       "    .dataframe tbody tr th {\n",
       "        vertical-align: top;\n",
       "    }\n",
       "\n",
       "    .dataframe thead th {\n",
       "        text-align: right;\n",
       "    }\n",
       "</style>\n",
       "<table border=\"1\" class=\"dataframe\">\n",
       "  <thead>\n",
       "    <tr style=\"text-align: right;\">\n",
       "      <th></th>\n",
       "      <th>total_images</th>\n",
       "      <th>last_price</th>\n",
       "      <th>total_area</th>\n",
       "      <th>first_day_exposition</th>\n",
       "      <th>rooms</th>\n",
       "      <th>ceiling_height</th>\n",
       "      <th>floors_total</th>\n",
       "      <th>living_area</th>\n",
       "      <th>floor</th>\n",
       "      <th>is_apartment</th>\n",
       "      <th>...</th>\n",
       "      <th>kitchen_area</th>\n",
       "      <th>balcony</th>\n",
       "      <th>locality_name</th>\n",
       "      <th>airports_nearest</th>\n",
       "      <th>cityCenters_nearest</th>\n",
       "      <th>parks_around3000</th>\n",
       "      <th>parks_nearest</th>\n",
       "      <th>ponds_around3000</th>\n",
       "      <th>ponds_nearest</th>\n",
       "      <th>days_exposition</th>\n",
       "    </tr>\n",
       "  </thead>\n",
       "  <tbody>\n",
       "    <tr>\n",
       "      <th>5</th>\n",
       "      <td>10</td>\n",
       "      <td>2890000.0</td>\n",
       "      <td>30.40</td>\n",
       "      <td>2018-09-10T00:00:00</td>\n",
       "      <td>1</td>\n",
       "      <td>2.7</td>\n",
       "      <td>12.0</td>\n",
       "      <td>14.40</td>\n",
       "      <td>5</td>\n",
       "      <td>False</td>\n",
       "      <td>...</td>\n",
       "      <td>9.10</td>\n",
       "      <td>0</td>\n",
       "      <td>городской посёлок Янино-1</td>\n",
       "      <td>NaN</td>\n",
       "      <td>NaN</td>\n",
       "      <td>NaN</td>\n",
       "      <td>0</td>\n",
       "      <td>NaN</td>\n",
       "      <td>0</td>\n",
       "      <td>55.0</td>\n",
       "    </tr>\n",
       "    <tr>\n",
       "      <th>8</th>\n",
       "      <td>20</td>\n",
       "      <td>2900000.0</td>\n",
       "      <td>33.16</td>\n",
       "      <td>2018-05-23T00:00:00</td>\n",
       "      <td>1</td>\n",
       "      <td>2.7</td>\n",
       "      <td>27.0</td>\n",
       "      <td>15.43</td>\n",
       "      <td>26</td>\n",
       "      <td>False</td>\n",
       "      <td>...</td>\n",
       "      <td>8.81</td>\n",
       "      <td>0</td>\n",
       "      <td>посёлок Мурино</td>\n",
       "      <td>NaN</td>\n",
       "      <td>NaN</td>\n",
       "      <td>NaN</td>\n",
       "      <td>0</td>\n",
       "      <td>NaN</td>\n",
       "      <td>0</td>\n",
       "      <td>189.0</td>\n",
       "    </tr>\n",
       "    <tr>\n",
       "      <th>12</th>\n",
       "      <td>10</td>\n",
       "      <td>3890000.0</td>\n",
       "      <td>54.00</td>\n",
       "      <td>2016-06-30T00:00:00</td>\n",
       "      <td>2</td>\n",
       "      <td>2.7</td>\n",
       "      <td>5.0</td>\n",
       "      <td>30.00</td>\n",
       "      <td>5</td>\n",
       "      <td>False</td>\n",
       "      <td>...</td>\n",
       "      <td>9.00</td>\n",
       "      <td>0</td>\n",
       "      <td>Сертолово</td>\n",
       "      <td>NaN</td>\n",
       "      <td>NaN</td>\n",
       "      <td>NaN</td>\n",
       "      <td>0</td>\n",
       "      <td>NaN</td>\n",
       "      <td>0</td>\n",
       "      <td>90.0</td>\n",
       "    </tr>\n",
       "    <tr>\n",
       "      <th>22</th>\n",
       "      <td>20</td>\n",
       "      <td>5000000.0</td>\n",
       "      <td>58.00</td>\n",
       "      <td>2017-04-24T00:00:00</td>\n",
       "      <td>2</td>\n",
       "      <td>2.8</td>\n",
       "      <td>25.0</td>\n",
       "      <td>30.00</td>\n",
       "      <td>15</td>\n",
       "      <td>False</td>\n",
       "      <td>...</td>\n",
       "      <td>11.00</td>\n",
       "      <td>2</td>\n",
       "      <td>деревня Кудрово</td>\n",
       "      <td>NaN</td>\n",
       "      <td>NaN</td>\n",
       "      <td>NaN</td>\n",
       "      <td>0</td>\n",
       "      <td>NaN</td>\n",
       "      <td>0</td>\n",
       "      <td>60.0</td>\n",
       "    </tr>\n",
       "    <tr>\n",
       "      <th>30</th>\n",
       "      <td>12</td>\n",
       "      <td>2200000.0</td>\n",
       "      <td>32.80</td>\n",
       "      <td>2018-02-19T00:00:00</td>\n",
       "      <td>1</td>\n",
       "      <td>2.7</td>\n",
       "      <td>9.0</td>\n",
       "      <td>NaN</td>\n",
       "      <td>2</td>\n",
       "      <td>False</td>\n",
       "      <td>...</td>\n",
       "      <td>NaN</td>\n",
       "      <td>0</td>\n",
       "      <td>Коммунар</td>\n",
       "      <td>NaN</td>\n",
       "      <td>NaN</td>\n",
       "      <td>NaN</td>\n",
       "      <td>0</td>\n",
       "      <td>NaN</td>\n",
       "      <td>0</td>\n",
       "      <td>63.0</td>\n",
       "    </tr>\n",
       "    <tr>\n",
       "      <th>...</th>\n",
       "      <td>...</td>\n",
       "      <td>...</td>\n",
       "      <td>...</td>\n",
       "      <td>...</td>\n",
       "      <td>...</td>\n",
       "      <td>...</td>\n",
       "      <td>...</td>\n",
       "      <td>...</td>\n",
       "      <td>...</td>\n",
       "      <td>...</td>\n",
       "      <td>...</td>\n",
       "      <td>...</td>\n",
       "      <td>...</td>\n",
       "      <td>...</td>\n",
       "      <td>...</td>\n",
       "      <td>...</td>\n",
       "      <td>...</td>\n",
       "      <td>...</td>\n",
       "      <td>...</td>\n",
       "      <td>...</td>\n",
       "      <td>...</td>\n",
       "    </tr>\n",
       "    <tr>\n",
       "      <th>23683</th>\n",
       "      <td>16</td>\n",
       "      <td>2100000.0</td>\n",
       "      <td>62.80</td>\n",
       "      <td>2018-09-18T00:00:00</td>\n",
       "      <td>4</td>\n",
       "      <td>2.5</td>\n",
       "      <td>5.0</td>\n",
       "      <td>45.50</td>\n",
       "      <td>3</td>\n",
       "      <td>False</td>\n",
       "      <td>...</td>\n",
       "      <td>5.50</td>\n",
       "      <td>0</td>\n",
       "      <td>посёлок Дзержинского</td>\n",
       "      <td>NaN</td>\n",
       "      <td>NaN</td>\n",
       "      <td>NaN</td>\n",
       "      <td>0</td>\n",
       "      <td>NaN</td>\n",
       "      <td>0</td>\n",
       "      <td>NaN</td>\n",
       "    </tr>\n",
       "    <tr>\n",
       "      <th>23692</th>\n",
       "      <td>2</td>\n",
       "      <td>1350000.0</td>\n",
       "      <td>30.00</td>\n",
       "      <td>2017-07-07T00:00:00</td>\n",
       "      <td>1</td>\n",
       "      <td>2.7</td>\n",
       "      <td>5.0</td>\n",
       "      <td>17.50</td>\n",
       "      <td>4</td>\n",
       "      <td>False</td>\n",
       "      <td>...</td>\n",
       "      <td>6.00</td>\n",
       "      <td>0</td>\n",
       "      <td>Тихвин</td>\n",
       "      <td>NaN</td>\n",
       "      <td>NaN</td>\n",
       "      <td>NaN</td>\n",
       "      <td>0</td>\n",
       "      <td>NaN</td>\n",
       "      <td>0</td>\n",
       "      <td>413.0</td>\n",
       "    </tr>\n",
       "    <tr>\n",
       "      <th>23695</th>\n",
       "      <td>14</td>\n",
       "      <td>3100000.0</td>\n",
       "      <td>59.00</td>\n",
       "      <td>2018-01-15T00:00:00</td>\n",
       "      <td>3</td>\n",
       "      <td>2.7</td>\n",
       "      <td>5.0</td>\n",
       "      <td>38.00</td>\n",
       "      <td>4</td>\n",
       "      <td>False</td>\n",
       "      <td>...</td>\n",
       "      <td>8.50</td>\n",
       "      <td>0</td>\n",
       "      <td>Тосно</td>\n",
       "      <td>NaN</td>\n",
       "      <td>NaN</td>\n",
       "      <td>NaN</td>\n",
       "      <td>0</td>\n",
       "      <td>NaN</td>\n",
       "      <td>0</td>\n",
       "      <td>45.0</td>\n",
       "    </tr>\n",
       "    <tr>\n",
       "      <th>23696</th>\n",
       "      <td>18</td>\n",
       "      <td>2500000.0</td>\n",
       "      <td>56.70</td>\n",
       "      <td>2018-02-11T00:00:00</td>\n",
       "      <td>2</td>\n",
       "      <td>2.7</td>\n",
       "      <td>3.0</td>\n",
       "      <td>29.70</td>\n",
       "      <td>1</td>\n",
       "      <td>False</td>\n",
       "      <td>...</td>\n",
       "      <td>NaN</td>\n",
       "      <td>0</td>\n",
       "      <td>село Рождествено</td>\n",
       "      <td>NaN</td>\n",
       "      <td>NaN</td>\n",
       "      <td>NaN</td>\n",
       "      <td>0</td>\n",
       "      <td>NaN</td>\n",
       "      <td>0</td>\n",
       "      <td>NaN</td>\n",
       "    </tr>\n",
       "    <tr>\n",
       "      <th>23698</th>\n",
       "      <td>4</td>\n",
       "      <td>1350000.0</td>\n",
       "      <td>32.30</td>\n",
       "      <td>2017-07-21T00:00:00</td>\n",
       "      <td>1</td>\n",
       "      <td>2.5</td>\n",
       "      <td>5.0</td>\n",
       "      <td>12.30</td>\n",
       "      <td>1</td>\n",
       "      <td>False</td>\n",
       "      <td>...</td>\n",
       "      <td>9.00</td>\n",
       "      <td>0</td>\n",
       "      <td>поселок Новый Учхоз</td>\n",
       "      <td>NaN</td>\n",
       "      <td>NaN</td>\n",
       "      <td>NaN</td>\n",
       "      <td>0</td>\n",
       "      <td>NaN</td>\n",
       "      <td>0</td>\n",
       "      <td>NaN</td>\n",
       "    </tr>\n",
       "  </tbody>\n",
       "</table>\n",
       "<p>5394 rows × 22 columns</p>\n",
       "</div>"
      ],
      "text/plain": [
       "       total_images  last_price  total_area first_day_exposition  rooms  \\\n",
       "5                10   2890000.0       30.40  2018-09-10T00:00:00      1   \n",
       "8                20   2900000.0       33.16  2018-05-23T00:00:00      1   \n",
       "12               10   3890000.0       54.00  2016-06-30T00:00:00      2   \n",
       "22               20   5000000.0       58.00  2017-04-24T00:00:00      2   \n",
       "30               12   2200000.0       32.80  2018-02-19T00:00:00      1   \n",
       "...             ...         ...         ...                  ...    ...   \n",
       "23683            16   2100000.0       62.80  2018-09-18T00:00:00      4   \n",
       "23692             2   1350000.0       30.00  2017-07-07T00:00:00      1   \n",
       "23695            14   3100000.0       59.00  2018-01-15T00:00:00      3   \n",
       "23696            18   2500000.0       56.70  2018-02-11T00:00:00      2   \n",
       "23698             4   1350000.0       32.30  2017-07-21T00:00:00      1   \n",
       "\n",
       "       ceiling_height  floors_total  living_area  floor  is_apartment  ...  \\\n",
       "5                 2.7          12.0        14.40      5         False  ...   \n",
       "8                 2.7          27.0        15.43     26         False  ...   \n",
       "12                2.7           5.0        30.00      5         False  ...   \n",
       "22                2.8          25.0        30.00     15         False  ...   \n",
       "30                2.7           9.0          NaN      2         False  ...   \n",
       "...               ...           ...          ...    ...           ...  ...   \n",
       "23683             2.5           5.0        45.50      3         False  ...   \n",
       "23692             2.7           5.0        17.50      4         False  ...   \n",
       "23695             2.7           5.0        38.00      4         False  ...   \n",
       "23696             2.7           3.0        29.70      1         False  ...   \n",
       "23698             2.5           5.0        12.30      1         False  ...   \n",
       "\n",
       "       kitchen_area  balcony              locality_name  airports_nearest  \\\n",
       "5              9.10        0  городской посёлок Янино-1               NaN   \n",
       "8              8.81        0             посёлок Мурино               NaN   \n",
       "12             9.00        0                  Сертолово               NaN   \n",
       "22            11.00        2            деревня Кудрово               NaN   \n",
       "30              NaN        0                   Коммунар               NaN   \n",
       "...             ...      ...                        ...               ...   \n",
       "23683          5.50        0       посёлок Дзержинского               NaN   \n",
       "23692          6.00        0                     Тихвин               NaN   \n",
       "23695          8.50        0                      Тосно               NaN   \n",
       "23696           NaN        0           село Рождествено               NaN   \n",
       "23698          9.00        0        поселок Новый Учхоз               NaN   \n",
       "\n",
       "      cityCenters_nearest  parks_around3000  parks_nearest  ponds_around3000  \\\n",
       "5                     NaN               NaN              0               NaN   \n",
       "8                     NaN               NaN              0               NaN   \n",
       "12                    NaN               NaN              0               NaN   \n",
       "22                    NaN               NaN              0               NaN   \n",
       "30                    NaN               NaN              0               NaN   \n",
       "...                   ...               ...            ...               ...   \n",
       "23683                 NaN               NaN              0               NaN   \n",
       "23692                 NaN               NaN              0               NaN   \n",
       "23695                 NaN               NaN              0               NaN   \n",
       "23696                 NaN               NaN              0               NaN   \n",
       "23698                 NaN               NaN              0               NaN   \n",
       "\n",
       "       ponds_nearest  days_exposition  \n",
       "5                  0             55.0  \n",
       "8                  0            189.0  \n",
       "12                 0             90.0  \n",
       "22                 0             60.0  \n",
       "30                 0             63.0  \n",
       "...              ...              ...  \n",
       "23683              0              NaN  \n",
       "23692              0            413.0  \n",
       "23695              0             45.0  \n",
       "23696              0              NaN  \n",
       "23698              0              NaN  \n",
       "\n",
       "[5394 rows x 22 columns]"
      ]
     },
     "execution_count": 18,
     "metadata": {},
     "output_type": "execute_result"
    }
   ],
   "source": [
    "data[data['airports_nearest'].isna()]"
   ]
  },
  {
   "cell_type": "markdown",
   "metadata": {},
   "source": [
    "Так и есть! Предлагаю оставить пропуски как есть, и не заполнять не медианой, ни средним, это будет недостоверно."
   ]
  },
  {
   "cell_type": "markdown",
   "metadata": {},
   "source": [
    "**cityCenters_nearest**    float  5519 пропусков"
   ]
  },
  {
   "cell_type": "code",
   "execution_count": 19,
   "metadata": {},
   "outputs": [
    {
     "data": {
      "text/plain": [
       "count    17690.000000\n",
       "mean     14174.115941\n",
       "std       8624.148356\n",
       "min        181.000000\n",
       "25%       9184.000000\n",
       "50%      13094.000000\n",
       "75%      16293.000000\n",
       "max      65968.000000\n",
       "Name: cityCenters_nearest, dtype: float64"
      ]
     },
     "execution_count": 19,
     "metadata": {},
     "output_type": "execute_result"
    }
   ],
   "source": [
    "data['cityCenters_nearest'].describe()"
   ]
  },
  {
   "cell_type": "markdown",
   "metadata": {},
   "source": [
    "Картина аналогичная ситуации с аэропортом, - большой разброс данных, и 23% исходной выборки - пропуски.\n",
    "\n",
    "Это как чемодан без ручки - нести тяжело и выкинуть жалко.\n",
    "\n",
    "Причина пропусков думаю похожа. Если указана локация, особенно, если это область, и так понятно что до центра города далеко, собственники не заморачиваются подсчетами и не заполняют эту колонку. Проверим это."
   ]
  },
  {
   "cell_type": "code",
   "execution_count": 20,
   "metadata": {},
   "outputs": [
    {
     "data": {
      "text/html": [
       "<div>\n",
       "<style scoped>\n",
       "    .dataframe tbody tr th:only-of-type {\n",
       "        vertical-align: middle;\n",
       "    }\n",
       "\n",
       "    .dataframe tbody tr th {\n",
       "        vertical-align: top;\n",
       "    }\n",
       "\n",
       "    .dataframe thead th {\n",
       "        text-align: right;\n",
       "    }\n",
       "</style>\n",
       "<table border=\"1\" class=\"dataframe\">\n",
       "  <thead>\n",
       "    <tr style=\"text-align: right;\">\n",
       "      <th></th>\n",
       "      <th>total_images</th>\n",
       "      <th>last_price</th>\n",
       "      <th>total_area</th>\n",
       "      <th>first_day_exposition</th>\n",
       "      <th>rooms</th>\n",
       "      <th>ceiling_height</th>\n",
       "      <th>floors_total</th>\n",
       "      <th>living_area</th>\n",
       "      <th>floor</th>\n",
       "      <th>is_apartment</th>\n",
       "      <th>...</th>\n",
       "      <th>kitchen_area</th>\n",
       "      <th>balcony</th>\n",
       "      <th>locality_name</th>\n",
       "      <th>airports_nearest</th>\n",
       "      <th>cityCenters_nearest</th>\n",
       "      <th>parks_around3000</th>\n",
       "      <th>parks_nearest</th>\n",
       "      <th>ponds_around3000</th>\n",
       "      <th>ponds_nearest</th>\n",
       "      <th>days_exposition</th>\n",
       "    </tr>\n",
       "  </thead>\n",
       "  <tbody>\n",
       "    <tr>\n",
       "      <th>5</th>\n",
       "      <td>10</td>\n",
       "      <td>2890000.0</td>\n",
       "      <td>30.40</td>\n",
       "      <td>2018-09-10T00:00:00</td>\n",
       "      <td>1</td>\n",
       "      <td>2.7</td>\n",
       "      <td>12.0</td>\n",
       "      <td>14.40</td>\n",
       "      <td>5</td>\n",
       "      <td>False</td>\n",
       "      <td>...</td>\n",
       "      <td>9.10</td>\n",
       "      <td>0</td>\n",
       "      <td>городской посёлок Янино-1</td>\n",
       "      <td>NaN</td>\n",
       "      <td>NaN</td>\n",
       "      <td>NaN</td>\n",
       "      <td>0</td>\n",
       "      <td>NaN</td>\n",
       "      <td>0</td>\n",
       "      <td>55.0</td>\n",
       "    </tr>\n",
       "    <tr>\n",
       "      <th>8</th>\n",
       "      <td>20</td>\n",
       "      <td>2900000.0</td>\n",
       "      <td>33.16</td>\n",
       "      <td>2018-05-23T00:00:00</td>\n",
       "      <td>1</td>\n",
       "      <td>2.7</td>\n",
       "      <td>27.0</td>\n",
       "      <td>15.43</td>\n",
       "      <td>26</td>\n",
       "      <td>False</td>\n",
       "      <td>...</td>\n",
       "      <td>8.81</td>\n",
       "      <td>0</td>\n",
       "      <td>посёлок Мурино</td>\n",
       "      <td>NaN</td>\n",
       "      <td>NaN</td>\n",
       "      <td>NaN</td>\n",
       "      <td>0</td>\n",
       "      <td>NaN</td>\n",
       "      <td>0</td>\n",
       "      <td>189.0</td>\n",
       "    </tr>\n",
       "    <tr>\n",
       "      <th>12</th>\n",
       "      <td>10</td>\n",
       "      <td>3890000.0</td>\n",
       "      <td>54.00</td>\n",
       "      <td>2016-06-30T00:00:00</td>\n",
       "      <td>2</td>\n",
       "      <td>2.7</td>\n",
       "      <td>5.0</td>\n",
       "      <td>30.00</td>\n",
       "      <td>5</td>\n",
       "      <td>False</td>\n",
       "      <td>...</td>\n",
       "      <td>9.00</td>\n",
       "      <td>0</td>\n",
       "      <td>Сертолово</td>\n",
       "      <td>NaN</td>\n",
       "      <td>NaN</td>\n",
       "      <td>NaN</td>\n",
       "      <td>0</td>\n",
       "      <td>NaN</td>\n",
       "      <td>0</td>\n",
       "      <td>90.0</td>\n",
       "    </tr>\n",
       "    <tr>\n",
       "      <th>22</th>\n",
       "      <td>20</td>\n",
       "      <td>5000000.0</td>\n",
       "      <td>58.00</td>\n",
       "      <td>2017-04-24T00:00:00</td>\n",
       "      <td>2</td>\n",
       "      <td>2.8</td>\n",
       "      <td>25.0</td>\n",
       "      <td>30.00</td>\n",
       "      <td>15</td>\n",
       "      <td>False</td>\n",
       "      <td>...</td>\n",
       "      <td>11.00</td>\n",
       "      <td>2</td>\n",
       "      <td>деревня Кудрово</td>\n",
       "      <td>NaN</td>\n",
       "      <td>NaN</td>\n",
       "      <td>NaN</td>\n",
       "      <td>0</td>\n",
       "      <td>NaN</td>\n",
       "      <td>0</td>\n",
       "      <td>60.0</td>\n",
       "    </tr>\n",
       "    <tr>\n",
       "      <th>30</th>\n",
       "      <td>12</td>\n",
       "      <td>2200000.0</td>\n",
       "      <td>32.80</td>\n",
       "      <td>2018-02-19T00:00:00</td>\n",
       "      <td>1</td>\n",
       "      <td>2.7</td>\n",
       "      <td>9.0</td>\n",
       "      <td>NaN</td>\n",
       "      <td>2</td>\n",
       "      <td>False</td>\n",
       "      <td>...</td>\n",
       "      <td>NaN</td>\n",
       "      <td>0</td>\n",
       "      <td>Коммунар</td>\n",
       "      <td>NaN</td>\n",
       "      <td>NaN</td>\n",
       "      <td>NaN</td>\n",
       "      <td>0</td>\n",
       "      <td>NaN</td>\n",
       "      <td>0</td>\n",
       "      <td>63.0</td>\n",
       "    </tr>\n",
       "    <tr>\n",
       "      <th>...</th>\n",
       "      <td>...</td>\n",
       "      <td>...</td>\n",
       "      <td>...</td>\n",
       "      <td>...</td>\n",
       "      <td>...</td>\n",
       "      <td>...</td>\n",
       "      <td>...</td>\n",
       "      <td>...</td>\n",
       "      <td>...</td>\n",
       "      <td>...</td>\n",
       "      <td>...</td>\n",
       "      <td>...</td>\n",
       "      <td>...</td>\n",
       "      <td>...</td>\n",
       "      <td>...</td>\n",
       "      <td>...</td>\n",
       "      <td>...</td>\n",
       "      <td>...</td>\n",
       "      <td>...</td>\n",
       "      <td>...</td>\n",
       "      <td>...</td>\n",
       "    </tr>\n",
       "    <tr>\n",
       "      <th>23683</th>\n",
       "      <td>16</td>\n",
       "      <td>2100000.0</td>\n",
       "      <td>62.80</td>\n",
       "      <td>2018-09-18T00:00:00</td>\n",
       "      <td>4</td>\n",
       "      <td>2.5</td>\n",
       "      <td>5.0</td>\n",
       "      <td>45.50</td>\n",
       "      <td>3</td>\n",
       "      <td>False</td>\n",
       "      <td>...</td>\n",
       "      <td>5.50</td>\n",
       "      <td>0</td>\n",
       "      <td>посёлок Дзержинского</td>\n",
       "      <td>NaN</td>\n",
       "      <td>NaN</td>\n",
       "      <td>NaN</td>\n",
       "      <td>0</td>\n",
       "      <td>NaN</td>\n",
       "      <td>0</td>\n",
       "      <td>NaN</td>\n",
       "    </tr>\n",
       "    <tr>\n",
       "      <th>23692</th>\n",
       "      <td>2</td>\n",
       "      <td>1350000.0</td>\n",
       "      <td>30.00</td>\n",
       "      <td>2017-07-07T00:00:00</td>\n",
       "      <td>1</td>\n",
       "      <td>2.7</td>\n",
       "      <td>5.0</td>\n",
       "      <td>17.50</td>\n",
       "      <td>4</td>\n",
       "      <td>False</td>\n",
       "      <td>...</td>\n",
       "      <td>6.00</td>\n",
       "      <td>0</td>\n",
       "      <td>Тихвин</td>\n",
       "      <td>NaN</td>\n",
       "      <td>NaN</td>\n",
       "      <td>NaN</td>\n",
       "      <td>0</td>\n",
       "      <td>NaN</td>\n",
       "      <td>0</td>\n",
       "      <td>413.0</td>\n",
       "    </tr>\n",
       "    <tr>\n",
       "      <th>23695</th>\n",
       "      <td>14</td>\n",
       "      <td>3100000.0</td>\n",
       "      <td>59.00</td>\n",
       "      <td>2018-01-15T00:00:00</td>\n",
       "      <td>3</td>\n",
       "      <td>2.7</td>\n",
       "      <td>5.0</td>\n",
       "      <td>38.00</td>\n",
       "      <td>4</td>\n",
       "      <td>False</td>\n",
       "      <td>...</td>\n",
       "      <td>8.50</td>\n",
       "      <td>0</td>\n",
       "      <td>Тосно</td>\n",
       "      <td>NaN</td>\n",
       "      <td>NaN</td>\n",
       "      <td>NaN</td>\n",
       "      <td>0</td>\n",
       "      <td>NaN</td>\n",
       "      <td>0</td>\n",
       "      <td>45.0</td>\n",
       "    </tr>\n",
       "    <tr>\n",
       "      <th>23696</th>\n",
       "      <td>18</td>\n",
       "      <td>2500000.0</td>\n",
       "      <td>56.70</td>\n",
       "      <td>2018-02-11T00:00:00</td>\n",
       "      <td>2</td>\n",
       "      <td>2.7</td>\n",
       "      <td>3.0</td>\n",
       "      <td>29.70</td>\n",
       "      <td>1</td>\n",
       "      <td>False</td>\n",
       "      <td>...</td>\n",
       "      <td>NaN</td>\n",
       "      <td>0</td>\n",
       "      <td>село Рождествено</td>\n",
       "      <td>NaN</td>\n",
       "      <td>NaN</td>\n",
       "      <td>NaN</td>\n",
       "      <td>0</td>\n",
       "      <td>NaN</td>\n",
       "      <td>0</td>\n",
       "      <td>NaN</td>\n",
       "    </tr>\n",
       "    <tr>\n",
       "      <th>23698</th>\n",
       "      <td>4</td>\n",
       "      <td>1350000.0</td>\n",
       "      <td>32.30</td>\n",
       "      <td>2017-07-21T00:00:00</td>\n",
       "      <td>1</td>\n",
       "      <td>2.5</td>\n",
       "      <td>5.0</td>\n",
       "      <td>12.30</td>\n",
       "      <td>1</td>\n",
       "      <td>False</td>\n",
       "      <td>...</td>\n",
       "      <td>9.00</td>\n",
       "      <td>0</td>\n",
       "      <td>поселок Новый Учхоз</td>\n",
       "      <td>NaN</td>\n",
       "      <td>NaN</td>\n",
       "      <td>NaN</td>\n",
       "      <td>0</td>\n",
       "      <td>NaN</td>\n",
       "      <td>0</td>\n",
       "      <td>NaN</td>\n",
       "    </tr>\n",
       "  </tbody>\n",
       "</table>\n",
       "<p>5371 rows × 22 columns</p>\n",
       "</div>"
      ],
      "text/plain": [
       "       total_images  last_price  total_area first_day_exposition  rooms  \\\n",
       "5                10   2890000.0       30.40  2018-09-10T00:00:00      1   \n",
       "8                20   2900000.0       33.16  2018-05-23T00:00:00      1   \n",
       "12               10   3890000.0       54.00  2016-06-30T00:00:00      2   \n",
       "22               20   5000000.0       58.00  2017-04-24T00:00:00      2   \n",
       "30               12   2200000.0       32.80  2018-02-19T00:00:00      1   \n",
       "...             ...         ...         ...                  ...    ...   \n",
       "23683            16   2100000.0       62.80  2018-09-18T00:00:00      4   \n",
       "23692             2   1350000.0       30.00  2017-07-07T00:00:00      1   \n",
       "23695            14   3100000.0       59.00  2018-01-15T00:00:00      3   \n",
       "23696            18   2500000.0       56.70  2018-02-11T00:00:00      2   \n",
       "23698             4   1350000.0       32.30  2017-07-21T00:00:00      1   \n",
       "\n",
       "       ceiling_height  floors_total  living_area  floor  is_apartment  ...  \\\n",
       "5                 2.7          12.0        14.40      5         False  ...   \n",
       "8                 2.7          27.0        15.43     26         False  ...   \n",
       "12                2.7           5.0        30.00      5         False  ...   \n",
       "22                2.8          25.0        30.00     15         False  ...   \n",
       "30                2.7           9.0          NaN      2         False  ...   \n",
       "...               ...           ...          ...    ...           ...  ...   \n",
       "23683             2.5           5.0        45.50      3         False  ...   \n",
       "23692             2.7           5.0        17.50      4         False  ...   \n",
       "23695             2.7           5.0        38.00      4         False  ...   \n",
       "23696             2.7           3.0        29.70      1         False  ...   \n",
       "23698             2.5           5.0        12.30      1         False  ...   \n",
       "\n",
       "       kitchen_area  balcony              locality_name  airports_nearest  \\\n",
       "5              9.10        0  городской посёлок Янино-1               NaN   \n",
       "8              8.81        0             посёлок Мурино               NaN   \n",
       "12             9.00        0                  Сертолово               NaN   \n",
       "22            11.00        2            деревня Кудрово               NaN   \n",
       "30              NaN        0                   Коммунар               NaN   \n",
       "...             ...      ...                        ...               ...   \n",
       "23683          5.50        0       посёлок Дзержинского               NaN   \n",
       "23692          6.00        0                     Тихвин               NaN   \n",
       "23695          8.50        0                      Тосно               NaN   \n",
       "23696           NaN        0           село Рождествено               NaN   \n",
       "23698          9.00        0        поселок Новый Учхоз               NaN   \n",
       "\n",
       "      cityCenters_nearest  parks_around3000  parks_nearest  ponds_around3000  \\\n",
       "5                     NaN               NaN              0               NaN   \n",
       "8                     NaN               NaN              0               NaN   \n",
       "12                    NaN               NaN              0               NaN   \n",
       "22                    NaN               NaN              0               NaN   \n",
       "30                    NaN               NaN              0               NaN   \n",
       "...                   ...               ...            ...               ...   \n",
       "23683                 NaN               NaN              0               NaN   \n",
       "23692                 NaN               NaN              0               NaN   \n",
       "23695                 NaN               NaN              0               NaN   \n",
       "23696                 NaN               NaN              0               NaN   \n",
       "23698                 NaN               NaN              0               NaN   \n",
       "\n",
       "       ponds_nearest  days_exposition  \n",
       "5                  0             55.0  \n",
       "8                  0            189.0  \n",
       "12                 0             90.0  \n",
       "22                 0             60.0  \n",
       "30                 0             63.0  \n",
       "...              ...              ...  \n",
       "23683              0              NaN  \n",
       "23692              0            413.0  \n",
       "23695              0             45.0  \n",
       "23696              0              NaN  \n",
       "23698              0              NaN  \n",
       "\n",
       "[5371 rows x 22 columns]"
      ]
     },
     "execution_count": 20,
     "metadata": {},
     "output_type": "execute_result"
    }
   ],
   "source": [
    "data[data['cityCenters_nearest'].isna()]"
   ]
  },
  {
   "cell_type": "markdown",
   "metadata": {},
   "source": [
    "Ну вот, так оно и есть!\n",
    "\n",
    "Поэтому как и в случае с удаленностью от аэропорта, предлагаю оставить пропуски в покое."
   ]
  },
  {
   "cell_type": "markdown",
   "metadata": {},
   "source": [
    "**ponds_around3000**    float     5518 пропусков\n",
    "\n",
    "**parks_around3000**    float     5518 пропусков"
   ]
  },
  {
   "cell_type": "code",
   "execution_count": 21,
   "metadata": {},
   "outputs": [
    {
     "data": {
      "text/plain": [
       "0.0    8822\n",
       "1.0    5568\n",
       "2.0    1847\n",
       "3.0    1454\n",
       "Name: ponds_around3000, dtype: int64"
      ]
     },
     "execution_count": 21,
     "metadata": {},
     "output_type": "execute_result"
    }
   ],
   "source": [
    "data['ponds_around3000'].value_counts()"
   ]
  },
  {
   "cell_type": "code",
   "execution_count": 22,
   "metadata": {},
   "outputs": [
    {
     "data": {
      "text/plain": [
       "0.0    9861\n",
       "1.0    5499\n",
       "2.0    1699\n",
       "3.0     632\n",
       "Name: parks_around3000, dtype: int64"
      ]
     },
     "execution_count": 22,
     "metadata": {},
     "output_type": "execute_result"
    }
   ],
   "source": [
    "data['parks_around3000'].value_counts()"
   ]
  },
  {
   "cell_type": "markdown",
   "metadata": {},
   "source": [
    "Причина пропусков думаю отсутствие поблизости прудов и парков, и можно смело заполнять пропуски нулями. А тип данных изменить на 'int'"
   ]
  },
  {
   "cell_type": "code",
   "execution_count": 23,
   "metadata": {},
   "outputs": [
    {
     "name": "stdout",
     "output_type": "stream",
     "text": [
      "<class 'pandas.core.frame.DataFrame'>\n",
      "Int64Index: 23061 entries, 0 to 23698\n",
      "Data columns (total 22 columns):\n",
      " #   Column                Non-Null Count  Dtype  \n",
      "---  ------                --------------  -----  \n",
      " 0   total_images          23061 non-null  int64  \n",
      " 1   last_price            23061 non-null  float64\n",
      " 2   total_area            23061 non-null  float64\n",
      " 3   first_day_exposition  23061 non-null  object \n",
      " 4   rooms                 23061 non-null  int64  \n",
      " 5   ceiling_height        23061 non-null  float64\n",
      " 6   floors_total          22975 non-null  float64\n",
      " 7   living_area           21199 non-null  float64\n",
      " 8   floor                 23061 non-null  int64  \n",
      " 9   is_apartment          23061 non-null  bool   \n",
      " 10  studio                23061 non-null  bool   \n",
      " 11  open_plan             23061 non-null  bool   \n",
      " 12  kitchen_area          20811 non-null  float64\n",
      " 13  balcony               23061 non-null  int64  \n",
      " 14  locality_name         23013 non-null  object \n",
      " 15  airports_nearest      17667 non-null  float64\n",
      " 16  cityCenters_nearest   17690 non-null  float64\n",
      " 17  parks_around3000      23061 non-null  int64  \n",
      " 18  parks_nearest         23061 non-null  int64  \n",
      " 19  ponds_around3000      23061 non-null  int64  \n",
      " 20  ponds_nearest         23061 non-null  int64  \n",
      " 21  days_exposition       19999 non-null  float64\n",
      "dtypes: bool(3), float64(9), int64(8), object(2)\n",
      "memory usage: 3.6+ MB\n"
     ]
    }
   ],
   "source": [
    "data['ponds_around3000'] = data['ponds_around3000'].fillna(0).astype('int')\n",
    "data['parks_around3000'] = data['parks_around3000'].fillna(0).astype('int')\n",
    "data.info()"
   ]
  },
  {
   "cell_type": "markdown",
   "metadata": {},
   "source": [
    "**days_exposition**    float      3181 пропусков"
   ]
  },
  {
   "cell_type": "code",
   "execution_count": 24,
   "metadata": {},
   "outputs": [
    {
     "data": {
      "text/plain": [
       "count    19999.000000\n",
       "mean       180.748287\n",
       "std        219.815431\n",
       "min          1.000000\n",
       "25%         45.000000\n",
       "50%         95.000000\n",
       "75%        231.000000\n",
       "max       1572.000000\n",
       "Name: days_exposition, dtype: float64"
      ]
     },
     "execution_count": 24,
     "metadata": {},
     "output_type": "execute_result"
    }
   ],
   "source": [
    "data['days_exposition'].describe()"
   ]
  },
  {
   "cell_type": "markdown",
   "metadata": {},
   "source": [
    "макс значение - 1572 дня в продаже это 4,3 года! Я работаю в агентстве недвижимости, и могу сказать, что живые объявления столько в продаже не висят. Даже при изначально завышенной цене - не более двух лет, это прям максимум. Потом или снятие с продажи вообще, или замена другим объявлением.\n",
    "Чтобы в этом убедиться наглядно, построим диаграмму размаха. Хотя и по describe() видно, межвартильный размах  45 - 231 день, т.е. основная масса объявлений о продаже висит в рекламе от 1,5 мес до 7,5 мес."
   ]
  },
  {
   "cell_type": "code",
   "execution_count": 25,
   "metadata": {
    "scrolled": false
   },
   "outputs": [
    {
     "data": {
      "image/png": "[encoded data removed]",
      "text/plain": [
       "<Figure size 432x288 with 1 Axes>"
      ]
     },
     "metadata": {
      "needs_background": "light"
     },
     "output_type": "display_data"
    },
    {
     "data": {
      "image/png": "[encoded data removed]",
      "text/plain": [
       "<Figure size 432x288 with 1 Axes>"
      ]
     },
     "metadata": {
      "needs_background": "light"
     },
     "output_type": "display_data"
    }
   ],
   "source": [
    "data.boxplot(column='days_exposition')\n",
    "plt.show()\n",
    "data['days_exposition'].hist(bins=50)\n",
    "plt.show()"
   ]
  },
  {
   "cell_type": "markdown",
   "metadata": {},
   "source": [
    "<div class=\"alert alert-block alert-success\">✔️\n",
    "    \n",
    "\n",
    "__Комментарий от ревьюера №1__\n",
    "\n",
    "Здорово, что  проверяешь данные не \"на глаз\". Лучше посмотреть на выбросы и аномалии данных математически, и удалить их с помощью специального метода boxplot() "
   ]
  },
  {
   "cell_type": "markdown",
   "metadata": {},
   "source": [
    "Гистограмма похожа на распределение Пуасона, данные выглядять вполне достоверными.\n",
    "\n",
    "Сейчас mean=181  median=95\n",
    "\n",
    "Я предлагаю не перезаписывая данные (иначе потеряем пропуски) попробовать отсечь хвост выбросов за пределами верхнего уса диаграммы размаха. (231-45)*1.5+231 = 510\n",
    "\n",
    "И заново посмотреть описание данных столбца, а именно как изменились среднее и медиана."
   ]
  },
  {
   "cell_type": "code",
   "execution_count": 26,
   "metadata": {
    "scrolled": true
   },
   "outputs": [
    {
     "data": {
      "text/html": [
       "<div>\n",
       "<style scoped>\n",
       "    .dataframe tbody tr th:only-of-type {\n",
       "        vertical-align: middle;\n",
       "    }\n",
       "\n",
       "    .dataframe tbody tr th {\n",
       "        vertical-align: top;\n",
       "    }\n",
       "\n",
       "    .dataframe thead th {\n",
       "        text-align: right;\n",
       "    }\n",
       "</style>\n",
       "<table border=\"1\" class=\"dataframe\">\n",
       "  <thead>\n",
       "    <tr style=\"text-align: right;\">\n",
       "      <th></th>\n",
       "      <th>total_images</th>\n",
       "      <th>last_price</th>\n",
       "      <th>total_area</th>\n",
       "      <th>rooms</th>\n",
       "      <th>ceiling_height</th>\n",
       "      <th>floors_total</th>\n",
       "      <th>living_area</th>\n",
       "      <th>floor</th>\n",
       "      <th>kitchen_area</th>\n",
       "      <th>balcony</th>\n",
       "      <th>airports_nearest</th>\n",
       "      <th>cityCenters_nearest</th>\n",
       "      <th>parks_around3000</th>\n",
       "      <th>parks_nearest</th>\n",
       "      <th>ponds_around3000</th>\n",
       "      <th>ponds_nearest</th>\n",
       "      <th>days_exposition</th>\n",
       "    </tr>\n",
       "  </thead>\n",
       "  <tbody>\n",
       "    <tr>\n",
       "      <th>count</th>\n",
       "      <td>18359.000000</td>\n",
       "      <td>1.835900e+04</td>\n",
       "      <td>18359.000000</td>\n",
       "      <td>18359.00000</td>\n",
       "      <td>18359.000000</td>\n",
       "      <td>18289.000000</td>\n",
       "      <td>16776.000000</td>\n",
       "      <td>18359.000000</td>\n",
       "      <td>16426.000000</td>\n",
       "      <td>18359.000000</td>\n",
       "      <td>14151.000000</td>\n",
       "      <td>14170.000000</td>\n",
       "      <td>18359.000000</td>\n",
       "      <td>18359.000000</td>\n",
       "      <td>18359.000000</td>\n",
       "      <td>18359.000000</td>\n",
       "      <td>18359.000000</td>\n",
       "    </tr>\n",
       "    <tr>\n",
       "      <th>mean</th>\n",
       "      <td>9.654393</td>\n",
       "      <td>6.002465e+06</td>\n",
       "      <td>57.333322</td>\n",
       "      <td>1.98257</td>\n",
       "      <td>2.709630</td>\n",
       "      <td>10.888075</td>\n",
       "      <td>32.622294</td>\n",
       "      <td>5.988398</td>\n",
       "      <td>10.256657</td>\n",
       "      <td>0.509832</td>\n",
       "      <td>28905.527383</td>\n",
       "      <td>14432.874665</td>\n",
       "      <td>0.453892</td>\n",
       "      <td>162.494907</td>\n",
       "      <td>0.573506</td>\n",
       "      <td>199.527371</td>\n",
       "      <td>128.275451</td>\n",
       "    </tr>\n",
       "    <tr>\n",
       "      <th>std</th>\n",
       "      <td>5.638790</td>\n",
       "      <td>1.035129e+07</td>\n",
       "      <td>32.580187</td>\n",
       "      <td>1.03091</td>\n",
       "      <td>0.196638</td>\n",
       "      <td>6.669282</td>\n",
       "      <td>20.454624</td>\n",
       "      <td>4.942410</td>\n",
       "      <td>5.440118</td>\n",
       "      <td>0.759727</td>\n",
       "      <td>12808.321262</td>\n",
       "      <td>8465.448606</td>\n",
       "      <td>0.736380</td>\n",
       "      <td>302.501514</td>\n",
       "      <td>0.865398</td>\n",
       "      <td>306.794902</td>\n",
       "      <td>121.089857</td>\n",
       "    </tr>\n",
       "    <tr>\n",
       "      <th>min</th>\n",
       "      <td>0.000000</td>\n",
       "      <td>1.219000e+04</td>\n",
       "      <td>12.000000</td>\n",
       "      <td>0.00000</td>\n",
       "      <td>2.500000</td>\n",
       "      <td>1.000000</td>\n",
       "      <td>2.000000</td>\n",
       "      <td>1.000000</td>\n",
       "      <td>2.000000</td>\n",
       "      <td>0.000000</td>\n",
       "      <td>0.000000</td>\n",
       "      <td>208.000000</td>\n",
       "      <td>0.000000</td>\n",
       "      <td>0.000000</td>\n",
       "      <td>0.000000</td>\n",
       "      <td>0.000000</td>\n",
       "      <td>1.000000</td>\n",
       "    </tr>\n",
       "    <tr>\n",
       "      <th>25%</th>\n",
       "      <td>6.000000</td>\n",
       "      <td>3.350000e+06</td>\n",
       "      <td>39.000000</td>\n",
       "      <td>1.00000</td>\n",
       "      <td>2.600000</td>\n",
       "      <td>5.000000</td>\n",
       "      <td>18.000000</td>\n",
       "      <td>2.000000</td>\n",
       "      <td>7.000000</td>\n",
       "      <td>0.000000</td>\n",
       "      <td>18428.000000</td>\n",
       "      <td>9779.500000</td>\n",
       "      <td>0.000000</td>\n",
       "      <td>0.000000</td>\n",
       "      <td>0.000000</td>\n",
       "      <td>0.000000</td>\n",
       "      <td>41.000000</td>\n",
       "    </tr>\n",
       "    <tr>\n",
       "      <th>50%</th>\n",
       "      <td>9.000000</td>\n",
       "      <td>4.450000e+06</td>\n",
       "      <td>50.000000</td>\n",
       "      <td>2.00000</td>\n",
       "      <td>2.700000</td>\n",
       "      <td>9.000000</td>\n",
       "      <td>29.400000</td>\n",
       "      <td>4.000000</td>\n",
       "      <td>9.000000</td>\n",
       "      <td>0.000000</td>\n",
       "      <td>26902.000000</td>\n",
       "      <td>13268.000000</td>\n",
       "      <td>0.000000</td>\n",
       "      <td>0.000000</td>\n",
       "      <td>0.000000</td>\n",
       "      <td>0.000000</td>\n",
       "      <td>85.000000</td>\n",
       "    </tr>\n",
       "    <tr>\n",
       "      <th>75%</th>\n",
       "      <td>14.000000</td>\n",
       "      <td>6.300000e+06</td>\n",
       "      <td>66.000000</td>\n",
       "      <td>3.00000</td>\n",
       "      <td>2.700000</td>\n",
       "      <td>16.000000</td>\n",
       "      <td>40.000000</td>\n",
       "      <td>8.000000</td>\n",
       "      <td>11.500000</td>\n",
       "      <td>1.000000</td>\n",
       "      <td>37434.000000</td>\n",
       "      <td>16453.000000</td>\n",
       "      <td>1.000000</td>\n",
       "      <td>284.000000</td>\n",
       "      <td>1.000000</td>\n",
       "      <td>392.000000</td>\n",
       "      <td>182.000000</td>\n",
       "    </tr>\n",
       "    <tr>\n",
       "      <th>max</th>\n",
       "      <td>50.000000</td>\n",
       "      <td>7.630000e+08</td>\n",
       "      <td>900.000000</td>\n",
       "      <td>19.00000</td>\n",
       "      <td>5.000000</td>\n",
       "      <td>60.000000</td>\n",
       "      <td>409.700000</td>\n",
       "      <td>33.000000</td>\n",
       "      <td>112.000000</td>\n",
       "      <td>2.000000</td>\n",
       "      <td>83758.000000</td>\n",
       "      <td>64857.000000</td>\n",
       "      <td>3.000000</td>\n",
       "      <td>3190.000000</td>\n",
       "      <td>3.000000</td>\n",
       "      <td>1344.000000</td>\n",
       "      <td>510.000000</td>\n",
       "    </tr>\n",
       "  </tbody>\n",
       "</table>\n",
       "</div>"
      ],
      "text/plain": [
       "       total_images    last_price    total_area        rooms  ceiling_height  \\\n",
       "count  18359.000000  1.835900e+04  18359.000000  18359.00000    18359.000000   \n",
       "mean       9.654393  6.002465e+06     57.333322      1.98257        2.709630   \n",
       "std        5.638790  1.035129e+07     32.580187      1.03091        0.196638   \n",
       "min        0.000000  1.219000e+04     12.000000      0.00000        2.500000   \n",
       "25%        6.000000  3.350000e+06     39.000000      1.00000        2.600000   \n",
       "50%        9.000000  4.450000e+06     50.000000      2.00000        2.700000   \n",
       "75%       14.000000  6.300000e+06     66.000000      3.00000        2.700000   \n",
       "max       50.000000  7.630000e+08    900.000000     19.00000        5.000000   \n",
       "\n",
       "       floors_total   living_area         floor  kitchen_area       balcony  \\\n",
       "count  18289.000000  16776.000000  18359.000000  16426.000000  18359.000000   \n",
       "mean      10.888075     32.622294      5.988398     10.256657      0.509832   \n",
       "std        6.669282     20.454624      4.942410      5.440118      0.759727   \n",
       "min        1.000000      2.000000      1.000000      2.000000      0.000000   \n",
       "25%        5.000000     18.000000      2.000000      7.000000      0.000000   \n",
       "50%        9.000000     29.400000      4.000000      9.000000      0.000000   \n",
       "75%       16.000000     40.000000      8.000000     11.500000      1.000000   \n",
       "max       60.000000    409.700000     33.000000    112.000000      2.000000   \n",
       "\n",
       "       airports_nearest  cityCenters_nearest  parks_around3000  parks_nearest  \\\n",
       "count      14151.000000         14170.000000      18359.000000   18359.000000   \n",
       "mean       28905.527383         14432.874665          0.453892     162.494907   \n",
       "std        12808.321262          8465.448606          0.736380     302.501514   \n",
       "min            0.000000           208.000000          0.000000       0.000000   \n",
       "25%        18428.000000          9779.500000          0.000000       0.000000   \n",
       "50%        26902.000000         13268.000000          0.000000       0.000000   \n",
       "75%        37434.000000         16453.000000          1.000000     284.000000   \n",
       "max        83758.000000         64857.000000          3.000000    3190.000000   \n",
       "\n",
       "       ponds_around3000  ponds_nearest  days_exposition  \n",
       "count      18359.000000   18359.000000     18359.000000  \n",
       "mean           0.573506     199.527371       128.275451  \n",
       "std            0.865398     306.794902       121.089857  \n",
       "min            0.000000       0.000000         1.000000  \n",
       "25%            0.000000       0.000000        41.000000  \n",
       "50%            0.000000       0.000000        85.000000  \n",
       "75%            1.000000     392.000000       182.000000  \n",
       "max            3.000000    1344.000000       510.000000  "
      ]
     },
     "execution_count": 26,
     "metadata": {},
     "output_type": "execute_result"
    }
   ],
   "source": [
    "data.query('days_exposition < 511').describe()"
   ]
  },
  {
   "cell_type": "markdown",
   "metadata": {},
   "source": [
    "Теперь mean=128 median=85\n",
    "\n",
    "За счет игнорирования выбросов они существенно сблизились, выборка стала однороднее.\n",
    "\n",
    "Считаю правильным заменить пропуски на среднее 128. Чуть больше 4 мес это наиболее вероятный (по опыту) срок продажи квартиры в городе-милионнике при прочих равных условиях."
   ]
  },
  {
   "cell_type": "code",
   "execution_count": 27,
   "metadata": {
    "scrolled": true
   },
   "outputs": [
    {
     "name": "stdout",
     "output_type": "stream",
     "text": [
      "<class 'pandas.core.frame.DataFrame'>\n",
      "Int64Index: 23061 entries, 0 to 23698\n",
      "Data columns (total 22 columns):\n",
      " #   Column                Non-Null Count  Dtype  \n",
      "---  ------                --------------  -----  \n",
      " 0   total_images          23061 non-null  int64  \n",
      " 1   last_price            23061 non-null  float64\n",
      " 2   total_area            23061 non-null  float64\n",
      " 3   first_day_exposition  23061 non-null  object \n",
      " 4   rooms                 23061 non-null  int64  \n",
      " 5   ceiling_height        23061 non-null  float64\n",
      " 6   floors_total          22975 non-null  float64\n",
      " 7   living_area           21199 non-null  float64\n",
      " 8   floor                 23061 non-null  int64  \n",
      " 9   is_apartment          23061 non-null  bool   \n",
      " 10  studio                23061 non-null  bool   \n",
      " 11  open_plan             23061 non-null  bool   \n",
      " 12  kitchen_area          20811 non-null  float64\n",
      " 13  balcony               23061 non-null  int64  \n",
      " 14  locality_name         23013 non-null  object \n",
      " 15  airports_nearest      17667 non-null  float64\n",
      " 16  cityCenters_nearest   17690 non-null  float64\n",
      " 17  parks_around3000      23061 non-null  int64  \n",
      " 18  parks_nearest         23061 non-null  int64  \n",
      " 19  ponds_around3000      23061 non-null  int64  \n",
      " 20  ponds_nearest         23061 non-null  int64  \n",
      " 21  days_exposition       23061 non-null  int64  \n",
      "dtypes: bool(3), float64(8), int64(9), object(2)\n",
      "memory usage: 3.6+ MB\n"
     ]
    }
   ],
   "source": [
    "# заменим пропуски и поменяем тип данных\n",
    "data['days_exposition'] = data['days_exposition'].fillna(128).astype('int')\n",
    "data.info()"
   ]
  },
  {
   "cell_type": "code",
   "execution_count": 28,
   "metadata": {},
   "outputs": [
    {
     "name": "stdout",
     "output_type": "stream",
     "text": [
      "<class 'pandas.core.frame.DataFrame'>\n",
      "Int64Index: 21421 entries, 0 to 23698\n",
      "Data columns (total 22 columns):\n",
      " #   Column                Non-Null Count  Dtype  \n",
      "---  ------                --------------  -----  \n",
      " 0   total_images          21421 non-null  int64  \n",
      " 1   last_price            21421 non-null  float64\n",
      " 2   total_area            21421 non-null  float64\n",
      " 3   first_day_exposition  21421 non-null  object \n",
      " 4   rooms                 21421 non-null  int64  \n",
      " 5   ceiling_height        21421 non-null  float64\n",
      " 6   floors_total          21342 non-null  float64\n",
      " 7   living_area           19648 non-null  float64\n",
      " 8   floor                 21421 non-null  int64  \n",
      " 9   is_apartment          21421 non-null  bool   \n",
      " 10  studio                21421 non-null  bool   \n",
      " 11  open_plan             21421 non-null  bool   \n",
      " 12  kitchen_area          19289 non-null  float64\n",
      " 13  balcony               21421 non-null  int64  \n",
      " 14  locality_name         21378 non-null  object \n",
      " 15  airports_nearest      16375 non-null  float64\n",
      " 16  cityCenters_nearest   16395 non-null  float64\n",
      " 17  parks_around3000      21421 non-null  int64  \n",
      " 18  parks_nearest         21421 non-null  int64  \n",
      " 19  ponds_around3000      21421 non-null  int64  \n",
      " 20  ponds_nearest         21421 non-null  int64  \n",
      " 21  days_exposition       21421 non-null  int64  \n",
      "dtypes: bool(3), float64(8), int64(9), object(2)\n",
      "memory usage: 3.3+ MB\n"
     ]
    }
   ],
   "source": [
    "# теперь до конца отрежем хвост выбросов\n",
    "data = data.query('days_exposition < 511')\n",
    "data.info()"
   ]
  },
  {
   "cell_type": "markdown",
   "metadata": {},
   "source": [
    "**kitchen_area**     float        2278 пропусков"
   ]
  },
  {
   "cell_type": "markdown",
   "metadata": {},
   "source": [
    "**living_area**    float          1903 пропусков"
   ]
  },
  {
   "cell_type": "markdown",
   "metadata": {},
   "source": [
    "Исследуем причину пропусков"
   ]
  },
  {
   "cell_type": "code",
   "execution_count": 29,
   "metadata": {},
   "outputs": [
    {
     "data": {
      "text/html": [
       "<div>\n",
       "<style scoped>\n",
       "    .dataframe tbody tr th:only-of-type {\n",
       "        vertical-align: middle;\n",
       "    }\n",
       "\n",
       "    .dataframe tbody tr th {\n",
       "        vertical-align: top;\n",
       "    }\n",
       "\n",
       "    .dataframe thead th {\n",
       "        text-align: right;\n",
       "    }\n",
       "</style>\n",
       "<table border=\"1\" class=\"dataframe\">\n",
       "  <thead>\n",
       "    <tr style=\"text-align: right;\">\n",
       "      <th></th>\n",
       "      <th>total_images</th>\n",
       "      <th>last_price</th>\n",
       "      <th>total_area</th>\n",
       "      <th>first_day_exposition</th>\n",
       "      <th>rooms</th>\n",
       "      <th>ceiling_height</th>\n",
       "      <th>floors_total</th>\n",
       "      <th>living_area</th>\n",
       "      <th>floor</th>\n",
       "      <th>is_apartment</th>\n",
       "      <th>...</th>\n",
       "      <th>kitchen_area</th>\n",
       "      <th>balcony</th>\n",
       "      <th>locality_name</th>\n",
       "      <th>airports_nearest</th>\n",
       "      <th>cityCenters_nearest</th>\n",
       "      <th>parks_around3000</th>\n",
       "      <th>parks_nearest</th>\n",
       "      <th>ponds_around3000</th>\n",
       "      <th>ponds_nearest</th>\n",
       "      <th>days_exposition</th>\n",
       "    </tr>\n",
       "  </thead>\n",
       "  <tbody>\n",
       "    <tr>\n",
       "      <th>3</th>\n",
       "      <td>0</td>\n",
       "      <td>64900000.0</td>\n",
       "      <td>159.0</td>\n",
       "      <td>2015-07-24T00:00:00</td>\n",
       "      <td>3</td>\n",
       "      <td>2.7</td>\n",
       "      <td>14.0</td>\n",
       "      <td>NaN</td>\n",
       "      <td>9</td>\n",
       "      <td>False</td>\n",
       "      <td>...</td>\n",
       "      <td>NaN</td>\n",
       "      <td>0</td>\n",
       "      <td>Санкт-Петербург</td>\n",
       "      <td>28098.0</td>\n",
       "      <td>6800.0</td>\n",
       "      <td>2</td>\n",
       "      <td>84</td>\n",
       "      <td>3</td>\n",
       "      <td>234</td>\n",
       "      <td>424</td>\n",
       "    </tr>\n",
       "    <tr>\n",
       "      <th>30</th>\n",
       "      <td>12</td>\n",
       "      <td>2200000.0</td>\n",
       "      <td>32.8</td>\n",
       "      <td>2018-02-19T00:00:00</td>\n",
       "      <td>1</td>\n",
       "      <td>2.7</td>\n",
       "      <td>9.0</td>\n",
       "      <td>NaN</td>\n",
       "      <td>2</td>\n",
       "      <td>False</td>\n",
       "      <td>...</td>\n",
       "      <td>NaN</td>\n",
       "      <td>0</td>\n",
       "      <td>Коммунар</td>\n",
       "      <td>NaN</td>\n",
       "      <td>NaN</td>\n",
       "      <td>0</td>\n",
       "      <td>0</td>\n",
       "      <td>0</td>\n",
       "      <td>0</td>\n",
       "      <td>63</td>\n",
       "    </tr>\n",
       "    <tr>\n",
       "      <th>37</th>\n",
       "      <td>10</td>\n",
       "      <td>1990000.0</td>\n",
       "      <td>45.8</td>\n",
       "      <td>2017-10-28T00:00:00</td>\n",
       "      <td>2</td>\n",
       "      <td>2.5</td>\n",
       "      <td>5.0</td>\n",
       "      <td>NaN</td>\n",
       "      <td>1</td>\n",
       "      <td>False</td>\n",
       "      <td>...</td>\n",
       "      <td>NaN</td>\n",
       "      <td>0</td>\n",
       "      <td>поселок городского типа Красный Бор</td>\n",
       "      <td>NaN</td>\n",
       "      <td>NaN</td>\n",
       "      <td>0</td>\n",
       "      <td>0</td>\n",
       "      <td>0</td>\n",
       "      <td>0</td>\n",
       "      <td>196</td>\n",
       "    </tr>\n",
       "    <tr>\n",
       "      <th>44</th>\n",
       "      <td>13</td>\n",
       "      <td>5350000.0</td>\n",
       "      <td>40.0</td>\n",
       "      <td>2018-11-18T00:00:00</td>\n",
       "      <td>1</td>\n",
       "      <td>2.7</td>\n",
       "      <td>22.0</td>\n",
       "      <td>NaN</td>\n",
       "      <td>3</td>\n",
       "      <td>False</td>\n",
       "      <td>...</td>\n",
       "      <td>NaN</td>\n",
       "      <td>1</td>\n",
       "      <td>Санкт-Петербург</td>\n",
       "      <td>30471.0</td>\n",
       "      <td>11603.0</td>\n",
       "      <td>1</td>\n",
       "      <td>620</td>\n",
       "      <td>1</td>\n",
       "      <td>1152</td>\n",
       "      <td>128</td>\n",
       "    </tr>\n",
       "    <tr>\n",
       "      <th>59</th>\n",
       "      <td>15</td>\n",
       "      <td>6300000.0</td>\n",
       "      <td>46.5</td>\n",
       "      <td>2017-03-06T00:00:00</td>\n",
       "      <td>1</td>\n",
       "      <td>2.7</td>\n",
       "      <td>13.0</td>\n",
       "      <td>NaN</td>\n",
       "      <td>13</td>\n",
       "      <td>False</td>\n",
       "      <td>...</td>\n",
       "      <td>NaN</td>\n",
       "      <td>0</td>\n",
       "      <td>Санкт-Петербург</td>\n",
       "      <td>11125.0</td>\n",
       "      <td>14501.0</td>\n",
       "      <td>0</td>\n",
       "      <td>0</td>\n",
       "      <td>0</td>\n",
       "      <td>0</td>\n",
       "      <td>336</td>\n",
       "    </tr>\n",
       "    <tr>\n",
       "      <th>...</th>\n",
       "      <td>...</td>\n",
       "      <td>...</td>\n",
       "      <td>...</td>\n",
       "      <td>...</td>\n",
       "      <td>...</td>\n",
       "      <td>...</td>\n",
       "      <td>...</td>\n",
       "      <td>...</td>\n",
       "      <td>...</td>\n",
       "      <td>...</td>\n",
       "      <td>...</td>\n",
       "      <td>...</td>\n",
       "      <td>...</td>\n",
       "      <td>...</td>\n",
       "      <td>...</td>\n",
       "      <td>...</td>\n",
       "      <td>...</td>\n",
       "      <td>...</td>\n",
       "      <td>...</td>\n",
       "      <td>...</td>\n",
       "      <td>...</td>\n",
       "    </tr>\n",
       "    <tr>\n",
       "      <th>23642</th>\n",
       "      <td>14</td>\n",
       "      <td>5950000.0</td>\n",
       "      <td>80.3</td>\n",
       "      <td>2018-07-03T00:00:00</td>\n",
       "      <td>3</td>\n",
       "      <td>2.7</td>\n",
       "      <td>12.0</td>\n",
       "      <td>NaN</td>\n",
       "      <td>5</td>\n",
       "      <td>False</td>\n",
       "      <td>...</td>\n",
       "      <td>NaN</td>\n",
       "      <td>0</td>\n",
       "      <td>Колпино</td>\n",
       "      <td>27933.0</td>\n",
       "      <td>33719.0</td>\n",
       "      <td>0</td>\n",
       "      <td>0</td>\n",
       "      <td>2</td>\n",
       "      <td>562</td>\n",
       "      <td>60</td>\n",
       "    </tr>\n",
       "    <tr>\n",
       "      <th>23663</th>\n",
       "      <td>12</td>\n",
       "      <td>6400000.0</td>\n",
       "      <td>88.0</td>\n",
       "      <td>2018-01-12T00:00:00</td>\n",
       "      <td>4</td>\n",
       "      <td>2.6</td>\n",
       "      <td>10.0</td>\n",
       "      <td>NaN</td>\n",
       "      <td>1</td>\n",
       "      <td>False</td>\n",
       "      <td>...</td>\n",
       "      <td>NaN</td>\n",
       "      <td>0</td>\n",
       "      <td>Санкт-Петербург</td>\n",
       "      <td>33642.0</td>\n",
       "      <td>13943.0</td>\n",
       "      <td>0</td>\n",
       "      <td>0</td>\n",
       "      <td>2</td>\n",
       "      <td>844</td>\n",
       "      <td>59</td>\n",
       "    </tr>\n",
       "    <tr>\n",
       "      <th>23670</th>\n",
       "      <td>9</td>\n",
       "      <td>2450000.0</td>\n",
       "      <td>45.6</td>\n",
       "      <td>2018-02-08T00:00:00</td>\n",
       "      <td>1</td>\n",
       "      <td>2.8</td>\n",
       "      <td>9.0</td>\n",
       "      <td>NaN</td>\n",
       "      <td>2</td>\n",
       "      <td>False</td>\n",
       "      <td>...</td>\n",
       "      <td>NaN</td>\n",
       "      <td>0</td>\n",
       "      <td>поселок городского типа Синявино</td>\n",
       "      <td>NaN</td>\n",
       "      <td>NaN</td>\n",
       "      <td>0</td>\n",
       "      <td>0</td>\n",
       "      <td>0</td>\n",
       "      <td>0</td>\n",
       "      <td>45</td>\n",
       "    </tr>\n",
       "    <tr>\n",
       "      <th>23679</th>\n",
       "      <td>0</td>\n",
       "      <td>2500000.0</td>\n",
       "      <td>35.0</td>\n",
       "      <td>2017-12-08T00:00:00</td>\n",
       "      <td>1</td>\n",
       "      <td>2.7</td>\n",
       "      <td>9.0</td>\n",
       "      <td>NaN</td>\n",
       "      <td>4</td>\n",
       "      <td>False</td>\n",
       "      <td>...</td>\n",
       "      <td>NaN</td>\n",
       "      <td>0</td>\n",
       "      <td>Сосновый Бор</td>\n",
       "      <td>NaN</td>\n",
       "      <td>NaN</td>\n",
       "      <td>0</td>\n",
       "      <td>0</td>\n",
       "      <td>0</td>\n",
       "      <td>0</td>\n",
       "      <td>45</td>\n",
       "    </tr>\n",
       "    <tr>\n",
       "      <th>23696</th>\n",
       "      <td>18</td>\n",
       "      <td>2500000.0</td>\n",
       "      <td>56.7</td>\n",
       "      <td>2018-02-11T00:00:00</td>\n",
       "      <td>2</td>\n",
       "      <td>2.7</td>\n",
       "      <td>3.0</td>\n",
       "      <td>29.7</td>\n",
       "      <td>1</td>\n",
       "      <td>False</td>\n",
       "      <td>...</td>\n",
       "      <td>NaN</td>\n",
       "      <td>0</td>\n",
       "      <td>село Рождествено</td>\n",
       "      <td>NaN</td>\n",
       "      <td>NaN</td>\n",
       "      <td>0</td>\n",
       "      <td>0</td>\n",
       "      <td>0</td>\n",
       "      <td>0</td>\n",
       "      <td>128</td>\n",
       "    </tr>\n",
       "  </tbody>\n",
       "</table>\n",
       "<p>2132 rows × 22 columns</p>\n",
       "</div>"
      ],
      "text/plain": [
       "       total_images  last_price  total_area first_day_exposition  rooms  \\\n",
       "3                 0  64900000.0       159.0  2015-07-24T00:00:00      3   \n",
       "30               12   2200000.0        32.8  2018-02-19T00:00:00      1   \n",
       "37               10   1990000.0        45.8  2017-10-28T00:00:00      2   \n",
       "44               13   5350000.0        40.0  2018-11-18T00:00:00      1   \n",
       "59               15   6300000.0        46.5  2017-03-06T00:00:00      1   \n",
       "...             ...         ...         ...                  ...    ...   \n",
       "23642            14   5950000.0        80.3  2018-07-03T00:00:00      3   \n",
       "23663            12   6400000.0        88.0  2018-01-12T00:00:00      4   \n",
       "23670             9   2450000.0        45.6  2018-02-08T00:00:00      1   \n",
       "23679             0   2500000.0        35.0  2017-12-08T00:00:00      1   \n",
       "23696            18   2500000.0        56.7  2018-02-11T00:00:00      2   \n",
       "\n",
       "       ceiling_height  floors_total  living_area  floor  is_apartment  ...  \\\n",
       "3                 2.7          14.0          NaN      9         False  ...   \n",
       "30                2.7           9.0          NaN      2         False  ...   \n",
       "37                2.5           5.0          NaN      1         False  ...   \n",
       "44                2.7          22.0          NaN      3         False  ...   \n",
       "59                2.7          13.0          NaN     13         False  ...   \n",
       "...               ...           ...          ...    ...           ...  ...   \n",
       "23642             2.7          12.0          NaN      5         False  ...   \n",
       "23663             2.6          10.0          NaN      1         False  ...   \n",
       "23670             2.8           9.0          NaN      2         False  ...   \n",
       "23679             2.7           9.0          NaN      4         False  ...   \n",
       "23696             2.7           3.0         29.7      1         False  ...   \n",
       "\n",
       "       kitchen_area  balcony                        locality_name  \\\n",
       "3               NaN        0                      Санкт-Петербург   \n",
       "30              NaN        0                             Коммунар   \n",
       "37              NaN        0  поселок городского типа Красный Бор   \n",
       "44              NaN        1                      Санкт-Петербург   \n",
       "59              NaN        0                      Санкт-Петербург   \n",
       "...             ...      ...                                  ...   \n",
       "23642           NaN        0                              Колпино   \n",
       "23663           NaN        0                      Санкт-Петербург   \n",
       "23670           NaN        0     поселок городского типа Синявино   \n",
       "23679           NaN        0                         Сосновый Бор   \n",
       "23696           NaN        0                     село Рождествено   \n",
       "\n",
       "       airports_nearest cityCenters_nearest  parks_around3000  parks_nearest  \\\n",
       "3               28098.0              6800.0                 2             84   \n",
       "30                  NaN                 NaN                 0              0   \n",
       "37                  NaN                 NaN                 0              0   \n",
       "44              30471.0             11603.0                 1            620   \n",
       "59              11125.0             14501.0                 0              0   \n",
       "...                 ...                 ...               ...            ...   \n",
       "23642           27933.0             33719.0                 0              0   \n",
       "23663           33642.0             13943.0                 0              0   \n",
       "23670               NaN                 NaN                 0              0   \n",
       "23679               NaN                 NaN                 0              0   \n",
       "23696               NaN                 NaN                 0              0   \n",
       "\n",
       "       ponds_around3000  ponds_nearest  days_exposition  \n",
       "3                     3            234              424  \n",
       "30                    0              0               63  \n",
       "37                    0              0              196  \n",
       "44                    1           1152              128  \n",
       "59                    0              0              336  \n",
       "...                 ...            ...              ...  \n",
       "23642                 2            562               60  \n",
       "23663                 2            844               59  \n",
       "23670                 0              0               45  \n",
       "23679                 0              0               45  \n",
       "23696                 0              0              128  \n",
       "\n",
       "[2132 rows x 22 columns]"
      ]
     },
     "execution_count": 29,
     "metadata": {},
     "output_type": "execute_result"
    }
   ],
   "source": [
    "data.query('kitchen_area.isna()')"
   ]
  },
  {
   "cell_type": "markdown",
   "metadata": {},
   "source": [
    "Пропуски в kitchen_area кажется дублируют пропуски в living_area, airports_nearest,\tcityCenters_nearest. Остальные колонки выглядят вполне адекватно, но возможно потому, что пропуски в них мы уже заполнили. Тем не менее проверим это наше предположение"
   ]
  },
  {
   "cell_type": "code",
   "execution_count": 30,
   "metadata": {
    "scrolled": true
   },
   "outputs": [
    {
     "data": {
      "text/html": [
       "<div>\n",
       "<style scoped>\n",
       "    .dataframe tbody tr th:only-of-type {\n",
       "        vertical-align: middle;\n",
       "    }\n",
       "\n",
       "    .dataframe tbody tr th {\n",
       "        vertical-align: top;\n",
       "    }\n",
       "\n",
       "    .dataframe thead th {\n",
       "        text-align: right;\n",
       "    }\n",
       "</style>\n",
       "<table border=\"1\" class=\"dataframe\">\n",
       "  <thead>\n",
       "    <tr style=\"text-align: right;\">\n",
       "      <th></th>\n",
       "      <th>total_images</th>\n",
       "      <th>last_price</th>\n",
       "      <th>total_area</th>\n",
       "      <th>first_day_exposition</th>\n",
       "      <th>rooms</th>\n",
       "      <th>ceiling_height</th>\n",
       "      <th>floors_total</th>\n",
       "      <th>living_area</th>\n",
       "      <th>floor</th>\n",
       "      <th>is_apartment</th>\n",
       "      <th>...</th>\n",
       "      <th>kitchen_area</th>\n",
       "      <th>balcony</th>\n",
       "      <th>locality_name</th>\n",
       "      <th>airports_nearest</th>\n",
       "      <th>cityCenters_nearest</th>\n",
       "      <th>parks_around3000</th>\n",
       "      <th>parks_nearest</th>\n",
       "      <th>ponds_around3000</th>\n",
       "      <th>ponds_nearest</th>\n",
       "      <th>days_exposition</th>\n",
       "    </tr>\n",
       "  </thead>\n",
       "  <tbody>\n",
       "    <tr>\n",
       "      <th>3</th>\n",
       "      <td>0</td>\n",
       "      <td>64900000.0</td>\n",
       "      <td>159.0</td>\n",
       "      <td>2015-07-24T00:00:00</td>\n",
       "      <td>3</td>\n",
       "      <td>2.7</td>\n",
       "      <td>14.0</td>\n",
       "      <td>NaN</td>\n",
       "      <td>9</td>\n",
       "      <td>False</td>\n",
       "      <td>...</td>\n",
       "      <td>NaN</td>\n",
       "      <td>0</td>\n",
       "      <td>Санкт-Петербург</td>\n",
       "      <td>28098.0</td>\n",
       "      <td>6800.0</td>\n",
       "      <td>2</td>\n",
       "      <td>84</td>\n",
       "      <td>3</td>\n",
       "      <td>234</td>\n",
       "      <td>424</td>\n",
       "    </tr>\n",
       "    <tr>\n",
       "      <th>30</th>\n",
       "      <td>12</td>\n",
       "      <td>2200000.0</td>\n",
       "      <td>32.8</td>\n",
       "      <td>2018-02-19T00:00:00</td>\n",
       "      <td>1</td>\n",
       "      <td>2.7</td>\n",
       "      <td>9.0</td>\n",
       "      <td>NaN</td>\n",
       "      <td>2</td>\n",
       "      <td>False</td>\n",
       "      <td>...</td>\n",
       "      <td>NaN</td>\n",
       "      <td>0</td>\n",
       "      <td>Коммунар</td>\n",
       "      <td>NaN</td>\n",
       "      <td>NaN</td>\n",
       "      <td>0</td>\n",
       "      <td>0</td>\n",
       "      <td>0</td>\n",
       "      <td>0</td>\n",
       "      <td>63</td>\n",
       "    </tr>\n",
       "    <tr>\n",
       "      <th>37</th>\n",
       "      <td>10</td>\n",
       "      <td>1990000.0</td>\n",
       "      <td>45.8</td>\n",
       "      <td>2017-10-28T00:00:00</td>\n",
       "      <td>2</td>\n",
       "      <td>2.5</td>\n",
       "      <td>5.0</td>\n",
       "      <td>NaN</td>\n",
       "      <td>1</td>\n",
       "      <td>False</td>\n",
       "      <td>...</td>\n",
       "      <td>NaN</td>\n",
       "      <td>0</td>\n",
       "      <td>поселок городского типа Красный Бор</td>\n",
       "      <td>NaN</td>\n",
       "      <td>NaN</td>\n",
       "      <td>0</td>\n",
       "      <td>0</td>\n",
       "      <td>0</td>\n",
       "      <td>0</td>\n",
       "      <td>196</td>\n",
       "    </tr>\n",
       "    <tr>\n",
       "      <th>44</th>\n",
       "      <td>13</td>\n",
       "      <td>5350000.0</td>\n",
       "      <td>40.0</td>\n",
       "      <td>2018-11-18T00:00:00</td>\n",
       "      <td>1</td>\n",
       "      <td>2.7</td>\n",
       "      <td>22.0</td>\n",
       "      <td>NaN</td>\n",
       "      <td>3</td>\n",
       "      <td>False</td>\n",
       "      <td>...</td>\n",
       "      <td>NaN</td>\n",
       "      <td>1</td>\n",
       "      <td>Санкт-Петербург</td>\n",
       "      <td>30471.0</td>\n",
       "      <td>11603.0</td>\n",
       "      <td>1</td>\n",
       "      <td>620</td>\n",
       "      <td>1</td>\n",
       "      <td>1152</td>\n",
       "      <td>128</td>\n",
       "    </tr>\n",
       "    <tr>\n",
       "      <th>59</th>\n",
       "      <td>15</td>\n",
       "      <td>6300000.0</td>\n",
       "      <td>46.5</td>\n",
       "      <td>2017-03-06T00:00:00</td>\n",
       "      <td>1</td>\n",
       "      <td>2.7</td>\n",
       "      <td>13.0</td>\n",
       "      <td>NaN</td>\n",
       "      <td>13</td>\n",
       "      <td>False</td>\n",
       "      <td>...</td>\n",
       "      <td>NaN</td>\n",
       "      <td>0</td>\n",
       "      <td>Санкт-Петербург</td>\n",
       "      <td>11125.0</td>\n",
       "      <td>14501.0</td>\n",
       "      <td>0</td>\n",
       "      <td>0</td>\n",
       "      <td>0</td>\n",
       "      <td>0</td>\n",
       "      <td>336</td>\n",
       "    </tr>\n",
       "    <tr>\n",
       "      <th>...</th>\n",
       "      <td>...</td>\n",
       "      <td>...</td>\n",
       "      <td>...</td>\n",
       "      <td>...</td>\n",
       "      <td>...</td>\n",
       "      <td>...</td>\n",
       "      <td>...</td>\n",
       "      <td>...</td>\n",
       "      <td>...</td>\n",
       "      <td>...</td>\n",
       "      <td>...</td>\n",
       "      <td>...</td>\n",
       "      <td>...</td>\n",
       "      <td>...</td>\n",
       "      <td>...</td>\n",
       "      <td>...</td>\n",
       "      <td>...</td>\n",
       "      <td>...</td>\n",
       "      <td>...</td>\n",
       "      <td>...</td>\n",
       "      <td>...</td>\n",
       "    </tr>\n",
       "    <tr>\n",
       "      <th>23642</th>\n",
       "      <td>14</td>\n",
       "      <td>5950000.0</td>\n",
       "      <td>80.3</td>\n",
       "      <td>2018-07-03T00:00:00</td>\n",
       "      <td>3</td>\n",
       "      <td>2.7</td>\n",
       "      <td>12.0</td>\n",
       "      <td>NaN</td>\n",
       "      <td>5</td>\n",
       "      <td>False</td>\n",
       "      <td>...</td>\n",
       "      <td>NaN</td>\n",
       "      <td>0</td>\n",
       "      <td>Колпино</td>\n",
       "      <td>27933.0</td>\n",
       "      <td>33719.0</td>\n",
       "      <td>0</td>\n",
       "      <td>0</td>\n",
       "      <td>2</td>\n",
       "      <td>562</td>\n",
       "      <td>60</td>\n",
       "    </tr>\n",
       "    <tr>\n",
       "      <th>23663</th>\n",
       "      <td>12</td>\n",
       "      <td>6400000.0</td>\n",
       "      <td>88.0</td>\n",
       "      <td>2018-01-12T00:00:00</td>\n",
       "      <td>4</td>\n",
       "      <td>2.6</td>\n",
       "      <td>10.0</td>\n",
       "      <td>NaN</td>\n",
       "      <td>1</td>\n",
       "      <td>False</td>\n",
       "      <td>...</td>\n",
       "      <td>NaN</td>\n",
       "      <td>0</td>\n",
       "      <td>Санкт-Петербург</td>\n",
       "      <td>33642.0</td>\n",
       "      <td>13943.0</td>\n",
       "      <td>0</td>\n",
       "      <td>0</td>\n",
       "      <td>2</td>\n",
       "      <td>844</td>\n",
       "      <td>59</td>\n",
       "    </tr>\n",
       "    <tr>\n",
       "      <th>23670</th>\n",
       "      <td>9</td>\n",
       "      <td>2450000.0</td>\n",
       "      <td>45.6</td>\n",
       "      <td>2018-02-08T00:00:00</td>\n",
       "      <td>1</td>\n",
       "      <td>2.8</td>\n",
       "      <td>9.0</td>\n",
       "      <td>NaN</td>\n",
       "      <td>2</td>\n",
       "      <td>False</td>\n",
       "      <td>...</td>\n",
       "      <td>NaN</td>\n",
       "      <td>0</td>\n",
       "      <td>поселок городского типа Синявино</td>\n",
       "      <td>NaN</td>\n",
       "      <td>NaN</td>\n",
       "      <td>0</td>\n",
       "      <td>0</td>\n",
       "      <td>0</td>\n",
       "      <td>0</td>\n",
       "      <td>45</td>\n",
       "    </tr>\n",
       "    <tr>\n",
       "      <th>23679</th>\n",
       "      <td>0</td>\n",
       "      <td>2500000.0</td>\n",
       "      <td>35.0</td>\n",
       "      <td>2017-12-08T00:00:00</td>\n",
       "      <td>1</td>\n",
       "      <td>2.7</td>\n",
       "      <td>9.0</td>\n",
       "      <td>NaN</td>\n",
       "      <td>4</td>\n",
       "      <td>False</td>\n",
       "      <td>...</td>\n",
       "      <td>NaN</td>\n",
       "      <td>0</td>\n",
       "      <td>Сосновый Бор</td>\n",
       "      <td>NaN</td>\n",
       "      <td>NaN</td>\n",
       "      <td>0</td>\n",
       "      <td>0</td>\n",
       "      <td>0</td>\n",
       "      <td>0</td>\n",
       "      <td>45</td>\n",
       "    </tr>\n",
       "    <tr>\n",
       "      <th>23696</th>\n",
       "      <td>18</td>\n",
       "      <td>2500000.0</td>\n",
       "      <td>56.7</td>\n",
       "      <td>2018-02-11T00:00:00</td>\n",
       "      <td>2</td>\n",
       "      <td>2.7</td>\n",
       "      <td>3.0</td>\n",
       "      <td>29.7</td>\n",
       "      <td>1</td>\n",
       "      <td>False</td>\n",
       "      <td>...</td>\n",
       "      <td>NaN</td>\n",
       "      <td>0</td>\n",
       "      <td>село Рождествено</td>\n",
       "      <td>NaN</td>\n",
       "      <td>NaN</td>\n",
       "      <td>0</td>\n",
       "      <td>0</td>\n",
       "      <td>0</td>\n",
       "      <td>0</td>\n",
       "      <td>128</td>\n",
       "    </tr>\n",
       "  </tbody>\n",
       "</table>\n",
       "<p>2132 rows × 22 columns</p>\n",
       "</div>"
      ],
      "text/plain": [
       "       total_images  last_price  total_area first_day_exposition  rooms  \\\n",
       "3                 0  64900000.0       159.0  2015-07-24T00:00:00      3   \n",
       "30               12   2200000.0        32.8  2018-02-19T00:00:00      1   \n",
       "37               10   1990000.0        45.8  2017-10-28T00:00:00      2   \n",
       "44               13   5350000.0        40.0  2018-11-18T00:00:00      1   \n",
       "59               15   6300000.0        46.5  2017-03-06T00:00:00      1   \n",
       "...             ...         ...         ...                  ...    ...   \n",
       "23642            14   5950000.0        80.3  2018-07-03T00:00:00      3   \n",
       "23663            12   6400000.0        88.0  2018-01-12T00:00:00      4   \n",
       "23670             9   2450000.0        45.6  2018-02-08T00:00:00      1   \n",
       "23679             0   2500000.0        35.0  2017-12-08T00:00:00      1   \n",
       "23696            18   2500000.0        56.7  2018-02-11T00:00:00      2   \n",
       "\n",
       "       ceiling_height  floors_total  living_area  floor  is_apartment  ...  \\\n",
       "3                 2.7          14.0          NaN      9         False  ...   \n",
       "30                2.7           9.0          NaN      2         False  ...   \n",
       "37                2.5           5.0          NaN      1         False  ...   \n",
       "44                2.7          22.0          NaN      3         False  ...   \n",
       "59                2.7          13.0          NaN     13         False  ...   \n",
       "...               ...           ...          ...    ...           ...  ...   \n",
       "23642             2.7          12.0          NaN      5         False  ...   \n",
       "23663             2.6          10.0          NaN      1         False  ...   \n",
       "23670             2.8           9.0          NaN      2         False  ...   \n",
       "23679             2.7           9.0          NaN      4         False  ...   \n",
       "23696             2.7           3.0         29.7      1         False  ...   \n",
       "\n",
       "       kitchen_area  balcony                        locality_name  \\\n",
       "3               NaN        0                      Санкт-Петербург   \n",
       "30              NaN        0                             Коммунар   \n",
       "37              NaN        0  поселок городского типа Красный Бор   \n",
       "44              NaN        1                      Санкт-Петербург   \n",
       "59              NaN        0                      Санкт-Петербург   \n",
       "...             ...      ...                                  ...   \n",
       "23642           NaN        0                              Колпино   \n",
       "23663           NaN        0                      Санкт-Петербург   \n",
       "23670           NaN        0     поселок городского типа Синявино   \n",
       "23679           NaN        0                         Сосновый Бор   \n",
       "23696           NaN        0                     село Рождествено   \n",
       "\n",
       "       airports_nearest cityCenters_nearest  parks_around3000  parks_nearest  \\\n",
       "3               28098.0              6800.0                 2             84   \n",
       "30                  NaN                 NaN                 0              0   \n",
       "37                  NaN                 NaN                 0              0   \n",
       "44              30471.0             11603.0                 1            620   \n",
       "59              11125.0             14501.0                 0              0   \n",
       "...                 ...                 ...               ...            ...   \n",
       "23642           27933.0             33719.0                 0              0   \n",
       "23663           33642.0             13943.0                 0              0   \n",
       "23670               NaN                 NaN                 0              0   \n",
       "23679               NaN                 NaN                 0              0   \n",
       "23696               NaN                 NaN                 0              0   \n",
       "\n",
       "       ponds_around3000  ponds_nearest  days_exposition  \n",
       "3                     3            234              424  \n",
       "30                    0              0               63  \n",
       "37                    0              0              196  \n",
       "44                    1           1152              128  \n",
       "59                    0              0              336  \n",
       "...                 ...            ...              ...  \n",
       "23642                 2            562               60  \n",
       "23663                 2            844               59  \n",
       "23670                 0              0               45  \n",
       "23679                 0              0               45  \n",
       "23696                 0              0              128  \n",
       "\n",
       "[2132 rows x 22 columns]"
      ]
     },
     "execution_count": 30,
     "metadata": {},
     "output_type": "execute_result"
    }
   ],
   "source": [
    "data.query('kitchen_area.isna()' or 'living_area.isna()' or 'airports_nearest.isna()' or 'cityCenters_nearest.isna()')"
   ]
  },
  {
   "cell_type": "markdown",
   "metadata": {},
   "source": [
    "Пропуски в kitchen_area дублируют пропуски в living_area. На саботаж при заполнении непохоже, ведь площадь - важнейшая из характеристик при купле-продаже. Тем более тут еще такое дублирование пропусков столбцах. Похоже на технический сбой при выгрузке данных. \n",
    "\n",
    "Удалять нельзя, надо чем-то заполнять."
   ]
  },
  {
   "cell_type": "markdown",
   "metadata": {},
   "source": [
    "Изучим данные в столбцах."
   ]
  },
  {
   "cell_type": "code",
   "execution_count": 31,
   "metadata": {
    "scrolled": false
   },
   "outputs": [
    {
     "data": {
      "text/plain": [
       "count    19289.000000\n",
       "mean        10.413272\n",
       "std          5.702762\n",
       "min          1.300000\n",
       "25%          7.000000\n",
       "50%          9.000000\n",
       "75%         11.800000\n",
       "max        112.000000\n",
       "Name: kitchen_area, dtype: float64"
      ]
     },
     "execution_count": 31,
     "metadata": {},
     "output_type": "execute_result"
    }
   ],
   "source": [
    "data['kitchen_area'].describe()"
   ]
  },
  {
   "cell_type": "code",
   "execution_count": 32,
   "metadata": {},
   "outputs": [
    {
     "data": {
      "text/plain": [
       "count    19648.000000\n",
       "mean        33.692210\n",
       "std         21.399254\n",
       "min          2.000000\n",
       "25%         18.400000\n",
       "50%         30.000000\n",
       "75%         41.900000\n",
       "max        409.700000\n",
       "Name: living_area, dtype: float64"
      ]
     },
     "execution_count": 32,
     "metadata": {},
     "output_type": "execute_result"
    }
   ],
   "source": [
    "data['living_area'].describe()"
   ]
  },
  {
   "cell_type": "markdown",
   "metadata": {},
   "source": [
    "Вы видели кухню 1,3 кв.м. или 112 кв.м., а жилую площадь 2 кв.м.? я нет..."
   ]
  },
  {
   "cell_type": "code",
   "execution_count": 33,
   "metadata": {},
   "outputs": [
    {
     "data": {
      "image/png": "[encoded data removed]",
      "text/plain": [
       "<Figure size 432x288 with 1 Axes>"
      ]
     },
     "metadata": {
      "needs_background": "light"
     },
     "output_type": "display_data"
    },
    {
     "data": {
      "image/png": "[encoded data removed]",
      "text/plain": [
       "<Figure size 432x288 with 1 Axes>"
      ]
     },
     "metadata": {
      "needs_background": "light"
     },
     "output_type": "display_data"
    },
    {
     "data": {
      "image/png": "[encoded data removed]",
      "text/plain": [
       "<Figure size 432x288 with 1 Axes>"
      ]
     },
     "metadata": {
      "needs_background": "light"
     },
     "output_type": "display_data"
    },
    {
     "data": {
      "image/png": "[encoded data removed]",
      "text/plain": [
       "<Figure size 432x288 with 1 Axes>"
      ]
     },
     "metadata": {
      "needs_background": "light"
     },
     "output_type": "display_data"
    }
   ],
   "source": [
    "data.boxplot(column='kitchen_area')\n",
    "plt.show()\n",
    "data['kitchen_area'].hist(bins=20)\n",
    "plt.show()\n",
    "# сделаем по краям покрупнее\n",
    "data['kitchen_area'].hist(bins=30, range=(1, 5))\n",
    "plt.show()\n",
    "data['kitchen_area'].hist(bins=30, range=(20, 112))\n",
    "plt.show()"
   ]
  },
  {
   "cell_type": "markdown",
   "metadata": {},
   "source": [
    "Предлагаю заполнить пропуски медианным значением, а потом отрезать хвост выбросов до 4 и больше 20."
   ]
  },
  {
   "cell_type": "code",
   "execution_count": 34,
   "metadata": {},
   "outputs": [
    {
     "data": {
      "text/html": [
       "<div>\n",
       "<style scoped>\n",
       "    .dataframe tbody tr th:only-of-type {\n",
       "        vertical-align: middle;\n",
       "    }\n",
       "\n",
       "    .dataframe tbody tr th {\n",
       "        vertical-align: top;\n",
       "    }\n",
       "\n",
       "    .dataframe thead th {\n",
       "        text-align: right;\n",
       "    }\n",
       "</style>\n",
       "<table border=\"1\" class=\"dataframe\">\n",
       "  <thead>\n",
       "    <tr style=\"text-align: right;\">\n",
       "      <th></th>\n",
       "      <th>total_images</th>\n",
       "      <th>last_price</th>\n",
       "      <th>total_area</th>\n",
       "      <th>rooms</th>\n",
       "      <th>ceiling_height</th>\n",
       "      <th>floors_total</th>\n",
       "      <th>living_area</th>\n",
       "      <th>floor</th>\n",
       "      <th>kitchen_area</th>\n",
       "      <th>balcony</th>\n",
       "      <th>airports_nearest</th>\n",
       "      <th>cityCenters_nearest</th>\n",
       "      <th>parks_around3000</th>\n",
       "      <th>parks_nearest</th>\n",
       "      <th>ponds_around3000</th>\n",
       "      <th>ponds_nearest</th>\n",
       "      <th>days_exposition</th>\n",
       "    </tr>\n",
       "  </thead>\n",
       "  <tbody>\n",
       "    <tr>\n",
       "      <th>count</th>\n",
       "      <td>18401.000000</td>\n",
       "      <td>1.840100e+04</td>\n",
       "      <td>18401.000000</td>\n",
       "      <td>18401.000000</td>\n",
       "      <td>18401.000000</td>\n",
       "      <td>18370.000000</td>\n",
       "      <td>18057.000000</td>\n",
       "      <td>18401.000000</td>\n",
       "      <td>18401.000000</td>\n",
       "      <td>18401.000000</td>\n",
       "      <td>14113.000000</td>\n",
       "      <td>14130.000000</td>\n",
       "      <td>18401.000000</td>\n",
       "      <td>18401.000000</td>\n",
       "      <td>18401.000000</td>\n",
       "      <td>18401.000000</td>\n",
       "      <td>18401.000000</td>\n",
       "    </tr>\n",
       "    <tr>\n",
       "      <th>mean</th>\n",
       "      <td>10.006956</td>\n",
       "      <td>5.562839e+06</td>\n",
       "      <td>56.286138</td>\n",
       "      <td>2.009565</td>\n",
       "      <td>2.705695</td>\n",
       "      <td>10.600381</td>\n",
       "      <td>32.482172</td>\n",
       "      <td>5.827183</td>\n",
       "      <td>9.521869</td>\n",
       "      <td>0.535351</td>\n",
       "      <td>28856.351378</td>\n",
       "      <td>14589.867587</td>\n",
       "      <td>0.446932</td>\n",
       "      <td>160.841096</td>\n",
       "      <td>0.558339</td>\n",
       "      <td>196.478670</td>\n",
       "      <td>129.767621</td>\n",
       "    </tr>\n",
       "    <tr>\n",
       "      <th>std</th>\n",
       "      <td>5.590720</td>\n",
       "      <td>4.837729e+06</td>\n",
       "      <td>25.650481</td>\n",
       "      <td>0.979472</td>\n",
       "      <td>0.199020</td>\n",
       "      <td>6.526042</td>\n",
       "      <td>17.472704</td>\n",
       "      <td>4.812780</td>\n",
       "      <td>3.203963</td>\n",
       "      <td>0.766601</td>\n",
       "      <td>12849.712874</td>\n",
       "      <td>8556.522480</td>\n",
       "      <td>0.726458</td>\n",
       "      <td>297.441687</td>\n",
       "      <td>0.855533</td>\n",
       "      <td>306.006765</td>\n",
       "      <td>112.633592</td>\n",
       "    </tr>\n",
       "    <tr>\n",
       "      <th>min</th>\n",
       "      <td>0.000000</td>\n",
       "      <td>4.300000e+05</td>\n",
       "      <td>20.000000</td>\n",
       "      <td>1.000000</td>\n",
       "      <td>2.500000</td>\n",
       "      <td>1.000000</td>\n",
       "      <td>2.000000</td>\n",
       "      <td>1.000000</td>\n",
       "      <td>4.000000</td>\n",
       "      <td>0.000000</td>\n",
       "      <td>0.000000</td>\n",
       "      <td>181.000000</td>\n",
       "      <td>0.000000</td>\n",
       "      <td>0.000000</td>\n",
       "      <td>0.000000</td>\n",
       "      <td>0.000000</td>\n",
       "      <td>1.000000</td>\n",
       "    </tr>\n",
       "    <tr>\n",
       "      <th>25%</th>\n",
       "      <td>6.000000</td>\n",
       "      <td>3.400000e+06</td>\n",
       "      <td>39.900000</td>\n",
       "      <td>1.000000</td>\n",
       "      <td>2.600000</td>\n",
       "      <td>5.000000</td>\n",
       "      <td>18.330000</td>\n",
       "      <td>2.000000</td>\n",
       "      <td>7.000000</td>\n",
       "      <td>0.000000</td>\n",
       "      <td>18277.000000</td>\n",
       "      <td>10006.250000</td>\n",
       "      <td>0.000000</td>\n",
       "      <td>0.000000</td>\n",
       "      <td>0.000000</td>\n",
       "      <td>0.000000</td>\n",
       "      <td>45.000000</td>\n",
       "    </tr>\n",
       "    <tr>\n",
       "      <th>50%</th>\n",
       "      <td>10.000000</td>\n",
       "      <td>4.500000e+06</td>\n",
       "      <td>50.000000</td>\n",
       "      <td>2.000000</td>\n",
       "      <td>2.700000</td>\n",
       "      <td>9.000000</td>\n",
       "      <td>30.000000</td>\n",
       "      <td>4.000000</td>\n",
       "      <td>9.000000</td>\n",
       "      <td>0.000000</td>\n",
       "      <td>26835.000000</td>\n",
       "      <td>13322.500000</td>\n",
       "      <td>0.000000</td>\n",
       "      <td>0.000000</td>\n",
       "      <td>0.000000</td>\n",
       "      <td>0.000000</td>\n",
       "      <td>112.000000</td>\n",
       "    </tr>\n",
       "    <tr>\n",
       "      <th>75%</th>\n",
       "      <td>14.000000</td>\n",
       "      <td>6.300000e+06</td>\n",
       "      <td>65.600000</td>\n",
       "      <td>3.000000</td>\n",
       "      <td>2.700000</td>\n",
       "      <td>15.000000</td>\n",
       "      <td>41.000000</td>\n",
       "      <td>8.000000</td>\n",
       "      <td>11.000000</td>\n",
       "      <td>1.000000</td>\n",
       "      <td>37434.000000</td>\n",
       "      <td>16463.250000</td>\n",
       "      <td>1.000000</td>\n",
       "      <td>286.000000</td>\n",
       "      <td>1.000000</td>\n",
       "      <td>382.000000</td>\n",
       "      <td>164.000000</td>\n",
       "    </tr>\n",
       "    <tr>\n",
       "      <th>max</th>\n",
       "      <td>50.000000</td>\n",
       "      <td>1.599840e+08</td>\n",
       "      <td>631.200000</td>\n",
       "      <td>14.000000</td>\n",
       "      <td>4.800000</td>\n",
       "      <td>60.000000</td>\n",
       "      <td>322.300000</td>\n",
       "      <td>33.000000</td>\n",
       "      <td>20.000000</td>\n",
       "      <td>2.000000</td>\n",
       "      <td>84853.000000</td>\n",
       "      <td>65952.000000</td>\n",
       "      <td>3.000000</td>\n",
       "      <td>3190.000000</td>\n",
       "      <td>3.000000</td>\n",
       "      <td>1344.000000</td>\n",
       "      <td>510.000000</td>\n",
       "    </tr>\n",
       "  </tbody>\n",
       "</table>\n",
       "</div>"
      ],
      "text/plain": [
       "       total_images    last_price    total_area         rooms  ceiling_height  \\\n",
       "count  18401.000000  1.840100e+04  18401.000000  18401.000000    18401.000000   \n",
       "mean      10.006956  5.562839e+06     56.286138      2.009565        2.705695   \n",
       "std        5.590720  4.837729e+06     25.650481      0.979472        0.199020   \n",
       "min        0.000000  4.300000e+05     20.000000      1.000000        2.500000   \n",
       "25%        6.000000  3.400000e+06     39.900000      1.000000        2.600000   \n",
       "50%       10.000000  4.500000e+06     50.000000      2.000000        2.700000   \n",
       "75%       14.000000  6.300000e+06     65.600000      3.000000        2.700000   \n",
       "max       50.000000  1.599840e+08    631.200000     14.000000        4.800000   \n",
       "\n",
       "       floors_total   living_area         floor  kitchen_area       balcony  \\\n",
       "count  18370.000000  18057.000000  18401.000000  18401.000000  18401.000000   \n",
       "mean      10.600381     32.482172      5.827183      9.521869      0.535351   \n",
       "std        6.526042     17.472704      4.812780      3.203963      0.766601   \n",
       "min        1.000000      2.000000      1.000000      4.000000      0.000000   \n",
       "25%        5.000000     18.330000      2.000000      7.000000      0.000000   \n",
       "50%        9.000000     30.000000      4.000000      9.000000      0.000000   \n",
       "75%       15.000000     41.000000      8.000000     11.000000      1.000000   \n",
       "max       60.000000    322.300000     33.000000     20.000000      2.000000   \n",
       "\n",
       "       airports_nearest  cityCenters_nearest  parks_around3000  parks_nearest  \\\n",
       "count      14113.000000         14130.000000      18401.000000   18401.000000   \n",
       "mean       28856.351378         14589.867587          0.446932     160.841096   \n",
       "std        12849.712874          8556.522480          0.726458     297.441687   \n",
       "min            0.000000           181.000000          0.000000       0.000000   \n",
       "25%        18277.000000         10006.250000          0.000000       0.000000   \n",
       "50%        26835.000000         13322.500000          0.000000       0.000000   \n",
       "75%        37434.000000         16463.250000          1.000000     286.000000   \n",
       "max        84853.000000         65952.000000          3.000000    3190.000000   \n",
       "\n",
       "       ponds_around3000  ponds_nearest  days_exposition  \n",
       "count      18401.000000   18401.000000     18401.000000  \n",
       "mean           0.558339     196.478670       129.767621  \n",
       "std            0.855533     306.006765       112.633592  \n",
       "min            0.000000       0.000000         1.000000  \n",
       "25%            0.000000       0.000000        45.000000  \n",
       "50%            0.000000       0.000000       112.000000  \n",
       "75%            1.000000     382.000000       164.000000  \n",
       "max            3.000000    1344.000000       510.000000  "
      ]
     },
     "execution_count": 34,
     "metadata": {},
     "output_type": "execute_result"
    }
   ],
   "source": [
    "# по экспериментируем, не перезаписывая\n",
    "data.query('4 <= kitchen_area <=20').describe()"
   ]
  },
  {
   "cell_type": "markdown",
   "metadata": {},
   "source": [
    "Медиана и средняя почти сравнялись - это круто! данные после отрезания выбросов станут супер-равномерными.\n",
    "\n",
    "Для замены пропусков возьмем медиану 9. \n",
    "\n",
    "Кстати, могли и не заморачиваться, медиана без изменений, а вот средняя подвинулась поближе к медиане."
   ]
  },
  {
   "cell_type": "code",
   "execution_count": 35,
   "metadata": {
    "scrolled": true
   },
   "outputs": [
    {
     "name": "stdout",
     "output_type": "stream",
     "text": [
      "<class 'pandas.core.frame.DataFrame'>\n",
      "Int64Index: 20533 entries, 1 to 23698\n",
      "Data columns (total 22 columns):\n",
      " #   Column                Non-Null Count  Dtype  \n",
      "---  ------                --------------  -----  \n",
      " 0   total_images          20533 non-null  int64  \n",
      " 1   last_price            20533 non-null  float64\n",
      " 2   total_area            20533 non-null  float64\n",
      " 3   first_day_exposition  20533 non-null  object \n",
      " 4   rooms                 20533 non-null  int64  \n",
      " 5   ceiling_height        20533 non-null  float64\n",
      " 6   floors_total          20458 non-null  float64\n",
      " 7   living_area           18800 non-null  float64\n",
      " 8   floor                 20533 non-null  int64  \n",
      " 9   is_apartment          20533 non-null  bool   \n",
      " 10  studio                20533 non-null  bool   \n",
      " 11  open_plan             20533 non-null  bool   \n",
      " 12  kitchen_area          20533 non-null  float64\n",
      " 13  balcony               20533 non-null  int64  \n",
      " 14  locality_name         20495 non-null  object \n",
      " 15  airports_nearest      15571 non-null  float64\n",
      " 16  cityCenters_nearest   15590 non-null  float64\n",
      " 17  parks_around3000      20533 non-null  int64  \n",
      " 18  parks_nearest         20533 non-null  int64  \n",
      " 19  ponds_around3000      20533 non-null  int64  \n",
      " 20  ponds_nearest         20533 non-null  int64  \n",
      " 21  days_exposition       20533 non-null  int64  \n",
      "dtypes: bool(3), float64(8), int64(9), object(2)\n",
      "memory usage: 3.2+ MB\n"
     ]
    }
   ],
   "source": [
    "# заполняем пропуски и отрезаем хвосты\n",
    "data['kitchen_area'] = data['kitchen_area'].fillna(9)\n",
    "data = data.query('4 <= kitchen_area <=20')\n",
    "data.info()"
   ]
  },
  {
   "cell_type": "code",
   "execution_count": 36,
   "metadata": {},
   "outputs": [
    {
     "data": {
      "image/png": "[encoded data removed]",
      "text/plain": [
       "<Figure size 432x288 with 1 Axes>"
      ]
     },
     "metadata": {
      "needs_background": "light"
     },
     "output_type": "display_data"
    },
    {
     "data": {
      "image/png": "[encoded data removed]",
      "text/plain": [
       "<Figure size 432x288 with 1 Axes>"
      ]
     },
     "metadata": {
      "needs_background": "light"
     },
     "output_type": "display_data"
    },
    {
     "data": {
      "image/png": "[encoded data removed]",
      "text/plain": [
       "<Figure size 432x288 with 1 Axes>"
      ]
     },
     "metadata": {
      "needs_background": "light"
     },
     "output_type": "display_data"
    },
    {
     "data": {
      "image/png": "[encoded data removed]",
      "text/plain": [
       "<Figure size 432x288 with 1 Axes>"
      ]
     },
     "metadata": {
      "needs_background": "light"
     },
     "output_type": "display_data"
    }
   ],
   "source": [
    "data.boxplot(column='living_area')\n",
    "plt.show()\n",
    "data['living_area'].hist(bins=20)\n",
    "plt.show()\n",
    "# сделаем по краям покрупнее\n",
    "data['living_area'].hist(bins=30, range=(2, 18))\n",
    "plt.show()\n",
    "data['living_area'].hist(bins=30, range=(70, 200))\n",
    "plt.show()"
   ]
  },
  {
   "cell_type": "markdown",
   "metadata": {},
   "source": [
    "Также как и с площадью кухни предлагаю заполнить пропуски медианным значением 30, а потом отрезать хвост выбросов до 10 кв.м. и больше 150 кв.м."
   ]
  },
  {
   "cell_type": "code",
   "execution_count": 37,
   "metadata": {},
   "outputs": [
    {
     "name": "stdout",
     "output_type": "stream",
     "text": [
      "<class 'pandas.core.frame.DataFrame'>\n",
      "Int64Index: 20481 entries, 1 to 23698\n",
      "Data columns (total 22 columns):\n",
      " #   Column                Non-Null Count  Dtype  \n",
      "---  ------                --------------  -----  \n",
      " 0   total_images          20481 non-null  int64  \n",
      " 1   last_price            20481 non-null  float64\n",
      " 2   total_area            20481 non-null  float64\n",
      " 3   first_day_exposition  20481 non-null  object \n",
      " 4   rooms                 20481 non-null  int64  \n",
      " 5   ceiling_height        20481 non-null  float64\n",
      " 6   floors_total          20406 non-null  float64\n",
      " 7   living_area           20481 non-null  float64\n",
      " 8   floor                 20481 non-null  int64  \n",
      " 9   is_apartment          20481 non-null  bool   \n",
      " 10  studio                20481 non-null  bool   \n",
      " 11  open_plan             20481 non-null  bool   \n",
      " 12  kitchen_area          20481 non-null  float64\n",
      " 13  balcony               20481 non-null  int64  \n",
      " 14  locality_name         20443 non-null  object \n",
      " 15  airports_nearest      15520 non-null  float64\n",
      " 16  cityCenters_nearest   15539 non-null  float64\n",
      " 17  parks_around3000      20481 non-null  int64  \n",
      " 18  parks_nearest         20481 non-null  int64  \n",
      " 19  ponds_around3000      20481 non-null  int64  \n",
      " 20  ponds_nearest         20481 non-null  int64  \n",
      " 21  days_exposition       20481 non-null  int64  \n",
      "dtypes: bool(3), float64(8), int64(9), object(2)\n",
      "memory usage: 3.2+ MB\n"
     ]
    }
   ],
   "source": [
    "# заполняем пропуски и отрезаем хвосты\n",
    "data['living_area'] = data['living_area'].fillna(30)\n",
    "data = data.query('10 <= living_area <=150')\n",
    "data.info()"
   ]
  },
  {
   "cell_type": "markdown",
   "metadata": {},
   "source": [
    "**floors_total**   float            86 пропусков"
   ]
  },
  {
   "cell_type": "code",
   "execution_count": 38,
   "metadata": {},
   "outputs": [
    {
     "data": {
      "text/plain": [
       "5.0     5075\n",
       "9.0     3412\n",
       "12.0    1207\n",
       "16.0    1192\n",
       "10.0     995\n",
       "4.0      990\n",
       "25.0     922\n",
       "17.0     731\n",
       "6.0      686\n",
       "3.0      577\n",
       "14.0     489\n",
       "7.0      461\n",
       "18.0     435\n",
       "24.0     408\n",
       "2.0      344\n",
       "15.0     311\n",
       "23.0     310\n",
       "19.0     301\n",
       "8.0      281\n",
       "22.0     245\n",
       "20.0     212\n",
       "13.0     185\n",
       "11.0     166\n",
       "27.0     156\n",
       "21.0     138\n",
       "26.0     115\n",
       "28.0      20\n",
       "1.0       20\n",
       "35.0      16\n",
       "36.0       2\n",
       "34.0       1\n",
       "60.0       1\n",
       "29.0       1\n",
       "52.0       1\n",
       "Name: floors_total, dtype: int64"
      ]
     },
     "execution_count": 38,
     "metadata": {},
     "output_type": "execute_result"
    }
   ],
   "source": [
    "data['floors_total'].value_counts()"
   ]
  },
  {
   "cell_type": "markdown",
   "metadata": {},
   "source": [
    "35 этажей и выше вызывают у меня сомнения. Не помню, чтобы в Питере и его окрестностях строили аналог Москва-сити. Обрежем!\n",
    "\n",
    "А пропуски, их мало, всего 86. Присваивать им среднюю или медиану бессмысленно, ведь часто этажность дома является критерием выбора квартиры. Можно посмотреть на каком этаже эти квартиры с пропусками, может что-то прояснится.\n"
   ]
  },
  {
   "cell_type": "code",
   "execution_count": 39,
   "metadata": {},
   "outputs": [
    {
     "data": {
      "text/plain": [
       "186       4\n",
       "237       1\n",
       "671       8\n",
       "1757      9\n",
       "1930      4\n",
       "         ..\n",
       "20738    10\n",
       "21651    19\n",
       "21753    21\n",
       "22656    20\n",
       "23658     8\n",
       "Name: floor, Length: 75, dtype: int64"
      ]
     },
     "execution_count": 39,
     "metadata": {},
     "output_type": "execute_result"
    }
   ],
   "source": [
    "data.loc[data['floors_total'].isna(), 'floor']"
   ]
  },
  {
   "cell_type": "markdown",
   "metadata": {},
   "source": [
    "Не вижу никакой зависимости, придется оставить эти 86 пропусков в покое. \n",
    "\n",
    "И тип данных тогда на int изменить не удастся, ну и ладно."
   ]
  },
  {
   "cell_type": "code",
   "execution_count": 40,
   "metadata": {},
   "outputs": [
    {
     "name": "stdout",
     "output_type": "stream",
     "text": [
      "<class 'pandas.core.frame.DataFrame'>\n",
      "Int64Index: 20386 entries, 1 to 23698\n",
      "Data columns (total 22 columns):\n",
      " #   Column                Non-Null Count  Dtype  \n",
      "---  ------                --------------  -----  \n",
      " 0   total_images          20386 non-null  int64  \n",
      " 1   last_price            20386 non-null  float64\n",
      " 2   total_area            20386 non-null  float64\n",
      " 3   first_day_exposition  20386 non-null  object \n",
      " 4   rooms                 20386 non-null  int64  \n",
      " 5   ceiling_height        20386 non-null  float64\n",
      " 6   floors_total          20386 non-null  float64\n",
      " 7   living_area           20386 non-null  float64\n",
      " 8   floor                 20386 non-null  int64  \n",
      " 9   is_apartment          20386 non-null  bool   \n",
      " 10  studio                20386 non-null  bool   \n",
      " 11  open_plan             20386 non-null  bool   \n",
      " 12  kitchen_area          20386 non-null  float64\n",
      " 13  balcony               20386 non-null  int64  \n",
      " 14  locality_name         20349 non-null  object \n",
      " 15  airports_nearest      15434 non-null  float64\n",
      " 16  cityCenters_nearest   15453 non-null  float64\n",
      " 17  parks_around3000      20386 non-null  int64  \n",
      " 18  parks_nearest         20386 non-null  int64  \n",
      " 19  ponds_around3000      20386 non-null  int64  \n",
      " 20  ponds_nearest         20386 non-null  int64  \n",
      " 21  days_exposition       20386 non-null  int64  \n",
      "dtypes: bool(3), float64(8), int64(9), object(2)\n",
      "memory usage: 3.2+ MB\n"
     ]
    }
   ],
   "source": [
    "# обрезаем хвост выбросов\n",
    "data = data.query('floors_total < 35')\n",
    "data.info()"
   ]
  },
  {
   "cell_type": "markdown",
   "metadata": {},
   "source": [
    "**locality_name** object 49 пропусков"
   ]
  },
  {
   "cell_type": "code",
   "execution_count": 41,
   "metadata": {},
   "outputs": [
    {
     "name": "stdout",
     "output_type": "stream",
     "text": [
      "count               20349\n",
      "unique                355\n",
      "top       Санкт-Петербург\n",
      "freq                13270\n",
      "Name: locality_name, dtype: object\n"
     ]
    },
    {
     "data": {
      "text/plain": [
       "array(['посёлок Шушары', 'Санкт-Петербург', 'городской посёлок Янино-1',\n",
       "       'посёлок Парголово', 'посёлок Мурино', 'Ломоносов', 'Сертолово',\n",
       "       'Петергоф', 'Пушкин', 'деревня Кудрово', 'Коммунар', 'Колпино',\n",
       "       'поселок городского типа Красный Бор', 'Гатчина', 'поселок Мурино',\n",
       "       'деревня Фёдоровское', 'Выборг', 'Кронштадт', 'Кировск',\n",
       "       'деревня Новое Девяткино', 'посёлок Металлострой',\n",
       "       'посёлок городского типа Лебяжье',\n",
       "       'посёлок городского типа Сиверский', 'поселок Молодцово',\n",
       "       'поселок городского типа Кузьмоловский',\n",
       "       'садовое товарищество Новая Ропша', 'Павловск', 'Всеволожск',\n",
       "       'Волхов', 'Кингисепп', 'Приозерск', 'Сестрорецк',\n",
       "       'деревня Куттузи', 'посёлок Аннино',\n",
       "       'поселок городского типа Ефимовский', 'посёлок Плодовое',\n",
       "       'деревня Заклинье', 'поселок Торковичи', 'поселок Первомайское',\n",
       "       'Красное Село', 'посёлок Понтонный', 'Сясьстрой', 'деревня Старая',\n",
       "       'деревня Лесколово', 'Сланцы', 'село Путилово', 'Ивангород',\n",
       "       'Шлиссельбург', 'Никольское', 'Зеленогорск', 'Сосновый Бор',\n",
       "       'поселок Новый Свет', 'деревня Кальтино', 'Кудрово',\n",
       "       'поселок Романовка', 'посёлок Бугры', 'поселок Бугры',\n",
       "       'поселок городского типа Рощино', 'Кириши', 'Луга', 'Волосово',\n",
       "       'Отрадное', 'село Павлово', 'поселок Оредеж', 'село Копорье',\n",
       "       'посёлок городского типа Красный Бор', 'посёлок Молодёжное',\n",
       "       'Тихвин', 'посёлок Победа', 'деревня Нурма',\n",
       "       'поселок городского типа Синявино', 'посёлок Новый Свет',\n",
       "       'посёлок Стрельна', 'Бокситогорск', 'посёлок Александровская',\n",
       "       'деревня Лопухинка', 'поселок Терволово',\n",
       "       'поселок городского типа Советский', 'Подпорожье',\n",
       "       'посёлок Петровское', 'посёлок городского типа Токсово',\n",
       "       'поселок Сельцо', 'Тосно', 'посёлок городского типа Вырица',\n",
       "       'деревня Кипень', 'деревня Келози', 'деревня Вартемяги',\n",
       "       'посёлок городского типа Кузьмоловский', 'посёлок Тельмана',\n",
       "       'городской поселок Большая Ижора', nan,\n",
       "       'городской посёлок Павлово', 'деревня Агалатово',\n",
       "       'посёлок Новогорелово', 'городской посёлок Лесогорский',\n",
       "       'деревня Лаголово', 'поселок Цвелодубово',\n",
       "       'поселок городского типа Рахья', 'поселок городского типа Вырица',\n",
       "       'деревня Белогорка', 'поселок Заводской',\n",
       "       'городской посёлок Новоселье', 'деревня Большие Колпаны',\n",
       "       'деревня Горбунки', 'Мурино', 'деревня Батово', 'деревня Заневка',\n",
       "       'деревня Иссад', 'Приморск', 'городской посёлок Фёдоровское',\n",
       "       'деревня Мистолово', 'Новая Ладога', 'поселок Зимитицы',\n",
       "       'поселок Барышево', 'деревня Разметелево',\n",
       "       'поселок городского типа имени Свердлова', 'деревня Пеники',\n",
       "       'поселок Рябово', 'деревня Пудомяги', 'поселок станции Корнево',\n",
       "       'деревня Низино', 'деревня Бегуницы', 'посёлок Поляны',\n",
       "       'городской посёлок Мга', 'поселок Елизаветино',\n",
       "       'посёлок городского типа Кузнечное', 'деревня Колтуши',\n",
       "       'поселок Запорожское', 'посёлок городского типа Рощино',\n",
       "       'деревня Гостилицы', 'деревня Малое Карлино',\n",
       "       'посёлок Мичуринское', 'посёлок городского типа имени Морозова',\n",
       "       'посёлок Песочный', 'посёлок Сосново', 'деревня Аро',\n",
       "       'поселок Ильичёво', 'посёлок городского типа Тайцы',\n",
       "       'деревня Малое Верево', 'деревня Извара', 'поселок станции Вещево',\n",
       "       'село Паша', 'деревня Калитино',\n",
       "       'посёлок городского типа Ульяновка', 'деревня Чудской Бор',\n",
       "       'поселок городского типа Дубровка', 'деревня Мины',\n",
       "       'посёлок городского типа имени Свердлова', 'деревня Коркино',\n",
       "       'посёлок Ропша', 'поселок городского типа Приладожский',\n",
       "       'посёлок Щеглово', 'посёлок Гаврилово', 'Лодейное Поле',\n",
       "       'Пикалёво', 'деревня Рабитицы',\n",
       "       'поселок городского типа Никольский', 'деревня Кузьмолово',\n",
       "       'деревня Малые Колпаны', 'поселок Тельмана',\n",
       "       'посёлок Петро-Славянка', 'городской посёлок Назия',\n",
       "       'посёлок Ильичёво', 'поселок Углово', 'поселок Старая Малукса',\n",
       "       'садовое товарищество Рахья', 'поселок Аннино', 'поселок Победа',\n",
       "       'деревня Меньково', 'деревня Старые Бегуницы', 'посёлок Сапёрный',\n",
       "       'поселок Семрино', 'поселок Гаврилово', 'поселок Глажево',\n",
       "       'поселок Кобринское', 'деревня Гарболово',\n",
       "       'поселок станции Приветнинское', 'деревня Мануйлово',\n",
       "       'деревня Пчева', 'поселок Поляны', 'поселок Цвылёво',\n",
       "       'поселок Мельниково', 'посёлок Пудость', 'посёлок Усть-Луга',\n",
       "       'Светогорск', 'поселок Селезнёво',\n",
       "       'поселок городского типа Рябово', 'Каменногорск',\n",
       "       'поселок Глебычево', 'деревня Парицы', 'поселок Жилпосёлок',\n",
       "       'посёлок городского типа Мга', 'городской поселок Янино-1',\n",
       "       'посёлок Войскорово', 'село Никольское', 'деревня Оржицы',\n",
       "       'поселок Стеклянный', 'посёлок городского типа Важины',\n",
       "       'посёлок Мыза-Ивановка', 'село Русско-Высоцкое',\n",
       "       'поселок городского типа Лебяжье',\n",
       "       'поселок городского типа Форносово', 'поселок Войсковицы',\n",
       "       'посёлок Терволово', 'село Старая Ладога', 'поселок Житково',\n",
       "       'городской посёлок Виллози', 'деревня Лампово',\n",
       "       'деревня Шпаньково', 'деревня Лаврики', 'посёлок Сумино',\n",
       "       'посёлок Возрождение', 'деревня Старосиверская',\n",
       "       'посёлок Кикерино', 'поселок Возрождение',\n",
       "       'деревня Старое Хинколово', 'посёлок Пригородный',\n",
       "       'посёлок Торфяное', 'Любань', 'посёлок Репино',\n",
       "       'городской посёлок Будогощь', 'поселок Суходолье',\n",
       "       'деревня Хапо-Ое', 'поселок городского типа Дружная Горка',\n",
       "       'поселок Лисий Нос', 'деревня Яльгелево', 'село Рождествено',\n",
       "       'деревня Старополье', 'посёлок Левашово', 'деревня Сяськелево',\n",
       "       'деревня Камышовка',\n",
       "       'садоводческое некоммерческое товарищество Лесная Поляна',\n",
       "       'деревня Хязельки', 'поселок Жилгородок',\n",
       "       'посёлок городского типа Павлово', 'деревня Ялгино',\n",
       "       'поселок Новый Учхоз', 'городской посёлок Рощино',\n",
       "       'поселок Гончарово', 'поселок Почап',\n",
       "       'посёлок Платформа 69-й километр', 'поселок Каложицы',\n",
       "       'деревня Фалилеево', 'деревня Пельгора',\n",
       "       'поселок городского типа Лесогорский', 'деревня Торошковичи',\n",
       "       'посёлок Белоостров', 'посёлок Алексеевка', 'поселок Серебрянский',\n",
       "       'поселок Лукаши', 'поселок Петровское', 'деревня Щеглово',\n",
       "       'поселок Мичуринское', 'деревня Тарасово', 'поселок Кингисеппский',\n",
       "       'посёлок при железнодорожной станции Вещево', 'поселок Ушаки',\n",
       "       'деревня Котлы', 'деревня Сижно', 'деревня Торосово',\n",
       "       'посёлок Форт Красная Горка', 'деревня Новолисино',\n",
       "       'посёлок станции Громово', 'деревня Глинка', 'посёлок Мельниково',\n",
       "       'поселок городского типа Назия', 'деревня Старая Пустошь',\n",
       "       'поселок Коммунары', 'поселок Починок',\n",
       "       'посёлок городского типа Вознесенье', 'деревня Разбегаево',\n",
       "       'поселок Гладкое',\n",
       "       'посёлок при железнодорожной станции Приветнинское',\n",
       "       'поселок Тёсово-4', 'посёлок Жилгородок', 'деревня Бор',\n",
       "       'посёлок Коробицыно', 'деревня Большая Вруда', 'деревня Курковицы',\n",
       "       'городской посёлок Советский', 'посёлок Кобралово',\n",
       "       'деревня Суоранда', 'поселок Кобралово', 'деревня Юкки',\n",
       "       'поселок городского типа Кондратьево',\n",
       "       'коттеджный поселок Счастье', 'деревня Реброво',\n",
       "       'деревня Тойворово', 'поселок Семиозерье', 'поселок Лесное',\n",
       "       'поселок Совхозный', 'поселок Усть-Луга', 'посёлок Сапёрное',\n",
       "       'посёлок Ленинское', 'посёлок городского типа Форносово',\n",
       "       'деревня Нижние Осельки', 'посёлок станции Свирь',\n",
       "       'поселок Перово', 'поселок Гарболово', 'село Шум',\n",
       "       'поселок Котельский', 'поселок станции Лужайка',\n",
       "       'посёлок Стеклянный', 'поселок Красносельское',\n",
       "       'деревня Вахнова Кара', 'деревня Пижма',\n",
       "       'коттеджный поселок Кивеннапа Север', 'поселок Ромашки',\n",
       "       'посёлок Перово', 'посёлок Суйда', 'деревня Куровицы',\n",
       "       'посёлок Плоское', 'поселок Сумино',\n",
       "       'поселок городского типа Большая Ижора', 'поселок Кирпичное',\n",
       "       'деревня Ям-Тесово', 'деревня Раздолье', 'деревня Терпилицы',\n",
       "       'поселок городского типа Токсово', 'посёлок Шугозеро',\n",
       "       'деревня Ваганово', 'поселок Пушное', 'садовое товарищество Садко',\n",
       "       'посёлок Усть-Ижора', 'деревня Выскатка', 'поселок Громово',\n",
       "       'деревня Кисельня', 'посёлок Старая Малукса',\n",
       "       'деревня Трубников Бор', 'поселок Калитино',\n",
       "       'посёлок Высокоключевой', 'садовое товарищество Приладожский',\n",
       "       'посёлок Пансионат Зелёный Бор', 'деревня Ненимяки',\n",
       "       'поселок Пансионат Зелёный Бор', 'деревня Снегирёвка',\n",
       "       'поселок Красная Долина', 'деревня Рапполово', 'деревня Пустынка',\n",
       "       'поселок Рабитицы', 'деревня Большой Сабск', 'деревня Русско',\n",
       "       'посёлок Лисий Нос', 'деревня Лупполово',\n",
       "       'деревня Большое Рейзино', 'деревня Малая Романовка',\n",
       "       'поселок Дружноселье', 'поселок Пчевжа', 'поселок Володарское',\n",
       "       'деревня Нижняя', 'коттеджный посёлок Лесное', 'Высоцк',\n",
       "       'деревня Тихковицы', 'поселок Любань', 'деревня Борисова Грива',\n",
       "       'посёлок Дзержинского'], dtype=object)"
      ]
     },
     "execution_count": 41,
     "metadata": {},
     "output_type": "execute_result"
    }
   ],
   "source": [
    "print(data['locality_name'].describe())\n",
    "data['locality_name'].unique()"
   ]
  },
  {
   "cell_type": "code",
   "execution_count": 42,
   "metadata": {},
   "outputs": [
    {
     "name": "stdout",
     "output_type": "stream",
     "text": [
      "count               20349\n",
      "unique                310\n",
      "top       Санкт-Петербург\n",
      "freq                13270\n",
      "Name: locality_name, dtype: object\n"
     ]
    },
    {
     "data": {
      "text/plain": [
       "array([' Шушары', 'Санкт-Петербург', '  Янино-1', ' Парголово', ' Мурино',\n",
       "       'Ломоносов', 'Сертолово', 'Петергоф', 'Пушкин', ' Кудрово',\n",
       "       'Коммунар', 'Колпино', '  Красный Бор', 'Гатчина', ' Фёдоровское',\n",
       "       'Выборг', 'Кронштадт', 'Кировск', ' Новое Девяткино',\n",
       "       ' Металлострой', '  Лебяжье', '  Сиверский', ' Молодцово',\n",
       "       '  Кузьмоловский', ' Новая Ропша', 'Павловск', 'Всеволожск',\n",
       "       'Волхов', 'Кингисепп', 'Приозерск', 'Сестрорецк', ' Куттузи',\n",
       "       ' Аннино', '  Ефимовский', ' Плодовое', ' Заклинье', ' Торковичи',\n",
       "       ' Первомайское', 'Красное Село', ' Понтонный', 'Сясьстрой',\n",
       "       ' Старая', ' Лесколово', 'Сланцы', ' Путилово', 'Ивангород',\n",
       "       'Шлиссельбург', 'Никольское', 'Зеленогорск', 'Сосновый Бор',\n",
       "       ' Новый Свет', ' Кальтино', 'Кудрово', ' Романовка', ' Бугры',\n",
       "       '  Рощино', 'Кириши', 'Луга', 'Волосово', 'Отрадное', ' Павлово',\n",
       "       ' Оредеж', ' Копорье', ' Молодёжное', 'Тихвин', ' Победа',\n",
       "       ' Нурма', '  Синявино', ' Стрельна', 'Бокситогорск',\n",
       "       ' Александровская', ' Лопухинка', ' Терволово', '  Советский',\n",
       "       'Подпорожье', ' Петровское', '  Токсово', ' Сельцо', 'Тосно',\n",
       "       '  Вырица', ' Кипень', ' Келози', ' Вартемяги', ' Тельмана',\n",
       "       '  Большая Ижора', nan, '  Павлово', ' Агалатово', ' Новогорелово',\n",
       "       '  Лесогорский', ' Лаголово', ' Цвелодубово', '  Рахья',\n",
       "       ' Белогорка', ' Заводской', '  Новоселье', ' Большие Колпаны',\n",
       "       ' Горбунки', 'Мурино', ' Батово', ' Заневка', ' Иссад', 'Приморск',\n",
       "       '  Фёдоровское', ' Мистолово', 'Новая Ладога', ' Зимитицы',\n",
       "       ' Барышево', ' Разметелево', '   Свердлова', ' Пеники', ' Рябово',\n",
       "       ' Пудомяги', '  Корнево', ' Низино', ' Бегуницы', ' Поляны',\n",
       "       '  Мга', ' Елизаветино', '  Кузнечное', ' Колтуши', ' Запорожское',\n",
       "       ' Гостилицы', ' Малое Карлино', ' Мичуринское', '   Морозова',\n",
       "       ' Песочный', ' Сосново', ' Аро', ' Ильичёво', '  Тайцы',\n",
       "       ' Малое Верево', ' Извара', '  Вещево', ' Паша', ' Калитино',\n",
       "       '  Ульяновка', ' Чудской Бор', '  Дубровка', ' Мины', ' Коркино',\n",
       "       ' Ропша', '  Приладожский', ' Щеглово', ' Гаврилово',\n",
       "       'Лодейное Поле', 'Пикалёво', ' Рабитицы', '  Никольский',\n",
       "       ' Кузьмолово', ' Малые Колпаны', ' Петро-Славянка', '  Назия',\n",
       "       ' Углово', ' Старая Малукса', ' Рахья', ' Меньково',\n",
       "       ' Старые Бегуницы', ' Сапёрный', ' Семрино', ' Глажево',\n",
       "       ' Кобринское', ' Гарболово', '  Приветнинское', ' Мануйлово',\n",
       "       ' Пчева', ' Цвылёво', ' Мельниково', ' Пудость', ' Усть-Луга',\n",
       "       'Светогорск', ' Селезнёво', '  Рябово', 'Каменногорск',\n",
       "       ' Глебычево', ' Парицы', ' Жил', ' Войскорово', ' Никольское',\n",
       "       ' Оржицы', ' Стеклянный', '  Важины', ' Мыза-Ивановка',\n",
       "       ' Русско-Высоцкое', '  Форносово', ' Войсковицы', ' Старая Ладога',\n",
       "       ' Житково', '  Виллози', ' Лампово', ' Шпаньково', ' Лаврики',\n",
       "       ' Сумино', ' Возрождение', ' Старосиверская', ' Кикерино',\n",
       "       ' Старое Хинколово', ' Пригородный', ' Торфяное', 'Любань',\n",
       "       ' Репино', '  Будогощь', ' Суходолье', ' Хапо-Ое',\n",
       "       '  Дружная Горка', ' Лисий Нос', ' Яльгелево', ' Рождествено',\n",
       "       ' Старополье', ' Левашово', ' Сяськелево', ' Камышовка',\n",
       "       ' Лесная Поляна', ' Хязельки', ' Жилгородок', ' Ялгино',\n",
       "       ' Новый Учхоз', ' Гончарово', ' Почап', ' Платформа 69-й километр',\n",
       "       ' Каложицы', ' Фалилеево', ' Пельгора', ' Торошковичи',\n",
       "       ' Белоостров', ' Алексеевка', ' Серебрянский', ' Лукаши',\n",
       "       ' Тарасово', ' Кингисеппский', ' Ушаки', ' Котлы', ' Сижно',\n",
       "       ' Торосово', ' Форт Красная Горка', ' Новолисино', '  Громово',\n",
       "       ' Глинка', ' Старая Пустошь', ' Коммунары', ' Починок',\n",
       "       '  Вознесенье', ' Разбегаево', ' Гладкое', ' Тёсово-4', ' Бор',\n",
       "       ' Коробицыно', ' Большая Вруда', ' Курковицы', ' Кобралово',\n",
       "       ' Суоранда', ' Юкки', '  Кондратьево', '  Счастье', ' Реброво',\n",
       "       ' Тойворово', ' Семиозерье', ' Лесное', ' Совхозный', ' Сапёрное',\n",
       "       ' Ленинское', ' Нижние Осельки', '  Свирь', ' Перово', ' Шум',\n",
       "       ' Котельский', '  Лужайка', ' Красносельское', ' Вахнова Кара',\n",
       "       ' Пижма', '  Кивеннапа Север', ' Ромашки', ' Суйда', ' Куровицы',\n",
       "       ' Плоское', ' Кирпичное', ' Ям-Тесово', ' Раздолье', ' Терпилицы',\n",
       "       ' Шугозеро', ' Ваганово', ' Пушное', ' Садко', ' Усть-Ижора',\n",
       "       ' Выскатка', ' Громово', ' Кисельня', ' Трубников Бор',\n",
       "       ' Высокоключевой', ' Приладожский', ' Пансионат Зелёный Бор',\n",
       "       ' Ненимяки', ' Снегирёвка', ' Красная Долина', ' Рапполово',\n",
       "       ' Пустынка', ' Большой Сабск', ' Русско', ' Лупполово',\n",
       "       ' Большое Рейзино', ' Малая Романовка', ' Дружноселье', ' Пчевжа',\n",
       "       ' Володарское', ' Нижняя', '  Лесное', 'Высоцк', ' Тихковицы',\n",
       "       ' Любань', ' Борисова Грива', ' Дзержинского'], dtype=object)"
      ]
     },
     "execution_count": 42,
     "metadata": {},
     "output_type": "execute_result"
    }
   ],
   "source": [
    "# избавимся от лишних обозначений в названиях, и тем самым от неявных дубликатов\n",
    "data['locality_name'] = data['locality_name'].replace(\n",
    "    'посёлок|деревня|село|поселок|городской|городского типа|посёлок городского типа|поселок городского типа|\\\n",
    "    |садоводческое некоммерческое товарищество|садовое товарищество|станции|имени|коттеджный|при железнодорожной станции|\\\n",
    "    садовое товарищество', '', regex=True\n",
    ")\n",
    "print(data['locality_name'].describe())\n",
    "data['locality_name'].unique()"
   ]
  },
  {
   "cell_type": "markdown",
   "metadata": {},
   "source": [
    "**first_day_exposition**"
   ]
  },
  {
   "cell_type": "code",
   "execution_count": 43,
   "metadata": {
    "scrolled": true
   },
   "outputs": [],
   "source": [
    "# приведем значения в столбце 'first_day_exposition' к 'datetime'\n",
    "data['first_day_exposition'] = pd.to_datetime(data['first_day_exposition'], format='%Y.%m.%d %H:%M:%S')"
   ]
  },
  {
   "cell_type": "code",
   "execution_count": 44,
   "metadata": {
    "scrolled": false
   },
   "outputs": [
    {
     "data": {
      "text/html": [
       "<div>\n",
       "<style scoped>\n",
       "    .dataframe tbody tr th:only-of-type {\n",
       "        vertical-align: middle;\n",
       "    }\n",
       "\n",
       "    .dataframe tbody tr th {\n",
       "        vertical-align: top;\n",
       "    }\n",
       "\n",
       "    .dataframe thead th {\n",
       "        text-align: right;\n",
       "    }\n",
       "</style>\n",
       "<table border=\"1\" class=\"dataframe\">\n",
       "  <thead>\n",
       "    <tr style=\"text-align: right;\">\n",
       "      <th></th>\n",
       "      <th>total_images</th>\n",
       "      <th>last_price</th>\n",
       "      <th>total_area</th>\n",
       "      <th>first_day_exposition</th>\n",
       "      <th>rooms</th>\n",
       "      <th>ceiling_height</th>\n",
       "      <th>floors_total</th>\n",
       "      <th>living_area</th>\n",
       "      <th>floor</th>\n",
       "      <th>is_apartment</th>\n",
       "      <th>...</th>\n",
       "      <th>kitchen_area</th>\n",
       "      <th>balcony</th>\n",
       "      <th>locality_name</th>\n",
       "      <th>airports_nearest</th>\n",
       "      <th>cityCenters_nearest</th>\n",
       "      <th>parks_around3000</th>\n",
       "      <th>parks_nearest</th>\n",
       "      <th>ponds_around3000</th>\n",
       "      <th>ponds_nearest</th>\n",
       "      <th>days_exposition</th>\n",
       "    </tr>\n",
       "  </thead>\n",
       "  <tbody>\n",
       "    <tr>\n",
       "      <th>23693</th>\n",
       "      <td>9</td>\n",
       "      <td>4600000.0</td>\n",
       "      <td>62.40</td>\n",
       "      <td>2016-08-05</td>\n",
       "      <td>3</td>\n",
       "      <td>2.6</td>\n",
       "      <td>9.0</td>\n",
       "      <td>40.0</td>\n",
       "      <td>8</td>\n",
       "      <td>False</td>\n",
       "      <td>...</td>\n",
       "      <td>8.00</td>\n",
       "      <td>0</td>\n",
       "      <td>Петергоф</td>\n",
       "      <td>45602.0</td>\n",
       "      <td>34104.0</td>\n",
       "      <td>1</td>\n",
       "      <td>352</td>\n",
       "      <td>1</td>\n",
       "      <td>675</td>\n",
       "      <td>239</td>\n",
       "    </tr>\n",
       "    <tr>\n",
       "      <th>23694</th>\n",
       "      <td>9</td>\n",
       "      <td>9700000.0</td>\n",
       "      <td>133.81</td>\n",
       "      <td>2017-03-21</td>\n",
       "      <td>3</td>\n",
       "      <td>3.7</td>\n",
       "      <td>5.0</td>\n",
       "      <td>73.3</td>\n",
       "      <td>3</td>\n",
       "      <td>False</td>\n",
       "      <td>...</td>\n",
       "      <td>13.83</td>\n",
       "      <td>0</td>\n",
       "      <td>Санкт-Петербург</td>\n",
       "      <td>24665.0</td>\n",
       "      <td>4232.0</td>\n",
       "      <td>1</td>\n",
       "      <td>796</td>\n",
       "      <td>3</td>\n",
       "      <td>381</td>\n",
       "      <td>128</td>\n",
       "    </tr>\n",
       "    <tr>\n",
       "      <th>23695</th>\n",
       "      <td>14</td>\n",
       "      <td>3100000.0</td>\n",
       "      <td>59.00</td>\n",
       "      <td>2018-01-15</td>\n",
       "      <td>3</td>\n",
       "      <td>2.7</td>\n",
       "      <td>5.0</td>\n",
       "      <td>38.0</td>\n",
       "      <td>4</td>\n",
       "      <td>False</td>\n",
       "      <td>...</td>\n",
       "      <td>8.50</td>\n",
       "      <td>0</td>\n",
       "      <td>Тосно</td>\n",
       "      <td>NaN</td>\n",
       "      <td>NaN</td>\n",
       "      <td>0</td>\n",
       "      <td>0</td>\n",
       "      <td>0</td>\n",
       "      <td>0</td>\n",
       "      <td>45</td>\n",
       "    </tr>\n",
       "    <tr>\n",
       "      <th>23696</th>\n",
       "      <td>18</td>\n",
       "      <td>2500000.0</td>\n",
       "      <td>56.70</td>\n",
       "      <td>2018-02-11</td>\n",
       "      <td>2</td>\n",
       "      <td>2.7</td>\n",
       "      <td>3.0</td>\n",
       "      <td>29.7</td>\n",
       "      <td>1</td>\n",
       "      <td>False</td>\n",
       "      <td>...</td>\n",
       "      <td>9.00</td>\n",
       "      <td>0</td>\n",
       "      <td>Рождествено</td>\n",
       "      <td>NaN</td>\n",
       "      <td>NaN</td>\n",
       "      <td>0</td>\n",
       "      <td>0</td>\n",
       "      <td>0</td>\n",
       "      <td>0</td>\n",
       "      <td>128</td>\n",
       "    </tr>\n",
       "    <tr>\n",
       "      <th>23698</th>\n",
       "      <td>4</td>\n",
       "      <td>1350000.0</td>\n",
       "      <td>32.30</td>\n",
       "      <td>2017-07-21</td>\n",
       "      <td>1</td>\n",
       "      <td>2.5</td>\n",
       "      <td>5.0</td>\n",
       "      <td>12.3</td>\n",
       "      <td>1</td>\n",
       "      <td>False</td>\n",
       "      <td>...</td>\n",
       "      <td>9.00</td>\n",
       "      <td>0</td>\n",
       "      <td>Новый Учхоз</td>\n",
       "      <td>NaN</td>\n",
       "      <td>NaN</td>\n",
       "      <td>0</td>\n",
       "      <td>0</td>\n",
       "      <td>0</td>\n",
       "      <td>0</td>\n",
       "      <td>128</td>\n",
       "    </tr>\n",
       "  </tbody>\n",
       "</table>\n",
       "<p>5 rows × 22 columns</p>\n",
       "</div>"
      ],
      "text/plain": [
       "       total_images  last_price  total_area first_day_exposition  rooms  \\\n",
       "23693             9   4600000.0       62.40           2016-08-05      3   \n",
       "23694             9   9700000.0      133.81           2017-03-21      3   \n",
       "23695            14   3100000.0       59.00           2018-01-15      3   \n",
       "23696            18   2500000.0       56.70           2018-02-11      2   \n",
       "23698             4   1350000.0       32.30           2017-07-21      1   \n",
       "\n",
       "       ceiling_height  floors_total  living_area  floor  is_apartment  ...  \\\n",
       "23693             2.6           9.0         40.0      8         False  ...   \n",
       "23694             3.7           5.0         73.3      3         False  ...   \n",
       "23695             2.7           5.0         38.0      4         False  ...   \n",
       "23696             2.7           3.0         29.7      1         False  ...   \n",
       "23698             2.5           5.0         12.3      1         False  ...   \n",
       "\n",
       "       kitchen_area  balcony    locality_name  airports_nearest  \\\n",
       "23693          8.00        0         Петергоф           45602.0   \n",
       "23694         13.83        0  Санкт-Петербург           24665.0   \n",
       "23695          8.50        0            Тосно               NaN   \n",
       "23696          9.00        0      Рождествено               NaN   \n",
       "23698          9.00        0      Новый Учхоз               NaN   \n",
       "\n",
       "      cityCenters_nearest  parks_around3000  parks_nearest  ponds_around3000  \\\n",
       "23693             34104.0                 1            352                 1   \n",
       "23694              4232.0                 1            796                 3   \n",
       "23695                 NaN                 0              0                 0   \n",
       "23696                 NaN                 0              0                 0   \n",
       "23698                 NaN                 0              0                 0   \n",
       "\n",
       "       ponds_nearest  days_exposition  \n",
       "23693            675              239  \n",
       "23694            381              128  \n",
       "23695              0               45  \n",
       "23696              0              128  \n",
       "23698              0              128  \n",
       "\n",
       "[5 rows x 22 columns]"
      ]
     },
     "execution_count": 44,
     "metadata": {},
     "output_type": "execute_result"
    }
   ],
   "source": [
    "data.tail()"
   ]
  },
  {
   "cell_type": "markdown",
   "metadata": {},
   "source": [
    "**last_price**"
   ]
  },
  {
   "cell_type": "code",
   "execution_count": 45,
   "metadata": {},
   "outputs": [],
   "source": [
    "# посколько квартиры продают обычно суммами без копеек, переведем тип данных в 'int'\n",
    "data['last_price'] = data['last_price'].astype('int')"
   ]
  },
  {
   "cell_type": "markdown",
   "metadata": {},
   "source": [
    "Перед тем как переходить к следующему этапу исследования проверим все ли данные имеют корректный тип."
   ]
  },
  {
   "cell_type": "code",
   "execution_count": 84,
   "metadata": {
    "scrolled": false
   },
   "outputs": [
    {
     "name": "stdout",
     "output_type": "stream",
     "text": [
      "<class 'pandas.core.frame.DataFrame'>\n",
      "Int64Index: 19911 entries, 1 to 23698\n",
      "Data columns (total 28 columns):\n",
      " #   Column                  Non-Null Count  Dtype         \n",
      "---  ------                  --------------  -----         \n",
      " 0   total_images            19911 non-null  int64         \n",
      " 1   last_price              19911 non-null  int64         \n",
      " 2   total_area              19911 non-null  float64       \n",
      " 3   first_day_exposition    19911 non-null  datetime64[ns]\n",
      " 4   rooms                   19911 non-null  int64         \n",
      " 5   ceiling_height          19911 non-null  float64       \n",
      " 6   floors_total            19911 non-null  int64         \n",
      " 7   living_area             19911 non-null  float64       \n",
      " 8   floor                   19911 non-null  int64         \n",
      " 9   is_apartment            19911 non-null  bool          \n",
      " 10  studio                  19911 non-null  bool          \n",
      " 11  open_plan               19911 non-null  bool          \n",
      " 12  kitchen_area            19911 non-null  float64       \n",
      " 13  balcony                 19911 non-null  int64         \n",
      " 14  locality_name           19874 non-null  object        \n",
      " 15  airports_nearest        15111 non-null  float64       \n",
      " 16  cityCenters_nearest     15130 non-null  float64       \n",
      " 17  parks_around3000        19911 non-null  int64         \n",
      " 18  parks_nearest           19911 non-null  int64         \n",
      " 19  ponds_around3000        19911 non-null  int64         \n",
      " 20  ponds_nearest           19911 non-null  int64         \n",
      " 21  days_exposition         19911 non-null  int64         \n",
      " 22  price_metr              19911 non-null  int64         \n",
      " 23  week_day                19911 non-null  int64         \n",
      " 24  month_exposition        19911 non-null  int64         \n",
      " 25  year_exposition         19911 non-null  int64         \n",
      " 26  floor_category          19911 non-null  object        \n",
      " 27  cityCenters_nearest_km  15130 non-null  float64       \n",
      "dtypes: bool(3), datetime64[ns](1), float64(7), int64(15), object(2)\n",
      "memory usage: 4.0+ MB\n"
     ]
    }
   ],
   "source": [
    "data.info()"
   ]
  },
  {
   "cell_type": "code",
   "execution_count": 47,
   "metadata": {},
   "outputs": [
    {
     "data": {
      "text/plain": [
       "dtype('int64')"
      ]
     },
     "execution_count": 47,
     "metadata": {},
     "output_type": "execute_result"
    }
   ],
   "source": [
    "# переведем floors_total в int \n",
    "data['floors_total'] = data['floors_total'].astype('int')\n",
    "data['floors_total'].dtypes"
   ]
  },
  {
   "cell_type": "code",
   "execution_count": 48,
   "metadata": {
    "scrolled": true
   },
   "outputs": [
    {
     "data": {
      "text/plain": [
       "0"
      ]
     },
     "execution_count": 48,
     "metadata": {},
     "output_type": "execute_result"
    }
   ],
   "source": [
    "# проверим общие данные на явные дубликаты\n",
    "data.duplicated().sum()"
   ]
  },
  {
   "cell_type": "markdown",
   "metadata": {},
   "source": [
    "**Вывод на этапе предобработки данных:**\n",
    "\n",
    "В рамках данного раздела мы изучили даннные и привели их в вид, пригодный для исследования.\n",
    "\n",
    "Была проведена следующая работа:\n",
    "\n",
    "* данные в столбцах приведены к нужному типу\n",
    "\n",
    "* удалены неявные дубликаты\n",
    "\n",
    "* заполнены пропуски во всех возможных случаях\n",
    "\n",
    "* исследованы причины возникновения этих пропусков\n",
    "\n",
    "* исключены недостоверные данные\n",
    "\n",
    "* найдены и обработаны аномалии в данных (редкие знаения, выбросы)\n",
    "\n",
    "* общие данные проверены на явные дубликаты"
   ]
  },
  {
   "cell_type": "markdown",
   "metadata": {},
   "source": [
    "### Посчитайте и добавьте в таблицу новые столбцы"
   ]
  },
  {
   "cell_type": "code",
   "execution_count": 49,
   "metadata": {},
   "outputs": [
    {
     "data": {
      "text/plain": [
       "1         82920\n",
       "3        408176\n",
       "5         95065\n",
       "6         99195\n",
       "7        110544\n",
       "          ...  \n",
       "23693     73717\n",
       "23694     72490\n",
       "23695     52542\n",
       "23696     44091\n",
       "23698     41795\n",
       "Name: price_metr, Length: 20386, dtype: int64"
      ]
     },
     "execution_count": 49,
     "metadata": {},
     "output_type": "execute_result"
    }
   ],
   "source": [
    "#цена одного квадратного метра, и вместо округления до целых изменим тип данных на 'int'\n",
    "data['price_metr'] = (data['last_price']/data['total_area']).astype('int')\n",
    "data['price_metr']"
   ]
  },
  {
   "cell_type": "code",
   "execution_count": 50,
   "metadata": {
    "scrolled": true
   },
   "outputs": [
    {
     "data": {
      "text/plain": [
       "1        1\n",
       "3        4\n",
       "5        0\n",
       "6        3\n",
       "7        3\n",
       "        ..\n",
       "23693    4\n",
       "23694    1\n",
       "23695    0\n",
       "23696    6\n",
       "23698    4\n",
       "Name: week_day, Length: 20386, dtype: int64"
      ]
     },
     "execution_count": 50,
     "metadata": {},
     "output_type": "execute_result"
    }
   ],
   "source": [
    "#день недели публикации объявления (0 — понедельник, 1 — вторник и так далее)\n",
    "data['week_day'] = data['first_day_exposition'].dt.weekday\n",
    "data['week_day']"
   ]
  },
  {
   "cell_type": "code",
   "execution_count": 51,
   "metadata": {
    "scrolled": true
   },
   "outputs": [
    {
     "data": {
      "text/plain": [
       "1        12\n",
       "3         7\n",
       "5         9\n",
       "6        11\n",
       "7         4\n",
       "         ..\n",
       "23693     8\n",
       "23694     3\n",
       "23695     1\n",
       "23696     2\n",
       "23698     7\n",
       "Name: month_exposition, Length: 20386, dtype: int64"
      ]
     },
     "execution_count": 51,
     "metadata": {},
     "output_type": "execute_result"
    }
   ],
   "source": [
    "#месяц публикации объявления\n",
    "data['month_exposition'] = data['first_day_exposition'].dt.month\n",
    "data['month_exposition']"
   ]
  },
  {
   "cell_type": "code",
   "execution_count": 52,
   "metadata": {
    "scrolled": true
   },
   "outputs": [
    {
     "data": {
      "text/plain": [
       "1        2018\n",
       "3        2015\n",
       "5        2018\n",
       "6        2017\n",
       "7        2019\n",
       "         ... \n",
       "23693    2016\n",
       "23694    2017\n",
       "23695    2018\n",
       "23696    2018\n",
       "23698    2017\n",
       "Name: year_exposition, Length: 20386, dtype: int64"
      ]
     },
     "execution_count": 52,
     "metadata": {},
     "output_type": "execute_result"
    }
   ],
   "source": [
    "#год публикации объявления\n",
    "data['year_exposition'] = data['first_day_exposition'].dt.year\n",
    "data['year_exposition'] "
   ]
  },
  {
   "cell_type": "code",
   "execution_count": 53,
   "metadata": {},
   "outputs": [
    {
     "data": {
      "text/plain": [
       "1        первый\n",
       "3        другой\n",
       "5        другой\n",
       "6        другой\n",
       "7        другой\n",
       "          ...  \n",
       "23693    другой\n",
       "23694    другой\n",
       "23695    другой\n",
       "23696    первый\n",
       "23698    первый\n",
       "Name: floor_category, Length: 20386, dtype: object"
      ]
     },
     "execution_count": 53,
     "metadata": {},
     "output_type": "execute_result"
    }
   ],
   "source": [
    "#тип этажа квартиры (значения — «‎первый», «последний», «другой»)\n",
    "def categorize_floor(data):\n",
    "    if data['floor'] == 1:\n",
    "        return 'первый'\n",
    "    elif data['floor'] < data['floors_total']:\n",
    "        return 'другой'\n",
    "    elif data['floor'] == data['floors_total']:\n",
    "        return 'последний'\n",
    "    else:\n",
    "        return 'не найдено'\n",
    "data['floor_category'] = data.apply(categorize_floor,axis=1)\n",
    "data['floor_category']"
   ]
  },
  {
   "cell_type": "code",
   "execution_count": 54,
   "metadata": {},
   "outputs": [
    {
     "data": {
      "text/plain": [
       "1        19.0\n",
       "3         7.0\n",
       "5         NaN\n",
       "6        19.0\n",
       "7        12.0\n",
       "         ... \n",
       "23693    34.0\n",
       "23694     4.0\n",
       "23695     NaN\n",
       "23696     NaN\n",
       "23698     NaN\n",
       "Name: cityCenters_nearest_km, Length: 20386, dtype: float64"
      ]
     },
     "execution_count": 54,
     "metadata": {},
     "output_type": "execute_result"
    }
   ],
   "source": [
    "#расстояние до центра города в километрах (переведите из м в км и округлите до целых значений).\n",
    "data['cityCenters_nearest_km'] = (data['cityCenters_nearest']/1000).round(0)\n",
    "data['cityCenters_nearest_km']"
   ]
  },
  {
   "cell_type": "code",
   "execution_count": 55,
   "metadata": {
    "scrolled": true
   },
   "outputs": [
    {
     "data": {
      "text/html": [
       "<div>\n",
       "<style scoped>\n",
       "    .dataframe tbody tr th:only-of-type {\n",
       "        vertical-align: middle;\n",
       "    }\n",
       "\n",
       "    .dataframe tbody tr th {\n",
       "        vertical-align: top;\n",
       "    }\n",
       "\n",
       "    .dataframe thead th {\n",
       "        text-align: right;\n",
       "    }\n",
       "</style>\n",
       "<table border=\"1\" class=\"dataframe\">\n",
       "  <thead>\n",
       "    <tr style=\"text-align: right;\">\n",
       "      <th></th>\n",
       "      <th>total_images</th>\n",
       "      <th>last_price</th>\n",
       "      <th>total_area</th>\n",
       "      <th>first_day_exposition</th>\n",
       "      <th>rooms</th>\n",
       "      <th>ceiling_height</th>\n",
       "      <th>floors_total</th>\n",
       "      <th>living_area</th>\n",
       "      <th>floor</th>\n",
       "      <th>is_apartment</th>\n",
       "      <th>...</th>\n",
       "      <th>parks_nearest</th>\n",
       "      <th>ponds_around3000</th>\n",
       "      <th>ponds_nearest</th>\n",
       "      <th>days_exposition</th>\n",
       "      <th>price_metr</th>\n",
       "      <th>week_day</th>\n",
       "      <th>month_exposition</th>\n",
       "      <th>year_exposition</th>\n",
       "      <th>floor_category</th>\n",
       "      <th>cityCenters_nearest_km</th>\n",
       "    </tr>\n",
       "  </thead>\n",
       "  <tbody>\n",
       "    <tr>\n",
       "      <th>1</th>\n",
       "      <td>7</td>\n",
       "      <td>3350000</td>\n",
       "      <td>40.4</td>\n",
       "      <td>2018-12-04</td>\n",
       "      <td>1</td>\n",
       "      <td>2.7</td>\n",
       "      <td>11</td>\n",
       "      <td>18.6</td>\n",
       "      <td>1</td>\n",
       "      <td>False</td>\n",
       "      <td>...</td>\n",
       "      <td>0</td>\n",
       "      <td>0</td>\n",
       "      <td>0</td>\n",
       "      <td>81</td>\n",
       "      <td>82920</td>\n",
       "      <td>1</td>\n",
       "      <td>12</td>\n",
       "      <td>2018</td>\n",
       "      <td>первый</td>\n",
       "      <td>19.0</td>\n",
       "    </tr>\n",
       "    <tr>\n",
       "      <th>3</th>\n",
       "      <td>0</td>\n",
       "      <td>64900000</td>\n",
       "      <td>159.0</td>\n",
       "      <td>2015-07-24</td>\n",
       "      <td>3</td>\n",
       "      <td>2.7</td>\n",
       "      <td>14</td>\n",
       "      <td>30.0</td>\n",
       "      <td>9</td>\n",
       "      <td>False</td>\n",
       "      <td>...</td>\n",
       "      <td>84</td>\n",
       "      <td>3</td>\n",
       "      <td>234</td>\n",
       "      <td>424</td>\n",
       "      <td>408176</td>\n",
       "      <td>4</td>\n",
       "      <td>7</td>\n",
       "      <td>2015</td>\n",
       "      <td>другой</td>\n",
       "      <td>7.0</td>\n",
       "    </tr>\n",
       "    <tr>\n",
       "      <th>5</th>\n",
       "      <td>10</td>\n",
       "      <td>2890000</td>\n",
       "      <td>30.4</td>\n",
       "      <td>2018-09-10</td>\n",
       "      <td>1</td>\n",
       "      <td>2.7</td>\n",
       "      <td>12</td>\n",
       "      <td>14.4</td>\n",
       "      <td>5</td>\n",
       "      <td>False</td>\n",
       "      <td>...</td>\n",
       "      <td>0</td>\n",
       "      <td>0</td>\n",
       "      <td>0</td>\n",
       "      <td>55</td>\n",
       "      <td>95065</td>\n",
       "      <td>0</td>\n",
       "      <td>9</td>\n",
       "      <td>2018</td>\n",
       "      <td>другой</td>\n",
       "      <td>NaN</td>\n",
       "    </tr>\n",
       "    <tr>\n",
       "      <th>6</th>\n",
       "      <td>6</td>\n",
       "      <td>3700000</td>\n",
       "      <td>37.3</td>\n",
       "      <td>2017-11-02</td>\n",
       "      <td>1</td>\n",
       "      <td>2.7</td>\n",
       "      <td>26</td>\n",
       "      <td>10.6</td>\n",
       "      <td>6</td>\n",
       "      <td>False</td>\n",
       "      <td>...</td>\n",
       "      <td>0</td>\n",
       "      <td>0</td>\n",
       "      <td>0</td>\n",
       "      <td>155</td>\n",
       "      <td>99195</td>\n",
       "      <td>3</td>\n",
       "      <td>11</td>\n",
       "      <td>2017</td>\n",
       "      <td>другой</td>\n",
       "      <td>19.0</td>\n",
       "    </tr>\n",
       "    <tr>\n",
       "      <th>7</th>\n",
       "      <td>5</td>\n",
       "      <td>7915000</td>\n",
       "      <td>71.6</td>\n",
       "      <td>2019-04-18</td>\n",
       "      <td>2</td>\n",
       "      <td>2.7</td>\n",
       "      <td>24</td>\n",
       "      <td>30.0</td>\n",
       "      <td>22</td>\n",
       "      <td>False</td>\n",
       "      <td>...</td>\n",
       "      <td>0</td>\n",
       "      <td>0</td>\n",
       "      <td>0</td>\n",
       "      <td>128</td>\n",
       "      <td>110544</td>\n",
       "      <td>3</td>\n",
       "      <td>4</td>\n",
       "      <td>2019</td>\n",
       "      <td>другой</td>\n",
       "      <td>12.0</td>\n",
       "    </tr>\n",
       "  </tbody>\n",
       "</table>\n",
       "<p>5 rows × 28 columns</p>\n",
       "</div>"
      ],
      "text/plain": [
       "   total_images  last_price  total_area first_day_exposition  rooms  \\\n",
       "1             7     3350000        40.4           2018-12-04      1   \n",
       "3             0    64900000       159.0           2015-07-24      3   \n",
       "5            10     2890000        30.4           2018-09-10      1   \n",
       "6             6     3700000        37.3           2017-11-02      1   \n",
       "7             5     7915000        71.6           2019-04-18      2   \n",
       "\n",
       "   ceiling_height  floors_total  living_area  floor  is_apartment  ...  \\\n",
       "1             2.7            11         18.6      1         False  ...   \n",
       "3             2.7            14         30.0      9         False  ...   \n",
       "5             2.7            12         14.4      5         False  ...   \n",
       "6             2.7            26         10.6      6         False  ...   \n",
       "7             2.7            24         30.0     22         False  ...   \n",
       "\n",
       "   parks_nearest  ponds_around3000  ponds_nearest  days_exposition price_metr  \\\n",
       "1              0                 0              0               81      82920   \n",
       "3             84                 3            234              424     408176   \n",
       "5              0                 0              0               55      95065   \n",
       "6              0                 0              0              155      99195   \n",
       "7              0                 0              0              128     110544   \n",
       "\n",
       "   week_day  month_exposition  year_exposition  floor_category  \\\n",
       "1         1                12             2018          первый   \n",
       "3         4                 7             2015          другой   \n",
       "5         0                 9             2018          другой   \n",
       "6         3                11             2017          другой   \n",
       "7         3                 4             2019          другой   \n",
       "\n",
       "   cityCenters_nearest_km  \n",
       "1                    19.0  \n",
       "3                     7.0  \n",
       "5                     NaN  \n",
       "6                    19.0  \n",
       "7                    12.0  \n",
       "\n",
       "[5 rows x 28 columns]"
      ]
     },
     "execution_count": 55,
     "metadata": {},
     "output_type": "execute_result"
    }
   ],
   "source": [
    "# Посмотрим, что получилось\n",
    "data.head()"
   ]
  },
  {
   "cell_type": "markdown",
   "metadata": {},
   "source": [
    "**Промежуточный вывод:**\n",
    "\n",
    "Для дальнейшего исследования в таблицу добавлены новые данные, получение из исходных:\n",
    "\n",
    "* цена одного квадратного метра 'price_metr';\n",
    "* день недели публикации объявления 'week_day' (0 — понедельник, 1 — вторник и так далее);\n",
    "* месяц публикации объявления 'month_exposition';\n",
    "* год публикации объявления 'year_exposition';\n",
    "* тип этажа квартиры 'floor_category' (значения — «‎первый», «последний», «другой»);\n",
    "* расстояние до центра города в километрах 'cityCenters_nearest_km'"
   ]
  },
  {
   "cell_type": "markdown",
   "metadata": {},
   "source": [
    "### Проведите исследовательский анализ данных"
   ]
  },
  {
   "cell_type": "markdown",
   "metadata": {},
   "source": [
    "Изучим следующие параметры объектов и построим отдельные гистограммы для каждого из этих параметров:\n",
    "* общая площадь;\n",
    "* жилая площадь;\n",
    "* площадь кухни;\n",
    "* цена объекта;\n",
    "* количество комнат;\n",
    "* высота потолков;\n",
    "* этаж квартиры;\n",
    "* тип этажа квартиры («первый», «последний», «другой»);\n",
    "* общее количество этажей в доме;\n",
    "* расстояние до центра города в метрах;\n",
    "* расстояние до ближайшего аэропорта;\n",
    "* расстояние до ближайшего парка;\n",
    "* день и месяц публикации объявления."
   ]
  },
  {
   "cell_type": "code",
   "execution_count": 56,
   "metadata": {},
   "outputs": [
    {
     "data": {
      "image/png": "[encoded data removed]",
      "text/plain": [
       "<Figure size 432x288 with 1 Axes>"
      ]
     },
     "metadata": {
      "needs_background": "light"
     },
     "output_type": "display_data"
    },
    {
     "data": {
      "image/png": "[encoded data removed]",
      "text/plain": [
       "<Figure size 432x288 with 1 Axes>"
      ]
     },
     "metadata": {
      "needs_background": "light"
     },
     "output_type": "display_data"
    },
    {
     "data": {
      "image/png": "[encoded data removed]",
      "text/plain": [
       "<Figure size 432x288 with 1 Axes>"
      ]
     },
     "metadata": {
      "needs_background": "light"
     },
     "output_type": "display_data"
    }
   ],
   "source": [
    "data['total_area'].hist(bins=30, range=(0, 250), legend='total_area')\n",
    "plt.show()\n",
    "\n",
    "data['living_area'].hist(bins=30, range=(0, 150), legend='living_area')\n",
    "plt.show()\n",
    "\n",
    "data['kitchen_area'].hist(bins=30, range=(0, 30), legend='kitchen_area')\n",
    "plt.show()"
   ]
  },
  {
   "cell_type": "markdown",
   "metadata": {},
   "source": [
    "<div class=\"alert alert-block alert-success\">✔️\n",
    "    \n",
    "\n",
    "__Комментарий от ревьюера №1__\n",
    "\n",
    "Здорово, что используешь метод range() для определения пиковых значений\n",
    "</div>"
   ]
  },
  {
   "cell_type": "markdown",
   "metadata": {},
   "source": [
    "Хорошие данные, на мой взгляд, есть конечно выбросы, но они логически объяснимы. \n",
    "\n",
    "в Площади кухни 2 пика - 6кв.м и 9кв.м. Так оно и есть, первое это хрущевки, которых еще много, а второе - современные дома 80-2000-х годов стандартной планировки.\n",
    "\n",
    "в Жилой площади тоже 2 пика - 16кв.м и 33кв.м. 16 - это жилая площадь 1кк, однушек на рынке недвижимости у нас в принципе больше всего. 33кв.м. - жилаю площадь стандартной 2кк, двушки - вторая категория квартир по популярности и количеству на рынке.\n",
    "\n",
    "Общая площадь - по сути это жилая площадь + кухня + некая дельта(санузел, коридоры и пр.). И логичным образом общая площадь скрадывает пики своих отдельных слагаемых. "
   ]
  },
  {
   "cell_type": "code",
   "execution_count": 57,
   "metadata": {},
   "outputs": [
    {
     "data": {
      "image/png": "[encoded data removed]",
      "text/plain": [
       "<Figure size 432x288 with 1 Axes>"
      ]
     },
     "metadata": {
      "needs_background": "light"
     },
     "output_type": "display_data"
    }
   ],
   "source": [
    "data['last_price'].hist(bins=30, legend='last_price')\n",
    "plt.show()"
   ]
  },
  {
   "cell_type": "markdown",
   "metadata": {},
   "source": [
    "Видимо, очень большой разброс, тут даже не видно ничего. Посмотрим макс и мин значение, и отрубим хвост. Иначе далее, когда мы будем смотреть корреляции, он нам будет мешать."
   ]
  },
  {
   "cell_type": "code",
   "execution_count": 58,
   "metadata": {
    "scrolled": true
   },
   "outputs": [
    {
     "data": {
      "text/plain": [
       "count    2.038600e+04\n",
       "mean     5.534245e+06\n",
       "std      4.974667e+06\n",
       "min      4.300000e+05\n",
       "25%      3.350000e+06\n",
       "50%      4.500000e+06\n",
       "75%      6.280000e+06\n",
       "max      1.599840e+08\n",
       "Name: last_price, dtype: float64"
      ]
     },
     "execution_count": 58,
     "metadata": {},
     "output_type": "execute_result"
    }
   ],
   "source": [
    "data['last_price'].describe()"
   ]
  },
  {
   "cell_type": "code",
   "execution_count": 59,
   "metadata": {},
   "outputs": [
    {
     "data": {
      "text/plain": [
       "count    2.033700e+04\n",
       "mean     5.387631e+06\n",
       "std      3.724058e+06\n",
       "min      4.300000e+05\n",
       "25%      3.350000e+06\n",
       "50%      4.490000e+06\n",
       "75%      6.250000e+06\n",
       "max      3.999000e+07\n",
       "Name: last_price, dtype: float64"
      ]
     },
     "execution_count": 59,
     "metadata": {},
     "output_type": "execute_result"
    }
   ],
   "source": [
    "# цена в диапазоне от 430 000 до 160 млн руб. Исходя из графика, отрежем все, что выше 40 млн\n",
    "data = data.query('last_price < 40000000')\n",
    "data['last_price'].describe()"
   ]
  },
  {
   "cell_type": "code",
   "execution_count": 60,
   "metadata": {
    "scrolled": true
   },
   "outputs": [
    {
     "name": "stdout",
     "output_type": "stream",
     "text": [
      "[ 1  2  3  4  6  5  0 11  7 10  8  9]\n"
     ]
    },
    {
     "data": {
      "image/png": "[encoded data removed]",
      "text/plain": [
       "<Figure size 432x288 with 1 Axes>"
      ]
     },
     "metadata": {
      "needs_background": "light"
     },
     "output_type": "display_data"
    }
   ],
   "source": [
    "print(data['rooms'].unique())\n",
    "data['rooms'].hist(bins=30, legend='rooms')\n",
    "plt.show()"
   ]
  },
  {
   "cell_type": "markdown",
   "metadata": {},
   "source": [
    "0 комнат в природе не бывает, 6 и более комнат очень редкие значения, вызывающие большие сомнения в своей правдоподобности. Т.к. количество таких объектов невелико, спокойно отрежем лишнее"
   ]
  },
  {
   "cell_type": "code",
   "execution_count": 61,
   "metadata": {},
   "outputs": [],
   "source": [
    "data = data.query('1 <= rooms < 6')"
   ]
  },
  {
   "cell_type": "code",
   "execution_count": 62,
   "metadata": {
    "scrolled": true
   },
   "outputs": [
    {
     "data": {
      "image/png": "[encoded data removed]",
      "text/plain": [
       "<Figure size 432x288 with 1 Axes>"
      ]
     },
     "metadata": {
      "needs_background": "light"
     },
     "output_type": "display_data"
    },
    {
     "data": {
      "text/plain": [
       "array([2.7, 2.5, 2.6, 3. , 2.8, 2.9, 3.2, 3.4, 4.2, 4. , 3.1, 3.5, 3.3,\n",
       "       3.6, 3.8, 5. , 4.1, 3.7, 4.8, 4.5, 3.9, 4.4, 4.3])"
      ]
     },
     "execution_count": 62,
     "metadata": {},
     "output_type": "execute_result"
    }
   ],
   "source": [
    "data['ceiling_height'].hist(bins=30, legend='ceiling_height')\n",
    "plt.show()\n",
    "data['ceiling_height'].unique()"
   ]
  },
  {
   "cell_type": "markdown",
   "metadata": {},
   "source": [
    "С высотой потолков мы уже занимались на этапе предобработки данных. Оставим как есть"
   ]
  },
  {
   "cell_type": "code",
   "execution_count": 63,
   "metadata": {
    "scrolled": false
   },
   "outputs": [
    {
     "data": {
      "image/png": "[encoded data removed]",
      "text/plain": [
       "<Figure size 432x288 with 1 Axes>"
      ]
     },
     "metadata": {
      "needs_background": "light"
     },
     "output_type": "display_data"
    },
    {
     "data": {
      "image/png": "[encoded data removed]",
      "text/plain": [
       "<Figure size 432x288 with 1 Axes>"
      ]
     },
     "metadata": {
      "needs_background": "light"
     },
     "output_type": "display_data"
    },
    {
     "data": {
      "image/png": "[encoded data removed]",
      "text/plain": [
       "<Figure size 432x288 with 1 Axes>"
      ]
     },
     "metadata": {
      "needs_background": "light"
     },
     "output_type": "display_data"
    },
    {
     "name": "stdout",
     "output_type": "stream",
     "text": [
      "[ 1  5  6 22 26  7  3  4  2  8 11 15 18  9 13 10 19 16 20 27 17 14 12 24\n",
      " 21 23 25]\n",
      "['первый' 'другой' 'последний']\n",
      "[11 12 26 24 27  9  5  6 14 16 25  3 23 17 19 18 22  4 10  7 13 15  2  8\n",
      " 28 21 20 34  1 29]\n"
     ]
    }
   ],
   "source": [
    "# посмотрим все данные, связанные с этажами\n",
    "data['floor'].hist(bins=30, legend='floor')\n",
    "plt.show()\n",
    "data['floor_category'].hist(bins=30, legend='floor_category')\n",
    "plt.show()\n",
    "data['floors_total'].hist(bins=30, legend='floors_total')\n",
    "plt.show()\n",
    "print(data['floor'].unique())\n",
    "print(data['floor_category'].unique())\n",
    "print(data['floors_total'].unique())"
   ]
  },
  {
   "cell_type": "markdown",
   "metadata": {},
   "source": [
    "Тут почти все нормально, на мой взгляд. Выбросы в этажах мы обрезали ранее. А категория этажей логично отражает реальность: первых и последних этажей мало, других - много. Можно еще подрезать общее количество этажей,т.к. макс этаж в уникальных значениях floor - 27."
   ]
  },
  {
   "cell_type": "code",
   "execution_count": 64,
   "metadata": {},
   "outputs": [],
   "source": [
    "data = data.query('floors_total < 27')"
   ]
  },
  {
   "cell_type": "code",
   "execution_count": 65,
   "metadata": {},
   "outputs": [
    {
     "data": {
      "image/png": "[encoded data removed]",
      "text/plain": [
       "<Figure size 432x288 with 1 Axes>"
      ]
     },
     "metadata": {
      "needs_background": "light"
     },
     "output_type": "display_data"
    },
    {
     "data": {
      "image/png": "[encoded data removed]",
      "text/plain": [
       "<Figure size 432x288 with 1 Axes>"
      ]
     },
     "metadata": {
      "needs_background": "light"
     },
     "output_type": "display_data"
    },
    {
     "data": {
      "image/png": "[encoded data removed]",
      "text/plain": [
       "<Figure size 432x288 with 1 Axes>"
      ]
     },
     "metadata": {
      "needs_background": "light"
     },
     "output_type": "display_data"
    }
   ],
   "source": [
    "# расстояние до центра города в метрах;\n",
    "data['cityCenters_nearest'].hist(bins=30, legend='cityCenters_nearest')\n",
    "plt.show()\n",
    "# расстояние до ближайшего аэропорта;\n",
    "data['airports_nearest'].hist(bins=30, legend='airports_nearest')\n",
    "plt.show()\n",
    "# расстояние до ближайшего парка;\n",
    "data['parks_nearest'].hist(bins=30, legend='parks_nearest')\n",
    "plt.show()"
   ]
  },
  {
   "cell_type": "markdown",
   "metadata": {},
   "source": [
    "Расстоянием до центра города и до ближайшего аэропорвта мы занимались на этапе предобработки. Гистограммы нормальные, с учетом областных объектов небольшие кучные выбросы на высоких значениях вполне понятны.\n",
    "\n",
    "Смущает 0м в расстоянии до парка. Но вспомним, что на этапе предобработки мы так заменили пропуски, которые предположительно означают, что парка поблизости просто нет."
   ]
  },
  {
   "cell_type": "code",
   "execution_count": 66,
   "metadata": {},
   "outputs": [
    {
     "data": {
      "text/plain": [
       "0       13363\n",
       "441        49\n",
       "456        32\n",
       "458        26\n",
       "392        26\n",
       "        ...  \n",
       "1564        1\n",
       "69          1\n",
       "53          1\n",
       "1620        1\n",
       "1951        1\n",
       "Name: parks_nearest, Length: 968, dtype: int64"
      ]
     },
     "execution_count": 66,
     "metadata": {},
     "output_type": "execute_result"
    }
   ],
   "source": [
    "data['parks_nearest'].value_counts()"
   ]
  },
  {
   "cell_type": "code",
   "execution_count": 67,
   "metadata": {
    "scrolled": true
   },
   "outputs": [
    {
     "data": {
      "image/png": "[encoded data removed]",
      "text/plain": [
       "<Figure size 432x288 with 1 Axes>"
      ]
     },
     "metadata": {
      "needs_background": "light"
     },
     "output_type": "display_data"
    },
    {
     "data": {
      "image/png": "[encoded data removed]",
      "text/plain": [
       "<Figure size 432x288 with 1 Axes>"
      ]
     },
     "metadata": {
      "needs_background": "light"
     },
     "output_type": "display_data"
    },
    {
     "name": "stdout",
     "output_type": "stream",
     "text": [
      "[1 0 3 6 5 4 2]\n"
     ]
    },
    {
     "data": {
      "text/plain": [
       "array([12,  9, 11,  4,  2,  8,  6,  7,  1,  3, 10,  5])"
      ]
     },
     "execution_count": 67,
     "metadata": {},
     "output_type": "execute_result"
    }
   ],
   "source": [
    "data['week_day'].hist(bins=30, legend='days_exposition')\n",
    "plt.show()\n",
    "data['month_exposition'].hist(bins=30, legend='month_exposition')\n",
    "plt.show()\n",
    "print(data['week_day'].unique())\n",
    "data['month_exposition'].unique()"
   ]
  },
  {
   "cell_type": "markdown",
   "metadata": {},
   "source": [
    "Тут все в норме. 7 дней недели - от 0 до 6 и 12 месяцев. Интересно отметить, что больше всего квартр выставляется на продажу в феврале-марте и в будни (со вторника по пятницу). Что вполне объяснимо: после мертвого января и до дачного сезона собственники занимаются куплей-продажей. Осень - также хороший сезон для недвижимости. Ну а будни - время для активных действий, в отличие от выходных, которые хочется освободить для отдыха."
   ]
  },
  {
   "cell_type": "markdown",
   "metadata": {},
   "source": [
    "Изучим, как быстро продавались квартиры (столбец days_exposition). "
   ]
  },
  {
   "cell_type": "code",
   "execution_count": 68,
   "metadata": {},
   "outputs": [
    {
     "data": {
      "image/png": "[encoded data removed]",
      "text/plain": [
       "<Figure size 432x288 with 1 Axes>"
      ]
     },
     "metadata": {
      "needs_background": "light"
     },
     "output_type": "display_data"
    },
    {
     "data": {
      "text/plain": [
       "count    19911.000000\n",
       "mean       127.090503\n",
       "std        111.686709\n",
       "min          1.000000\n",
       "25%         45.000000\n",
       "50%        105.000000\n",
       "75%        160.000000\n",
       "max        510.000000\n",
       "Name: days_exposition, dtype: float64"
      ]
     },
     "execution_count": 68,
     "metadata": {},
     "output_type": "execute_result"
    }
   ],
   "source": [
    "#Построим гистограмму, посчитаем среднее и медиану.\n",
    "data['days_exposition'].hist(bins=30)\n",
    "plt.show()\n",
    "data['days_exposition'].describe()\n"
   ]
  },
  {
   "cell_type": "markdown",
   "metadata": {},
   "source": [
    "Получается, что продажа занимает в среднем от 105 до 127 дней, это 3,5 - 4 мес. Да, на практике так и есть.\n",
    "\n",
    "Быстрыми продажами можно считать те, которые в первом квартиле- от 1 до 45 дней, т.е. до 1,5 мес. \n",
    "\n",
    "Долгими - все, что больше 3 квартиля, от 5 мес (160 дней).\n",
    "\n",
    "Нереально долгие продажи мы отсекли на этапе предобработки, оставив в рассмотрении продажи до 1,5 лет."
   ]
  },
  {
   "cell_type": "markdown",
   "metadata": {},
   "source": [
    "**Изучим, какие факторы больше всего влияют на общую (полную) стоимость объекта.** Для этого рассмотрим, зависит ли цена от:\n",
    "общей площади;\n",
    "жилой площади;\n",
    "площади кухни;\n",
    "количества комнат;\n",
    "этажа, на котором расположена квартира (первый, последний, другой);\n",
    "даты размещения (день недели, месяц, год).\n",
    "\n",
    "Вместо last_ptice в некоторых случаях думаю правильным будет рассматривать ее производную - стоимость кв метра price_metr"
   ]
  },
  {
   "cell_type": "code",
   "execution_count": 69,
   "metadata": {},
   "outputs": [
    {
     "name": "stdout",
     "output_type": "stream",
     "text": [
      "0.7501588714465985\n"
     ]
    },
    {
     "data": {
      "image/png": "[encoded data removed]",
      "text/plain": [
       "<Figure size 432x288 with 1 Axes>"
      ]
     },
     "metadata": {
      "needs_background": "light"
     },
     "output_type": "display_data"
    }
   ],
   "source": [
    "# построим диаграммы рассеивания и почитаем коэффициенты корреляции\n",
    "# цена от общей площади\n",
    "data.plot(x='total_area', y='last_price', kind='scatter')\n",
    "print(data['total_area'].corr(data['last_price'])) "
   ]
  },
  {
   "cell_type": "markdown",
   "metadata": {},
   "source": [
    "Да, зависит! Чем больше площадь квартиры, тем выше цена. Это очевидно с точки зрения здравого смысла, хорошо видно на диаграмме. И коэффициент корреляции 0,7 говорит о наличии линейной зависимости."
   ]
  },
  {
   "cell_type": "code",
   "execution_count": 70,
   "metadata": {
    "scrolled": true
   },
   "outputs": [
    {
     "name": "stdout",
     "output_type": "stream",
     "text": [
      "0.6063051690671623\n"
     ]
    },
    {
     "data": {
      "image/png": "[encoded data removed]",
      "text/plain": [
       "<Figure size 432x288 with 1 Axes>"
      ]
     },
     "metadata": {
      "needs_background": "light"
     },
     "output_type": "display_data"
    }
   ],
   "source": [
    "# цена от жилой площади\n",
    "data.plot(x='living_area', y='last_price', kind='scatter')\n",
    "print(data['living_area'].corr(data['last_price'])) "
   ]
  },
  {
   "cell_type": "markdown",
   "metadata": {},
   "source": [
    "Коэф корр 0,6. По сравнению с общей площадью, линейная зависимость чуть меньше, но есть! Это и понятно, жилая площадь - часть общей."
   ]
  },
  {
   "cell_type": "code",
   "execution_count": 71,
   "metadata": {
    "scrolled": true
   },
   "outputs": [
    {
     "name": "stdout",
     "output_type": "stream",
     "text": [
      "0.4700733898003027\n"
     ]
    },
    {
     "data": {
      "image/png": "[encoded data removed]",
      "text/plain": [
       "<Figure size 432x288 with 1 Axes>"
      ]
     },
     "metadata": {
      "needs_background": "light"
     },
     "output_type": "display_data"
    }
   ],
   "source": [
    "# цена от площади кухни \n",
    "data.plot(x='kitchen_area', y='last_price', kind='scatter')\n",
    "print(data['kitchen_area'].corr(data['last_price'])) "
   ]
  },
  {
   "cell_type": "markdown",
   "metadata": {},
   "source": [
    "Линейным образом не зависит. И то верно, на кухне, какая бы она большая ни была, жить не очень удобно"
   ]
  },
  {
   "cell_type": "code",
   "execution_count": 72,
   "metadata": {
    "scrolled": true
   },
   "outputs": [
    {
     "name": "stdout",
     "output_type": "stream",
     "text": [
      "0.458932775720777\n"
     ]
    },
    {
     "data": {
      "image/png": "[encoded data removed]",
      "text/plain": [
       "<Figure size 432x288 with 1 Axes>"
      ]
     },
     "metadata": {
      "needs_background": "light"
     },
     "output_type": "display_data"
    }
   ],
   "source": [
    "# цена от количества комнат\n",
    "data.plot(x='rooms', y='last_price', kind='scatter')\n",
    "print(data['rooms'].corr(data['last_price'])) "
   ]
  },
  {
   "cell_type": "markdown",
   "metadata": {},
   "source": [
    "Линейной зависимости нет, оно и понятно. Комнат может быть много и маленьких, или одна-две и огромные. И другие факторы очень могут влиять, например локация."
   ]
  },
  {
   "cell_type": "code",
   "execution_count": 73,
   "metadata": {
    "scrolled": false
   },
   "outputs": [
    {
     "data": {
      "text/plain": [
       "<AxesSubplot:xlabel='floor_category', ylabel='last_price'>"
      ]
     },
     "execution_count": 73,
     "metadata": {},
     "output_type": "execute_result"
    },
    {
     "data": {
      "image/png": "[encoded data removed]",
      "text/plain": [
       "<Figure size 432x288 with 1 Axes>"
      ]
     },
     "metadata": {
      "needs_background": "light"
     },
     "output_type": "display_data"
    }
   ],
   "source": [
    "# цена от этажа (первый, последний, другой)\n",
    "data.plot(x='floor_category', y='last_price', kind='scatter')"
   ]
  },
  {
   "cell_type": "markdown",
   "metadata": {},
   "source": [
    "\n",
    "Коэффициент корреляции Пирсона не работает с целыми числами и строками. Например мы не можем посчитать зависимость цены от категории этажа (первый, последний, другой).\n",
    "\n",
    "Попробуем использовать сводную таблицу."
   ]
  },
  {
   "cell_type": "code",
   "execution_count": 74,
   "metadata": {
    "scrolled": true
   },
   "outputs": [
    {
     "name": "stdout",
     "output_type": "stream",
     "text": [
      "                last_price\n",
      "floor_category            \n",
      "другой             4650000\n",
      "первый             3850000\n",
      "последний          4100000\n"
     ]
    }
   ],
   "source": [
    "data_pivot = data.pivot_table(index = ['floor_category'], values = 'last_price', aggfunc = 'median')\n",
    "print(data_pivot)\n"
   ]
  },
  {
   "cell_type": "markdown",
   "metadata": {},
   "source": [
    "Тут и без Пирсона видно, что дешевле всего стоит первый этаж, чуть дороже последний, а нормальные цены предлагают за другие этажи. Поэтому зависимость от этажа есть, но не линейная, а вот от категории этажа есть линейная зависимость."
   ]
  },
  {
   "cell_type": "markdown",
   "metadata": {},
   "source": [
    "<div class=\"alert alert-block alert-success\">✔️\n",
    "    \n",
    "\n",
    "__Комментарий от ревьюера №1__\n",
    "\n",
    "Как в песне, \"первый и последний этаж не предлагать\". Традиционно, квартиры на первом и последнем этажах считаются самыми неудобными для жизни и это отражается на их стоимости.\n",
    "</div>"
   ]
  },
  {
   "cell_type": "code",
   "execution_count": 75,
   "metadata": {
    "scrolled": true
   },
   "outputs": [
    {
     "name": "stdout",
     "output_type": "stream",
     "text": [
      "-0.009984747887932624\n"
     ]
    },
    {
     "data": {
      "image/png": "[encoded data removed]",
      "text/plain": [
       "<Figure size 432x288 with 1 Axes>"
      ]
     },
     "metadata": {
      "needs_background": "light"
     },
     "output_type": "display_data"
    }
   ],
   "source": [
    "# цена от даты размещения (день недели, месяц, год).\n",
    "data.plot(x='week_day', y='last_price', kind='scatter')\n",
    "print(data['week_day'].corr(data['last_price'])) "
   ]
  },
  {
   "cell_type": "markdown",
   "metadata": {},
   "source": [
    "И коэффициент и диаграмма рассеивания говорят за то, что зависимости между ценой квартиры и днем размещения нет. И это соответствует здравому смыслу. Каждый день размещаются и дешевые и дорогие квартиры."
   ]
  },
  {
   "cell_type": "code",
   "execution_count": 76,
   "metadata": {
    "scrolled": true
   },
   "outputs": [
    {
     "name": "stdout",
     "output_type": "stream",
     "text": [
      "0.001983322016593342\n"
     ]
    },
    {
     "data": {
      "image/png": "[encoded data removed]",
      "text/plain": [
       "<Figure size 432x288 with 1 Axes>"
      ]
     },
     "metadata": {
      "needs_background": "light"
     },
     "output_type": "display_data"
    }
   ],
   "source": [
    "data.plot(x='month_exposition', y='last_price', kind='scatter')\n",
    "print(data['month_exposition'].corr(data['last_price'])) "
   ]
  },
  {
   "cell_type": "markdown",
   "metadata": {},
   "source": [
    "Линейной зависимости нет совсем. Это понятно, рыночные цены меняются годами, но не от месяца к месяцу."
   ]
  },
  {
   "cell_type": "code",
   "execution_count": 77,
   "metadata": {},
   "outputs": [
    {
     "name": "stdout",
     "output_type": "stream",
     "text": [
      "0.0010677618759682892\n"
     ]
    },
    {
     "data": {
      "image/png": "[encoded data removed]",
      "text/plain": [
       "<Figure size 432x288 with 1 Axes>"
      ]
     },
     "metadata": {
      "needs_background": "light"
     },
     "output_type": "display_data"
    }
   ],
   "source": [
    "data.plot(x='year_exposition', y='last_price', kind='scatter')\n",
    "print(data['year_exposition'].corr(data['last_price'])) "
   ]
  },
  {
   "cell_type": "markdown",
   "metadata": {},
   "source": [
    "И здесь линейной зависимости нет. Слишком большой разброс объектов по характеристикам, нет категоризации, мы смотрим весь рынок в целом."
   ]
  },
  {
   "cell_type": "code",
   "execution_count": 78,
   "metadata": {
    "scrolled": true
   },
   "outputs": [
    {
     "data": {
      "text/html": [
       "<div>\n",
       "<style scoped>\n",
       "    .dataframe tbody tr th:only-of-type {\n",
       "        vertical-align: middle;\n",
       "    }\n",
       "\n",
       "    .dataframe tbody tr th {\n",
       "        vertical-align: top;\n",
       "    }\n",
       "\n",
       "    .dataframe thead th {\n",
       "        text-align: right;\n",
       "    }\n",
       "</style>\n",
       "<table border=\"1\" class=\"dataframe\">\n",
       "  <thead>\n",
       "    <tr style=\"text-align: right;\">\n",
       "      <th></th>\n",
       "      <th>total_images</th>\n",
       "      <th>last_price</th>\n",
       "      <th>total_area</th>\n",
       "      <th>rooms</th>\n",
       "      <th>ceiling_height</th>\n",
       "      <th>floors_total</th>\n",
       "      <th>living_area</th>\n",
       "      <th>floor</th>\n",
       "      <th>is_apartment</th>\n",
       "      <th>studio</th>\n",
       "      <th>...</th>\n",
       "      <th>parks_around3000</th>\n",
       "      <th>parks_nearest</th>\n",
       "      <th>ponds_around3000</th>\n",
       "      <th>ponds_nearest</th>\n",
       "      <th>days_exposition</th>\n",
       "      <th>price_metr</th>\n",
       "      <th>week_day</th>\n",
       "      <th>month_exposition</th>\n",
       "      <th>year_exposition</th>\n",
       "      <th>cityCenters_nearest_km</th>\n",
       "    </tr>\n",
       "  </thead>\n",
       "  <tbody>\n",
       "    <tr>\n",
       "      <th>total_images</th>\n",
       "      <td>1.000000</td>\n",
       "      <td>0.139083</td>\n",
       "      <td>0.103147</td>\n",
       "      <td>0.082912</td>\n",
       "      <td>0.014640</td>\n",
       "      <td>0.020511</td>\n",
       "      <td>0.095001</td>\n",
       "      <td>0.039664</td>\n",
       "      <td>0.008407</td>\n",
       "      <td>-0.017234</td>\n",
       "      <td>...</td>\n",
       "      <td>0.025437</td>\n",
       "      <td>0.024471</td>\n",
       "      <td>0.004105</td>\n",
       "      <td>0.007036</td>\n",
       "      <td>0.010182</td>\n",
       "      <td>0.126895</td>\n",
       "      <td>-0.009509</td>\n",
       "      <td>0.006739</td>\n",
       "      <td>0.135689</td>\n",
       "      <td>-0.040698</td>\n",
       "    </tr>\n",
       "    <tr>\n",
       "      <th>last_price</th>\n",
       "      <td>0.139083</td>\n",
       "      <td>1.000000</td>\n",
       "      <td>0.750159</td>\n",
       "      <td>0.458933</td>\n",
       "      <td>0.382853</td>\n",
       "      <td>0.107488</td>\n",
       "      <td>0.606305</td>\n",
       "      <td>0.090540</td>\n",
       "      <td>0.020142</td>\n",
       "      <td>-0.016545</td>\n",
       "      <td>...</td>\n",
       "      <td>0.273979</td>\n",
       "      <td>0.229423</td>\n",
       "      <td>0.286985</td>\n",
       "      <td>0.176128</td>\n",
       "      <td>0.060955</td>\n",
       "      <td>0.692904</td>\n",
       "      <td>-0.009985</td>\n",
       "      <td>0.001983</td>\n",
       "      <td>0.001068</td>\n",
       "      <td>-0.335421</td>\n",
       "    </tr>\n",
       "    <tr>\n",
       "      <th>total_area</th>\n",
       "      <td>0.103147</td>\n",
       "      <td>0.750159</td>\n",
       "      <td>1.000000</td>\n",
       "      <td>0.781689</td>\n",
       "      <td>0.337694</td>\n",
       "      <td>-0.033175</td>\n",
       "      <td>0.865541</td>\n",
       "      <td>-0.022813</td>\n",
       "      <td>0.018320</td>\n",
       "      <td>-0.028592</td>\n",
       "      <td>...</td>\n",
       "      <td>0.143794</td>\n",
       "      <td>0.117776</td>\n",
       "      <td>0.167201</td>\n",
       "      <td>0.090334</td>\n",
       "      <td>0.101704</td>\n",
       "      <td>0.126943</td>\n",
       "      <td>-0.009803</td>\n",
       "      <td>0.013033</td>\n",
       "      <td>-0.047903</td>\n",
       "      <td>-0.200757</td>\n",
       "    </tr>\n",
       "    <tr>\n",
       "      <th>rooms</th>\n",
       "      <td>0.082912</td>\n",
       "      <td>0.458933</td>\n",
       "      <td>0.781689</td>\n",
       "      <td>1.000000</td>\n",
       "      <td>0.158085</td>\n",
       "      <td>-0.221019</td>\n",
       "      <td>0.839249</td>\n",
       "      <td>-0.164215</td>\n",
       "      <td>-0.006483</td>\n",
       "      <td>-0.025035</td>\n",
       "      <td>...</td>\n",
       "      <td>0.098673</td>\n",
       "      <td>0.064484</td>\n",
       "      <td>0.082621</td>\n",
       "      <td>0.044684</td>\n",
       "      <td>0.081183</td>\n",
       "      <td>-0.082669</td>\n",
       "      <td>-0.002157</td>\n",
       "      <td>0.003399</td>\n",
       "      <td>-0.028092</td>\n",
       "      <td>-0.139135</td>\n",
       "    </tr>\n",
       "    <tr>\n",
       "      <th>ceiling_height</th>\n",
       "      <td>0.014640</td>\n",
       "      <td>0.382853</td>\n",
       "      <td>0.337694</td>\n",
       "      <td>0.158085</td>\n",
       "      <td>1.000000</td>\n",
       "      <td>-0.040196</td>\n",
       "      <td>0.294564</td>\n",
       "      <td>-0.024418</td>\n",
       "      <td>0.053102</td>\n",
       "      <td>0.001752</td>\n",
       "      <td>...</td>\n",
       "      <td>0.203719</td>\n",
       "      <td>0.111303</td>\n",
       "      <td>0.201478</td>\n",
       "      <td>0.080854</td>\n",
       "      <td>0.054367</td>\n",
       "      <td>0.254840</td>\n",
       "      <td>-0.012658</td>\n",
       "      <td>0.000634</td>\n",
       "      <td>-0.059101</td>\n",
       "      <td>-0.272701</td>\n",
       "    </tr>\n",
       "    <tr>\n",
       "      <th>floors_total</th>\n",
       "      <td>0.020511</td>\n",
       "      <td>0.107488</td>\n",
       "      <td>-0.033175</td>\n",
       "      <td>-0.221019</td>\n",
       "      <td>-0.040196</td>\n",
       "      <td>1.000000</td>\n",
       "      <td>-0.158793</td>\n",
       "      <td>0.670161</td>\n",
       "      <td>-0.028030</td>\n",
       "      <td>0.019316</td>\n",
       "      <td>...</td>\n",
       "      <td>-0.136791</td>\n",
       "      <td>-0.047610</td>\n",
       "      <td>-0.042792</td>\n",
       "      <td>0.037576</td>\n",
       "      <td>-0.047600</td>\n",
       "      <td>0.267672</td>\n",
       "      <td>0.012784</td>\n",
       "      <td>0.015955</td>\n",
       "      <td>-0.006567</td>\n",
       "      <td>-0.018452</td>\n",
       "    </tr>\n",
       "    <tr>\n",
       "      <th>living_area</th>\n",
       "      <td>0.095001</td>\n",
       "      <td>0.606305</td>\n",
       "      <td>0.865541</td>\n",
       "      <td>0.839249</td>\n",
       "      <td>0.294564</td>\n",
       "      <td>-0.158793</td>\n",
       "      <td>1.000000</td>\n",
       "      <td>-0.112803</td>\n",
       "      <td>0.010838</td>\n",
       "      <td>-0.020033</td>\n",
       "      <td>...</td>\n",
       "      <td>0.151444</td>\n",
       "      <td>0.097024</td>\n",
       "      <td>0.139402</td>\n",
       "      <td>0.074405</td>\n",
       "      <td>0.094903</td>\n",
       "      <td>0.040588</td>\n",
       "      <td>-0.009025</td>\n",
       "      <td>-0.000871</td>\n",
       "      <td>-0.036718</td>\n",
       "      <td>-0.189967</td>\n",
       "    </tr>\n",
       "    <tr>\n",
       "      <th>floor</th>\n",
       "      <td>0.039664</td>\n",
       "      <td>0.090540</td>\n",
       "      <td>-0.022813</td>\n",
       "      <td>-0.164215</td>\n",
       "      <td>-0.024418</td>\n",
       "      <td>0.670161</td>\n",
       "      <td>-0.112803</td>\n",
       "      <td>1.000000</td>\n",
       "      <td>-0.018921</td>\n",
       "      <td>0.013615</td>\n",
       "      <td>...</td>\n",
       "      <td>-0.091611</td>\n",
       "      <td>-0.028307</td>\n",
       "      <td>-0.023476</td>\n",
       "      <td>0.029880</td>\n",
       "      <td>-0.040363</td>\n",
       "      <td>0.204258</td>\n",
       "      <td>0.008807</td>\n",
       "      <td>0.020055</td>\n",
       "      <td>-0.001477</td>\n",
       "      <td>-0.009846</td>\n",
       "    </tr>\n",
       "    <tr>\n",
       "      <th>is_apartment</th>\n",
       "      <td>0.008407</td>\n",
       "      <td>0.020142</td>\n",
       "      <td>0.018320</td>\n",
       "      <td>-0.006483</td>\n",
       "      <td>0.053102</td>\n",
       "      <td>-0.028030</td>\n",
       "      <td>0.010838</td>\n",
       "      <td>-0.018921</td>\n",
       "      <td>1.000000</td>\n",
       "      <td>-0.000898</td>\n",
       "      <td>...</td>\n",
       "      <td>0.009344</td>\n",
       "      <td>-0.015347</td>\n",
       "      <td>0.015530</td>\n",
       "      <td>0.018147</td>\n",
       "      <td>-0.008474</td>\n",
       "      <td>0.016736</td>\n",
       "      <td>-0.016720</td>\n",
       "      <td>-0.010008</td>\n",
       "      <td>0.023435</td>\n",
       "      <td>0.015815</td>\n",
       "    </tr>\n",
       "    <tr>\n",
       "      <th>studio</th>\n",
       "      <td>-0.017234</td>\n",
       "      <td>-0.016545</td>\n",
       "      <td>-0.028592</td>\n",
       "      <td>-0.025035</td>\n",
       "      <td>0.001752</td>\n",
       "      <td>0.019316</td>\n",
       "      <td>-0.020033</td>\n",
       "      <td>0.013615</td>\n",
       "      <td>-0.000898</td>\n",
       "      <td>1.000000</td>\n",
       "      <td>...</td>\n",
       "      <td>-0.008505</td>\n",
       "      <td>-0.010292</td>\n",
       "      <td>-0.005214</td>\n",
       "      <td>-0.004726</td>\n",
       "      <td>-0.011081</td>\n",
       "      <td>0.003842</td>\n",
       "      <td>-0.003999</td>\n",
       "      <td>-0.008799</td>\n",
       "      <td>-0.040255</td>\n",
       "      <td>-0.001693</td>\n",
       "    </tr>\n",
       "    <tr>\n",
       "      <th>open_plan</th>\n",
       "      <td>-0.007235</td>\n",
       "      <td>0.002014</td>\n",
       "      <td>0.001025</td>\n",
       "      <td>0.003420</td>\n",
       "      <td>0.013139</td>\n",
       "      <td>0.006369</td>\n",
       "      <td>0.006185</td>\n",
       "      <td>-0.000880</td>\n",
       "      <td>-0.000663</td>\n",
       "      <td>-0.000408</td>\n",
       "      <td>...</td>\n",
       "      <td>-0.002646</td>\n",
       "      <td>-0.007348</td>\n",
       "      <td>-0.001059</td>\n",
       "      <td>-0.002540</td>\n",
       "      <td>-0.000688</td>\n",
       "      <td>0.002808</td>\n",
       "      <td>-0.008826</td>\n",
       "      <td>-0.000320</td>\n",
       "      <td>-0.034258</td>\n",
       "      <td>-0.001693</td>\n",
       "    </tr>\n",
       "    <tr>\n",
       "      <th>kitchen_area</th>\n",
       "      <td>0.071664</td>\n",
       "      <td>0.470073</td>\n",
       "      <td>0.460077</td>\n",
       "      <td>0.101111</td>\n",
       "      <td>0.306032</td>\n",
       "      <td>0.354070</td>\n",
       "      <td>0.270940</td>\n",
       "      <td>0.241034</td>\n",
       "      <td>0.008488</td>\n",
       "      <td>-0.003254</td>\n",
       "      <td>...</td>\n",
       "      <td>0.030144</td>\n",
       "      <td>0.056822</td>\n",
       "      <td>0.125724</td>\n",
       "      <td>0.069963</td>\n",
       "      <td>0.054445</td>\n",
       "      <td>0.282293</td>\n",
       "      <td>-0.012052</td>\n",
       "      <td>0.019724</td>\n",
       "      <td>-0.033603</td>\n",
       "      <td>-0.154104</td>\n",
       "    </tr>\n",
       "    <tr>\n",
       "      <th>balcony</th>\n",
       "      <td>0.036787</td>\n",
       "      <td>-0.010261</td>\n",
       "      <td>-0.033388</td>\n",
       "      <td>-0.069946</td>\n",
       "      <td>-0.074659</td>\n",
       "      <td>0.179973</td>\n",
       "      <td>-0.062022</td>\n",
       "      <td>0.176346</td>\n",
       "      <td>0.018196</td>\n",
       "      <td>0.024003</td>\n",
       "      <td>...</td>\n",
       "      <td>-0.082048</td>\n",
       "      <td>-0.041119</td>\n",
       "      <td>-0.043232</td>\n",
       "      <td>-0.017367</td>\n",
       "      <td>-0.030379</td>\n",
       "      <td>0.028795</td>\n",
       "      <td>-0.000910</td>\n",
       "      <td>0.013272</td>\n",
       "      <td>-0.014643</td>\n",
       "      <td>0.062866</td>\n",
       "    </tr>\n",
       "    <tr>\n",
       "      <th>airports_nearest</th>\n",
       "      <td>0.002188</td>\n",
       "      <td>-0.041732</td>\n",
       "      <td>-0.027968</td>\n",
       "      <td>-0.058476</td>\n",
       "      <td>-0.079729</td>\n",
       "      <td>0.100989</td>\n",
       "      <td>-0.053172</td>\n",
       "      <td>0.066879</td>\n",
       "      <td>0.027839</td>\n",
       "      <td>0.009205</td>\n",
       "      <td>...</td>\n",
       "      <td>0.021299</td>\n",
       "      <td>-0.042530</td>\n",
       "      <td>-0.042842</td>\n",
       "      <td>-0.069872</td>\n",
       "      <td>-0.004107</td>\n",
       "      <td>-0.043566</td>\n",
       "      <td>0.002076</td>\n",
       "      <td>0.001637</td>\n",
       "      <td>0.004185</td>\n",
       "      <td>0.265162</td>\n",
       "    </tr>\n",
       "    <tr>\n",
       "      <th>cityCenters_nearest</th>\n",
       "      <td>-0.041048</td>\n",
       "      <td>-0.334685</td>\n",
       "      <td>-0.200248</td>\n",
       "      <td>-0.138971</td>\n",
       "      <td>-0.272285</td>\n",
       "      <td>-0.017972</td>\n",
       "      <td>-0.189409</td>\n",
       "      <td>-0.009443</td>\n",
       "      <td>0.015913</td>\n",
       "      <td>-0.001878</td>\n",
       "      <td>...</td>\n",
       "      <td>-0.129739</td>\n",
       "      <td>-0.149723</td>\n",
       "      <td>-0.042461</td>\n",
       "      <td>-0.032250</td>\n",
       "      <td>-0.011894</td>\n",
       "      <td>-0.379208</td>\n",
       "      <td>0.006491</td>\n",
       "      <td>-0.010383</td>\n",
       "      <td>0.008420</td>\n",
       "      <td>0.999443</td>\n",
       "    </tr>\n",
       "    <tr>\n",
       "      <th>parks_around3000</th>\n",
       "      <td>0.025437</td>\n",
       "      <td>0.273979</td>\n",
       "      <td>0.143794</td>\n",
       "      <td>0.098673</td>\n",
       "      <td>0.203719</td>\n",
       "      <td>-0.136791</td>\n",
       "      <td>0.151444</td>\n",
       "      <td>-0.091611</td>\n",
       "      <td>0.009344</td>\n",
       "      <td>-0.008505</td>\n",
       "      <td>...</td>\n",
       "      <td>1.000000</td>\n",
       "      <td>0.593763</td>\n",
       "      <td>0.380327</td>\n",
       "      <td>0.194955</td>\n",
       "      <td>0.021027</td>\n",
       "      <td>0.296912</td>\n",
       "      <td>-0.004950</td>\n",
       "      <td>-0.001653</td>\n",
       "      <td>-0.030021</td>\n",
       "      <td>-0.130442</td>\n",
       "    </tr>\n",
       "    <tr>\n",
       "      <th>parks_nearest</th>\n",
       "      <td>0.024471</td>\n",
       "      <td>0.229423</td>\n",
       "      <td>0.117776</td>\n",
       "      <td>0.064484</td>\n",
       "      <td>0.111303</td>\n",
       "      <td>-0.047610</td>\n",
       "      <td>0.097024</td>\n",
       "      <td>-0.028307</td>\n",
       "      <td>-0.015347</td>\n",
       "      <td>-0.010292</td>\n",
       "      <td>...</td>\n",
       "      <td>0.593763</td>\n",
       "      <td>1.000000</td>\n",
       "      <td>0.298930</td>\n",
       "      <td>0.183644</td>\n",
       "      <td>0.016727</td>\n",
       "      <td>0.259471</td>\n",
       "      <td>-0.005413</td>\n",
       "      <td>0.005187</td>\n",
       "      <td>-0.027957</td>\n",
       "      <td>-0.150208</td>\n",
       "    </tr>\n",
       "    <tr>\n",
       "      <th>ponds_around3000</th>\n",
       "      <td>0.004105</td>\n",
       "      <td>0.286985</td>\n",
       "      <td>0.167201</td>\n",
       "      <td>0.082621</td>\n",
       "      <td>0.201478</td>\n",
       "      <td>-0.042792</td>\n",
       "      <td>0.139402</td>\n",
       "      <td>-0.023476</td>\n",
       "      <td>0.015530</td>\n",
       "      <td>-0.005214</td>\n",
       "      <td>...</td>\n",
       "      <td>0.380327</td>\n",
       "      <td>0.298930</td>\n",
       "      <td>1.000000</td>\n",
       "      <td>0.621312</td>\n",
       "      <td>0.025242</td>\n",
       "      <td>0.300357</td>\n",
       "      <td>-0.003785</td>\n",
       "      <td>-0.005459</td>\n",
       "      <td>-0.029197</td>\n",
       "      <td>-0.043624</td>\n",
       "    </tr>\n",
       "    <tr>\n",
       "      <th>ponds_nearest</th>\n",
       "      <td>0.007036</td>\n",
       "      <td>0.176128</td>\n",
       "      <td>0.090334</td>\n",
       "      <td>0.044684</td>\n",
       "      <td>0.080854</td>\n",
       "      <td>0.037576</td>\n",
       "      <td>0.074405</td>\n",
       "      <td>0.029880</td>\n",
       "      <td>0.018147</td>\n",
       "      <td>-0.004726</td>\n",
       "      <td>...</td>\n",
       "      <td>0.194955</td>\n",
       "      <td>0.183644</td>\n",
       "      <td>0.621312</td>\n",
       "      <td>1.000000</td>\n",
       "      <td>-0.004523</td>\n",
       "      <td>0.216575</td>\n",
       "      <td>-0.009088</td>\n",
       "      <td>0.007968</td>\n",
       "      <td>-0.019578</td>\n",
       "      <td>-0.032344</td>\n",
       "    </tr>\n",
       "    <tr>\n",
       "      <th>days_exposition</th>\n",
       "      <td>0.010182</td>\n",
       "      <td>0.060955</td>\n",
       "      <td>0.101704</td>\n",
       "      <td>0.081183</td>\n",
       "      <td>0.054367</td>\n",
       "      <td>-0.047600</td>\n",
       "      <td>0.094903</td>\n",
       "      <td>-0.040363</td>\n",
       "      <td>-0.008474</td>\n",
       "      <td>-0.011081</td>\n",
       "      <td>...</td>\n",
       "      <td>0.021027</td>\n",
       "      <td>0.016727</td>\n",
       "      <td>0.025242</td>\n",
       "      <td>-0.004523</td>\n",
       "      <td>1.000000</td>\n",
       "      <td>-0.015344</td>\n",
       "      <td>-0.017716</td>\n",
       "      <td>-0.030190</td>\n",
       "      <td>-0.375170</td>\n",
       "      <td>-0.012252</td>\n",
       "    </tr>\n",
       "    <tr>\n",
       "      <th>price_metr</th>\n",
       "      <td>0.126895</td>\n",
       "      <td>0.692904</td>\n",
       "      <td>0.126943</td>\n",
       "      <td>-0.082669</td>\n",
       "      <td>0.254840</td>\n",
       "      <td>0.267672</td>\n",
       "      <td>0.040588</td>\n",
       "      <td>0.204258</td>\n",
       "      <td>0.016736</td>\n",
       "      <td>0.003842</td>\n",
       "      <td>...</td>\n",
       "      <td>0.296912</td>\n",
       "      <td>0.259471</td>\n",
       "      <td>0.300357</td>\n",
       "      <td>0.216575</td>\n",
       "      <td>-0.015344</td>\n",
       "      <td>1.000000</td>\n",
       "      <td>-0.010836</td>\n",
       "      <td>-0.011038</td>\n",
       "      <td>0.064887</td>\n",
       "      <td>-0.379733</td>\n",
       "    </tr>\n",
       "    <tr>\n",
       "      <th>week_day</th>\n",
       "      <td>-0.009509</td>\n",
       "      <td>-0.009985</td>\n",
       "      <td>-0.009803</td>\n",
       "      <td>-0.002157</td>\n",
       "      <td>-0.012658</td>\n",
       "      <td>0.012784</td>\n",
       "      <td>-0.009025</td>\n",
       "      <td>0.008807</td>\n",
       "      <td>-0.016720</td>\n",
       "      <td>-0.003999</td>\n",
       "      <td>...</td>\n",
       "      <td>-0.004950</td>\n",
       "      <td>-0.005413</td>\n",
       "      <td>-0.003785</td>\n",
       "      <td>-0.009088</td>\n",
       "      <td>-0.017716</td>\n",
       "      <td>-0.010836</td>\n",
       "      <td>1.000000</td>\n",
       "      <td>0.011033</td>\n",
       "      <td>-0.007905</td>\n",
       "      <td>0.006165</td>\n",
       "    </tr>\n",
       "    <tr>\n",
       "      <th>month_exposition</th>\n",
       "      <td>0.006739</td>\n",
       "      <td>0.001983</td>\n",
       "      <td>0.013033</td>\n",
       "      <td>0.003399</td>\n",
       "      <td>0.000634</td>\n",
       "      <td>0.015955</td>\n",
       "      <td>-0.000871</td>\n",
       "      <td>0.020055</td>\n",
       "      <td>-0.010008</td>\n",
       "      <td>-0.008799</td>\n",
       "      <td>...</td>\n",
       "      <td>-0.001653</td>\n",
       "      <td>0.005187</td>\n",
       "      <td>-0.005459</td>\n",
       "      <td>0.007968</td>\n",
       "      <td>-0.030190</td>\n",
       "      <td>-0.011038</td>\n",
       "      <td>0.011033</td>\n",
       "      <td>1.000000</td>\n",
       "      <td>-0.297259</td>\n",
       "      <td>-0.010480</td>\n",
       "    </tr>\n",
       "    <tr>\n",
       "      <th>year_exposition</th>\n",
       "      <td>0.135689</td>\n",
       "      <td>0.001068</td>\n",
       "      <td>-0.047903</td>\n",
       "      <td>-0.028092</td>\n",
       "      <td>-0.059101</td>\n",
       "      <td>-0.006567</td>\n",
       "      <td>-0.036718</td>\n",
       "      <td>-0.001477</td>\n",
       "      <td>0.023435</td>\n",
       "      <td>-0.040255</td>\n",
       "      <td>...</td>\n",
       "      <td>-0.030021</td>\n",
       "      <td>-0.027957</td>\n",
       "      <td>-0.029197</td>\n",
       "      <td>-0.019578</td>\n",
       "      <td>-0.375170</td>\n",
       "      <td>0.064887</td>\n",
       "      <td>-0.007905</td>\n",
       "      <td>-0.297259</td>\n",
       "      <td>1.000000</td>\n",
       "      <td>0.008738</td>\n",
       "    </tr>\n",
       "    <tr>\n",
       "      <th>cityCenters_nearest_km</th>\n",
       "      <td>-0.040698</td>\n",
       "      <td>-0.335421</td>\n",
       "      <td>-0.200757</td>\n",
       "      <td>-0.139135</td>\n",
       "      <td>-0.272701</td>\n",
       "      <td>-0.018452</td>\n",
       "      <td>-0.189967</td>\n",
       "      <td>-0.009846</td>\n",
       "      <td>0.015815</td>\n",
       "      <td>-0.001693</td>\n",
       "      <td>...</td>\n",
       "      <td>-0.130442</td>\n",
       "      <td>-0.150208</td>\n",
       "      <td>-0.043624</td>\n",
       "      <td>-0.032344</td>\n",
       "      <td>-0.012252</td>\n",
       "      <td>-0.379733</td>\n",
       "      <td>0.006165</td>\n",
       "      <td>-0.010480</td>\n",
       "      <td>0.008738</td>\n",
       "      <td>1.000000</td>\n",
       "    </tr>\n",
       "  </tbody>\n",
       "</table>\n",
       "<p>25 rows × 25 columns</p>\n",
       "</div>"
      ],
      "text/plain": [
       "                        total_images  last_price  total_area     rooms  \\\n",
       "total_images                1.000000    0.139083    0.103147  0.082912   \n",
       "last_price                  0.139083    1.000000    0.750159  0.458933   \n",
       "total_area                  0.103147    0.750159    1.000000  0.781689   \n",
       "rooms                       0.082912    0.458933    0.781689  1.000000   \n",
       "ceiling_height              0.014640    0.382853    0.337694  0.158085   \n",
       "floors_total                0.020511    0.107488   -0.033175 -0.221019   \n",
       "living_area                 0.095001    0.606305    0.865541  0.839249   \n",
       "floor                       0.039664    0.090540   -0.022813 -0.164215   \n",
       "is_apartment                0.008407    0.020142    0.018320 -0.006483   \n",
       "studio                     -0.017234   -0.016545   -0.028592 -0.025035   \n",
       "open_plan                  -0.007235    0.002014    0.001025  0.003420   \n",
       "kitchen_area                0.071664    0.470073    0.460077  0.101111   \n",
       "balcony                     0.036787   -0.010261   -0.033388 -0.069946   \n",
       "airports_nearest            0.002188   -0.041732   -0.027968 -0.058476   \n",
       "cityCenters_nearest        -0.041048   -0.334685   -0.200248 -0.138971   \n",
       "parks_around3000            0.025437    0.273979    0.143794  0.098673   \n",
       "parks_nearest               0.024471    0.229423    0.117776  0.064484   \n",
       "ponds_around3000            0.004105    0.286985    0.167201  0.082621   \n",
       "ponds_nearest               0.007036    0.176128    0.090334  0.044684   \n",
       "days_exposition             0.010182    0.060955    0.101704  0.081183   \n",
       "price_metr                  0.126895    0.692904    0.126943 -0.082669   \n",
       "week_day                   -0.009509   -0.009985   -0.009803 -0.002157   \n",
       "month_exposition            0.006739    0.001983    0.013033  0.003399   \n",
       "year_exposition             0.135689    0.001068   -0.047903 -0.028092   \n",
       "cityCenters_nearest_km     -0.040698   -0.335421   -0.200757 -0.139135   \n",
       "\n",
       "                        ceiling_height  floors_total  living_area     floor  \\\n",
       "total_images                  0.014640      0.020511     0.095001  0.039664   \n",
       "last_price                    0.382853      0.107488     0.606305  0.090540   \n",
       "total_area                    0.337694     -0.033175     0.865541 -0.022813   \n",
       "rooms                         0.158085     -0.221019     0.839249 -0.164215   \n",
       "ceiling_height                1.000000     -0.040196     0.294564 -0.024418   \n",
       "floors_total                 -0.040196      1.000000    -0.158793  0.670161   \n",
       "living_area                   0.294564     -0.158793     1.000000 -0.112803   \n",
       "floor                        -0.024418      0.670161    -0.112803  1.000000   \n",
       "is_apartment                  0.053102     -0.028030     0.010838 -0.018921   \n",
       "studio                        0.001752      0.019316    -0.020033  0.013615   \n",
       "open_plan                     0.013139      0.006369     0.006185 -0.000880   \n",
       "kitchen_area                  0.306032      0.354070     0.270940  0.241034   \n",
       "balcony                      -0.074659      0.179973    -0.062022  0.176346   \n",
       "airports_nearest             -0.079729      0.100989    -0.053172  0.066879   \n",
       "cityCenters_nearest          -0.272285     -0.017972    -0.189409 -0.009443   \n",
       "parks_around3000              0.203719     -0.136791     0.151444 -0.091611   \n",
       "parks_nearest                 0.111303     -0.047610     0.097024 -0.028307   \n",
       "ponds_around3000              0.201478     -0.042792     0.139402 -0.023476   \n",
       "ponds_nearest                 0.080854      0.037576     0.074405  0.029880   \n",
       "days_exposition               0.054367     -0.047600     0.094903 -0.040363   \n",
       "price_metr                    0.254840      0.267672     0.040588  0.204258   \n",
       "week_day                     -0.012658      0.012784    -0.009025  0.008807   \n",
       "month_exposition              0.000634      0.015955    -0.000871  0.020055   \n",
       "year_exposition              -0.059101     -0.006567    -0.036718 -0.001477   \n",
       "cityCenters_nearest_km       -0.272701     -0.018452    -0.189967 -0.009846   \n",
       "\n",
       "                        is_apartment    studio  ...  parks_around3000  \\\n",
       "total_images                0.008407 -0.017234  ...          0.025437   \n",
       "last_price                  0.020142 -0.016545  ...          0.273979   \n",
       "total_area                  0.018320 -0.028592  ...          0.143794   \n",
       "rooms                      -0.006483 -0.025035  ...          0.098673   \n",
       "ceiling_height              0.053102  0.001752  ...          0.203719   \n",
       "floors_total               -0.028030  0.019316  ...         -0.136791   \n",
       "living_area                 0.010838 -0.020033  ...          0.151444   \n",
       "floor                      -0.018921  0.013615  ...         -0.091611   \n",
       "is_apartment                1.000000 -0.000898  ...          0.009344   \n",
       "studio                     -0.000898  1.000000  ...         -0.008505   \n",
       "open_plan                  -0.000663 -0.000408  ...         -0.002646   \n",
       "kitchen_area                0.008488 -0.003254  ...          0.030144   \n",
       "balcony                     0.018196  0.024003  ...         -0.082048   \n",
       "airports_nearest            0.027839  0.009205  ...          0.021299   \n",
       "cityCenters_nearest         0.015913 -0.001878  ...         -0.129739   \n",
       "parks_around3000            0.009344 -0.008505  ...          1.000000   \n",
       "parks_nearest              -0.015347 -0.010292  ...          0.593763   \n",
       "ponds_around3000            0.015530 -0.005214  ...          0.380327   \n",
       "ponds_nearest               0.018147 -0.004726  ...          0.194955   \n",
       "days_exposition            -0.008474 -0.011081  ...          0.021027   \n",
       "price_metr                  0.016736  0.003842  ...          0.296912   \n",
       "week_day                   -0.016720 -0.003999  ...         -0.004950   \n",
       "month_exposition           -0.010008 -0.008799  ...         -0.001653   \n",
       "year_exposition             0.023435 -0.040255  ...         -0.030021   \n",
       "cityCenters_nearest_km      0.015815 -0.001693  ...         -0.130442   \n",
       "\n",
       "                        parks_nearest  ponds_around3000  ponds_nearest  \\\n",
       "total_images                 0.024471          0.004105       0.007036   \n",
       "last_price                   0.229423          0.286985       0.176128   \n",
       "total_area                   0.117776          0.167201       0.090334   \n",
       "rooms                        0.064484          0.082621       0.044684   \n",
       "ceiling_height               0.111303          0.201478       0.080854   \n",
       "floors_total                -0.047610         -0.042792       0.037576   \n",
       "living_area                  0.097024          0.139402       0.074405   \n",
       "floor                       -0.028307         -0.023476       0.029880   \n",
       "is_apartment                -0.015347          0.015530       0.018147   \n",
       "studio                      -0.010292         -0.005214      -0.004726   \n",
       "open_plan                   -0.007348         -0.001059      -0.002540   \n",
       "kitchen_area                 0.056822          0.125724       0.069963   \n",
       "balcony                     -0.041119         -0.043232      -0.017367   \n",
       "airports_nearest            -0.042530         -0.042842      -0.069872   \n",
       "cityCenters_nearest         -0.149723         -0.042461      -0.032250   \n",
       "parks_around3000             0.593763          0.380327       0.194955   \n",
       "parks_nearest                1.000000          0.298930       0.183644   \n",
       "ponds_around3000             0.298930          1.000000       0.621312   \n",
       "ponds_nearest                0.183644          0.621312       1.000000   \n",
       "days_exposition              0.016727          0.025242      -0.004523   \n",
       "price_metr                   0.259471          0.300357       0.216575   \n",
       "week_day                    -0.005413         -0.003785      -0.009088   \n",
       "month_exposition             0.005187         -0.005459       0.007968   \n",
       "year_exposition             -0.027957         -0.029197      -0.019578   \n",
       "cityCenters_nearest_km      -0.150208         -0.043624      -0.032344   \n",
       "\n",
       "                        days_exposition  price_metr  week_day  \\\n",
       "total_images                   0.010182    0.126895 -0.009509   \n",
       "last_price                     0.060955    0.692904 -0.009985   \n",
       "total_area                     0.101704    0.126943 -0.009803   \n",
       "rooms                          0.081183   -0.082669 -0.002157   \n",
       "ceiling_height                 0.054367    0.254840 -0.012658   \n",
       "floors_total                  -0.047600    0.267672  0.012784   \n",
       "living_area                    0.094903    0.040588 -0.009025   \n",
       "floor                         -0.040363    0.204258  0.008807   \n",
       "is_apartment                  -0.008474    0.016736 -0.016720   \n",
       "studio                        -0.011081    0.003842 -0.003999   \n",
       "open_plan                     -0.000688    0.002808 -0.008826   \n",
       "kitchen_area                   0.054445    0.282293 -0.012052   \n",
       "balcony                       -0.030379    0.028795 -0.000910   \n",
       "airports_nearest              -0.004107   -0.043566  0.002076   \n",
       "cityCenters_nearest           -0.011894   -0.379208  0.006491   \n",
       "parks_around3000               0.021027    0.296912 -0.004950   \n",
       "parks_nearest                  0.016727    0.259471 -0.005413   \n",
       "ponds_around3000               0.025242    0.300357 -0.003785   \n",
       "ponds_nearest                 -0.004523    0.216575 -0.009088   \n",
       "days_exposition                1.000000   -0.015344 -0.017716   \n",
       "price_metr                    -0.015344    1.000000 -0.010836   \n",
       "week_day                      -0.017716   -0.010836  1.000000   \n",
       "month_exposition              -0.030190   -0.011038  0.011033   \n",
       "year_exposition               -0.375170    0.064887 -0.007905   \n",
       "cityCenters_nearest_km        -0.012252   -0.379733  0.006165   \n",
       "\n",
       "                        month_exposition  year_exposition  \\\n",
       "total_images                    0.006739         0.135689   \n",
       "last_price                      0.001983         0.001068   \n",
       "total_area                      0.013033        -0.047903   \n",
       "rooms                           0.003399        -0.028092   \n",
       "ceiling_height                  0.000634        -0.059101   \n",
       "floors_total                    0.015955        -0.006567   \n",
       "living_area                    -0.000871        -0.036718   \n",
       "floor                           0.020055        -0.001477   \n",
       "is_apartment                   -0.010008         0.023435   \n",
       "studio                         -0.008799        -0.040255   \n",
       "open_plan                      -0.000320        -0.034258   \n",
       "kitchen_area                    0.019724        -0.033603   \n",
       "balcony                         0.013272        -0.014643   \n",
       "airports_nearest                0.001637         0.004185   \n",
       "cityCenters_nearest            -0.010383         0.008420   \n",
       "parks_around3000               -0.001653        -0.030021   \n",
       "parks_nearest                   0.005187        -0.027957   \n",
       "ponds_around3000               -0.005459        -0.029197   \n",
       "ponds_nearest                   0.007968        -0.019578   \n",
       "days_exposition                -0.030190        -0.375170   \n",
       "price_metr                     -0.011038         0.064887   \n",
       "week_day                        0.011033        -0.007905   \n",
       "month_exposition                1.000000        -0.297259   \n",
       "year_exposition                -0.297259         1.000000   \n",
       "cityCenters_nearest_km         -0.010480         0.008738   \n",
       "\n",
       "                        cityCenters_nearest_km  \n",
       "total_images                         -0.040698  \n",
       "last_price                           -0.335421  \n",
       "total_area                           -0.200757  \n",
       "rooms                                -0.139135  \n",
       "ceiling_height                       -0.272701  \n",
       "floors_total                         -0.018452  \n",
       "living_area                          -0.189967  \n",
       "floor                                -0.009846  \n",
       "is_apartment                          0.015815  \n",
       "studio                               -0.001693  \n",
       "open_plan                            -0.001693  \n",
       "kitchen_area                         -0.154104  \n",
       "balcony                               0.062866  \n",
       "airports_nearest                      0.265162  \n",
       "cityCenters_nearest                   0.999443  \n",
       "parks_around3000                     -0.130442  \n",
       "parks_nearest                        -0.150208  \n",
       "ponds_around3000                     -0.043624  \n",
       "ponds_nearest                        -0.032344  \n",
       "days_exposition                      -0.012252  \n",
       "price_metr                           -0.379733  \n",
       "week_day                              0.006165  \n",
       "month_exposition                     -0.010480  \n",
       "year_exposition                       0.008738  \n",
       "cityCenters_nearest_km                1.000000  \n",
       "\n",
       "[25 rows x 25 columns]"
      ]
     },
     "execution_count": 78,
     "metadata": {},
     "output_type": "execute_result"
    }
   ],
   "source": [
    "# Какие еще зависимости можно выявить? \n",
    "data.corr()"
   ]
  },
  {
   "cell_type": "markdown",
   "metadata": {},
   "source": [
    "Можно утверждать о существовании линейной зависимости \n",
    "\n",
    "общей площади от количества комнат: corr=0.78\n",
    "\n",
    "жилой площади от количества комнат: corr=0,84\n",
    "\n",
    "Но это все очевидные вещи)"
   ]
  },
  {
   "cell_type": "markdown",
   "metadata": {},
   "source": [
    "**Посчитайте среднюю цену одного квадратного метра в 10 населённых пунктах с наибольшим числом объявлений.**"
   ]
  },
  {
   "cell_type": "code",
   "execution_count": 79,
   "metadata": {
    "scrolled": false
   },
   "outputs": [
    {
     "name": "stdout",
     "output_type": "stream",
     "text": [
      "                     count          mean\n",
      "                price_metr    price_metr\n",
      "locality_name                           \n",
      "   Морозова             17  50732.411765\n",
      "   Свердлова            33  59625.303030\n",
      "  Большая Ижора         16  52431.062500\n",
      "  Будогощь               4  31184.250000\n",
      "  Важины                 6  20683.833333\n",
      "...                    ...           ...\n",
      "Сосновый Бор            80  75855.062500\n",
      "Сясьстрой               22  34080.454545\n",
      "Тихвин                  46  39926.913043\n",
      "Тосно                   89  59358.685393\n",
      "Шлиссельбург            51  59016.470588\n",
      "\n",
      "[308 rows x 2 columns]\n"
     ]
    },
    {
     "data": {
      "text/html": [
       "<div>\n",
       "<style scoped>\n",
       "    .dataframe tbody tr th:only-of-type {\n",
       "        vertical-align: middle;\n",
       "    }\n",
       "\n",
       "    .dataframe tbody tr th {\n",
       "        vertical-align: top;\n",
       "    }\n",
       "\n",
       "    .dataframe thead th {\n",
       "        text-align: right;\n",
       "    }\n",
       "</style>\n",
       "<table border=\"1\" class=\"dataframe\">\n",
       "  <thead>\n",
       "    <tr style=\"text-align: right;\">\n",
       "      <th></th>\n",
       "      <th>count</th>\n",
       "      <th>mean_price</th>\n",
       "    </tr>\n",
       "    <tr>\n",
       "      <th>locality_name</th>\n",
       "      <th></th>\n",
       "      <th></th>\n",
       "    </tr>\n",
       "  </thead>\n",
       "  <tbody>\n",
       "    <tr>\n",
       "      <th>Санкт-Петербург</th>\n",
       "      <td>13014</td>\n",
       "      <td>109621.864684</td>\n",
       "    </tr>\n",
       "    <tr>\n",
       "      <th>Мурино</th>\n",
       "      <td>406</td>\n",
       "      <td>85358.371921</td>\n",
       "    </tr>\n",
       "    <tr>\n",
       "      <th>Шушары</th>\n",
       "      <td>402</td>\n",
       "      <td>78392.519900</td>\n",
       "    </tr>\n",
       "    <tr>\n",
       "      <th>Всеволожск</th>\n",
       "      <td>338</td>\n",
       "      <td>68548.109467</td>\n",
       "    </tr>\n",
       "    <tr>\n",
       "      <th>Колпино</th>\n",
       "      <td>309</td>\n",
       "      <td>75072.928803</td>\n",
       "    </tr>\n",
       "    <tr>\n",
       "      <th>Пушкин</th>\n",
       "      <td>306</td>\n",
       "      <td>100865.029412</td>\n",
       "    </tr>\n",
       "    <tr>\n",
       "      <th>Гатчина</th>\n",
       "      <td>269</td>\n",
       "      <td>68694.955390</td>\n",
       "    </tr>\n",
       "    <tr>\n",
       "      <th>Парголово</th>\n",
       "      <td>248</td>\n",
       "      <td>88820.520161</td>\n",
       "    </tr>\n",
       "    <tr>\n",
       "      <th>Кудрово</th>\n",
       "      <td>235</td>\n",
       "      <td>93288.672340</td>\n",
       "    </tr>\n",
       "    <tr>\n",
       "      <th>Выборг</th>\n",
       "      <td>210</td>\n",
       "      <td>58151.366667</td>\n",
       "    </tr>\n",
       "  </tbody>\n",
       "</table>\n",
       "</div>"
      ],
      "text/plain": [
       "                 count     mean_price\n",
       "locality_name                        \n",
       "Санкт-Петербург  13014  109621.864684\n",
       " Мурино            406   85358.371921\n",
       " Шушары            402   78392.519900\n",
       "Всеволожск         338   68548.109467\n",
       "Колпино            309   75072.928803\n",
       "Пушкин             306  100865.029412\n",
       "Гатчина            269   68694.955390\n",
       " Парголово         248   88820.520161\n",
       " Кудрово           235   93288.672340\n",
       "Выборг             210   58151.366667"
      ]
     },
     "execution_count": 79,
     "metadata": {},
     "output_type": "execute_result"
    }
   ],
   "source": [
    "# сделаем сводную таблицу\n",
    "top_locality = data.pivot_table(index = 'locality_name', values = 'price_metr', aggfunc=['count', 'mean']) \n",
    "print(top_locality)\n",
    "\n",
    "# переименуем столбцы и отсортируем\n",
    "top_locality.columns=('count', 'mean_price')\n",
    "top_locality.sort_values('count', ascending = False).head(10)"
   ]
  },
  {
   "cell_type": "markdown",
   "metadata": {},
   "source": [
    "**Выделите населённые пункты с самой высокой и низкой стоимостью квадратного метра.**"
   ]
  },
  {
   "cell_type": "code",
   "execution_count": 80,
   "metadata": {},
   "outputs": [
    {
     "data": {
      "text/html": [
       "<div>\n",
       "<style scoped>\n",
       "    .dataframe tbody tr th:only-of-type {\n",
       "        vertical-align: middle;\n",
       "    }\n",
       "\n",
       "    .dataframe tbody tr th {\n",
       "        vertical-align: top;\n",
       "    }\n",
       "\n",
       "    .dataframe thead th {\n",
       "        text-align: right;\n",
       "    }\n",
       "</style>\n",
       "<table border=\"1\" class=\"dataframe\">\n",
       "  <thead>\n",
       "    <tr style=\"text-align: right;\">\n",
       "      <th></th>\n",
       "      <th>count</th>\n",
       "      <th>mean_price</th>\n",
       "    </tr>\n",
       "    <tr>\n",
       "      <th>locality_name</th>\n",
       "      <th></th>\n",
       "      <th></th>\n",
       "    </tr>\n",
       "  </thead>\n",
       "  <tbody>\n",
       "    <tr>\n",
       "      <th>Лисий Нос</th>\n",
       "      <td>2</td>\n",
       "      <td>113728.0</td>\n",
       "    </tr>\n",
       "    <tr>\n",
       "      <th>Старополье</th>\n",
       "      <td>3</td>\n",
       "      <td>11206.0</td>\n",
       "    </tr>\n",
       "  </tbody>\n",
       "</table>\n",
       "</div>"
      ],
      "text/plain": [
       "               count  mean_price\n",
       "locality_name                   \n",
       " Лисий Нос         2    113728.0\n",
       " Старополье        3     11206.0"
      ]
     },
     "execution_count": 80,
     "metadata": {},
     "output_type": "execute_result"
    }
   ],
   "source": [
    "# во всей базе данных\n",
    "top_locality.query('mean_price==mean_price.max() or mean_price==mean_price.min()')"
   ]
  },
  {
   "cell_type": "code",
   "execution_count": 81,
   "metadata": {},
   "outputs": [
    {
     "data": {
      "text/html": [
       "<div>\n",
       "<style scoped>\n",
       "    .dataframe tbody tr th:only-of-type {\n",
       "        vertical-align: middle;\n",
       "    }\n",
       "\n",
       "    .dataframe tbody tr th {\n",
       "        vertical-align: top;\n",
       "    }\n",
       "\n",
       "    .dataframe thead th {\n",
       "        text-align: right;\n",
       "    }\n",
       "</style>\n",
       "<table border=\"1\" class=\"dataframe\">\n",
       "  <thead>\n",
       "    <tr style=\"text-align: right;\">\n",
       "      <th></th>\n",
       "      <th>count</th>\n",
       "      <th>mean_price</th>\n",
       "    </tr>\n",
       "    <tr>\n",
       "      <th>locality_name</th>\n",
       "      <th></th>\n",
       "      <th></th>\n",
       "    </tr>\n",
       "  </thead>\n",
       "  <tbody>\n",
       "    <tr>\n",
       "      <th>Санкт-Петербург</th>\n",
       "      <td>13014</td>\n",
       "      <td>109621.864684</td>\n",
       "    </tr>\n",
       "    <tr>\n",
       "      <th>Выборг</th>\n",
       "      <td>210</td>\n",
       "      <td>58151.366667</td>\n",
       "    </tr>\n",
       "  </tbody>\n",
       "</table>\n",
       "</div>"
      ],
      "text/plain": [
       "                 count     mean_price\n",
       "locality_name                        \n",
       "Санкт-Петербург  13014  109621.864684\n",
       "Выборг             210   58151.366667"
      ]
     },
     "execution_count": 81,
     "metadata": {},
     "output_type": "execute_result"
    }
   ],
   "source": [
    "# в первой десятке\n",
    "top_locality.sort_values('count', ascending = False).head(10)\\\n",
    ".query('mean_price==mean_price.max() or mean_price==mean_price.min()')"
   ]
  },
  {
   "cell_type": "markdown",
   "metadata": {},
   "source": [
    "**Выделите квартиры в Санкт-Петербурге с помощью столбца locality_name и вычислите среднюю цену каждого километра.**"
   ]
  },
  {
   "cell_type": "code",
   "execution_count": 82,
   "metadata": {},
   "outputs": [
    {
     "data": {
      "text/html": [
       "<div>\n",
       "<style scoped>\n",
       "    .dataframe tbody tr th:only-of-type {\n",
       "        vertical-align: middle;\n",
       "    }\n",
       "\n",
       "    .dataframe tbody tr th {\n",
       "        vertical-align: top;\n",
       "    }\n",
       "\n",
       "    .dataframe thead th {\n",
       "        text-align: right;\n",
       "    }\n",
       "</style>\n",
       "<table border=\"1\" class=\"dataframe\">\n",
       "  <thead>\n",
       "    <tr style=\"text-align: right;\">\n",
       "      <th></th>\n",
       "      <th>price_metr</th>\n",
       "    </tr>\n",
       "    <tr>\n",
       "      <th>cityCenters_nearest_km</th>\n",
       "      <th></th>\n",
       "    </tr>\n",
       "  </thead>\n",
       "  <tbody>\n",
       "    <tr>\n",
       "      <th>0.0</th>\n",
       "      <td>149701.928571</td>\n",
       "    </tr>\n",
       "    <tr>\n",
       "      <th>1.0</th>\n",
       "      <td>150518.629310</td>\n",
       "    </tr>\n",
       "    <tr>\n",
       "      <th>2.0</th>\n",
       "      <td>132293.308824</td>\n",
       "    </tr>\n",
       "    <tr>\n",
       "      <th>3.0</th>\n",
       "      <td>118030.605578</td>\n",
       "    </tr>\n",
       "    <tr>\n",
       "      <th>4.0</th>\n",
       "      <td>123100.440994</td>\n",
       "    </tr>\n",
       "    <tr>\n",
       "      <th>5.0</th>\n",
       "      <td>131189.868217</td>\n",
       "    </tr>\n",
       "    <tr>\n",
       "      <th>6.0</th>\n",
       "      <td>131605.620455</td>\n",
       "    </tr>\n",
       "    <tr>\n",
       "      <th>7.0</th>\n",
       "      <td>134240.186916</td>\n",
       "    </tr>\n",
       "    <tr>\n",
       "      <th>8.0</th>\n",
       "      <td>120815.454741</td>\n",
       "    </tr>\n",
       "    <tr>\n",
       "      <th>9.0</th>\n",
       "      <td>112105.271255</td>\n",
       "    </tr>\n",
       "    <tr>\n",
       "      <th>10.0</th>\n",
       "      <td>110932.572800</td>\n",
       "    </tr>\n",
       "    <tr>\n",
       "      <th>11.0</th>\n",
       "      <td>107084.372898</td>\n",
       "    </tr>\n",
       "    <tr>\n",
       "      <th>12.0</th>\n",
       "      <td>107373.660777</td>\n",
       "    </tr>\n",
       "    <tr>\n",
       "      <th>13.0</th>\n",
       "      <td>107410.643307</td>\n",
       "    </tr>\n",
       "    <tr>\n",
       "      <th>14.0</th>\n",
       "      <td>103602.066607</td>\n",
       "    </tr>\n",
       "    <tr>\n",
       "      <th>15.0</th>\n",
       "      <td>102833.422741</td>\n",
       "    </tr>\n",
       "    <tr>\n",
       "      <th>16.0</th>\n",
       "      <td>99919.560177</td>\n",
       "    </tr>\n",
       "    <tr>\n",
       "      <th>17.0</th>\n",
       "      <td>97144.133333</td>\n",
       "    </tr>\n",
       "    <tr>\n",
       "      <th>18.0</th>\n",
       "      <td>96146.376623</td>\n",
       "    </tr>\n",
       "    <tr>\n",
       "      <th>19.0</th>\n",
       "      <td>98818.231884</td>\n",
       "    </tr>\n",
       "    <tr>\n",
       "      <th>20.0</th>\n",
       "      <td>87214.526316</td>\n",
       "    </tr>\n",
       "    <tr>\n",
       "      <th>21.0</th>\n",
       "      <td>92602.602041</td>\n",
       "    </tr>\n",
       "    <tr>\n",
       "      <th>22.0</th>\n",
       "      <td>90737.541899</td>\n",
       "    </tr>\n",
       "    <tr>\n",
       "      <th>23.0</th>\n",
       "      <td>89331.211268</td>\n",
       "    </tr>\n",
       "    <tr>\n",
       "      <th>24.0</th>\n",
       "      <td>83594.894737</td>\n",
       "    </tr>\n",
       "    <tr>\n",
       "      <th>25.0</th>\n",
       "      <td>92341.720000</td>\n",
       "    </tr>\n",
       "    <tr>\n",
       "      <th>26.0</th>\n",
       "      <td>87831.690476</td>\n",
       "    </tr>\n",
       "    <tr>\n",
       "      <th>27.0</th>\n",
       "      <td>70312.000000</td>\n",
       "    </tr>\n",
       "    <tr>\n",
       "      <th>28.0</th>\n",
       "      <td>81161.571429</td>\n",
       "    </tr>\n",
       "    <tr>\n",
       "      <th>29.0</th>\n",
       "      <td>66417.500000</td>\n",
       "    </tr>\n",
       "  </tbody>\n",
       "</table>\n",
       "</div>"
      ],
      "text/plain": [
       "                           price_metr\n",
       "cityCenters_nearest_km               \n",
       "0.0                     149701.928571\n",
       "1.0                     150518.629310\n",
       "2.0                     132293.308824\n",
       "3.0                     118030.605578\n",
       "4.0                     123100.440994\n",
       "5.0                     131189.868217\n",
       "6.0                     131605.620455\n",
       "7.0                     134240.186916\n",
       "8.0                     120815.454741\n",
       "9.0                     112105.271255\n",
       "10.0                    110932.572800\n",
       "11.0                    107084.372898\n",
       "12.0                    107373.660777\n",
       "13.0                    107410.643307\n",
       "14.0                    103602.066607\n",
       "15.0                    102833.422741\n",
       "16.0                     99919.560177\n",
       "17.0                     97144.133333\n",
       "18.0                     96146.376623\n",
       "19.0                     98818.231884\n",
       "20.0                     87214.526316\n",
       "21.0                     92602.602041\n",
       "22.0                     90737.541899\n",
       "23.0                     89331.211268\n",
       "24.0                     83594.894737\n",
       "25.0                     92341.720000\n",
       "26.0                     87831.690476\n",
       "27.0                     70312.000000\n",
       "28.0                     81161.571429\n",
       "29.0                     66417.500000"
      ]
     },
     "execution_count": 82,
     "metadata": {},
     "output_type": "execute_result"
    }
   ],
   "source": [
    "# выбираем Питер\n",
    "data_spb = data[data['locality_name']==\"Санкт-Петербург\"]\n",
    "\n",
    "# делаем сводную таблицу с километрами и ценой за квадратный метр, так будет нагляднее, чем нули в миллионах считать\n",
    "spb_place = data_spb.pivot_table(index='cityCenters_nearest_km', values='price_metr')\n",
    "spb_place"
   ]
  },
  {
   "cell_type": "markdown",
   "metadata": {},
   "source": [
    "**Опишите, как стоимость объектов зависит от расстояния до центра города.**"
   ]
  },
  {
   "cell_type": "code",
   "execution_count": 83,
   "metadata": {
    "scrolled": true
   },
   "outputs": [
    {
     "data": {
      "image/png": "[encoded data removed]",
      "text/plain": [
       "<Figure size 432x288 with 1 Axes>"
      ]
     },
     "metadata": {
      "needs_background": "light"
     },
     "output_type": "display_data"
    }
   ],
   "source": [
    "# построим график \n",
    "spb_place.plot(grid = True, title = 'Заголовок');"
   ]
  },
  {
   "cell_type": "markdown",
   "metadata": {},
   "source": [
    "Вывод: в целом, чем ближе к центру города, тем выше цена квадратного метра"
   ]
  },
  {
   "cell_type": "markdown",
   "metadata": {},
   "source": [
    "**Промежуточный вывод:**\n",
    "\n",
    "В ходе исследования были визуализированы взаимосвязи между парами значений во всем объеме данных и посчитаны коэффициенты корреляции.\n",
    "\n",
    "На основании этих данных были выявлены некоторые зависимости, отвечающие на основной вопрос нашего исследования - какие факторы\n",
    "влияют на цену квартиры при продаже.\n",
    "\n",
    "Кроме того, определены населенные пункты с самой высокой и самой низкой стоимостью квадратного метра. Составлен рейтинг топ-10 локаций\n",
    "с наибольшим числом объявлений и описана ситуация с ценами внутри этого рейтинга.\n",
    "\n",
    "Также на основе данных и графика показано, как стоимость объектов меняется в зависимости от расстояния до центра города."
   ]
  },
  {
   "cell_type": "markdown",
   "metadata": {},
   "source": [
    "### Общий вывод"
   ]
  },
  {
   "cell_type": "markdown",
   "metadata": {},
   "source": [
    "Данные о продаже квартир в Санкт-Петербурге и Ленинградской области были обработаны и изучены.\n",
    "\n",
    "В ходе изучения данных и были выявлены следующие закономерности:\n",
    "\n",
    "- Продажа квартиры занимает в среднем от 105 до 127 дней, это 3,5 - 4 мес. \n",
    "Быстрыми продажами можно считать те, которые продаются в течение 1,5 мес.\n",
    "Долгими - все, что висят в продаже свыше 5 мес (160 дней).\n",
    "\n",
    "- Больше всего квартр выставляется на продажу в феврале-марте и в будни (со вторника по пятницу). \n",
    "\n",
    "- Больше всего влияют на общую (полную) стоимость объекта общая и жилая площадь. Чем они больше, тем выше цена.\n",
    "\n",
    "- Наиболее конкурентный рынок (наибольшее количество объявлений о продаже квартир за исследуемый период) в населенных пунктах:\n",
    "Санкт-Петербург, Мурино, Шушары, Всеволожск, Колпино, Пушкин, Гатчина, Парголово, Кудрово, Выборг. Среди них в Выборге - самые дешевые квартиры, в Питере - самые дорогие.\n",
    "\n",
    "- Чем ближе к центру города, тем выше цена квадратного метра \n",
    "\n",
    "По качеству данных есть следующие рекомендации:\n",
    "Пропуски в kitchen_area дублируют пропуски в living_area. Похоже на технический сбой при выгрузке данных.\n"
   ]
  },
  {
   "cell_type": "markdown",
   "metadata": {},
   "source": [
    "**Чтобы достичь поставленных целей, исследование проводилось в 7 этапов:**\n",
    "\n",
    "* общий обзор данных\n",
    "\n",
    "* предобработка данных\n",
    "\n",
    "* расчеты и добавление реультатов в таблицу\n",
    "\n",
    "* проведение анализа для Ленинградской области\n",
    "\n",
    "* проведение анализа для Санкт-Петербурга\n",
    "\n",
    "* определение факторов, влияющих на ценообразование стоимости квартир\n",
    "\n",
    "* написание общего вывода\n"
   ]
  }
 ],
 "metadata": {
  "ExecuteTimeLog": [
   {
    "duration": 500,
    "start_time": "2022-11-27T08:50:50.163Z"
   },
   {
    "duration": 98,
    "start_time": "2022-11-27T08:51:13.142Z"
   },
   {
    "duration": 157,
    "start_time": "2022-11-27T08:53:59.633Z"
   },
   {
    "duration": 108,
    "start_time": "2022-11-27T08:54:17.328Z"
   },
   {
    "duration": 88,
    "start_time": "2022-11-27T08:54:27.051Z"
   },
   {
    "duration": 123,
    "start_time": "2022-11-27T08:56:50.925Z"
   },
   {
    "duration": 87,
    "start_time": "2022-11-27T08:57:27.795Z"
   },
   {
    "duration": 102,
    "start_time": "2022-11-27T08:58:05.828Z"
   },
   {
    "duration": 482,
    "start_time": "2022-11-27T08:59:23.252Z"
   },
   {
    "duration": 74,
    "start_time": "2022-11-27T09:02:03.920Z"
   },
   {
    "duration": 137,
    "start_time": "2022-11-27T09:05:24.703Z"
   },
   {
    "duration": 122,
    "start_time": "2022-11-27T09:06:02.322Z"
   },
   {
    "duration": 114,
    "start_time": "2022-11-27T09:06:29.813Z"
   },
   {
    "duration": 2938,
    "start_time": "2022-11-27T09:13:17.093Z"
   },
   {
    "duration": 70,
    "start_time": "2022-11-27T12:32:22.410Z"
   },
   {
    "duration": 1322,
    "start_time": "2022-11-27T12:32:43.492Z"
   },
   {
    "duration": 1239,
    "start_time": "2022-11-27T12:33:26.127Z"
   },
   {
    "duration": 19,
    "start_time": "2022-11-27T12:39:02.956Z"
   },
   {
    "duration": 1912,
    "start_time": "2022-11-27T12:39:16.292Z"
   },
   {
    "duration": 1815,
    "start_time": "2022-11-27T12:41:34.683Z"
   },
   {
    "duration": 1836,
    "start_time": "2022-11-27T12:42:02.875Z"
   },
   {
    "duration": 1938,
    "start_time": "2022-11-27T12:42:11.417Z"
   },
   {
    "duration": 23,
    "start_time": "2022-11-27T12:46:04.239Z"
   },
   {
    "duration": 10,
    "start_time": "2022-11-27T12:46:24.970Z"
   },
   {
    "duration": 12,
    "start_time": "2022-11-27T12:47:12.334Z"
   },
   {
    "duration": 9,
    "start_time": "2022-11-27T12:47:16.865Z"
   },
   {
    "duration": 10,
    "start_time": "2022-11-27T12:47:34.461Z"
   },
   {
    "duration": 43,
    "start_time": "2022-11-27T12:50:26.175Z"
   },
   {
    "duration": 4,
    "start_time": "2022-11-27T12:51:03.494Z"
   },
   {
    "duration": 4,
    "start_time": "2022-11-27T12:51:25.391Z"
   },
   {
    "duration": 3,
    "start_time": "2022-11-27T12:51:38.522Z"
   },
   {
    "duration": 7,
    "start_time": "2022-11-27T12:51:57.127Z"
   },
   {
    "duration": 4,
    "start_time": "2022-11-27T12:52:13.587Z"
   },
   {
    "duration": 7,
    "start_time": "2022-11-27T12:52:26.507Z"
   },
   {
    "duration": 4,
    "start_time": "2022-11-27T12:53:51.245Z"
   },
   {
    "duration": 5,
    "start_time": "2022-11-27T12:54:40.313Z"
   },
   {
    "duration": 26,
    "start_time": "2022-11-27T12:58:25.044Z"
   },
   {
    "duration": 43,
    "start_time": "2022-11-27T12:59:11.683Z"
   },
   {
    "duration": 5,
    "start_time": "2022-11-27T13:02:54.138Z"
   },
   {
    "duration": 5,
    "start_time": "2022-11-27T13:04:20.522Z"
   },
   {
    "duration": 12,
    "start_time": "2022-11-27T13:04:37.333Z"
   },
   {
    "duration": 6,
    "start_time": "2022-11-27T13:05:06.619Z"
   },
   {
    "duration": 11,
    "start_time": "2022-11-27T13:08:46.079Z"
   },
   {
    "duration": 9,
    "start_time": "2022-11-27T13:12:30.800Z"
   },
   {
    "duration": 12,
    "start_time": "2022-11-27T13:12:54.972Z"
   },
   {
    "duration": 11,
    "start_time": "2022-11-27T13:13:56.747Z"
   },
   {
    "duration": 6,
    "start_time": "2022-11-27T13:28:12.780Z"
   },
   {
    "duration": 587,
    "start_time": "2022-11-27T13:28:37.580Z"
   },
   {
    "duration": 2203,
    "start_time": "2022-11-27T13:28:38.170Z"
   },
   {
    "duration": 12,
    "start_time": "2022-11-27T13:28:40.375Z"
   },
   {
    "duration": 6,
    "start_time": "2022-11-27T13:28:40.389Z"
   },
   {
    "duration": 70,
    "start_time": "2022-11-27T13:28:40.396Z"
   },
   {
    "duration": 0,
    "start_time": "2022-11-27T13:28:40.468Z"
   },
   {
    "duration": 7,
    "start_time": "2022-11-27T13:28:54.902Z"
   },
   {
    "duration": 74,
    "start_time": "2022-11-27T13:29:26.889Z"
   },
   {
    "duration": 13,
    "start_time": "2022-11-27T13:29:33.871Z"
   },
   {
    "duration": 7,
    "start_time": "2022-11-27T13:30:03.328Z"
   },
   {
    "duration": 24,
    "start_time": "2022-11-27T13:46:14.256Z"
   },
   {
    "duration": 27,
    "start_time": "2022-11-27T13:47:01.039Z"
   },
   {
    "duration": 525,
    "start_time": "2022-11-27T13:47:20.572Z"
   },
   {
    "duration": 2023,
    "start_time": "2022-11-27T13:47:21.098Z"
   },
   {
    "duration": 10,
    "start_time": "2022-11-27T13:47:23.123Z"
   },
   {
    "duration": 4,
    "start_time": "2022-11-27T13:47:23.135Z"
   },
   {
    "duration": 61,
    "start_time": "2022-11-27T13:47:23.141Z"
   },
   {
    "duration": 25,
    "start_time": "2022-11-27T13:47:39.026Z"
   },
   {
    "duration": 480,
    "start_time": "2022-11-27T13:47:48.446Z"
   },
   {
    "duration": 2086,
    "start_time": "2022-11-27T13:47:48.927Z"
   },
   {
    "duration": 11,
    "start_time": "2022-11-27T13:47:51.016Z"
   },
   {
    "duration": 15,
    "start_time": "2022-11-27T13:47:51.030Z"
   },
   {
    "duration": 31,
    "start_time": "2022-11-27T13:47:51.047Z"
   },
   {
    "duration": 27,
    "start_time": "2022-11-27T13:48:21.321Z"
   },
   {
    "duration": 24,
    "start_time": "2022-11-27T13:48:32.229Z"
   },
   {
    "duration": 24,
    "start_time": "2022-11-27T13:48:47.109Z"
   },
   {
    "duration": 588,
    "start_time": "2022-11-27T13:48:56.878Z"
   },
   {
    "duration": 2149,
    "start_time": "2022-11-27T13:48:57.469Z"
   },
   {
    "duration": 11,
    "start_time": "2022-11-27T13:48:59.619Z"
   },
   {
    "duration": 22,
    "start_time": "2022-11-27T13:48:59.631Z"
   },
   {
    "duration": 48,
    "start_time": "2022-11-27T13:48:59.654Z"
   },
   {
    "duration": 28,
    "start_time": "2022-11-27T16:16:47.062Z"
   },
   {
    "duration": 520,
    "start_time": "2022-11-27T16:17:07.315Z"
   },
   {
    "duration": 2129,
    "start_time": "2022-11-27T16:17:07.836Z"
   },
   {
    "duration": 10,
    "start_time": "2022-11-27T16:17:09.967Z"
   },
   {
    "duration": 7,
    "start_time": "2022-11-27T16:17:09.979Z"
   },
   {
    "duration": 35,
    "start_time": "2022-11-27T16:17:09.988Z"
   },
   {
    "duration": 25,
    "start_time": "2022-11-27T16:17:24.516Z"
   },
   {
    "duration": 480,
    "start_time": "2022-11-27T16:17:32.069Z"
   },
   {
    "duration": 1923,
    "start_time": "2022-11-27T16:17:32.550Z"
   },
   {
    "duration": 9,
    "start_time": "2022-11-27T16:17:34.475Z"
   },
   {
    "duration": 6,
    "start_time": "2022-11-27T16:17:34.486Z"
   },
   {
    "duration": 26,
    "start_time": "2022-11-27T16:17:34.493Z"
   },
   {
    "duration": 69,
    "start_time": "2022-11-27T16:31:57.663Z"
   },
   {
    "duration": 8,
    "start_time": "2022-11-27T16:32:57.646Z"
   },
   {
    "duration": 7,
    "start_time": "2022-11-27T16:33:08.990Z"
   },
   {
    "duration": 69,
    "start_time": "2022-11-27T16:38:22.869Z"
   },
   {
    "duration": 10,
    "start_time": "2022-11-27T16:45:38.799Z"
   },
   {
    "duration": 9,
    "start_time": "2022-11-27T16:46:19.415Z"
   },
   {
    "duration": 11,
    "start_time": "2022-11-27T16:56:05.351Z"
   },
   {
    "duration": 549,
    "start_time": "2022-11-27T16:56:34.486Z"
   },
   {
    "duration": 2080,
    "start_time": "2022-11-27T16:56:35.037Z"
   },
   {
    "duration": 9,
    "start_time": "2022-11-27T16:56:37.119Z"
   },
   {
    "duration": 41,
    "start_time": "2022-11-27T16:56:37.130Z"
   },
   {
    "duration": 149,
    "start_time": "2022-11-27T16:56:37.172Z"
   },
   {
    "duration": 9,
    "start_time": "2022-11-27T16:56:43.121Z"
   },
   {
    "duration": 8,
    "start_time": "2022-11-27T16:57:19.761Z"
   },
   {
    "duration": 4,
    "start_time": "2022-11-27T16:57:43.111Z"
   },
   {
    "duration": 25,
    "start_time": "2022-11-27T16:57:54.244Z"
   },
   {
    "duration": 6,
    "start_time": "2022-11-27T16:59:09.478Z"
   },
   {
    "duration": 6,
    "start_time": "2022-11-27T16:59:39.818Z"
   },
   {
    "duration": 6,
    "start_time": "2022-11-27T17:02:07.833Z"
   },
   {
    "duration": 7,
    "start_time": "2022-11-27T17:02:26.553Z"
   },
   {
    "duration": 26,
    "start_time": "2022-11-27T17:08:10.620Z"
   },
   {
    "duration": 1262,
    "start_time": "2022-11-27T17:38:18.423Z"
   },
   {
    "duration": 8,
    "start_time": "2022-11-27T17:38:53.368Z"
   },
   {
    "duration": 1223,
    "start_time": "2022-11-27T17:39:05.424Z"
   },
   {
    "duration": 1093,
    "start_time": "2022-11-27T17:39:54.970Z"
   },
   {
    "duration": 12,
    "start_time": "2022-11-27T17:40:31.648Z"
   },
   {
    "duration": 11,
    "start_time": "2022-11-27T17:41:24.793Z"
   },
   {
    "duration": 8,
    "start_time": "2022-11-27T17:41:40.172Z"
   },
   {
    "duration": 7,
    "start_time": "2022-11-27T17:45:45.894Z"
   },
   {
    "duration": 8,
    "start_time": "2022-11-27T17:49:34.157Z"
   },
   {
    "duration": 16,
    "start_time": "2022-11-27T17:55:54.955Z"
   },
   {
    "duration": 13,
    "start_time": "2022-11-27T17:56:27.059Z"
   },
   {
    "duration": 12,
    "start_time": "2022-11-27T17:58:10.071Z"
   },
   {
    "duration": 5,
    "start_time": "2022-11-27T17:58:24.432Z"
   },
   {
    "duration": 1233,
    "start_time": "2022-11-27T17:59:02.231Z"
   },
   {
    "duration": 5,
    "start_time": "2022-11-27T17:59:22.548Z"
   },
   {
    "duration": 7,
    "start_time": "2022-11-27T18:00:03.996Z"
   },
   {
    "duration": 7,
    "start_time": "2022-11-27T18:00:19.283Z"
   },
   {
    "duration": 543,
    "start_time": "2022-11-27T18:03:16.489Z"
   },
   {
    "duration": 2048,
    "start_time": "2022-11-27T18:03:17.033Z"
   },
   {
    "duration": 10,
    "start_time": "2022-11-27T18:03:19.085Z"
   },
   {
    "duration": 5,
    "start_time": "2022-11-27T18:03:19.096Z"
   },
   {
    "duration": 35,
    "start_time": "2022-11-27T18:03:19.103Z"
   },
   {
    "duration": 6,
    "start_time": "2022-11-27T18:03:19.139Z"
   },
   {
    "duration": 6,
    "start_time": "2022-11-27T18:03:19.146Z"
   },
   {
    "duration": 6,
    "start_time": "2022-11-27T18:03:19.153Z"
   },
   {
    "duration": 6,
    "start_time": "2022-11-27T18:03:27.831Z"
   },
   {
    "duration": 8,
    "start_time": "2022-11-27T18:05:02.868Z"
   },
   {
    "duration": 11,
    "start_time": "2022-11-27T18:06:15.190Z"
   },
   {
    "duration": 14,
    "start_time": "2022-11-27T18:07:18.395Z"
   },
   {
    "duration": 6,
    "start_time": "2022-11-27T18:07:30.922Z"
   },
   {
    "duration": 5,
    "start_time": "2022-11-27T18:14:28.558Z"
   },
   {
    "duration": 71,
    "start_time": "2022-11-27T18:17:12.260Z"
   },
   {
    "duration": 5,
    "start_time": "2022-11-27T18:17:53.291Z"
   },
   {
    "duration": 5,
    "start_time": "2022-11-27T18:29:24.057Z"
   },
   {
    "duration": 5,
    "start_time": "2022-11-27T18:29:25.560Z"
   },
   {
    "duration": 4,
    "start_time": "2022-11-27T18:30:04.172Z"
   },
   {
    "duration": 5,
    "start_time": "2022-11-27T18:30:05.167Z"
   },
   {
    "duration": 494,
    "start_time": "2022-11-27T18:30:25.836Z"
   },
   {
    "duration": 2182,
    "start_time": "2022-11-27T18:30:26.331Z"
   },
   {
    "duration": 11,
    "start_time": "2022-11-27T18:30:28.515Z"
   },
   {
    "duration": 7,
    "start_time": "2022-11-27T18:30:28.527Z"
   },
   {
    "duration": 43,
    "start_time": "2022-11-27T18:30:28.536Z"
   },
   {
    "duration": 8,
    "start_time": "2022-11-27T18:30:28.581Z"
   },
   {
    "duration": 8,
    "start_time": "2022-11-27T18:30:28.605Z"
   },
   {
    "duration": 14,
    "start_time": "2022-11-27T18:30:28.615Z"
   },
   {
    "duration": 3,
    "start_time": "2022-11-27T18:30:28.631Z"
   },
   {
    "duration": 14,
    "start_time": "2022-11-27T18:30:28.636Z"
   },
   {
    "duration": 88,
    "start_time": "2022-11-27T18:30:28.652Z"
   },
   {
    "duration": 4,
    "start_time": "2022-11-27T18:30:35.168Z"
   },
   {
    "duration": 6,
    "start_time": "2022-11-27T18:30:36.026Z"
   },
   {
    "duration": 3,
    "start_time": "2022-11-27T18:31:03.693Z"
   },
   {
    "duration": 6,
    "start_time": "2022-11-27T18:31:04.393Z"
   },
   {
    "duration": 504,
    "start_time": "2022-11-27T18:31:13.845Z"
   },
   {
    "duration": 2082,
    "start_time": "2022-11-27T18:31:14.351Z"
   },
   {
    "duration": 10,
    "start_time": "2022-11-27T18:31:16.435Z"
   },
   {
    "duration": 16,
    "start_time": "2022-11-27T18:31:16.446Z"
   },
   {
    "duration": 50,
    "start_time": "2022-11-27T18:31:16.464Z"
   },
   {
    "duration": 7,
    "start_time": "2022-11-27T18:31:16.516Z"
   },
   {
    "duration": 17,
    "start_time": "2022-11-27T18:31:16.525Z"
   },
   {
    "duration": 18,
    "start_time": "2022-11-27T18:31:16.544Z"
   },
   {
    "duration": 23,
    "start_time": "2022-11-27T18:31:16.564Z"
   },
   {
    "duration": 15,
    "start_time": "2022-11-27T18:31:16.589Z"
   },
   {
    "duration": 79,
    "start_time": "2022-11-27T18:31:16.606Z"
   },
   {
    "duration": 4,
    "start_time": "2022-11-27T18:31:19.883Z"
   },
   {
    "duration": 7,
    "start_time": "2022-11-27T18:31:20.740Z"
   },
   {
    "duration": 7,
    "start_time": "2022-11-27T18:32:52.724Z"
   },
   {
    "duration": 6,
    "start_time": "2022-11-27T18:32:53.497Z"
   },
   {
    "duration": 7,
    "start_time": "2022-11-27T18:33:27.235Z"
   },
   {
    "duration": 14,
    "start_time": "2022-11-27T19:53:08.021Z"
   },
   {
    "duration": 11,
    "start_time": "2022-11-27T19:54:20.534Z"
   },
   {
    "duration": 16,
    "start_time": "2022-11-27T19:54:33.362Z"
   },
   {
    "duration": 485,
    "start_time": "2022-11-27T19:54:53.064Z"
   },
   {
    "duration": 2039,
    "start_time": "2022-11-27T19:54:53.550Z"
   },
   {
    "duration": 10,
    "start_time": "2022-11-27T19:54:55.591Z"
   },
   {
    "duration": 17,
    "start_time": "2022-11-27T19:54:55.603Z"
   },
   {
    "duration": 39,
    "start_time": "2022-11-27T19:54:55.622Z"
   },
   {
    "duration": 7,
    "start_time": "2022-11-27T19:54:55.662Z"
   },
   {
    "duration": 32,
    "start_time": "2022-11-27T19:54:55.670Z"
   },
   {
    "duration": 39,
    "start_time": "2022-11-27T19:54:55.704Z"
   },
   {
    "duration": 12,
    "start_time": "2022-11-27T19:54:55.745Z"
   },
   {
    "duration": 29,
    "start_time": "2022-11-27T19:54:55.759Z"
   },
   {
    "duration": 63,
    "start_time": "2022-11-27T19:54:55.790Z"
   },
   {
    "duration": 78,
    "start_time": "2022-11-27T19:56:31.014Z"
   },
   {
    "duration": 485,
    "start_time": "2022-11-27T19:56:39.242Z"
   },
   {
    "duration": 1968,
    "start_time": "2022-11-27T19:56:39.729Z"
   },
   {
    "duration": 11,
    "start_time": "2022-11-27T19:56:41.699Z"
   },
   {
    "duration": 5,
    "start_time": "2022-11-27T19:56:41.712Z"
   },
   {
    "duration": 47,
    "start_time": "2022-11-27T19:56:41.719Z"
   },
   {
    "duration": 6,
    "start_time": "2022-11-27T19:56:41.768Z"
   },
   {
    "duration": 7,
    "start_time": "2022-11-27T19:56:41.776Z"
   },
   {
    "duration": 29,
    "start_time": "2022-11-27T19:56:41.784Z"
   },
   {
    "duration": 4,
    "start_time": "2022-11-27T19:56:41.815Z"
   },
   {
    "duration": 6,
    "start_time": "2022-11-27T19:56:41.821Z"
   },
   {
    "duration": 91,
    "start_time": "2022-11-27T19:56:41.829Z"
   },
   {
    "duration": 18,
    "start_time": "2022-11-27T19:56:47.360Z"
   },
   {
    "duration": 38,
    "start_time": "2022-11-27T19:56:58.081Z"
   },
   {
    "duration": 40,
    "start_time": "2022-11-27T19:58:36.154Z"
   },
   {
    "duration": 541,
    "start_time": "2022-11-27T19:58:56.808Z"
   },
   {
    "duration": 2050,
    "start_time": "2022-11-27T19:58:57.351Z"
   },
   {
    "duration": 11,
    "start_time": "2022-11-27T19:58:59.403Z"
   },
   {
    "duration": 18,
    "start_time": "2022-11-27T19:58:59.416Z"
   },
   {
    "duration": 42,
    "start_time": "2022-11-27T19:58:59.436Z"
   },
   {
    "duration": 6,
    "start_time": "2022-11-27T19:58:59.480Z"
   },
   {
    "duration": 17,
    "start_time": "2022-11-27T19:58:59.487Z"
   },
   {
    "duration": 11,
    "start_time": "2022-11-27T19:58:59.506Z"
   },
   {
    "duration": 3,
    "start_time": "2022-11-27T19:58:59.519Z"
   },
   {
    "duration": 25,
    "start_time": "2022-11-27T19:58:59.524Z"
   },
   {
    "duration": 42,
    "start_time": "2022-11-27T19:58:59.551Z"
   },
   {
    "duration": 493,
    "start_time": "2022-11-27T20:00:36.733Z"
   },
   {
    "duration": 2066,
    "start_time": "2022-11-27T20:00:37.227Z"
   },
   {
    "duration": 9,
    "start_time": "2022-11-27T20:00:39.295Z"
   },
   {
    "duration": 18,
    "start_time": "2022-11-27T20:00:39.306Z"
   },
   {
    "duration": 57,
    "start_time": "2022-11-27T20:00:39.325Z"
   },
   {
    "duration": 5,
    "start_time": "2022-11-27T20:00:39.383Z"
   },
   {
    "duration": 17,
    "start_time": "2022-11-27T20:00:39.390Z"
   },
   {
    "duration": 29,
    "start_time": "2022-11-27T20:00:39.408Z"
   },
   {
    "duration": 18,
    "start_time": "2022-11-27T20:00:39.439Z"
   },
   {
    "duration": 23,
    "start_time": "2022-11-27T20:00:39.459Z"
   },
   {
    "duration": 24,
    "start_time": "2022-11-27T20:00:39.484Z"
   },
   {
    "duration": 7,
    "start_time": "2022-11-27T20:17:52.298Z"
   },
   {
    "duration": 6,
    "start_time": "2022-11-27T20:18:26.953Z"
   },
   {
    "duration": 7,
    "start_time": "2022-11-27T20:19:17.418Z"
   },
   {
    "duration": 7,
    "start_time": "2022-11-27T20:20:05.202Z"
   },
   {
    "duration": 5,
    "start_time": "2022-11-27T20:22:00.954Z"
   },
   {
    "duration": 68,
    "start_time": "2022-11-27T20:22:28.256Z"
   },
   {
    "duration": 7,
    "start_time": "2022-11-27T20:22:35.327Z"
   },
   {
    "duration": 7,
    "start_time": "2022-11-27T20:22:59.731Z"
   },
   {
    "duration": 5,
    "start_time": "2022-11-27T20:23:12.790Z"
   },
   {
    "duration": 9,
    "start_time": "2022-11-27T20:24:26.308Z"
   },
   {
    "duration": 9,
    "start_time": "2022-11-27T20:24:43.778Z"
   },
   {
    "duration": 7,
    "start_time": "2022-11-27T20:25:09.554Z"
   },
   {
    "duration": 5,
    "start_time": "2022-11-27T20:25:32.970Z"
   },
   {
    "duration": 7,
    "start_time": "2022-11-27T20:25:49.929Z"
   },
   {
    "duration": 6,
    "start_time": "2022-11-27T20:25:57.851Z"
   },
   {
    "duration": 8,
    "start_time": "2022-11-27T20:35:07.160Z"
   },
   {
    "duration": 12,
    "start_time": "2022-11-27T20:36:14.401Z"
   },
   {
    "duration": 16,
    "start_time": "2022-11-27T20:36:46.652Z"
   },
   {
    "duration": 474,
    "start_time": "2022-11-27T20:37:04.554Z"
   },
   {
    "duration": 1992,
    "start_time": "2022-11-27T20:37:05.029Z"
   },
   {
    "duration": 10,
    "start_time": "2022-11-27T20:37:07.023Z"
   },
   {
    "duration": 5,
    "start_time": "2022-11-27T20:37:07.035Z"
   },
   {
    "duration": 35,
    "start_time": "2022-11-27T20:37:07.041Z"
   },
   {
    "duration": 6,
    "start_time": "2022-11-27T20:37:07.078Z"
   },
   {
    "duration": 18,
    "start_time": "2022-11-27T20:37:07.086Z"
   },
   {
    "duration": 11,
    "start_time": "2022-11-27T20:37:07.106Z"
   },
   {
    "duration": 4,
    "start_time": "2022-11-27T20:37:07.118Z"
   },
   {
    "duration": 9,
    "start_time": "2022-11-27T20:37:07.123Z"
   },
   {
    "duration": 13,
    "start_time": "2022-11-27T20:37:07.134Z"
   },
   {
    "duration": 5,
    "start_time": "2022-11-27T20:37:07.148Z"
   },
   {
    "duration": 19,
    "start_time": "2022-11-27T20:37:07.155Z"
   },
   {
    "duration": 502,
    "start_time": "2022-11-27T20:37:47.965Z"
   },
   {
    "duration": 1956,
    "start_time": "2022-11-27T20:37:48.469Z"
   },
   {
    "duration": 9,
    "start_time": "2022-11-27T20:37:50.427Z"
   },
   {
    "duration": 26,
    "start_time": "2022-11-27T20:37:50.438Z"
   },
   {
    "duration": 60,
    "start_time": "2022-11-27T20:37:50.466Z"
   },
   {
    "duration": 7,
    "start_time": "2022-11-27T20:37:50.528Z"
   },
   {
    "duration": 41,
    "start_time": "2022-11-27T20:37:50.536Z"
   },
   {
    "duration": 34,
    "start_time": "2022-11-27T20:37:50.578Z"
   },
   {
    "duration": 21,
    "start_time": "2022-11-27T20:37:50.613Z"
   },
   {
    "duration": 45,
    "start_time": "2022-11-27T20:37:50.636Z"
   },
   {
    "duration": 47,
    "start_time": "2022-11-27T20:37:50.683Z"
   },
   {
    "duration": 24,
    "start_time": "2022-11-27T20:37:50.731Z"
   },
   {
    "duration": 78,
    "start_time": "2022-11-27T20:37:50.756Z"
   },
   {
    "duration": 11,
    "start_time": "2022-11-27T20:38:47.330Z"
   },
   {
    "duration": 6,
    "start_time": "2022-11-27T20:50:33.987Z"
   },
   {
    "duration": 64,
    "start_time": "2022-11-27T20:59:33.447Z"
   },
   {
    "duration": 8,
    "start_time": "2022-11-27T20:59:54.873Z"
   },
   {
    "duration": 7,
    "start_time": "2022-11-27T21:00:07.313Z"
   },
   {
    "duration": 5,
    "start_time": "2022-11-27T21:01:25.785Z"
   },
   {
    "duration": 4,
    "start_time": "2022-11-27T21:09:30.140Z"
   },
   {
    "duration": 6,
    "start_time": "2022-11-27T21:10:35.698Z"
   },
   {
    "duration": 6,
    "start_time": "2022-11-27T21:11:23.479Z"
   },
   {
    "duration": 511,
    "start_time": "2022-11-27T21:11:44.733Z"
   },
   {
    "duration": 1996,
    "start_time": "2022-11-27T21:11:45.245Z"
   },
   {
    "duration": 9,
    "start_time": "2022-11-27T21:11:47.243Z"
   },
   {
    "duration": 5,
    "start_time": "2022-11-27T21:11:47.254Z"
   },
   {
    "duration": 52,
    "start_time": "2022-11-27T21:11:47.260Z"
   },
   {
    "duration": 9,
    "start_time": "2022-11-27T21:11:47.314Z"
   },
   {
    "duration": 8,
    "start_time": "2022-11-27T21:11:47.325Z"
   },
   {
    "duration": 15,
    "start_time": "2022-11-27T21:11:47.335Z"
   },
   {
    "duration": 5,
    "start_time": "2022-11-27T21:11:47.352Z"
   },
   {
    "duration": 44,
    "start_time": "2022-11-27T21:11:47.360Z"
   },
   {
    "duration": 11,
    "start_time": "2022-11-27T21:11:47.406Z"
   },
   {
    "duration": 5,
    "start_time": "2022-11-27T21:11:47.418Z"
   },
   {
    "duration": 7,
    "start_time": "2022-11-27T21:11:47.425Z"
   },
   {
    "duration": 16,
    "start_time": "2022-11-27T21:11:47.433Z"
   },
   {
    "duration": 6,
    "start_time": "2022-11-27T21:12:15.644Z"
   },
   {
    "duration": 6,
    "start_time": "2022-11-27T21:12:54.452Z"
   },
   {
    "duration": 525,
    "start_time": "2022-11-27T21:13:20.138Z"
   },
   {
    "duration": 2028,
    "start_time": "2022-11-27T21:13:20.665Z"
   },
   {
    "duration": 10,
    "start_time": "2022-11-27T21:13:22.695Z"
   },
   {
    "duration": 8,
    "start_time": "2022-11-27T21:13:22.707Z"
   },
   {
    "duration": 34,
    "start_time": "2022-11-27T21:13:22.716Z"
   },
   {
    "duration": 6,
    "start_time": "2022-11-27T21:13:22.751Z"
   },
   {
    "duration": 10,
    "start_time": "2022-11-27T21:13:22.758Z"
   },
   {
    "duration": 35,
    "start_time": "2022-11-27T21:13:22.770Z"
   },
   {
    "duration": 4,
    "start_time": "2022-11-27T21:13:22.806Z"
   },
   {
    "duration": 11,
    "start_time": "2022-11-27T21:13:22.812Z"
   },
   {
    "duration": 13,
    "start_time": "2022-11-27T21:13:22.825Z"
   },
   {
    "duration": 5,
    "start_time": "2022-11-27T21:13:22.840Z"
   },
   {
    "duration": 9,
    "start_time": "2022-11-27T21:13:22.847Z"
   },
   {
    "duration": 7,
    "start_time": "2022-11-27T21:13:22.857Z"
   },
   {
    "duration": 8,
    "start_time": "2022-11-27T21:13:34.946Z"
   },
   {
    "duration": 71,
    "start_time": "2022-11-27T21:14:31.550Z"
   },
   {
    "duration": 84,
    "start_time": "2022-11-27T21:21:19.054Z"
   },
   {
    "duration": 6,
    "start_time": "2022-11-27T21:21:54.814Z"
   },
   {
    "duration": 6,
    "start_time": "2022-11-27T21:22:52.311Z"
   },
   {
    "duration": 6,
    "start_time": "2022-11-27T21:23:18.760Z"
   },
   {
    "duration": 7,
    "start_time": "2022-11-27T21:24:23.624Z"
   },
   {
    "duration": 6,
    "start_time": "2022-11-27T21:25:13.768Z"
   },
   {
    "duration": 9,
    "start_time": "2022-11-27T21:26:21.290Z"
   },
   {
    "duration": 8,
    "start_time": "2022-11-27T21:26:37.666Z"
   },
   {
    "duration": 10,
    "start_time": "2022-11-27T21:36:58.796Z"
   },
   {
    "duration": 13,
    "start_time": "2022-11-27T21:37:28.271Z"
   },
   {
    "duration": 9,
    "start_time": "2022-11-27T21:40:59.591Z"
   },
   {
    "duration": 9,
    "start_time": "2022-11-27T21:41:15.918Z"
   },
   {
    "duration": 7,
    "start_time": "2022-11-27T21:43:20.564Z"
   },
   {
    "duration": 69,
    "start_time": "2022-11-27T21:43:39.632Z"
   },
   {
    "duration": 6,
    "start_time": "2022-11-27T21:43:57.633Z"
   },
   {
    "duration": 5,
    "start_time": "2022-11-27T21:44:28.653Z"
   },
   {
    "duration": 6,
    "start_time": "2022-11-27T21:44:55.808Z"
   },
   {
    "duration": 9,
    "start_time": "2022-11-27T21:45:13.825Z"
   },
   {
    "duration": 6,
    "start_time": "2022-11-27T21:56:50.523Z"
   },
   {
    "duration": 32,
    "start_time": "2022-11-27T21:57:48.813Z"
   },
   {
    "duration": 28,
    "start_time": "2022-11-27T21:58:29.471Z"
   },
   {
    "duration": 14,
    "start_time": "2022-11-27T21:59:07.751Z"
   },
   {
    "duration": 24,
    "start_time": "2022-11-27T21:59:39.483Z"
   },
   {
    "duration": 483,
    "start_time": "2022-11-27T21:59:51.158Z"
   },
   {
    "duration": 2058,
    "start_time": "2022-11-27T21:59:51.643Z"
   },
   {
    "duration": 10,
    "start_time": "2022-11-27T21:59:53.703Z"
   },
   {
    "duration": 11,
    "start_time": "2022-11-27T21:59:53.715Z"
   },
   {
    "duration": 47,
    "start_time": "2022-11-27T21:59:53.727Z"
   },
   {
    "duration": 7,
    "start_time": "2022-11-27T21:59:53.775Z"
   },
   {
    "duration": 21,
    "start_time": "2022-11-27T21:59:53.784Z"
   },
   {
    "duration": 11,
    "start_time": "2022-11-27T21:59:53.807Z"
   },
   {
    "duration": 6,
    "start_time": "2022-11-27T21:59:53.820Z"
   },
   {
    "duration": 15,
    "start_time": "2022-11-27T21:59:53.828Z"
   },
   {
    "duration": 11,
    "start_time": "2022-11-27T21:59:53.845Z"
   },
   {
    "duration": 6,
    "start_time": "2022-11-27T21:59:53.858Z"
   },
   {
    "duration": 7,
    "start_time": "2022-11-27T21:59:53.865Z"
   },
   {
    "duration": 10,
    "start_time": "2022-11-27T21:59:53.873Z"
   },
   {
    "duration": 8,
    "start_time": "2022-11-27T21:59:53.905Z"
   },
   {
    "duration": 18,
    "start_time": "2022-11-27T21:59:53.915Z"
   },
   {
    "duration": 30,
    "start_time": "2022-11-27T21:59:53.934Z"
   },
   {
    "duration": 8,
    "start_time": "2022-11-27T22:01:14.243Z"
   },
   {
    "duration": 32,
    "start_time": "2022-11-27T22:11:23.494Z"
   },
   {
    "duration": 26,
    "start_time": "2022-11-27T22:14:26.856Z"
   },
   {
    "duration": 27,
    "start_time": "2022-11-27T22:14:44.771Z"
   },
   {
    "duration": 6,
    "start_time": "2022-11-27T22:16:21.324Z"
   },
   {
    "duration": 7,
    "start_time": "2022-11-27T22:17:00.020Z"
   },
   {
    "duration": 9,
    "start_time": "2022-11-27T22:21:23.325Z"
   },
   {
    "duration": 9,
    "start_time": "2022-11-27T22:21:46.901Z"
   },
   {
    "duration": 8,
    "start_time": "2022-11-27T22:22:14.906Z"
   },
   {
    "duration": 10,
    "start_time": "2022-11-27T22:23:12.782Z"
   },
   {
    "duration": 70,
    "start_time": "2022-11-27T22:23:36.561Z"
   },
   {
    "duration": 16,
    "start_time": "2022-11-27T22:23:48.916Z"
   },
   {
    "duration": 13,
    "start_time": "2022-11-27T22:24:10.563Z"
   },
   {
    "duration": 15,
    "start_time": "2022-11-27T22:24:48.361Z"
   },
   {
    "duration": 14,
    "start_time": "2022-11-27T22:26:49.186Z"
   },
   {
    "duration": 14,
    "start_time": "2022-11-27T22:27:50.816Z"
   },
   {
    "duration": 8,
    "start_time": "2022-11-27T22:28:36.955Z"
   },
   {
    "duration": 13,
    "start_time": "2022-11-27T22:28:38.520Z"
   },
   {
    "duration": 12,
    "start_time": "2022-11-27T22:29:01.069Z"
   },
   {
    "duration": 514,
    "start_time": "2022-11-27T22:29:12.412Z"
   },
   {
    "duration": 1954,
    "start_time": "2022-11-27T22:29:12.927Z"
   },
   {
    "duration": 9,
    "start_time": "2022-11-27T22:29:14.883Z"
   },
   {
    "duration": 4,
    "start_time": "2022-11-27T22:29:14.894Z"
   },
   {
    "duration": 36,
    "start_time": "2022-11-27T22:29:14.899Z"
   },
   {
    "duration": 6,
    "start_time": "2022-11-27T22:29:14.937Z"
   },
   {
    "duration": 8,
    "start_time": "2022-11-27T22:29:14.945Z"
   },
   {
    "duration": 12,
    "start_time": "2022-11-27T22:29:14.954Z"
   },
   {
    "duration": 9,
    "start_time": "2022-11-27T22:29:14.967Z"
   },
   {
    "duration": 17,
    "start_time": "2022-11-27T22:29:14.978Z"
   },
   {
    "duration": 11,
    "start_time": "2022-11-27T22:29:14.996Z"
   },
   {
    "duration": 47,
    "start_time": "2022-11-27T22:29:15.009Z"
   },
   {
    "duration": 14,
    "start_time": "2022-11-27T22:29:15.057Z"
   },
   {
    "duration": 19,
    "start_time": "2022-11-27T22:29:15.073Z"
   },
   {
    "duration": 42,
    "start_time": "2022-11-27T22:29:15.093Z"
   },
   {
    "duration": 23,
    "start_time": "2022-11-27T22:29:15.137Z"
   },
   {
    "duration": 18,
    "start_time": "2022-11-27T22:29:15.162Z"
   },
   {
    "duration": 44,
    "start_time": "2022-11-27T22:29:15.181Z"
   },
   {
    "duration": 9,
    "start_time": "2022-11-27T22:29:15.226Z"
   },
   {
    "duration": 53,
    "start_time": "2022-11-27T22:29:15.236Z"
   },
   {
    "duration": 23,
    "start_time": "2022-11-27T22:29:15.290Z"
   },
   {
    "duration": 6,
    "start_time": "2022-11-27T22:29:15.315Z"
   },
   {
    "duration": 27,
    "start_time": "2022-11-27T22:29:15.322Z"
   },
   {
    "duration": 31,
    "start_time": "2022-11-27T22:29:15.351Z"
   },
   {
    "duration": 489,
    "start_time": "2022-11-27T22:30:32.141Z"
   },
   {
    "duration": 2016,
    "start_time": "2022-11-27T22:30:32.633Z"
   },
   {
    "duration": 11,
    "start_time": "2022-11-27T22:30:34.651Z"
   },
   {
    "duration": 8,
    "start_time": "2022-11-27T22:30:34.664Z"
   },
   {
    "duration": 36,
    "start_time": "2022-11-27T22:30:34.673Z"
   },
   {
    "duration": 6,
    "start_time": "2022-11-27T22:30:34.711Z"
   },
   {
    "duration": 7,
    "start_time": "2022-11-27T22:30:34.718Z"
   },
   {
    "duration": 11,
    "start_time": "2022-11-27T22:30:34.726Z"
   },
   {
    "duration": 3,
    "start_time": "2022-11-27T22:30:34.739Z"
   },
   {
    "duration": 9,
    "start_time": "2022-11-27T22:30:34.745Z"
   },
   {
    "duration": 18,
    "start_time": "2022-11-27T22:30:34.755Z"
   },
   {
    "duration": 5,
    "start_time": "2022-11-27T22:30:34.774Z"
   },
   {
    "duration": 27,
    "start_time": "2022-11-27T22:30:34.781Z"
   },
   {
    "duration": 9,
    "start_time": "2022-11-27T22:30:34.810Z"
   },
   {
    "duration": 9,
    "start_time": "2022-11-27T22:30:34.821Z"
   },
   {
    "duration": 14,
    "start_time": "2022-11-27T22:30:34.832Z"
   },
   {
    "duration": 7,
    "start_time": "2022-11-27T22:30:34.848Z"
   },
   {
    "duration": 49,
    "start_time": "2022-11-27T22:30:34.857Z"
   },
   {
    "duration": 9,
    "start_time": "2022-11-27T22:30:34.907Z"
   },
   {
    "duration": 35,
    "start_time": "2022-11-27T22:30:34.918Z"
   },
   {
    "duration": 57,
    "start_time": "2022-11-27T22:30:34.955Z"
   },
   {
    "duration": 7,
    "start_time": "2022-11-27T22:30:35.014Z"
   },
   {
    "duration": 13,
    "start_time": "2022-11-27T22:30:35.023Z"
   },
   {
    "duration": 19,
    "start_time": "2022-11-27T22:30:35.038Z"
   },
   {
    "duration": 3,
    "start_time": "2022-11-27T22:31:40.910Z"
   },
   {
    "duration": 5,
    "start_time": "2022-11-27T22:32:08.454Z"
   },
   {
    "duration": 512,
    "start_time": "2022-11-27T22:32:18.410Z"
   },
   {
    "duration": 2009,
    "start_time": "2022-11-27T22:32:18.924Z"
   },
   {
    "duration": 10,
    "start_time": "2022-11-27T22:32:20.935Z"
   },
   {
    "duration": 8,
    "start_time": "2022-11-27T22:32:20.947Z"
   },
   {
    "duration": 40,
    "start_time": "2022-11-27T22:32:20.957Z"
   },
   {
    "duration": 6,
    "start_time": "2022-11-27T22:32:20.999Z"
   },
   {
    "duration": 10,
    "start_time": "2022-11-27T22:32:21.007Z"
   },
   {
    "duration": 12,
    "start_time": "2022-11-27T22:32:21.018Z"
   },
   {
    "duration": 8,
    "start_time": "2022-11-27T22:32:21.031Z"
   },
   {
    "duration": 10,
    "start_time": "2022-11-27T22:32:21.042Z"
   },
   {
    "duration": 13,
    "start_time": "2022-11-27T22:32:21.054Z"
   },
   {
    "duration": 9,
    "start_time": "2022-11-27T22:32:21.069Z"
   },
   {
    "duration": 25,
    "start_time": "2022-11-27T22:32:21.080Z"
   },
   {
    "duration": 6,
    "start_time": "2022-11-27T22:32:21.106Z"
   },
   {
    "duration": 9,
    "start_time": "2022-11-27T22:32:21.113Z"
   },
   {
    "duration": 10,
    "start_time": "2022-11-27T22:32:21.123Z"
   },
   {
    "duration": 9,
    "start_time": "2022-11-27T22:32:21.135Z"
   },
   {
    "duration": 30,
    "start_time": "2022-11-27T22:32:21.145Z"
   },
   {
    "duration": 34,
    "start_time": "2022-11-27T22:32:21.177Z"
   },
   {
    "duration": 42,
    "start_time": "2022-11-27T22:32:21.213Z"
   },
   {
    "duration": 25,
    "start_time": "2022-11-27T22:32:21.256Z"
   },
   {
    "duration": 22,
    "start_time": "2022-11-27T22:32:21.283Z"
   },
   {
    "duration": 8,
    "start_time": "2022-11-27T22:32:21.307Z"
   },
   {
    "duration": 16,
    "start_time": "2022-11-27T22:32:21.317Z"
   },
   {
    "duration": 517,
    "start_time": "2022-11-27T22:33:14.406Z"
   },
   {
    "duration": 2036,
    "start_time": "2022-11-27T22:33:14.925Z"
   },
   {
    "duration": 11,
    "start_time": "2022-11-27T22:33:16.963Z"
   },
   {
    "duration": 5,
    "start_time": "2022-11-27T22:33:16.976Z"
   },
   {
    "duration": 43,
    "start_time": "2022-11-27T22:33:16.982Z"
   },
   {
    "duration": 7,
    "start_time": "2022-11-27T22:33:17.026Z"
   },
   {
    "duration": 7,
    "start_time": "2022-11-27T22:33:17.035Z"
   },
   {
    "duration": 11,
    "start_time": "2022-11-27T22:33:17.043Z"
   },
   {
    "duration": 4,
    "start_time": "2022-11-27T22:33:17.056Z"
   },
   {
    "duration": 5,
    "start_time": "2022-11-27T22:33:17.062Z"
   },
   {
    "duration": 39,
    "start_time": "2022-11-27T22:33:17.069Z"
   },
   {
    "duration": 5,
    "start_time": "2022-11-27T22:33:17.110Z"
   },
   {
    "duration": 7,
    "start_time": "2022-11-27T22:33:17.117Z"
   },
   {
    "duration": 4,
    "start_time": "2022-11-27T22:33:17.126Z"
   },
   {
    "duration": 10,
    "start_time": "2022-11-27T22:33:17.131Z"
   },
   {
    "duration": 9,
    "start_time": "2022-11-27T22:33:17.142Z"
   },
   {
    "duration": 8,
    "start_time": "2022-11-27T22:33:17.153Z"
   },
   {
    "duration": 66,
    "start_time": "2022-11-27T22:33:17.162Z"
   },
   {
    "duration": 8,
    "start_time": "2022-11-27T22:33:17.229Z"
   },
   {
    "duration": 38,
    "start_time": "2022-11-27T22:33:17.239Z"
   },
   {
    "duration": 57,
    "start_time": "2022-11-27T22:33:17.279Z"
   },
   {
    "duration": 7,
    "start_time": "2022-11-27T22:33:17.338Z"
   },
   {
    "duration": 17,
    "start_time": "2022-11-27T22:33:17.347Z"
   },
   {
    "duration": 17,
    "start_time": "2022-11-27T22:33:17.365Z"
   },
   {
    "duration": 497,
    "start_time": "2022-11-27T22:33:51.650Z"
   },
   {
    "duration": 1956,
    "start_time": "2022-11-27T22:33:52.149Z"
   },
   {
    "duration": 9,
    "start_time": "2022-11-27T22:33:54.107Z"
   },
   {
    "duration": 7,
    "start_time": "2022-11-27T22:33:54.118Z"
   },
   {
    "duration": 45,
    "start_time": "2022-11-27T22:33:54.126Z"
   },
   {
    "duration": 6,
    "start_time": "2022-11-27T22:33:54.173Z"
   },
   {
    "duration": 27,
    "start_time": "2022-11-27T22:33:54.181Z"
   },
   {
    "duration": 11,
    "start_time": "2022-11-27T22:33:54.210Z"
   },
   {
    "duration": 14,
    "start_time": "2022-11-27T22:33:54.222Z"
   },
   {
    "duration": 7,
    "start_time": "2022-11-27T22:33:54.238Z"
   },
   {
    "duration": 11,
    "start_time": "2022-11-27T22:33:54.247Z"
   },
   {
    "duration": 22,
    "start_time": "2022-11-27T22:33:54.259Z"
   },
   {
    "duration": 24,
    "start_time": "2022-11-27T22:33:54.282Z"
   },
   {
    "duration": 39,
    "start_time": "2022-11-27T22:33:54.308Z"
   },
   {
    "duration": 15,
    "start_time": "2022-11-27T22:33:54.349Z"
   },
   {
    "duration": 25,
    "start_time": "2022-11-27T22:33:54.366Z"
   },
   {
    "duration": 59,
    "start_time": "2022-11-27T22:33:54.393Z"
   },
   {
    "duration": 32,
    "start_time": "2022-11-27T22:33:54.453Z"
   },
   {
    "duration": 16,
    "start_time": "2022-11-27T22:33:54.487Z"
   },
   {
    "duration": 52,
    "start_time": "2022-11-27T22:33:54.504Z"
   },
   {
    "duration": 23,
    "start_time": "2022-11-27T22:33:54.557Z"
   },
   {
    "duration": 7,
    "start_time": "2022-11-27T22:33:54.581Z"
   },
   {
    "duration": 44,
    "start_time": "2022-11-27T22:33:54.589Z"
   },
   {
    "duration": 35,
    "start_time": "2022-11-27T22:33:54.635Z"
   },
   {
    "duration": 518,
    "start_time": "2022-11-27T22:34:16.212Z"
   },
   {
    "duration": 2058,
    "start_time": "2022-11-27T22:34:16.731Z"
   },
   {
    "duration": 10,
    "start_time": "2022-11-27T22:34:18.791Z"
   },
   {
    "duration": 9,
    "start_time": "2022-11-27T22:34:18.803Z"
   },
   {
    "duration": 36,
    "start_time": "2022-11-27T22:34:18.814Z"
   },
   {
    "duration": 7,
    "start_time": "2022-11-27T22:34:18.851Z"
   },
   {
    "duration": 7,
    "start_time": "2022-11-27T22:34:18.859Z"
   },
   {
    "duration": 11,
    "start_time": "2022-11-27T22:34:18.868Z"
   },
   {
    "duration": 4,
    "start_time": "2022-11-27T22:34:18.905Z"
   },
   {
    "duration": 20,
    "start_time": "2022-11-27T22:34:18.912Z"
   },
   {
    "duration": 19,
    "start_time": "2022-11-27T22:34:18.933Z"
   },
   {
    "duration": 6,
    "start_time": "2022-11-27T22:34:18.953Z"
   },
   {
    "duration": 10,
    "start_time": "2022-11-27T22:34:18.960Z"
   },
   {
    "duration": 12,
    "start_time": "2022-11-27T22:34:18.971Z"
   },
   {
    "duration": 19,
    "start_time": "2022-11-27T22:34:18.985Z"
   },
   {
    "duration": 10,
    "start_time": "2022-11-27T22:34:19.006Z"
   },
   {
    "duration": 13,
    "start_time": "2022-11-27T22:34:19.018Z"
   },
   {
    "duration": 26,
    "start_time": "2022-11-27T22:34:19.033Z"
   },
   {
    "duration": 8,
    "start_time": "2022-11-27T22:34:19.061Z"
   },
   {
    "duration": 55,
    "start_time": "2022-11-27T22:34:19.070Z"
   },
   {
    "duration": 25,
    "start_time": "2022-11-27T22:34:19.126Z"
   },
   {
    "duration": 5,
    "start_time": "2022-11-27T22:34:19.152Z"
   },
   {
    "duration": 7,
    "start_time": "2022-11-27T22:34:19.158Z"
   },
   {
    "duration": 14,
    "start_time": "2022-11-27T22:34:19.167Z"
   },
   {
    "duration": 4,
    "start_time": "2022-11-27T22:36:16.391Z"
   },
   {
    "duration": 3,
    "start_time": "2022-11-27T22:36:59.662Z"
   },
   {
    "duration": 541,
    "start_time": "2022-11-27T22:37:14.694Z"
   },
   {
    "duration": 1992,
    "start_time": "2022-11-27T22:37:15.237Z"
   },
   {
    "duration": 11,
    "start_time": "2022-11-27T22:37:17.232Z"
   },
   {
    "duration": 6,
    "start_time": "2022-11-27T22:37:17.245Z"
   },
   {
    "duration": 44,
    "start_time": "2022-11-27T22:37:17.252Z"
   },
   {
    "duration": 8,
    "start_time": "2022-11-27T22:37:17.305Z"
   },
   {
    "duration": 14,
    "start_time": "2022-11-27T22:37:17.315Z"
   },
   {
    "duration": 15,
    "start_time": "2022-11-27T22:37:17.330Z"
   },
   {
    "duration": 5,
    "start_time": "2022-11-27T22:37:17.347Z"
   },
   {
    "duration": 10,
    "start_time": "2022-11-27T22:37:17.355Z"
   },
   {
    "duration": 15,
    "start_time": "2022-11-27T22:37:17.367Z"
   },
   {
    "duration": 24,
    "start_time": "2022-11-27T22:37:17.384Z"
   },
   {
    "duration": 7,
    "start_time": "2022-11-27T22:37:17.410Z"
   },
   {
    "duration": 4,
    "start_time": "2022-11-27T22:37:17.418Z"
   },
   {
    "duration": 11,
    "start_time": "2022-11-27T22:37:17.423Z"
   },
   {
    "duration": 8,
    "start_time": "2022-11-27T22:37:17.435Z"
   },
   {
    "duration": 8,
    "start_time": "2022-11-27T22:37:17.444Z"
   },
   {
    "duration": 56,
    "start_time": "2022-11-27T22:37:17.453Z"
   },
   {
    "duration": 7,
    "start_time": "2022-11-27T22:37:17.511Z"
   },
   {
    "duration": 43,
    "start_time": "2022-11-27T22:37:17.519Z"
   },
   {
    "duration": 23,
    "start_time": "2022-11-27T22:37:17.564Z"
   },
   {
    "duration": 20,
    "start_time": "2022-11-27T22:37:17.588Z"
   },
   {
    "duration": 21,
    "start_time": "2022-11-27T22:37:17.609Z"
   },
   {
    "duration": 19,
    "start_time": "2022-11-27T22:37:17.632Z"
   },
   {
    "duration": 13,
    "start_time": "2022-11-27T22:39:32.081Z"
   },
   {
    "duration": 490,
    "start_time": "2022-11-27T22:40:00.139Z"
   },
   {
    "duration": 2062,
    "start_time": "2022-11-27T22:40:00.631Z"
   },
   {
    "duration": 10,
    "start_time": "2022-11-27T22:40:02.695Z"
   },
   {
    "duration": 16,
    "start_time": "2022-11-27T22:40:02.707Z"
   },
   {
    "duration": 41,
    "start_time": "2022-11-27T22:40:02.725Z"
   },
   {
    "duration": 7,
    "start_time": "2022-11-27T22:40:02.768Z"
   },
   {
    "duration": 9,
    "start_time": "2022-11-27T22:40:02.776Z"
   },
   {
    "duration": 26,
    "start_time": "2022-11-27T22:40:02.787Z"
   },
   {
    "duration": 4,
    "start_time": "2022-11-27T22:40:02.814Z"
   },
   {
    "duration": 9,
    "start_time": "2022-11-27T22:40:02.820Z"
   },
   {
    "duration": 19,
    "start_time": "2022-11-27T22:40:02.831Z"
   },
   {
    "duration": 6,
    "start_time": "2022-11-27T22:40:02.852Z"
   },
   {
    "duration": 17,
    "start_time": "2022-11-27T22:40:02.860Z"
   },
   {
    "duration": 15,
    "start_time": "2022-11-27T22:40:02.879Z"
   },
   {
    "duration": 15,
    "start_time": "2022-11-27T22:40:02.896Z"
   },
   {
    "duration": 11,
    "start_time": "2022-11-27T22:40:02.913Z"
   },
   {
    "duration": 11,
    "start_time": "2022-11-27T22:40:02.926Z"
   },
   {
    "duration": 28,
    "start_time": "2022-11-27T22:40:02.938Z"
   },
   {
    "duration": 9,
    "start_time": "2022-11-27T22:40:02.968Z"
   },
   {
    "duration": 34,
    "start_time": "2022-11-27T22:40:03.005Z"
   },
   {
    "duration": 24,
    "start_time": "2022-11-27T22:40:03.041Z"
   },
   {
    "duration": 5,
    "start_time": "2022-11-27T22:40:03.067Z"
   },
   {
    "duration": 32,
    "start_time": "2022-11-27T22:40:03.073Z"
   },
   {
    "duration": 16,
    "start_time": "2022-11-27T22:40:03.107Z"
   },
   {
    "duration": 8,
    "start_time": "2022-11-27T22:42:47.395Z"
   },
   {
    "duration": 81,
    "start_time": "2022-11-27T22:46:25.118Z"
   },
   {
    "duration": 24,
    "start_time": "2022-11-27T22:48:41.387Z"
   },
   {
    "duration": 479,
    "start_time": "2022-11-27T22:50:39.245Z"
   },
   {
    "duration": 1948,
    "start_time": "2022-11-27T22:50:39.725Z"
   },
   {
    "duration": 10,
    "start_time": "2022-11-27T22:50:41.675Z"
   },
   {
    "duration": 32,
    "start_time": "2022-11-27T22:50:41.687Z"
   },
   {
    "duration": 55,
    "start_time": "2022-11-27T22:50:41.721Z"
   },
   {
    "duration": 6,
    "start_time": "2022-11-27T22:50:41.778Z"
   },
   {
    "duration": 20,
    "start_time": "2022-11-27T22:50:41.785Z"
   },
   {
    "duration": 25,
    "start_time": "2022-11-27T22:50:41.806Z"
   },
   {
    "duration": 24,
    "start_time": "2022-11-27T22:50:41.832Z"
   },
   {
    "duration": 21,
    "start_time": "2022-11-27T22:50:41.858Z"
   },
   {
    "duration": 29,
    "start_time": "2022-11-27T22:50:41.880Z"
   },
   {
    "duration": 22,
    "start_time": "2022-11-27T22:50:41.911Z"
   },
   {
    "duration": 24,
    "start_time": "2022-11-27T22:50:41.934Z"
   },
   {
    "duration": 107,
    "start_time": "2022-11-27T22:50:41.959Z"
   },
   {
    "duration": 23,
    "start_time": "2022-11-27T22:50:42.067Z"
   },
   {
    "duration": 34,
    "start_time": "2022-11-27T22:50:42.091Z"
   },
   {
    "duration": 44,
    "start_time": "2022-11-27T22:50:42.126Z"
   },
   {
    "duration": 36,
    "start_time": "2022-11-27T22:50:42.171Z"
   },
   {
    "duration": 13,
    "start_time": "2022-11-27T22:50:42.209Z"
   },
   {
    "duration": 40,
    "start_time": "2022-11-27T22:50:42.223Z"
   },
   {
    "duration": 25,
    "start_time": "2022-11-27T22:50:42.264Z"
   },
   {
    "duration": 12,
    "start_time": "2022-11-27T22:50:42.304Z"
   },
   {
    "duration": 32,
    "start_time": "2022-11-27T22:50:42.318Z"
   },
   {
    "duration": 34,
    "start_time": "2022-11-27T22:50:42.352Z"
   },
   {
    "duration": 68,
    "start_time": "2022-11-27T22:52:09.970Z"
   },
   {
    "duration": 8,
    "start_time": "2022-11-27T22:52:26.474Z"
   },
   {
    "duration": 555,
    "start_time": "2022-11-27T22:53:30.797Z"
   },
   {
    "duration": 1987,
    "start_time": "2022-11-27T22:53:31.354Z"
   },
   {
    "duration": 9,
    "start_time": "2022-11-27T22:53:33.343Z"
   },
   {
    "duration": 5,
    "start_time": "2022-11-27T22:53:33.354Z"
   },
   {
    "duration": 35,
    "start_time": "2022-11-27T22:53:33.360Z"
   },
   {
    "duration": 6,
    "start_time": "2022-11-27T22:53:33.396Z"
   },
   {
    "duration": 6,
    "start_time": "2022-11-27T22:53:33.404Z"
   },
   {
    "duration": 12,
    "start_time": "2022-11-27T22:53:33.412Z"
   },
   {
    "duration": 4,
    "start_time": "2022-11-27T22:53:33.426Z"
   },
   {
    "duration": 5,
    "start_time": "2022-11-27T22:53:33.432Z"
   },
   {
    "duration": 14,
    "start_time": "2022-11-27T22:53:33.438Z"
   },
   {
    "duration": 4,
    "start_time": "2022-11-27T22:53:33.454Z"
   },
   {
    "duration": 5,
    "start_time": "2022-11-27T22:53:33.460Z"
   },
   {
    "duration": 40,
    "start_time": "2022-11-27T22:53:33.466Z"
   },
   {
    "duration": 66,
    "start_time": "2022-11-27T22:53:33.508Z"
   },
   {
    "duration": 0,
    "start_time": "2022-11-27T22:53:33.575Z"
   },
   {
    "duration": 0,
    "start_time": "2022-11-27T22:53:33.576Z"
   },
   {
    "duration": 0,
    "start_time": "2022-11-27T22:53:33.577Z"
   },
   {
    "duration": 0,
    "start_time": "2022-11-27T22:53:33.579Z"
   },
   {
    "duration": 0,
    "start_time": "2022-11-27T22:53:33.580Z"
   },
   {
    "duration": 0,
    "start_time": "2022-11-27T22:53:33.604Z"
   },
   {
    "duration": 0,
    "start_time": "2022-11-27T22:53:33.605Z"
   },
   {
    "duration": 0,
    "start_time": "2022-11-27T22:53:33.606Z"
   },
   {
    "duration": 0,
    "start_time": "2022-11-27T22:53:33.607Z"
   },
   {
    "duration": 23,
    "start_time": "2022-11-27T22:58:11.062Z"
   },
   {
    "duration": 521,
    "start_time": "2022-11-27T22:59:09.023Z"
   },
   {
    "duration": 1967,
    "start_time": "2022-11-27T22:59:09.546Z"
   },
   {
    "duration": 9,
    "start_time": "2022-11-27T22:59:11.515Z"
   },
   {
    "duration": 21,
    "start_time": "2022-11-27T22:59:11.526Z"
   },
   {
    "duration": 37,
    "start_time": "2022-11-27T22:59:11.549Z"
   },
   {
    "duration": 6,
    "start_time": "2022-11-27T22:59:11.587Z"
   },
   {
    "duration": 17,
    "start_time": "2022-11-27T22:59:11.594Z"
   },
   {
    "duration": 30,
    "start_time": "2022-11-27T22:59:11.612Z"
   },
   {
    "duration": 12,
    "start_time": "2022-11-27T22:59:11.643Z"
   },
   {
    "duration": 11,
    "start_time": "2022-11-27T22:59:11.657Z"
   },
   {
    "duration": 23,
    "start_time": "2022-11-27T22:59:11.669Z"
   },
   {
    "duration": 17,
    "start_time": "2022-11-27T22:59:11.694Z"
   },
   {
    "duration": 25,
    "start_time": "2022-11-27T22:59:11.712Z"
   },
   {
    "duration": 16,
    "start_time": "2022-11-27T22:59:11.739Z"
   },
   {
    "duration": 40,
    "start_time": "2022-11-27T22:59:11.757Z"
   },
   {
    "duration": 9,
    "start_time": "2022-11-27T22:59:11.799Z"
   },
   {
    "duration": 12,
    "start_time": "2022-11-27T22:59:11.809Z"
   },
   {
    "duration": 42,
    "start_time": "2022-11-27T22:59:11.823Z"
   },
   {
    "duration": 8,
    "start_time": "2022-11-27T22:59:11.866Z"
   },
   {
    "duration": 33,
    "start_time": "2022-11-27T22:59:11.875Z"
   },
   {
    "duration": 24,
    "start_time": "2022-11-27T22:59:11.909Z"
   },
   {
    "duration": 7,
    "start_time": "2022-11-27T22:59:11.934Z"
   },
   {
    "duration": 13,
    "start_time": "2022-11-27T22:59:11.943Z"
   },
   {
    "duration": 37,
    "start_time": "2022-11-27T22:59:11.957Z"
   },
   {
    "duration": 6,
    "start_time": "2022-11-27T23:00:23.173Z"
   },
   {
    "duration": 21,
    "start_time": "2022-11-27T23:00:43.374Z"
   },
   {
    "duration": 21,
    "start_time": "2022-11-27T23:00:51.873Z"
   },
   {
    "duration": 533,
    "start_time": "2022-11-27T23:00:59.291Z"
   },
   {
    "duration": 1983,
    "start_time": "2022-11-27T23:00:59.826Z"
   },
   {
    "duration": 9,
    "start_time": "2022-11-27T23:01:01.811Z"
   },
   {
    "duration": 7,
    "start_time": "2022-11-27T23:01:01.822Z"
   },
   {
    "duration": 41,
    "start_time": "2022-11-27T23:01:01.830Z"
   },
   {
    "duration": 7,
    "start_time": "2022-11-27T23:01:01.873Z"
   },
   {
    "duration": 9,
    "start_time": "2022-11-27T23:01:01.882Z"
   },
   {
    "duration": 12,
    "start_time": "2022-11-27T23:01:01.905Z"
   },
   {
    "duration": 4,
    "start_time": "2022-11-27T23:01:01.919Z"
   },
   {
    "duration": 8,
    "start_time": "2022-11-27T23:01:01.927Z"
   },
   {
    "duration": 19,
    "start_time": "2022-11-27T23:01:01.937Z"
   },
   {
    "duration": 9,
    "start_time": "2022-11-27T23:01:01.958Z"
   },
   {
    "duration": 29,
    "start_time": "2022-11-27T23:01:01.968Z"
   },
   {
    "duration": 16,
    "start_time": "2022-11-27T23:01:01.999Z"
   },
   {
    "duration": 33,
    "start_time": "2022-11-27T23:01:02.016Z"
   },
   {
    "duration": 5,
    "start_time": "2022-11-27T23:01:02.051Z"
   },
   {
    "duration": 16,
    "start_time": "2022-11-27T23:01:02.058Z"
   },
   {
    "duration": 16,
    "start_time": "2022-11-27T23:01:02.076Z"
   },
   {
    "duration": 33,
    "start_time": "2022-11-27T23:01:02.094Z"
   },
   {
    "duration": 10,
    "start_time": "2022-11-27T23:01:02.129Z"
   },
   {
    "duration": 60,
    "start_time": "2022-11-27T23:01:02.141Z"
   },
   {
    "duration": 50,
    "start_time": "2022-11-27T23:01:02.203Z"
   },
   {
    "duration": 4,
    "start_time": "2022-11-27T23:01:02.255Z"
   },
   {
    "duration": 23,
    "start_time": "2022-11-27T23:01:02.261Z"
   },
   {
    "duration": 31,
    "start_time": "2022-11-27T23:01:02.285Z"
   },
   {
    "duration": 4,
    "start_time": "2022-11-27T23:05:06.640Z"
   },
   {
    "duration": 545,
    "start_time": "2022-11-27T23:06:15.774Z"
   },
   {
    "duration": 2124,
    "start_time": "2022-11-27T23:06:16.321Z"
   },
   {
    "duration": 10,
    "start_time": "2022-11-27T23:06:18.447Z"
   },
   {
    "duration": 10,
    "start_time": "2022-11-27T23:06:18.459Z"
   },
   {
    "duration": 48,
    "start_time": "2022-11-27T23:06:18.471Z"
   },
   {
    "duration": 8,
    "start_time": "2022-11-27T23:06:18.521Z"
   },
   {
    "duration": 10,
    "start_time": "2022-11-27T23:06:18.531Z"
   },
   {
    "duration": 11,
    "start_time": "2022-11-27T23:06:18.543Z"
   },
   {
    "duration": 4,
    "start_time": "2022-11-27T23:06:18.556Z"
   },
   {
    "duration": 5,
    "start_time": "2022-11-27T23:06:18.562Z"
   },
   {
    "duration": 40,
    "start_time": "2022-11-27T23:06:18.568Z"
   },
   {
    "duration": 6,
    "start_time": "2022-11-27T23:06:18.609Z"
   },
   {
    "duration": 7,
    "start_time": "2022-11-27T23:06:18.617Z"
   },
   {
    "duration": 12,
    "start_time": "2022-11-27T23:06:18.626Z"
   },
   {
    "duration": 24,
    "start_time": "2022-11-27T23:06:18.640Z"
   },
   {
    "duration": 10,
    "start_time": "2022-11-27T23:06:18.665Z"
   },
   {
    "duration": 10,
    "start_time": "2022-11-27T23:06:18.705Z"
   },
   {
    "duration": 27,
    "start_time": "2022-11-27T23:06:18.716Z"
   },
   {
    "duration": 9,
    "start_time": "2022-11-27T23:06:18.745Z"
   },
   {
    "duration": 61,
    "start_time": "2022-11-27T23:06:18.755Z"
   },
   {
    "duration": 27,
    "start_time": "2022-11-27T23:06:18.818Z"
   },
   {
    "duration": 6,
    "start_time": "2022-11-27T23:06:18.847Z"
   },
   {
    "duration": 7,
    "start_time": "2022-11-27T23:06:18.855Z"
   },
   {
    "duration": 59,
    "start_time": "2022-11-27T23:06:18.863Z"
   },
   {
    "duration": 485,
    "start_time": "2022-11-27T23:07:52.950Z"
   },
   {
    "duration": 2012,
    "start_time": "2022-11-27T23:07:53.437Z"
   },
   {
    "duration": 10,
    "start_time": "2022-11-27T23:07:55.451Z"
   },
   {
    "duration": 5,
    "start_time": "2022-11-27T23:07:55.463Z"
   },
   {
    "duration": 35,
    "start_time": "2022-11-27T23:07:55.470Z"
   },
   {
    "duration": 7,
    "start_time": "2022-11-27T23:07:55.506Z"
   },
   {
    "duration": 8,
    "start_time": "2022-11-27T23:07:55.514Z"
   },
   {
    "duration": 25,
    "start_time": "2022-11-27T23:07:55.523Z"
   },
   {
    "duration": 4,
    "start_time": "2022-11-27T23:07:55.550Z"
   },
   {
    "duration": 9,
    "start_time": "2022-11-27T23:07:55.556Z"
   },
   {
    "duration": 11,
    "start_time": "2022-11-27T23:07:55.566Z"
   },
   {
    "duration": 6,
    "start_time": "2022-11-27T23:07:55.578Z"
   },
   {
    "duration": 7,
    "start_time": "2022-11-27T23:07:55.605Z"
   },
   {
    "duration": 12,
    "start_time": "2022-11-27T23:07:55.614Z"
   },
   {
    "duration": 25,
    "start_time": "2022-11-27T23:07:55.627Z"
   },
   {
    "duration": 12,
    "start_time": "2022-11-27T23:07:55.654Z"
   },
   {
    "duration": 45,
    "start_time": "2022-11-27T23:07:55.668Z"
   },
   {
    "duration": 28,
    "start_time": "2022-11-27T23:07:55.714Z"
   },
   {
    "duration": 8,
    "start_time": "2022-11-27T23:07:55.744Z"
   },
   {
    "duration": 60,
    "start_time": "2022-11-27T23:07:55.754Z"
   },
   {
    "duration": 27,
    "start_time": "2022-11-27T23:07:55.816Z"
   },
   {
    "duration": 6,
    "start_time": "2022-11-27T23:07:55.844Z"
   },
   {
    "duration": 7,
    "start_time": "2022-11-27T23:07:55.852Z"
   },
   {
    "duration": 54,
    "start_time": "2022-11-27T23:07:55.861Z"
   },
   {
    "duration": 72,
    "start_time": "2022-11-27T23:13:21.988Z"
   },
   {
    "duration": 15,
    "start_time": "2022-11-27T23:15:27.726Z"
   },
   {
    "duration": 534,
    "start_time": "2022-11-27T23:15:38.008Z"
   },
   {
    "duration": 1966,
    "start_time": "2022-11-27T23:15:38.544Z"
   },
   {
    "duration": 11,
    "start_time": "2022-11-27T23:15:40.512Z"
   },
   {
    "duration": 5,
    "start_time": "2022-11-27T23:15:40.525Z"
   },
   {
    "duration": 33,
    "start_time": "2022-11-27T23:15:40.532Z"
   },
   {
    "duration": 7,
    "start_time": "2022-11-27T23:15:40.567Z"
   },
   {
    "duration": 34,
    "start_time": "2022-11-27T23:15:40.576Z"
   },
   {
    "duration": 12,
    "start_time": "2022-11-27T23:15:40.611Z"
   },
   {
    "duration": 4,
    "start_time": "2022-11-27T23:15:40.625Z"
   },
   {
    "duration": 12,
    "start_time": "2022-11-27T23:15:40.632Z"
   },
   {
    "duration": 12,
    "start_time": "2022-11-27T23:15:40.646Z"
   },
   {
    "duration": 5,
    "start_time": "2022-11-27T23:15:40.659Z"
   },
   {
    "duration": 7,
    "start_time": "2022-11-27T23:15:40.666Z"
   },
   {
    "duration": 37,
    "start_time": "2022-11-27T23:15:40.674Z"
   },
   {
    "duration": 24,
    "start_time": "2022-11-27T23:15:40.712Z"
   },
   {
    "duration": 9,
    "start_time": "2022-11-27T23:15:40.737Z"
   },
   {
    "duration": 15,
    "start_time": "2022-11-27T23:15:40.748Z"
   },
   {
    "duration": 40,
    "start_time": "2022-11-27T23:15:40.764Z"
   },
   {
    "duration": 8,
    "start_time": "2022-11-27T23:15:40.806Z"
   },
   {
    "duration": 35,
    "start_time": "2022-11-27T23:15:40.815Z"
   },
   {
    "duration": 24,
    "start_time": "2022-11-27T23:15:40.851Z"
   },
   {
    "duration": 28,
    "start_time": "2022-11-27T23:15:40.877Z"
   },
   {
    "duration": 5,
    "start_time": "2022-11-27T23:15:40.906Z"
   },
   {
    "duration": 26,
    "start_time": "2022-11-27T23:15:40.912Z"
   },
   {
    "duration": 75,
    "start_time": "2022-11-27T23:21:04.961Z"
   },
   {
    "duration": 514,
    "start_time": "2022-11-27T23:21:31.368Z"
   },
   {
    "duration": 1937,
    "start_time": "2022-11-27T23:21:31.884Z"
   },
   {
    "duration": 10,
    "start_time": "2022-11-27T23:21:33.823Z"
   },
   {
    "duration": 4,
    "start_time": "2022-11-27T23:21:33.835Z"
   },
   {
    "duration": 35,
    "start_time": "2022-11-27T23:21:33.841Z"
   },
   {
    "duration": 6,
    "start_time": "2022-11-27T23:21:33.878Z"
   },
   {
    "duration": 24,
    "start_time": "2022-11-27T23:21:33.885Z"
   },
   {
    "duration": 11,
    "start_time": "2022-11-27T23:21:33.911Z"
   },
   {
    "duration": 17,
    "start_time": "2022-11-27T23:21:33.923Z"
   },
   {
    "duration": 9,
    "start_time": "2022-11-27T23:21:33.942Z"
   },
   {
    "duration": 13,
    "start_time": "2022-11-27T23:21:33.953Z"
   },
   {
    "duration": 5,
    "start_time": "2022-11-27T23:21:33.967Z"
   },
   {
    "duration": 6,
    "start_time": "2022-11-27T23:21:33.973Z"
   },
   {
    "duration": 24,
    "start_time": "2022-11-27T23:21:33.981Z"
   },
   {
    "duration": 22,
    "start_time": "2022-11-27T23:21:34.007Z"
   },
   {
    "duration": 10,
    "start_time": "2022-11-27T23:21:34.030Z"
   },
   {
    "duration": 4,
    "start_time": "2022-11-27T23:21:34.041Z"
   },
   {
    "duration": 11,
    "start_time": "2022-11-27T23:21:34.046Z"
   },
   {
    "duration": 54,
    "start_time": "2022-11-27T23:21:34.058Z"
   },
   {
    "duration": 8,
    "start_time": "2022-11-27T23:21:34.114Z"
   },
   {
    "duration": 38,
    "start_time": "2022-11-27T23:21:34.123Z"
   },
   {
    "duration": 4,
    "start_time": "2022-11-27T23:21:34.163Z"
   },
   {
    "duration": 8,
    "start_time": "2022-11-27T23:21:34.169Z"
   },
   {
    "duration": 29,
    "start_time": "2022-11-27T23:21:34.179Z"
   },
   {
    "duration": 17,
    "start_time": "2022-11-27T23:21:34.210Z"
   },
   {
    "duration": 7,
    "start_time": "2022-11-27T23:23:22.144Z"
   },
   {
    "duration": 25,
    "start_time": "2022-11-27T23:28:33.258Z"
   },
   {
    "duration": 511,
    "start_time": "2022-11-27T23:29:00.929Z"
   },
   {
    "duration": 2119,
    "start_time": "2022-11-27T23:29:01.442Z"
   },
   {
    "duration": 10,
    "start_time": "2022-11-27T23:29:03.563Z"
   },
   {
    "duration": 6,
    "start_time": "2022-11-27T23:29:03.574Z"
   },
   {
    "duration": 37,
    "start_time": "2022-11-27T23:29:03.581Z"
   },
   {
    "duration": 6,
    "start_time": "2022-11-27T23:29:03.619Z"
   },
   {
    "duration": 7,
    "start_time": "2022-11-27T23:29:03.627Z"
   },
   {
    "duration": 12,
    "start_time": "2022-11-27T23:29:03.635Z"
   },
   {
    "duration": 4,
    "start_time": "2022-11-27T23:29:03.649Z"
   },
   {
    "duration": 11,
    "start_time": "2022-11-27T23:29:03.655Z"
   },
   {
    "duration": 46,
    "start_time": "2022-11-27T23:29:03.667Z"
   },
   {
    "duration": 11,
    "start_time": "2022-11-27T23:29:03.715Z"
   },
   {
    "duration": 12,
    "start_time": "2022-11-27T23:29:03.728Z"
   },
   {
    "duration": 17,
    "start_time": "2022-11-27T23:29:03.741Z"
   },
   {
    "duration": 25,
    "start_time": "2022-11-27T23:29:03.759Z"
   },
   {
    "duration": 24,
    "start_time": "2022-11-27T23:29:03.786Z"
   },
   {
    "duration": 20,
    "start_time": "2022-11-27T23:29:03.811Z"
   },
   {
    "duration": 31,
    "start_time": "2022-11-27T23:29:03.832Z"
   },
   {
    "duration": 23,
    "start_time": "2022-11-27T23:29:03.865Z"
   },
   {
    "duration": 52,
    "start_time": "2022-11-27T23:29:03.890Z"
   },
   {
    "duration": 6,
    "start_time": "2022-11-27T23:29:03.943Z"
   },
   {
    "duration": 34,
    "start_time": "2022-11-27T23:29:03.950Z"
   },
   {
    "duration": 13,
    "start_time": "2022-11-27T23:29:03.985Z"
   },
   {
    "duration": 37,
    "start_time": "2022-11-27T23:29:04.000Z"
   },
   {
    "duration": 33,
    "start_time": "2022-11-27T23:32:52.922Z"
   },
   {
    "duration": 528,
    "start_time": "2022-11-27T23:38:09.572Z"
   },
   {
    "duration": 2057,
    "start_time": "2022-11-27T23:38:10.104Z"
   },
   {
    "duration": 10,
    "start_time": "2022-11-27T23:38:12.163Z"
   },
   {
    "duration": 5,
    "start_time": "2022-11-27T23:38:12.175Z"
   },
   {
    "duration": 40,
    "start_time": "2022-11-27T23:38:12.181Z"
   },
   {
    "duration": 7,
    "start_time": "2022-11-27T23:38:12.222Z"
   },
   {
    "duration": 8,
    "start_time": "2022-11-27T23:38:12.230Z"
   },
   {
    "duration": 12,
    "start_time": "2022-11-27T23:38:12.239Z"
   },
   {
    "duration": 4,
    "start_time": "2022-11-27T23:38:12.252Z"
   },
   {
    "duration": 5,
    "start_time": "2022-11-27T23:38:12.258Z"
   },
   {
    "duration": 47,
    "start_time": "2022-11-27T23:38:12.264Z"
   },
   {
    "duration": 6,
    "start_time": "2022-11-27T23:38:12.313Z"
   },
   {
    "duration": 10,
    "start_time": "2022-11-27T23:38:12.320Z"
   },
   {
    "duration": 9,
    "start_time": "2022-11-27T23:38:12.332Z"
   },
   {
    "duration": 24,
    "start_time": "2022-11-27T23:38:12.343Z"
   },
   {
    "duration": 37,
    "start_time": "2022-11-27T23:38:12.368Z"
   },
   {
    "duration": 9,
    "start_time": "2022-11-27T23:38:12.407Z"
   },
   {
    "duration": 36,
    "start_time": "2022-11-27T23:38:12.418Z"
   },
   {
    "duration": 9,
    "start_time": "2022-11-27T23:38:12.456Z"
   },
   {
    "duration": 63,
    "start_time": "2022-11-27T23:38:12.466Z"
   },
   {
    "duration": 6,
    "start_time": "2022-11-27T23:38:12.530Z"
   },
   {
    "duration": 11,
    "start_time": "2022-11-27T23:38:12.537Z"
   },
   {
    "duration": 21,
    "start_time": "2022-11-27T23:38:12.550Z"
   },
   {
    "duration": 65,
    "start_time": "2022-11-28T18:12:08.951Z"
   },
   {
    "duration": 535,
    "start_time": "2022-11-28T18:12:41.601Z"
   },
   {
    "duration": 2500,
    "start_time": "2022-11-28T18:12:42.139Z"
   },
   {
    "duration": 16,
    "start_time": "2022-11-28T18:12:44.641Z"
   },
   {
    "duration": 8,
    "start_time": "2022-11-28T18:12:44.661Z"
   },
   {
    "duration": 41,
    "start_time": "2022-11-28T18:12:44.671Z"
   },
   {
    "duration": 9,
    "start_time": "2022-11-28T18:12:44.714Z"
   },
   {
    "duration": 35,
    "start_time": "2022-11-28T18:12:44.725Z"
   },
   {
    "duration": 13,
    "start_time": "2022-11-28T18:12:44.762Z"
   },
   {
    "duration": 5,
    "start_time": "2022-11-28T18:12:44.777Z"
   },
   {
    "duration": 15,
    "start_time": "2022-11-28T18:12:44.784Z"
   },
   {
    "duration": 13,
    "start_time": "2022-11-28T18:12:44.800Z"
   },
   {
    "duration": 41,
    "start_time": "2022-11-28T18:12:44.815Z"
   },
   {
    "duration": 8,
    "start_time": "2022-11-28T18:12:44.859Z"
   },
   {
    "duration": 10,
    "start_time": "2022-11-28T18:12:44.869Z"
   },
   {
    "duration": 25,
    "start_time": "2022-11-28T18:12:44.881Z"
   },
   {
    "duration": 13,
    "start_time": "2022-11-28T18:12:44.908Z"
   },
   {
    "duration": 11,
    "start_time": "2022-11-28T18:12:44.954Z"
   },
   {
    "duration": 40,
    "start_time": "2022-11-28T18:12:44.967Z"
   },
   {
    "duration": 12,
    "start_time": "2022-11-28T18:12:45.009Z"
   },
   {
    "duration": 66,
    "start_time": "2022-11-28T18:12:45.023Z"
   },
   {
    "duration": 6,
    "start_time": "2022-11-28T18:12:45.091Z"
   },
   {
    "duration": 7,
    "start_time": "2022-11-28T18:12:45.098Z"
   },
   {
    "duration": 49,
    "start_time": "2022-11-28T18:12:45.107Z"
   },
   {
    "duration": 11,
    "start_time": "2022-11-28T18:12:45.158Z"
   },
   {
    "duration": 113,
    "start_time": "2022-11-28T18:20:08.001Z"
   },
   {
    "duration": 167,
    "start_time": "2022-11-28T18:26:12.529Z"
   },
   {
    "duration": 192,
    "start_time": "2022-11-28T18:26:28.240Z"
   },
   {
    "duration": 182,
    "start_time": "2022-11-28T18:27:12.115Z"
   },
   {
    "duration": 208,
    "start_time": "2022-11-28T18:27:28.255Z"
   },
   {
    "duration": 146,
    "start_time": "2022-11-28T18:27:38.707Z"
   },
   {
    "duration": 200,
    "start_time": "2022-11-28T18:27:45.098Z"
   },
   {
    "duration": 69,
    "start_time": "2022-11-28T18:30:19.783Z"
   },
   {
    "duration": 888,
    "start_time": "2022-11-28T18:31:49.598Z"
   },
   {
    "duration": 133,
    "start_time": "2022-11-28T18:33:25.538Z"
   },
   {
    "duration": 155,
    "start_time": "2022-11-28T18:35:46.837Z"
   },
   {
    "duration": 13,
    "start_time": "2022-11-28T18:37:17.759Z"
   },
   {
    "duration": 14,
    "start_time": "2022-11-28T18:37:34.452Z"
   },
   {
    "duration": 12,
    "start_time": "2022-11-28T18:37:45.936Z"
   },
   {
    "duration": 10,
    "start_time": "2022-11-28T18:37:56.324Z"
   },
   {
    "duration": 11,
    "start_time": "2022-11-28T18:38:45.943Z"
   },
   {
    "duration": 226,
    "start_time": "2022-11-28T18:39:08.039Z"
   },
   {
    "duration": 4,
    "start_time": "2022-11-28T18:56:36.103Z"
   },
   {
    "duration": 2,
    "start_time": "2022-11-28T18:56:56.107Z"
   },
   {
    "duration": 5,
    "start_time": "2022-11-28T18:57:12.821Z"
   },
   {
    "duration": 292,
    "start_time": "2022-11-28T19:00:47.757Z"
   },
   {
    "duration": 69,
    "start_time": "2022-11-28T19:12:37.899Z"
   },
   {
    "duration": 14,
    "start_time": "2022-11-28T19:29:09.572Z"
   },
   {
    "duration": 16,
    "start_time": "2022-11-28T19:30:18.441Z"
   },
   {
    "duration": 66,
    "start_time": "2022-11-28T19:31:53.403Z"
   },
   {
    "duration": 3,
    "start_time": "2022-11-28T19:34:34.483Z"
   },
   {
    "duration": 10,
    "start_time": "2022-11-28T19:34:48.510Z"
   },
   {
    "duration": 13,
    "start_time": "2022-11-28T19:35:00.118Z"
   },
   {
    "duration": 21,
    "start_time": "2022-11-28T19:36:24.167Z"
   },
   {
    "duration": 13,
    "start_time": "2022-11-28T19:39:54.472Z"
   },
   {
    "duration": 26,
    "start_time": "2022-11-28T19:40:01.460Z"
   },
   {
    "duration": 9,
    "start_time": "2022-11-28T19:42:24.918Z"
   },
   {
    "duration": 10,
    "start_time": "2022-11-28T19:44:18.373Z"
   },
   {
    "duration": 12,
    "start_time": "2022-11-28T19:50:06.059Z"
   },
   {
    "duration": 8,
    "start_time": "2022-11-28T19:52:55.793Z"
   },
   {
    "duration": 8,
    "start_time": "2022-11-28T19:54:38.790Z"
   },
   {
    "duration": 8,
    "start_time": "2022-11-28T19:54:48.582Z"
   },
   {
    "duration": 6,
    "start_time": "2022-11-28T19:54:53.058Z"
   },
   {
    "duration": 275,
    "start_time": "2022-11-28T19:57:57.832Z"
   },
   {
    "duration": 214,
    "start_time": "2022-11-28T20:00:39.497Z"
   },
   {
    "duration": 241,
    "start_time": "2022-11-28T20:01:16.498Z"
   },
   {
    "duration": 497,
    "start_time": "2022-11-28T20:03:48.070Z"
   },
   {
    "duration": 392,
    "start_time": "2022-11-28T20:04:05.348Z"
   },
   {
    "duration": 558,
    "start_time": "2022-11-28T20:05:43.698Z"
   },
   {
    "duration": 621,
    "start_time": "2022-11-28T20:08:43.670Z"
   },
   {
    "duration": 676,
    "start_time": "2022-11-28T20:12:35.231Z"
   },
   {
    "duration": 643,
    "start_time": "2022-11-28T20:12:46.532Z"
   },
   {
    "duration": 62,
    "start_time": "2022-11-28T20:15:22.830Z"
   },
   {
    "duration": 61,
    "start_time": "2022-11-28T20:16:40.565Z"
   },
   {
    "duration": 20,
    "start_time": "2022-11-28T20:33:57.007Z"
   },
   {
    "duration": 653,
    "start_time": "2022-11-28T20:37:34.478Z"
   },
   {
    "duration": 570,
    "start_time": "2022-11-28T20:39:55.603Z"
   },
   {
    "duration": 18,
    "start_time": "2022-11-28T20:48:54.959Z"
   },
   {
    "duration": 17,
    "start_time": "2022-11-28T20:49:15.358Z"
   },
   {
    "duration": 518,
    "start_time": "2022-11-28T20:49:23.618Z"
   },
   {
    "duration": 2129,
    "start_time": "2022-11-28T20:49:24.138Z"
   },
   {
    "duration": 10,
    "start_time": "2022-11-28T20:49:26.269Z"
   },
   {
    "duration": 8,
    "start_time": "2022-11-28T20:49:26.282Z"
   },
   {
    "duration": 37,
    "start_time": "2022-11-28T20:49:26.292Z"
   },
   {
    "duration": 33,
    "start_time": "2022-11-28T20:49:26.331Z"
   },
   {
    "duration": 8,
    "start_time": "2022-11-28T20:49:26.366Z"
   },
   {
    "duration": 12,
    "start_time": "2022-11-28T20:49:26.376Z"
   },
   {
    "duration": 4,
    "start_time": "2022-11-28T20:49:26.390Z"
   },
   {
    "duration": 7,
    "start_time": "2022-11-28T20:49:26.398Z"
   },
   {
    "duration": 15,
    "start_time": "2022-11-28T20:49:26.407Z"
   },
   {
    "duration": 12,
    "start_time": "2022-11-28T20:49:26.457Z"
   },
   {
    "duration": 9,
    "start_time": "2022-11-28T20:49:26.471Z"
   },
   {
    "duration": 19,
    "start_time": "2022-11-28T20:49:26.482Z"
   },
   {
    "duration": 54,
    "start_time": "2022-11-28T20:49:26.503Z"
   },
   {
    "duration": 18,
    "start_time": "2022-11-28T20:49:26.558Z"
   },
   {
    "duration": 12,
    "start_time": "2022-11-28T20:49:26.578Z"
   },
   {
    "duration": 37,
    "start_time": "2022-11-28T20:49:26.591Z"
   },
   {
    "duration": 38,
    "start_time": "2022-11-28T20:49:26.629Z"
   },
   {
    "duration": 50,
    "start_time": "2022-11-28T20:49:26.669Z"
   },
   {
    "duration": 7,
    "start_time": "2022-11-28T20:49:26.721Z"
   },
   {
    "duration": 29,
    "start_time": "2022-11-28T20:49:26.730Z"
   },
   {
    "duration": 20,
    "start_time": "2022-11-28T20:49:26.760Z"
   },
   {
    "duration": 10,
    "start_time": "2022-11-28T20:49:26.783Z"
   },
   {
    "duration": 345,
    "start_time": "2022-11-28T20:49:26.795Z"
   },
   {
    "duration": 91,
    "start_time": "2022-11-28T20:49:27.141Z"
   },
   {
    "duration": 33,
    "start_time": "2022-11-28T20:49:27.233Z"
   },
   {
    "duration": 17,
    "start_time": "2022-11-28T20:49:27.269Z"
   },
   {
    "duration": 8,
    "start_time": "2022-11-28T20:49:27.287Z"
   },
   {
    "duration": 11,
    "start_time": "2022-11-28T20:49:27.297Z"
   },
   {
    "duration": 674,
    "start_time": "2022-11-28T20:49:27.310Z"
   },
   {
    "duration": 78,
    "start_time": "2022-11-28T20:49:27.986Z"
   },
   {
    "duration": 17,
    "start_time": "2022-11-28T20:49:28.066Z"
   },
   {
    "duration": 549,
    "start_time": "2022-11-28T20:49:28.085Z"
   },
   {
    "duration": 30,
    "start_time": "2022-11-28T20:49:28.636Z"
   },
   {
    "duration": 20,
    "start_time": "2022-11-28T20:51:55.299Z"
   },
   {
    "duration": 91,
    "start_time": "2022-11-28T20:52:09.459Z"
   },
   {
    "duration": 15,
    "start_time": "2022-11-28T20:52:14.671Z"
   },
   {
    "duration": 25,
    "start_time": "2022-11-28T20:52:57.132Z"
   },
   {
    "duration": 17,
    "start_time": "2022-11-28T20:53:02.108Z"
   },
   {
    "duration": 531,
    "start_time": "2022-11-28T20:53:21.365Z"
   },
   {
    "duration": 2221,
    "start_time": "2022-11-28T20:53:21.898Z"
   },
   {
    "duration": 18,
    "start_time": "2022-11-28T20:53:24.122Z"
   },
   {
    "duration": 7,
    "start_time": "2022-11-28T20:53:24.144Z"
   },
   {
    "duration": 48,
    "start_time": "2022-11-28T20:53:24.153Z"
   },
   {
    "duration": 8,
    "start_time": "2022-11-28T20:53:24.203Z"
   },
   {
    "duration": 10,
    "start_time": "2022-11-28T20:53:24.213Z"
   },
   {
    "duration": 15,
    "start_time": "2022-11-28T20:53:24.251Z"
   },
   {
    "duration": 5,
    "start_time": "2022-11-28T20:53:24.268Z"
   },
   {
    "duration": 18,
    "start_time": "2022-11-28T20:53:24.275Z"
   },
   {
    "duration": 13,
    "start_time": "2022-11-28T20:53:24.295Z"
   },
   {
    "duration": 6,
    "start_time": "2022-11-28T20:53:24.310Z"
   },
   {
    "duration": 36,
    "start_time": "2022-11-28T20:53:24.317Z"
   },
   {
    "duration": 11,
    "start_time": "2022-11-28T20:53:24.355Z"
   },
   {
    "duration": 26,
    "start_time": "2022-11-28T20:53:24.367Z"
   },
   {
    "duration": 11,
    "start_time": "2022-11-28T20:53:24.395Z"
   },
   {
    "duration": 45,
    "start_time": "2022-11-28T20:53:24.408Z"
   },
   {
    "duration": 39,
    "start_time": "2022-11-28T20:53:24.455Z"
   },
   {
    "duration": 10,
    "start_time": "2022-11-28T20:53:24.496Z"
   },
   {
    "duration": 68,
    "start_time": "2022-11-28T20:53:24.507Z"
   },
   {
    "duration": 6,
    "start_time": "2022-11-28T20:53:24.577Z"
   },
   {
    "duration": 9,
    "start_time": "2022-11-28T20:53:24.585Z"
   },
   {
    "duration": 19,
    "start_time": "2022-11-28T20:53:24.596Z"
   },
   {
    "duration": 46,
    "start_time": "2022-11-28T20:53:24.617Z"
   },
   {
    "duration": 335,
    "start_time": "2022-11-28T20:53:24.665Z"
   },
   {
    "duration": 74,
    "start_time": "2022-11-28T20:53:25.002Z"
   },
   {
    "duration": 15,
    "start_time": "2022-11-28T20:53:25.077Z"
   },
   {
    "duration": 15,
    "start_time": "2022-11-28T20:53:25.095Z"
   },
   {
    "duration": 43,
    "start_time": "2022-11-28T20:53:25.112Z"
   },
   {
    "duration": 15,
    "start_time": "2022-11-28T20:53:25.158Z"
   },
   {
    "duration": 13,
    "start_time": "2022-11-28T20:53:25.175Z"
   },
   {
    "duration": 653,
    "start_time": "2022-11-28T20:53:25.190Z"
   },
   {
    "duration": 71,
    "start_time": "2022-11-28T20:53:25.845Z"
   },
   {
    "duration": 37,
    "start_time": "2022-11-28T20:53:25.918Z"
   },
   {
    "duration": 560,
    "start_time": "2022-11-28T20:53:25.957Z"
   },
   {
    "duration": 17,
    "start_time": "2022-11-28T20:53:26.519Z"
   },
   {
    "duration": 16,
    "start_time": "2022-11-28T20:53:32.077Z"
   },
   {
    "duration": 14,
    "start_time": "2022-11-28T20:54:29.818Z"
   },
   {
    "duration": 7,
    "start_time": "2022-11-28T20:55:00.925Z"
   },
   {
    "duration": 548,
    "start_time": "2022-11-28T20:56:00.000Z"
   },
   {
    "duration": 2216,
    "start_time": "2022-11-28T20:56:00.551Z"
   },
   {
    "duration": 15,
    "start_time": "2022-11-28T20:56:02.769Z"
   },
   {
    "duration": 7,
    "start_time": "2022-11-28T20:56:02.787Z"
   },
   {
    "duration": 46,
    "start_time": "2022-11-28T20:56:02.796Z"
   },
   {
    "duration": 9,
    "start_time": "2022-11-28T20:56:02.853Z"
   },
   {
    "duration": 10,
    "start_time": "2022-11-28T20:56:02.864Z"
   },
   {
    "duration": 15,
    "start_time": "2022-11-28T20:56:02.876Z"
   },
   {
    "duration": 5,
    "start_time": "2022-11-28T20:56:02.893Z"
   },
   {
    "duration": 7,
    "start_time": "2022-11-28T20:56:02.901Z"
   },
   {
    "duration": 11,
    "start_time": "2022-11-28T20:56:02.955Z"
   },
   {
    "duration": 6,
    "start_time": "2022-11-28T20:56:02.969Z"
   },
   {
    "duration": 20,
    "start_time": "2022-11-28T20:56:02.977Z"
   },
   {
    "duration": 11,
    "start_time": "2022-11-28T20:56:02.999Z"
   },
   {
    "duration": 53,
    "start_time": "2022-11-28T20:56:03.012Z"
   },
   {
    "duration": 10,
    "start_time": "2022-11-28T20:56:03.067Z"
   },
   {
    "duration": 17,
    "start_time": "2022-11-28T20:56:03.079Z"
   },
   {
    "duration": 62,
    "start_time": "2022-11-28T20:56:03.098Z"
   },
   {
    "duration": 9,
    "start_time": "2022-11-28T20:56:03.162Z"
   },
   {
    "duration": 38,
    "start_time": "2022-11-28T20:56:03.172Z"
   },
   {
    "duration": 5,
    "start_time": "2022-11-28T20:56:03.211Z"
   },
   {
    "duration": 7,
    "start_time": "2022-11-28T20:56:03.251Z"
   },
   {
    "duration": 31,
    "start_time": "2022-11-28T20:56:03.259Z"
   },
   {
    "duration": 8,
    "start_time": "2022-11-28T20:56:03.292Z"
   },
   {
    "duration": 327,
    "start_time": "2022-11-28T20:56:03.302Z"
   },
   {
    "duration": 81,
    "start_time": "2022-11-28T20:56:03.631Z"
   },
   {
    "duration": 15,
    "start_time": "2022-11-28T20:56:03.714Z"
   },
   {
    "duration": 19,
    "start_time": "2022-11-28T20:56:03.751Z"
   },
   {
    "duration": 8,
    "start_time": "2022-11-28T20:56:03.772Z"
   },
   {
    "duration": 30,
    "start_time": "2022-11-28T20:56:03.782Z"
   },
   {
    "duration": 11,
    "start_time": "2022-11-28T20:56:03.813Z"
   },
   {
    "duration": 653,
    "start_time": "2022-11-28T20:56:03.826Z"
   },
   {
    "duration": 80,
    "start_time": "2022-11-28T20:56:04.481Z"
   },
   {
    "duration": 21,
    "start_time": "2022-11-28T20:56:04.563Z"
   },
   {
    "duration": 559,
    "start_time": "2022-11-28T20:56:04.586Z"
   },
   {
    "duration": 29,
    "start_time": "2022-11-28T20:56:05.147Z"
   },
   {
    "duration": 14,
    "start_time": "2022-11-28T20:56:20.010Z"
   },
   {
    "duration": 14,
    "start_time": "2022-11-28T21:06:01.202Z"
   },
   {
    "duration": 5,
    "start_time": "2022-11-28T21:06:35.992Z"
   },
   {
    "duration": 519,
    "start_time": "2022-11-28T21:08:21.599Z"
   },
   {
    "duration": 2218,
    "start_time": "2022-11-28T21:08:22.120Z"
   },
   {
    "duration": 20,
    "start_time": "2022-11-28T21:08:24.341Z"
   },
   {
    "duration": 14,
    "start_time": "2022-11-28T21:08:24.365Z"
   },
   {
    "duration": 45,
    "start_time": "2022-11-28T21:08:24.380Z"
   },
   {
    "duration": 7,
    "start_time": "2022-11-28T21:08:24.426Z"
   },
   {
    "duration": 12,
    "start_time": "2022-11-28T21:08:24.453Z"
   },
   {
    "duration": 17,
    "start_time": "2022-11-28T21:08:24.467Z"
   },
   {
    "duration": 5,
    "start_time": "2022-11-28T21:08:24.486Z"
   },
   {
    "duration": 8,
    "start_time": "2022-11-28T21:08:24.494Z"
   },
   {
    "duration": 13,
    "start_time": "2022-11-28T21:08:24.504Z"
   },
   {
    "duration": 36,
    "start_time": "2022-11-28T21:08:24.519Z"
   },
   {
    "duration": 30,
    "start_time": "2022-11-28T21:08:24.557Z"
   },
   {
    "duration": 8,
    "start_time": "2022-11-28T21:08:24.589Z"
   },
   {
    "duration": 29,
    "start_time": "2022-11-28T21:08:24.599Z"
   },
   {
    "duration": 26,
    "start_time": "2022-11-28T21:08:24.630Z"
   },
   {
    "duration": 10,
    "start_time": "2022-11-28T21:08:24.665Z"
   },
   {
    "duration": 36,
    "start_time": "2022-11-28T21:08:24.677Z"
   },
   {
    "duration": 8,
    "start_time": "2022-11-28T21:08:24.715Z"
   },
   {
    "duration": 57,
    "start_time": "2022-11-28T21:08:24.725Z"
   },
   {
    "duration": 6,
    "start_time": "2022-11-28T21:08:24.783Z"
   },
   {
    "duration": 10,
    "start_time": "2022-11-28T21:08:24.790Z"
   },
   {
    "duration": 22,
    "start_time": "2022-11-28T21:08:24.801Z"
   },
   {
    "duration": 41,
    "start_time": "2022-11-28T21:08:24.825Z"
   },
   {
    "duration": 307,
    "start_time": "2022-11-28T21:08:24.868Z"
   },
   {
    "duration": 64,
    "start_time": "2022-11-28T21:08:25.176Z"
   },
   {
    "duration": 27,
    "start_time": "2022-11-28T21:08:25.242Z"
   },
   {
    "duration": 21,
    "start_time": "2022-11-28T21:08:25.272Z"
   },
   {
    "duration": 5,
    "start_time": "2022-11-28T21:08:25.295Z"
   },
   {
    "duration": 13,
    "start_time": "2022-11-28T21:08:25.302Z"
   },
   {
    "duration": 37,
    "start_time": "2022-11-28T21:08:25.316Z"
   },
   {
    "duration": 617,
    "start_time": "2022-11-28T21:08:25.358Z"
   },
   {
    "duration": 61,
    "start_time": "2022-11-28T21:08:25.977Z"
   },
   {
    "duration": 21,
    "start_time": "2022-11-28T21:08:26.052Z"
   },
   {
    "duration": 562,
    "start_time": "2022-11-28T21:08:26.075Z"
   },
   {
    "duration": 30,
    "start_time": "2022-11-28T21:08:26.639Z"
   },
   {
    "duration": 6,
    "start_time": "2022-11-28T21:10:14.168Z"
   },
   {
    "duration": 17,
    "start_time": "2022-11-28T21:11:16.221Z"
   },
   {
    "duration": 528,
    "start_time": "2022-11-28T21:11:28.313Z"
   },
   {
    "duration": 2364,
    "start_time": "2022-11-28T21:11:28.843Z"
   },
   {
    "duration": 9,
    "start_time": "2022-11-28T21:11:31.209Z"
   },
   {
    "duration": 22,
    "start_time": "2022-11-28T21:11:31.220Z"
   },
   {
    "duration": 58,
    "start_time": "2022-11-28T21:11:31.243Z"
   },
   {
    "duration": 7,
    "start_time": "2022-11-28T21:11:31.302Z"
   },
   {
    "duration": 17,
    "start_time": "2022-11-28T21:11:31.311Z"
   },
   {
    "duration": 16,
    "start_time": "2022-11-28T21:11:31.329Z"
   },
   {
    "duration": 13,
    "start_time": "2022-11-28T21:11:31.346Z"
   },
   {
    "duration": 22,
    "start_time": "2022-11-28T21:11:31.363Z"
   },
   {
    "duration": 15,
    "start_time": "2022-11-28T21:11:31.386Z"
   },
   {
    "duration": 8,
    "start_time": "2022-11-28T21:11:31.402Z"
   },
   {
    "duration": 5,
    "start_time": "2022-11-28T21:11:31.412Z"
   },
   {
    "duration": 13,
    "start_time": "2022-11-28T21:11:31.419Z"
   },
   {
    "duration": 69,
    "start_time": "2022-11-28T21:11:31.433Z"
   },
   {
    "duration": 11,
    "start_time": "2022-11-28T21:11:31.503Z"
   },
   {
    "duration": 35,
    "start_time": "2022-11-28T21:11:31.515Z"
   },
   {
    "duration": 65,
    "start_time": "2022-11-28T21:11:31.551Z"
   },
   {
    "duration": 9,
    "start_time": "2022-11-28T21:11:31.618Z"
   },
   {
    "duration": 56,
    "start_time": "2022-11-28T21:11:31.629Z"
   },
   {
    "duration": 6,
    "start_time": "2022-11-28T21:11:31.687Z"
   },
   {
    "duration": 13,
    "start_time": "2022-11-28T21:11:31.694Z"
   },
   {
    "duration": 25,
    "start_time": "2022-11-28T21:11:31.709Z"
   },
   {
    "duration": 25,
    "start_time": "2022-11-28T21:11:31.735Z"
   },
   {
    "duration": 405,
    "start_time": "2022-11-28T21:11:31.762Z"
   },
   {
    "duration": 74,
    "start_time": "2022-11-28T21:11:32.174Z"
   },
   {
    "duration": 26,
    "start_time": "2022-11-28T21:11:32.250Z"
   },
   {
    "duration": 23,
    "start_time": "2022-11-28T21:11:32.281Z"
   },
   {
    "duration": 9,
    "start_time": "2022-11-28T21:11:32.306Z"
   },
   {
    "duration": 81,
    "start_time": "2022-11-28T21:11:32.317Z"
   },
   {
    "duration": 11,
    "start_time": "2022-11-28T21:11:32.400Z"
   },
   {
    "duration": 17,
    "start_time": "2022-11-28T21:11:32.414Z"
   },
   {
    "duration": 784,
    "start_time": "2022-11-28T21:11:32.461Z"
   },
   {
    "duration": 78,
    "start_time": "2022-11-28T21:11:33.252Z"
   },
   {
    "duration": 44,
    "start_time": "2022-11-28T21:11:33.332Z"
   },
   {
    "duration": 639,
    "start_time": "2022-11-28T21:11:33.381Z"
   },
   {
    "duration": 35,
    "start_time": "2022-11-28T21:11:34.022Z"
   },
   {
    "duration": 76,
    "start_time": "2022-11-28T21:20:58.324Z"
   },
   {
    "duration": 10,
    "start_time": "2022-11-28T21:21:21.817Z"
   },
   {
    "duration": 5,
    "start_time": "2022-11-28T21:21:36.301Z"
   },
   {
    "duration": 535,
    "start_time": "2022-11-28T21:21:49.267Z"
   },
   {
    "duration": 2146,
    "start_time": "2022-11-28T21:21:49.804Z"
   },
   {
    "duration": 17,
    "start_time": "2022-11-28T21:21:51.952Z"
   },
   {
    "duration": 7,
    "start_time": "2022-11-28T21:21:51.971Z"
   },
   {
    "duration": 39,
    "start_time": "2022-11-28T21:21:51.980Z"
   },
   {
    "duration": 8,
    "start_time": "2022-11-28T21:21:52.020Z"
   },
   {
    "duration": 12,
    "start_time": "2022-11-28T21:21:52.053Z"
   },
   {
    "duration": 19,
    "start_time": "2022-11-28T21:21:52.068Z"
   },
   {
    "duration": 4,
    "start_time": "2022-11-28T21:21:52.089Z"
   },
   {
    "duration": 6,
    "start_time": "2022-11-28T21:21:52.095Z"
   },
   {
    "duration": 18,
    "start_time": "2022-11-28T21:21:52.103Z"
   },
   {
    "duration": 37,
    "start_time": "2022-11-28T21:21:52.122Z"
   },
   {
    "duration": 8,
    "start_time": "2022-11-28T21:21:52.166Z"
   },
   {
    "duration": 10,
    "start_time": "2022-11-28T21:21:52.176Z"
   },
   {
    "duration": 26,
    "start_time": "2022-11-28T21:21:52.188Z"
   },
   {
    "duration": 38,
    "start_time": "2022-11-28T21:21:52.216Z"
   },
   {
    "duration": 13,
    "start_time": "2022-11-28T21:21:52.255Z"
   },
   {
    "duration": 39,
    "start_time": "2022-11-28T21:21:52.269Z"
   },
   {
    "duration": 9,
    "start_time": "2022-11-28T21:21:52.310Z"
   },
   {
    "duration": 74,
    "start_time": "2022-11-28T21:21:52.320Z"
   },
   {
    "duration": 7,
    "start_time": "2022-11-28T21:21:52.396Z"
   },
   {
    "duration": 22,
    "start_time": "2022-11-28T21:21:52.405Z"
   },
   {
    "duration": 32,
    "start_time": "2022-11-28T21:21:52.429Z"
   },
   {
    "duration": 10,
    "start_time": "2022-11-28T21:21:52.466Z"
   },
   {
    "duration": 359,
    "start_time": "2022-11-28T21:21:52.478Z"
   },
   {
    "duration": 75,
    "start_time": "2022-11-28T21:21:52.838Z"
   },
   {
    "duration": 14,
    "start_time": "2022-11-28T21:21:52.914Z"
   },
   {
    "duration": 38,
    "start_time": "2022-11-28T21:21:52.932Z"
   },
   {
    "duration": 35,
    "start_time": "2022-11-28T21:21:52.972Z"
   },
   {
    "duration": 5,
    "start_time": "2022-11-28T21:21:53.009Z"
   },
   {
    "duration": 46,
    "start_time": "2022-11-28T21:21:53.016Z"
   },
   {
    "duration": 9,
    "start_time": "2022-11-28T21:21:53.064Z"
   },
   {
    "duration": 631,
    "start_time": "2022-11-28T21:21:53.074Z"
   },
   {
    "duration": 76,
    "start_time": "2022-11-28T21:21:53.707Z"
   },
   {
    "duration": 17,
    "start_time": "2022-11-28T21:21:53.785Z"
   },
   {
    "duration": 579,
    "start_time": "2022-11-28T21:21:53.804Z"
   },
   {
    "duration": 18,
    "start_time": "2022-11-28T21:21:54.384Z"
   },
   {
    "duration": 15,
    "start_time": "2022-11-28T21:24:43.577Z"
   },
   {
    "duration": 494,
    "start_time": "2022-11-28T21:24:53.291Z"
   },
   {
    "duration": 2112,
    "start_time": "2022-11-28T21:24:53.787Z"
   },
   {
    "duration": 10,
    "start_time": "2022-11-28T21:24:55.901Z"
   },
   {
    "duration": 16,
    "start_time": "2022-11-28T21:24:55.913Z"
   },
   {
    "duration": 46,
    "start_time": "2022-11-28T21:24:55.930Z"
   },
   {
    "duration": 7,
    "start_time": "2022-11-28T21:24:55.977Z"
   },
   {
    "duration": 10,
    "start_time": "2022-11-28T21:24:55.985Z"
   },
   {
    "duration": 24,
    "start_time": "2022-11-28T21:24:55.997Z"
   },
   {
    "duration": 21,
    "start_time": "2022-11-28T21:24:56.022Z"
   },
   {
    "duration": 9,
    "start_time": "2022-11-28T21:24:56.052Z"
   },
   {
    "duration": 34,
    "start_time": "2022-11-28T21:24:56.063Z"
   },
   {
    "duration": 10,
    "start_time": "2022-11-28T21:24:56.099Z"
   },
   {
    "duration": 21,
    "start_time": "2022-11-28T21:24:56.110Z"
   },
   {
    "duration": 22,
    "start_time": "2022-11-28T21:24:56.133Z"
   },
   {
    "duration": 32,
    "start_time": "2022-11-28T21:24:56.157Z"
   },
   {
    "duration": 10,
    "start_time": "2022-11-28T21:24:56.191Z"
   },
   {
    "duration": 19,
    "start_time": "2022-11-28T21:24:56.203Z"
   },
   {
    "duration": 50,
    "start_time": "2022-11-28T21:24:56.223Z"
   },
   {
    "duration": 8,
    "start_time": "2022-11-28T21:24:56.275Z"
   },
   {
    "duration": 51,
    "start_time": "2022-11-28T21:24:56.284Z"
   },
   {
    "duration": 6,
    "start_time": "2022-11-28T21:24:56.336Z"
   },
   {
    "duration": 6,
    "start_time": "2022-11-28T21:24:56.353Z"
   },
   {
    "duration": 24,
    "start_time": "2022-11-28T21:24:56.360Z"
   },
   {
    "duration": 8,
    "start_time": "2022-11-28T21:24:56.386Z"
   },
   {
    "duration": 318,
    "start_time": "2022-11-28T21:24:56.395Z"
   },
   {
    "duration": 73,
    "start_time": "2022-11-28T21:24:56.715Z"
   },
   {
    "duration": 13,
    "start_time": "2022-11-28T21:24:56.790Z"
   },
   {
    "duration": 16,
    "start_time": "2022-11-28T21:24:56.806Z"
   },
   {
    "duration": 54,
    "start_time": "2022-11-28T21:24:56.824Z"
   },
   {
    "duration": 6,
    "start_time": "2022-11-28T21:24:56.879Z"
   },
   {
    "duration": 52,
    "start_time": "2022-11-28T21:24:56.886Z"
   },
   {
    "duration": 15,
    "start_time": "2022-11-28T21:24:56.940Z"
   },
   {
    "duration": 15,
    "start_time": "2022-11-28T21:24:56.957Z"
   },
   {
    "duration": 643,
    "start_time": "2022-11-28T21:24:56.974Z"
   },
   {
    "duration": 75,
    "start_time": "2022-11-28T21:24:57.619Z"
   },
   {
    "duration": 18,
    "start_time": "2022-11-28T21:24:57.695Z"
   },
   {
    "duration": 561,
    "start_time": "2022-11-28T21:24:57.714Z"
   },
   {
    "duration": 19,
    "start_time": "2022-11-28T21:24:58.277Z"
   },
   {
    "duration": 15,
    "start_time": "2022-11-28T21:26:48.632Z"
   },
   {
    "duration": 518,
    "start_time": "2022-11-28T21:26:58.452Z"
   },
   {
    "duration": 2112,
    "start_time": "2022-11-28T21:26:58.972Z"
   },
   {
    "duration": 11,
    "start_time": "2022-11-28T21:27:01.085Z"
   },
   {
    "duration": 49,
    "start_time": "2022-11-28T21:27:01.098Z"
   },
   {
    "duration": 58,
    "start_time": "2022-11-28T21:27:01.149Z"
   },
   {
    "duration": 9,
    "start_time": "2022-11-28T21:27:01.209Z"
   },
   {
    "duration": 21,
    "start_time": "2022-11-28T21:27:01.219Z"
   },
   {
    "duration": 29,
    "start_time": "2022-11-28T21:27:01.242Z"
   },
   {
    "duration": 7,
    "start_time": "2022-11-28T21:27:01.273Z"
   },
   {
    "duration": 5,
    "start_time": "2022-11-28T21:27:01.282Z"
   },
   {
    "duration": 23,
    "start_time": "2022-11-28T21:27:01.289Z"
   },
   {
    "duration": 12,
    "start_time": "2022-11-28T21:27:01.313Z"
   },
   {
    "duration": 8,
    "start_time": "2022-11-28T21:27:01.327Z"
   },
   {
    "duration": 20,
    "start_time": "2022-11-28T21:27:01.337Z"
   },
   {
    "duration": 40,
    "start_time": "2022-11-28T21:27:01.359Z"
   },
   {
    "duration": 11,
    "start_time": "2022-11-28T21:27:01.401Z"
   },
   {
    "duration": 16,
    "start_time": "2022-11-28T21:27:01.414Z"
   },
   {
    "duration": 45,
    "start_time": "2022-11-28T21:27:01.432Z"
   },
   {
    "duration": 8,
    "start_time": "2022-11-28T21:27:01.479Z"
   },
   {
    "duration": 46,
    "start_time": "2022-11-28T21:27:01.489Z"
   },
   {
    "duration": 16,
    "start_time": "2022-11-28T21:27:01.536Z"
   },
   {
    "duration": 5,
    "start_time": "2022-11-28T21:27:01.554Z"
   },
   {
    "duration": 30,
    "start_time": "2022-11-28T21:27:01.561Z"
   },
   {
    "duration": 8,
    "start_time": "2022-11-28T21:27:01.593Z"
   },
   {
    "duration": 319,
    "start_time": "2022-11-28T21:27:01.603Z"
   },
   {
    "duration": 83,
    "start_time": "2022-11-28T21:27:01.924Z"
   },
   {
    "duration": 16,
    "start_time": "2022-11-28T21:27:02.009Z"
   },
   {
    "duration": 32,
    "start_time": "2022-11-28T21:27:02.030Z"
   },
   {
    "duration": 36,
    "start_time": "2022-11-28T21:27:02.064Z"
   },
   {
    "duration": 60,
    "start_time": "2022-11-28T21:27:02.101Z"
   },
   {
    "duration": 10,
    "start_time": "2022-11-28T21:27:02.163Z"
   },
   {
    "duration": 16,
    "start_time": "2022-11-28T21:27:02.175Z"
   },
   {
    "duration": 676,
    "start_time": "2022-11-28T21:27:02.193Z"
   },
   {
    "duration": 61,
    "start_time": "2022-11-28T21:27:02.870Z"
   },
   {
    "duration": 33,
    "start_time": "2022-11-28T21:27:02.932Z"
   },
   {
    "duration": 528,
    "start_time": "2022-11-28T21:27:02.967Z"
   },
   {
    "duration": 18,
    "start_time": "2022-11-28T21:27:03.497Z"
   },
   {
    "duration": 5,
    "start_time": "2022-11-28T21:38:20.840Z"
   },
   {
    "duration": 8,
    "start_time": "2022-11-28T21:38:50.571Z"
   },
   {
    "duration": 6,
    "start_time": "2022-11-28T21:39:12.961Z"
   },
   {
    "duration": 6,
    "start_time": "2022-11-28T21:48:21.658Z"
   },
   {
    "duration": 71,
    "start_time": "2022-11-28T21:52:20.476Z"
   },
   {
    "duration": 529,
    "start_time": "2022-11-28T21:53:35.944Z"
   },
   {
    "duration": 2088,
    "start_time": "2022-11-28T21:53:36.475Z"
   },
   {
    "duration": 12,
    "start_time": "2022-11-28T21:53:38.565Z"
   },
   {
    "duration": 5,
    "start_time": "2022-11-28T21:53:38.580Z"
   },
   {
    "duration": 65,
    "start_time": "2022-11-28T21:53:38.587Z"
   },
   {
    "duration": 8,
    "start_time": "2022-11-28T21:53:38.655Z"
   },
   {
    "duration": 10,
    "start_time": "2022-11-28T21:53:38.665Z"
   },
   {
    "duration": 13,
    "start_time": "2022-11-28T21:53:38.677Z"
   },
   {
    "duration": 5,
    "start_time": "2022-11-28T21:53:38.691Z"
   },
   {
    "duration": 12,
    "start_time": "2022-11-28T21:53:38.699Z"
   },
   {
    "duration": 50,
    "start_time": "2022-11-28T21:53:38.713Z"
   },
   {
    "duration": 8,
    "start_time": "2022-11-28T21:53:38.764Z"
   },
   {
    "duration": 7,
    "start_time": "2022-11-28T21:53:38.773Z"
   },
   {
    "duration": 10,
    "start_time": "2022-11-28T21:53:38.782Z"
   },
   {
    "duration": 68,
    "start_time": "2022-11-28T21:53:38.794Z"
   },
   {
    "duration": 12,
    "start_time": "2022-11-28T21:53:38.864Z"
   },
   {
    "duration": 11,
    "start_time": "2022-11-28T21:53:38.877Z"
   },
   {
    "duration": 65,
    "start_time": "2022-11-28T21:53:38.889Z"
   },
   {
    "duration": 9,
    "start_time": "2022-11-28T21:53:38.955Z"
   },
   {
    "duration": 36,
    "start_time": "2022-11-28T21:53:38.966Z"
   },
   {
    "duration": 6,
    "start_time": "2022-11-28T21:53:39.003Z"
   },
   {
    "duration": 9,
    "start_time": "2022-11-28T21:53:39.011Z"
   },
   {
    "duration": 18,
    "start_time": "2022-11-28T21:53:39.053Z"
   },
   {
    "duration": 9,
    "start_time": "2022-11-28T21:53:39.073Z"
   },
   {
    "duration": 333,
    "start_time": "2022-11-28T21:53:39.083Z"
   },
   {
    "duration": 75,
    "start_time": "2022-11-28T21:53:39.418Z"
   },
   {
    "duration": 16,
    "start_time": "2022-11-28T21:53:39.495Z"
   },
   {
    "duration": 40,
    "start_time": "2022-11-28T21:53:39.516Z"
   },
   {
    "duration": 34,
    "start_time": "2022-11-28T21:53:39.558Z"
   },
   {
    "duration": 60,
    "start_time": "2022-11-28T21:53:39.593Z"
   },
   {
    "duration": 10,
    "start_time": "2022-11-28T21:53:39.655Z"
   },
   {
    "duration": 10,
    "start_time": "2022-11-28T21:53:39.667Z"
   },
   {
    "duration": 639,
    "start_time": "2022-11-28T21:53:39.679Z"
   },
   {
    "duration": 74,
    "start_time": "2022-11-28T21:53:40.320Z"
   },
   {
    "duration": 18,
    "start_time": "2022-11-28T21:53:40.396Z"
   },
   {
    "duration": 541,
    "start_time": "2022-11-28T21:53:40.417Z"
   },
   {
    "duration": 21,
    "start_time": "2022-11-28T21:53:40.960Z"
   },
   {
    "duration": 9,
    "start_time": "2022-11-28T21:53:40.990Z"
   },
   {
    "duration": 17,
    "start_time": "2022-11-28T21:53:41.001Z"
   },
   {
    "duration": 92,
    "start_time": "2022-11-28T21:53:41.019Z"
   },
   {
    "duration": 11,
    "start_time": "2022-11-28T21:55:18.166Z"
   },
   {
    "duration": 488,
    "start_time": "2022-11-28T21:55:25.381Z"
   },
   {
    "duration": 2044,
    "start_time": "2022-11-28T21:55:25.871Z"
   },
   {
    "duration": 13,
    "start_time": "2022-11-28T21:55:27.917Z"
   },
   {
    "duration": 10,
    "start_time": "2022-11-28T21:55:27.933Z"
   },
   {
    "duration": 38,
    "start_time": "2022-11-28T21:55:27.945Z"
   },
   {
    "duration": 7,
    "start_time": "2022-11-28T21:55:27.985Z"
   },
   {
    "duration": 8,
    "start_time": "2022-11-28T21:55:27.993Z"
   },
   {
    "duration": 12,
    "start_time": "2022-11-28T21:55:28.002Z"
   },
   {
    "duration": 36,
    "start_time": "2022-11-28T21:55:28.016Z"
   },
   {
    "duration": 5,
    "start_time": "2022-11-28T21:55:28.055Z"
   },
   {
    "duration": 16,
    "start_time": "2022-11-28T21:55:28.062Z"
   },
   {
    "duration": 6,
    "start_time": "2022-11-28T21:55:28.079Z"
   },
   {
    "duration": 6,
    "start_time": "2022-11-28T21:55:28.087Z"
   },
   {
    "duration": 9,
    "start_time": "2022-11-28T21:55:28.095Z"
   },
   {
    "duration": 68,
    "start_time": "2022-11-28T21:55:28.106Z"
   },
   {
    "duration": 10,
    "start_time": "2022-11-28T21:55:28.176Z"
   },
   {
    "duration": 11,
    "start_time": "2022-11-28T21:55:28.188Z"
   },
   {
    "duration": 64,
    "start_time": "2022-11-28T21:55:28.201Z"
   },
   {
    "duration": 8,
    "start_time": "2022-11-28T21:55:28.267Z"
   },
   {
    "duration": 38,
    "start_time": "2022-11-28T21:55:28.277Z"
   },
   {
    "duration": 5,
    "start_time": "2022-11-28T21:55:28.316Z"
   },
   {
    "duration": 6,
    "start_time": "2022-11-28T21:55:28.352Z"
   },
   {
    "duration": 17,
    "start_time": "2022-11-28T21:55:28.359Z"
   },
   {
    "duration": 9,
    "start_time": "2022-11-28T21:55:28.377Z"
   },
   {
    "duration": 326,
    "start_time": "2022-11-28T21:55:28.387Z"
   },
   {
    "duration": 75,
    "start_time": "2022-11-28T21:55:28.715Z"
   },
   {
    "duration": 14,
    "start_time": "2022-11-28T21:55:28.792Z"
   },
   {
    "duration": 16,
    "start_time": "2022-11-28T21:55:28.810Z"
   },
   {
    "duration": 57,
    "start_time": "2022-11-28T21:55:28.828Z"
   },
   {
    "duration": 33,
    "start_time": "2022-11-28T21:55:28.886Z"
   },
   {
    "duration": 32,
    "start_time": "2022-11-28T21:55:28.921Z"
   },
   {
    "duration": 11,
    "start_time": "2022-11-28T21:55:28.955Z"
   },
   {
    "duration": 613,
    "start_time": "2022-11-28T21:55:28.967Z"
   },
   {
    "duration": 59,
    "start_time": "2022-11-28T21:55:29.582Z"
   },
   {
    "duration": 26,
    "start_time": "2022-11-28T21:55:29.642Z"
   },
   {
    "duration": 548,
    "start_time": "2022-11-28T21:55:29.670Z"
   },
   {
    "duration": 17,
    "start_time": "2022-11-28T21:55:30.220Z"
   },
   {
    "duration": 17,
    "start_time": "2022-11-28T21:55:30.239Z"
   },
   {
    "duration": 11,
    "start_time": "2022-11-28T21:55:30.257Z"
   },
   {
    "duration": 109,
    "start_time": "2022-11-28T21:55:30.269Z"
   },
   {
    "duration": 3,
    "start_time": "2022-11-28T22:00:05.583Z"
   },
   {
    "duration": 14,
    "start_time": "2022-11-28T22:00:13.936Z"
   },
   {
    "duration": 12,
    "start_time": "2022-11-28T22:01:01.460Z"
   },
   {
    "duration": 581,
    "start_time": "2022-11-28T22:01:30.754Z"
   },
   {
    "duration": 2153,
    "start_time": "2022-11-28T22:01:31.338Z"
   },
   {
    "duration": 10,
    "start_time": "2022-11-28T22:01:33.493Z"
   },
   {
    "duration": 5,
    "start_time": "2022-11-28T22:01:33.505Z"
   },
   {
    "duration": 39,
    "start_time": "2022-11-28T22:01:33.512Z"
   },
   {
    "duration": 8,
    "start_time": "2022-11-28T22:01:33.553Z"
   },
   {
    "duration": 9,
    "start_time": "2022-11-28T22:01:33.563Z"
   },
   {
    "duration": 12,
    "start_time": "2022-11-28T22:01:33.574Z"
   },
   {
    "duration": 5,
    "start_time": "2022-11-28T22:01:33.588Z"
   },
   {
    "duration": 6,
    "start_time": "2022-11-28T22:01:33.596Z"
   },
   {
    "duration": 57,
    "start_time": "2022-11-28T22:01:33.603Z"
   },
   {
    "duration": 6,
    "start_time": "2022-11-28T22:01:33.662Z"
   },
   {
    "duration": 11,
    "start_time": "2022-11-28T22:01:33.669Z"
   },
   {
    "duration": 11,
    "start_time": "2022-11-28T22:01:33.682Z"
   },
   {
    "duration": 60,
    "start_time": "2022-11-28T22:01:33.695Z"
   },
   {
    "duration": 12,
    "start_time": "2022-11-28T22:01:33.757Z"
   },
   {
    "duration": 12,
    "start_time": "2022-11-28T22:01:33.771Z"
   },
   {
    "duration": 68,
    "start_time": "2022-11-28T22:01:33.785Z"
   },
   {
    "duration": 10,
    "start_time": "2022-11-28T22:01:33.856Z"
   },
   {
    "duration": 36,
    "start_time": "2022-11-28T22:01:33.868Z"
   },
   {
    "duration": 7,
    "start_time": "2022-11-28T22:01:33.906Z"
   },
   {
    "duration": 40,
    "start_time": "2022-11-28T22:01:33.914Z"
   },
   {
    "duration": 18,
    "start_time": "2022-11-28T22:01:33.956Z"
   },
   {
    "duration": 10,
    "start_time": "2022-11-28T22:01:33.976Z"
   },
   {
    "duration": 344,
    "start_time": "2022-11-28T22:01:33.987Z"
   },
   {
    "duration": 73,
    "start_time": "2022-11-28T22:01:34.332Z"
   },
   {
    "duration": 15,
    "start_time": "2022-11-28T22:01:34.406Z"
   },
   {
    "duration": 35,
    "start_time": "2022-11-28T22:01:34.424Z"
   },
   {
    "duration": 33,
    "start_time": "2022-11-28T22:01:34.461Z"
   },
   {
    "duration": 33,
    "start_time": "2022-11-28T22:01:34.495Z"
   },
   {
    "duration": 12,
    "start_time": "2022-11-28T22:01:34.551Z"
   },
   {
    "duration": 9,
    "start_time": "2022-11-28T22:01:34.565Z"
   },
   {
    "duration": 629,
    "start_time": "2022-11-28T22:01:34.576Z"
   },
   {
    "duration": 72,
    "start_time": "2022-11-28T22:01:35.207Z"
   },
   {
    "duration": 18,
    "start_time": "2022-11-28T22:01:35.281Z"
   },
   {
    "duration": 570,
    "start_time": "2022-11-28T22:01:35.300Z"
   },
   {
    "duration": 18,
    "start_time": "2022-11-28T22:01:35.872Z"
   },
   {
    "duration": 7,
    "start_time": "2022-11-28T22:01:35.891Z"
   },
   {
    "duration": 15,
    "start_time": "2022-11-28T22:01:35.899Z"
   },
   {
    "duration": 39,
    "start_time": "2022-11-28T22:01:35.916Z"
   },
   {
    "duration": 7,
    "start_time": "2022-11-28T22:03:59.934Z"
   },
   {
    "duration": 6,
    "start_time": "2022-11-28T22:04:52.627Z"
   },
   {
    "duration": 28,
    "start_time": "2022-11-28T22:15:13.031Z"
   },
   {
    "duration": 29,
    "start_time": "2022-11-28T22:15:58.504Z"
   },
   {
    "duration": 28,
    "start_time": "2022-11-28T22:16:40.067Z"
   },
   {
    "duration": 41,
    "start_time": "2022-11-28T22:17:46.951Z"
   },
   {
    "duration": 28,
    "start_time": "2022-11-28T22:18:26.573Z"
   },
   {
    "duration": 31,
    "start_time": "2022-11-28T22:26:44.617Z"
   },
   {
    "duration": 70,
    "start_time": "2022-11-28T22:28:54.449Z"
   },
   {
    "duration": 9,
    "start_time": "2022-11-28T22:29:06.705Z"
   },
   {
    "duration": 543,
    "start_time": "2022-11-28T22:29:30.894Z"
   },
   {
    "duration": 2373,
    "start_time": "2022-11-28T22:29:31.441Z"
   },
   {
    "duration": 11,
    "start_time": "2022-11-28T22:29:33.816Z"
   },
   {
    "duration": 25,
    "start_time": "2022-11-28T22:29:33.829Z"
   },
   {
    "duration": 40,
    "start_time": "2022-11-28T22:29:33.855Z"
   },
   {
    "duration": 8,
    "start_time": "2022-11-28T22:29:33.897Z"
   },
   {
    "duration": 47,
    "start_time": "2022-11-28T22:29:33.906Z"
   },
   {
    "duration": 12,
    "start_time": "2022-11-28T22:29:33.955Z"
   },
   {
    "duration": 4,
    "start_time": "2022-11-28T22:29:33.970Z"
   },
   {
    "duration": 10,
    "start_time": "2022-11-28T22:29:33.976Z"
   },
   {
    "duration": 17,
    "start_time": "2022-11-28T22:29:33.987Z"
   },
   {
    "duration": 49,
    "start_time": "2022-11-28T22:29:34.005Z"
   },
   {
    "duration": 11,
    "start_time": "2022-11-28T22:29:34.056Z"
   },
   {
    "duration": 11,
    "start_time": "2022-11-28T22:29:34.068Z"
   },
   {
    "duration": 28,
    "start_time": "2022-11-28T22:29:34.080Z"
   },
   {
    "duration": 44,
    "start_time": "2022-11-28T22:29:34.109Z"
   },
   {
    "duration": 11,
    "start_time": "2022-11-28T22:29:34.155Z"
   },
   {
    "duration": 40,
    "start_time": "2022-11-28T22:29:34.168Z"
   },
   {
    "duration": 44,
    "start_time": "2022-11-28T22:29:34.209Z"
   },
   {
    "duration": 47,
    "start_time": "2022-11-28T22:29:34.255Z"
   },
   {
    "duration": 7,
    "start_time": "2022-11-28T22:29:34.305Z"
   },
   {
    "duration": 16,
    "start_time": "2022-11-28T22:29:34.313Z"
   },
   {
    "duration": 18,
    "start_time": "2022-11-28T22:29:34.353Z"
   },
   {
    "duration": 9,
    "start_time": "2022-11-28T22:29:34.373Z"
   },
   {
    "duration": 396,
    "start_time": "2022-11-28T22:29:34.383Z"
   },
   {
    "duration": 91,
    "start_time": "2022-11-28T22:29:34.781Z"
   },
   {
    "duration": 15,
    "start_time": "2022-11-28T22:29:34.876Z"
   },
   {
    "duration": 18,
    "start_time": "2022-11-28T22:29:34.893Z"
   },
   {
    "duration": 74,
    "start_time": "2022-11-28T22:29:34.912Z"
   },
   {
    "duration": 35,
    "start_time": "2022-11-28T22:29:34.987Z"
   },
   {
    "duration": 33,
    "start_time": "2022-11-28T22:29:35.024Z"
   },
   {
    "duration": 10,
    "start_time": "2022-11-28T22:29:35.059Z"
   },
   {
    "duration": 647,
    "start_time": "2022-11-28T22:29:35.071Z"
   },
   {
    "duration": 74,
    "start_time": "2022-11-28T22:29:35.719Z"
   },
   {
    "duration": 18,
    "start_time": "2022-11-28T22:29:35.795Z"
   },
   {
    "duration": 553,
    "start_time": "2022-11-28T22:29:35.815Z"
   },
   {
    "duration": 19,
    "start_time": "2022-11-28T22:29:36.370Z"
   },
   {
    "duration": 8,
    "start_time": "2022-11-28T22:29:36.391Z"
   },
   {
    "duration": 13,
    "start_time": "2022-11-28T22:29:36.401Z"
   },
   {
    "duration": 45,
    "start_time": "2022-11-28T22:29:36.416Z"
   },
   {
    "duration": 7,
    "start_time": "2022-11-28T22:29:36.463Z"
   },
   {
    "duration": 33,
    "start_time": "2022-11-28T22:29:36.473Z"
   },
   {
    "duration": 10,
    "start_time": "2022-11-28T22:30:25.092Z"
   },
   {
    "duration": 11,
    "start_time": "2022-11-28T22:30:54.298Z"
   },
   {
    "duration": 30,
    "start_time": "2022-11-28T22:32:07.038Z"
   },
   {
    "duration": 33,
    "start_time": "2022-11-28T22:32:41.918Z"
   },
   {
    "duration": 35,
    "start_time": "2022-11-28T22:34:23.399Z"
   },
   {
    "duration": 530,
    "start_time": "2022-11-28T22:34:58.647Z"
   },
   {
    "duration": 2068,
    "start_time": "2022-11-28T22:34:59.179Z"
   },
   {
    "duration": 10,
    "start_time": "2022-11-28T22:35:01.248Z"
   },
   {
    "duration": 22,
    "start_time": "2022-11-28T22:35:01.260Z"
   },
   {
    "duration": 59,
    "start_time": "2022-11-28T22:35:01.283Z"
   },
   {
    "duration": 8,
    "start_time": "2022-11-28T22:35:01.344Z"
   },
   {
    "duration": 18,
    "start_time": "2022-11-28T22:35:01.354Z"
   },
   {
    "duration": 37,
    "start_time": "2022-11-28T22:35:01.374Z"
   },
   {
    "duration": 5,
    "start_time": "2022-11-28T22:35:01.413Z"
   },
   {
    "duration": 11,
    "start_time": "2022-11-28T22:35:01.421Z"
   },
   {
    "duration": 25,
    "start_time": "2022-11-28T22:35:01.433Z"
   },
   {
    "duration": 7,
    "start_time": "2022-11-28T22:35:01.460Z"
   },
   {
    "duration": 7,
    "start_time": "2022-11-28T22:35:01.469Z"
   },
   {
    "duration": 9,
    "start_time": "2022-11-28T22:35:01.477Z"
   },
   {
    "duration": 29,
    "start_time": "2022-11-28T22:35:01.488Z"
   },
   {
    "duration": 42,
    "start_time": "2022-11-28T22:35:01.519Z"
   },
   {
    "duration": 31,
    "start_time": "2022-11-28T22:35:01.562Z"
   },
   {
    "duration": 70,
    "start_time": "2022-11-28T22:35:01.594Z"
   },
   {
    "duration": 11,
    "start_time": "2022-11-28T22:35:01.666Z"
   },
   {
    "duration": 62,
    "start_time": "2022-11-28T22:35:01.679Z"
   },
   {
    "duration": 5,
    "start_time": "2022-11-28T22:35:01.743Z"
   },
   {
    "duration": 11,
    "start_time": "2022-11-28T22:35:01.751Z"
   },
   {
    "duration": 39,
    "start_time": "2022-11-28T22:35:01.764Z"
   },
   {
    "duration": 8,
    "start_time": "2022-11-28T22:35:01.804Z"
   },
   {
    "duration": 327,
    "start_time": "2022-11-28T22:35:01.814Z"
   },
   {
    "duration": 73,
    "start_time": "2022-11-28T22:35:02.143Z"
   },
   {
    "duration": 14,
    "start_time": "2022-11-28T22:35:02.218Z"
   },
   {
    "duration": 17,
    "start_time": "2022-11-28T22:35:02.251Z"
   },
   {
    "duration": 33,
    "start_time": "2022-11-28T22:35:02.270Z"
   },
   {
    "duration": 60,
    "start_time": "2022-11-28T22:35:02.305Z"
   },
   {
    "duration": 8,
    "start_time": "2022-11-28T22:35:02.367Z"
   },
   {
    "duration": 9,
    "start_time": "2022-11-28T22:35:02.377Z"
   },
   {
    "duration": 668,
    "start_time": "2022-11-28T22:35:02.390Z"
   },
   {
    "duration": 63,
    "start_time": "2022-11-28T22:35:03.060Z"
   },
   {
    "duration": 39,
    "start_time": "2022-11-28T22:35:03.125Z"
   },
   {
    "duration": 533,
    "start_time": "2022-11-28T22:35:03.166Z"
   },
   {
    "duration": 19,
    "start_time": "2022-11-28T22:35:03.701Z"
   },
   {
    "duration": 7,
    "start_time": "2022-11-28T22:35:03.721Z"
   },
   {
    "duration": 6,
    "start_time": "2022-11-28T22:35:03.751Z"
   },
   {
    "duration": 18,
    "start_time": "2022-11-28T22:35:03.759Z"
   },
   {
    "duration": 11,
    "start_time": "2022-11-28T22:35:03.779Z"
   },
   {
    "duration": 63,
    "start_time": "2022-11-28T22:35:03.792Z"
   },
   {
    "duration": 29,
    "start_time": "2022-11-28T22:35:43.824Z"
   },
   {
    "duration": 34,
    "start_time": "2022-11-28T22:38:11.285Z"
   },
   {
    "duration": 34,
    "start_time": "2022-11-28T22:39:07.958Z"
   },
   {
    "duration": 43,
    "start_time": "2022-11-29T12:54:17.301Z"
   },
   {
    "duration": 548,
    "start_time": "2022-11-29T12:54:32.833Z"
   },
   {
    "duration": 2162,
    "start_time": "2022-11-29T12:54:33.383Z"
   },
   {
    "duration": 12,
    "start_time": "2022-11-29T12:54:35.547Z"
   },
   {
    "duration": 21,
    "start_time": "2022-11-29T12:54:35.561Z"
   },
   {
    "duration": 50,
    "start_time": "2022-11-29T12:54:35.584Z"
   },
   {
    "duration": 6,
    "start_time": "2022-11-29T12:54:35.636Z"
   },
   {
    "duration": 8,
    "start_time": "2022-11-29T12:54:35.643Z"
   },
   {
    "duration": 10,
    "start_time": "2022-11-29T12:54:35.652Z"
   },
   {
    "duration": 17,
    "start_time": "2022-11-29T12:54:35.663Z"
   },
   {
    "duration": 5,
    "start_time": "2022-11-29T12:54:35.683Z"
   },
   {
    "duration": 13,
    "start_time": "2022-11-29T12:54:35.690Z"
   },
   {
    "duration": 9,
    "start_time": "2022-11-29T12:54:35.705Z"
   },
   {
    "duration": 8,
    "start_time": "2022-11-29T12:54:35.715Z"
   },
   {
    "duration": 11,
    "start_time": "2022-11-29T12:54:35.725Z"
   },
   {
    "duration": 41,
    "start_time": "2022-11-29T12:54:35.738Z"
   },
   {
    "duration": 21,
    "start_time": "2022-11-29T12:54:35.781Z"
   },
   {
    "duration": 18,
    "start_time": "2022-11-29T12:54:35.803Z"
   },
   {
    "duration": 35,
    "start_time": "2022-11-29T12:54:35.822Z"
   },
   {
    "duration": 8,
    "start_time": "2022-11-29T12:54:35.858Z"
   },
   {
    "duration": 49,
    "start_time": "2022-11-29T12:54:35.867Z"
   },
   {
    "duration": 5,
    "start_time": "2022-11-29T12:54:35.918Z"
   },
   {
    "duration": 23,
    "start_time": "2022-11-29T12:54:35.924Z"
   },
   {
    "duration": 25,
    "start_time": "2022-11-29T12:54:35.948Z"
   },
   {
    "duration": 9,
    "start_time": "2022-11-29T12:54:35.974Z"
   },
   {
    "duration": 310,
    "start_time": "2022-11-29T12:54:35.984Z"
   },
   {
    "duration": 61,
    "start_time": "2022-11-29T12:54:36.296Z"
   },
   {
    "duration": 22,
    "start_time": "2022-11-29T12:54:36.359Z"
   },
   {
    "duration": 34,
    "start_time": "2022-11-29T12:54:36.384Z"
   },
   {
    "duration": 39,
    "start_time": "2022-11-29T12:54:36.419Z"
   },
   {
    "duration": 32,
    "start_time": "2022-11-29T12:54:36.460Z"
   },
   {
    "duration": 8,
    "start_time": "2022-11-29T12:54:36.494Z"
   },
   {
    "duration": 42,
    "start_time": "2022-11-29T12:54:36.504Z"
   },
   {
    "duration": 597,
    "start_time": "2022-11-29T12:54:36.548Z"
   },
   {
    "duration": 68,
    "start_time": "2022-11-29T12:54:37.147Z"
   },
   {
    "duration": 17,
    "start_time": "2022-11-29T12:54:37.216Z"
   },
   {
    "duration": 512,
    "start_time": "2022-11-29T12:54:37.234Z"
   },
   {
    "duration": 18,
    "start_time": "2022-11-29T12:54:37.748Z"
   },
   {
    "duration": 7,
    "start_time": "2022-11-29T12:54:37.778Z"
   },
   {
    "duration": 36,
    "start_time": "2022-11-29T12:54:37.786Z"
   },
   {
    "duration": 22,
    "start_time": "2022-11-29T12:54:37.823Z"
   },
   {
    "duration": 20,
    "start_time": "2022-11-29T12:54:37.847Z"
   },
   {
    "duration": 49,
    "start_time": "2022-11-29T12:54:37.869Z"
   },
   {
    "duration": 29,
    "start_time": "2022-11-29T12:54:37.919Z"
   },
   {
    "duration": 75,
    "start_time": "2022-11-29T12:54:37.950Z"
   },
   {
    "duration": 94,
    "start_time": "2022-11-29T13:08:26.757Z"
   },
   {
    "duration": 3,
    "start_time": "2022-11-29T13:09:39.148Z"
   },
   {
    "duration": 11,
    "start_time": "2022-11-29T13:22:27.690Z"
   },
   {
    "duration": 1182,
    "start_time": "2022-11-29T13:22:39.192Z"
   },
   {
    "duration": 599,
    "start_time": "2022-11-29T13:22:54.261Z"
   },
   {
    "duration": 31,
    "start_time": "2022-11-29T13:23:26.979Z"
   },
   {
    "duration": 8,
    "start_time": "2022-11-29T13:24:21.202Z"
   },
   {
    "duration": 11,
    "start_time": "2022-11-29T13:24:59.092Z"
   },
   {
    "duration": 594,
    "start_time": "2022-11-29T13:25:43.269Z"
   },
   {
    "duration": 2196,
    "start_time": "2022-11-29T13:25:43.865Z"
   },
   {
    "duration": 9,
    "start_time": "2022-11-29T13:25:46.063Z"
   },
   {
    "duration": 7,
    "start_time": "2022-11-29T13:25:46.074Z"
   },
   {
    "duration": 56,
    "start_time": "2022-11-29T13:25:46.083Z"
   },
   {
    "duration": 7,
    "start_time": "2022-11-29T13:25:46.141Z"
   },
   {
    "duration": 8,
    "start_time": "2022-11-29T13:25:46.149Z"
   },
   {
    "duration": 10,
    "start_time": "2022-11-29T13:25:46.158Z"
   },
   {
    "duration": 12,
    "start_time": "2022-11-29T13:25:46.169Z"
   },
   {
    "duration": 7,
    "start_time": "2022-11-29T13:25:46.185Z"
   },
   {
    "duration": 14,
    "start_time": "2022-11-29T13:25:46.194Z"
   },
   {
    "duration": 6,
    "start_time": "2022-11-29T13:25:46.209Z"
   },
   {
    "duration": 7,
    "start_time": "2022-11-29T13:25:46.216Z"
   },
   {
    "duration": 8,
    "start_time": "2022-11-29T13:25:46.224Z"
   },
   {
    "duration": 68,
    "start_time": "2022-11-29T13:25:46.233Z"
   },
   {
    "duration": 11,
    "start_time": "2022-11-29T13:25:46.303Z"
   },
   {
    "duration": 8,
    "start_time": "2022-11-29T13:25:46.316Z"
   },
   {
    "duration": 54,
    "start_time": "2022-11-29T13:25:46.326Z"
   },
   {
    "duration": 14,
    "start_time": "2022-11-29T13:25:46.382Z"
   },
   {
    "duration": 36,
    "start_time": "2022-11-29T13:25:46.398Z"
   },
   {
    "duration": 7,
    "start_time": "2022-11-29T13:25:46.435Z"
   },
   {
    "duration": 9,
    "start_time": "2022-11-29T13:25:46.443Z"
   },
   {
    "duration": 21,
    "start_time": "2022-11-29T13:25:46.478Z"
   },
   {
    "duration": 8,
    "start_time": "2022-11-29T13:25:46.501Z"
   },
   {
    "duration": 319,
    "start_time": "2022-11-29T13:25:46.511Z"
   },
   {
    "duration": 72,
    "start_time": "2022-11-29T13:25:46.831Z"
   },
   {
    "duration": 14,
    "start_time": "2022-11-29T13:25:46.905Z"
   },
   {
    "duration": 24,
    "start_time": "2022-11-29T13:25:46.923Z"
   },
   {
    "duration": 55,
    "start_time": "2022-11-29T13:25:46.949Z"
   },
   {
    "duration": 35,
    "start_time": "2022-11-29T13:25:47.005Z"
   },
   {
    "duration": 9,
    "start_time": "2022-11-29T13:25:47.041Z"
   },
   {
    "duration": 35,
    "start_time": "2022-11-29T13:25:47.052Z"
   },
   {
    "duration": 668,
    "start_time": "2022-11-29T13:25:47.092Z"
   },
   {
    "duration": 79,
    "start_time": "2022-11-29T13:25:47.761Z"
   },
   {
    "duration": 16,
    "start_time": "2022-11-29T13:25:47.842Z"
   },
   {
    "duration": 588,
    "start_time": "2022-11-29T13:25:47.859Z"
   },
   {
    "duration": 17,
    "start_time": "2022-11-29T13:25:48.448Z"
   },
   {
    "duration": 10,
    "start_time": "2022-11-29T13:25:48.478Z"
   },
   {
    "duration": 16,
    "start_time": "2022-11-29T13:25:48.490Z"
   },
   {
    "duration": 20,
    "start_time": "2022-11-29T13:25:48.509Z"
   },
   {
    "duration": 11,
    "start_time": "2022-11-29T13:25:48.531Z"
   },
   {
    "duration": 75,
    "start_time": "2022-11-29T13:25:48.543Z"
   },
   {
    "duration": 20,
    "start_time": "2022-11-29T13:25:48.620Z"
   },
   {
    "duration": 4,
    "start_time": "2022-11-29T13:25:48.641Z"
   },
   {
    "duration": 10,
    "start_time": "2022-11-29T13:25:48.646Z"
   },
   {
    "duration": 80,
    "start_time": "2022-11-29T13:25:48.678Z"
   },
   {
    "duration": 9,
    "start_time": "2022-11-29T13:27:15.879Z"
   },
   {
    "duration": 7,
    "start_time": "2022-11-29T13:27:26.323Z"
   },
   {
    "duration": 9,
    "start_time": "2022-11-29T13:29:12.261Z"
   },
   {
    "duration": 8,
    "start_time": "2022-11-29T13:29:21.566Z"
   },
   {
    "duration": 11,
    "start_time": "2022-11-29T13:31:41.657Z"
   },
   {
    "duration": 582,
    "start_time": "2022-11-29T13:32:17.081Z"
   },
   {
    "duration": 2149,
    "start_time": "2022-11-29T13:32:17.665Z"
   },
   {
    "duration": 11,
    "start_time": "2022-11-29T13:32:19.816Z"
   },
   {
    "duration": 5,
    "start_time": "2022-11-29T13:32:19.829Z"
   },
   {
    "duration": 39,
    "start_time": "2022-11-29T13:32:19.836Z"
   },
   {
    "duration": 8,
    "start_time": "2022-11-29T13:32:19.876Z"
   },
   {
    "duration": 18,
    "start_time": "2022-11-29T13:32:19.885Z"
   },
   {
    "duration": 13,
    "start_time": "2022-11-29T13:32:19.905Z"
   },
   {
    "duration": 5,
    "start_time": "2022-11-29T13:32:19.919Z"
   },
   {
    "duration": 9,
    "start_time": "2022-11-29T13:32:19.926Z"
   },
   {
    "duration": 12,
    "start_time": "2022-11-29T13:32:19.937Z"
   },
   {
    "duration": 32,
    "start_time": "2022-11-29T13:32:19.950Z"
   },
   {
    "duration": 8,
    "start_time": "2022-11-29T13:32:19.984Z"
   },
   {
    "duration": 14,
    "start_time": "2022-11-29T13:32:19.994Z"
   },
   {
    "duration": 44,
    "start_time": "2022-11-29T13:32:20.009Z"
   },
   {
    "duration": 27,
    "start_time": "2022-11-29T13:32:20.055Z"
   },
   {
    "duration": 13,
    "start_time": "2022-11-29T13:32:20.084Z"
   },
   {
    "duration": 44,
    "start_time": "2022-11-29T13:32:20.099Z"
   },
   {
    "duration": 8,
    "start_time": "2022-11-29T13:32:20.145Z"
   },
   {
    "duration": 52,
    "start_time": "2022-11-29T13:32:20.154Z"
   },
   {
    "duration": 5,
    "start_time": "2022-11-29T13:32:20.207Z"
   },
   {
    "duration": 8,
    "start_time": "2022-11-29T13:32:20.214Z"
   },
   {
    "duration": 16,
    "start_time": "2022-11-29T13:32:20.224Z"
   },
   {
    "duration": 9,
    "start_time": "2022-11-29T13:32:20.242Z"
   },
   {
    "duration": 300,
    "start_time": "2022-11-29T13:32:20.286Z"
   },
   {
    "duration": 73,
    "start_time": "2022-11-29T13:32:20.588Z"
   },
   {
    "duration": 35,
    "start_time": "2022-11-29T13:32:20.663Z"
   },
   {
    "duration": 20,
    "start_time": "2022-11-29T13:32:20.702Z"
   },
   {
    "duration": 34,
    "start_time": "2022-11-29T13:32:20.723Z"
   },
   {
    "duration": 57,
    "start_time": "2022-11-29T13:32:20.759Z"
   },
   {
    "duration": 8,
    "start_time": "2022-11-29T13:32:20.818Z"
   },
   {
    "duration": 10,
    "start_time": "2022-11-29T13:32:20.828Z"
   },
   {
    "duration": 659,
    "start_time": "2022-11-29T13:32:20.839Z"
   },
   {
    "duration": 62,
    "start_time": "2022-11-29T13:32:21.500Z"
   },
   {
    "duration": 33,
    "start_time": "2022-11-29T13:32:21.564Z"
   },
   {
    "duration": 571,
    "start_time": "2022-11-29T13:32:21.599Z"
   },
   {
    "duration": 27,
    "start_time": "2022-11-29T13:32:22.171Z"
   },
   {
    "duration": 7,
    "start_time": "2022-11-29T13:32:22.200Z"
   },
   {
    "duration": 12,
    "start_time": "2022-11-29T13:32:22.209Z"
   },
   {
    "duration": 18,
    "start_time": "2022-11-29T13:32:22.222Z"
   },
   {
    "duration": 41,
    "start_time": "2022-11-29T13:32:22.241Z"
   },
   {
    "duration": 45,
    "start_time": "2022-11-29T13:32:22.285Z"
   },
   {
    "duration": 21,
    "start_time": "2022-11-29T13:32:22.332Z"
   },
   {
    "duration": 7,
    "start_time": "2022-11-29T13:32:22.355Z"
   },
   {
    "duration": 17,
    "start_time": "2022-11-29T13:32:22.378Z"
   },
   {
    "duration": 108,
    "start_time": "2022-11-29T13:32:22.397Z"
   },
   {
    "duration": 705,
    "start_time": "2022-11-29T13:34:24.953Z"
   },
   {
    "duration": 579,
    "start_time": "2022-11-29T13:34:35.080Z"
   },
   {
    "duration": 2313,
    "start_time": "2022-11-29T13:34:35.661Z"
   },
   {
    "duration": 16,
    "start_time": "2022-11-29T13:34:37.975Z"
   },
   {
    "duration": 6,
    "start_time": "2022-11-29T13:34:37.994Z"
   },
   {
    "duration": 45,
    "start_time": "2022-11-29T13:34:38.001Z"
   },
   {
    "duration": 8,
    "start_time": "2022-11-29T13:34:38.047Z"
   },
   {
    "duration": 7,
    "start_time": "2022-11-29T13:34:38.057Z"
   },
   {
    "duration": 25,
    "start_time": "2022-11-29T13:34:38.065Z"
   },
   {
    "duration": 5,
    "start_time": "2022-11-29T13:34:38.091Z"
   },
   {
    "duration": 6,
    "start_time": "2022-11-29T13:34:38.099Z"
   },
   {
    "duration": 14,
    "start_time": "2022-11-29T13:34:38.107Z"
   },
   {
    "duration": 6,
    "start_time": "2022-11-29T13:34:38.122Z"
   },
   {
    "duration": 5,
    "start_time": "2022-11-29T13:34:38.129Z"
   },
   {
    "duration": 43,
    "start_time": "2022-11-29T13:34:38.136Z"
   },
   {
    "duration": 27,
    "start_time": "2022-11-29T13:34:38.180Z"
   },
   {
    "duration": 9,
    "start_time": "2022-11-29T13:34:38.208Z"
   },
   {
    "duration": 7,
    "start_time": "2022-11-29T13:34:38.219Z"
   },
   {
    "duration": 63,
    "start_time": "2022-11-29T13:34:38.228Z"
   },
   {
    "duration": 11,
    "start_time": "2022-11-29T13:34:38.293Z"
   },
   {
    "duration": 33,
    "start_time": "2022-11-29T13:34:38.305Z"
   },
   {
    "duration": 5,
    "start_time": "2022-11-29T13:34:38.339Z"
   },
   {
    "duration": 9,
    "start_time": "2022-11-29T13:34:38.345Z"
   },
   {
    "duration": 46,
    "start_time": "2022-11-29T13:34:38.355Z"
   },
   {
    "duration": 8,
    "start_time": "2022-11-29T13:34:38.403Z"
   },
   {
    "duration": 329,
    "start_time": "2022-11-29T13:34:38.412Z"
   },
   {
    "duration": 72,
    "start_time": "2022-11-29T13:34:38.743Z"
   },
   {
    "duration": 13,
    "start_time": "2022-11-29T13:34:38.817Z"
   },
   {
    "duration": 15,
    "start_time": "2022-11-29T13:34:38.833Z"
   },
   {
    "duration": 50,
    "start_time": "2022-11-29T13:34:38.849Z"
   },
   {
    "duration": 35,
    "start_time": "2022-11-29T13:34:38.900Z"
   },
   {
    "duration": 8,
    "start_time": "2022-11-29T13:34:38.937Z"
   },
   {
    "duration": 8,
    "start_time": "2022-11-29T13:34:38.946Z"
   },
   {
    "duration": 585,
    "start_time": "2022-11-29T13:34:38.978Z"
   },
   {
    "duration": 70,
    "start_time": "2022-11-29T13:34:39.564Z"
   },
   {
    "duration": 16,
    "start_time": "2022-11-29T13:34:39.635Z"
   },
   {
    "duration": 512,
    "start_time": "2022-11-29T13:34:39.652Z"
   },
   {
    "duration": 29,
    "start_time": "2022-11-29T13:34:40.165Z"
   },
   {
    "duration": 8,
    "start_time": "2022-11-29T13:34:40.196Z"
   },
   {
    "duration": 9,
    "start_time": "2022-11-29T13:34:40.206Z"
   },
   {
    "duration": 19,
    "start_time": "2022-11-29T13:34:40.216Z"
   },
   {
    "duration": 11,
    "start_time": "2022-11-29T13:34:40.236Z"
   },
   {
    "duration": 71,
    "start_time": "2022-11-29T13:34:40.248Z"
   },
   {
    "duration": 20,
    "start_time": "2022-11-29T13:34:40.320Z"
   },
   {
    "duration": 3,
    "start_time": "2022-11-29T13:34:40.342Z"
   },
   {
    "duration": 652,
    "start_time": "2022-11-29T13:34:40.346Z"
   },
   {
    "duration": 0,
    "start_time": "2022-11-29T13:34:41.000Z"
   },
   {
    "duration": 580,
    "start_time": "2022-11-29T13:34:57.562Z"
   },
   {
    "duration": 9,
    "start_time": "2022-11-29T13:35:03.161Z"
   },
   {
    "duration": 11,
    "start_time": "2022-11-29T13:35:23.326Z"
   },
   {
    "duration": 9,
    "start_time": "2022-11-29T13:35:40.180Z"
   },
   {
    "duration": 9,
    "start_time": "2022-11-29T13:35:45.715Z"
   },
   {
    "duration": 10,
    "start_time": "2022-11-29T14:55:39.305Z"
   },
   {
    "duration": 21,
    "start_time": "2022-11-29T14:55:47.519Z"
   },
   {
    "duration": 544,
    "start_time": "2022-11-29T14:55:58.590Z"
   },
   {
    "duration": 2083,
    "start_time": "2022-11-29T14:55:59.135Z"
   },
   {
    "duration": 10,
    "start_time": "2022-11-29T14:56:01.220Z"
   },
   {
    "duration": 21,
    "start_time": "2022-11-29T14:56:01.232Z"
   },
   {
    "duration": 63,
    "start_time": "2022-11-29T14:56:01.254Z"
   },
   {
    "duration": 10,
    "start_time": "2022-11-29T14:56:01.319Z"
   },
   {
    "duration": 40,
    "start_time": "2022-11-29T14:56:01.330Z"
   },
   {
    "duration": 24,
    "start_time": "2022-11-29T14:56:01.372Z"
   },
   {
    "duration": 8,
    "start_time": "2022-11-29T14:56:01.398Z"
   },
   {
    "duration": 25,
    "start_time": "2022-11-29T14:56:01.409Z"
   },
   {
    "duration": 51,
    "start_time": "2022-11-29T14:56:01.435Z"
   },
   {
    "duration": 17,
    "start_time": "2022-11-29T14:56:01.488Z"
   },
   {
    "duration": 37,
    "start_time": "2022-11-29T14:56:01.507Z"
   },
   {
    "duration": 38,
    "start_time": "2022-11-29T14:56:01.546Z"
   },
   {
    "duration": 51,
    "start_time": "2022-11-29T14:56:01.585Z"
   },
   {
    "duration": 14,
    "start_time": "2022-11-29T14:56:01.637Z"
   },
   {
    "duration": 40,
    "start_time": "2022-11-29T14:56:01.652Z"
   },
   {
    "duration": 59,
    "start_time": "2022-11-29T14:56:01.693Z"
   },
   {
    "duration": 9,
    "start_time": "2022-11-29T14:56:01.753Z"
   },
   {
    "duration": 55,
    "start_time": "2022-11-29T14:56:01.763Z"
   },
   {
    "duration": 5,
    "start_time": "2022-11-29T14:56:01.819Z"
   },
   {
    "duration": 37,
    "start_time": "2022-11-29T14:56:01.825Z"
   },
   {
    "duration": 38,
    "start_time": "2022-11-29T14:56:01.863Z"
   },
   {
    "duration": 15,
    "start_time": "2022-11-29T14:56:01.902Z"
   },
   {
    "duration": 291,
    "start_time": "2022-11-29T14:56:01.919Z"
   },
   {
    "duration": 71,
    "start_time": "2022-11-29T14:56:02.211Z"
   },
   {
    "duration": 13,
    "start_time": "2022-11-29T14:56:02.283Z"
   },
   {
    "duration": 20,
    "start_time": "2022-11-29T14:56:02.300Z"
   },
   {
    "duration": 52,
    "start_time": "2022-11-29T14:56:02.321Z"
   },
   {
    "duration": 32,
    "start_time": "2022-11-29T14:56:02.375Z"
   },
   {
    "duration": 7,
    "start_time": "2022-11-29T14:56:02.409Z"
   },
   {
    "duration": 18,
    "start_time": "2022-11-29T14:56:02.417Z"
   },
   {
    "duration": 628,
    "start_time": "2022-11-29T14:56:02.436Z"
   },
   {
    "duration": 66,
    "start_time": "2022-11-29T14:56:03.065Z"
   },
   {
    "duration": 16,
    "start_time": "2022-11-29T14:56:03.133Z"
   },
   {
    "duration": 558,
    "start_time": "2022-11-29T14:56:03.151Z"
   },
   {
    "duration": 17,
    "start_time": "2022-11-29T14:56:03.711Z"
   },
   {
    "duration": 14,
    "start_time": "2022-11-29T14:56:03.730Z"
   },
   {
    "duration": 16,
    "start_time": "2022-11-29T14:56:03.746Z"
   },
   {
    "duration": 23,
    "start_time": "2022-11-29T14:56:03.764Z"
   },
   {
    "duration": 11,
    "start_time": "2022-11-29T14:56:03.789Z"
   },
   {
    "duration": 63,
    "start_time": "2022-11-29T14:56:03.802Z"
   },
   {
    "duration": 12,
    "start_time": "2022-11-29T14:56:03.867Z"
   },
   {
    "duration": 28,
    "start_time": "2022-11-29T14:56:03.880Z"
   },
   {
    "duration": 3,
    "start_time": "2022-11-29T14:56:03.910Z"
   },
   {
    "duration": 93,
    "start_time": "2022-11-29T14:56:03.914Z"
   },
   {
    "duration": 28,
    "start_time": "2022-11-29T14:56:38.675Z"
   },
   {
    "duration": 534,
    "start_time": "2022-11-29T14:57:04.302Z"
   },
   {
    "duration": 2175,
    "start_time": "2022-11-29T14:57:04.838Z"
   },
   {
    "duration": 12,
    "start_time": "2022-11-29T14:57:07.015Z"
   },
   {
    "duration": 6,
    "start_time": "2022-11-29T14:57:07.030Z"
   },
   {
    "duration": 37,
    "start_time": "2022-11-29T14:57:07.038Z"
   },
   {
    "duration": 7,
    "start_time": "2022-11-29T14:57:07.077Z"
   },
   {
    "duration": 7,
    "start_time": "2022-11-29T14:57:07.085Z"
   },
   {
    "duration": 10,
    "start_time": "2022-11-29T14:57:07.093Z"
   },
   {
    "duration": 4,
    "start_time": "2022-11-29T14:57:07.104Z"
   },
   {
    "duration": 5,
    "start_time": "2022-11-29T14:57:07.110Z"
   },
   {
    "duration": 11,
    "start_time": "2022-11-29T14:57:07.116Z"
   },
   {
    "duration": 5,
    "start_time": "2022-11-29T14:57:07.128Z"
   },
   {
    "duration": 5,
    "start_time": "2022-11-29T14:57:07.135Z"
   },
   {
    "duration": 43,
    "start_time": "2022-11-29T14:57:07.142Z"
   },
   {
    "duration": 25,
    "start_time": "2022-11-29T14:57:07.186Z"
   },
   {
    "duration": 10,
    "start_time": "2022-11-29T14:57:07.212Z"
   },
   {
    "duration": 15,
    "start_time": "2022-11-29T14:57:07.223Z"
   },
   {
    "duration": 56,
    "start_time": "2022-11-29T14:57:07.239Z"
   },
   {
    "duration": 14,
    "start_time": "2022-11-29T14:57:07.297Z"
   },
   {
    "duration": 39,
    "start_time": "2022-11-29T14:57:07.313Z"
   },
   {
    "duration": 25,
    "start_time": "2022-11-29T14:57:07.354Z"
   },
   {
    "duration": 6,
    "start_time": "2022-11-29T14:57:07.380Z"
   },
   {
    "duration": 18,
    "start_time": "2022-11-29T14:57:07.388Z"
   },
   {
    "duration": 9,
    "start_time": "2022-11-29T14:57:07.408Z"
   },
   {
    "duration": 314,
    "start_time": "2022-11-29T14:57:07.419Z"
   },
   {
    "duration": 76,
    "start_time": "2022-11-29T14:57:07.735Z"
   },
   {
    "duration": 13,
    "start_time": "2022-11-29T14:57:07.813Z"
   },
   {
    "duration": 17,
    "start_time": "2022-11-29T14:57:07.830Z"
   },
   {
    "duration": 50,
    "start_time": "2022-11-29T14:57:07.849Z"
   },
   {
    "duration": 33,
    "start_time": "2022-11-29T14:57:07.901Z"
   },
   {
    "duration": 9,
    "start_time": "2022-11-29T14:57:07.935Z"
   },
   {
    "duration": 35,
    "start_time": "2022-11-29T14:57:07.946Z"
   },
   {
    "duration": 595,
    "start_time": "2022-11-29T14:57:07.983Z"
   },
   {
    "duration": 64,
    "start_time": "2022-11-29T14:57:08.579Z"
   },
   {
    "duration": 34,
    "start_time": "2022-11-29T14:57:08.645Z"
   },
   {
    "duration": 519,
    "start_time": "2022-11-29T14:57:08.680Z"
   },
   {
    "duration": 18,
    "start_time": "2022-11-29T14:57:09.200Z"
   },
   {
    "duration": 6,
    "start_time": "2022-11-29T14:57:09.220Z"
   },
   {
    "duration": 17,
    "start_time": "2022-11-29T14:57:09.227Z"
   },
   {
    "duration": 18,
    "start_time": "2022-11-29T14:57:09.246Z"
   },
   {
    "duration": 10,
    "start_time": "2022-11-29T14:57:09.278Z"
   },
   {
    "duration": 40,
    "start_time": "2022-11-29T14:57:09.289Z"
   },
   {
    "duration": 8,
    "start_time": "2022-11-29T14:57:09.331Z"
   },
   {
    "duration": 40,
    "start_time": "2022-11-29T14:57:09.340Z"
   },
   {
    "duration": 5,
    "start_time": "2022-11-29T14:57:09.381Z"
   },
   {
    "duration": 72,
    "start_time": "2022-11-29T14:57:09.387Z"
   },
   {
    "duration": 7,
    "start_time": "2022-11-29T14:57:36.344Z"
   },
   {
    "duration": 512,
    "start_time": "2022-11-29T14:57:47.232Z"
   },
   {
    "duration": 2165,
    "start_time": "2022-11-29T14:57:47.745Z"
   },
   {
    "duration": 11,
    "start_time": "2022-11-29T14:57:49.911Z"
   },
   {
    "duration": 6,
    "start_time": "2022-11-29T14:57:49.924Z"
   },
   {
    "duration": 41,
    "start_time": "2022-11-29T14:57:49.931Z"
   },
   {
    "duration": 7,
    "start_time": "2022-11-29T14:57:49.973Z"
   },
   {
    "duration": 9,
    "start_time": "2022-11-29T14:57:49.982Z"
   },
   {
    "duration": 12,
    "start_time": "2022-11-29T14:57:49.992Z"
   },
   {
    "duration": 5,
    "start_time": "2022-11-29T14:57:50.005Z"
   },
   {
    "duration": 14,
    "start_time": "2022-11-29T14:57:50.014Z"
   },
   {
    "duration": 16,
    "start_time": "2022-11-29T14:57:50.030Z"
   },
   {
    "duration": 31,
    "start_time": "2022-11-29T14:57:50.049Z"
   },
   {
    "duration": 9,
    "start_time": "2022-11-29T14:57:50.082Z"
   },
   {
    "duration": 10,
    "start_time": "2022-11-29T14:57:50.092Z"
   },
   {
    "duration": 30,
    "start_time": "2022-11-29T14:57:50.104Z"
   },
   {
    "duration": 10,
    "start_time": "2022-11-29T14:57:50.136Z"
   },
   {
    "duration": 32,
    "start_time": "2022-11-29T14:57:50.147Z"
   },
   {
    "duration": 37,
    "start_time": "2022-11-29T14:57:50.180Z"
   },
   {
    "duration": 9,
    "start_time": "2022-11-29T14:57:50.219Z"
   },
   {
    "duration": 59,
    "start_time": "2022-11-29T14:57:50.229Z"
   },
   {
    "duration": 6,
    "start_time": "2022-11-29T14:57:50.290Z"
   },
   {
    "duration": 9,
    "start_time": "2022-11-29T14:57:50.297Z"
   },
   {
    "duration": 19,
    "start_time": "2022-11-29T14:57:50.307Z"
   },
   {
    "duration": 12,
    "start_time": "2022-11-29T14:57:50.328Z"
   },
   {
    "duration": 331,
    "start_time": "2022-11-29T14:57:50.341Z"
   },
   {
    "duration": 67,
    "start_time": "2022-11-29T14:57:50.677Z"
   },
   {
    "duration": 32,
    "start_time": "2022-11-29T14:57:50.745Z"
   },
   {
    "duration": 16,
    "start_time": "2022-11-29T14:57:50.781Z"
   },
   {
    "duration": 33,
    "start_time": "2022-11-29T14:57:50.798Z"
   },
   {
    "duration": 53,
    "start_time": "2022-11-29T14:57:50.832Z"
   },
   {
    "duration": 8,
    "start_time": "2022-11-29T14:57:50.887Z"
   },
   {
    "duration": 7,
    "start_time": "2022-11-29T14:57:50.897Z"
   },
   {
    "duration": 660,
    "start_time": "2022-11-29T14:57:50.906Z"
   },
   {
    "duration": 68,
    "start_time": "2022-11-29T14:57:51.568Z"
   },
   {
    "duration": 19,
    "start_time": "2022-11-29T14:57:51.638Z"
   },
   {
    "duration": 569,
    "start_time": "2022-11-29T14:57:51.658Z"
   },
   {
    "duration": 19,
    "start_time": "2022-11-29T14:57:52.228Z"
   },
   {
    "duration": 7,
    "start_time": "2022-11-29T14:57:52.248Z"
   },
   {
    "duration": 25,
    "start_time": "2022-11-29T14:57:52.257Z"
   },
   {
    "duration": 21,
    "start_time": "2022-11-29T14:57:52.284Z"
   },
   {
    "duration": 11,
    "start_time": "2022-11-29T14:57:52.307Z"
   },
   {
    "duration": 59,
    "start_time": "2022-11-29T14:57:52.320Z"
   },
   {
    "duration": 7,
    "start_time": "2022-11-29T14:57:52.380Z"
   },
   {
    "duration": 10,
    "start_time": "2022-11-29T14:57:52.388Z"
   },
   {
    "duration": 892,
    "start_time": "2022-11-29T14:57:52.399Z"
   },
   {
    "duration": 0,
    "start_time": "2022-11-29T14:57:53.293Z"
   },
   {
    "duration": 836,
    "start_time": "2022-11-29T14:58:10.144Z"
   },
   {
    "duration": 554,
    "start_time": "2022-11-29T14:58:16.760Z"
   },
   {
    "duration": 2085,
    "start_time": "2022-11-29T14:58:17.316Z"
   },
   {
    "duration": 10,
    "start_time": "2022-11-29T14:58:19.403Z"
   },
   {
    "duration": 5,
    "start_time": "2022-11-29T14:58:19.414Z"
   },
   {
    "duration": 38,
    "start_time": "2022-11-29T14:58:19.421Z"
   },
   {
    "duration": 8,
    "start_time": "2022-11-29T14:58:19.460Z"
   },
   {
    "duration": 7,
    "start_time": "2022-11-29T14:58:19.478Z"
   },
   {
    "duration": 11,
    "start_time": "2022-11-29T14:58:19.486Z"
   },
   {
    "duration": 4,
    "start_time": "2022-11-29T14:58:19.498Z"
   },
   {
    "duration": 5,
    "start_time": "2022-11-29T14:58:19.505Z"
   },
   {
    "duration": 14,
    "start_time": "2022-11-29T14:58:19.512Z"
   },
   {
    "duration": 6,
    "start_time": "2022-11-29T14:58:19.527Z"
   },
   {
    "duration": 6,
    "start_time": "2022-11-29T14:58:19.534Z"
   },
   {
    "duration": 10,
    "start_time": "2022-11-29T14:58:19.578Z"
   },
   {
    "duration": 25,
    "start_time": "2022-11-29T14:58:19.589Z"
   },
   {
    "duration": 10,
    "start_time": "2022-11-29T14:58:19.615Z"
   },
   {
    "duration": 9,
    "start_time": "2022-11-29T14:58:19.626Z"
   },
   {
    "duration": 67,
    "start_time": "2022-11-29T14:58:19.637Z"
   },
   {
    "duration": 9,
    "start_time": "2022-11-29T14:58:19.705Z"
   },
   {
    "duration": 35,
    "start_time": "2022-11-29T14:58:19.716Z"
   },
   {
    "duration": 27,
    "start_time": "2022-11-29T14:58:19.752Z"
   },
   {
    "duration": 6,
    "start_time": "2022-11-29T14:58:19.781Z"
   },
   {
    "duration": 17,
    "start_time": "2022-11-29T14:58:19.788Z"
   },
   {
    "duration": 9,
    "start_time": "2022-11-29T14:58:19.807Z"
   },
   {
    "duration": 334,
    "start_time": "2022-11-29T14:58:19.817Z"
   },
   {
    "duration": 80,
    "start_time": "2022-11-29T14:58:20.153Z"
   },
   {
    "duration": 13,
    "start_time": "2022-11-29T14:58:20.235Z"
   },
   {
    "duration": 31,
    "start_time": "2022-11-29T14:58:20.251Z"
   },
   {
    "duration": 35,
    "start_time": "2022-11-29T14:58:20.284Z"
   },
   {
    "duration": 35,
    "start_time": "2022-11-29T14:58:20.321Z"
   },
   {
    "duration": 10,
    "start_time": "2022-11-29T14:58:20.377Z"
   },
   {
    "duration": 10,
    "start_time": "2022-11-29T14:58:20.389Z"
   },
   {
    "duration": 663,
    "start_time": "2022-11-29T14:58:20.401Z"
   },
   {
    "duration": 67,
    "start_time": "2022-11-29T14:58:21.065Z"
   },
   {
    "duration": 17,
    "start_time": "2022-11-29T14:58:21.134Z"
   },
   {
    "duration": 504,
    "start_time": "2022-11-29T14:58:21.152Z"
   },
   {
    "duration": 21,
    "start_time": "2022-11-29T14:58:21.657Z"
   },
   {
    "duration": 6,
    "start_time": "2022-11-29T14:58:21.679Z"
   },
   {
    "duration": 7,
    "start_time": "2022-11-29T14:58:21.687Z"
   },
   {
    "duration": 17,
    "start_time": "2022-11-29T14:58:21.695Z"
   },
   {
    "duration": 11,
    "start_time": "2022-11-29T14:58:21.714Z"
   },
   {
    "duration": 69,
    "start_time": "2022-11-29T14:58:21.727Z"
   },
   {
    "duration": 7,
    "start_time": "2022-11-29T14:58:21.798Z"
   },
   {
    "duration": 23,
    "start_time": "2022-11-29T14:58:21.806Z"
   },
   {
    "duration": 4,
    "start_time": "2022-11-29T14:58:21.831Z"
   },
   {
    "duration": 7,
    "start_time": "2022-11-29T14:58:21.837Z"
   },
   {
    "duration": 5,
    "start_time": "2022-11-29T14:59:13.158Z"
   },
   {
    "duration": 8,
    "start_time": "2022-11-29T14:59:36.352Z"
   },
   {
    "duration": 8,
    "start_time": "2022-11-29T15:00:00.580Z"
   },
   {
    "duration": 8,
    "start_time": "2022-11-29T15:01:06.336Z"
   },
   {
    "duration": 6,
    "start_time": "2022-11-29T15:01:19.935Z"
   },
   {
    "duration": 7,
    "start_time": "2022-11-29T15:02:10.016Z"
   },
   {
    "duration": 7,
    "start_time": "2022-11-29T15:03:21.791Z"
   },
   {
    "duration": 69,
    "start_time": "2022-11-29T15:04:07.199Z"
   },
   {
    "duration": 525,
    "start_time": "2022-11-29T15:06:41.104Z"
   },
   {
    "duration": 1979,
    "start_time": "2022-11-29T15:06:41.631Z"
   },
   {
    "duration": 10,
    "start_time": "2022-11-29T15:06:43.611Z"
   },
   {
    "duration": 4,
    "start_time": "2022-11-29T15:06:43.623Z"
   },
   {
    "duration": 41,
    "start_time": "2022-11-29T15:06:43.629Z"
   },
   {
    "duration": 10,
    "start_time": "2022-11-29T15:06:43.672Z"
   },
   {
    "duration": 13,
    "start_time": "2022-11-29T15:06:43.683Z"
   },
   {
    "duration": 10,
    "start_time": "2022-11-29T15:06:43.698Z"
   },
   {
    "duration": 4,
    "start_time": "2022-11-29T15:06:43.710Z"
   },
   {
    "duration": 7,
    "start_time": "2022-11-29T15:06:43.716Z"
   },
   {
    "duration": 12,
    "start_time": "2022-11-29T15:06:43.724Z"
   },
   {
    "duration": 5,
    "start_time": "2022-11-29T15:06:43.737Z"
   },
   {
    "duration": 6,
    "start_time": "2022-11-29T15:06:43.744Z"
   },
   {
    "duration": 31,
    "start_time": "2022-11-29T15:06:43.751Z"
   },
   {
    "duration": 23,
    "start_time": "2022-11-29T15:06:43.783Z"
   },
   {
    "duration": 9,
    "start_time": "2022-11-29T15:06:43.808Z"
   },
   {
    "duration": 8,
    "start_time": "2022-11-29T15:06:43.819Z"
   },
   {
    "duration": 61,
    "start_time": "2022-11-29T15:06:43.829Z"
   },
   {
    "duration": 8,
    "start_time": "2022-11-29T15:06:43.892Z"
   },
   {
    "duration": 33,
    "start_time": "2022-11-29T15:06:43.901Z"
   },
   {
    "duration": 5,
    "start_time": "2022-11-29T15:06:43.935Z"
   },
   {
    "duration": 9,
    "start_time": "2022-11-29T15:06:43.941Z"
   },
   {
    "duration": 54,
    "start_time": "2022-11-29T15:06:43.952Z"
   },
   {
    "duration": 10,
    "start_time": "2022-11-29T15:06:44.008Z"
   },
   {
    "duration": 352,
    "start_time": "2022-11-29T15:06:44.019Z"
   },
   {
    "duration": 68,
    "start_time": "2022-11-29T15:06:44.372Z"
   },
   {
    "duration": 14,
    "start_time": "2022-11-29T15:06:44.442Z"
   },
   {
    "duration": 31,
    "start_time": "2022-11-29T15:06:44.459Z"
   },
   {
    "duration": 34,
    "start_time": "2022-11-29T15:06:44.491Z"
   },
   {
    "duration": 51,
    "start_time": "2022-11-29T15:06:44.526Z"
   },
   {
    "duration": 9,
    "start_time": "2022-11-29T15:06:44.579Z"
   },
   {
    "duration": 10,
    "start_time": "2022-11-29T15:06:44.589Z"
   },
   {
    "duration": 738,
    "start_time": "2022-11-29T15:06:44.601Z"
   },
   {
    "duration": 89,
    "start_time": "2022-11-29T15:06:45.341Z"
   },
   {
    "duration": 24,
    "start_time": "2022-11-29T15:06:45.432Z"
   },
   {
    "duration": 530,
    "start_time": "2022-11-29T15:06:45.458Z"
   },
   {
    "duration": 17,
    "start_time": "2022-11-29T15:06:45.989Z"
   },
   {
    "duration": 5,
    "start_time": "2022-11-29T15:06:46.008Z"
   },
   {
    "duration": 20,
    "start_time": "2022-11-29T15:06:46.015Z"
   },
   {
    "duration": 25,
    "start_time": "2022-11-29T15:06:46.037Z"
   },
   {
    "duration": 12,
    "start_time": "2022-11-29T15:06:46.064Z"
   },
   {
    "duration": 47,
    "start_time": "2022-11-29T15:06:46.078Z"
   },
   {
    "duration": 6,
    "start_time": "2022-11-29T15:06:46.127Z"
   },
   {
    "duration": 27,
    "start_time": "2022-11-29T15:06:46.135Z"
   },
   {
    "duration": 15,
    "start_time": "2022-11-29T15:06:46.163Z"
   },
   {
    "duration": 24,
    "start_time": "2022-11-29T15:06:46.180Z"
   },
   {
    "duration": 18,
    "start_time": "2022-11-29T15:06:46.205Z"
   },
   {
    "duration": 9,
    "start_time": "2022-11-29T15:06:46.225Z"
   },
   {
    "duration": 69,
    "start_time": "2022-11-29T15:06:46.236Z"
   },
   {
    "duration": 260,
    "start_time": "2022-11-29T15:07:42.514Z"
   },
   {
    "duration": 264,
    "start_time": "2022-11-29T15:07:56.283Z"
   },
   {
    "duration": 7,
    "start_time": "2022-11-29T15:08:29.542Z"
   },
   {
    "duration": 20,
    "start_time": "2022-11-29T15:09:37.777Z"
   },
   {
    "duration": 158,
    "start_time": "2022-11-29T15:14:19.058Z"
   },
   {
    "duration": 211,
    "start_time": "2022-11-29T15:14:30.627Z"
   },
   {
    "duration": 145,
    "start_time": "2022-11-29T15:14:56.007Z"
   },
   {
    "duration": 159,
    "start_time": "2022-11-29T15:15:12.253Z"
   },
   {
    "duration": 135,
    "start_time": "2022-11-29T15:19:34.653Z"
   },
   {
    "duration": 156,
    "start_time": "2022-11-29T15:22:34.916Z"
   },
   {
    "duration": 165,
    "start_time": "2022-11-29T15:23:00.538Z"
   },
   {
    "duration": 136,
    "start_time": "2022-11-29T15:23:15.642Z"
   },
   {
    "duration": 7,
    "start_time": "2022-11-29T15:25:09.142Z"
   },
   {
    "duration": 146,
    "start_time": "2022-11-29T15:25:37.365Z"
   },
   {
    "duration": 139,
    "start_time": "2022-11-29T15:25:46.672Z"
   },
   {
    "duration": 138,
    "start_time": "2022-11-29T15:25:52.132Z"
   },
   {
    "duration": 76,
    "start_time": "2022-11-29T15:26:45.136Z"
   },
   {
    "duration": 160,
    "start_time": "2022-11-29T15:27:00.030Z"
   },
   {
    "duration": 435,
    "start_time": "2022-11-29T15:27:50.014Z"
   },
   {
    "duration": 323,
    "start_time": "2022-11-29T15:28:00.320Z"
   },
   {
    "duration": 350,
    "start_time": "2022-11-29T15:28:23.717Z"
   },
   {
    "duration": 469,
    "start_time": "2022-11-29T15:29:29.385Z"
   },
   {
    "duration": 599,
    "start_time": "2022-11-29T15:30:23.706Z"
   },
   {
    "duration": 103,
    "start_time": "2022-11-29T15:45:06.271Z"
   },
   {
    "duration": 1202,
    "start_time": "2022-11-29T15:45:22.268Z"
   },
   {
    "duration": 185,
    "start_time": "2022-11-29T15:45:52.906Z"
   },
   {
    "duration": 10,
    "start_time": "2022-11-29T15:47:29.043Z"
   },
   {
    "duration": 4,
    "start_time": "2022-11-29T15:47:35.374Z"
   },
   {
    "duration": 4,
    "start_time": "2022-11-29T15:48:48.653Z"
   },
   {
    "duration": 3,
    "start_time": "2022-11-29T15:48:52.757Z"
   },
   {
    "duration": 548,
    "start_time": "2022-11-29T15:49:04.075Z"
   },
   {
    "duration": 2008,
    "start_time": "2022-11-29T15:49:04.625Z"
   },
   {
    "duration": 10,
    "start_time": "2022-11-29T15:49:06.635Z"
   },
   {
    "duration": 5,
    "start_time": "2022-11-29T15:49:06.646Z"
   },
   {
    "duration": 37,
    "start_time": "2022-11-29T15:49:06.653Z"
   },
   {
    "duration": 6,
    "start_time": "2022-11-29T15:49:06.692Z"
   },
   {
    "duration": 12,
    "start_time": "2022-11-29T15:49:06.699Z"
   },
   {
    "duration": 12,
    "start_time": "2022-11-29T15:49:06.713Z"
   },
   {
    "duration": 4,
    "start_time": "2022-11-29T15:49:06.727Z"
   },
   {
    "duration": 7,
    "start_time": "2022-11-29T15:49:06.734Z"
   },
   {
    "duration": 39,
    "start_time": "2022-11-29T15:49:06.743Z"
   },
   {
    "duration": 6,
    "start_time": "2022-11-29T15:49:06.784Z"
   },
   {
    "duration": 13,
    "start_time": "2022-11-29T15:49:06.792Z"
   },
   {
    "duration": 14,
    "start_time": "2022-11-29T15:49:06.806Z"
   },
   {
    "duration": 38,
    "start_time": "2022-11-29T15:49:06.821Z"
   },
   {
    "duration": 16,
    "start_time": "2022-11-29T15:49:06.861Z"
   },
   {
    "duration": 8,
    "start_time": "2022-11-29T15:49:06.879Z"
   },
   {
    "duration": 55,
    "start_time": "2022-11-29T15:49:06.889Z"
   },
   {
    "duration": 9,
    "start_time": "2022-11-29T15:49:06.945Z"
   },
   {
    "duration": 78,
    "start_time": "2022-11-29T15:49:06.956Z"
   },
   {
    "duration": 7,
    "start_time": "2022-11-29T15:49:07.036Z"
   },
   {
    "duration": 21,
    "start_time": "2022-11-29T15:49:07.045Z"
   },
   {
    "duration": 52,
    "start_time": "2022-11-29T15:49:07.067Z"
   },
   {
    "duration": 9,
    "start_time": "2022-11-29T15:49:07.120Z"
   },
   {
    "duration": 307,
    "start_time": "2022-11-29T15:49:07.131Z"
   },
   {
    "duration": 75,
    "start_time": "2022-11-29T15:49:07.440Z"
   },
   {
    "duration": 13,
    "start_time": "2022-11-29T15:49:07.517Z"
   },
   {
    "duration": 34,
    "start_time": "2022-11-29T15:49:07.534Z"
   },
   {
    "duration": 37,
    "start_time": "2022-11-29T15:49:07.570Z"
   },
   {
    "duration": 34,
    "start_time": "2022-11-29T15:49:07.608Z"
   },
   {
    "duration": 10,
    "start_time": "2022-11-29T15:49:07.643Z"
   },
   {
    "duration": 29,
    "start_time": "2022-11-29T15:49:07.654Z"
   },
   {
    "duration": 609,
    "start_time": "2022-11-29T15:49:07.684Z"
   },
   {
    "duration": 61,
    "start_time": "2022-11-29T15:49:08.295Z"
   },
   {
    "duration": 30,
    "start_time": "2022-11-29T15:49:08.358Z"
   },
   {
    "duration": 524,
    "start_time": "2022-11-29T15:49:08.389Z"
   },
   {
    "duration": 17,
    "start_time": "2022-11-29T15:49:08.915Z"
   },
   {
    "duration": 6,
    "start_time": "2022-11-29T15:49:08.933Z"
   },
   {
    "duration": 5,
    "start_time": "2022-11-29T15:49:08.941Z"
   },
   {
    "duration": 41,
    "start_time": "2022-11-29T15:49:08.947Z"
   },
   {
    "duration": 11,
    "start_time": "2022-11-29T15:49:08.989Z"
   },
   {
    "duration": 41,
    "start_time": "2022-11-29T15:49:09.002Z"
   },
   {
    "duration": 7,
    "start_time": "2022-11-29T15:49:09.044Z"
   },
   {
    "duration": 42,
    "start_time": "2022-11-29T15:49:09.053Z"
   },
   {
    "duration": 3,
    "start_time": "2022-11-29T15:49:09.096Z"
   },
   {
    "duration": 8,
    "start_time": "2022-11-29T15:49:09.101Z"
   },
   {
    "duration": 9,
    "start_time": "2022-11-29T15:49:09.111Z"
   },
   {
    "duration": 6,
    "start_time": "2022-11-29T15:49:09.121Z"
   },
   {
    "duration": 20,
    "start_time": "2022-11-29T15:49:09.129Z"
   },
   {
    "duration": 291,
    "start_time": "2022-11-29T15:49:09.150Z"
   },
   {
    "duration": 7,
    "start_time": "2022-11-29T15:49:09.442Z"
   },
   {
    "duration": 31,
    "start_time": "2022-11-29T15:49:09.450Z"
   },
   {
    "duration": 517,
    "start_time": "2022-11-29T15:49:09.483Z"
   },
   {
    "duration": 242,
    "start_time": "2022-11-29T15:49:10.001Z"
   },
   {
    "duration": 558,
    "start_time": "2022-11-29T15:49:49.372Z"
   },
   {
    "duration": 2017,
    "start_time": "2022-11-29T15:49:49.932Z"
   },
   {
    "duration": 10,
    "start_time": "2022-11-29T15:49:51.951Z"
   },
   {
    "duration": 6,
    "start_time": "2022-11-29T15:49:51.963Z"
   },
   {
    "duration": 38,
    "start_time": "2022-11-29T15:49:51.970Z"
   },
   {
    "duration": 6,
    "start_time": "2022-11-29T15:49:52.010Z"
   },
   {
    "duration": 6,
    "start_time": "2022-11-29T15:49:52.017Z"
   },
   {
    "duration": 12,
    "start_time": "2022-11-29T15:49:52.024Z"
   },
   {
    "duration": 4,
    "start_time": "2022-11-29T15:49:52.037Z"
   },
   {
    "duration": 7,
    "start_time": "2022-11-29T15:49:52.043Z"
   },
   {
    "duration": 11,
    "start_time": "2022-11-29T15:49:52.078Z"
   },
   {
    "duration": 5,
    "start_time": "2022-11-29T15:49:52.091Z"
   },
   {
    "duration": 10,
    "start_time": "2022-11-29T15:49:52.098Z"
   },
   {
    "duration": 15,
    "start_time": "2022-11-29T15:49:52.110Z"
   },
   {
    "duration": 26,
    "start_time": "2022-11-29T15:49:52.126Z"
   },
   {
    "duration": 29,
    "start_time": "2022-11-29T15:49:52.153Z"
   },
   {
    "duration": 9,
    "start_time": "2022-11-29T15:49:52.184Z"
   },
   {
    "duration": 35,
    "start_time": "2022-11-29T15:49:52.194Z"
   },
   {
    "duration": 7,
    "start_time": "2022-11-29T15:49:52.231Z"
   },
   {
    "duration": 55,
    "start_time": "2022-11-29T15:49:52.240Z"
   },
   {
    "duration": 5,
    "start_time": "2022-11-29T15:49:52.296Z"
   },
   {
    "duration": 7,
    "start_time": "2022-11-29T15:49:52.302Z"
   },
   {
    "duration": 18,
    "start_time": "2022-11-29T15:49:52.310Z"
   },
   {
    "duration": 8,
    "start_time": "2022-11-29T15:49:52.329Z"
   },
   {
    "duration": 309,
    "start_time": "2022-11-29T15:49:52.338Z"
   },
   {
    "duration": 70,
    "start_time": "2022-11-29T15:49:52.648Z"
   },
   {
    "duration": 14,
    "start_time": "2022-11-29T15:49:52.719Z"
   },
   {
    "duration": 17,
    "start_time": "2022-11-29T15:49:52.736Z"
   },
   {
    "duration": 56,
    "start_time": "2022-11-29T15:49:52.755Z"
   },
   {
    "duration": 34,
    "start_time": "2022-11-29T15:49:52.812Z"
   },
   {
    "duration": 8,
    "start_time": "2022-11-29T15:49:52.848Z"
   },
   {
    "duration": 11,
    "start_time": "2022-11-29T15:49:52.877Z"
   },
   {
    "duration": 583,
    "start_time": "2022-11-29T15:49:52.889Z"
   },
   {
    "duration": 63,
    "start_time": "2022-11-29T15:49:53.474Z"
   },
   {
    "duration": 17,
    "start_time": "2022-11-29T15:49:53.538Z"
   },
   {
    "duration": 559,
    "start_time": "2022-11-29T15:49:53.557Z"
   },
   {
    "duration": 22,
    "start_time": "2022-11-29T15:49:54.118Z"
   },
   {
    "duration": 8,
    "start_time": "2022-11-29T15:49:54.142Z"
   },
   {
    "duration": 28,
    "start_time": "2022-11-29T15:49:54.152Z"
   },
   {
    "duration": 26,
    "start_time": "2022-11-29T15:49:54.181Z"
   },
   {
    "duration": 11,
    "start_time": "2022-11-29T15:49:54.208Z"
   },
   {
    "duration": 40,
    "start_time": "2022-11-29T15:49:54.220Z"
   },
   {
    "duration": 17,
    "start_time": "2022-11-29T15:49:54.261Z"
   },
   {
    "duration": 26,
    "start_time": "2022-11-29T15:49:54.280Z"
   },
   {
    "duration": 5,
    "start_time": "2022-11-29T15:49:54.308Z"
   },
   {
    "duration": 8,
    "start_time": "2022-11-29T15:49:54.315Z"
   },
   {
    "duration": 12,
    "start_time": "2022-11-29T15:49:54.324Z"
   },
   {
    "duration": 8,
    "start_time": "2022-11-29T15:49:54.337Z"
   },
   {
    "duration": 8,
    "start_time": "2022-11-29T15:49:54.346Z"
   },
   {
    "duration": 283,
    "start_time": "2022-11-29T15:49:54.356Z"
   },
   {
    "duration": 6,
    "start_time": "2022-11-29T15:49:54.641Z"
   },
   {
    "duration": 30,
    "start_time": "2022-11-29T15:49:54.648Z"
   },
   {
    "duration": 515,
    "start_time": "2022-11-29T15:49:54.680Z"
   },
   {
    "duration": 238,
    "start_time": "2022-11-29T15:49:55.196Z"
   },
   {
    "duration": 10,
    "start_time": "2022-11-29T15:51:32.868Z"
   },
   {
    "duration": 4,
    "start_time": "2022-11-29T15:52:33.350Z"
   },
   {
    "duration": 6,
    "start_time": "2022-11-29T15:52:46.825Z"
   },
   {
    "duration": 5,
    "start_time": "2022-11-29T15:53:25.216Z"
   },
   {
    "duration": 3,
    "start_time": "2022-11-29T15:53:41.485Z"
   },
   {
    "duration": 78,
    "start_time": "2022-11-29T15:54:19.123Z"
   },
   {
    "duration": 175,
    "start_time": "2022-11-29T15:54:25.942Z"
   },
   {
    "duration": 151,
    "start_time": "2022-11-29T15:54:53.543Z"
   },
   {
    "duration": 153,
    "start_time": "2022-11-29T15:55:03.630Z"
   },
   {
    "duration": 147,
    "start_time": "2022-11-29T15:55:09.198Z"
   },
   {
    "duration": 176,
    "start_time": "2022-11-29T15:55:26.873Z"
   },
   {
    "duration": 43,
    "start_time": "2022-11-30T12:54:47.144Z"
   },
   {
    "duration": 6,
    "start_time": "2022-11-30T12:54:52.094Z"
   },
   {
    "duration": 677,
    "start_time": "2022-11-30T12:55:00.594Z"
   },
   {
    "duration": 2319,
    "start_time": "2022-11-30T12:55:01.274Z"
   },
   {
    "duration": 11,
    "start_time": "2022-11-30T12:55:03.595Z"
   },
   {
    "duration": 25,
    "start_time": "2022-11-30T12:55:03.607Z"
   },
   {
    "duration": 40,
    "start_time": "2022-11-30T12:55:03.634Z"
   },
   {
    "duration": 7,
    "start_time": "2022-11-30T12:55:03.675Z"
   },
   {
    "duration": 9,
    "start_time": "2022-11-30T12:55:03.684Z"
   },
   {
    "duration": 18,
    "start_time": "2022-11-30T12:55:03.694Z"
   },
   {
    "duration": 5,
    "start_time": "2022-11-30T12:55:03.713Z"
   },
   {
    "duration": 14,
    "start_time": "2022-11-30T12:55:03.720Z"
   },
   {
    "duration": 39,
    "start_time": "2022-11-30T12:55:03.736Z"
   },
   {
    "duration": 8,
    "start_time": "2022-11-30T12:55:03.777Z"
   },
   {
    "duration": 35,
    "start_time": "2022-11-30T12:55:03.786Z"
   },
   {
    "duration": 16,
    "start_time": "2022-11-30T12:55:03.822Z"
   },
   {
    "duration": 42,
    "start_time": "2022-11-30T12:55:03.840Z"
   },
   {
    "duration": 10,
    "start_time": "2022-11-30T12:55:03.884Z"
   },
   {
    "duration": 28,
    "start_time": "2022-11-30T12:55:03.896Z"
   },
   {
    "duration": 56,
    "start_time": "2022-11-30T12:55:03.925Z"
   },
   {
    "duration": 9,
    "start_time": "2022-11-30T12:55:03.982Z"
   },
   {
    "duration": 53,
    "start_time": "2022-11-30T12:55:03.992Z"
   },
   {
    "duration": 6,
    "start_time": "2022-11-30T12:55:04.046Z"
   },
   {
    "duration": 17,
    "start_time": "2022-11-30T12:55:04.053Z"
   },
   {
    "duration": 28,
    "start_time": "2022-11-30T12:55:04.072Z"
   },
   {
    "duration": 13,
    "start_time": "2022-11-30T12:55:04.102Z"
   },
   {
    "duration": 333,
    "start_time": "2022-11-30T12:55:04.117Z"
   },
   {
    "duration": 74,
    "start_time": "2022-11-30T12:55:04.451Z"
   },
   {
    "duration": 14,
    "start_time": "2022-11-30T12:55:04.527Z"
   },
   {
    "duration": 16,
    "start_time": "2022-11-30T12:55:04.545Z"
   },
   {
    "duration": 62,
    "start_time": "2022-11-30T12:55:04.562Z"
   },
   {
    "duration": 43,
    "start_time": "2022-11-30T12:55:04.626Z"
   },
   {
    "duration": 13,
    "start_time": "2022-11-30T12:55:04.671Z"
   },
   {
    "duration": 33,
    "start_time": "2022-11-30T12:55:04.685Z"
   },
   {
    "duration": 636,
    "start_time": "2022-11-30T12:55:04.720Z"
   },
   {
    "duration": 70,
    "start_time": "2022-11-30T12:55:05.358Z"
   },
   {
    "duration": 18,
    "start_time": "2022-11-30T12:55:05.429Z"
   },
   {
    "duration": 555,
    "start_time": "2022-11-30T12:55:05.449Z"
   },
   {
    "duration": 24,
    "start_time": "2022-11-30T12:55:06.006Z"
   },
   {
    "duration": 6,
    "start_time": "2022-11-30T12:55:06.032Z"
   },
   {
    "duration": 17,
    "start_time": "2022-11-30T12:55:06.040Z"
   },
   {
    "duration": 26,
    "start_time": "2022-11-30T12:55:06.058Z"
   },
   {
    "duration": 10,
    "start_time": "2022-11-30T12:55:06.086Z"
   },
   {
    "duration": 38,
    "start_time": "2022-11-30T12:55:06.113Z"
   },
   {
    "duration": 8,
    "start_time": "2022-11-30T12:55:06.152Z"
   },
   {
    "duration": 28,
    "start_time": "2022-11-30T12:55:06.161Z"
   },
   {
    "duration": 22,
    "start_time": "2022-11-30T12:55:06.191Z"
   },
   {
    "duration": 10,
    "start_time": "2022-11-30T12:55:06.215Z"
   },
   {
    "duration": 16,
    "start_time": "2022-11-30T12:55:06.226Z"
   },
   {
    "duration": 8,
    "start_time": "2022-11-30T12:55:06.244Z"
   },
   {
    "duration": 8,
    "start_time": "2022-11-30T12:55:06.253Z"
   },
   {
    "duration": 311,
    "start_time": "2022-11-30T12:55:06.262Z"
   },
   {
    "duration": 7,
    "start_time": "2022-11-30T12:55:06.574Z"
   },
   {
    "duration": 32,
    "start_time": "2022-11-30T12:55:06.582Z"
   },
   {
    "duration": 564,
    "start_time": "2022-11-30T12:55:06.616Z"
   },
   {
    "duration": 275,
    "start_time": "2022-11-30T12:55:07.182Z"
   },
   {
    "duration": 8,
    "start_time": "2022-11-30T12:55:07.460Z"
   },
   {
    "duration": 40,
    "start_time": "2022-11-30T12:57:59.470Z"
   },
   {
    "duration": 82,
    "start_time": "2022-11-30T12:58:52.284Z"
   },
   {
    "duration": 37,
    "start_time": "2022-11-30T12:59:31.294Z"
   },
   {
    "duration": 12,
    "start_time": "2022-11-30T13:01:04.783Z"
   },
   {
    "duration": 12,
    "start_time": "2022-11-30T13:01:26.777Z"
   },
   {
    "duration": 23,
    "start_time": "2022-11-30T13:01:45.814Z"
   },
   {
    "duration": 13,
    "start_time": "2022-11-30T13:01:55.377Z"
   },
   {
    "duration": 5,
    "start_time": "2022-11-30T13:03:01.031Z"
   },
   {
    "duration": 169,
    "start_time": "2022-11-30T13:04:04.331Z"
   },
   {
    "duration": 19,
    "start_time": "2022-11-30T13:07:45.296Z"
   },
   {
    "duration": 9,
    "start_time": "2022-11-30T13:08:24.672Z"
   },
   {
    "duration": 159,
    "start_time": "2022-11-30T13:09:48.179Z"
   },
   {
    "duration": 176,
    "start_time": "2022-11-30T13:10:38.505Z"
   },
   {
    "duration": 160,
    "start_time": "2022-11-30T13:15:49.917Z"
   },
   {
    "duration": 297,
    "start_time": "2022-11-30T13:17:09.765Z"
   },
   {
    "duration": 490,
    "start_time": "2022-11-30T13:21:16.957Z"
   },
   {
    "duration": 550,
    "start_time": "2022-11-30T13:21:32.765Z"
   },
   {
    "duration": 501,
    "start_time": "2022-11-30T13:22:38.172Z"
   },
   {
    "duration": 20,
    "start_time": "2022-11-30T13:28:52.102Z"
   },
   {
    "duration": 7,
    "start_time": "2022-11-30T13:29:26.684Z"
   },
   {
    "duration": 477,
    "start_time": "2022-11-30T13:32:15.553Z"
   },
   {
    "duration": 7,
    "start_time": "2022-11-30T13:37:29.297Z"
   },
   {
    "duration": 318,
    "start_time": "2022-11-30T13:44:03.049Z"
   },
   {
    "duration": 431,
    "start_time": "2022-11-30T13:45:27.459Z"
   },
   {
    "duration": 2,
    "start_time": "2022-11-30T13:55:39.748Z"
   },
   {
    "duration": 156,
    "start_time": "2022-11-30T13:57:04.246Z"
   },
   {
    "duration": 168,
    "start_time": "2022-11-30T13:57:16.796Z"
   },
   {
    "duration": 1189,
    "start_time": "2022-11-30T16:53:06.897Z"
   },
   {
    "duration": 1094,
    "start_time": "2022-11-30T16:54:04.551Z"
   },
   {
    "duration": 1066,
    "start_time": "2022-11-30T16:54:17.430Z"
   },
   {
    "duration": 170,
    "start_time": "2022-11-30T16:55:28.608Z"
   },
   {
    "duration": 286,
    "start_time": "2022-11-30T16:56:06.546Z"
   },
   {
    "duration": 71,
    "start_time": "2022-11-30T16:56:29.500Z"
   },
   {
    "duration": 186,
    "start_time": "2022-11-30T16:56:52.592Z"
   },
   {
    "duration": 65,
    "start_time": "2022-11-30T16:57:12.040Z"
   },
   {
    "duration": 184,
    "start_time": "2022-11-30T16:57:34.191Z"
   },
   {
    "duration": 367,
    "start_time": "2022-11-30T16:58:33.038Z"
   },
   {
    "duration": 496,
    "start_time": "2022-11-30T16:58:41.106Z"
   },
   {
    "duration": 158,
    "start_time": "2022-11-30T16:59:45.467Z"
   },
   {
    "duration": 166,
    "start_time": "2022-11-30T17:00:19.806Z"
   },
   {
    "duration": 171,
    "start_time": "2022-11-30T17:03:09.996Z"
   },
   {
    "duration": 170,
    "start_time": "2022-11-30T17:03:47.113Z"
   },
   {
    "duration": 62,
    "start_time": "2022-11-30T17:05:31.822Z"
   },
   {
    "duration": 497,
    "start_time": "2022-11-30T17:43:28.360Z"
   },
   {
    "duration": 167,
    "start_time": "2022-11-30T17:45:03.618Z"
   },
   {
    "duration": 182,
    "start_time": "2022-11-30T17:50:55.074Z"
   },
   {
    "duration": 259,
    "start_time": "2022-11-30T18:04:39.356Z"
   },
   {
    "duration": 170,
    "start_time": "2022-11-30T18:05:58.080Z"
   },
   {
    "duration": 16,
    "start_time": "2022-11-30T18:09:12.005Z"
   },
   {
    "duration": 15,
    "start_time": "2022-11-30T18:09:26.652Z"
   },
   {
    "duration": 14,
    "start_time": "2022-11-30T18:10:09.913Z"
   },
   {
    "duration": 16,
    "start_time": "2022-11-30T18:10:21.911Z"
   },
   {
    "duration": 14,
    "start_time": "2022-11-30T18:18:02.359Z"
   },
   {
    "duration": 153,
    "start_time": "2022-11-30T19:00:10.662Z"
   },
   {
    "duration": 75,
    "start_time": "2022-11-30T19:01:17.276Z"
   },
   {
    "duration": 154,
    "start_time": "2022-11-30T19:02:49.934Z"
   },
   {
    "duration": 172,
    "start_time": "2022-11-30T19:04:37.817Z"
   },
   {
    "duration": 177,
    "start_time": "2022-11-30T19:05:51.621Z"
   },
   {
    "duration": 179,
    "start_time": "2022-11-30T19:07:10.939Z"
   },
   {
    "duration": 78,
    "start_time": "2022-11-30T19:09:30.176Z"
   },
   {
    "duration": 9,
    "start_time": "2022-11-30T19:24:31.417Z"
   },
   {
    "duration": 5,
    "start_time": "2022-11-30T19:24:58.385Z"
   },
   {
    "duration": 10,
    "start_time": "2022-11-30T19:25:16.194Z"
   },
   {
    "duration": 8,
    "start_time": "2022-11-30T19:26:48.934Z"
   },
   {
    "duration": 8,
    "start_time": "2022-11-30T19:27:31.308Z"
   },
   {
    "duration": 81,
    "start_time": "2022-11-30T19:28:38.161Z"
   },
   {
    "duration": 14,
    "start_time": "2022-11-30T19:32:47.338Z"
   },
   {
    "duration": 15,
    "start_time": "2022-11-30T19:33:15.205Z"
   },
   {
    "duration": 14,
    "start_time": "2022-11-30T19:41:27.876Z"
   },
   {
    "duration": 15,
    "start_time": "2022-11-30T19:42:03.774Z"
   },
   {
    "duration": 11,
    "start_time": "2022-11-30T19:42:38.194Z"
   },
   {
    "duration": 12,
    "start_time": "2022-11-30T19:42:54.977Z"
   },
   {
    "duration": 15,
    "start_time": "2022-11-30T19:43:07.838Z"
   },
   {
    "duration": 15,
    "start_time": "2022-11-30T19:43:20.061Z"
   },
   {
    "duration": 16,
    "start_time": "2022-11-30T19:43:31.897Z"
   },
   {
    "duration": 12,
    "start_time": "2022-11-30T19:44:35.488Z"
   },
   {
    "duration": 112,
    "start_time": "2022-11-30T19:44:52.179Z"
   },
   {
    "duration": 15,
    "start_time": "2022-11-30T19:45:10.582Z"
   },
   {
    "duration": 15,
    "start_time": "2022-11-30T19:45:52.924Z"
   },
   {
    "duration": 15,
    "start_time": "2022-11-30T19:46:08.578Z"
   },
   {
    "duration": 4,
    "start_time": "2022-11-30T19:47:49.929Z"
   },
   {
    "duration": 11,
    "start_time": "2022-11-30T19:47:55.685Z"
   },
   {
    "duration": 589,
    "start_time": "2022-11-30T19:48:27.244Z"
   },
   {
    "duration": 2190,
    "start_time": "2022-11-30T19:48:27.835Z"
   },
   {
    "duration": 10,
    "start_time": "2022-11-30T19:48:30.027Z"
   },
   {
    "duration": 5,
    "start_time": "2022-11-30T19:48:30.040Z"
   },
   {
    "duration": 56,
    "start_time": "2022-11-30T19:48:30.047Z"
   },
   {
    "duration": 9,
    "start_time": "2022-11-30T19:48:30.105Z"
   },
   {
    "duration": 16,
    "start_time": "2022-11-30T19:48:30.115Z"
   },
   {
    "duration": 17,
    "start_time": "2022-11-30T19:48:30.133Z"
   },
   {
    "duration": 14,
    "start_time": "2022-11-30T19:48:30.151Z"
   },
   {
    "duration": 9,
    "start_time": "2022-11-30T19:48:30.168Z"
   },
   {
    "duration": 22,
    "start_time": "2022-11-30T19:48:30.180Z"
   },
   {
    "duration": 12,
    "start_time": "2022-11-30T19:48:30.205Z"
   },
   {
    "duration": 38,
    "start_time": "2022-11-30T19:48:30.219Z"
   },
   {
    "duration": 32,
    "start_time": "2022-11-30T19:48:30.259Z"
   },
   {
    "duration": 57,
    "start_time": "2022-11-30T19:48:30.294Z"
   },
   {
    "duration": 13,
    "start_time": "2022-11-30T19:48:30.353Z"
   },
   {
    "duration": 18,
    "start_time": "2022-11-30T19:48:30.369Z"
   },
   {
    "duration": 68,
    "start_time": "2022-11-30T19:48:30.389Z"
   },
   {
    "duration": 13,
    "start_time": "2022-11-30T19:48:30.459Z"
   },
   {
    "duration": 52,
    "start_time": "2022-11-30T19:48:30.473Z"
   },
   {
    "duration": 6,
    "start_time": "2022-11-30T19:48:30.527Z"
   },
   {
    "duration": 23,
    "start_time": "2022-11-30T19:48:30.534Z"
   },
   {
    "duration": 23,
    "start_time": "2022-11-30T19:48:30.559Z"
   },
   {
    "duration": 17,
    "start_time": "2022-11-30T19:48:30.583Z"
   },
   {
    "duration": 329,
    "start_time": "2022-11-30T19:48:30.602Z"
   },
   {
    "duration": 89,
    "start_time": "2022-11-30T19:48:30.932Z"
   },
   {
    "duration": 16,
    "start_time": "2022-11-30T19:48:31.023Z"
   },
   {
    "duration": 23,
    "start_time": "2022-11-30T19:48:31.045Z"
   },
   {
    "duration": 58,
    "start_time": "2022-11-30T19:48:31.070Z"
   },
   {
    "duration": 35,
    "start_time": "2022-11-30T19:48:31.129Z"
   },
   {
    "duration": 9,
    "start_time": "2022-11-30T19:48:31.166Z"
   },
   {
    "duration": 15,
    "start_time": "2022-11-30T19:48:31.176Z"
   },
   {
    "duration": 685,
    "start_time": "2022-11-30T19:48:31.193Z"
   },
   {
    "duration": 69,
    "start_time": "2022-11-30T19:48:31.880Z"
   },
   {
    "duration": 18,
    "start_time": "2022-11-30T19:48:31.951Z"
   },
   {
    "duration": 568,
    "start_time": "2022-11-30T19:48:31.970Z"
   },
   {
    "duration": 18,
    "start_time": "2022-11-30T19:48:32.540Z"
   },
   {
    "duration": 7,
    "start_time": "2022-11-30T19:48:32.560Z"
   },
   {
    "duration": 6,
    "start_time": "2022-11-30T19:48:32.569Z"
   },
   {
    "duration": 43,
    "start_time": "2022-11-30T19:48:32.577Z"
   },
   {
    "duration": 12,
    "start_time": "2022-11-30T19:48:32.622Z"
   },
   {
    "duration": 41,
    "start_time": "2022-11-30T19:48:32.636Z"
   },
   {
    "duration": 7,
    "start_time": "2022-11-30T19:48:32.679Z"
   },
   {
    "duration": 44,
    "start_time": "2022-11-30T19:48:32.688Z"
   },
   {
    "duration": 9,
    "start_time": "2022-11-30T19:48:32.733Z"
   },
   {
    "duration": 11,
    "start_time": "2022-11-30T19:48:32.744Z"
   },
   {
    "duration": 8,
    "start_time": "2022-11-30T19:48:32.757Z"
   },
   {
    "duration": 7,
    "start_time": "2022-11-30T19:48:32.767Z"
   },
   {
    "duration": 37,
    "start_time": "2022-11-30T19:48:32.776Z"
   },
   {
    "duration": 311,
    "start_time": "2022-11-30T19:48:32.815Z"
   },
   {
    "duration": 8,
    "start_time": "2022-11-30T19:48:33.127Z"
   },
   {
    "duration": 25,
    "start_time": "2022-11-30T19:48:33.137Z"
   },
   {
    "duration": 560,
    "start_time": "2022-11-30T19:48:33.164Z"
   },
   {
    "duration": 275,
    "start_time": "2022-11-30T19:48:33.726Z"
   },
   {
    "duration": 14,
    "start_time": "2022-11-30T19:48:34.003Z"
   },
   {
    "duration": 14,
    "start_time": "2022-11-30T19:48:34.019Z"
   },
   {
    "duration": 189,
    "start_time": "2022-11-30T19:48:34.035Z"
   },
   {
    "duration": 9,
    "start_time": "2022-11-30T19:48:34.226Z"
   },
   {
    "duration": 182,
    "start_time": "2022-11-30T19:48:34.236Z"
   },
   {
    "duration": 553,
    "start_time": "2022-11-30T19:48:34.420Z"
   },
   {
    "duration": 9,
    "start_time": "2022-11-30T19:48:34.975Z"
   },
   {
    "duration": 566,
    "start_time": "2022-11-30T19:48:34.986Z"
   },
   {
    "duration": 6,
    "start_time": "2022-11-30T19:48:35.554Z"
   },
   {
    "duration": 370,
    "start_time": "2022-11-30T19:48:35.563Z"
   },
   {
    "duration": 261,
    "start_time": "2022-11-30T19:48:35.934Z"
   },
   {
    "duration": 183,
    "start_time": "2022-11-30T19:48:36.197Z"
   },
   {
    "duration": 193,
    "start_time": "2022-11-30T19:48:36.381Z"
   },
   {
    "duration": 199,
    "start_time": "2022-11-30T19:48:36.575Z"
   },
   {
    "duration": 201,
    "start_time": "2022-11-30T19:48:36.776Z"
   },
   {
    "duration": 177,
    "start_time": "2022-11-30T19:48:36.979Z"
   },
   {
    "duration": 12,
    "start_time": "2022-11-30T19:48:37.158Z"
   },
   {
    "duration": 192,
    "start_time": "2022-11-30T19:48:37.172Z"
   },
   {
    "duration": 201,
    "start_time": "2022-11-30T19:48:37.366Z"
   },
   {
    "duration": 194,
    "start_time": "2022-11-30T19:48:37.569Z"
   },
   {
    "duration": 101,
    "start_time": "2022-11-30T19:48:37.765Z"
   },
   {
    "duration": 80,
    "start_time": "2022-11-30T19:48:37.868Z"
   },
   {
    "duration": 0,
    "start_time": "2022-11-30T19:48:37.950Z"
   },
   {
    "duration": 27,
    "start_time": "2022-11-30T19:50:41.179Z"
   },
   {
    "duration": 23,
    "start_time": "2022-11-30T19:53:32.248Z"
   },
   {
    "duration": 26,
    "start_time": "2022-11-30T19:53:41.995Z"
   },
   {
    "duration": 25,
    "start_time": "2022-11-30T19:54:25.875Z"
   },
   {
    "duration": 39,
    "start_time": "2022-11-30T19:55:21.376Z"
   },
   {
    "duration": 29,
    "start_time": "2022-11-30T19:55:48.114Z"
   },
   {
    "duration": 29,
    "start_time": "2022-11-30T19:56:33.511Z"
   },
   {
    "duration": 29,
    "start_time": "2022-11-30T19:56:47.850Z"
   },
   {
    "duration": 30,
    "start_time": "2022-11-30T19:57:18.246Z"
   },
   {
    "duration": 28,
    "start_time": "2022-11-30T19:59:38.454Z"
   },
   {
    "duration": 41,
    "start_time": "2022-11-30T19:59:51.717Z"
   },
   {
    "duration": 28,
    "start_time": "2022-11-30T20:03:38.859Z"
   },
   {
    "duration": 29,
    "start_time": "2022-11-30T20:04:46.245Z"
   },
   {
    "duration": 36,
    "start_time": "2022-11-30T20:07:31.647Z"
   },
   {
    "duration": 20,
    "start_time": "2022-11-30T20:08:07.559Z"
   },
   {
    "duration": 15,
    "start_time": "2022-11-30T20:08:24.020Z"
   },
   {
    "duration": 30,
    "start_time": "2022-11-30T20:16:58.771Z"
   },
   {
    "duration": 75,
    "start_time": "2022-11-30T20:18:59.566Z"
   },
   {
    "duration": 71,
    "start_time": "2022-11-30T20:19:29.714Z"
   },
   {
    "duration": 30,
    "start_time": "2022-11-30T20:19:52.700Z"
   },
   {
    "duration": 28,
    "start_time": "2022-11-30T20:20:14.870Z"
   },
   {
    "duration": 81,
    "start_time": "2022-11-30T20:20:32.343Z"
   },
   {
    "duration": 98,
    "start_time": "2022-11-30T20:20:53.620Z"
   },
   {
    "duration": 10,
    "start_time": "2022-11-30T20:21:13.901Z"
   },
   {
    "duration": 9,
    "start_time": "2022-11-30T20:21:50.842Z"
   },
   {
    "duration": 10,
    "start_time": "2022-11-30T20:22:05.079Z"
   },
   {
    "duration": 11,
    "start_time": "2022-11-30T20:22:44.011Z"
   },
   {
    "duration": 10,
    "start_time": "2022-11-30T20:23:47.093Z"
   },
   {
    "duration": 11,
    "start_time": "2022-11-30T20:24:58.972Z"
   },
   {
    "duration": 11,
    "start_time": "2022-11-30T20:25:19.364Z"
   },
   {
    "duration": 15,
    "start_time": "2022-11-30T20:33:41.614Z"
   },
   {
    "duration": 32,
    "start_time": "2022-11-30T20:33:51.223Z"
   },
   {
    "duration": 7,
    "start_time": "2022-11-30T20:38:12.621Z"
   },
   {
    "duration": 8,
    "start_time": "2022-11-30T20:38:18.944Z"
   },
   {
    "duration": 24,
    "start_time": "2022-11-30T20:44:40.321Z"
   },
   {
    "duration": 30,
    "start_time": "2022-11-30T20:45:49.972Z"
   },
   {
    "duration": 17,
    "start_time": "2022-11-30T20:46:12.435Z"
   },
   {
    "duration": 47,
    "start_time": "2022-11-30T20:46:36.513Z"
   },
   {
    "duration": 10,
    "start_time": "2022-11-30T20:49:32.813Z"
   },
   {
    "duration": 12,
    "start_time": "2022-11-30T20:51:55.482Z"
   },
   {
    "duration": 257,
    "start_time": "2022-11-30T20:52:52.546Z"
   },
   {
    "duration": 13,
    "start_time": "2022-11-30T20:53:34.524Z"
   },
   {
    "duration": 26,
    "start_time": "2022-11-30T20:53:59.125Z"
   },
   {
    "duration": 18,
    "start_time": "2022-11-30T20:54:28.340Z"
   },
   {
    "duration": 11,
    "start_time": "2022-11-30T20:55:10.573Z"
   },
   {
    "duration": 19,
    "start_time": "2022-11-30T20:58:21.496Z"
   },
   {
    "duration": 17,
    "start_time": "2022-11-30T20:58:43.283Z"
   },
   {
    "duration": 26,
    "start_time": "2022-11-30T20:59:13.169Z"
   },
   {
    "duration": 130,
    "start_time": "2022-11-30T21:00:40.968Z"
   },
   {
    "duration": 22,
    "start_time": "2022-11-30T21:01:10.553Z"
   },
   {
    "duration": 18,
    "start_time": "2022-11-30T21:02:37.183Z"
   },
   {
    "duration": 75,
    "start_time": "2022-11-30T21:06:11.166Z"
   },
   {
    "duration": 1116,
    "start_time": "2022-11-30T21:07:07.260Z"
   },
   {
    "duration": 514,
    "start_time": "2022-11-30T21:07:58.348Z"
   },
   {
    "duration": 2161,
    "start_time": "2022-11-30T21:07:58.864Z"
   },
   {
    "duration": 10,
    "start_time": "2022-11-30T21:08:01.027Z"
   },
   {
    "duration": 27,
    "start_time": "2022-11-30T21:08:01.039Z"
   },
   {
    "duration": 48,
    "start_time": "2022-11-30T21:08:01.067Z"
   },
   {
    "duration": 7,
    "start_time": "2022-11-30T21:08:01.117Z"
   },
   {
    "duration": 11,
    "start_time": "2022-11-30T21:08:01.126Z"
   },
   {
    "duration": 15,
    "start_time": "2022-11-30T21:08:01.138Z"
   },
   {
    "duration": 21,
    "start_time": "2022-11-30T21:08:01.155Z"
   },
   {
    "duration": 12,
    "start_time": "2022-11-30T21:08:01.179Z"
   },
   {
    "duration": 22,
    "start_time": "2022-11-30T21:08:01.192Z"
   },
   {
    "duration": 6,
    "start_time": "2022-11-30T21:08:01.216Z"
   },
   {
    "duration": 13,
    "start_time": "2022-11-30T21:08:01.224Z"
   },
   {
    "duration": 13,
    "start_time": "2022-11-30T21:08:01.239Z"
   },
   {
    "duration": 25,
    "start_time": "2022-11-30T21:08:01.254Z"
   },
   {
    "duration": 41,
    "start_time": "2022-11-30T21:08:01.281Z"
   },
   {
    "duration": 10,
    "start_time": "2022-11-30T21:08:01.324Z"
   },
   {
    "duration": 42,
    "start_time": "2022-11-30T21:08:01.335Z"
   },
   {
    "duration": 34,
    "start_time": "2022-11-30T21:08:01.379Z"
   },
   {
    "duration": 39,
    "start_time": "2022-11-30T21:08:01.415Z"
   },
   {
    "duration": 6,
    "start_time": "2022-11-30T21:08:01.455Z"
   },
   {
    "duration": 8,
    "start_time": "2022-11-30T21:08:01.463Z"
   },
   {
    "duration": 43,
    "start_time": "2022-11-30T21:08:01.472Z"
   },
   {
    "duration": 9,
    "start_time": "2022-11-30T21:08:01.517Z"
   },
   {
    "duration": 330,
    "start_time": "2022-11-30T21:08:01.528Z"
   },
   {
    "duration": 78,
    "start_time": "2022-11-30T21:08:01.860Z"
   },
   {
    "duration": 15,
    "start_time": "2022-11-30T21:08:01.940Z"
   },
   {
    "duration": 17,
    "start_time": "2022-11-30T21:08:01.959Z"
   },
   {
    "duration": 56,
    "start_time": "2022-11-30T21:08:01.978Z"
   },
   {
    "duration": 34,
    "start_time": "2022-11-30T21:08:02.036Z"
   },
   {
    "duration": 10,
    "start_time": "2022-11-30T21:08:02.071Z"
   },
   {
    "duration": 34,
    "start_time": "2022-11-30T21:08:02.082Z"
   },
   {
    "duration": 633,
    "start_time": "2022-11-30T21:08:02.117Z"
   },
   {
    "duration": 82,
    "start_time": "2022-11-30T21:08:02.752Z"
   },
   {
    "duration": 19,
    "start_time": "2022-11-30T21:08:02.836Z"
   },
   {
    "duration": 550,
    "start_time": "2022-11-30T21:08:02.857Z"
   },
   {
    "duration": 21,
    "start_time": "2022-11-30T21:08:03.412Z"
   },
   {
    "duration": 7,
    "start_time": "2022-11-30T21:08:03.434Z"
   },
   {
    "duration": 10,
    "start_time": "2022-11-30T21:08:03.443Z"
   },
   {
    "duration": 20,
    "start_time": "2022-11-30T21:08:03.454Z"
   },
   {
    "duration": 11,
    "start_time": "2022-11-30T21:08:03.476Z"
   },
   {
    "duration": 59,
    "start_time": "2022-11-30T21:08:03.489Z"
   },
   {
    "duration": 7,
    "start_time": "2022-11-30T21:08:03.550Z"
   },
   {
    "duration": 24,
    "start_time": "2022-11-30T21:08:03.559Z"
   },
   {
    "duration": 28,
    "start_time": "2022-11-30T21:08:03.585Z"
   },
   {
    "duration": 11,
    "start_time": "2022-11-30T21:08:03.615Z"
   },
   {
    "duration": 10,
    "start_time": "2022-11-30T21:08:03.628Z"
   },
   {
    "duration": 9,
    "start_time": "2022-11-30T21:08:03.639Z"
   },
   {
    "duration": 14,
    "start_time": "2022-11-30T21:08:03.650Z"
   },
   {
    "duration": 316,
    "start_time": "2022-11-30T21:08:03.665Z"
   },
   {
    "duration": 7,
    "start_time": "2022-11-30T21:08:03.982Z"
   },
   {
    "duration": 43,
    "start_time": "2022-11-30T21:08:03.991Z"
   },
   {
    "duration": 514,
    "start_time": "2022-11-30T21:08:04.036Z"
   },
   {
    "duration": 303,
    "start_time": "2022-11-30T21:08:04.551Z"
   },
   {
    "duration": 9,
    "start_time": "2022-11-30T21:08:04.855Z"
   },
   {
    "duration": 13,
    "start_time": "2022-11-30T21:08:04.866Z"
   },
   {
    "duration": 191,
    "start_time": "2022-11-30T21:08:04.881Z"
   },
   {
    "duration": 8,
    "start_time": "2022-11-30T21:08:05.074Z"
   },
   {
    "duration": 175,
    "start_time": "2022-11-30T21:08:05.083Z"
   },
   {
    "duration": 532,
    "start_time": "2022-11-30T21:08:05.260Z"
   },
   {
    "duration": 20,
    "start_time": "2022-11-30T21:08:05.793Z"
   },
   {
    "duration": 545,
    "start_time": "2022-11-30T21:08:05.814Z"
   },
   {
    "duration": 8,
    "start_time": "2022-11-30T21:08:06.361Z"
   },
   {
    "duration": 361,
    "start_time": "2022-11-30T21:08:06.371Z"
   },
   {
    "duration": 272,
    "start_time": "2022-11-30T21:08:06.733Z"
   },
   {
    "duration": 179,
    "start_time": "2022-11-30T21:08:07.012Z"
   },
   {
    "duration": 195,
    "start_time": "2022-11-30T21:08:07.193Z"
   },
   {
    "duration": 212,
    "start_time": "2022-11-30T21:08:07.390Z"
   },
   {
    "duration": 185,
    "start_time": "2022-11-30T21:08:07.603Z"
   },
   {
    "duration": 163,
    "start_time": "2022-11-30T21:08:07.790Z"
   },
   {
    "duration": 12,
    "start_time": "2022-11-30T21:08:07.955Z"
   },
   {
    "duration": 190,
    "start_time": "2022-11-30T21:08:07.969Z"
   },
   {
    "duration": 194,
    "start_time": "2022-11-30T21:08:08.161Z"
   },
   {
    "duration": 190,
    "start_time": "2022-11-30T21:08:08.358Z"
   },
   {
    "duration": 69,
    "start_time": "2022-11-30T21:08:08.550Z"
   },
   {
    "duration": 31,
    "start_time": "2022-11-30T21:08:08.621Z"
   },
   {
    "duration": 9,
    "start_time": "2022-11-30T21:08:08.654Z"
   },
   {
    "duration": 14,
    "start_time": "2022-11-30T21:08:08.665Z"
   },
   {
    "duration": 46,
    "start_time": "2022-11-30T21:08:08.681Z"
   },
   {
    "duration": 1292,
    "start_time": "2022-11-30T21:08:08.730Z"
   },
   {
    "duration": 3,
    "start_time": "2022-11-30T21:09:30.335Z"
   },
   {
    "duration": 123,
    "start_time": "2022-11-30T21:14:39.074Z"
   },
   {
    "duration": 1184,
    "start_time": "2022-11-30T21:15:02.571Z"
   },
   {
    "duration": 1194,
    "start_time": "2022-11-30T21:15:51.328Z"
   },
   {
    "duration": 1643,
    "start_time": "2022-11-30T21:16:30.825Z"
   },
   {
    "duration": 169,
    "start_time": "2022-11-30T21:17:34.907Z"
   },
   {
    "duration": 1209,
    "start_time": "2022-11-30T21:22:14.051Z"
   },
   {
    "duration": 129,
    "start_time": "2022-11-30T21:24:30.528Z"
   },
   {
    "duration": 216,
    "start_time": "2022-11-30T21:25:10.897Z"
   },
   {
    "duration": 11,
    "start_time": "2022-11-30T21:39:37.147Z"
   },
   {
    "duration": 10,
    "start_time": "2022-11-30T21:41:01.602Z"
   },
   {
    "duration": 529,
    "start_time": "2022-11-30T22:22:56.206Z"
   },
   {
    "duration": 2276,
    "start_time": "2022-11-30T22:22:56.737Z"
   },
   {
    "duration": 14,
    "start_time": "2022-11-30T22:22:59.016Z"
   },
   {
    "duration": 7,
    "start_time": "2022-11-30T22:22:59.053Z"
   },
   {
    "duration": 46,
    "start_time": "2022-11-30T22:22:59.062Z"
   },
   {
    "duration": 8,
    "start_time": "2022-11-30T22:22:59.110Z"
   },
   {
    "duration": 30,
    "start_time": "2022-11-30T22:22:59.120Z"
   },
   {
    "duration": 14,
    "start_time": "2022-11-30T22:22:59.152Z"
   },
   {
    "duration": 5,
    "start_time": "2022-11-30T22:22:59.167Z"
   },
   {
    "duration": 7,
    "start_time": "2022-11-30T22:22:59.175Z"
   },
   {
    "duration": 16,
    "start_time": "2022-11-30T22:22:59.184Z"
   },
   {
    "duration": 7,
    "start_time": "2022-11-30T22:22:59.202Z"
   },
   {
    "duration": 41,
    "start_time": "2022-11-30T22:22:59.211Z"
   },
   {
    "duration": 9,
    "start_time": "2022-11-30T22:22:59.254Z"
   },
   {
    "duration": 27,
    "start_time": "2022-11-30T22:22:59.265Z"
   },
   {
    "duration": 13,
    "start_time": "2022-11-30T22:22:59.294Z"
   },
   {
    "duration": 43,
    "start_time": "2022-11-30T22:22:59.309Z"
   },
   {
    "duration": 43,
    "start_time": "2022-11-30T22:22:59.353Z"
   },
   {
    "duration": 11,
    "start_time": "2022-11-30T22:22:59.397Z"
   },
   {
    "duration": 61,
    "start_time": "2022-11-30T22:22:59.410Z"
   },
   {
    "duration": 7,
    "start_time": "2022-11-30T22:22:59.474Z"
   },
   {
    "duration": 11,
    "start_time": "2022-11-30T22:22:59.482Z"
   },
   {
    "duration": 28,
    "start_time": "2022-11-30T22:22:59.499Z"
   },
   {
    "duration": 23,
    "start_time": "2022-11-30T22:22:59.529Z"
   },
   {
    "duration": 391,
    "start_time": "2022-11-30T22:22:59.554Z"
   },
   {
    "duration": 74,
    "start_time": "2022-11-30T22:22:59.950Z"
   },
   {
    "duration": 30,
    "start_time": "2022-11-30T22:23:00.026Z"
   },
   {
    "duration": 18,
    "start_time": "2022-11-30T22:23:00.061Z"
   },
   {
    "duration": 42,
    "start_time": "2022-11-30T22:23:00.081Z"
   },
   {
    "duration": 70,
    "start_time": "2022-11-30T22:23:00.125Z"
   },
   {
    "duration": 10,
    "start_time": "2022-11-30T22:23:00.197Z"
   },
   {
    "duration": 10,
    "start_time": "2022-11-30T22:23:00.209Z"
   },
   {
    "duration": 748,
    "start_time": "2022-11-30T22:23:00.221Z"
   },
   {
    "duration": 84,
    "start_time": "2022-11-30T22:23:00.971Z"
   },
   {
    "duration": 20,
    "start_time": "2022-11-30T22:23:01.057Z"
   },
   {
    "duration": 636,
    "start_time": "2022-11-30T22:23:01.079Z"
   },
   {
    "duration": 21,
    "start_time": "2022-11-30T22:23:01.716Z"
   },
   {
    "duration": 18,
    "start_time": "2022-11-30T22:23:01.739Z"
   },
   {
    "duration": 15,
    "start_time": "2022-11-30T22:23:01.759Z"
   },
   {
    "duration": 20,
    "start_time": "2022-11-30T22:23:01.776Z"
   },
   {
    "duration": 20,
    "start_time": "2022-11-30T22:23:01.798Z"
   },
   {
    "duration": 60,
    "start_time": "2022-11-30T22:23:01.820Z"
   },
   {
    "duration": 10,
    "start_time": "2022-11-30T22:23:01.882Z"
   },
   {
    "duration": 45,
    "start_time": "2022-11-30T22:23:01.893Z"
   },
   {
    "duration": 10,
    "start_time": "2022-11-30T22:23:01.940Z"
   },
   {
    "duration": 17,
    "start_time": "2022-11-30T22:23:01.952Z"
   },
   {
    "duration": 15,
    "start_time": "2022-11-30T22:23:01.971Z"
   },
   {
    "duration": 15,
    "start_time": "2022-11-30T22:23:01.987Z"
   },
   {
    "duration": 11,
    "start_time": "2022-11-30T22:23:02.004Z"
   },
   {
    "duration": 320,
    "start_time": "2022-11-30T22:23:02.017Z"
   },
   {
    "duration": 13,
    "start_time": "2022-11-30T22:23:02.339Z"
   },
   {
    "duration": 37,
    "start_time": "2022-11-30T22:23:02.354Z"
   },
   {
    "duration": 585,
    "start_time": "2022-11-30T22:23:02.393Z"
   },
   {
    "duration": 290,
    "start_time": "2022-11-30T22:23:02.980Z"
   },
   {
    "duration": 10,
    "start_time": "2022-11-30T22:23:03.273Z"
   },
   {
    "duration": 15,
    "start_time": "2022-11-30T22:23:03.285Z"
   },
   {
    "duration": 211,
    "start_time": "2022-11-30T22:23:03.302Z"
   },
   {
    "duration": 11,
    "start_time": "2022-11-30T22:23:03.515Z"
   },
   {
    "duration": 199,
    "start_time": "2022-11-30T22:23:03.528Z"
   },
   {
    "duration": 548,
    "start_time": "2022-11-30T22:23:03.729Z"
   },
   {
    "duration": 11,
    "start_time": "2022-11-30T22:23:04.279Z"
   },
   {
    "duration": 564,
    "start_time": "2022-11-30T22:23:04.291Z"
   },
   {
    "duration": 6,
    "start_time": "2022-11-30T22:23:04.857Z"
   },
   {
    "duration": 386,
    "start_time": "2022-11-30T22:23:04.865Z"
   },
   {
    "duration": 287,
    "start_time": "2022-11-30T22:23:05.253Z"
   },
   {
    "duration": 190,
    "start_time": "2022-11-30T22:23:05.541Z"
   },
   {
    "duration": 204,
    "start_time": "2022-11-30T22:23:05.733Z"
   },
   {
    "duration": 215,
    "start_time": "2022-11-30T22:23:05.939Z"
   },
   {
    "duration": 205,
    "start_time": "2022-11-30T22:23:06.156Z"
   },
   {
    "duration": 181,
    "start_time": "2022-11-30T22:23:06.363Z"
   },
   {
    "duration": 13,
    "start_time": "2022-11-30T22:23:06.551Z"
   },
   {
    "duration": 199,
    "start_time": "2022-11-30T22:23:06.565Z"
   },
   {
    "duration": 201,
    "start_time": "2022-11-30T22:23:06.766Z"
   },
   {
    "duration": 200,
    "start_time": "2022-11-30T22:23:06.968Z"
   },
   {
    "duration": 65,
    "start_time": "2022-11-30T22:23:07.169Z"
   },
   {
    "duration": 29,
    "start_time": "2022-11-30T22:23:07.251Z"
   },
   {
    "duration": 9,
    "start_time": "2022-11-30T22:23:07.282Z"
   },
   {
    "duration": 14,
    "start_time": "2022-11-30T22:23:07.293Z"
   },
   {
    "duration": 43,
    "start_time": "2022-11-30T22:23:07.309Z"
   },
   {
    "duration": 151,
    "start_time": "2022-11-30T22:23:07.354Z"
   },
   {
    "duration": 16,
    "start_time": "2022-11-30T22:26:31.424Z"
   },
   {
    "duration": 153,
    "start_time": "2022-11-30T22:28:45.057Z"
   },
   {
    "duration": 68,
    "start_time": "2022-12-01T08:06:27.893Z"
   },
   {
    "duration": 6,
    "start_time": "2022-12-01T08:06:38.396Z"
   },
   {
    "duration": 770,
    "start_time": "2022-12-01T08:06:52.136Z"
   },
   {
    "duration": 2474,
    "start_time": "2022-12-01T08:06:52.908Z"
   },
   {
    "duration": 11,
    "start_time": "2022-12-01T08:06:55.384Z"
   },
   {
    "duration": 20,
    "start_time": "2022-12-01T08:06:55.397Z"
   },
   {
    "duration": 42,
    "start_time": "2022-12-01T08:06:55.419Z"
   },
   {
    "duration": 7,
    "start_time": "2022-12-01T08:06:55.462Z"
   },
   {
    "duration": 8,
    "start_time": "2022-12-01T08:06:55.471Z"
   },
   {
    "duration": 26,
    "start_time": "2022-12-01T08:06:55.480Z"
   },
   {
    "duration": 5,
    "start_time": "2022-12-01T08:06:55.507Z"
   },
   {
    "duration": 7,
    "start_time": "2022-12-01T08:06:55.515Z"
   },
   {
    "duration": 12,
    "start_time": "2022-12-01T08:06:55.524Z"
   },
   {
    "duration": 6,
    "start_time": "2022-12-01T08:06:55.538Z"
   },
   {
    "duration": 11,
    "start_time": "2022-12-01T08:06:55.546Z"
   },
   {
    "duration": 42,
    "start_time": "2022-12-01T08:06:55.558Z"
   },
   {
    "duration": 28,
    "start_time": "2022-12-01T08:06:55.601Z"
   },
   {
    "duration": 10,
    "start_time": "2022-12-01T08:06:55.631Z"
   },
   {
    "duration": 10,
    "start_time": "2022-12-01T08:06:55.643Z"
   },
   {
    "duration": 69,
    "start_time": "2022-12-01T08:06:55.654Z"
   },
   {
    "duration": 10,
    "start_time": "2022-12-01T08:06:55.724Z"
   },
   {
    "duration": 42,
    "start_time": "2022-12-01T08:06:55.736Z"
   },
   {
    "duration": 20,
    "start_time": "2022-12-01T08:06:55.780Z"
   },
   {
    "duration": 8,
    "start_time": "2022-12-01T08:06:55.802Z"
   },
   {
    "duration": 25,
    "start_time": "2022-12-01T08:06:55.811Z"
   },
   {
    "duration": 9,
    "start_time": "2022-12-01T08:06:55.838Z"
   },
   {
    "duration": 404,
    "start_time": "2022-12-01T08:06:55.849Z"
   },
   {
    "duration": 99,
    "start_time": "2022-12-01T08:06:56.256Z"
   },
   {
    "duration": 20,
    "start_time": "2022-12-01T08:06:56.357Z"
   },
   {
    "duration": 22,
    "start_time": "2022-12-01T08:06:56.396Z"
   },
   {
    "duration": 57,
    "start_time": "2022-12-01T08:06:56.420Z"
   },
   {
    "duration": 42,
    "start_time": "2022-12-01T08:06:56.479Z"
   },
   {
    "duration": 10,
    "start_time": "2022-12-01T08:06:56.523Z"
   },
   {
    "duration": 30,
    "start_time": "2022-12-01T08:06:56.535Z"
   },
   {
    "duration": 694,
    "start_time": "2022-12-01T08:06:56.567Z"
   },
   {
    "duration": 76,
    "start_time": "2022-12-01T08:06:57.262Z"
   },
   {
    "duration": 20,
    "start_time": "2022-12-01T08:06:57.339Z"
   },
   {
    "duration": 606,
    "start_time": "2022-12-01T08:06:57.361Z"
   },
   {
    "duration": 29,
    "start_time": "2022-12-01T08:06:57.970Z"
   },
   {
    "duration": 8,
    "start_time": "2022-12-01T08:06:58.001Z"
   },
   {
    "duration": 34,
    "start_time": "2022-12-01T08:06:58.011Z"
   },
   {
    "duration": 28,
    "start_time": "2022-12-01T08:06:58.047Z"
   },
   {
    "duration": 33,
    "start_time": "2022-12-01T08:06:58.077Z"
   },
   {
    "duration": 69,
    "start_time": "2022-12-01T08:06:58.112Z"
   },
   {
    "duration": 7,
    "start_time": "2022-12-01T08:06:58.183Z"
   },
   {
    "duration": 42,
    "start_time": "2022-12-01T08:06:58.192Z"
   },
   {
    "duration": 22,
    "start_time": "2022-12-01T08:06:58.236Z"
   },
   {
    "duration": 35,
    "start_time": "2022-12-01T08:06:58.260Z"
   },
   {
    "duration": 27,
    "start_time": "2022-12-01T08:06:58.296Z"
   },
   {
    "duration": 10,
    "start_time": "2022-12-01T08:06:58.325Z"
   },
   {
    "duration": 18,
    "start_time": "2022-12-01T08:06:58.338Z"
   },
   {
    "duration": 339,
    "start_time": "2022-12-01T08:06:58.363Z"
   },
   {
    "duration": 8,
    "start_time": "2022-12-01T08:06:58.703Z"
   },
   {
    "duration": 24,
    "start_time": "2022-12-01T08:06:58.713Z"
   },
   {
    "duration": 575,
    "start_time": "2022-12-01T08:06:58.739Z"
   },
   {
    "duration": 288,
    "start_time": "2022-12-01T08:06:59.315Z"
   },
   {
    "duration": 8,
    "start_time": "2022-12-01T08:06:59.605Z"
   },
   {
    "duration": 43,
    "start_time": "2022-12-01T08:06:59.615Z"
   },
   {
    "duration": 206,
    "start_time": "2022-12-01T08:06:59.660Z"
   },
   {
    "duration": 9,
    "start_time": "2022-12-01T08:06:59.868Z"
   },
   {
    "duration": 200,
    "start_time": "2022-12-01T08:06:59.879Z"
   },
   {
    "duration": 563,
    "start_time": "2022-12-01T08:07:00.081Z"
   },
   {
    "duration": 9,
    "start_time": "2022-12-01T08:07:00.646Z"
   },
   {
    "duration": 584,
    "start_time": "2022-12-01T08:07:00.657Z"
   },
   {
    "duration": 7,
    "start_time": "2022-12-01T08:07:01.243Z"
   },
   {
    "duration": 383,
    "start_time": "2022-12-01T08:07:01.251Z"
   },
   {
    "duration": 282,
    "start_time": "2022-12-01T08:07:01.635Z"
   },
   {
    "duration": 205,
    "start_time": "2022-12-01T08:07:01.919Z"
   },
   {
    "duration": 198,
    "start_time": "2022-12-01T08:07:02.126Z"
   },
   {
    "duration": 212,
    "start_time": "2022-12-01T08:07:02.326Z"
   },
   {
    "duration": 205,
    "start_time": "2022-12-01T08:07:02.540Z"
   },
   {
    "duration": 178,
    "start_time": "2022-12-01T08:07:02.747Z"
   },
   {
    "duration": 12,
    "start_time": "2022-12-01T08:07:02.926Z"
   },
   {
    "duration": 195,
    "start_time": "2022-12-01T08:07:02.940Z"
   },
   {
    "duration": 196,
    "start_time": "2022-12-01T08:07:03.137Z"
   },
   {
    "duration": 198,
    "start_time": "2022-12-01T08:07:03.335Z"
   },
   {
    "duration": 72,
    "start_time": "2022-12-01T08:07:03.535Z"
   },
   {
    "duration": 29,
    "start_time": "2022-12-01T08:07:03.609Z"
   },
   {
    "duration": 10,
    "start_time": "2022-12-01T08:07:03.639Z"
   },
   {
    "duration": 16,
    "start_time": "2022-12-01T08:07:03.651Z"
   },
   {
    "duration": 42,
    "start_time": "2022-12-01T08:07:03.669Z"
   },
   {
    "duration": 146,
    "start_time": "2022-12-01T08:07:03.713Z"
   },
   {
    "duration": 16,
    "start_time": "2022-12-01T08:10:23.527Z"
   },
   {
    "duration": 7,
    "start_time": "2022-12-01T08:22:22.337Z"
   },
   {
    "duration": 22,
    "start_time": "2022-12-01T08:23:13.348Z"
   },
   {
    "duration": 23,
    "start_time": "2022-12-01T08:23:21.243Z"
   },
   {
    "duration": 3,
    "start_time": "2022-12-01T08:24:12.117Z"
   },
   {
    "duration": 23,
    "start_time": "2022-12-01T08:24:33.659Z"
   },
   {
    "duration": 149,
    "start_time": "2022-12-01T08:31:07.760Z"
   },
   {
    "duration": 10,
    "start_time": "2022-12-01T08:41:18.167Z"
   },
   {
    "duration": 77,
    "start_time": "2022-12-01T08:41:34.867Z"
   },
   {
    "duration": 6,
    "start_time": "2022-12-01T08:43:23.936Z"
   },
   {
    "duration": 566,
    "start_time": "2022-12-01T15:52:32.768Z"
   },
   {
    "duration": 2013,
    "start_time": "2022-12-01T15:52:33.336Z"
   },
   {
    "duration": 9,
    "start_time": "2022-12-01T15:52:35.351Z"
   },
   {
    "duration": 7,
    "start_time": "2022-12-01T15:52:35.362Z"
   },
   {
    "duration": 40,
    "start_time": "2022-12-01T15:52:35.371Z"
   },
   {
    "duration": 8,
    "start_time": "2022-12-01T15:52:35.412Z"
   },
   {
    "duration": 8,
    "start_time": "2022-12-01T15:52:35.421Z"
   },
   {
    "duration": 11,
    "start_time": "2022-12-01T15:52:35.430Z"
   },
   {
    "duration": 4,
    "start_time": "2022-12-01T15:52:35.442Z"
   },
   {
    "duration": 15,
    "start_time": "2022-12-01T15:52:35.448Z"
   },
   {
    "duration": 10,
    "start_time": "2022-12-01T15:52:35.464Z"
   },
   {
    "duration": 29,
    "start_time": "2022-12-01T15:52:35.476Z"
   },
   {
    "duration": 5,
    "start_time": "2022-12-01T15:52:35.507Z"
   },
   {
    "duration": 9,
    "start_time": "2022-12-01T15:52:35.514Z"
   },
   {
    "duration": 26,
    "start_time": "2022-12-01T15:52:35.524Z"
   },
   {
    "duration": 10,
    "start_time": "2022-12-01T15:52:35.551Z"
   },
   {
    "duration": 9,
    "start_time": "2022-12-01T15:52:35.604Z"
   },
   {
    "duration": 33,
    "start_time": "2022-12-01T15:52:35.614Z"
   },
   {
    "duration": 7,
    "start_time": "2022-12-01T15:52:35.649Z"
   },
   {
    "duration": 67,
    "start_time": "2022-12-01T15:52:35.658Z"
   },
   {
    "duration": 5,
    "start_time": "2022-12-01T15:52:35.727Z"
   },
   {
    "duration": 9,
    "start_time": "2022-12-01T15:52:35.734Z"
   },
   {
    "duration": 15,
    "start_time": "2022-12-01T15:52:35.745Z"
   },
   {
    "duration": 8,
    "start_time": "2022-12-01T15:52:35.761Z"
   },
   {
    "duration": 321,
    "start_time": "2022-12-01T15:52:35.770Z"
   },
   {
    "duration": 73,
    "start_time": "2022-12-01T15:52:36.093Z"
   },
   {
    "duration": 16,
    "start_time": "2022-12-01T15:52:36.168Z"
   },
   {
    "duration": 31,
    "start_time": "2022-12-01T15:52:36.189Z"
   },
   {
    "duration": 33,
    "start_time": "2022-12-01T15:52:36.221Z"
   },
   {
    "duration": 50,
    "start_time": "2022-12-01T15:52:36.255Z"
   },
   {
    "duration": 8,
    "start_time": "2022-12-01T15:52:36.307Z"
   },
   {
    "duration": 11,
    "start_time": "2022-12-01T15:52:36.317Z"
   },
   {
    "duration": 623,
    "start_time": "2022-12-01T15:52:36.330Z"
   },
   {
    "duration": 73,
    "start_time": "2022-12-01T15:52:36.955Z"
   },
   {
    "duration": 18,
    "start_time": "2022-12-01T15:52:37.029Z"
   },
   {
    "duration": 673,
    "start_time": "2022-12-01T15:52:37.049Z"
   },
   {
    "duration": 17,
    "start_time": "2022-12-01T15:52:37.723Z"
   },
   {
    "duration": 6,
    "start_time": "2022-12-01T15:52:37.742Z"
   },
   {
    "duration": 9,
    "start_time": "2022-12-01T15:52:37.750Z"
   },
   {
    "duration": 15,
    "start_time": "2022-12-01T15:52:37.761Z"
   },
   {
    "duration": 36,
    "start_time": "2022-12-01T15:52:37.777Z"
   },
   {
    "duration": 40,
    "start_time": "2022-12-01T15:52:37.815Z"
   },
   {
    "duration": 13,
    "start_time": "2022-12-01T15:52:37.857Z"
   },
   {
    "duration": 54,
    "start_time": "2022-12-01T15:52:37.872Z"
   },
   {
    "duration": 5,
    "start_time": "2022-12-01T15:52:37.927Z"
   },
   {
    "duration": 18,
    "start_time": "2022-12-01T15:52:37.933Z"
   },
   {
    "duration": 6,
    "start_time": "2022-12-01T15:52:37.952Z"
   },
   {
    "duration": 19,
    "start_time": "2022-12-01T15:52:37.959Z"
   },
   {
    "duration": 7,
    "start_time": "2022-12-01T15:52:38.004Z"
   },
   {
    "duration": 10,
    "start_time": "2022-12-01T15:52:38.013Z"
   },
   {
    "duration": 8,
    "start_time": "2022-12-01T15:52:38.025Z"
   },
   {
    "duration": 8,
    "start_time": "2022-12-01T15:52:38.035Z"
   },
   {
    "duration": 339,
    "start_time": "2022-12-01T15:52:38.044Z"
   },
   {
    "duration": 7,
    "start_time": "2022-12-01T15:52:38.385Z"
   },
   {
    "duration": 35,
    "start_time": "2022-12-01T15:52:38.394Z"
   },
   {
    "duration": 587,
    "start_time": "2022-12-01T15:52:38.431Z"
   },
   {
    "duration": 250,
    "start_time": "2022-12-01T15:52:39.020Z"
   },
   {
    "duration": 8,
    "start_time": "2022-12-01T15:52:39.272Z"
   },
   {
    "duration": 33,
    "start_time": "2022-12-01T15:52:39.281Z"
   },
   {
    "duration": 170,
    "start_time": "2022-12-01T15:52:39.315Z"
   },
   {
    "duration": 8,
    "start_time": "2022-12-01T15:52:39.487Z"
   },
   {
    "duration": 166,
    "start_time": "2022-12-01T15:52:39.504Z"
   },
   {
    "duration": 546,
    "start_time": "2022-12-01T15:52:39.671Z"
   },
   {
    "duration": 8,
    "start_time": "2022-12-01T15:52:40.219Z"
   },
   {
    "duration": 525,
    "start_time": "2022-12-01T15:52:40.229Z"
   },
   {
    "duration": 5,
    "start_time": "2022-12-01T15:52:40.755Z"
   },
   {
    "duration": 328,
    "start_time": "2022-12-01T15:52:40.761Z"
   },
   {
    "duration": 241,
    "start_time": "2022-12-01T15:52:41.090Z"
   },
   {
    "duration": 180,
    "start_time": "2022-12-01T15:52:41.333Z"
   },
   {
    "duration": 182,
    "start_time": "2022-12-01T15:52:41.515Z"
   },
   {
    "duration": 196,
    "start_time": "2022-12-01T15:52:41.704Z"
   },
   {
    "duration": 204,
    "start_time": "2022-12-01T15:52:41.904Z"
   },
   {
    "duration": 176,
    "start_time": "2022-12-01T15:52:42.110Z"
   },
   {
    "duration": 17,
    "start_time": "2022-12-01T15:52:42.287Z"
   },
   {
    "duration": 190,
    "start_time": "2022-12-01T15:52:42.306Z"
   },
   {
    "duration": 177,
    "start_time": "2022-12-01T15:52:42.498Z"
   },
   {
    "duration": 183,
    "start_time": "2022-12-01T15:52:42.677Z"
   },
   {
    "duration": 67,
    "start_time": "2022-12-01T15:52:42.861Z"
   },
   {
    "duration": 25,
    "start_time": "2022-12-01T15:52:42.930Z"
   },
   {
    "duration": 22,
    "start_time": "2022-12-01T15:52:42.957Z"
   },
   {
    "duration": 21,
    "start_time": "2022-12-01T15:52:42.981Z"
   },
   {
    "duration": 28,
    "start_time": "2022-12-01T15:52:43.007Z"
   },
   {
    "duration": 135,
    "start_time": "2022-12-01T15:52:43.037Z"
   },
   {
    "duration": 12,
    "start_time": "2022-12-01T15:53:49.869Z"
   }
  ],
  "kernelspec": {
   "display_name": "Python 3 (ipykernel)",
   "language": "python",
   "name": "python3"
  },
  "language_info": {
   "codemirror_mode": {
    "name": "ipython",
    "version": 3
   },
   "file_extension": ".py",
   "mimetype": "text/x-python",
   "name": "python",
   "nbconvert_exporter": "python",
   "pygments_lexer": "ipython3",
   "version": "3.9.13"
  },
  "toc": {
   "base_numbering": 1,
   "nav_menu": {},
   "number_sections": true,
   "sideBar": true,
   "skip_h1_title": true,
   "title_cell": "Table of Contents",
   "title_sidebar": "Contents",
   "toc_cell": false,
   "toc_position": {
    "height": "calc(100% - 180px)",
    "left": "10px",
    "top": "150px",
    "width": "323.545px"
   },
   "toc_section_display": true,
   "toc_window_display": true
  }
 },
 "nbformat": 4,
 "nbformat_minor": 2
}
