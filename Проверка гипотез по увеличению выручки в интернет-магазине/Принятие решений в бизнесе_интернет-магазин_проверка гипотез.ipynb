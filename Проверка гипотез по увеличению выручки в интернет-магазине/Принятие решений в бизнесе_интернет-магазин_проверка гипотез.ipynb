{
 "cells": [
  {
   "cell_type": "markdown",
   "metadata": {},
   "source": [
    "# Проект по увеличению выручки интернет-магазина"
   ]
  },
  {
   "cell_type": "markdown",
   "metadata": {},
   "source": [
    "Я — аналитик крупного интернет-магазина. Вместе с отделом маркетинга мы подготовили список гипотез для увеличения выручки.\n",
    "\n",
    "В ходе исследования мы приоритизируем гипотезы, запустим A/B-тест и проанализируем результаты. "
   ]
  },
  {
   "cell_type": "markdown",
   "metadata": {},
   "source": [
    "## Часть. Приоритизация гипотез "
   ]
  },
  {
   "cell_type": "code",
   "execution_count": 1,
   "metadata": {},
   "outputs": [],
   "source": [
    "import pandas as pd\n",
    "import numpy as np\n",
    "import matplotlib.pyplot as plt\n",
    "import scipy.stats as stats\n",
    "import datetime as dt"
   ]
  },
  {
   "cell_type": "code",
   "execution_count": 3,
   "metadata": {
    "scrolled": true
   },
   "outputs": [
    {
     "data": {
      "text/html": [
       "<div>\n",
       "<style scoped>\n",
       "    .dataframe tbody tr th:only-of-type {\n",
       "        vertical-align: middle;\n",
       "    }\n",
       "\n",
       "    .dataframe tbody tr th {\n",
       "        vertical-align: top;\n",
       "    }\n",
       "\n",
       "    .dataframe thead th {\n",
       "        text-align: right;\n",
       "    }\n",
       "</style>\n",
       "<table border=\"1\" class=\"dataframe\">\n",
       "  <thead>\n",
       "    <tr style=\"text-align: right;\">\n",
       "      <th></th>\n",
       "      <th>Hypothesis</th>\n",
       "      <th>Reach</th>\n",
       "      <th>Impact</th>\n",
       "      <th>Confidence</th>\n",
       "      <th>Efforts</th>\n",
       "    </tr>\n",
       "  </thead>\n",
       "  <tbody>\n",
       "    <tr>\n",
       "      <th>0</th>\n",
       "      <td>Добавить два новых канала привлечения трафика, что позволит привлекать на 30% больше пользователей</td>\n",
       "      <td>3</td>\n",
       "      <td>10</td>\n",
       "      <td>8</td>\n",
       "      <td>6</td>\n",
       "    </tr>\n",
       "    <tr>\n",
       "      <th>1</th>\n",
       "      <td>Запустить собственную службу доставки, что сократит срок доставки заказов</td>\n",
       "      <td>2</td>\n",
       "      <td>5</td>\n",
       "      <td>4</td>\n",
       "      <td>10</td>\n",
       "    </tr>\n",
       "    <tr>\n",
       "      <th>2</th>\n",
       "      <td>Добавить блоки рекомендаций товаров на сайт интернет магазина, чтобы повысить конверсию и средний чек заказа</td>\n",
       "      <td>8</td>\n",
       "      <td>3</td>\n",
       "      <td>7</td>\n",
       "      <td>3</td>\n",
       "    </tr>\n",
       "    <tr>\n",
       "      <th>3</th>\n",
       "      <td>Изменить структура категорий, что увеличит конверсию, т.к. пользователи быстрее найдут нужный товар</td>\n",
       "      <td>8</td>\n",
       "      <td>3</td>\n",
       "      <td>3</td>\n",
       "      <td>8</td>\n",
       "    </tr>\n",
       "    <tr>\n",
       "      <th>4</th>\n",
       "      <td>Изменить цвет фона главной страницы, чтобы увеличить вовлеченность пользователей</td>\n",
       "      <td>3</td>\n",
       "      <td>1</td>\n",
       "      <td>1</td>\n",
       "      <td>1</td>\n",
       "    </tr>\n",
       "    <tr>\n",
       "      <th>5</th>\n",
       "      <td>Добавить страницу отзывов клиентов о магазине, что позволит увеличить количество заказов</td>\n",
       "      <td>3</td>\n",
       "      <td>2</td>\n",
       "      <td>2</td>\n",
       "      <td>3</td>\n",
       "    </tr>\n",
       "    <tr>\n",
       "      <th>6</th>\n",
       "      <td>Показать на главной странице баннеры с актуальными акциями и распродажами, чтобы увеличить конверсию</td>\n",
       "      <td>5</td>\n",
       "      <td>3</td>\n",
       "      <td>8</td>\n",
       "      <td>3</td>\n",
       "    </tr>\n",
       "    <tr>\n",
       "      <th>7</th>\n",
       "      <td>Добавить форму подписки на все основные страницы, чтобы собрать базу клиентов для email-рассылок</td>\n",
       "      <td>10</td>\n",
       "      <td>7</td>\n",
       "      <td>8</td>\n",
       "      <td>5</td>\n",
       "    </tr>\n",
       "    <tr>\n",
       "      <th>8</th>\n",
       "      <td>Запустить акцию, дающую скидку на товар в день рождения</td>\n",
       "      <td>1</td>\n",
       "      <td>9</td>\n",
       "      <td>9</td>\n",
       "      <td>5</td>\n",
       "    </tr>\n",
       "  </tbody>\n",
       "</table>\n",
       "</div>"
      ],
      "text/plain": [
       "                                                                                                     Hypothesis  \\\n",
       "0            Добавить два новых канала привлечения трафика, что позволит привлекать на 30% больше пользователей   \n",
       "1                                     Запустить собственную службу доставки, что сократит срок доставки заказов   \n",
       "2  Добавить блоки рекомендаций товаров на сайт интернет магазина, чтобы повысить конверсию и средний чек заказа   \n",
       "3           Изменить структура категорий, что увеличит конверсию, т.к. пользователи быстрее найдут нужный товар   \n",
       "4                              Изменить цвет фона главной страницы, чтобы увеличить вовлеченность пользователей   \n",
       "5                      Добавить страницу отзывов клиентов о магазине, что позволит увеличить количество заказов   \n",
       "6          Показать на главной странице баннеры с актуальными акциями и распродажами, чтобы увеличить конверсию   \n",
       "7              Добавить форму подписки на все основные страницы, чтобы собрать базу клиентов для email-рассылок   \n",
       "8                                                       Запустить акцию, дающую скидку на товар в день рождения   \n",
       "\n",
       "   Reach  Impact  Confidence  Efforts  \n",
       "0      3      10           8        6  \n",
       "1      2       5           4       10  \n",
       "2      8       3           7        3  \n",
       "3      8       3           3        8  \n",
       "4      3       1           1        1  \n",
       "5      3       2           2        3  \n",
       "6      5       3           8        3  \n",
       "7     10       7           8        5  \n",
       "8      1       9           9        5  "
      ]
     },
     "execution_count": 3,
     "metadata": {},
     "output_type": "execute_result"
    }
   ],
   "source": [
    "# Загружаем данные\n",
    "try:\n",
    "    data = pd.read_csv('/datasets/hypothesis.csv')\n",
    "except:\n",
    "    data = pd.read_csv('https://code.s3.yandex.net/datasets/hypothesis.csv')\n",
    "pd.options.display.max_colwidth = 150\n",
    "data"
   ]
  },
  {
   "cell_type": "markdown",
   "metadata": {},
   "source": [
    "Hypothesis — краткое описание гипотезы; \n",
    "\n",
    "Reach — охват пользователей по 10-балльной шкале; \n",
    "\n",
    "Impact — влияние на пользователей по 10-балльной шкале; \n",
    "\n",
    "Confidence — уверенность в гипотезе по 10-балльной шкале; \n",
    "\n",
    "Efforts — затраты ресурсов на проверку гипотезы по 10-балльной шкале. Чем больше значение Efforts, тем дороже проверка гипотезы."
   ]
  },
  {
   "cell_type": "code",
   "execution_count": null,
   "metadata": {},
   "outputs": [],
   "source": [
    "#Приведем названия столбцов у нижнему регистру\n",
    "data.columns = data.columns.str.lower()\n",
    "data.columns"
   ]
  },
  {
   "cell_type": "code",
   "execution_count": null,
   "metadata": {},
   "outputs": [],
   "source": [
    "#Применим фреймворк ICE для приоритизации гипотез. Отсортируем их по убыванию приоритета.\n",
    "data['ICE'] = np.round((data['impact'] * data['confidence'])/data['efforts'], decimals = 2)\n",
    "\n",
    "data[['hypothesis', 'ICE']].sort_values(by='ICE', ascending=False)"
   ]
  },
  {
   "cell_type": "markdown",
   "metadata": {},
   "source": [
    "По методу ICE лидируют гипотезы 8, 0, 7"
   ]
  },
  {
   "cell_type": "code",
   "execution_count": 5,
   "metadata": {
    "scrolled": true
   },
   "outputs": [
    {
     "data": {
      "text/html": [
       "<div>\n",
       "<style scoped>\n",
       "    .dataframe tbody tr th:only-of-type {\n",
       "        vertical-align: middle;\n",
       "    }\n",
       "\n",
       "    .dataframe tbody tr th {\n",
       "        vertical-align: top;\n",
       "    }\n",
       "\n",
       "    .dataframe thead th {\n",
       "        text-align: right;\n",
       "    }\n",
       "</style>\n",
       "<table border=\"1\" class=\"dataframe\">\n",
       "  <thead>\n",
       "    <tr style=\"text-align: right;\">\n",
       "      <th></th>\n",
       "      <th>hypothesis</th>\n",
       "      <th>RICE</th>\n",
       "    </tr>\n",
       "  </thead>\n",
       "  <tbody>\n",
       "    <tr>\n",
       "      <th>7</th>\n",
       "      <td>Добавить форму подписки на все основные страницы, чтобы собрать базу клиентов для email-рассылок</td>\n",
       "      <td>112.0</td>\n",
       "    </tr>\n",
       "    <tr>\n",
       "      <th>2</th>\n",
       "      <td>Добавить блоки рекомендаций товаров на сайт интернет магазина, чтобы повысить конверсию и средний чек заказа</td>\n",
       "      <td>56.0</td>\n",
       "    </tr>\n",
       "    <tr>\n",
       "      <th>0</th>\n",
       "      <td>Добавить два новых канала привлечения трафика, что позволит привлекать на 30% больше пользователей</td>\n",
       "      <td>40.0</td>\n",
       "    </tr>\n",
       "    <tr>\n",
       "      <th>6</th>\n",
       "      <td>Показать на главной странице баннеры с актуальными акциями и распродажами, чтобы увеличить конверсию</td>\n",
       "      <td>40.0</td>\n",
       "    </tr>\n",
       "    <tr>\n",
       "      <th>8</th>\n",
       "      <td>Запустить акцию, дающую скидку на товар в день рождения</td>\n",
       "      <td>16.2</td>\n",
       "    </tr>\n",
       "    <tr>\n",
       "      <th>3</th>\n",
       "      <td>Изменить структура категорий, что увеличит конверсию, т.к. пользователи быстрее найдут нужный товар</td>\n",
       "      <td>9.0</td>\n",
       "    </tr>\n",
       "    <tr>\n",
       "      <th>1</th>\n",
       "      <td>Запустить собственную службу доставки, что сократит срок доставки заказов</td>\n",
       "      <td>4.0</td>\n",
       "    </tr>\n",
       "    <tr>\n",
       "      <th>5</th>\n",
       "      <td>Добавить страницу отзывов клиентов о магазине, что позволит увеличить количество заказов</td>\n",
       "      <td>4.0</td>\n",
       "    </tr>\n",
       "    <tr>\n",
       "      <th>4</th>\n",
       "      <td>Изменить цвет фона главной страницы, чтобы увеличить вовлеченность пользователей</td>\n",
       "      <td>3.0</td>\n",
       "    </tr>\n",
       "  </tbody>\n",
       "</table>\n",
       "</div>"
      ],
      "text/plain": [
       "                                                                                                     hypothesis  \\\n",
       "7              Добавить форму подписки на все основные страницы, чтобы собрать базу клиентов для email-рассылок   \n",
       "2  Добавить блоки рекомендаций товаров на сайт интернет магазина, чтобы повысить конверсию и средний чек заказа   \n",
       "0            Добавить два новых канала привлечения трафика, что позволит привлекать на 30% больше пользователей   \n",
       "6          Показать на главной странице баннеры с актуальными акциями и распродажами, чтобы увеличить конверсию   \n",
       "8                                                       Запустить акцию, дающую скидку на товар в день рождения   \n",
       "3           Изменить структура категорий, что увеличит конверсию, т.к. пользователи быстрее найдут нужный товар   \n",
       "1                                     Запустить собственную службу доставки, что сократит срок доставки заказов   \n",
       "5                      Добавить страницу отзывов клиентов о магазине, что позволит увеличить количество заказов   \n",
       "4                              Изменить цвет фона главной страницы, чтобы увеличить вовлеченность пользователей   \n",
       "\n",
       "    RICE  \n",
       "7  112.0  \n",
       "2   56.0  \n",
       "0   40.0  \n",
       "6   40.0  \n",
       "8   16.2  \n",
       "3    9.0  \n",
       "1    4.0  \n",
       "5    4.0  \n",
       "4    3.0  "
      ]
     },
     "execution_count": 5,
     "metadata": {},
     "output_type": "execute_result"
    }
   ],
   "source": [
    "#Применим фреймворк RICE для приоритизации гипотез. Отсортируем их по убыванию приоритета.\n",
    "data['RICE'] = (data['reach']*data['impact'] * data['confidence'])/data['efforts']\n",
    "\n",
    "data[['hypothesis', 'RICE']].sort_values(by='RICE', ascending=False)"
   ]
  },
  {
   "cell_type": "markdown",
   "metadata": {},
   "source": [
    "По методу RICE лидируют гипотезы 7, 2, 0. Причем гипотеза 7 занимает первое место с очень большим отрывом. Ее мы и будем дальше исследовать: Добавить форму подписки на все основные страницы, чтобы собрать базу клиентов для email-рассылок.\n",
    "\n",
    "При этом, например, гипотеза 8 опустилась аж на 5 место, а гипотеза 2 поднялась в рейтинге с пятого на второе.\n",
    "Разница в методах приоритизации ICE и RICE в параметре Reach - охвате пользователей, которых затронет изменение. Чем больше пользователей затронет изменение, тем важнее гипотеза, - и это учитывает метод RICE.\n",
    "\n",
    "С этой точки зрения гипотеза о добавлении блоков рекомендаций на сайт (2) охватит больше пользователей, чем акция, дающая скидки на товар в день рождения (8)."
   ]
  },
  {
   "cell_type": "markdown",
   "metadata": {},
   "source": [
    "## Часть. Анализ A/B-теста\n",
    "Мы провели A/B-тест и получили результаты, которые описаны в файлах orders.csv и visitors.csv."
   ]
  },
  {
   "cell_type": "markdown",
   "metadata": {},
   "source": [
    "### Orders. Предобработка данных"
   ]
  },
  {
   "cell_type": "code",
   "execution_count": 6,
   "metadata": {
    "scrolled": true
   },
   "outputs": [
    {
     "data": {
      "text/html": [
       "<div>\n",
       "<style scoped>\n",
       "    .dataframe tbody tr th:only-of-type {\n",
       "        vertical-align: middle;\n",
       "    }\n",
       "\n",
       "    .dataframe tbody tr th {\n",
       "        vertical-align: top;\n",
       "    }\n",
       "\n",
       "    .dataframe thead th {\n",
       "        text-align: right;\n",
       "    }\n",
       "</style>\n",
       "<table border=\"1\" class=\"dataframe\">\n",
       "  <thead>\n",
       "    <tr style=\"text-align: right;\">\n",
       "      <th></th>\n",
       "      <th>transactionId</th>\n",
       "      <th>visitorId</th>\n",
       "      <th>date</th>\n",
       "      <th>revenue</th>\n",
       "      <th>group</th>\n",
       "    </tr>\n",
       "  </thead>\n",
       "  <tbody>\n",
       "    <tr>\n",
       "      <th>0</th>\n",
       "      <td>3667963787</td>\n",
       "      <td>3312258926</td>\n",
       "      <td>2019-08-15</td>\n",
       "      <td>1650</td>\n",
       "      <td>B</td>\n",
       "    </tr>\n",
       "    <tr>\n",
       "      <th>1</th>\n",
       "      <td>2804400009</td>\n",
       "      <td>3642806036</td>\n",
       "      <td>2019-08-15</td>\n",
       "      <td>730</td>\n",
       "      <td>B</td>\n",
       "    </tr>\n",
       "    <tr>\n",
       "      <th>2</th>\n",
       "      <td>2961555356</td>\n",
       "      <td>4069496402</td>\n",
       "      <td>2019-08-15</td>\n",
       "      <td>400</td>\n",
       "      <td>A</td>\n",
       "    </tr>\n",
       "    <tr>\n",
       "      <th>3</th>\n",
       "      <td>3797467345</td>\n",
       "      <td>1196621759</td>\n",
       "      <td>2019-08-15</td>\n",
       "      <td>9759</td>\n",
       "      <td>B</td>\n",
       "    </tr>\n",
       "    <tr>\n",
       "      <th>4</th>\n",
       "      <td>2282983706</td>\n",
       "      <td>2322279887</td>\n",
       "      <td>2019-08-15</td>\n",
       "      <td>2308</td>\n",
       "      <td>B</td>\n",
       "    </tr>\n",
       "  </tbody>\n",
       "</table>\n",
       "</div>"
      ],
      "text/plain": [
       "   transactionId   visitorId        date  revenue group\n",
       "0     3667963787  3312258926  2019-08-15     1650     B\n",
       "1     2804400009  3642806036  2019-08-15      730     B\n",
       "2     2961555356  4069496402  2019-08-15      400     A\n",
       "3     3797467345  1196621759  2019-08-15     9759     B\n",
       "4     2282983706  2322279887  2019-08-15     2308     B"
      ]
     },
     "execution_count": 6,
     "metadata": {},
     "output_type": "execute_result"
    }
   ],
   "source": [
    "# Загружаем данные по заказам\n",
    "orders = pd.read_csv('/datasets/orders.csv')\n",
    "orders.head()"
   ]
  },
  {
   "cell_type": "markdown",
   "metadata": {},
   "source": [
    "transaction_id — идентификатор заказа; \n",
    "\n",
    "visitor_id — идентификатор пользователя, совершившего заказ; \n",
    "\n",
    "date — дата, когда был совершён заказ; \n",
    "\n",
    "revenue — выручка заказа; \n",
    "\n",
    "group — группа A/B-теста, в которую попал заказ."
   ]
  },
  {
   "cell_type": "code",
   "execution_count": 7,
   "metadata": {},
   "outputs": [
    {
     "data": {
      "text/plain": [
       "Index(['transaction_id', 'visitor_id', 'date', 'revenue', 'group'], dtype='object')"
      ]
     },
     "execution_count": 7,
     "metadata": {},
     "output_type": "execute_result"
    }
   ],
   "source": [
    "#Переименуем некоторые столбцы\n",
    "orders = orders.rename(columns={'transactionId': 'transaction_id', 'visitorId': 'visitor_id'})\n",
    "orders.columns"
   ]
  },
  {
   "cell_type": "code",
   "execution_count": 8,
   "metadata": {},
   "outputs": [
    {
     "data": {
      "text/plain": [
       "0"
      ]
     },
     "execution_count": 8,
     "metadata": {},
     "output_type": "execute_result"
    }
   ],
   "source": [
    "#Проверим данные на явные дубликаты\n",
    "orders.duplicated().sum()"
   ]
  },
  {
   "cell_type": "code",
   "execution_count": 9,
   "metadata": {
    "scrolled": true
   },
   "outputs": [
    {
     "name": "stdout",
     "output_type": "stream",
     "text": [
      "<class 'pandas.core.frame.DataFrame'>\n",
      "RangeIndex: 1197 entries, 0 to 1196\n",
      "Data columns (total 5 columns):\n",
      " #   Column          Non-Null Count  Dtype \n",
      "---  ------          --------------  ----- \n",
      " 0   transaction_id  1197 non-null   int64 \n",
      " 1   visitor_id      1197 non-null   int64 \n",
      " 2   date            1197 non-null   object\n",
      " 3   revenue         1197 non-null   int64 \n",
      " 4   group           1197 non-null   object\n",
      "dtypes: int64(3), object(2)\n",
      "memory usage: 46.9+ KB\n"
     ]
    }
   ],
   "source": [
    "#Проверим данные на пропуски\n",
    "orders.info()"
   ]
  },
  {
   "cell_type": "code",
   "execution_count": 10,
   "metadata": {},
   "outputs": [],
   "source": [
    "#Приведем данные столбца date к формату strptime\n",
    "import datetime as dt\n",
    "orders['date'] = pd.to_datetime(orders['date'])"
   ]
  },
  {
   "cell_type": "code",
   "execution_count": 11,
   "metadata": {},
   "outputs": [
    {
     "data": {
      "text/plain": [
       "1031"
      ]
     },
     "execution_count": 11,
     "metadata": {},
     "output_type": "execute_result"
    }
   ],
   "source": [
    "# посчитаем уникальных пользователей на сырых данных\n",
    "uniq_visitor_before = len(orders['visitor_id'].unique())\n",
    "uniq_visitor_before"
   ]
  },
  {
   "cell_type": "markdown",
   "metadata": {},
   "source": [
    "### Visitors. Предобработка данных"
   ]
  },
  {
   "cell_type": "code",
   "execution_count": 12,
   "metadata": {
    "scrolled": true
   },
   "outputs": [
    {
     "data": {
      "text/html": [
       "<div>\n",
       "<style scoped>\n",
       "    .dataframe tbody tr th:only-of-type {\n",
       "        vertical-align: middle;\n",
       "    }\n",
       "\n",
       "    .dataframe tbody tr th {\n",
       "        vertical-align: top;\n",
       "    }\n",
       "\n",
       "    .dataframe thead th {\n",
       "        text-align: right;\n",
       "    }\n",
       "</style>\n",
       "<table border=\"1\" class=\"dataframe\">\n",
       "  <thead>\n",
       "    <tr style=\"text-align: right;\">\n",
       "      <th></th>\n",
       "      <th>date</th>\n",
       "      <th>group</th>\n",
       "      <th>visitors</th>\n",
       "    </tr>\n",
       "  </thead>\n",
       "  <tbody>\n",
       "    <tr>\n",
       "      <th>0</th>\n",
       "      <td>2019-08-01</td>\n",
       "      <td>A</td>\n",
       "      <td>719</td>\n",
       "    </tr>\n",
       "    <tr>\n",
       "      <th>1</th>\n",
       "      <td>2019-08-02</td>\n",
       "      <td>A</td>\n",
       "      <td>619</td>\n",
       "    </tr>\n",
       "    <tr>\n",
       "      <th>2</th>\n",
       "      <td>2019-08-03</td>\n",
       "      <td>A</td>\n",
       "      <td>507</td>\n",
       "    </tr>\n",
       "    <tr>\n",
       "      <th>3</th>\n",
       "      <td>2019-08-04</td>\n",
       "      <td>A</td>\n",
       "      <td>717</td>\n",
       "    </tr>\n",
       "    <tr>\n",
       "      <th>4</th>\n",
       "      <td>2019-08-05</td>\n",
       "      <td>A</td>\n",
       "      <td>756</td>\n",
       "    </tr>\n",
       "  </tbody>\n",
       "</table>\n",
       "</div>"
      ],
      "text/plain": [
       "         date group  visitors\n",
       "0  2019-08-01     A       719\n",
       "1  2019-08-02     A       619\n",
       "2  2019-08-03     A       507\n",
       "3  2019-08-04     A       717\n",
       "4  2019-08-05     A       756"
      ]
     },
     "execution_count": 12,
     "metadata": {},
     "output_type": "execute_result"
    }
   ],
   "source": [
    "# Загружаем данные о пользователях\n",
    "visitors = pd.read_csv('/datasets/visitors.csv')\n",
    "visitors.head()"
   ]
  },
  {
   "cell_type": "markdown",
   "metadata": {},
   "source": [
    "date — дата;\n",
    "\n",
    "group — группа A/B-теста;\n",
    "\n",
    "visitors — количество пользователей в указанную дату в указанной группе A/B-теста"
   ]
  },
  {
   "cell_type": "code",
   "execution_count": 13,
   "metadata": {},
   "outputs": [
    {
     "data": {
      "text/plain": [
       "0"
      ]
     },
     "execution_count": 13,
     "metadata": {},
     "output_type": "execute_result"
    }
   ],
   "source": [
    "#Проверим данные на явные дубликаты\n",
    "visitors.duplicated().sum()"
   ]
  },
  {
   "cell_type": "code",
   "execution_count": 14,
   "metadata": {
    "scrolled": false
   },
   "outputs": [
    {
     "data": {
      "text/plain": [
       "date        0\n",
       "group       0\n",
       "visitors    0\n",
       "dtype: int64"
      ]
     },
     "execution_count": 14,
     "metadata": {},
     "output_type": "execute_result"
    }
   ],
   "source": [
    "#Проверим данные на пропуски\n",
    "visitors.isna().sum()"
   ]
  },
  {
   "cell_type": "code",
   "execution_count": 15,
   "metadata": {},
   "outputs": [],
   "source": [
    "#Приведем данные столбца date к формату datetime\n",
    "visitors['date'] = pd.to_datetime(visitors['date'])"
   ]
  },
  {
   "cell_type": "markdown",
   "metadata": {},
   "source": [
    "### Подготовка к А/В-тесту"
   ]
  },
  {
   "cell_type": "markdown",
   "metadata": {},
   "source": [
    "\n",
    "**Проверим как делится трафик на группы.** Чтобы это посмотреть, надо проанализировать табл visitors - посмотреть сколько визитов на сайт пользователей групп А и В было сделано за весь период теста"
   ]
  },
  {
   "cell_type": "code",
   "execution_count": 16,
   "metadata": {},
   "outputs": [
    {
     "data": {
      "text/html": [
       "<div>\n",
       "<style scoped>\n",
       "    .dataframe tbody tr th:only-of-type {\n",
       "        vertical-align: middle;\n",
       "    }\n",
       "\n",
       "    .dataframe tbody tr th {\n",
       "        vertical-align: top;\n",
       "    }\n",
       "\n",
       "    .dataframe thead th {\n",
       "        text-align: right;\n",
       "    }\n",
       "</style>\n",
       "<table border=\"1\" class=\"dataframe\">\n",
       "  <thead>\n",
       "    <tr style=\"text-align: right;\">\n",
       "      <th></th>\n",
       "      <th>visitors</th>\n",
       "    </tr>\n",
       "    <tr>\n",
       "      <th>group</th>\n",
       "      <th></th>\n",
       "    </tr>\n",
       "  </thead>\n",
       "  <tbody>\n",
       "    <tr>\n",
       "      <th>A</th>\n",
       "      <td>18736</td>\n",
       "    </tr>\n",
       "    <tr>\n",
       "      <th>B</th>\n",
       "      <td>18916</td>\n",
       "    </tr>\n",
       "  </tbody>\n",
       "</table>\n",
       "</div>"
      ],
      "text/plain": [
       "       visitors\n",
       "group          \n",
       "A         18736\n",
       "B         18916"
      ]
     },
     "execution_count": 16,
     "metadata": {},
     "output_type": "execute_result"
    }
   ],
   "source": [
    "visitors.groupby('group').agg({'visitors':'sum'})"
   ]
  },
  {
   "cell_type": "code",
   "execution_count": 17,
   "metadata": {},
   "outputs": [
    {
     "data": {
      "text/plain": [
       "0.9515753859166836"
      ]
     },
     "execution_count": 17,
     "metadata": {},
     "output_type": "execute_result"
    }
   ],
   "source": [
    "# В группе В больше посетителей, посчитаем насколько: \n",
    "100-18736*100/18916"
   ]
  },
  {
   "cell_type": "markdown",
   "metadata": {},
   "source": [
    "Разница в группах меньше 1% - это допустимо."
   ]
  },
  {
   "cell_type": "markdown",
   "metadata": {},
   "source": [
    "**Действительно ли, попавший в одну из групп посетитель, остаётся в этой группе до конца теста**"
   ]
  },
  {
   "cell_type": "code",
   "execution_count": 18,
   "metadata": {},
   "outputs": [
    {
     "data": {
      "text/plain": [
       "1031"
      ]
     },
     "execution_count": 18,
     "metadata": {},
     "output_type": "execute_result"
    }
   ],
   "source": [
    "len(orders['visitor_id'].unique())"
   ]
  },
  {
   "cell_type": "code",
   "execution_count": 19,
   "metadata": {},
   "outputs": [
    {
     "data": {
      "text/plain": [
       "visitor_id    1089\n",
       "dtype: int64"
      ]
     },
     "execution_count": 19,
     "metadata": {},
     "output_type": "execute_result"
    }
   ],
   "source": [
    "orders.groupby('group').agg({'visitor_id': 'nunique'}).sum()"
   ]
  },
  {
   "cell_type": "markdown",
   "metadata": {},
   "source": [
    "Значит есть 58 id, которые сидят в обоих группах!!!!"
   ]
  },
  {
   "cell_type": "code",
   "execution_count": 20,
   "metadata": {
    "scrolled": true
   },
   "outputs": [
    {
     "data": {
      "text/plain": [
       "array([4069496402,  199603092, 3803269165, 2378935119,  237748145,\n",
       "       4256040402, 2038680547, 1738359350, 2458001652, 3891541246,\n",
       "       2716752286, 3656415546, 2686716486, 2954449915, 2927087541,\n",
       "       3234906277,  457167155, 2579882178, 3957174400, 1648269707,\n",
       "       2780786433,  818047933, 2044997962, 1959144690, 3202540741,\n",
       "       1333886533,  351125977, 3951559397,  393266494, 3984495233,\n",
       "       4120364173, 4266935830, 1230306981, 1294878855, 1614305549,\n",
       "          8300375,  477780734, 1668030113, 3717692402, 3766097110,\n",
       "       3941795274,  471551937, 1316129916, 1801183820, 1602967004,\n",
       "       2587333274, 2600415354,  232979603, 3972127743, 1404934699,\n",
       "        276558944, 3062433592, 2654030115, 3963646447, 4186807279,\n",
       "       2712142231, 2949041841,  963407295])"
      ]
     },
     "execution_count": 20,
     "metadata": {},
     "output_type": "execute_result"
    }
   ],
   "source": [
    "# Найдем их\n",
    "ordersA=orders.query('group==\"A\"')\n",
    "ordersB=orders.query('group==\"B\"')\n",
    "ordersAB=ordersA.merge(ordersB, on='visitor_id')['visitor_id'].unique()\n",
    "ordersAB"
   ]
  },
  {
   "cell_type": "markdown",
   "metadata": {},
   "source": [
    "58 уникальных клиентов, которые одновременно участвуют в обеих группах, это 5,6% от общей выборки. И я предлагаю удалить их из анализа"
   ]
  },
  {
   "cell_type": "code",
   "execution_count": 21,
   "metadata": {
    "scrolled": true
   },
   "outputs": [],
   "source": [
    "orders = orders.query('visitor_id not in @ordersAB')"
   ]
  },
  {
   "cell_type": "markdown",
   "metadata": {},
   "source": [
    "Еще раз проверим, что теперь каждый пользователь относится только к одной группе"
   ]
  },
  {
   "cell_type": "code",
   "execution_count": 53,
   "metadata": {},
   "outputs": [
    {
     "data": {
      "text/plain": [
       "visitor_id    973\n",
       "dtype: int64"
      ]
     },
     "execution_count": 53,
     "metadata": {},
     "output_type": "execute_result"
    }
   ],
   "source": [
    "orders.groupby('group').agg({'visitor_id': 'nunique'}).sum()"
   ]
  },
  {
   "cell_type": "code",
   "execution_count": 23,
   "metadata": {
    "scrolled": true
   },
   "outputs": [
    {
     "data": {
      "text/plain": [
       "973"
      ]
     },
     "execution_count": 23,
     "metadata": {},
     "output_type": "execute_result"
    }
   ],
   "source": [
    "len(orders['visitor_id'].unique())"
   ]
  },
  {
   "cell_type": "markdown",
   "metadata": {},
   "source": [
    "### Анализируем А/В-тест"
   ]
  },
  {
   "cell_type": "markdown",
   "metadata": {},
   "source": [
    "В данном А/В тесте у нас 2 группы, А и В собственно. Дата начала теста 1 августа 2019, дата окончания теста 31 августа 2019. В группе А - 445 пользователей, в группе В - 528 пользователей.    Группы не слишком сбалансированны, относительная разница в пользу группы В 16%."
   ]
  },
  {
   "cell_type": "code",
   "execution_count": 24,
   "metadata": {},
   "outputs": [
    {
     "data": {
      "text/plain": [
       "Timestamp('2019-08-01 00:00:00')"
      ]
     },
     "execution_count": 24,
     "metadata": {},
     "output_type": "execute_result"
    }
   ],
   "source": [
    "min(visitors['date'])"
   ]
  },
  {
   "cell_type": "code",
   "execution_count": 25,
   "metadata": {},
   "outputs": [
    {
     "data": {
      "text/plain": [
       "Timestamp('2019-08-31 00:00:00')"
      ]
     },
     "execution_count": 25,
     "metadata": {},
     "output_type": "execute_result"
    }
   ],
   "source": [
    "max(visitors['date'])"
   ]
  },
  {
   "cell_type": "code",
   "execution_count": 26,
   "metadata": {},
   "outputs": [
    {
     "data": {
      "text/html": [
       "<div>\n",
       "<style scoped>\n",
       "    .dataframe tbody tr th:only-of-type {\n",
       "        vertical-align: middle;\n",
       "    }\n",
       "\n",
       "    .dataframe tbody tr th {\n",
       "        vertical-align: top;\n",
       "    }\n",
       "\n",
       "    .dataframe thead th {\n",
       "        text-align: right;\n",
       "    }\n",
       "</style>\n",
       "<table border=\"1\" class=\"dataframe\">\n",
       "  <thead>\n",
       "    <tr style=\"text-align: right;\">\n",
       "      <th></th>\n",
       "      <th>visitor_id</th>\n",
       "    </tr>\n",
       "    <tr>\n",
       "      <th>group</th>\n",
       "      <th></th>\n",
       "    </tr>\n",
       "  </thead>\n",
       "  <tbody>\n",
       "    <tr>\n",
       "      <th>A</th>\n",
       "      <td>445</td>\n",
       "    </tr>\n",
       "    <tr>\n",
       "      <th>B</th>\n",
       "      <td>528</td>\n",
       "    </tr>\n",
       "  </tbody>\n",
       "</table>\n",
       "</div>"
      ],
      "text/plain": [
       "       visitor_id\n",
       "group            \n",
       "A             445\n",
       "B             528"
      ]
     },
     "execution_count": 26,
     "metadata": {},
     "output_type": "execute_result"
    }
   ],
   "source": [
    "orders.groupby('group').agg({'visitor_id': 'nunique'})"
   ]
  },
  {
   "cell_type": "code",
   "execution_count": 27,
   "metadata": {},
   "outputs": [
    {
     "data": {
      "text/plain": [
       "15.72"
      ]
     },
     "execution_count": 27,
     "metadata": {},
     "output_type": "execute_result"
    }
   ],
   "source": [
    "np.round((100-445*100/528), decimals=2)"
   ]
  },
  {
   "cell_type": "markdown",
   "metadata": {},
   "source": [
    "#### Построим график кумулятивной выручки по группам. Сделаем выводы и предположения."
   ]
  },
  {
   "cell_type": "code",
   "execution_count": 54,
   "metadata": {},
   "outputs": [
    {
     "data": {
      "text/html": [
       "<div>\n",
       "<style scoped>\n",
       "    .dataframe tbody tr th:only-of-type {\n",
       "        vertical-align: middle;\n",
       "    }\n",
       "\n",
       "    .dataframe tbody tr th {\n",
       "        vertical-align: top;\n",
       "    }\n",
       "\n",
       "    .dataframe thead th {\n",
       "        text-align: right;\n",
       "    }\n",
       "</style>\n",
       "<table border=\"1\" class=\"dataframe\">\n",
       "  <thead>\n",
       "    <tr style=\"text-align: right;\">\n",
       "      <th></th>\n",
       "      <th>date</th>\n",
       "      <th>group</th>\n",
       "      <th>orders</th>\n",
       "      <th>buyers</th>\n",
       "      <th>revenue</th>\n",
       "      <th>visitors</th>\n",
       "    </tr>\n",
       "  </thead>\n",
       "  <tbody>\n",
       "    <tr>\n",
       "      <th>0</th>\n",
       "      <td>2019-08-01</td>\n",
       "      <td>A</td>\n",
       "      <td>23</td>\n",
       "      <td>19</td>\n",
       "      <td>142779</td>\n",
       "      <td>719</td>\n",
       "    </tr>\n",
       "    <tr>\n",
       "      <th>1</th>\n",
       "      <td>2019-08-01</td>\n",
       "      <td>B</td>\n",
       "      <td>17</td>\n",
       "      <td>17</td>\n",
       "      <td>59758</td>\n",
       "      <td>713</td>\n",
       "    </tr>\n",
       "    <tr>\n",
       "      <th>2</th>\n",
       "      <td>2019-08-02</td>\n",
       "      <td>A</td>\n",
       "      <td>42</td>\n",
       "      <td>36</td>\n",
       "      <td>234381</td>\n",
       "      <td>1338</td>\n",
       "    </tr>\n",
       "    <tr>\n",
       "      <th>3</th>\n",
       "      <td>2019-08-02</td>\n",
       "      <td>B</td>\n",
       "      <td>40</td>\n",
       "      <td>39</td>\n",
       "      <td>221801</td>\n",
       "      <td>1294</td>\n",
       "    </tr>\n",
       "    <tr>\n",
       "      <th>4</th>\n",
       "      <td>2019-08-03</td>\n",
       "      <td>A</td>\n",
       "      <td>66</td>\n",
       "      <td>60</td>\n",
       "      <td>346854</td>\n",
       "      <td>1845</td>\n",
       "    </tr>\n",
       "  </tbody>\n",
       "</table>\n",
       "</div>"
      ],
      "text/plain": [
       "        date group  orders  buyers  revenue  visitors\n",
       "0 2019-08-01     A      23      19   142779       719\n",
       "1 2019-08-01     B      17      17    59758       713\n",
       "2 2019-08-02     A      42      36   234381      1338\n",
       "3 2019-08-02     B      40      39   221801      1294\n",
       "4 2019-08-03     A      66      60   346854      1845"
      ]
     },
     "execution_count": 54,
     "metadata": {},
     "output_type": "execute_result"
    }
   ],
   "source": [
    "import numpy as np\n",
    "import matplotlib.pyplot as plt\n",
    "# создаем массив уникальных пар значений дат и групп теста\n",
    "datesGroups = orders[['date','group']].drop_duplicates()\n",
    "\n",
    "# получаем агрегированные кумулятивные по дням данные о заказах \n",
    "ordersAggregated = \\\n",
    "datesGroups.apply(lambda x: orders[np.logical_and(orders['date'] <= x['date'], orders['group'] == x['group'])]\\\n",
    ".agg({'date' : 'max', 'group' : 'max', 'transaction_id' : 'nunique', 'visitor_id' : 'nunique', 'revenue' : 'sum'}), axis=1)\\\n",
    ".sort_values(by=['date','group'])\n",
    "\n",
    "# получаем агрегированные кумулятивные по дням данные о посетителях интернет-магазина \n",
    "visitorsAggregated = \\\n",
    "datesGroups.apply(lambda x: visitors[np.logical_and(visitors['date'] <= x['date'], visitors['group'] == x['group'])]\\\n",
    ".agg({'date' : 'max', 'group' : 'max', 'visitors' : 'sum'}), axis=1)\\\n",
    ".sort_values(by=['date','group'])\n",
    "\n",
    "# объединяем кумулятивные данные в одной таблице и присваиваем ее столбцам понятные названия\n",
    "cumulativeData = ordersAggregated.merge(visitorsAggregated, left_on=['date', 'group'], right_on=['date', 'group'])\n",
    "cumulativeData.columns = ['date', 'group', 'orders', 'buyers', 'revenue', 'visitors']\n",
    "\n",
    "cumulativeData.head(5)"
   ]
  },
  {
   "cell_type": "code",
   "execution_count": 29,
   "metadata": {},
   "outputs": [],
   "source": [
    "# датафрейм с кумулятивным количеством заказов и кумулятивной выручкой по дням в группе А\n",
    "cumulativeRevenueA = cumulativeData[cumulativeData['group']=='A'][['date','revenue', 'orders']]"
   ]
  },
  {
   "cell_type": "code",
   "execution_count": 30,
   "metadata": {},
   "outputs": [],
   "source": [
    "# датафрейм с кумулятивным количеством заказов и кумулятивной выручкой по дням в группе B\n",
    "cumulativeRevenueB = cumulativeData[cumulativeData['group']=='B'][['date','revenue', 'orders']]"
   ]
  },
  {
   "cell_type": "code",
   "execution_count": 31,
   "metadata": {
    "scrolled": true
   },
   "outputs": [
    {
     "data": {
      "image/png": "[encoded data removed]",
      "text/plain": [
       "<Figure size 864x360 with 1 Axes>"
      ]
     },
     "metadata": {
      "needs_background": "light"
     },
     "output_type": "display_data"
    }
   ],
   "source": [
    "plt.figure(figsize=(12, 5))\n",
    "plt.grid(axis = 'both')\n",
    "\n",
    "# Строим график выручки группы А\n",
    "plt.plot(cumulativeRevenueA['date'], cumulativeRevenueA['revenue'], label='A')\n",
    "\n",
    "# Строим график выручки группы B\n",
    "plt.plot(cumulativeRevenueB['date'], cumulativeRevenueB['revenue'], label='B')\n",
    "\n",
    "plt.legend()\n",
    "plt.title('Кумулятивная выручка по группам')\n",
    "plt.xlabel('Даты')\n",
    "plt.ylabel('Выручка')\n",
    "plt.show()"
   ]
  },
  {
   "cell_type": "markdown",
   "metadata": {},
   "source": [
    "Группа В значительно лучше по накопленной выручке, чем А. Выручка увеличивается, как и должно быть. Однако график выручки группы В имеет прям очень резкий скачок. Это может сигнализировать о всплесках числа заказов, либо о появлении очень дорогих заказов в выборке. Вернемся к этому чуть позже."
   ]
  },
  {
   "cell_type": "markdown",
   "metadata": {},
   "source": [
    "#### Построим график кумулятивного среднего чека по группам. Сделаем выводы и предположения."
   ]
  },
  {
   "cell_type": "code",
   "execution_count": 32,
   "metadata": {
    "scrolled": true
   },
   "outputs": [
    {
     "data": {
      "image/png": "[encoded data removed]",
      "text/plain": [
       "<Figure size 864x360 with 1 Axes>"
      ]
     },
     "metadata": {
      "needs_background": "light"
     },
     "output_type": "display_data"
    }
   ],
   "source": [
    "plt.figure(figsize=(12, 5))\n",
    "plt.grid(axis = 'both')\n",
    "\n",
    "# Разделим кумулятивную выручку на кумулятивное число заказов\n",
    "plt.plot(cumulativeRevenueA['date'], cumulativeRevenueA['revenue']/cumulativeRevenueA['orders'], label='A')\n",
    "plt.plot(cumulativeRevenueB['date'], cumulativeRevenueB['revenue']/cumulativeRevenueB['orders'], label='B')\n",
    "plt.legend()\n",
    "plt.title('Кумулятивный средний чек по группам')\n",
    "plt.xlabel('Даты')\n",
    "plt.ylabel('Кумулятивный средний чек')\n",
    "plt.show()"
   ]
  },
  {
   "cell_type": "markdown",
   "metadata": {},
   "source": [
    "После резкого роста средний чек в группе В колеблется около 9000-10000 руб.\n",
    "\n",
    "В группе А после резкого падения, наблюдается подъем до 7 000 руб и далее небольшие колебания вокруг этой цифры.\n",
    "\n",
    "В целом показатели группы В лучше группы А. К концу теста поле резкого скачка группа В лидирует по среднему чеку, но имеет тенденцию к снижению.\n",
    "\n",
    "Предполагаю, что нужно отсеять крупные заказы, и тогда кривые выравняются."
   ]
  },
  {
   "cell_type": "markdown",
   "metadata": {},
   "source": [
    "#### Построим график относительного изменения кумулятивного среднего чека группы B к группе A. Сделаем выводы и предположения."
   ]
  },
  {
   "cell_type": "code",
   "execution_count": 33,
   "metadata": {},
   "outputs": [
    {
     "data": {
      "image/png": "[encoded data removed]",
      "text/plain": [
       "<Figure size 864x360 with 1 Axes>"
      ]
     },
     "metadata": {
      "needs_background": "light"
     },
     "output_type": "display_data"
    }
   ],
   "source": [
    "plt.figure(figsize=(12, 5))\n",
    "plt.grid(axis = 'both')\n",
    "\n",
    "# собираем данные в одном датафрейме\n",
    "mergedCumulativeRevenue = \\\n",
    "cumulativeRevenueA.merge(cumulativeRevenueB, left_on='date', right_on='date', how='left', suffixes=['A', 'B'])\n",
    "\n",
    "# cтроим отношение средних чеков\n",
    "plt.plot(mergedCumulativeRevenue['date'], \\\n",
    "(mergedCumulativeRevenue['revenueB']/mergedCumulativeRevenue['ordersB'])\\\n",
    "/(mergedCumulativeRevenue['revenueA']/mergedCumulativeRevenue['ordersA'])-1)\n",
    "\n",
    "# добавляем ось X\n",
    "plt.axhline(y=0, color='black', linestyle='--') \n",
    "\n",
    "plt.title('Относительное изменение кумулятивного среднего чека В к А')\n",
    "plt.xlabel('Даты')\n",
    "plt.ylabel('Изменение среднего чека')\n",
    "plt.show()"
   ]
  },
  {
   "cell_type": "markdown",
   "metadata": {},
   "source": [
    "Показатели группы В лучше, большая часть графика выше нулевой линии. Резкие скачки графика намекают нам о крупных заказах и выбросах..."
   ]
  },
  {
   "cell_type": "markdown",
   "metadata": {},
   "source": [
    "#### Построим график кумулятивного среднего количества заказов на посетителя по группам."
   ]
  },
  {
   "cell_type": "code",
   "execution_count": 34,
   "metadata": {},
   "outputs": [
    {
     "data": {
      "image/png": "[encoded data removed]",
      "text/plain": [
       "<Figure size 864x360 with 1 Axes>"
      ]
     },
     "metadata": {
      "needs_background": "light"
     },
     "output_type": "display_data"
    }
   ],
   "source": [
    "plt.figure(figsize=(12, 5))\n",
    "plt.grid(axis = 'both')\n",
    "\n",
    "# считаем кумулятивную конверсию\n",
    "cumulativeData['conversion'] = cumulativeData['orders']/cumulativeData['visitors']\n",
    "\n",
    "# отделяем данные по группе A\n",
    "cumulativeDataA = cumulativeData[cumulativeData['group']=='A']\n",
    "\n",
    "# отделяем данные по группе B\n",
    "cumulativeDataB = cumulativeData[cumulativeData['group']=='B']\n",
    "\n",
    "# строим графики\n",
    "plt.plot(cumulativeDataA['date'], cumulativeDataA['conversion'], label='A')\n",
    "plt.plot(cumulativeDataB['date'], cumulativeDataB['conversion'], label='B')\n",
    "plt.legend()\n",
    "\n",
    "plt.title('Кумулятивное среднее количество заказов на посетителя по группам')\n",
    "plt.xlabel('Даты')\n",
    "plt.ylabel('Среднее количество заказов')\n",
    "plt.show()"
   ]
  },
  {
   "cell_type": "markdown",
   "metadata": {},
   "source": [
    "Вначале в обеих группах наблюдались резкие скачки, но затем конверсия группы В вырвалась вперёд и более менее зафиксировалась, а конверсия группы А просела и также зафиксировалась."
   ]
  },
  {
   "cell_type": "markdown",
   "metadata": {},
   "source": [
    "#### Постройте график относительного изменения кумулятивного среднего количества заказов на посетителя группы B к группе A. Сделайте выводы и предположения."
   ]
  },
  {
   "cell_type": "code",
   "execution_count": 35,
   "metadata": {
    "scrolled": true
   },
   "outputs": [
    {
     "data": {
      "image/png": "[encoded data removed]",
      "text/plain": [
       "<Figure size 864x360 with 1 Axes>"
      ]
     },
     "metadata": {
      "needs_background": "light"
     },
     "output_type": "display_data"
    }
   ],
   "source": [
    "plt.figure(figsize=(12, 5))\n",
    "plt.grid(axis = 'both')\n",
    "\n",
    "# собираем данные в одном датафрейме\n",
    "mergedCumulativeRevenue = \\\n",
    "cumulativeRevenueA.merge(cumulativeRevenueB, left_on='date', right_on='date', how='left', suffixes=['A', 'B'])\n",
    "\n",
    "# cтроим отношение средних заказов\n",
    "plt.plot(mergedCumulativeRevenue['date'], (mergedCumulativeRevenue['ordersB'])/(mergedCumulativeRevenue['ordersA'])-1)\n",
    "\n",
    "# добавляем ось X\n",
    "plt.axhline(y=0, color='black', linestyle='--') \n",
    "\n",
    "plt.title('Относительное изменение кумулятивного среднего количества заказов на посетителя по группам')\n",
    "plt.xlabel('Даты')\n",
    "plt.ylabel('Изменение среднего количества заказов')\n",
    "plt.show()"
   ]
  },
  {
   "cell_type": "markdown",
   "metadata": {},
   "source": [
    "В первой половине теста наблюдается резкий скачок. Возможны выбросы по количеству заказов. А так в целом заказов в группе В больше, чем в А."
   ]
  },
  {
   "cell_type": "markdown",
   "metadata": {},
   "source": [
    "#### Постройте точечный график количества заказов по пользователям. Сделайте выводы и предположения.\n",
    "\n",
    "#### Посчитайте 95-й и 99-й перцентили количества заказов на пользователя. Выберите границу для определения аномальных пользователей."
   ]
  },
  {
   "cell_type": "markdown",
   "metadata": {},
   "source": [
    "Проверим выбросы по количеству заказов на одного уникального пользователя."
   ]
  },
  {
   "cell_type": "code",
   "execution_count": 36,
   "metadata": {
    "scrolled": false
   },
   "outputs": [
    {
     "data": {
      "text/html": [
       "<div>\n",
       "<style scoped>\n",
       "    .dataframe tbody tr th:only-of-type {\n",
       "        vertical-align: middle;\n",
       "    }\n",
       "\n",
       "    .dataframe tbody tr th {\n",
       "        vertical-align: top;\n",
       "    }\n",
       "\n",
       "    .dataframe thead th {\n",
       "        text-align: right;\n",
       "    }\n",
       "</style>\n",
       "<table border=\"1\" class=\"dataframe\">\n",
       "  <thead>\n",
       "    <tr style=\"text-align: right;\">\n",
       "      <th></th>\n",
       "      <th>visitor_id</th>\n",
       "      <th>count_transactions</th>\n",
       "    </tr>\n",
       "  </thead>\n",
       "  <tbody>\n",
       "    <tr>\n",
       "      <th>908</th>\n",
       "      <td>3967698036</td>\n",
       "      <td>3</td>\n",
       "    </tr>\n",
       "    <tr>\n",
       "      <th>55</th>\n",
       "      <td>249864742</td>\n",
       "      <td>3</td>\n",
       "    </tr>\n",
       "    <tr>\n",
       "      <th>478</th>\n",
       "      <td>2108163459</td>\n",
       "      <td>3</td>\n",
       "    </tr>\n",
       "    <tr>\n",
       "      <th>687</th>\n",
       "      <td>2988190573</td>\n",
       "      <td>3</td>\n",
       "    </tr>\n",
       "    <tr>\n",
       "      <th>890</th>\n",
       "      <td>3908431265</td>\n",
       "      <td>3</td>\n",
       "    </tr>\n",
       "    <tr>\n",
       "      <th>138</th>\n",
       "      <td>611059232</td>\n",
       "      <td>3</td>\n",
       "    </tr>\n",
       "    <tr>\n",
       "      <th>632</th>\n",
       "      <td>2742574263</td>\n",
       "      <td>3</td>\n",
       "    </tr>\n",
       "    <tr>\n",
       "      <th>157</th>\n",
       "      <td>678354126</td>\n",
       "      <td>2</td>\n",
       "    </tr>\n",
       "    <tr>\n",
       "      <th>323</th>\n",
       "      <td>1404560065</td>\n",
       "      <td>2</td>\n",
       "    </tr>\n",
       "    <tr>\n",
       "      <th>452</th>\n",
       "      <td>1985475298</td>\n",
       "      <td>2</td>\n",
       "    </tr>\n",
       "  </tbody>\n",
       "</table>\n",
       "</div>"
      ],
      "text/plain": [
       "     visitor_id  count_transactions\n",
       "908  3967698036                   3\n",
       "55    249864742                   3\n",
       "478  2108163459                   3\n",
       "687  2988190573                   3\n",
       "890  3908431265                   3\n",
       "138   611059232                   3\n",
       "632  2742574263                   3\n",
       "157   678354126                   2\n",
       "323  1404560065                   2\n",
       "452  1985475298                   2"
      ]
     },
     "execution_count": 36,
     "metadata": {},
     "output_type": "execute_result"
    }
   ],
   "source": [
    "ordersByUsers = (\n",
    "    orders.groupby('visitor_id', as_index=False)\n",
    "    .agg({'transaction_id': 'count'})\n",
    ")\n",
    "\n",
    "ordersByUsers.columns = ['visitor_id', 'count_transactions']\n",
    "\n",
    "ordersByUsers.sort_values(by='count_transactions', ascending=False).head(10)"
   ]
  },
  {
   "cell_type": "code",
   "execution_count": 37,
   "metadata": {},
   "outputs": [
    {
     "data": {
      "image/png": "[encoded data removed]",
      "text/plain": [
       "<Figure size 432x288 with 1 Axes>"
      ]
     },
     "metadata": {
      "needs_background": "light"
     },
     "output_type": "display_data"
    }
   ],
   "source": [
    "x_values = pd.Series(range(0,len(ordersByUsers['visitor_id'])))\n",
    "plt.scatter(x_values, ordersByUsers['count_transactions']) \n",
    "plt.title('Распределение пользователей по количеству заказов')\n",
    "plt.xlabel('Пользователи')\n",
    "plt.ylabel('Количество заказов')\n",
    "plt.show()"
   ]
  },
  {
   "cell_type": "markdown",
   "metadata": {},
   "source": [
    "Да, есть пользователи, которые совершали 2 и 3 заказа. Насколько это нормально? Посчитаем выборочные перцентили количества заказов на одного пользователя."
   ]
  },
  {
   "cell_type": "code",
   "execution_count": 38,
   "metadata": {},
   "outputs": [
    {
     "data": {
      "text/plain": [
       "array([1., 2.])"
      ]
     },
     "execution_count": 38,
     "metadata": {},
     "output_type": "execute_result"
    }
   ],
   "source": [
    "np.percentile(ordersByUsers['count_transactions'], [95, 99])"
   ]
  },
  {
   "cell_type": "markdown",
   "metadata": {},
   "source": [
    "Очевидно, что необходимо отсеять пользователей с тремя заказами."
   ]
  },
  {
   "cell_type": "code",
   "execution_count": 39,
   "metadata": {
    "scrolled": true
   },
   "outputs": [
    {
     "data": {
      "text/html": [
       "<div>\n",
       "<style scoped>\n",
       "    .dataframe tbody tr th:only-of-type {\n",
       "        vertical-align: middle;\n",
       "    }\n",
       "\n",
       "    .dataframe tbody tr th {\n",
       "        vertical-align: top;\n",
       "    }\n",
       "\n",
       "    .dataframe thead th {\n",
       "        text-align: right;\n",
       "    }\n",
       "</style>\n",
       "<table border=\"1\" class=\"dataframe\">\n",
       "  <thead>\n",
       "    <tr style=\"text-align: right;\">\n",
       "      <th></th>\n",
       "      <th>visitor_id</th>\n",
       "      <th>count_transactions</th>\n",
       "    </tr>\n",
       "  </thead>\n",
       "  <tbody>\n",
       "    <tr>\n",
       "      <th>55</th>\n",
       "      <td>249864742</td>\n",
       "      <td>3</td>\n",
       "    </tr>\n",
       "    <tr>\n",
       "      <th>138</th>\n",
       "      <td>611059232</td>\n",
       "      <td>3</td>\n",
       "    </tr>\n",
       "    <tr>\n",
       "      <th>478</th>\n",
       "      <td>2108163459</td>\n",
       "      <td>3</td>\n",
       "    </tr>\n",
       "    <tr>\n",
       "      <th>632</th>\n",
       "      <td>2742574263</td>\n",
       "      <td>3</td>\n",
       "    </tr>\n",
       "    <tr>\n",
       "      <th>687</th>\n",
       "      <td>2988190573</td>\n",
       "      <td>3</td>\n",
       "    </tr>\n",
       "    <tr>\n",
       "      <th>890</th>\n",
       "      <td>3908431265</td>\n",
       "      <td>3</td>\n",
       "    </tr>\n",
       "    <tr>\n",
       "      <th>908</th>\n",
       "      <td>3967698036</td>\n",
       "      <td>3</td>\n",
       "    </tr>\n",
       "  </tbody>\n",
       "</table>\n",
       "</div>"
      ],
      "text/plain": [
       "     visitor_id  count_transactions\n",
       "55    249864742                   3\n",
       "138   611059232                   3\n",
       "478  2108163459                   3\n",
       "632  2742574263                   3\n",
       "687  2988190573                   3\n",
       "890  3908431265                   3\n",
       "908  3967698036                   3"
      ]
     },
     "execution_count": 39,
     "metadata": {},
     "output_type": "execute_result"
    }
   ],
   "source": [
    "ordersByUsers_anomal = ordersByUsers.query('count_transactions == 3')\n",
    "ordersByUsers_anomal"
   ]
  },
  {
   "cell_type": "code",
   "execution_count": 40,
   "metadata": {},
   "outputs": [],
   "source": [
    "# удалим аномальных пользователей с тремя заказами из orders\n",
    "variable = ordersByUsers_anomal['visitor_id'].tolist()\n",
    "orders_normal = orders.query('visitor_id not in @variable')"
   ]
  },
  {
   "cell_type": "code",
   "execution_count": 41,
   "metadata": {},
   "outputs": [
    {
     "data": {
      "text/plain": [
       "966"
      ]
     },
     "execution_count": 41,
     "metadata": {},
     "output_type": "execute_result"
    }
   ],
   "source": [
    "# Проверим себя, было 973, должно стать 966\n",
    "len(orders_normal['visitor_id'].unique())"
   ]
  },
  {
   "cell_type": "markdown",
   "metadata": {},
   "source": [
    "#### Постройте точечный график стоимостей заказов. Сделайте выводы и предположения.\n",
    "\n",
    "#### Посчитайте 95-й и 99-й перцентили стоимости заказов. Выберите границу для определения аномальных заказов."
   ]
  },
  {
   "cell_type": "code",
   "execution_count": 42,
   "metadata": {},
   "outputs": [
    {
     "data": {
      "text/html": [
       "<div>\n",
       "<style scoped>\n",
       "    .dataframe tbody tr th:only-of-type {\n",
       "        vertical-align: middle;\n",
       "    }\n",
       "\n",
       "    .dataframe tbody tr th {\n",
       "        vertical-align: top;\n",
       "    }\n",
       "\n",
       "    .dataframe thead th {\n",
       "        text-align: right;\n",
       "    }\n",
       "</style>\n",
       "<table border=\"1\" class=\"dataframe\">\n",
       "  <thead>\n",
       "    <tr style=\"text-align: right;\">\n",
       "      <th></th>\n",
       "      <th>transaction_id</th>\n",
       "      <th>visitor_id</th>\n",
       "      <th>date</th>\n",
       "      <th>revenue</th>\n",
       "      <th>group</th>\n",
       "    </tr>\n",
       "  </thead>\n",
       "  <tbody>\n",
       "    <tr>\n",
       "      <th>425</th>\n",
       "      <td>590470918</td>\n",
       "      <td>1920142716</td>\n",
       "      <td>2019-08-19</td>\n",
       "      <td>1294500</td>\n",
       "      <td>B</td>\n",
       "    </tr>\n",
       "    <tr>\n",
       "      <th>1196</th>\n",
       "      <td>3936777065</td>\n",
       "      <td>2108080724</td>\n",
       "      <td>2019-08-15</td>\n",
       "      <td>202740</td>\n",
       "      <td>B</td>\n",
       "    </tr>\n",
       "    <tr>\n",
       "      <th>1136</th>\n",
       "      <td>666610489</td>\n",
       "      <td>1307669133</td>\n",
       "      <td>2019-08-13</td>\n",
       "      <td>92550</td>\n",
       "      <td>A</td>\n",
       "    </tr>\n",
       "    <tr>\n",
       "      <th>744</th>\n",
       "      <td>3668308183</td>\n",
       "      <td>888512513</td>\n",
       "      <td>2019-08-27</td>\n",
       "      <td>86620</td>\n",
       "      <td>B</td>\n",
       "    </tr>\n",
       "    <tr>\n",
       "      <th>743</th>\n",
       "      <td>3603576309</td>\n",
       "      <td>4133034833</td>\n",
       "      <td>2019-08-09</td>\n",
       "      <td>67990</td>\n",
       "      <td>A</td>\n",
       "    </tr>\n",
       "    <tr>\n",
       "      <th>...</th>\n",
       "      <td>...</td>\n",
       "      <td>...</td>\n",
       "      <td>...</td>\n",
       "      <td>...</td>\n",
       "      <td>...</td>\n",
       "    </tr>\n",
       "    <tr>\n",
       "      <th>404</th>\n",
       "      <td>2052514069</td>\n",
       "      <td>1995481842</td>\n",
       "      <td>2019-08-28</td>\n",
       "      <td>70</td>\n",
       "      <td>B</td>\n",
       "    </tr>\n",
       "    <tr>\n",
       "      <th>933</th>\n",
       "      <td>3760662696</td>\n",
       "      <td>3577713868</td>\n",
       "      <td>2019-08-27</td>\n",
       "      <td>60</td>\n",
       "      <td>B</td>\n",
       "    </tr>\n",
       "    <tr>\n",
       "      <th>584</th>\n",
       "      <td>1126146019</td>\n",
       "      <td>2705308997</td>\n",
       "      <td>2019-08-20</td>\n",
       "      <td>50</td>\n",
       "      <td>A</td>\n",
       "    </tr>\n",
       "    <tr>\n",
       "      <th>756</th>\n",
       "      <td>125335873</td>\n",
       "      <td>3423937755</td>\n",
       "      <td>2019-08-30</td>\n",
       "      <td>50</td>\n",
       "      <td>B</td>\n",
       "    </tr>\n",
       "    <tr>\n",
       "      <th>459</th>\n",
       "      <td>863448794</td>\n",
       "      <td>2738601405</td>\n",
       "      <td>2019-08-19</td>\n",
       "      <td>50</td>\n",
       "      <td>B</td>\n",
       "    </tr>\n",
       "  </tbody>\n",
       "</table>\n",
       "<p>1016 rows × 5 columns</p>\n",
       "</div>"
      ],
      "text/plain": [
       "      transaction_id  visitor_id       date  revenue group\n",
       "425        590470918  1920142716 2019-08-19  1294500     B\n",
       "1196      3936777065  2108080724 2019-08-15   202740     B\n",
       "1136       666610489  1307669133 2019-08-13    92550     A\n",
       "744       3668308183   888512513 2019-08-27    86620     B\n",
       "743       3603576309  4133034833 2019-08-09    67990     A\n",
       "...              ...         ...        ...      ...   ...\n",
       "404       2052514069  1995481842 2019-08-28       70     B\n",
       "933       3760662696  3577713868 2019-08-27       60     B\n",
       "584       1126146019  2705308997 2019-08-20       50     A\n",
       "756        125335873  3423937755 2019-08-30       50     B\n",
       "459        863448794  2738601405 2019-08-19       50     B\n",
       "\n",
       "[1016 rows x 5 columns]"
      ]
     },
     "execution_count": 42,
     "metadata": {},
     "output_type": "execute_result"
    }
   ],
   "source": [
    "orders.sort_values(by='revenue', ascending=False) "
   ]
  },
  {
   "cell_type": "code",
   "execution_count": 43,
   "metadata": {},
   "outputs": [
    {
     "data": {
      "image/png": "[encoded data removed]",
      "text/plain": [
       "<Figure size 432x288 with 1 Axes>"
      ]
     },
     "metadata": {
      "needs_background": "light"
     },
     "output_type": "display_data"
    }
   ],
   "source": [
    "x_values = pd.Series(range(0,len(orders['revenue'])))\n",
    "plt.scatter(x_values, orders['revenue']) \n",
    "plt.title('Распределение пользователей по стоимости заказов')\n",
    "plt.xlabel('Пользователи')\n",
    "plt.ylabel('Стоимость заказов')\n",
    "plt.show()"
   ]
  },
  {
   "cell_type": "markdown",
   "metadata": {},
   "source": [
    "Заказы на суммы 1,2 млн и 202 тыс - явные выбросы. Однако принято отсеивать от 1% до 5% наблюдений с крайними значениями. Найдем перцентили."
   ]
  },
  {
   "cell_type": "code",
   "execution_count": 44,
   "metadata": {},
   "outputs": [
    {
     "data": {
      "image/png": "[encoded data removed]",
      "text/plain": [
       "<Figure size 432x288 with 1 Axes>"
      ]
     },
     "metadata": {
      "needs_background": "light"
     },
     "output_type": "display_data"
    }
   ],
   "source": [
    "x_values = pd.Series(range(0,len(orders[orders['revenue'] < 202000])))\n",
    "plt.scatter(x_values, orders[orders['revenue'] < 202000]['revenue']) \n",
    "plt.title('Распределение пользователей по стоимости заказов')\n",
    "plt.xlabel('Пользователи')\n",
    "plt.ylabel('Стоимость заказов')\n",
    "plt.show()"
   ]
  },
  {
   "cell_type": "code",
   "execution_count": 45,
   "metadata": {},
   "outputs": [
    {
     "data": {
      "text/plain": [
       "array([26785., 53904.])"
      ]
     },
     "execution_count": 45,
     "metadata": {},
     "output_type": "execute_result"
    }
   ],
   "source": [
    "np.percentile(orders['revenue'], [95, 99])"
   ]
  },
  {
   "cell_type": "markdown",
   "metadata": {},
   "source": [
    "Удалим данные с заказами на сумму свыше 26 785 рублей (95 перцентилей)."
   ]
  },
  {
   "cell_type": "code",
   "execution_count": 46,
   "metadata": {},
   "outputs": [],
   "source": [
    "x = np.percentile(orders['revenue'], 95)\n",
    "orders_normal = orders.query('revenue < @ x')"
   ]
  },
  {
   "cell_type": "code",
   "execution_count": 48,
   "metadata": {},
   "outputs": [
    {
     "name": "stdout",
     "output_type": "stream",
     "text": [
      "абсолютные потери: 108\n",
      "относительные потери: 0.1\n"
     ]
    }
   ],
   "source": [
    "# абсолютные потери, количество аномальных пользователей\n",
    "lost = uniq_visitor_before - len(orders_normal['visitor_id'].unique())\n",
    "print('абсолютные потери:', lost)\n",
    "\n",
    "# относительные потери кол-во аномальных пользователей/общее количество уникальных пользователей из orders\n",
    "relative_lost = lost/uniq_visitor_before\n",
    "print('относительные потери:', np.round(relative_lost, decimals=2))"
   ]
  },
  {
   "cell_type": "markdown",
   "metadata": {},
   "source": [
    "#### Посчитайте статистическую значимость различий в среднем количестве заказов на посетителя между группами между группами по «сырым» данным. Сделайте выводы и предположения."
   ]
  },
  {
   "cell_type": "markdown",
   "metadata": {},
   "source": [
    "В случае, когда в данных есть большие (по сравнению с нормальным распределением) выбросы, параметрические тесты работают плохо. Поэтому в данном случае для А/В тестирования применим метод Манна-Уитни."
   ]
  },
  {
   "cell_type": "markdown",
   "metadata": {},
   "source": [
    "Сформулируем гипотезы. \n",
    "\n",
    "Нулевая: различий в среднем количестве заказов между группами нет. \n",
    "\n",
    "Альтернативная: различия в среднем между группами есть."
   ]
  },
  {
   "cell_type": "code",
   "execution_count": 49,
   "metadata": {},
   "outputs": [
    {
     "name": "stdout",
     "output_type": "stream",
     "text": [
      "p-value: 0.01102\n",
      "относительная разница между сравниваемыми величинами: 0.160\n"
     ]
    }
   ],
   "source": [
    "visitorsADaily = visitors[visitors['group'] == 'A'][['date', 'visitors']]\n",
    "visitorsADaily.columns = ['date', 'visitorsPerDateA']\n",
    "\n",
    "visitorsBDaily = visitors[visitors['group'] == 'B'][['date', 'visitors']]\n",
    "visitorsBDaily.columns = ['date', 'visitorsPerDateB']\n",
    "\n",
    "ordersByUsersA = (\n",
    "    orders[orders['group'] == 'A']\n",
    "    .groupby('visitor_id', as_index=False)\n",
    "    .agg({'transaction_id': pd.Series.nunique})\n",
    ")\n",
    "ordersByUsersA.columns = ['userId', 'orders']\n",
    "\n",
    "ordersByUsersB = (\n",
    "    orders[orders['group'] == 'B']\n",
    "    .groupby('visitor_id', as_index=False)\n",
    "    .agg({'transaction_id': pd.Series.nunique})\n",
    ")\n",
    "ordersByUsersB.columns = ['userId', 'orders']\n",
    "\n",
    "sampleA = pd.concat([ordersByUsersA['orders'],pd.Series(0, index=np.arange(visitorsADaily['visitorsPerDateA'].sum() - len(ordersByUsersA['orders'])), name='orders')],axis=0)\n",
    "\n",
    "sampleB = pd.concat([ordersByUsersB['orders'],pd.Series(0, index=np.arange(visitorsBDaily['visitorsPerDateB'].sum() - len(ordersByUsersB['orders'])), name='orders')],axis=0)\n",
    "\n",
    "print('p-value:', \"{0:.5f}\".format(stats.mannwhitneyu(sampleA, sampleB)[1]))\n",
    "\n",
    "print('относительная разница между сравниваемыми величинами:', \"{0:.3f}\".format(sampleB.mean() / sampleA.mean() - 1))"
   ]
  },
  {
   "cell_type": "markdown",
   "metadata": {},
   "source": [
    " p-value = 0.01102 меньше 0.05. Значит, нулевую гипотезу о том, что статистически значимых различий в среднем числе заказов между группами нет, отвергаем. Относительный проигрыш группы А равен 16% — второе число в выводе."
   ]
  },
  {
   "cell_type": "markdown",
   "metadata": {},
   "source": [
    "#### Посчитайте статистическую значимость различий в среднем чеке заказа между группами по «сырым» данным. Сделайте выводы и предположения."
   ]
  },
  {
   "cell_type": "markdown",
   "metadata": {},
   "source": [
    "Нулевая: различий в среднем чеке заказа между группами нет.\n",
    "\n",
    "Альтернативная: различия в среднем чеке между группами есть."
   ]
  },
  {
   "cell_type": "code",
   "execution_count": 50,
   "metadata": {},
   "outputs": [
    {
     "name": "stdout",
     "output_type": "stream",
     "text": [
      "p-value: 0.829\n",
      "относительная разница между сравниваемыми величинами: 0.287\n"
     ]
    }
   ],
   "source": [
    "print('p-value:', '{0:.3f}'.format(stats.mannwhitneyu(orders[orders['group']=='A']['revenue'], orders[orders['group']=='B']['revenue'])[1]))\n",
    "print('относительная разница между сравниваемыми величинами:', '{0:.3f}'.format(orders[orders['group']=='B']['revenue'].mean()/orders[orders['group']=='A']['revenue'].mean()-1))"
   ]
  },
  {
   "cell_type": "markdown",
   "metadata": {},
   "source": [
    " p-value = 0.829 больше 0.05. Значит, нулевую гипотезу о том, что статистически значимых различий в среднем числе заказов между группами нет, не отвергаем. Относительный проигрыш группы А равен 28,7% — второе число в выводе.\n",
    " \n",
    " Очень странный результат. С одной стороны - разницы между группами нет, а с другой стороны относительная разница 28,7%.\n",
    " \n",
    " Почему так? - потому что на сырых данных, не очищенных от выбросов и аномалий, тест может вести себя некорректно."
   ]
  },
  {
   "cell_type": "markdown",
   "metadata": {},
   "source": [
    "#### Посчитайте статистическую значимость различий в среднем количестве заказов на посетителя между группами между группами по «очищенным» данным. Сделайте выводы и предположения."
   ]
  },
  {
   "cell_type": "markdown",
   "metadata": {},
   "source": [
    "Нулевая: различий в среднем количестве заказов между группами нет.\n",
    "\n",
    "Альтернативная: различия в среднем между группами есть."
   ]
  },
  {
   "cell_type": "code",
   "execution_count": 51,
   "metadata": {},
   "outputs": [
    {
     "name": "stdout",
     "output_type": "stream",
     "text": [
      "p-value: 0.01873\n",
      "относительная разница между сравниваемыми величинами: 0.153\n"
     ]
    }
   ],
   "source": [
    "ordersADaily = (\n",
    "    orders_normal[orders_normal['group'] == 'A'][['date', 'transaction_id', 'visitor_id', 'revenue']]\n",
    "    .groupby('date', as_index=False)\n",
    "    .agg({'transaction_id': pd.Series.nunique, 'revenue': 'sum'})\n",
    ")\n",
    "ordersADaily.columns = ['date', 'ordersPerDateA', 'revenuePerDateA']\n",
    "\n",
    "ordersBDaily = (\n",
    "    orders_normal[orders_normal['group'] == 'B'][['date', 'transaction_id', 'visitor_id', 'revenue']]\n",
    "    .groupby('date', as_index=False)\n",
    "    .agg({'transaction_id': pd.Series.nunique, 'revenue': 'sum'})\n",
    ")\n",
    "ordersBDaily.columns = ['date', 'ordersPerDateB', 'revenuePerDateB']\n",
    "\n",
    "ordersByUsersA = (\n",
    "    orders_normal[orders_normal['group'] == 'A']\n",
    "    .groupby('visitor_id', as_index=False)\n",
    "    .agg({'transaction_id': pd.Series.nunique})\n",
    ")\n",
    "ordersByUsersA.columns = ['userId', 'orders']\n",
    "\n",
    "ordersByUsersB = (\n",
    "    orders_normal[orders_normal['group'] == 'B']\n",
    "    .groupby('visitor_id', as_index=False)\n",
    "    .agg({'transaction_id': pd.Series.nunique})\n",
    ")\n",
    "ordersByUsersB.columns = ['userId', 'orders']\n",
    "\n",
    "sampleA = pd.concat([ordersByUsersA['orders'],pd.Series(0, index=np.arange(visitorsADaily['visitorsPerDateA'].sum() - len(ordersByUsersA['orders'])), name='orders')],axis=0)\n",
    "\n",
    "sampleB = pd.concat([ordersByUsersB['orders'],pd.Series(0, index=np.arange(visitorsBDaily['visitorsPerDateB'].sum() - len(ordersByUsersB['orders'])), name='orders')],axis=0)\n",
    "\n",
    "print('p-value:', \"{0:.5f}\".format(stats.mannwhitneyu(sampleA, sampleB)[1]))\n",
    "\n",
    "print('относительная разница между сравниваемыми величинами:', \"{0:.3f}\".format(sampleB.mean() / sampleA.mean() - 1))"
   ]
  },
  {
   "cell_type": "markdown",
   "metadata": {},
   "source": [
    " p-value = 0.01873 меньше 0.05. Значит, нулевую гипотезу о том, что статистически значимых различий в среднем числе заказов между группами нет, отвергаем. Относительный проигрыш группы А равен 15,3% — второе число в выводе.\n",
    " \n",
    " p-value и относительный результат немного изменились, но не критично. Выводы те же что и по сырым данным. Разница между группами А и В в среднем количестве заказов есть!"
   ]
  },
  {
   "cell_type": "markdown",
   "metadata": {},
   "source": [
    "#### Посчитайте статистическую значимость различий в среднем чеке заказа между группами по «очищенным» данным. Сделайте выводы и предположения."
   ]
  },
  {
   "cell_type": "markdown",
   "metadata": {},
   "source": [
    "Нулевая: различий в среднем чеке заказа между группами нет.\n",
    "\n",
    "Альтернативная: различия в среднем чеке между группами есть."
   ]
  },
  {
   "cell_type": "code",
   "execution_count": 52,
   "metadata": {},
   "outputs": [
    {
     "name": "stdout",
     "output_type": "stream",
     "text": [
      "p-value: 0.699\n",
      "относительная разница между сравниваемыми величинами: -0.059\n"
     ]
    }
   ],
   "source": [
    "print('p-value:', '{0:.3f}'.format(stats.mannwhitneyu(orders_normal[orders_normal['group']=='A']['revenue'], \\\n",
    "                                          orders_normal[orders_normal['group']=='B']['revenue'])[1]))\n",
    "print('относительная разница между сравниваемыми величинами:', '{0:.3f}'.format(orders_normal[orders_normal['group']=='B']['revenue']\\\n",
    "                       .mean()/orders_normal[orders_normal['group']=='A']['revenue'].mean()-1))"
   ]
  },
  {
   "cell_type": "markdown",
   "metadata": {},
   "source": [
    " p-value = 0.699 больше 0.05. Значит, нулевую гипотезу о том, что статистически значимых различий в среднем числе заказов между группами нет, не отвергаем. Относительный проигрыш группы В равен 5.9% — второе число в выводе.\n",
    " \n",
    "Теперь результаты по очищенным данным корректны. Относительная разница между группами всего 5,9% в пользу группы А."
   ]
  },
  {
   "cell_type": "markdown",
   "metadata": {},
   "source": [
    "#### Примите решение по результатам теста и объясните его. Варианты решений:\n",
    "1. Остановить тест, зафиксировать победу одной из групп.\n",
    "2. Остановить тест, зафиксировать отсутствие различий между группами.\n",
    "\n",
    "3. Продолжить тест."
   ]
  },
  {
   "cell_type": "markdown",
   "metadata": {},
   "source": [
    "- Есть статистически значимое различие по среднему количеству заказов на пользователя между группами как по сырым данным, так и после фильтрации аномалий.\n",
    "\n",
    "- График различия по среднему количеству заказов между группами сообщает, что результаты группы B лучше группы A, и имеют тенденцию к росту.\n",
    "\n",
    "- График различия среднего чека колеблется: он-то и позволил нам найти аномалии. Сделать из этого графика определённые выводы нельзя.\n",
    "\n",
    "- По сырым данным и по данным после удаления аномалий есть статистически значимое различие по среднему количеству заказов между граппами.\n",
    "\n",
    "- По сырым данным и по данным после удаления аномалий статистически значимого различия по среднему чеку между группами нет.\n",
    "\n",
    "**Вывод:** Можно зафиксировать лучшие результаты в группе В относительно группы А по среднему количеству заказов, и при этом отсутствие различий по среднему чеку. Тест остановить и перейти к проверке других гипотез."
   ]
  },
  {
   "cell_type": "markdown",
   "metadata": {},
   "source": [
    "## Общий вывод"
   ]
  },
  {
   "cell_type": "markdown",
   "metadata": {},
   "source": [
    "Напомним, что **цель нашего исследования** — приоритизировать гипотезы для увеличения выручки интернет-магазина, запутить А/В тест и проанализировать его результаты."
   ]
  },
  {
   "cell_type": "markdown",
   "metadata": {},
   "source": [
    "По методу RICE, используемому для приоритизации гипотез, с большим отрывом лидирует гипотеза \"Добавить форму подписки на все основные страницы, чтобы собрать базу клиентов для email-рассылок\".\n",
    "\n",
    "\n",
    "Для проведения анализа мы подготовили данные: проверили на пропуски, привели к необходимому формату.\n",
    "\n",
    "В рамках подготовки к А/В тестированию проверили правильность деления на группы.\n",
    "\n",
    "В ходе А/В теста мы изучили графики кумулятивной выручки по группам, графики кумулятивного среднего чека по граппам и среднего количества заказов на посетителя.\n",
    "\n",
    "- Группа В значительно лучше по накопленной выручке, чем А. \n",
    "\n",
    "- По среднему чеку в целом показатели группы В лучше группы А. Однако к концу теста поле резкого скачка группа В хоть и лидирует по среднему чеку, но имеет тенденцию к снижению. Это своевременно навело нас на мысль о наличии аномально крупных заказов, которые в дальнейшем для корректного анализа мы отсеяли.\n",
    "\n",
    "- По среднему количеству заказов группа В лидирует, однако в данных также обнаружены пользователи с аномально большим количеством заказов, которые влияют на результаты анализа и корректность выводов.\n",
    "\n",
    "Далее была проведена проверка на статистическую значимость результатов по методу Манна-Уитни, которая показала, что:\n",
    "- Есть статистически значимое различие по среднему количеству заказов на пользователя между группами как по сырым данным, так и после фильтрации аномалий.\n",
    "- График различия по среднему количеству заказов между группами показал, что результаты группы B лучше группы A, и имеют тенденцию к росту.\n",
    "- График различия среднего чека колеблется: он-то и позволил нам найти аномалии. Сделать из этого графика определённые выводы нельзя.\n",
    "- По сырым данным и по данным после удаления аномалий есть статистически значимое различие по среднему количеству заказов между граппами.\n",
    "- По сырым данным и по данным после удаления аномалий статистически значимого различия по среднему чеку между группами нет.\n",
    "\n",
    "**Вывод: Можно зафиксировать лучшие результаты в группе В относительно группы А по среднему количеству заказов, и при этом отсутствие различий по среднему чеку. Тест остановить и перейти к проверке других гипотез.**\n",
    "\n"
   ]
  }
 ],
 "metadata": {
  "ExecuteTimeLog": [
   {
    "duration": 548,
    "start_time": "2023-02-19T18:33:45.987Z"
   },
   {
    "duration": 35,
    "start_time": "2023-02-19T18:33:55.145Z"
   },
   {
    "duration": 31,
    "start_time": "2023-02-19T18:34:13.434Z"
   },
   {
    "duration": 35,
    "start_time": "2023-02-19T18:36:01.800Z"
   },
   {
    "duration": 33,
    "start_time": "2023-02-19T18:36:49.957Z"
   },
   {
    "duration": 1228,
    "start_time": "2023-02-19T18:39:13.531Z"
   },
   {
    "duration": 34,
    "start_time": "2023-02-19T18:39:25.757Z"
   },
   {
    "duration": 3,
    "start_time": "2023-02-19T18:43:41.632Z"
   },
   {
    "duration": 29,
    "start_time": "2023-02-19T18:43:49.588Z"
   },
   {
    "duration": 10,
    "start_time": "2023-02-19T18:44:06.859Z"
   },
   {
    "duration": 8,
    "start_time": "2023-02-19T18:46:35.604Z"
   },
   {
    "duration": 7,
    "start_time": "2023-02-19T18:46:57.527Z"
   },
   {
    "duration": 5,
    "start_time": "2023-02-19T18:47:04.470Z"
   },
   {
    "duration": 4,
    "start_time": "2023-02-19T18:49:09.399Z"
   },
   {
    "duration": 82,
    "start_time": "2023-02-19T18:49:27.776Z"
   },
   {
    "duration": 11,
    "start_time": "2023-02-19T18:49:39.975Z"
   },
   {
    "duration": 13,
    "start_time": "2023-02-19T18:52:20.434Z"
   },
   {
    "duration": 17,
    "start_time": "2023-02-19T18:52:26.918Z"
   },
   {
    "duration": 10,
    "start_time": "2023-02-19T18:52:48.523Z"
   },
   {
    "duration": 428,
    "start_time": "2023-02-19T18:52:54.767Z"
   },
   {
    "duration": 4,
    "start_time": "2023-02-19T18:52:55.197Z"
   },
   {
    "duration": 14,
    "start_time": "2023-02-19T18:52:55.202Z"
   },
   {
    "duration": 71,
    "start_time": "2023-02-19T18:52:55.217Z"
   },
   {
    "duration": 11,
    "start_time": "2023-02-19T18:53:08.854Z"
   },
   {
    "duration": 30,
    "start_time": "2023-02-19T19:08:08.924Z"
   },
   {
    "duration": 28,
    "start_time": "2023-02-19T19:09:00.258Z"
   },
   {
    "duration": 30,
    "start_time": "2023-02-19T19:09:13.684Z"
   },
   {
    "duration": 31,
    "start_time": "2023-02-19T19:10:58.318Z"
   },
   {
    "duration": 31,
    "start_time": "2023-02-19T19:11:08.075Z"
   },
   {
    "duration": 105,
    "start_time": "2023-02-19T19:34:41.671Z"
   },
   {
    "duration": 54,
    "start_time": "2023-02-19T19:35:13.331Z"
   },
   {
    "duration": 61,
    "start_time": "2023-02-19T19:35:29.999Z"
   },
   {
    "duration": 58,
    "start_time": "2023-02-19T19:35:37.767Z"
   },
   {
    "duration": 6,
    "start_time": "2023-02-19T19:37:20.360Z"
   },
   {
    "duration": 5,
    "start_time": "2023-02-19T19:44:39.116Z"
   },
   {
    "duration": 8,
    "start_time": "2023-02-19T19:47:30.855Z"
   },
   {
    "duration": 6,
    "start_time": "2023-02-19T19:47:36.060Z"
   },
   {
    "duration": 57,
    "start_time": "2023-02-19T19:47:46.394Z"
   },
   {
    "duration": 57,
    "start_time": "2023-02-19T19:48:15.527Z"
   },
   {
    "duration": 11,
    "start_time": "2023-02-19T19:48:41.086Z"
   },
   {
    "duration": 8,
    "start_time": "2023-02-19T19:49:13.557Z"
   },
   {
    "duration": 11,
    "start_time": "2023-02-19T19:49:14.601Z"
   },
   {
    "duration": 410,
    "start_time": "2023-02-19T19:49:20.852Z"
   },
   {
    "duration": 5,
    "start_time": "2023-02-19T19:49:21.266Z"
   },
   {
    "duration": 13,
    "start_time": "2023-02-19T19:49:21.273Z"
   },
   {
    "duration": 10,
    "start_time": "2023-02-19T19:49:21.288Z"
   },
   {
    "duration": 46,
    "start_time": "2023-02-19T19:49:21.299Z"
   },
   {
    "duration": 4,
    "start_time": "2023-02-19T19:49:21.347Z"
   },
   {
    "duration": 8,
    "start_time": "2023-02-19T19:49:21.352Z"
   },
   {
    "duration": 10,
    "start_time": "2023-02-19T19:49:21.361Z"
   },
   {
    "duration": 5,
    "start_time": "2023-02-19T19:54:20.484Z"
   },
   {
    "duration": 13,
    "start_time": "2023-02-19T19:54:36.415Z"
   },
   {
    "duration": 14,
    "start_time": "2023-02-19T19:54:52.823Z"
   },
   {
    "duration": 6,
    "start_time": "2023-02-19T19:55:05.955Z"
   },
   {
    "duration": 7,
    "start_time": "2023-02-19T19:55:17.977Z"
   },
   {
    "duration": 5,
    "start_time": "2023-02-19T19:55:58.800Z"
   },
   {
    "duration": 52,
    "start_time": "2023-02-19T19:57:43.011Z"
   },
   {
    "duration": 51,
    "start_time": "2023-02-19T19:59:35.662Z"
   },
   {
    "duration": 127,
    "start_time": "2023-02-19T20:00:37.692Z"
   },
   {
    "duration": 29,
    "start_time": "2023-02-19T20:00:43.055Z"
   },
   {
    "duration": 5,
    "start_time": "2023-02-19T20:01:55.996Z"
   },
   {
    "duration": 10,
    "start_time": "2023-02-19T20:02:16.218Z"
   },
   {
    "duration": 5,
    "start_time": "2023-02-19T20:03:46.323Z"
   },
   {
    "duration": 10,
    "start_time": "2023-02-19T20:04:03.256Z"
   },
   {
    "duration": 3,
    "start_time": "2023-02-19T20:04:10.687Z"
   },
   {
    "duration": 29,
    "start_time": "2023-02-19T20:20:29.558Z"
   },
   {
    "duration": 10,
    "start_time": "2023-02-19T20:25:43.844Z"
   },
   {
    "duration": 9,
    "start_time": "2023-02-19T20:26:54.089Z"
   },
   {
    "duration": 3,
    "start_time": "2023-02-19T20:29:11.731Z"
   },
   {
    "duration": 3,
    "start_time": "2023-02-19T20:29:41.428Z"
   },
   {
    "duration": 1482,
    "start_time": "2023-02-19T20:32:51.267Z"
   },
   {
    "duration": 1115,
    "start_time": "2023-02-19T20:33:01.344Z"
   },
   {
    "duration": 424,
    "start_time": "2023-02-19T20:34:05.131Z"
   },
   {
    "duration": 4,
    "start_time": "2023-02-19T20:34:05.558Z"
   },
   {
    "duration": 12,
    "start_time": "2023-02-19T20:34:05.564Z"
   },
   {
    "duration": 10,
    "start_time": "2023-02-19T20:34:05.577Z"
   },
   {
    "duration": 45,
    "start_time": "2023-02-19T20:34:05.589Z"
   },
   {
    "duration": 5,
    "start_time": "2023-02-19T20:34:05.635Z"
   },
   {
    "duration": 15,
    "start_time": "2023-02-19T20:34:05.641Z"
   },
   {
    "duration": 12,
    "start_time": "2023-02-19T20:34:05.658Z"
   },
   {
    "duration": 17,
    "start_time": "2023-02-19T20:34:05.671Z"
   },
   {
    "duration": 22,
    "start_time": "2023-02-19T20:34:05.690Z"
   },
   {
    "duration": 5,
    "start_time": "2023-02-19T20:34:05.714Z"
   },
   {
    "duration": 12,
    "start_time": "2023-02-19T20:34:05.720Z"
   },
   {
    "duration": 13,
    "start_time": "2023-02-19T20:34:05.733Z"
   },
   {
    "duration": 11,
    "start_time": "2023-02-19T20:34:05.748Z"
   },
   {
    "duration": 12,
    "start_time": "2023-02-19T20:34:05.760Z"
   },
   {
    "duration": 6,
    "start_time": "2023-02-19T20:34:05.773Z"
   },
   {
    "duration": 64,
    "start_time": "2023-02-19T20:34:17.862Z"
   },
   {
    "duration": 5,
    "start_time": "2023-02-19T20:35:52.873Z"
   },
   {
    "duration": 13,
    "start_time": "2023-02-19T20:37:20.056Z"
   },
   {
    "duration": 10,
    "start_time": "2023-02-19T20:37:31.692Z"
   },
   {
    "duration": 4,
    "start_time": "2023-02-19T20:38:02.986Z"
   },
   {
    "duration": 4,
    "start_time": "2023-02-19T20:39:11.968Z"
   },
   {
    "duration": 3,
    "start_time": "2023-02-19T20:41:43.587Z"
   },
   {
    "duration": 73,
    "start_time": "2023-02-19T20:46:12.063Z"
   },
   {
    "duration": 10,
    "start_time": "2023-02-19T20:46:37.427Z"
   },
   {
    "duration": 8,
    "start_time": "2023-02-19T20:47:05.776Z"
   },
   {
    "duration": 8,
    "start_time": "2023-02-19T20:47:55.627Z"
   },
   {
    "duration": 4,
    "start_time": "2023-02-19T20:49:00.549Z"
   },
   {
    "duration": 10,
    "start_time": "2023-02-19T20:53:34.833Z"
   },
   {
    "duration": 4,
    "start_time": "2023-02-19T20:53:35.455Z"
   },
   {
    "duration": 8,
    "start_time": "2023-02-19T20:54:19.429Z"
   },
   {
    "duration": 66,
    "start_time": "2023-02-19T20:58:31.031Z"
   },
   {
    "duration": 8,
    "start_time": "2023-02-19T20:58:54.337Z"
   },
   {
    "duration": 70,
    "start_time": "2023-02-20T07:09:51.898Z"
   },
   {
    "duration": 9,
    "start_time": "2023-02-20T07:10:14.190Z"
   },
   {
    "duration": 14,
    "start_time": "2023-02-20T07:10:39.533Z"
   },
   {
    "duration": 565,
    "start_time": "2023-02-20T07:11:08.117Z"
   },
   {
    "duration": 6,
    "start_time": "2023-02-20T07:11:08.686Z"
   },
   {
    "duration": 25,
    "start_time": "2023-02-20T07:11:08.694Z"
   },
   {
    "duration": 22,
    "start_time": "2023-02-20T07:11:08.721Z"
   },
   {
    "duration": 114,
    "start_time": "2023-02-20T07:11:08.750Z"
   },
   {
    "duration": 5,
    "start_time": "2023-02-20T07:11:08.866Z"
   },
   {
    "duration": 10,
    "start_time": "2023-02-20T07:11:08.873Z"
   },
   {
    "duration": 14,
    "start_time": "2023-02-20T07:11:08.886Z"
   },
   {
    "duration": 9,
    "start_time": "2023-02-20T07:11:08.903Z"
   },
   {
    "duration": 76,
    "start_time": "2023-02-20T07:11:08.914Z"
   },
   {
    "duration": 8,
    "start_time": "2023-02-20T07:11:08.991Z"
   },
   {
    "duration": 133,
    "start_time": "2023-02-20T07:11:09.002Z"
   },
   {
    "duration": 20,
    "start_time": "2023-02-20T07:11:09.137Z"
   },
   {
    "duration": 18,
    "start_time": "2023-02-20T07:11:09.161Z"
   },
   {
    "duration": 11,
    "start_time": "2023-02-20T07:11:09.183Z"
   },
   {
    "duration": 11,
    "start_time": "2023-02-20T07:11:09.196Z"
   },
   {
    "duration": 14,
    "start_time": "2023-02-20T07:11:09.209Z"
   },
   {
    "duration": 127,
    "start_time": "2023-02-20T07:11:09.225Z"
   },
   {
    "duration": 52,
    "start_time": "2023-02-20T07:11:40.169Z"
   },
   {
    "duration": 8,
    "start_time": "2023-02-20T07:12:16.143Z"
   },
   {
    "duration": 16,
    "start_time": "2023-02-20T07:13:29.296Z"
   },
   {
    "duration": 13,
    "start_time": "2023-02-20T07:13:53.971Z"
   },
   {
    "duration": 75,
    "start_time": "2023-02-20T07:20:04.210Z"
   },
   {
    "duration": 56,
    "start_time": "2023-02-20T07:20:10.857Z"
   },
   {
    "duration": 41,
    "start_time": "2023-02-20T07:20:22.158Z"
   },
   {
    "duration": 56,
    "start_time": "2023-02-20T07:21:00.855Z"
   },
   {
    "duration": 50,
    "start_time": "2023-02-20T07:24:17.249Z"
   },
   {
    "duration": 9,
    "start_time": "2023-02-20T07:38:58.420Z"
   },
   {
    "duration": 8,
    "start_time": "2023-02-20T07:39:11.489Z"
   },
   {
    "duration": 166,
    "start_time": "2023-02-20T07:40:06.199Z"
   },
   {
    "duration": 128,
    "start_time": "2023-02-20T07:40:16.688Z"
   },
   {
    "duration": 32,
    "start_time": "2023-02-20T07:40:28.584Z"
   },
   {
    "duration": 23,
    "start_time": "2023-02-20T07:40:41.780Z"
   },
   {
    "duration": 102,
    "start_time": "2023-02-20T07:41:16.218Z"
   },
   {
    "duration": 25,
    "start_time": "2023-02-20T07:51:28.726Z"
   },
   {
    "duration": 20,
    "start_time": "2023-02-20T07:51:56.319Z"
   },
   {
    "duration": 32,
    "start_time": "2023-02-20T07:52:20.125Z"
   },
   {
    "duration": 33,
    "start_time": "2023-02-20T07:54:12.262Z"
   },
   {
    "duration": 79,
    "start_time": "2023-02-20T07:55:00.432Z"
   },
   {
    "duration": 28,
    "start_time": "2023-02-20T07:55:16.913Z"
   },
   {
    "duration": 22,
    "start_time": "2023-02-20T07:55:33.185Z"
   },
   {
    "duration": 46,
    "start_time": "2023-02-20T07:56:00.325Z"
   },
   {
    "duration": 16,
    "start_time": "2023-02-20T07:56:32.668Z"
   },
   {
    "duration": 14,
    "start_time": "2023-02-20T07:57:27.373Z"
   },
   {
    "duration": 14,
    "start_time": "2023-02-20T07:57:38.478Z"
   },
   {
    "duration": 15,
    "start_time": "2023-02-20T07:57:53.665Z"
   },
   {
    "duration": 14,
    "start_time": "2023-02-20T07:58:12.672Z"
   },
   {
    "duration": 50,
    "start_time": "2023-02-20T08:00:43.945Z"
   },
   {
    "duration": 11,
    "start_time": "2023-02-20T08:01:54.491Z"
   },
   {
    "duration": 78,
    "start_time": "2023-02-20T08:02:17.691Z"
   },
   {
    "duration": 10,
    "start_time": "2023-02-20T08:06:20.687Z"
   },
   {
    "duration": 65,
    "start_time": "2023-02-20T08:08:04.920Z"
   },
   {
    "duration": 41,
    "start_time": "2023-02-20T08:08:29.474Z"
   },
   {
    "duration": 20,
    "start_time": "2023-02-20T08:09:00.365Z"
   },
   {
    "duration": 4,
    "start_time": "2023-02-20T08:10:02.015Z"
   },
   {
    "duration": 12,
    "start_time": "2023-02-20T08:13:09.102Z"
   },
   {
    "duration": 3,
    "start_time": "2023-02-20T08:14:47.516Z"
   },
   {
    "duration": 4,
    "start_time": "2023-02-20T08:18:49.153Z"
   },
   {
    "duration": 4,
    "start_time": "2023-02-20T08:19:08.665Z"
   },
   {
    "duration": 6,
    "start_time": "2023-02-20T08:20:59.833Z"
   },
   {
    "duration": 8,
    "start_time": "2023-02-20T08:21:24.166Z"
   },
   {
    "duration": 10,
    "start_time": "2023-02-20T08:22:26.036Z"
   },
   {
    "duration": 14,
    "start_time": "2023-02-20T08:24:42.162Z"
   },
   {
    "duration": 9,
    "start_time": "2023-02-20T08:26:43.869Z"
   },
   {
    "duration": 186,
    "start_time": "2023-02-20T09:33:53.448Z"
   },
   {
    "duration": 267,
    "start_time": "2023-02-20T09:34:21.974Z"
   },
   {
    "duration": 384,
    "start_time": "2023-02-20T09:34:44.575Z"
   },
   {
    "duration": 4,
    "start_time": "2023-02-20T09:34:44.961Z"
   },
   {
    "duration": 14,
    "start_time": "2023-02-20T09:34:44.967Z"
   },
   {
    "duration": 11,
    "start_time": "2023-02-20T09:34:44.983Z"
   },
   {
    "duration": 38,
    "start_time": "2023-02-20T09:34:44.995Z"
   },
   {
    "duration": 5,
    "start_time": "2023-02-20T09:34:45.035Z"
   },
   {
    "duration": 29,
    "start_time": "2023-02-20T09:34:45.042Z"
   },
   {
    "duration": 20,
    "start_time": "2023-02-20T09:34:45.073Z"
   },
   {
    "duration": 21,
    "start_time": "2023-02-20T09:34:45.094Z"
   },
   {
    "duration": 24,
    "start_time": "2023-02-20T09:34:45.116Z"
   },
   {
    "duration": 6,
    "start_time": "2023-02-20T09:34:45.141Z"
   },
   {
    "duration": 17,
    "start_time": "2023-02-20T09:34:45.148Z"
   },
   {
    "duration": 26,
    "start_time": "2023-02-20T09:34:45.167Z"
   },
   {
    "duration": 24,
    "start_time": "2023-02-20T09:34:45.196Z"
   },
   {
    "duration": 10,
    "start_time": "2023-02-20T09:34:45.222Z"
   },
   {
    "duration": 8,
    "start_time": "2023-02-20T09:34:45.233Z"
   },
   {
    "duration": 13,
    "start_time": "2023-02-20T09:34:45.243Z"
   },
   {
    "duration": 12,
    "start_time": "2023-02-20T09:34:45.258Z"
   },
   {
    "duration": 4,
    "start_time": "2023-02-20T09:34:45.272Z"
   },
   {
    "duration": 7,
    "start_time": "2023-02-20T09:34:45.278Z"
   },
   {
    "duration": 9,
    "start_time": "2023-02-20T09:34:45.287Z"
   },
   {
    "duration": 677,
    "start_time": "2023-02-20T09:35:14.415Z"
   },
   {
    "duration": 4,
    "start_time": "2023-02-20T09:36:13.876Z"
   },
   {
    "duration": 9,
    "start_time": "2023-02-20T09:36:22.061Z"
   },
   {
    "duration": 10,
    "start_time": "2023-02-20T09:37:24.646Z"
   },
   {
    "duration": 54,
    "start_time": "2023-02-20T09:37:47.121Z"
   },
   {
    "duration": 10,
    "start_time": "2023-02-20T09:37:58.073Z"
   },
   {
    "duration": 7,
    "start_time": "2023-02-20T09:42:54.281Z"
   },
   {
    "duration": 560,
    "start_time": "2023-02-20T09:44:37.369Z"
   },
   {
    "duration": 144,
    "start_time": "2023-02-20T09:45:12.395Z"
   },
   {
    "duration": 130,
    "start_time": "2023-02-20T09:46:25.874Z"
   },
   {
    "duration": 134,
    "start_time": "2023-02-20T09:47:03.975Z"
   },
   {
    "duration": 197,
    "start_time": "2023-02-20T09:47:37.262Z"
   },
   {
    "duration": 17,
    "start_time": "2023-02-20T09:48:17.575Z"
   },
   {
    "duration": 13,
    "start_time": "2023-02-20T09:48:33.785Z"
   },
   {
    "duration": 10,
    "start_time": "2023-02-20T09:53:37.465Z"
   },
   {
    "duration": 15,
    "start_time": "2023-02-20T09:53:47.462Z"
   },
   {
    "duration": 5,
    "start_time": "2023-02-20T09:54:02.514Z"
   },
   {
    "duration": 5,
    "start_time": "2023-02-20T09:54:14.361Z"
   },
   {
    "duration": 122,
    "start_time": "2023-02-20T09:54:15.431Z"
   },
   {
    "duration": 124,
    "start_time": "2023-02-20T09:56:02.867Z"
   },
   {
    "duration": 127,
    "start_time": "2023-02-20T10:15:28.876Z"
   },
   {
    "duration": 122,
    "start_time": "2023-02-20T10:15:37.547Z"
   },
   {
    "duration": 4,
    "start_time": "2023-02-20T10:18:59.902Z"
   },
   {
    "duration": 5,
    "start_time": "2023-02-20T10:19:26.535Z"
   },
   {
    "duration": 6,
    "start_time": "2023-02-20T10:19:39.593Z"
   },
   {
    "duration": 5,
    "start_time": "2023-02-20T10:19:47.061Z"
   },
   {
    "duration": 17,
    "start_time": "2023-02-20T10:21:23.395Z"
   },
   {
    "duration": 5,
    "start_time": "2023-02-20T10:21:35.035Z"
   },
   {
    "duration": 5,
    "start_time": "2023-02-20T10:25:26.771Z"
   },
   {
    "duration": 449,
    "start_time": "2023-02-20T10:25:43.304Z"
   },
   {
    "duration": 5,
    "start_time": "2023-02-20T10:25:43.754Z"
   },
   {
    "duration": 13,
    "start_time": "2023-02-20T10:25:43.760Z"
   },
   {
    "duration": 10,
    "start_time": "2023-02-20T10:25:43.774Z"
   },
   {
    "duration": 39,
    "start_time": "2023-02-20T10:25:43.787Z"
   },
   {
    "duration": 6,
    "start_time": "2023-02-20T10:25:43.827Z"
   },
   {
    "duration": 7,
    "start_time": "2023-02-20T10:25:43.835Z"
   },
   {
    "duration": 12,
    "start_time": "2023-02-20T10:25:43.844Z"
   },
   {
    "duration": 7,
    "start_time": "2023-02-20T10:25:43.858Z"
   },
   {
    "duration": 18,
    "start_time": "2023-02-20T10:25:43.867Z"
   },
   {
    "duration": 5,
    "start_time": "2023-02-20T10:25:43.886Z"
   },
   {
    "duration": 10,
    "start_time": "2023-02-20T10:25:43.893Z"
   },
   {
    "duration": 23,
    "start_time": "2023-02-20T10:25:43.905Z"
   },
   {
    "duration": 9,
    "start_time": "2023-02-20T10:25:43.931Z"
   },
   {
    "duration": 5,
    "start_time": "2023-02-20T10:25:43.941Z"
   },
   {
    "duration": 5,
    "start_time": "2023-02-20T10:25:43.948Z"
   },
   {
    "duration": 7,
    "start_time": "2023-02-20T10:25:43.955Z"
   },
   {
    "duration": 14,
    "start_time": "2023-02-20T10:25:43.963Z"
   },
   {
    "duration": 5,
    "start_time": "2023-02-20T10:25:43.978Z"
   },
   {
    "duration": 43,
    "start_time": "2023-02-20T10:25:43.985Z"
   },
   {
    "duration": 4,
    "start_time": "2023-02-20T10:25:44.029Z"
   },
   {
    "duration": 14,
    "start_time": "2023-02-20T10:25:44.035Z"
   },
   {
    "duration": 41,
    "start_time": "2023-02-20T10:25:44.051Z"
   },
   {
    "duration": 9,
    "start_time": "2023-02-20T10:25:44.094Z"
   },
   {
    "duration": 368,
    "start_time": "2023-02-20T10:25:44.105Z"
   },
   {
    "duration": 137,
    "start_time": "2023-02-20T10:25:44.475Z"
   },
   {
    "duration": 6,
    "start_time": "2023-02-20T10:28:05.402Z"
   },
   {
    "duration": 6,
    "start_time": "2023-02-20T10:28:06.006Z"
   },
   {
    "duration": 144,
    "start_time": "2023-02-20T10:28:06.725Z"
   },
   {
    "duration": 115,
    "start_time": "2023-02-20T10:28:07.345Z"
   },
   {
    "duration": 5,
    "start_time": "2023-02-20T10:32:14.907Z"
   },
   {
    "duration": 6,
    "start_time": "2023-02-20T10:33:38.968Z"
   },
   {
    "duration": 128,
    "start_time": "2023-02-20T10:34:03.534Z"
   },
   {
    "duration": 5,
    "start_time": "2023-02-20T10:34:39.328Z"
   },
   {
    "duration": 181,
    "start_time": "2023-02-20T10:34:40.645Z"
   },
   {
    "duration": 6,
    "start_time": "2023-02-20T10:35:03.050Z"
   },
   {
    "duration": 413,
    "start_time": "2023-02-20T10:35:10.980Z"
   },
   {
    "duration": 5,
    "start_time": "2023-02-20T10:35:11.395Z"
   },
   {
    "duration": 19,
    "start_time": "2023-02-20T10:35:11.401Z"
   },
   {
    "duration": 11,
    "start_time": "2023-02-20T10:35:11.422Z"
   },
   {
    "duration": 39,
    "start_time": "2023-02-20T10:35:11.435Z"
   },
   {
    "duration": 6,
    "start_time": "2023-02-20T10:35:11.476Z"
   },
   {
    "duration": 10,
    "start_time": "2023-02-20T10:35:11.483Z"
   },
   {
    "duration": 12,
    "start_time": "2023-02-20T10:35:11.495Z"
   },
   {
    "duration": 7,
    "start_time": "2023-02-20T10:35:11.509Z"
   },
   {
    "duration": 24,
    "start_time": "2023-02-20T10:35:11.520Z"
   },
   {
    "duration": 6,
    "start_time": "2023-02-20T10:35:11.545Z"
   },
   {
    "duration": 12,
    "start_time": "2023-02-20T10:35:11.553Z"
   },
   {
    "duration": 10,
    "start_time": "2023-02-20T10:35:11.567Z"
   },
   {
    "duration": 11,
    "start_time": "2023-02-20T10:35:11.578Z"
   },
   {
    "duration": 6,
    "start_time": "2023-02-20T10:35:11.591Z"
   },
   {
    "duration": 6,
    "start_time": "2023-02-20T10:35:11.599Z"
   },
   {
    "duration": 26,
    "start_time": "2023-02-20T10:35:11.606Z"
   },
   {
    "duration": 14,
    "start_time": "2023-02-20T10:35:11.633Z"
   },
   {
    "duration": 5,
    "start_time": "2023-02-20T10:35:11.648Z"
   },
   {
    "duration": 12,
    "start_time": "2023-02-20T10:35:11.655Z"
   },
   {
    "duration": 27,
    "start_time": "2023-02-20T10:35:11.668Z"
   },
   {
    "duration": 16,
    "start_time": "2023-02-20T10:35:11.696Z"
   },
   {
    "duration": 14,
    "start_time": "2023-02-20T10:35:11.714Z"
   },
   {
    "duration": 6,
    "start_time": "2023-02-20T10:35:11.730Z"
   },
   {
    "duration": 410,
    "start_time": "2023-02-20T10:35:11.737Z"
   },
   {
    "duration": 153,
    "start_time": "2023-02-20T10:35:12.148Z"
   },
   {
    "duration": 13,
    "start_time": "2023-02-20T10:38:43.510Z"
   },
   {
    "duration": 813,
    "start_time": "2023-02-20T10:40:33.442Z"
   },
   {
    "duration": 798,
    "start_time": "2023-02-20T10:40:41.425Z"
   },
   {
    "duration": 175,
    "start_time": "2023-02-20T10:40:46.591Z"
   },
   {
    "duration": 12,
    "start_time": "2023-02-20T10:45:54.900Z"
   },
   {
    "duration": 5,
    "start_time": "2023-02-20T10:48:10.599Z"
   },
   {
    "duration": 7,
    "start_time": "2023-02-20T10:52:13.130Z"
   },
   {
    "duration": 27,
    "start_time": "2023-02-20T11:10:59.659Z"
   },
   {
    "duration": 26,
    "start_time": "2023-02-20T11:15:33.035Z"
   },
   {
    "duration": 306,
    "start_time": "2023-02-20T11:16:00.540Z"
   },
   {
    "duration": 264,
    "start_time": "2023-02-20T11:18:16.351Z"
   },
   {
    "duration": 54,
    "start_time": "2023-02-20T12:31:53.165Z"
   },
   {
    "duration": 251,
    "start_time": "2023-02-20T12:36:38.612Z"
   },
   {
    "duration": 49,
    "start_time": "2023-02-20T17:07:15.686Z"
   },
   {
    "duration": 506,
    "start_time": "2023-02-20T17:15:02.305Z"
   },
   {
    "duration": 5,
    "start_time": "2023-02-20T17:15:02.813Z"
   },
   {
    "duration": 30,
    "start_time": "2023-02-20T17:15:02.819Z"
   },
   {
    "duration": 51,
    "start_time": "2023-02-20T17:15:02.851Z"
   },
   {
    "duration": 130,
    "start_time": "2023-02-20T17:15:02.903Z"
   },
   {
    "duration": 5,
    "start_time": "2023-02-20T17:15:03.034Z"
   },
   {
    "duration": 20,
    "start_time": "2023-02-20T17:15:03.041Z"
   },
   {
    "duration": 47,
    "start_time": "2023-02-20T17:15:03.063Z"
   },
   {
    "duration": 29,
    "start_time": "2023-02-20T17:15:03.112Z"
   },
   {
    "duration": 121,
    "start_time": "2023-02-20T17:15:03.143Z"
   },
   {
    "duration": 8,
    "start_time": "2023-02-20T17:15:03.266Z"
   },
   {
    "duration": 39,
    "start_time": "2023-02-20T17:15:03.275Z"
   },
   {
    "duration": 29,
    "start_time": "2023-02-20T17:15:03.316Z"
   },
   {
    "duration": 17,
    "start_time": "2023-02-20T17:15:03.346Z"
   },
   {
    "duration": 36,
    "start_time": "2023-02-20T17:15:03.365Z"
   },
   {
    "duration": 17,
    "start_time": "2023-02-20T17:15:03.403Z"
   },
   {
    "duration": 12,
    "start_time": "2023-02-20T17:15:03.421Z"
   },
   {
    "duration": 25,
    "start_time": "2023-02-20T17:15:03.435Z"
   },
   {
    "duration": 9,
    "start_time": "2023-02-20T17:15:03.462Z"
   },
   {
    "duration": 36,
    "start_time": "2023-02-20T17:15:03.473Z"
   },
   {
    "duration": 9,
    "start_time": "2023-02-20T17:15:03.511Z"
   },
   {
    "duration": 341,
    "start_time": "2023-02-20T17:15:03.522Z"
   },
   {
    "duration": 82,
    "start_time": "2023-02-20T17:15:03.864Z"
   },
   {
    "duration": 0,
    "start_time": "2023-02-20T17:15:03.948Z"
   },
   {
    "duration": 0,
    "start_time": "2023-02-20T17:15:03.949Z"
   },
   {
    "duration": 0,
    "start_time": "2023-02-20T17:15:03.950Z"
   },
   {
    "duration": 0,
    "start_time": "2023-02-20T17:15:03.951Z"
   },
   {
    "duration": 0,
    "start_time": "2023-02-20T17:15:03.974Z"
   },
   {
    "duration": 0,
    "start_time": "2023-02-20T17:15:03.978Z"
   },
   {
    "duration": 0,
    "start_time": "2023-02-20T17:15:03.980Z"
   },
   {
    "duration": 0,
    "start_time": "2023-02-20T17:15:03.981Z"
   },
   {
    "duration": 0,
    "start_time": "2023-02-20T17:15:03.983Z"
   },
   {
    "duration": 0,
    "start_time": "2023-02-20T17:15:03.984Z"
   },
   {
    "duration": 9,
    "start_time": "2023-02-20T17:15:23.534Z"
   },
   {
    "duration": 6,
    "start_time": "2023-02-20T17:16:31.741Z"
   },
   {
    "duration": 5,
    "start_time": "2023-02-20T17:16:45.803Z"
   },
   {
    "duration": 10,
    "start_time": "2023-02-20T17:16:54.022Z"
   },
   {
    "duration": 776,
    "start_time": "2023-02-20T17:18:02.880Z"
   },
   {
    "duration": 8,
    "start_time": "2023-02-20T17:18:08.920Z"
   },
   {
    "duration": 6,
    "start_time": "2023-02-20T17:18:09.565Z"
   },
   {
    "duration": 261,
    "start_time": "2023-02-20T17:18:10.235Z"
   },
   {
    "duration": 207,
    "start_time": "2023-02-20T17:23:50.827Z"
   },
   {
    "duration": 346,
    "start_time": "2023-02-20T17:27:58.758Z"
   },
   {
    "duration": 240,
    "start_time": "2023-02-20T18:22:34.300Z"
   },
   {
    "duration": 302,
    "start_time": "2023-02-20T18:31:47.238Z"
   },
   {
    "duration": 11,
    "start_time": "2023-02-20T18:35:42.324Z"
   },
   {
    "duration": 6,
    "start_time": "2023-02-20T18:37:02.520Z"
   },
   {
    "duration": 109,
    "start_time": "2023-02-20T18:40:39.847Z"
   },
   {
    "duration": 120,
    "start_time": "2023-02-20T18:41:16.316Z"
   },
   {
    "duration": 19,
    "start_time": "2023-02-20T18:43:23.639Z"
   },
   {
    "duration": 149,
    "start_time": "2023-02-20T18:43:48.957Z"
   },
   {
    "duration": 1159,
    "start_time": "2023-02-20T18:44:51.489Z"
   },
   {
    "duration": 13,
    "start_time": "2023-02-20T18:46:32.316Z"
   },
   {
    "duration": 134,
    "start_time": "2023-02-20T18:47:00.651Z"
   },
   {
    "duration": 6,
    "start_time": "2023-02-20T18:47:16.596Z"
   },
   {
    "duration": 5,
    "start_time": "2023-02-20T18:47:26.599Z"
   },
   {
    "duration": 132,
    "start_time": "2023-02-20T18:47:27.941Z"
   },
   {
    "duration": 14,
    "start_time": "2023-02-20T18:49:53.904Z"
   },
   {
    "duration": 30,
    "start_time": "2023-02-20T18:50:01.952Z"
   },
   {
    "duration": 5,
    "start_time": "2023-02-20T18:50:19.510Z"
   },
   {
    "duration": 9,
    "start_time": "2023-02-20T18:50:35.400Z"
   },
   {
    "duration": 34,
    "start_time": "2023-02-20T18:52:35.449Z"
   },
   {
    "duration": 13,
    "start_time": "2023-02-20T18:53:26.280Z"
   },
   {
    "duration": 6,
    "start_time": "2023-02-20T18:54:32.437Z"
   },
   {
    "duration": 424,
    "start_time": "2023-02-20T18:55:39.983Z"
   },
   {
    "duration": 4,
    "start_time": "2023-02-20T18:55:40.409Z"
   },
   {
    "duration": 30,
    "start_time": "2023-02-20T18:55:40.415Z"
   },
   {
    "duration": 36,
    "start_time": "2023-02-20T18:55:40.447Z"
   },
   {
    "duration": 57,
    "start_time": "2023-02-20T18:55:40.485Z"
   },
   {
    "duration": 5,
    "start_time": "2023-02-20T18:55:40.544Z"
   },
   {
    "duration": 29,
    "start_time": "2023-02-20T18:55:40.551Z"
   },
   {
    "duration": 34,
    "start_time": "2023-02-20T18:55:40.582Z"
   },
   {
    "duration": 20,
    "start_time": "2023-02-20T18:55:40.618Z"
   },
   {
    "duration": 37,
    "start_time": "2023-02-20T18:55:40.641Z"
   },
   {
    "duration": 18,
    "start_time": "2023-02-20T18:55:40.680Z"
   },
   {
    "duration": 38,
    "start_time": "2023-02-20T18:55:40.700Z"
   },
   {
    "duration": 17,
    "start_time": "2023-02-20T18:55:40.739Z"
   },
   {
    "duration": 20,
    "start_time": "2023-02-20T18:55:40.758Z"
   },
   {
    "duration": 19,
    "start_time": "2023-02-20T18:55:40.780Z"
   },
   {
    "duration": 10,
    "start_time": "2023-02-20T18:55:40.801Z"
   },
   {
    "duration": 26,
    "start_time": "2023-02-20T18:55:40.812Z"
   },
   {
    "duration": 18,
    "start_time": "2023-02-20T18:55:40.840Z"
   },
   {
    "duration": 29,
    "start_time": "2023-02-20T18:55:40.860Z"
   },
   {
    "duration": 10,
    "start_time": "2023-02-20T18:55:40.890Z"
   },
   {
    "duration": 14,
    "start_time": "2023-02-20T18:55:40.902Z"
   },
   {
    "duration": 532,
    "start_time": "2023-02-20T18:55:40.918Z"
   },
   {
    "duration": 5,
    "start_time": "2023-02-20T18:55:41.451Z"
   },
   {
    "duration": 58,
    "start_time": "2023-02-20T18:55:41.457Z"
   },
   {
    "duration": 240,
    "start_time": "2023-02-20T18:55:41.517Z"
   },
   {
    "duration": 173,
    "start_time": "2023-02-20T18:55:41.760Z"
   },
   {
    "duration": 292,
    "start_time": "2023-02-20T18:55:41.934Z"
   },
   {
    "duration": 170,
    "start_time": "2023-02-20T18:55:42.230Z"
   },
   {
    "duration": 339,
    "start_time": "2023-02-20T18:55:42.402Z"
   },
   {
    "duration": 10,
    "start_time": "2023-02-20T18:55:42.743Z"
   },
   {
    "duration": 129,
    "start_time": "2023-02-20T18:55:42.768Z"
   },
   {
    "duration": 5,
    "start_time": "2023-02-20T18:55:42.899Z"
   },
   {
    "duration": 48,
    "start_time": "2023-02-20T18:55:42.906Z"
   },
   {
    "duration": 20,
    "start_time": "2023-02-20T18:55:42.956Z"
   },
   {
    "duration": 13,
    "start_time": "2023-02-20T18:55:42.978Z"
   },
   {
    "duration": 35,
    "start_time": "2023-02-20T18:55:42.992Z"
   },
   {
    "duration": 169,
    "start_time": "2023-02-20T18:55:43.029Z"
   },
   {
    "duration": 5,
    "start_time": "2023-02-20T18:55:43.200Z"
   },
   {
    "duration": 19,
    "start_time": "2023-02-20T18:55:43.207Z"
   },
   {
    "duration": 140,
    "start_time": "2023-02-20T18:55:43.228Z"
   },
   {
    "duration": 6,
    "start_time": "2023-02-20T18:57:40.828Z"
   },
   {
    "duration": 4,
    "start_time": "2023-02-20T18:57:48.700Z"
   },
   {
    "duration": 5,
    "start_time": "2023-02-20T18:58:49.971Z"
   },
   {
    "duration": 422,
    "start_time": "2023-02-20T18:58:56.204Z"
   },
   {
    "duration": 5,
    "start_time": "2023-02-20T18:58:56.627Z"
   },
   {
    "duration": 27,
    "start_time": "2023-02-20T18:58:56.636Z"
   },
   {
    "duration": 15,
    "start_time": "2023-02-20T18:58:56.665Z"
   },
   {
    "duration": 70,
    "start_time": "2023-02-20T18:58:56.682Z"
   },
   {
    "duration": 5,
    "start_time": "2023-02-20T18:58:56.754Z"
   },
   {
    "duration": 26,
    "start_time": "2023-02-20T18:58:56.761Z"
   },
   {
    "duration": 23,
    "start_time": "2023-02-20T18:58:56.788Z"
   },
   {
    "duration": 38,
    "start_time": "2023-02-20T18:58:56.817Z"
   },
   {
    "duration": 40,
    "start_time": "2023-02-20T18:58:56.857Z"
   },
   {
    "duration": 6,
    "start_time": "2023-02-20T18:58:56.900Z"
   },
   {
    "duration": 33,
    "start_time": "2023-02-20T18:58:56.907Z"
   },
   {
    "duration": 15,
    "start_time": "2023-02-20T18:58:56.943Z"
   },
   {
    "duration": 35,
    "start_time": "2023-02-20T18:58:56.960Z"
   },
   {
    "duration": 12,
    "start_time": "2023-02-20T18:58:56.998Z"
   },
   {
    "duration": 26,
    "start_time": "2023-02-20T18:58:57.012Z"
   },
   {
    "duration": 27,
    "start_time": "2023-02-20T18:58:57.040Z"
   },
   {
    "duration": 32,
    "start_time": "2023-02-20T18:58:57.069Z"
   },
   {
    "duration": 17,
    "start_time": "2023-02-20T18:58:57.103Z"
   },
   {
    "duration": 22,
    "start_time": "2023-02-20T18:58:57.122Z"
   },
   {
    "duration": 14,
    "start_time": "2023-02-20T18:58:57.146Z"
   },
   {
    "duration": 586,
    "start_time": "2023-02-20T18:58:57.162Z"
   },
   {
    "duration": 5,
    "start_time": "2023-02-20T18:58:57.750Z"
   },
   {
    "duration": 34,
    "start_time": "2023-02-20T18:58:57.757Z"
   },
   {
    "duration": 265,
    "start_time": "2023-02-20T18:58:57.793Z"
   },
   {
    "duration": 204,
    "start_time": "2023-02-20T18:58:58.067Z"
   },
   {
    "duration": 263,
    "start_time": "2023-02-20T18:58:58.276Z"
   },
   {
    "duration": 199,
    "start_time": "2023-02-20T18:58:58.541Z"
   },
   {
    "duration": 328,
    "start_time": "2023-02-20T18:58:58.741Z"
   },
   {
    "duration": 16,
    "start_time": "2023-02-20T18:58:59.071Z"
   },
   {
    "duration": 181,
    "start_time": "2023-02-20T18:58:59.089Z"
   },
   {
    "duration": 5,
    "start_time": "2023-02-20T18:58:59.272Z"
   },
   {
    "duration": 28,
    "start_time": "2023-02-20T18:58:59.278Z"
   },
   {
    "duration": 20,
    "start_time": "2023-02-20T18:58:59.308Z"
   },
   {
    "duration": 25,
    "start_time": "2023-02-20T18:58:59.330Z"
   },
   {
    "duration": 15,
    "start_time": "2023-02-20T18:58:59.358Z"
   },
   {
    "duration": 36,
    "start_time": "2023-02-20T18:58:59.375Z"
   },
   {
    "duration": 136,
    "start_time": "2023-02-20T18:58:59.413Z"
   },
   {
    "duration": 17,
    "start_time": "2023-02-20T18:58:59.551Z"
   },
   {
    "duration": 24,
    "start_time": "2023-02-20T18:58:59.570Z"
   },
   {
    "duration": 157,
    "start_time": "2023-02-20T18:58:59.596Z"
   },
   {
    "duration": 10,
    "start_time": "2023-02-20T18:59:15.167Z"
   },
   {
    "duration": 7,
    "start_time": "2023-02-20T18:59:16.816Z"
   },
   {
    "duration": 6,
    "start_time": "2023-02-20T18:59:18.798Z"
   },
   {
    "duration": 5,
    "start_time": "2023-02-20T18:59:19.246Z"
   },
   {
    "duration": 428,
    "start_time": "2023-02-20T19:00:04.993Z"
   },
   {
    "duration": 5,
    "start_time": "2023-02-20T19:00:05.427Z"
   },
   {
    "duration": 37,
    "start_time": "2023-02-20T19:00:05.434Z"
   },
   {
    "duration": 36,
    "start_time": "2023-02-20T19:00:05.473Z"
   },
   {
    "duration": 75,
    "start_time": "2023-02-20T19:00:05.511Z"
   },
   {
    "duration": 4,
    "start_time": "2023-02-20T19:00:05.588Z"
   },
   {
    "duration": 21,
    "start_time": "2023-02-20T19:00:05.594Z"
   },
   {
    "duration": 30,
    "start_time": "2023-02-20T19:00:05.616Z"
   },
   {
    "duration": 22,
    "start_time": "2023-02-20T19:00:05.648Z"
   },
   {
    "duration": 51,
    "start_time": "2023-02-20T19:00:05.672Z"
   },
   {
    "duration": 5,
    "start_time": "2023-02-20T19:00:05.725Z"
   },
   {
    "duration": 32,
    "start_time": "2023-02-20T19:00:05.732Z"
   },
   {
    "duration": 20,
    "start_time": "2023-02-20T19:00:05.766Z"
   },
   {
    "duration": 33,
    "start_time": "2023-02-20T19:00:05.788Z"
   },
   {
    "duration": 43,
    "start_time": "2023-02-20T19:00:05.823Z"
   },
   {
    "duration": 21,
    "start_time": "2023-02-20T19:00:05.868Z"
   },
   {
    "duration": 22,
    "start_time": "2023-02-20T19:00:05.890Z"
   },
   {
    "duration": 26,
    "start_time": "2023-02-20T19:00:05.913Z"
   },
   {
    "duration": 16,
    "start_time": "2023-02-20T19:00:05.940Z"
   },
   {
    "duration": 45,
    "start_time": "2023-02-20T19:00:05.957Z"
   },
   {
    "duration": 31,
    "start_time": "2023-02-20T19:00:06.003Z"
   },
   {
    "duration": 557,
    "start_time": "2023-02-20T19:00:06.035Z"
   },
   {
    "duration": 6,
    "start_time": "2023-02-20T19:00:06.594Z"
   },
   {
    "duration": 24,
    "start_time": "2023-02-20T19:00:06.602Z"
   },
   {
    "duration": 322,
    "start_time": "2023-02-20T19:00:06.632Z"
   },
   {
    "duration": 286,
    "start_time": "2023-02-20T19:00:06.956Z"
   },
   {
    "duration": 307,
    "start_time": "2023-02-20T19:00:07.244Z"
   },
   {
    "duration": 180,
    "start_time": "2023-02-20T19:00:07.554Z"
   },
   {
    "duration": 316,
    "start_time": "2023-02-20T19:00:07.736Z"
   },
   {
    "duration": 19,
    "start_time": "2023-02-20T19:00:08.054Z"
   },
   {
    "duration": 146,
    "start_time": "2023-02-20T19:00:08.074Z"
   },
   {
    "duration": 4,
    "start_time": "2023-02-20T19:00:08.222Z"
   },
   {
    "duration": 20,
    "start_time": "2023-02-20T19:00:08.228Z"
   },
   {
    "duration": 23,
    "start_time": "2023-02-20T19:00:08.250Z"
   },
   {
    "duration": 25,
    "start_time": "2023-02-20T19:00:08.274Z"
   },
   {
    "duration": 27,
    "start_time": "2023-02-20T19:00:08.300Z"
   },
   {
    "duration": 33,
    "start_time": "2023-02-20T19:00:08.329Z"
   },
   {
    "duration": 135,
    "start_time": "2023-02-20T19:00:08.363Z"
   },
   {
    "duration": 4,
    "start_time": "2023-02-20T19:00:08.500Z"
   },
   {
    "duration": 15,
    "start_time": "2023-02-20T19:00:08.506Z"
   },
   {
    "duration": 132,
    "start_time": "2023-02-20T19:00:08.523Z"
   },
   {
    "duration": 38,
    "start_time": "2023-02-20T19:00:16.719Z"
   },
   {
    "duration": 5,
    "start_time": "2023-02-20T19:00:17.898Z"
   },
   {
    "duration": 12,
    "start_time": "2023-02-20T19:00:18.650Z"
   },
   {
    "duration": 13,
    "start_time": "2023-02-20T19:00:19.816Z"
   },
   {
    "duration": 53,
    "start_time": "2023-02-20T19:00:22.624Z"
   },
   {
    "duration": 6,
    "start_time": "2023-02-20T19:00:25.618Z"
   },
   {
    "duration": 7,
    "start_time": "2023-02-20T19:00:27.085Z"
   },
   {
    "duration": 12,
    "start_time": "2023-02-20T19:00:27.921Z"
   },
   {
    "duration": 5,
    "start_time": "2023-02-20T19:00:28.458Z"
   },
   {
    "duration": 31,
    "start_time": "2023-02-20T19:00:29.841Z"
   },
   {
    "duration": 6,
    "start_time": "2023-02-20T19:00:34.198Z"
   },
   {
    "duration": 15,
    "start_time": "2023-02-20T19:00:35.086Z"
   },
   {
    "duration": 5,
    "start_time": "2023-02-20T19:00:35.880Z"
   },
   {
    "duration": 12,
    "start_time": "2023-02-20T19:00:39.781Z"
   },
   {
    "duration": 5,
    "start_time": "2023-02-20T19:00:45.058Z"
   },
   {
    "duration": 5,
    "start_time": "2023-02-20T19:00:48.401Z"
   },
   {
    "duration": 10,
    "start_time": "2023-02-20T19:00:49.253Z"
   },
   {
    "duration": 18,
    "start_time": "2023-02-20T19:00:54.396Z"
   },
   {
    "duration": 5,
    "start_time": "2023-02-20T19:01:19.376Z"
   },
   {
    "duration": 11,
    "start_time": "2023-02-20T19:01:25.219Z"
   },
   {
    "duration": 8,
    "start_time": "2023-02-20T19:01:56.387Z"
   },
   {
    "duration": 311,
    "start_time": "2023-02-20T19:01:58.318Z"
   },
   {
    "duration": 5,
    "start_time": "2023-02-20T19:01:59.339Z"
   },
   {
    "duration": 4,
    "start_time": "2023-02-20T19:02:00.167Z"
   },
   {
    "duration": 162,
    "start_time": "2023-02-20T19:02:01.744Z"
   },
   {
    "duration": 214,
    "start_time": "2023-02-20T19:02:05.040Z"
   },
   {
    "duration": 262,
    "start_time": "2023-02-20T19:02:09.081Z"
   },
   {
    "duration": 160,
    "start_time": "2023-02-20T19:02:11.799Z"
   },
   {
    "duration": 248,
    "start_time": "2023-02-20T19:02:15.298Z"
   },
   {
    "duration": 12,
    "start_time": "2023-02-20T19:02:20.897Z"
   },
   {
    "duration": 133,
    "start_time": "2023-02-20T19:02:22.353Z"
   },
   {
    "duration": 5,
    "start_time": "2023-02-20T19:02:25.969Z"
   },
   {
    "duration": 9,
    "start_time": "2023-02-20T19:02:28.381Z"
   },
   {
    "duration": 5,
    "start_time": "2023-02-20T19:02:45.285Z"
   },
   {
    "duration": 5,
    "start_time": "2023-02-20T19:02:48.002Z"
   },
   {
    "duration": 5,
    "start_time": "2023-02-20T19:02:51.407Z"
   },
   {
    "duration": 795,
    "start_time": "2023-02-20T19:03:44.076Z"
   },
   {
    "duration": 10,
    "start_time": "2023-02-20T19:03:44.985Z"
   },
   {
    "duration": 4,
    "start_time": "2023-02-20T19:09:39.705Z"
   },
   {
    "duration": 3,
    "start_time": "2023-02-20T19:10:35.910Z"
   },
   {
    "duration": 97,
    "start_time": "2023-02-20T19:10:57.701Z"
   },
   {
    "duration": 7,
    "start_time": "2023-02-20T19:13:38.684Z"
   },
   {
    "duration": 5,
    "start_time": "2023-02-20T19:13:40.496Z"
   },
   {
    "duration": 6,
    "start_time": "2023-02-20T19:16:20.945Z"
   },
   {
    "duration": 18,
    "start_time": "2023-02-20T19:16:30.485Z"
   },
   {
    "duration": 149,
    "start_time": "2023-02-20T19:16:36.280Z"
   },
   {
    "duration": 8,
    "start_time": "2023-02-20T19:16:39.491Z"
   },
   {
    "duration": 6,
    "start_time": "2023-02-20T19:16:45.563Z"
   },
   {
    "duration": 218,
    "start_time": "2023-02-20T19:16:52.549Z"
   },
   {
    "duration": 123,
    "start_time": "2023-02-20T19:17:02.609Z"
   },
   {
    "duration": 6,
    "start_time": "2023-02-20T19:20:13.416Z"
   },
   {
    "duration": 5,
    "start_time": "2023-02-20T19:20:22.676Z"
   },
   {
    "duration": 6,
    "start_time": "2023-02-20T19:21:14.789Z"
   },
   {
    "duration": 117,
    "start_time": "2023-02-20T19:21:22.140Z"
   },
   {
    "duration": 469,
    "start_time": "2023-02-20T19:21:35.451Z"
   },
   {
    "duration": 5,
    "start_time": "2023-02-20T19:21:35.922Z"
   },
   {
    "duration": 19,
    "start_time": "2023-02-20T19:21:35.928Z"
   },
   {
    "duration": 31,
    "start_time": "2023-02-20T19:21:35.950Z"
   },
   {
    "duration": 59,
    "start_time": "2023-02-20T19:21:35.983Z"
   },
   {
    "duration": 7,
    "start_time": "2023-02-20T19:21:36.044Z"
   },
   {
    "duration": 35,
    "start_time": "2023-02-20T19:21:36.053Z"
   },
   {
    "duration": 17,
    "start_time": "2023-02-20T19:21:36.090Z"
   },
   {
    "duration": 32,
    "start_time": "2023-02-20T19:21:36.109Z"
   },
   {
    "duration": 32,
    "start_time": "2023-02-20T19:21:36.144Z"
   },
   {
    "duration": 6,
    "start_time": "2023-02-20T19:21:36.178Z"
   },
   {
    "duration": 16,
    "start_time": "2023-02-20T19:21:36.186Z"
   },
   {
    "duration": 7,
    "start_time": "2023-02-20T19:21:36.204Z"
   },
   {
    "duration": 14,
    "start_time": "2023-02-20T19:21:36.212Z"
   },
   {
    "duration": 9,
    "start_time": "2023-02-20T19:21:36.228Z"
   },
   {
    "duration": 5,
    "start_time": "2023-02-20T19:21:36.239Z"
   },
   {
    "duration": 10,
    "start_time": "2023-02-20T19:21:36.266Z"
   },
   {
    "duration": 17,
    "start_time": "2023-02-20T19:21:36.278Z"
   },
   {
    "duration": 6,
    "start_time": "2023-02-20T19:21:36.297Z"
   },
   {
    "duration": 13,
    "start_time": "2023-02-20T19:21:36.305Z"
   },
   {
    "duration": 4,
    "start_time": "2023-02-20T19:21:36.320Z"
   },
   {
    "duration": 606,
    "start_time": "2023-02-20T19:21:36.326Z"
   },
   {
    "duration": 6,
    "start_time": "2023-02-20T19:21:36.934Z"
   },
   {
    "duration": 7,
    "start_time": "2023-02-20T19:21:36.942Z"
   },
   {
    "duration": 267,
    "start_time": "2023-02-20T19:21:36.951Z"
   },
   {
    "duration": 206,
    "start_time": "2023-02-20T19:21:37.220Z"
   },
   {
    "duration": 276,
    "start_time": "2023-02-20T19:21:37.427Z"
   },
   {
    "duration": 179,
    "start_time": "2023-02-20T19:21:37.706Z"
   },
   {
    "duration": 340,
    "start_time": "2023-02-20T19:21:37.887Z"
   },
   {
    "duration": 12,
    "start_time": "2023-02-20T19:21:38.228Z"
   },
   {
    "duration": 163,
    "start_time": "2023-02-20T19:21:38.242Z"
   },
   {
    "duration": 6,
    "start_time": "2023-02-20T19:21:38.407Z"
   },
   {
    "duration": 18,
    "start_time": "2023-02-20T19:21:38.414Z"
   },
   {
    "duration": 6,
    "start_time": "2023-02-20T19:21:38.434Z"
   },
   {
    "duration": 4,
    "start_time": "2023-02-20T19:21:38.442Z"
   },
   {
    "duration": 15,
    "start_time": "2023-02-20T19:21:38.467Z"
   },
   {
    "duration": 162,
    "start_time": "2023-02-20T19:21:38.484Z"
   },
   {
    "duration": 6,
    "start_time": "2023-02-20T19:21:38.647Z"
   },
   {
    "duration": 16,
    "start_time": "2023-02-20T19:21:38.654Z"
   },
   {
    "duration": 128,
    "start_time": "2023-02-20T19:21:38.671Z"
   },
   {
    "duration": 9,
    "start_time": "2023-02-20T19:21:50.104Z"
   },
   {
    "duration": 5,
    "start_time": "2023-02-20T19:21:51.036Z"
   },
   {
    "duration": 4,
    "start_time": "2023-02-20T19:21:52.798Z"
   },
   {
    "duration": 14,
    "start_time": "2023-02-20T19:21:58.250Z"
   },
   {
    "duration": 138,
    "start_time": "2023-02-20T19:22:01.171Z"
   },
   {
    "duration": 6,
    "start_time": "2023-02-20T19:22:05.714Z"
   },
   {
    "duration": 7,
    "start_time": "2023-02-20T19:22:06.849Z"
   },
   {
    "duration": 5,
    "start_time": "2023-02-20T19:22:15.305Z"
   },
   {
    "duration": 117,
    "start_time": "2023-02-20T19:22:16.520Z"
   },
   {
    "duration": 184,
    "start_time": "2023-02-20T19:27:29.347Z"
   },
   {
    "duration": 120,
    "start_time": "2023-02-20T19:28:57.632Z"
   },
   {
    "duration": 213,
    "start_time": "2023-02-20T19:33:25.895Z"
   },
   {
    "duration": 433,
    "start_time": "2023-02-20T19:35:56.950Z"
   },
   {
    "duration": 890,
    "start_time": "2023-02-20T19:36:29.182Z"
   },
   {
    "duration": 442,
    "start_time": "2023-02-20T19:38:59.496Z"
   },
   {
    "duration": 14,
    "start_time": "2023-02-20T19:40:53.747Z"
   },
   {
    "duration": 352,
    "start_time": "2023-02-20T19:45:45.186Z"
   },
   {
    "duration": 10,
    "start_time": "2023-02-20T19:47:35.764Z"
   },
   {
    "duration": 696,
    "start_time": "2023-02-24T11:15:43.282Z"
   },
   {
    "duration": 523,
    "start_time": "2023-02-24T11:16:11.503Z"
   },
   {
    "duration": 5,
    "start_time": "2023-02-24T11:16:12.028Z"
   },
   {
    "duration": 13,
    "start_time": "2023-02-24T11:16:12.034Z"
   },
   {
    "duration": 12,
    "start_time": "2023-02-24T11:16:12.049Z"
   },
   {
    "duration": 97,
    "start_time": "2023-02-24T11:16:12.063Z"
   },
   {
    "duration": 5,
    "start_time": "2023-02-24T11:16:12.162Z"
   },
   {
    "duration": 8,
    "start_time": "2023-02-24T11:16:12.168Z"
   },
   {
    "duration": 10,
    "start_time": "2023-02-24T11:16:12.178Z"
   },
   {
    "duration": 10,
    "start_time": "2023-02-24T11:16:12.189Z"
   },
   {
    "duration": 73,
    "start_time": "2023-02-24T11:16:12.201Z"
   },
   {
    "duration": 6,
    "start_time": "2023-02-24T11:16:12.276Z"
   },
   {
    "duration": 18,
    "start_time": "2023-02-24T11:16:12.284Z"
   },
   {
    "duration": 15,
    "start_time": "2023-02-24T11:16:12.304Z"
   },
   {
    "duration": 15,
    "start_time": "2023-02-24T11:16:12.320Z"
   },
   {
    "duration": 5,
    "start_time": "2023-02-24T11:16:12.336Z"
   },
   {
    "duration": 24,
    "start_time": "2023-02-24T11:16:12.343Z"
   },
   {
    "duration": 8,
    "start_time": "2023-02-24T11:16:12.369Z"
   },
   {
    "duration": 14,
    "start_time": "2023-02-24T11:16:12.379Z"
   },
   {
    "duration": 4,
    "start_time": "2023-02-24T11:16:12.395Z"
   },
   {
    "duration": 10,
    "start_time": "2023-02-24T11:16:12.401Z"
   },
   {
    "duration": 4,
    "start_time": "2023-02-24T11:16:12.413Z"
   },
   {
    "duration": 716,
    "start_time": "2023-02-24T11:16:12.418Z"
   },
   {
    "duration": 5,
    "start_time": "2023-02-24T11:16:13.136Z"
   },
   {
    "duration": 4,
    "start_time": "2023-02-24T11:16:13.148Z"
   },
   {
    "duration": 270,
    "start_time": "2023-02-24T11:16:13.154Z"
   },
   {
    "duration": 200,
    "start_time": "2023-02-24T11:16:13.426Z"
   },
   {
    "duration": 345,
    "start_time": "2023-02-24T11:16:13.628Z"
   },
   {
    "duration": 229,
    "start_time": "2023-02-24T11:16:13.976Z"
   },
   {
    "duration": 308,
    "start_time": "2023-02-24T11:16:14.206Z"
   },
   {
    "duration": 11,
    "start_time": "2023-02-24T11:16:14.515Z"
   },
   {
    "duration": 143,
    "start_time": "2023-02-24T11:16:14.528Z"
   },
   {
    "duration": 4,
    "start_time": "2023-02-24T11:16:14.673Z"
   },
   {
    "duration": 12,
    "start_time": "2023-02-24T11:16:14.678Z"
   },
   {
    "duration": 6,
    "start_time": "2023-02-24T11:16:14.692Z"
   },
   {
    "duration": 7,
    "start_time": "2023-02-24T11:16:14.699Z"
   },
   {
    "duration": 15,
    "start_time": "2023-02-24T11:16:14.707Z"
   },
   {
    "duration": 136,
    "start_time": "2023-02-24T11:16:14.724Z"
   },
   {
    "duration": 5,
    "start_time": "2023-02-24T11:16:14.861Z"
   },
   {
    "duration": 8,
    "start_time": "2023-02-24T11:16:14.867Z"
   },
   {
    "duration": 131,
    "start_time": "2023-02-24T11:16:14.877Z"
   },
   {
    "duration": 972,
    "start_time": "2023-02-24T11:16:15.010Z"
   },
   {
    "duration": 12,
    "start_time": "2023-02-24T11:16:15.984Z"
   },
   {
    "duration": 367,
    "start_time": "2023-02-24T11:16:15.998Z"
   },
   {
    "duration": 9,
    "start_time": "2023-02-24T11:16:16.366Z"
   },
   {
    "duration": 519,
    "start_time": "2023-02-25T06:27:56.924Z"
   },
   {
    "duration": 6,
    "start_time": "2023-02-25T06:27:57.445Z"
   },
   {
    "duration": 17,
    "start_time": "2023-02-25T06:27:57.453Z"
   },
   {
    "duration": 11,
    "start_time": "2023-02-25T06:27:57.473Z"
   },
   {
    "duration": 162,
    "start_time": "2023-02-25T06:27:57.486Z"
   },
   {
    "duration": 5,
    "start_time": "2023-02-25T06:27:57.650Z"
   },
   {
    "duration": 17,
    "start_time": "2023-02-25T06:27:57.656Z"
   },
   {
    "duration": 15,
    "start_time": "2023-02-25T06:27:57.675Z"
   },
   {
    "duration": 38,
    "start_time": "2023-02-25T06:27:57.692Z"
   },
   {
    "duration": 86,
    "start_time": "2023-02-25T06:27:57.733Z"
   },
   {
    "duration": 6,
    "start_time": "2023-02-25T06:27:57.822Z"
   },
   {
    "duration": 12,
    "start_time": "2023-02-25T06:27:57.829Z"
   },
   {
    "duration": 7,
    "start_time": "2023-02-25T06:27:57.842Z"
   },
   {
    "duration": 13,
    "start_time": "2023-02-25T06:27:57.850Z"
   },
   {
    "duration": 16,
    "start_time": "2023-02-25T06:27:57.864Z"
   },
   {
    "duration": 7,
    "start_time": "2023-02-25T06:27:57.882Z"
   },
   {
    "duration": 44,
    "start_time": "2023-02-25T06:27:57.890Z"
   },
   {
    "duration": 15,
    "start_time": "2023-02-25T06:27:57.936Z"
   },
   {
    "duration": 10,
    "start_time": "2023-02-25T06:27:57.954Z"
   },
   {
    "duration": 11,
    "start_time": "2023-02-25T06:27:57.966Z"
   },
   {
    "duration": 7,
    "start_time": "2023-02-25T06:27:57.979Z"
   },
   {
    "duration": 849,
    "start_time": "2023-02-25T06:27:57.988Z"
   },
   {
    "duration": 5,
    "start_time": "2023-02-25T06:27:58.839Z"
   },
   {
    "duration": 20,
    "start_time": "2023-02-25T06:27:58.846Z"
   },
   {
    "duration": 341,
    "start_time": "2023-02-25T06:27:58.868Z"
   },
   {
    "duration": 213,
    "start_time": "2023-02-25T06:27:59.211Z"
   },
   {
    "duration": 342,
    "start_time": "2023-02-25T06:27:59.425Z"
   },
   {
    "duration": 287,
    "start_time": "2023-02-25T06:27:59.771Z"
   },
   {
    "duration": 310,
    "start_time": "2023-02-25T06:28:00.061Z"
   },
   {
    "duration": 12,
    "start_time": "2023-02-25T06:28:00.373Z"
   },
   {
    "duration": 201,
    "start_time": "2023-02-25T06:28:00.386Z"
   },
   {
    "duration": 8,
    "start_time": "2023-02-25T06:28:00.589Z"
   },
   {
    "duration": 73,
    "start_time": "2023-02-25T06:28:00.599Z"
   },
   {
    "duration": 65,
    "start_time": "2023-02-25T06:28:00.674Z"
   },
   {
    "duration": 33,
    "start_time": "2023-02-25T06:28:00.741Z"
   },
   {
    "duration": 68,
    "start_time": "2023-02-25T06:28:00.776Z"
   },
   {
    "duration": 180,
    "start_time": "2023-02-25T06:28:00.846Z"
   },
   {
    "duration": 8,
    "start_time": "2023-02-25T06:28:01.028Z"
   },
   {
    "duration": 26,
    "start_time": "2023-02-25T06:28:01.037Z"
   },
   {
    "duration": 192,
    "start_time": "2023-02-25T06:28:01.065Z"
   },
   {
    "duration": 905,
    "start_time": "2023-02-25T06:28:01.259Z"
   },
   {
    "duration": 166,
    "start_time": "2023-02-25T06:28:02.166Z"
   },
   {
    "duration": 9,
    "start_time": "2023-02-25T06:28:02.333Z"
   },
   {
    "duration": 145,
    "start_time": "2023-02-25T06:28:02.343Z"
   },
   {
    "duration": 281,
    "start_time": "2023-02-25T06:28:02.492Z"
   },
   {
    "duration": 35,
    "start_time": "2023-02-25T06:28:02.775Z"
   },
   {
    "duration": 1048,
    "start_time": "2023-02-25T09:39:23.590Z"
   },
   {
    "duration": 102,
    "start_time": "2023-02-25T09:43:21.909Z"
   },
   {
    "duration": 519,
    "start_time": "2023-02-25T09:43:52.511Z"
   },
   {
    "duration": 766,
    "start_time": "2023-02-25T09:43:53.033Z"
   },
   {
    "duration": 8,
    "start_time": "2023-02-25T09:43:53.803Z"
   },
   {
    "duration": 114,
    "start_time": "2023-02-25T09:43:53.814Z"
   },
   {
    "duration": 0,
    "start_time": "2023-02-25T09:43:53.931Z"
   },
   {
    "duration": 0,
    "start_time": "2023-02-25T09:43:53.933Z"
   },
   {
    "duration": 0,
    "start_time": "2023-02-25T09:43:53.934Z"
   },
   {
    "duration": 0,
    "start_time": "2023-02-25T09:43:53.936Z"
   },
   {
    "duration": 0,
    "start_time": "2023-02-25T09:43:53.938Z"
   },
   {
    "duration": 0,
    "start_time": "2023-02-25T09:43:53.939Z"
   },
   {
    "duration": 0,
    "start_time": "2023-02-25T09:43:53.941Z"
   },
   {
    "duration": 0,
    "start_time": "2023-02-25T09:43:53.942Z"
   },
   {
    "duration": 0,
    "start_time": "2023-02-25T09:43:53.944Z"
   },
   {
    "duration": 0,
    "start_time": "2023-02-25T09:43:53.945Z"
   },
   {
    "duration": 0,
    "start_time": "2023-02-25T09:43:53.946Z"
   },
   {
    "duration": 0,
    "start_time": "2023-02-25T09:43:53.948Z"
   },
   {
    "duration": 0,
    "start_time": "2023-02-25T09:43:53.949Z"
   },
   {
    "duration": 0,
    "start_time": "2023-02-25T09:43:53.951Z"
   },
   {
    "duration": 0,
    "start_time": "2023-02-25T09:43:53.952Z"
   },
   {
    "duration": 0,
    "start_time": "2023-02-25T09:43:53.953Z"
   },
   {
    "duration": 0,
    "start_time": "2023-02-25T09:43:53.955Z"
   },
   {
    "duration": 0,
    "start_time": "2023-02-25T09:43:53.999Z"
   },
   {
    "duration": 0,
    "start_time": "2023-02-25T09:43:54.000Z"
   },
   {
    "duration": 0,
    "start_time": "2023-02-25T09:43:54.001Z"
   },
   {
    "duration": 0,
    "start_time": "2023-02-25T09:43:54.002Z"
   },
   {
    "duration": 0,
    "start_time": "2023-02-25T09:43:54.003Z"
   },
   {
    "duration": 0,
    "start_time": "2023-02-25T09:43:54.004Z"
   },
   {
    "duration": 0,
    "start_time": "2023-02-25T09:43:54.006Z"
   },
   {
    "duration": 0,
    "start_time": "2023-02-25T09:43:54.007Z"
   },
   {
    "duration": 0,
    "start_time": "2023-02-25T09:43:54.009Z"
   },
   {
    "duration": 0,
    "start_time": "2023-02-25T09:43:54.010Z"
   },
   {
    "duration": 0,
    "start_time": "2023-02-25T09:43:54.011Z"
   },
   {
    "duration": 0,
    "start_time": "2023-02-25T09:43:54.012Z"
   },
   {
    "duration": 0,
    "start_time": "2023-02-25T09:43:54.013Z"
   },
   {
    "duration": 0,
    "start_time": "2023-02-25T09:43:54.015Z"
   },
   {
    "duration": 0,
    "start_time": "2023-02-25T09:43:54.016Z"
   },
   {
    "duration": 0,
    "start_time": "2023-02-25T09:43:54.018Z"
   },
   {
    "duration": 0,
    "start_time": "2023-02-25T09:43:54.019Z"
   },
   {
    "duration": 0,
    "start_time": "2023-02-25T09:43:54.020Z"
   },
   {
    "duration": 0,
    "start_time": "2023-02-25T09:43:54.022Z"
   },
   {
    "duration": 0,
    "start_time": "2023-02-25T09:43:54.023Z"
   },
   {
    "duration": 0,
    "start_time": "2023-02-25T09:43:54.025Z"
   },
   {
    "duration": 0,
    "start_time": "2023-02-25T09:43:54.026Z"
   },
   {
    "duration": 0,
    "start_time": "2023-02-25T09:43:54.028Z"
   },
   {
    "duration": 0,
    "start_time": "2023-02-25T09:43:54.029Z"
   },
   {
    "duration": 0,
    "start_time": "2023-02-25T09:43:54.031Z"
   },
   {
    "duration": 0,
    "start_time": "2023-02-25T09:43:54.032Z"
   },
   {
    "duration": 11,
    "start_time": "2023-02-25T09:44:24.538Z"
   },
   {
    "duration": 12,
    "start_time": "2023-02-25T09:44:53.932Z"
   },
   {
    "duration": 12,
    "start_time": "2023-02-25T09:45:30.335Z"
   },
   {
    "duration": 11,
    "start_time": "2023-02-25T09:47:09.677Z"
   },
   {
    "duration": 12,
    "start_time": "2023-02-25T09:47:35.997Z"
   },
   {
    "duration": 11,
    "start_time": "2023-02-25T09:49:04.839Z"
   },
   {
    "duration": 15,
    "start_time": "2023-02-25T09:51:10.231Z"
   },
   {
    "duration": 17,
    "start_time": "2023-02-25T09:51:38.872Z"
   },
   {
    "duration": 8,
    "start_time": "2023-02-25T09:53:08.541Z"
   },
   {
    "duration": 10,
    "start_time": "2023-02-25T09:54:01.304Z"
   },
   {
    "duration": 12,
    "start_time": "2023-02-25T09:54:18.138Z"
   },
   {
    "duration": 520,
    "start_time": "2023-02-25T09:54:25.580Z"
   },
   {
    "duration": 748,
    "start_time": "2023-02-25T09:54:26.102Z"
   },
   {
    "duration": 5,
    "start_time": "2023-02-25T09:54:26.852Z"
   },
   {
    "duration": 26,
    "start_time": "2023-02-25T09:54:26.860Z"
   },
   {
    "duration": 12,
    "start_time": "2023-02-25T09:54:26.888Z"
   },
   {
    "duration": 95,
    "start_time": "2023-02-25T09:54:26.901Z"
   },
   {
    "duration": 5,
    "start_time": "2023-02-25T09:54:26.998Z"
   },
   {
    "duration": 10,
    "start_time": "2023-02-25T09:54:27.005Z"
   },
   {
    "duration": 15,
    "start_time": "2023-02-25T09:54:27.017Z"
   },
   {
    "duration": 13,
    "start_time": "2023-02-25T09:54:27.035Z"
   },
   {
    "duration": 70,
    "start_time": "2023-02-25T09:54:27.050Z"
   },
   {
    "duration": 5,
    "start_time": "2023-02-25T09:54:27.121Z"
   },
   {
    "duration": 15,
    "start_time": "2023-02-25T09:54:27.128Z"
   },
   {
    "duration": 16,
    "start_time": "2023-02-25T09:54:27.145Z"
   },
   {
    "duration": 15,
    "start_time": "2023-02-25T09:54:27.163Z"
   },
   {
    "duration": 15,
    "start_time": "2023-02-25T09:54:27.180Z"
   },
   {
    "duration": 7,
    "start_time": "2023-02-25T09:54:27.197Z"
   },
   {
    "duration": 13,
    "start_time": "2023-02-25T09:54:27.206Z"
   },
   {
    "duration": 18,
    "start_time": "2023-02-25T09:54:27.221Z"
   },
   {
    "duration": 6,
    "start_time": "2023-02-25T09:54:27.241Z"
   },
   {
    "duration": 11,
    "start_time": "2023-02-25T09:54:27.249Z"
   },
   {
    "duration": 33,
    "start_time": "2023-02-25T09:54:27.261Z"
   },
   {
    "duration": 304,
    "start_time": "2023-02-25T09:54:27.296Z"
   },
   {
    "duration": 6,
    "start_time": "2023-02-25T09:54:27.602Z"
   },
   {
    "duration": 12,
    "start_time": "2023-02-25T09:54:27.609Z"
   },
   {
    "duration": 250,
    "start_time": "2023-02-25T09:54:27.623Z"
   },
   {
    "duration": 201,
    "start_time": "2023-02-25T09:54:27.875Z"
   },
   {
    "duration": 316,
    "start_time": "2023-02-25T09:54:28.081Z"
   },
   {
    "duration": 198,
    "start_time": "2023-02-25T09:54:28.399Z"
   },
   {
    "duration": 273,
    "start_time": "2023-02-25T09:54:28.599Z"
   },
   {
    "duration": 22,
    "start_time": "2023-02-25T09:54:28.874Z"
   },
   {
    "duration": 143,
    "start_time": "2023-02-25T09:54:28.898Z"
   },
   {
    "duration": 5,
    "start_time": "2023-02-25T09:54:29.043Z"
   },
   {
    "duration": 10,
    "start_time": "2023-02-25T09:54:29.049Z"
   },
   {
    "duration": 6,
    "start_time": "2023-02-25T09:54:29.061Z"
   },
   {
    "duration": 23,
    "start_time": "2023-02-25T09:54:29.069Z"
   },
   {
    "duration": 12,
    "start_time": "2023-02-25T09:54:29.093Z"
   },
   {
    "duration": 143,
    "start_time": "2023-02-25T09:54:29.106Z"
   },
   {
    "duration": 5,
    "start_time": "2023-02-25T09:54:29.250Z"
   },
   {
    "duration": 6,
    "start_time": "2023-02-25T09:54:29.257Z"
   },
   {
    "duration": 144,
    "start_time": "2023-02-25T09:54:29.264Z"
   },
   {
    "duration": 407,
    "start_time": "2023-02-25T09:54:29.411Z"
   },
   {
    "duration": 161,
    "start_time": "2023-02-25T09:54:29.820Z"
   },
   {
    "duration": 17,
    "start_time": "2023-02-25T09:54:29.983Z"
   },
   {
    "duration": 163,
    "start_time": "2023-02-25T09:54:30.002Z"
   },
   {
    "duration": 283,
    "start_time": "2023-02-25T09:54:30.167Z"
   },
   {
    "duration": 12,
    "start_time": "2023-02-25T09:54:30.452Z"
   },
   {
    "duration": 5,
    "start_time": "2023-02-25T11:21:29.169Z"
   },
   {
    "duration": 6,
    "start_time": "2023-02-25T11:22:11.017Z"
   },
   {
    "duration": 5,
    "start_time": "2023-02-25T11:23:40.655Z"
   },
   {
    "duration": 11,
    "start_time": "2023-02-25T11:24:29.360Z"
   },
   {
    "duration": 6,
    "start_time": "2023-02-25T11:27:46.592Z"
   },
   {
    "duration": 179,
    "start_time": "2023-02-25T11:29:41.052Z"
   },
   {
    "duration": 5,
    "start_time": "2023-02-25T11:29:46.085Z"
   },
   {
    "duration": 192,
    "start_time": "2023-02-25T11:30:21.245Z"
   },
   {
    "duration": 201,
    "start_time": "2023-02-25T11:35:44.666Z"
   },
   {
    "duration": 170,
    "start_time": "2023-02-25T11:36:46.867Z"
   },
   {
    "duration": 192,
    "start_time": "2023-02-25T11:37:07.664Z"
   },
   {
    "duration": 238,
    "start_time": "2023-02-25T11:43:15.669Z"
   },
   {
    "duration": 215,
    "start_time": "2023-02-25T11:43:48.631Z"
   },
   {
    "duration": 211,
    "start_time": "2023-02-25T11:44:50.220Z"
   },
   {
    "duration": 218,
    "start_time": "2023-02-25T11:52:18.664Z"
   },
   {
    "duration": 249,
    "start_time": "2023-02-25T11:52:27.869Z"
   },
   {
    "duration": 252,
    "start_time": "2023-02-25T11:52:45.428Z"
   },
   {
    "duration": 221,
    "start_time": "2023-02-25T11:52:57.121Z"
   },
   {
    "duration": 404,
    "start_time": "2023-02-25T11:56:07.347Z"
   },
   {
    "duration": 323,
    "start_time": "2023-02-25T11:56:22.159Z"
   },
   {
    "duration": 377,
    "start_time": "2023-02-25T11:56:31.024Z"
   },
   {
    "duration": 218,
    "start_time": "2023-02-25T11:56:48.235Z"
   },
   {
    "duration": 98,
    "start_time": "2023-02-25T11:58:04.266Z"
   },
   {
    "duration": 220,
    "start_time": "2023-02-25T11:58:17.335Z"
   },
   {
    "duration": 224,
    "start_time": "2023-02-25T11:58:34.421Z"
   },
   {
    "duration": 229,
    "start_time": "2023-02-25T12:01:08.826Z"
   },
   {
    "duration": 226,
    "start_time": "2023-02-25T12:01:21.634Z"
   },
   {
    "duration": 206,
    "start_time": "2023-02-25T12:01:28.150Z"
   },
   {
    "duration": 266,
    "start_time": "2023-02-25T12:02:19.574Z"
   },
   {
    "duration": 223,
    "start_time": "2023-02-25T12:02:33.922Z"
   },
   {
    "duration": 288,
    "start_time": "2023-02-25T12:03:03.098Z"
   },
   {
    "duration": 229,
    "start_time": "2023-02-25T12:03:07.828Z"
   },
   {
    "duration": 457,
    "start_time": "2023-02-25T12:04:16.375Z"
   },
   {
    "duration": 262,
    "start_time": "2023-02-25T12:04:38.220Z"
   },
   {
    "duration": 21,
    "start_time": "2023-02-25T12:04:50.921Z"
   },
   {
    "duration": 280,
    "start_time": "2023-02-25T12:05:07.559Z"
   },
   {
    "duration": 234,
    "start_time": "2023-02-25T12:05:30.327Z"
   },
   {
    "duration": 266,
    "start_time": "2023-02-25T12:05:38.264Z"
   },
   {
    "duration": 389,
    "start_time": "2023-02-25T12:07:30.476Z"
   },
   {
    "duration": 268,
    "start_time": "2023-02-25T12:09:13.586Z"
   },
   {
    "duration": 309,
    "start_time": "2023-02-25T12:09:30.986Z"
   },
   {
    "duration": 280,
    "start_time": "2023-02-25T12:09:45.956Z"
   },
   {
    "duration": 258,
    "start_time": "2023-02-25T12:11:10.388Z"
   },
   {
    "duration": 247,
    "start_time": "2023-02-25T12:11:17.916Z"
   },
   {
    "duration": 266,
    "start_time": "2023-02-25T12:15:11.779Z"
   },
   {
    "duration": 231,
    "start_time": "2023-02-25T12:15:42.050Z"
   },
   {
    "duration": 333,
    "start_time": "2023-02-25T12:16:15.922Z"
   },
   {
    "duration": 13,
    "start_time": "2023-02-25T12:25:24.375Z"
   },
   {
    "duration": 13,
    "start_time": "2023-02-25T12:25:42.540Z"
   },
   {
    "duration": 13,
    "start_time": "2023-02-25T12:27:17.342Z"
   },
   {
    "duration": 7,
    "start_time": "2023-02-25T12:28:29.033Z"
   },
   {
    "duration": 14,
    "start_time": "2023-02-25T12:28:46.039Z"
   },
   {
    "duration": 16,
    "start_time": "2023-02-25T12:31:15.273Z"
   },
   {
    "duration": 13,
    "start_time": "2023-02-25T12:31:23.653Z"
   },
   {
    "duration": 13,
    "start_time": "2023-02-25T12:31:43.050Z"
   },
   {
    "duration": 231,
    "start_time": "2023-02-25T12:45:46.779Z"
   },
   {
    "duration": 216,
    "start_time": "2023-02-25T12:47:07.617Z"
   },
   {
    "duration": 249,
    "start_time": "2023-02-25T12:47:17.530Z"
   },
   {
    "duration": 387,
    "start_time": "2023-02-25T12:48:01.823Z"
   },
   {
    "duration": 215,
    "start_time": "2023-02-25T12:48:09.670Z"
   },
   {
    "duration": 215,
    "start_time": "2023-02-25T12:49:56.789Z"
   },
   {
    "duration": 257,
    "start_time": "2023-02-25T12:52:17.463Z"
   },
   {
    "duration": 267,
    "start_time": "2023-02-25T12:52:45.782Z"
   },
   {
    "duration": 248,
    "start_time": "2023-02-25T12:53:09.827Z"
   },
   {
    "duration": 361,
    "start_time": "2023-02-25T13:00:42.780Z"
   },
   {
    "duration": 340,
    "start_time": "2023-02-25T13:00:52.273Z"
   },
   {
    "duration": 1559,
    "start_time": "2023-02-25T13:03:12.726Z"
   },
   {
    "duration": 522,
    "start_time": "2023-02-25T13:03:32.625Z"
   },
   {
    "duration": 712,
    "start_time": "2023-02-25T13:03:33.149Z"
   },
   {
    "duration": 5,
    "start_time": "2023-02-25T13:03:33.863Z"
   },
   {
    "duration": 27,
    "start_time": "2023-02-25T13:03:33.871Z"
   },
   {
    "duration": 25,
    "start_time": "2023-02-25T13:03:33.906Z"
   },
   {
    "duration": 103,
    "start_time": "2023-02-25T13:03:33.934Z"
   },
   {
    "duration": 7,
    "start_time": "2023-02-25T13:03:34.039Z"
   },
   {
    "duration": 14,
    "start_time": "2023-02-25T13:03:34.049Z"
   },
   {
    "duration": 44,
    "start_time": "2023-02-25T13:03:34.065Z"
   },
   {
    "duration": 24,
    "start_time": "2023-02-25T13:03:34.117Z"
   },
   {
    "duration": 104,
    "start_time": "2023-02-25T13:03:34.142Z"
   },
   {
    "duration": 6,
    "start_time": "2023-02-25T13:03:34.248Z"
   },
   {
    "duration": 23,
    "start_time": "2023-02-25T13:03:34.256Z"
   },
   {
    "duration": 45,
    "start_time": "2023-02-25T13:03:34.281Z"
   },
   {
    "duration": 25,
    "start_time": "2023-02-25T13:03:34.328Z"
   },
   {
    "duration": 16,
    "start_time": "2023-02-25T13:03:34.355Z"
   },
   {
    "duration": 48,
    "start_time": "2023-02-25T13:03:34.373Z"
   },
   {
    "duration": 23,
    "start_time": "2023-02-25T13:03:34.423Z"
   },
   {
    "duration": 18,
    "start_time": "2023-02-25T13:03:34.447Z"
   },
   {
    "duration": 23,
    "start_time": "2023-02-25T13:03:34.467Z"
   },
   {
    "duration": 32,
    "start_time": "2023-02-25T13:03:34.492Z"
   },
   {
    "duration": 5,
    "start_time": "2023-02-25T13:03:34.526Z"
   },
   {
    "duration": 9,
    "start_time": "2023-02-25T13:03:34.532Z"
   },
   {
    "duration": 12,
    "start_time": "2023-02-25T13:03:34.543Z"
   },
   {
    "duration": 15,
    "start_time": "2023-02-25T13:03:34.556Z"
   },
   {
    "duration": 30,
    "start_time": "2023-02-25T13:03:34.574Z"
   },
   {
    "duration": 356,
    "start_time": "2023-02-25T13:03:34.606Z"
   },
   {
    "duration": 10,
    "start_time": "2023-02-25T13:03:34.966Z"
   },
   {
    "duration": 12,
    "start_time": "2023-02-25T13:03:34.980Z"
   },
   {
    "duration": 398,
    "start_time": "2023-02-25T13:03:34.993Z"
   },
   {
    "duration": 263,
    "start_time": "2023-02-25T13:03:35.398Z"
   },
   {
    "duration": 401,
    "start_time": "2023-02-25T13:03:35.663Z"
   },
   {
    "duration": 384,
    "start_time": "2023-02-25T13:03:36.066Z"
   },
   {
    "duration": 370,
    "start_time": "2023-02-25T13:03:36.452Z"
   },
   {
    "duration": 15,
    "start_time": "2023-02-25T13:03:36.824Z"
   },
   {
    "duration": 180,
    "start_time": "2023-02-25T13:03:36.841Z"
   },
   {
    "duration": 6,
    "start_time": "2023-02-25T13:03:37.023Z"
   },
   {
    "duration": 14,
    "start_time": "2023-02-25T13:03:37.031Z"
   },
   {
    "duration": 8,
    "start_time": "2023-02-25T13:03:37.047Z"
   },
   {
    "duration": 15,
    "start_time": "2023-02-25T13:03:37.057Z"
   },
   {
    "duration": 41,
    "start_time": "2023-02-25T13:03:37.073Z"
   },
   {
    "duration": 161,
    "start_time": "2023-02-25T13:03:37.117Z"
   },
   {
    "duration": 14,
    "start_time": "2023-02-25T13:03:37.279Z"
   },
   {
    "duration": 21,
    "start_time": "2023-02-25T13:03:37.296Z"
   },
   {
    "duration": 135,
    "start_time": "2023-02-25T13:03:37.318Z"
   },
   {
    "duration": 437,
    "start_time": "2023-02-25T13:03:37.456Z"
   },
   {
    "duration": 164,
    "start_time": "2023-02-25T13:03:37.904Z"
   },
   {
    "duration": 10,
    "start_time": "2023-02-25T13:03:38.070Z"
   },
   {
    "duration": 153,
    "start_time": "2023-02-25T13:03:38.096Z"
   },
   {
    "duration": 308,
    "start_time": "2023-02-25T13:03:38.251Z"
   },
   {
    "duration": 10,
    "start_time": "2023-02-25T13:03:38.561Z"
   },
   {
    "duration": 161,
    "start_time": "2023-02-25T13:06:05.401Z"
   },
   {
    "duration": 143,
    "start_time": "2023-02-25T13:07:37.423Z"
   },
   {
    "duration": 76,
    "start_time": "2023-02-25T13:09:48.805Z"
   },
   {
    "duration": 302,
    "start_time": "2023-02-25T13:10:07.137Z"
   },
   {
    "duration": 137,
    "start_time": "2023-02-25T13:10:44.437Z"
   },
   {
    "duration": 467,
    "start_time": "2023-02-25T13:11:10.221Z"
   },
   {
    "duration": 781,
    "start_time": "2023-02-25T13:11:10.690Z"
   },
   {
    "duration": 6,
    "start_time": "2023-02-25T13:11:11.472Z"
   },
   {
    "duration": 77,
    "start_time": "2023-02-25T13:11:11.479Z"
   },
   {
    "duration": 71,
    "start_time": "2023-02-25T13:11:11.559Z"
   },
   {
    "duration": 47,
    "start_time": "2023-02-25T13:11:11.632Z"
   },
   {
    "duration": 5,
    "start_time": "2023-02-25T13:11:11.681Z"
   },
   {
    "duration": 34,
    "start_time": "2023-02-25T13:11:11.687Z"
   },
   {
    "duration": 17,
    "start_time": "2023-02-25T13:11:11.724Z"
   },
   {
    "duration": 7,
    "start_time": "2023-02-25T13:11:11.743Z"
   },
   {
    "duration": 33,
    "start_time": "2023-02-25T13:11:11.752Z"
   },
   {
    "duration": 6,
    "start_time": "2023-02-25T13:11:11.786Z"
   },
   {
    "duration": 27,
    "start_time": "2023-02-25T13:11:11.798Z"
   },
   {
    "duration": 4,
    "start_time": "2023-02-25T13:11:11.830Z"
   },
   {
    "duration": 14,
    "start_time": "2023-02-25T13:11:11.835Z"
   },
   {
    "duration": 6,
    "start_time": "2023-02-25T13:11:11.851Z"
   },
   {
    "duration": 8,
    "start_time": "2023-02-25T13:11:11.859Z"
   },
   {
    "duration": 11,
    "start_time": "2023-02-25T13:11:11.868Z"
   },
   {
    "duration": 22,
    "start_time": "2023-02-25T13:11:11.881Z"
   },
   {
    "duration": 15,
    "start_time": "2023-02-25T13:11:11.905Z"
   },
   {
    "duration": 11,
    "start_time": "2023-02-25T13:11:11.922Z"
   },
   {
    "duration": 4,
    "start_time": "2023-02-25T13:11:11.935Z"
   },
   {
    "duration": 15,
    "start_time": "2023-02-25T13:11:11.940Z"
   },
   {
    "duration": 8,
    "start_time": "2023-02-25T13:11:11.956Z"
   },
   {
    "duration": 10,
    "start_time": "2023-02-25T13:11:11.966Z"
   },
   {
    "duration": 5,
    "start_time": "2023-02-25T13:11:11.977Z"
   },
   {
    "duration": 328,
    "start_time": "2023-02-25T13:11:11.983Z"
   },
   {
    "duration": 5,
    "start_time": "2023-02-25T13:11:12.313Z"
   },
   {
    "duration": 13,
    "start_time": "2023-02-25T13:11:12.320Z"
   },
   {
    "duration": 307,
    "start_time": "2023-02-25T13:11:12.334Z"
   },
   {
    "duration": 234,
    "start_time": "2023-02-25T13:11:12.643Z"
   },
   {
    "duration": 349,
    "start_time": "2023-02-25T13:11:12.879Z"
   },
   {
    "duration": 253,
    "start_time": "2023-02-25T13:11:13.231Z"
   },
   {
    "duration": 333,
    "start_time": "2023-02-25T13:11:13.486Z"
   },
   {
    "duration": 12,
    "start_time": "2023-02-25T13:11:13.820Z"
   },
   {
    "duration": 182,
    "start_time": "2023-02-25T13:11:13.834Z"
   },
   {
    "duration": 6,
    "start_time": "2023-02-25T13:11:14.018Z"
   },
   {
    "duration": 13,
    "start_time": "2023-02-25T13:11:14.026Z"
   },
   {
    "duration": 15,
    "start_time": "2023-02-25T13:11:14.040Z"
   },
   {
    "duration": 6,
    "start_time": "2023-02-25T13:11:14.056Z"
   },
   {
    "duration": 12,
    "start_time": "2023-02-25T13:11:14.065Z"
   },
   {
    "duration": 177,
    "start_time": "2023-02-25T13:11:14.078Z"
   },
   {
    "duration": 247,
    "start_time": "2023-02-25T13:11:14.257Z"
   },
   {
    "duration": 0,
    "start_time": "2023-02-25T13:11:14.507Z"
   },
   {
    "duration": 0,
    "start_time": "2023-02-25T13:11:14.508Z"
   },
   {
    "duration": 0,
    "start_time": "2023-02-25T13:11:14.509Z"
   },
   {
    "duration": 0,
    "start_time": "2023-02-25T13:11:14.509Z"
   },
   {
    "duration": 0,
    "start_time": "2023-02-25T13:11:14.510Z"
   },
   {
    "duration": 0,
    "start_time": "2023-02-25T13:11:14.512Z"
   },
   {
    "duration": 0,
    "start_time": "2023-02-25T13:11:14.513Z"
   },
   {
    "duration": 0,
    "start_time": "2023-02-25T13:11:14.514Z"
   },
   {
    "duration": 0,
    "start_time": "2023-02-25T13:11:14.515Z"
   },
   {
    "duration": 230,
    "start_time": "2023-02-25T13:11:38.934Z"
   },
   {
    "duration": 138,
    "start_time": "2023-02-25T13:11:58.936Z"
   },
   {
    "duration": 134,
    "start_time": "2023-02-25T13:14:07.279Z"
   },
   {
    "duration": 142,
    "start_time": "2023-02-25T13:14:52.332Z"
   },
   {
    "duration": 449,
    "start_time": "2023-02-25T13:14:59.525Z"
   },
   {
    "duration": 836,
    "start_time": "2023-02-25T13:14:59.976Z"
   },
   {
    "duration": 7,
    "start_time": "2023-02-25T13:15:00.814Z"
   },
   {
    "duration": 61,
    "start_time": "2023-02-25T13:15:00.824Z"
   },
   {
    "duration": 54,
    "start_time": "2023-02-25T13:15:00.887Z"
   },
   {
    "duration": 119,
    "start_time": "2023-02-25T13:15:00.942Z"
   },
   {
    "duration": 12,
    "start_time": "2023-02-25T13:15:01.063Z"
   },
   {
    "duration": 44,
    "start_time": "2023-02-25T13:15:01.077Z"
   },
   {
    "duration": 45,
    "start_time": "2023-02-25T13:15:01.123Z"
   },
   {
    "duration": 60,
    "start_time": "2023-02-25T13:15:01.170Z"
   },
   {
    "duration": 72,
    "start_time": "2023-02-25T13:15:01.232Z"
   },
   {
    "duration": 9,
    "start_time": "2023-02-25T13:15:01.309Z"
   },
   {
    "duration": 55,
    "start_time": "2023-02-25T13:15:01.320Z"
   },
   {
    "duration": 62,
    "start_time": "2023-02-25T13:15:01.376Z"
   },
   {
    "duration": 53,
    "start_time": "2023-02-25T13:15:01.440Z"
   },
   {
    "duration": 40,
    "start_time": "2023-02-25T13:15:01.500Z"
   },
   {
    "duration": 37,
    "start_time": "2023-02-25T13:15:01.542Z"
   },
   {
    "duration": 48,
    "start_time": "2023-02-25T13:15:01.581Z"
   },
   {
    "duration": 51,
    "start_time": "2023-02-25T13:15:01.632Z"
   },
   {
    "duration": 53,
    "start_time": "2023-02-25T13:15:01.685Z"
   },
   {
    "duration": 32,
    "start_time": "2023-02-25T13:15:01.740Z"
   },
   {
    "duration": 60,
    "start_time": "2023-02-25T13:15:01.774Z"
   },
   {
    "duration": 26,
    "start_time": "2023-02-25T13:15:01.836Z"
   },
   {
    "duration": 52,
    "start_time": "2023-02-25T13:15:01.864Z"
   },
   {
    "duration": 36,
    "start_time": "2023-02-25T13:15:01.919Z"
   },
   {
    "duration": 31,
    "start_time": "2023-02-25T13:15:01.957Z"
   },
   {
    "duration": 391,
    "start_time": "2023-02-25T13:15:01.990Z"
   },
   {
    "duration": 12,
    "start_time": "2023-02-25T13:15:02.385Z"
   },
   {
    "duration": 24,
    "start_time": "2023-02-25T13:15:02.399Z"
   },
   {
    "duration": 345,
    "start_time": "2023-02-25T13:15:02.425Z"
   },
   {
    "duration": 276,
    "start_time": "2023-02-25T13:15:02.771Z"
   },
   {
    "duration": 316,
    "start_time": "2023-02-25T13:15:03.049Z"
   },
   {
    "duration": 275,
    "start_time": "2023-02-25T13:15:03.367Z"
   },
   {
    "duration": 316,
    "start_time": "2023-02-25T13:15:03.644Z"
   },
   {
    "duration": 13,
    "start_time": "2023-02-25T13:15:03.961Z"
   },
   {
    "duration": 169,
    "start_time": "2023-02-25T13:15:03.975Z"
   },
   {
    "duration": 5,
    "start_time": "2023-02-25T13:15:04.146Z"
   },
   {
    "duration": 11,
    "start_time": "2023-02-25T13:15:04.152Z"
   },
   {
    "duration": 7,
    "start_time": "2023-02-25T13:15:04.165Z"
   },
   {
    "duration": 39,
    "start_time": "2023-02-25T13:15:04.174Z"
   },
   {
    "duration": 18,
    "start_time": "2023-02-25T13:15:04.215Z"
   },
   {
    "duration": 147,
    "start_time": "2023-02-25T13:15:04.235Z"
   },
   {
    "duration": 262,
    "start_time": "2023-02-25T13:15:04.383Z"
   },
   {
    "duration": 0,
    "start_time": "2023-02-25T13:15:04.647Z"
   },
   {
    "duration": 0,
    "start_time": "2023-02-25T13:15:04.650Z"
   },
   {
    "duration": 0,
    "start_time": "2023-02-25T13:15:04.651Z"
   },
   {
    "duration": 0,
    "start_time": "2023-02-25T13:15:04.652Z"
   },
   {
    "duration": 0,
    "start_time": "2023-02-25T13:15:04.653Z"
   },
   {
    "duration": 0,
    "start_time": "2023-02-25T13:15:04.655Z"
   },
   {
    "duration": 0,
    "start_time": "2023-02-25T13:15:04.657Z"
   },
   {
    "duration": 0,
    "start_time": "2023-02-25T13:15:04.658Z"
   },
   {
    "duration": 0,
    "start_time": "2023-02-25T13:15:04.660Z"
   },
   {
    "duration": 9,
    "start_time": "2023-02-25T13:19:02.306Z"
   },
   {
    "duration": 13,
    "start_time": "2023-02-25T13:24:58.622Z"
   },
   {
    "duration": 214,
    "start_time": "2023-02-25T13:25:38.536Z"
   },
   {
    "duration": 7,
    "start_time": "2023-02-25T13:26:32.766Z"
   },
   {
    "duration": 12,
    "start_time": "2023-02-25T13:27:00.957Z"
   },
   {
    "duration": 8,
    "start_time": "2023-02-25T13:28:26.369Z"
   },
   {
    "duration": 142,
    "start_time": "2023-02-25T13:28:42.472Z"
   },
   {
    "duration": 6,
    "start_time": "2023-02-25T13:29:28.805Z"
   },
   {
    "duration": 156,
    "start_time": "2023-02-25T13:30:18.392Z"
   },
   {
    "duration": 139,
    "start_time": "2023-02-25T13:30:51.994Z"
   },
   {
    "duration": 100,
    "start_time": "2023-02-25T13:32:29.572Z"
   },
   {
    "duration": 74,
    "start_time": "2023-02-25T13:33:49.497Z"
   },
   {
    "duration": 100,
    "start_time": "2023-02-25T13:35:34.154Z"
   },
   {
    "duration": 143,
    "start_time": "2023-02-25T13:36:06.191Z"
   },
   {
    "duration": 12,
    "start_time": "2023-02-25T13:36:27.933Z"
   },
   {
    "duration": 184,
    "start_time": "2023-02-25T13:36:55.276Z"
   },
   {
    "duration": 112,
    "start_time": "2023-02-25T13:37:36.150Z"
   },
   {
    "duration": 105,
    "start_time": "2023-02-25T13:37:49.533Z"
   },
   {
    "duration": 105,
    "start_time": "2023-02-25T13:38:21.654Z"
   },
   {
    "duration": 466,
    "start_time": "2023-02-25T13:38:29.020Z"
   },
   {
    "duration": 827,
    "start_time": "2023-02-25T13:38:29.488Z"
   },
   {
    "duration": 5,
    "start_time": "2023-02-25T13:38:30.318Z"
   },
   {
    "duration": 43,
    "start_time": "2023-02-25T13:38:30.337Z"
   },
   {
    "duration": 60,
    "start_time": "2023-02-25T13:38:30.382Z"
   },
   {
    "duration": 134,
    "start_time": "2023-02-25T13:38:30.444Z"
   },
   {
    "duration": 6,
    "start_time": "2023-02-25T13:38:30.580Z"
   },
   {
    "duration": 73,
    "start_time": "2023-02-25T13:38:30.588Z"
   },
   {
    "duration": 57,
    "start_time": "2023-02-25T13:38:30.662Z"
   },
   {
    "duration": 50,
    "start_time": "2023-02-25T13:38:30.724Z"
   },
   {
    "duration": 108,
    "start_time": "2023-02-25T13:38:30.776Z"
   },
   {
    "duration": 45,
    "start_time": "2023-02-25T13:38:30.886Z"
   },
   {
    "duration": 29,
    "start_time": "2023-02-25T13:38:30.933Z"
   },
   {
    "duration": 27,
    "start_time": "2023-02-25T13:38:30.964Z"
   },
   {
    "duration": 91,
    "start_time": "2023-02-25T13:38:30.993Z"
   },
   {
    "duration": 73,
    "start_time": "2023-02-25T13:38:31.086Z"
   },
   {
    "duration": 65,
    "start_time": "2023-02-25T13:38:31.161Z"
   },
   {
    "duration": 95,
    "start_time": "2023-02-25T13:38:31.228Z"
   },
   {
    "duration": 116,
    "start_time": "2023-02-25T13:38:31.327Z"
   },
   {
    "duration": 18,
    "start_time": "2023-02-25T13:38:31.445Z"
   },
   {
    "duration": 58,
    "start_time": "2023-02-25T13:38:31.465Z"
   },
   {
    "duration": 53,
    "start_time": "2023-02-25T13:38:31.525Z"
   },
   {
    "duration": 82,
    "start_time": "2023-02-25T13:38:31.581Z"
   },
   {
    "duration": 96,
    "start_time": "2023-02-25T13:38:31.664Z"
   },
   {
    "duration": 49,
    "start_time": "2023-02-25T13:38:31.762Z"
   },
   {
    "duration": 49,
    "start_time": "2023-02-25T13:38:31.820Z"
   },
   {
    "duration": 374,
    "start_time": "2023-02-25T13:38:31.871Z"
   },
   {
    "duration": 6,
    "start_time": "2023-02-25T13:38:32.249Z"
   },
   {
    "duration": 34,
    "start_time": "2023-02-25T13:38:32.256Z"
   },
   {
    "duration": 383,
    "start_time": "2023-02-25T13:38:32.292Z"
   },
   {
    "duration": 273,
    "start_time": "2023-02-25T13:38:32.677Z"
   },
   {
    "duration": 318,
    "start_time": "2023-02-25T13:38:32.952Z"
   },
   {
    "duration": 275,
    "start_time": "2023-02-25T13:38:33.272Z"
   },
   {
    "duration": 307,
    "start_time": "2023-02-25T13:38:33.549Z"
   },
   {
    "duration": 11,
    "start_time": "2023-02-25T13:38:33.858Z"
   },
   {
    "duration": 185,
    "start_time": "2023-02-25T13:38:33.870Z"
   },
   {
    "duration": 4,
    "start_time": "2023-02-25T13:38:34.057Z"
   },
   {
    "duration": 10,
    "start_time": "2023-02-25T13:38:34.063Z"
   },
   {
    "duration": 65,
    "start_time": "2023-02-25T13:38:34.075Z"
   },
   {
    "duration": 7,
    "start_time": "2023-02-25T13:38:34.142Z"
   },
   {
    "duration": 14,
    "start_time": "2023-02-25T13:38:34.151Z"
   },
   {
    "duration": 176,
    "start_time": "2023-02-25T13:38:34.166Z"
   },
   {
    "duration": 163,
    "start_time": "2023-02-25T13:38:34.344Z"
   },
   {
    "duration": 11,
    "start_time": "2023-02-25T13:38:34.508Z"
   },
   {
    "duration": 99,
    "start_time": "2023-02-25T13:38:34.521Z"
   },
   {
    "duration": 0,
    "start_time": "2023-02-25T13:38:34.622Z"
   },
   {
    "duration": 0,
    "start_time": "2023-02-25T13:38:34.623Z"
   },
   {
    "duration": 0,
    "start_time": "2023-02-25T13:38:34.624Z"
   },
   {
    "duration": 0,
    "start_time": "2023-02-25T13:38:34.626Z"
   },
   {
    "duration": 0,
    "start_time": "2023-02-25T13:38:34.627Z"
   },
   {
    "duration": 1,
    "start_time": "2023-02-25T13:38:34.628Z"
   },
   {
    "duration": 0,
    "start_time": "2023-02-25T13:38:34.630Z"
   },
   {
    "duration": 74,
    "start_time": "2023-02-25T13:40:23.313Z"
   },
   {
    "duration": 146,
    "start_time": "2023-02-25T13:40:31.976Z"
   },
   {
    "duration": 30,
    "start_time": "2023-02-25T13:40:57.102Z"
   },
   {
    "duration": 107,
    "start_time": "2023-02-25T13:44:30.404Z"
   },
   {
    "duration": 85,
    "start_time": "2023-02-25T13:44:45.569Z"
   },
   {
    "duration": 75,
    "start_time": "2023-02-25T13:44:54.106Z"
   },
   {
    "duration": 84,
    "start_time": "2023-02-25T13:45:59.573Z"
   },
   {
    "duration": 6,
    "start_time": "2023-02-25T13:46:16.177Z"
   },
   {
    "duration": 125,
    "start_time": "2023-02-25T13:46:18.290Z"
   },
   {
    "duration": 11,
    "start_time": "2023-02-25T13:54:00.569Z"
   },
   {
    "duration": 418,
    "start_time": "2023-02-25T13:54:40.349Z"
   },
   {
    "duration": 708,
    "start_time": "2023-02-25T13:54:40.769Z"
   },
   {
    "duration": 5,
    "start_time": "2023-02-25T13:54:41.478Z"
   },
   {
    "duration": 13,
    "start_time": "2023-02-25T13:54:41.492Z"
   },
   {
    "duration": 12,
    "start_time": "2023-02-25T13:54:41.507Z"
   },
   {
    "duration": 46,
    "start_time": "2023-02-25T13:54:41.520Z"
   },
   {
    "duration": 7,
    "start_time": "2023-02-25T13:54:41.568Z"
   },
   {
    "duration": 7,
    "start_time": "2023-02-25T13:54:41.577Z"
   },
   {
    "duration": 15,
    "start_time": "2023-02-25T13:54:41.586Z"
   },
   {
    "duration": 15,
    "start_time": "2023-02-25T13:54:41.604Z"
   },
   {
    "duration": 117,
    "start_time": "2023-02-25T13:54:41.621Z"
   },
   {
    "duration": 0,
    "start_time": "2023-02-25T13:54:41.741Z"
   },
   {
    "duration": 0,
    "start_time": "2023-02-25T13:54:41.742Z"
   },
   {
    "duration": 0,
    "start_time": "2023-02-25T13:54:41.743Z"
   },
   {
    "duration": 0,
    "start_time": "2023-02-25T13:54:41.744Z"
   },
   {
    "duration": 0,
    "start_time": "2023-02-25T13:54:41.745Z"
   },
   {
    "duration": 0,
    "start_time": "2023-02-25T13:54:41.746Z"
   },
   {
    "duration": 0,
    "start_time": "2023-02-25T13:54:41.746Z"
   },
   {
    "duration": 0,
    "start_time": "2023-02-25T13:54:41.747Z"
   },
   {
    "duration": 0,
    "start_time": "2023-02-25T13:54:41.749Z"
   },
   {
    "duration": 0,
    "start_time": "2023-02-25T13:54:41.750Z"
   },
   {
    "duration": 0,
    "start_time": "2023-02-25T13:54:41.751Z"
   },
   {
    "duration": 0,
    "start_time": "2023-02-25T13:54:41.752Z"
   },
   {
    "duration": 0,
    "start_time": "2023-02-25T13:54:41.753Z"
   },
   {
    "duration": 0,
    "start_time": "2023-02-25T13:54:41.754Z"
   },
   {
    "duration": 0,
    "start_time": "2023-02-25T13:54:41.755Z"
   },
   {
    "duration": 0,
    "start_time": "2023-02-25T13:54:41.756Z"
   },
   {
    "duration": 0,
    "start_time": "2023-02-25T13:54:41.758Z"
   },
   {
    "duration": 0,
    "start_time": "2023-02-25T13:54:41.792Z"
   },
   {
    "duration": 0,
    "start_time": "2023-02-25T13:54:41.793Z"
   },
   {
    "duration": 0,
    "start_time": "2023-02-25T13:54:41.794Z"
   },
   {
    "duration": 0,
    "start_time": "2023-02-25T13:54:41.795Z"
   },
   {
    "duration": 0,
    "start_time": "2023-02-25T13:54:41.797Z"
   },
   {
    "duration": 1,
    "start_time": "2023-02-25T13:54:41.797Z"
   },
   {
    "duration": 0,
    "start_time": "2023-02-25T13:54:41.799Z"
   },
   {
    "duration": 0,
    "start_time": "2023-02-25T13:54:41.800Z"
   },
   {
    "duration": 0,
    "start_time": "2023-02-25T13:54:41.801Z"
   },
   {
    "duration": 0,
    "start_time": "2023-02-25T13:54:41.801Z"
   },
   {
    "duration": 0,
    "start_time": "2023-02-25T13:54:41.802Z"
   },
   {
    "duration": 0,
    "start_time": "2023-02-25T13:54:41.803Z"
   },
   {
    "duration": 0,
    "start_time": "2023-02-25T13:54:41.804Z"
   },
   {
    "duration": 0,
    "start_time": "2023-02-25T13:54:41.806Z"
   },
   {
    "duration": 0,
    "start_time": "2023-02-25T13:54:41.807Z"
   },
   {
    "duration": 0,
    "start_time": "2023-02-25T13:54:41.808Z"
   },
   {
    "duration": 0,
    "start_time": "2023-02-25T13:54:41.809Z"
   },
   {
    "duration": 0,
    "start_time": "2023-02-25T13:54:41.810Z"
   },
   {
    "duration": 0,
    "start_time": "2023-02-25T13:54:41.811Z"
   },
   {
    "duration": 0,
    "start_time": "2023-02-25T13:54:41.812Z"
   },
   {
    "duration": 0,
    "start_time": "2023-02-25T13:54:41.813Z"
   },
   {
    "duration": 0,
    "start_time": "2023-02-25T13:54:41.814Z"
   },
   {
    "duration": 0,
    "start_time": "2023-02-25T13:54:41.815Z"
   },
   {
    "duration": 0,
    "start_time": "2023-02-25T13:54:41.816Z"
   },
   {
    "duration": 0,
    "start_time": "2023-02-25T13:54:41.817Z"
   },
   {
    "duration": 0,
    "start_time": "2023-02-25T13:54:41.818Z"
   },
   {
    "duration": 4,
    "start_time": "2023-02-25T13:55:35.406Z"
   },
   {
    "duration": 5,
    "start_time": "2023-02-25T13:55:46.405Z"
   },
   {
    "duration": 5,
    "start_time": "2023-02-25T13:56:08.963Z"
   },
   {
    "duration": 6,
    "start_time": "2023-02-25T13:56:27.198Z"
   },
   {
    "duration": 9,
    "start_time": "2023-02-25T13:58:00.522Z"
   },
   {
    "duration": 9,
    "start_time": "2023-02-25T13:58:49.236Z"
   },
   {
    "duration": 10,
    "start_time": "2023-02-25T13:59:15.176Z"
   },
   {
    "duration": 480,
    "start_time": "2023-02-25T13:59:30.575Z"
   },
   {
    "duration": 745,
    "start_time": "2023-02-25T13:59:31.058Z"
   },
   {
    "duration": 5,
    "start_time": "2023-02-25T13:59:31.805Z"
   },
   {
    "duration": 25,
    "start_time": "2023-02-25T13:59:31.813Z"
   },
   {
    "duration": 16,
    "start_time": "2023-02-25T13:59:31.840Z"
   },
   {
    "duration": 76,
    "start_time": "2023-02-25T13:59:31.858Z"
   },
   {
    "duration": 10,
    "start_time": "2023-02-25T13:59:31.936Z"
   },
   {
    "duration": 33,
    "start_time": "2023-02-25T13:59:31.947Z"
   },
   {
    "duration": 33,
    "start_time": "2023-02-25T13:59:31.982Z"
   },
   {
    "duration": 8,
    "start_time": "2023-02-25T13:59:32.019Z"
   },
   {
    "duration": 14,
    "start_time": "2023-02-25T13:59:32.029Z"
   },
   {
    "duration": 34,
    "start_time": "2023-02-25T13:59:32.045Z"
   },
   {
    "duration": 6,
    "start_time": "2023-02-25T13:59:32.081Z"
   },
   {
    "duration": 29,
    "start_time": "2023-02-25T13:59:32.089Z"
   },
   {
    "duration": 11,
    "start_time": "2023-02-25T13:59:32.122Z"
   },
   {
    "duration": 24,
    "start_time": "2023-02-25T13:59:32.135Z"
   },
   {
    "duration": 23,
    "start_time": "2023-02-25T13:59:32.161Z"
   },
   {
    "duration": 18,
    "start_time": "2023-02-25T13:59:32.186Z"
   },
   {
    "duration": 20,
    "start_time": "2023-02-25T13:59:32.206Z"
   },
   {
    "duration": 35,
    "start_time": "2023-02-25T13:59:32.228Z"
   },
   {
    "duration": 12,
    "start_time": "2023-02-25T13:59:32.265Z"
   },
   {
    "duration": 34,
    "start_time": "2023-02-25T13:59:32.279Z"
   },
   {
    "duration": 24,
    "start_time": "2023-02-25T13:59:32.315Z"
   },
   {
    "duration": 14,
    "start_time": "2023-02-25T13:59:32.341Z"
   },
   {
    "duration": 15,
    "start_time": "2023-02-25T13:59:32.356Z"
   },
   {
    "duration": 52,
    "start_time": "2023-02-25T13:59:32.372Z"
   },
   {
    "duration": 95,
    "start_time": "2023-02-25T13:59:32.426Z"
   },
   {
    "duration": 317,
    "start_time": "2023-02-25T13:59:32.525Z"
   },
   {
    "duration": 5,
    "start_time": "2023-02-25T13:59:32.844Z"
   },
   {
    "duration": 8,
    "start_time": "2023-02-25T13:59:32.850Z"
   },
   {
    "duration": 299,
    "start_time": "2023-02-25T13:59:32.860Z"
   },
   {
    "duration": 234,
    "start_time": "2023-02-25T13:59:33.160Z"
   },
   {
    "duration": 312,
    "start_time": "2023-02-25T13:59:33.396Z"
   },
   {
    "duration": 237,
    "start_time": "2023-02-25T13:59:33.710Z"
   },
   {
    "duration": 296,
    "start_time": "2023-02-25T13:59:33.950Z"
   },
   {
    "duration": 11,
    "start_time": "2023-02-25T13:59:34.247Z"
   },
   {
    "duration": 166,
    "start_time": "2023-02-25T13:59:34.260Z"
   },
   {
    "duration": 5,
    "start_time": "2023-02-25T13:59:34.427Z"
   },
   {
    "duration": 23,
    "start_time": "2023-02-25T13:59:34.434Z"
   },
   {
    "duration": 12,
    "start_time": "2023-02-25T13:59:34.458Z"
   },
   {
    "duration": 20,
    "start_time": "2023-02-25T13:59:34.472Z"
   },
   {
    "duration": 19,
    "start_time": "2023-02-25T13:59:34.493Z"
   },
   {
    "duration": 141,
    "start_time": "2023-02-25T13:59:34.514Z"
   },
   {
    "duration": 148,
    "start_time": "2023-02-25T13:59:34.656Z"
   },
   {
    "duration": 5,
    "start_time": "2023-02-25T13:59:34.806Z"
   },
   {
    "duration": 11,
    "start_time": "2023-02-25T13:59:34.813Z"
   },
   {
    "duration": 210,
    "start_time": "2023-02-25T13:59:34.826Z"
   },
   {
    "duration": 10,
    "start_time": "2023-02-25T13:59:35.038Z"
   },
   {
    "duration": 9,
    "start_time": "2023-02-25T13:59:35.050Z"
   },
   {
    "duration": 388,
    "start_time": "2023-02-25T13:59:35.061Z"
   },
   {
    "duration": 164,
    "start_time": "2023-02-25T13:59:35.451Z"
   },
   {
    "duration": 13,
    "start_time": "2023-02-25T13:59:35.617Z"
   },
   {
    "duration": 161,
    "start_time": "2023-02-25T13:59:35.631Z"
   },
   {
    "duration": 293,
    "start_time": "2023-02-25T13:59:35.794Z"
   },
   {
    "duration": 15,
    "start_time": "2023-02-25T13:59:36.092Z"
   },
   {
    "duration": 78,
    "start_time": "2023-02-25T14:00:30.568Z"
   },
   {
    "duration": 8,
    "start_time": "2023-02-25T14:00:49.455Z"
   },
   {
    "duration": 67,
    "start_time": "2023-02-25T14:00:58.215Z"
   },
   {
    "duration": 7,
    "start_time": "2023-02-25T14:01:05.204Z"
   },
   {
    "duration": 78,
    "start_time": "2023-02-25T14:01:13.611Z"
   },
   {
    "duration": 7,
    "start_time": "2023-02-25T14:01:27.171Z"
   },
   {
    "duration": 4,
    "start_time": "2023-02-25T14:01:41.268Z"
   },
   {
    "duration": 5,
    "start_time": "2023-02-25T14:04:25.920Z"
   },
   {
    "duration": 106,
    "start_time": "2023-02-25T14:04:47.626Z"
   },
   {
    "duration": 69,
    "start_time": "2023-02-25T14:04:57.873Z"
   },
   {
    "duration": 95,
    "start_time": "2023-02-25T14:05:33.882Z"
   },
   {
    "duration": 70,
    "start_time": "2023-02-25T14:05:52.069Z"
   },
   {
    "duration": 10,
    "start_time": "2023-02-25T14:05:59.887Z"
   },
   {
    "duration": 138,
    "start_time": "2023-02-25T15:51:32.493Z"
   },
   {
    "duration": 136,
    "start_time": "2023-02-25T15:54:07.296Z"
   },
   {
    "duration": 24,
    "start_time": "2023-02-25T15:55:03.116Z"
   },
   {
    "duration": 21,
    "start_time": "2023-02-25T15:55:34.637Z"
   },
   {
    "duration": 21,
    "start_time": "2023-02-25T15:56:11.356Z"
   },
   {
    "duration": 22,
    "start_time": "2023-02-25T15:56:48.447Z"
   },
   {
    "duration": 22,
    "start_time": "2023-02-25T15:56:54.553Z"
   },
   {
    "duration": 12,
    "start_time": "2023-02-25T15:58:28.360Z"
   },
   {
    "duration": 255,
    "start_time": "2023-02-25T15:59:48.751Z"
   },
   {
    "duration": 156,
    "start_time": "2023-02-25T16:01:52.793Z"
   },
   {
    "duration": 23,
    "start_time": "2023-02-25T16:02:37.887Z"
   },
   {
    "duration": 22,
    "start_time": "2023-02-25T16:03:24.382Z"
   },
   {
    "duration": 23,
    "start_time": "2023-02-25T16:03:32.879Z"
   },
   {
    "duration": 22,
    "start_time": "2023-02-25T16:05:55.597Z"
   },
   {
    "duration": 482,
    "start_time": "2023-02-25T16:07:02.058Z"
   },
   {
    "duration": 716,
    "start_time": "2023-02-25T16:07:02.542Z"
   },
   {
    "duration": 5,
    "start_time": "2023-02-25T16:07:03.260Z"
   },
   {
    "duration": 25,
    "start_time": "2023-02-25T16:07:03.268Z"
   },
   {
    "duration": 35,
    "start_time": "2023-02-25T16:07:03.295Z"
   },
   {
    "duration": 43,
    "start_time": "2023-02-25T16:07:03.332Z"
   },
   {
    "duration": 5,
    "start_time": "2023-02-25T16:07:03.376Z"
   },
   {
    "duration": 8,
    "start_time": "2023-02-25T16:07:03.383Z"
   },
   {
    "duration": 13,
    "start_time": "2023-02-25T16:07:03.392Z"
   },
   {
    "duration": 10,
    "start_time": "2023-02-25T16:07:03.408Z"
   },
   {
    "duration": 9,
    "start_time": "2023-02-25T16:07:03.419Z"
   },
   {
    "duration": 21,
    "start_time": "2023-02-25T16:07:03.429Z"
   },
   {
    "duration": 4,
    "start_time": "2023-02-25T16:07:03.452Z"
   },
   {
    "duration": 8,
    "start_time": "2023-02-25T16:07:03.457Z"
   },
   {
    "duration": 6,
    "start_time": "2023-02-25T16:07:03.466Z"
   },
   {
    "duration": 24,
    "start_time": "2023-02-25T16:07:03.473Z"
   },
   {
    "duration": 4,
    "start_time": "2023-02-25T16:07:03.498Z"
   },
   {
    "duration": 8,
    "start_time": "2023-02-25T16:07:03.503Z"
   },
   {
    "duration": 10,
    "start_time": "2023-02-25T16:07:03.512Z"
   },
   {
    "duration": 12,
    "start_time": "2023-02-25T16:07:03.523Z"
   },
   {
    "duration": 4,
    "start_time": "2023-02-25T16:07:03.537Z"
   },
   {
    "duration": 11,
    "start_time": "2023-02-25T16:07:03.542Z"
   },
   {
    "duration": 8,
    "start_time": "2023-02-25T16:07:03.554Z"
   },
   {
    "duration": 5,
    "start_time": "2023-02-25T16:07:03.592Z"
   },
   {
    "duration": 9,
    "start_time": "2023-02-25T16:07:03.599Z"
   },
   {
    "duration": 15,
    "start_time": "2023-02-25T16:07:03.609Z"
   },
   {
    "duration": 4,
    "start_time": "2023-02-25T16:07:03.625Z"
   },
   {
    "duration": 303,
    "start_time": "2023-02-25T16:07:03.632Z"
   },
   {
    "duration": 4,
    "start_time": "2023-02-25T16:07:03.937Z"
   },
   {
    "duration": 48,
    "start_time": "2023-02-25T16:07:03.943Z"
   },
   {
    "duration": 278,
    "start_time": "2023-02-25T16:07:03.993Z"
   },
   {
    "duration": 235,
    "start_time": "2023-02-25T16:07:04.273Z"
   },
   {
    "duration": 307,
    "start_time": "2023-02-25T16:07:04.510Z"
   },
   {
    "duration": 219,
    "start_time": "2023-02-25T16:07:04.818Z"
   },
   {
    "duration": 306,
    "start_time": "2023-02-25T16:07:05.039Z"
   },
   {
    "duration": 12,
    "start_time": "2023-02-25T16:07:05.347Z"
   },
   {
    "duration": 161,
    "start_time": "2023-02-25T16:07:05.360Z"
   },
   {
    "duration": 5,
    "start_time": "2023-02-25T16:07:05.523Z"
   },
   {
    "duration": 14,
    "start_time": "2023-02-25T16:07:05.529Z"
   },
   {
    "duration": 12,
    "start_time": "2023-02-25T16:07:05.545Z"
   },
   {
    "duration": 7,
    "start_time": "2023-02-25T16:07:05.558Z"
   },
   {
    "duration": 25,
    "start_time": "2023-02-25T16:07:05.567Z"
   },
   {
    "duration": 145,
    "start_time": "2023-02-25T16:07:05.594Z"
   },
   {
    "duration": 137,
    "start_time": "2023-02-25T16:07:05.741Z"
   },
   {
    "duration": 13,
    "start_time": "2023-02-25T16:07:05.880Z"
   },
   {
    "duration": 9,
    "start_time": "2023-02-25T16:07:05.894Z"
   },
   {
    "duration": 229,
    "start_time": "2023-02-25T16:07:05.905Z"
   },
   {
    "duration": 6,
    "start_time": "2023-02-25T16:07:06.136Z"
   },
   {
    "duration": 128,
    "start_time": "2023-02-25T16:07:06.143Z"
   },
   {
    "duration": 0,
    "start_time": "2023-02-25T16:07:06.273Z"
   },
   {
    "duration": 0,
    "start_time": "2023-02-25T16:07:06.274Z"
   },
   {
    "duration": 0,
    "start_time": "2023-02-25T16:07:06.275Z"
   },
   {
    "duration": 13,
    "start_time": "2023-02-25T16:07:45.924Z"
   },
   {
    "duration": 9,
    "start_time": "2023-02-25T16:08:03.151Z"
   },
   {
    "duration": 13,
    "start_time": "2023-02-25T16:09:07.106Z"
   },
   {
    "duration": 1341,
    "start_time": "2023-02-25T16:09:42.002Z"
   },
   {
    "duration": 1311,
    "start_time": "2023-02-25T16:11:46.260Z"
   },
   {
    "duration": 1275,
    "start_time": "2023-02-25T16:12:41.876Z"
   },
   {
    "duration": 309,
    "start_time": "2023-02-25T16:14:53.446Z"
   },
   {
    "duration": 185,
    "start_time": "2023-02-25T16:15:43.858Z"
   },
   {
    "duration": 11,
    "start_time": "2023-02-25T16:16:07.713Z"
   },
   {
    "duration": 1640,
    "start_time": "2023-02-25T16:18:59.212Z"
   },
   {
    "duration": 2133,
    "start_time": "2023-02-25T16:20:21.940Z"
   },
   {
    "duration": 10,
    "start_time": "2023-02-25T16:21:13.638Z"
   },
   {
    "duration": 481,
    "start_time": "2023-02-25T16:22:14.806Z"
   },
   {
    "duration": 742,
    "start_time": "2023-02-25T16:22:15.289Z"
   },
   {
    "duration": 5,
    "start_time": "2023-02-25T16:22:16.033Z"
   },
   {
    "duration": 15,
    "start_time": "2023-02-25T16:22:16.040Z"
   },
   {
    "duration": 11,
    "start_time": "2023-02-25T16:22:16.057Z"
   },
   {
    "duration": 41,
    "start_time": "2023-02-25T16:22:16.091Z"
   },
   {
    "duration": 6,
    "start_time": "2023-02-25T16:22:16.133Z"
   },
   {
    "duration": 16,
    "start_time": "2023-02-25T16:22:16.140Z"
   },
   {
    "duration": 25,
    "start_time": "2023-02-25T16:22:16.159Z"
   },
   {
    "duration": 7,
    "start_time": "2023-02-25T16:22:16.189Z"
   },
   {
    "duration": 9,
    "start_time": "2023-02-25T16:22:16.198Z"
   },
   {
    "duration": 27,
    "start_time": "2023-02-25T16:22:16.209Z"
   },
   {
    "duration": 7,
    "start_time": "2023-02-25T16:22:16.238Z"
   },
   {
    "duration": 10,
    "start_time": "2023-02-25T16:22:16.247Z"
   },
   {
    "duration": 10,
    "start_time": "2023-02-25T16:22:16.259Z"
   },
   {
    "duration": 11,
    "start_time": "2023-02-25T16:22:16.271Z"
   },
   {
    "duration": 11,
    "start_time": "2023-02-25T16:22:16.284Z"
   },
   {
    "duration": 14,
    "start_time": "2023-02-25T16:22:16.296Z"
   },
   {
    "duration": 9,
    "start_time": "2023-02-25T16:22:16.311Z"
   },
   {
    "duration": 15,
    "start_time": "2023-02-25T16:22:16.322Z"
   },
   {
    "duration": 8,
    "start_time": "2023-02-25T16:22:16.340Z"
   },
   {
    "duration": 20,
    "start_time": "2023-02-25T16:22:16.351Z"
   },
   {
    "duration": 5,
    "start_time": "2023-02-25T16:22:16.391Z"
   },
   {
    "duration": 12,
    "start_time": "2023-02-25T16:22:16.398Z"
   },
   {
    "duration": 20,
    "start_time": "2023-02-25T16:22:16.412Z"
   },
   {
    "duration": 13,
    "start_time": "2023-02-25T16:22:16.433Z"
   },
   {
    "duration": 24,
    "start_time": "2023-02-25T16:22:16.448Z"
   },
   {
    "duration": 330,
    "start_time": "2023-02-25T16:22:16.477Z"
   },
   {
    "duration": 5,
    "start_time": "2023-02-25T16:22:16.809Z"
   },
   {
    "duration": 12,
    "start_time": "2023-02-25T16:22:16.816Z"
   },
   {
    "duration": 286,
    "start_time": "2023-02-25T16:22:16.830Z"
   },
   {
    "duration": 228,
    "start_time": "2023-02-25T16:22:17.119Z"
   },
   {
    "duration": 334,
    "start_time": "2023-02-25T16:22:17.349Z"
   },
   {
    "duration": 249,
    "start_time": "2023-02-25T16:22:17.685Z"
   },
   {
    "duration": 289,
    "start_time": "2023-02-25T16:22:17.936Z"
   },
   {
    "duration": 15,
    "start_time": "2023-02-25T16:22:18.228Z"
   },
   {
    "duration": 162,
    "start_time": "2023-02-25T16:22:18.245Z"
   },
   {
    "duration": 6,
    "start_time": "2023-02-25T16:22:18.408Z"
   },
   {
    "duration": 10,
    "start_time": "2023-02-25T16:22:18.416Z"
   },
   {
    "duration": 7,
    "start_time": "2023-02-25T16:22:18.428Z"
   },
   {
    "duration": 6,
    "start_time": "2023-02-25T16:22:18.437Z"
   },
   {
    "duration": 50,
    "start_time": "2023-02-25T16:22:18.445Z"
   },
   {
    "duration": 161,
    "start_time": "2023-02-25T16:22:18.497Z"
   },
   {
    "duration": 140,
    "start_time": "2023-02-25T16:22:18.659Z"
   },
   {
    "duration": 5,
    "start_time": "2023-02-25T16:22:18.800Z"
   },
   {
    "duration": 10,
    "start_time": "2023-02-25T16:22:18.807Z"
   },
   {
    "duration": 213,
    "start_time": "2023-02-25T16:22:18.818Z"
   },
   {
    "duration": 6,
    "start_time": "2023-02-25T16:22:19.033Z"
   },
   {
    "duration": 194,
    "start_time": "2023-02-25T16:22:19.041Z"
   },
   {
    "duration": 11,
    "start_time": "2023-02-25T16:22:19.237Z"
   },
   {
    "duration": 1349,
    "start_time": "2023-02-25T16:22:19.250Z"
   },
   {
    "duration": 0,
    "start_time": "2023-02-25T16:22:20.601Z"
   },
   {
    "duration": 0,
    "start_time": "2023-02-25T16:22:20.602Z"
   },
   {
    "duration": 156,
    "start_time": "2023-02-25T16:22:31.666Z"
   },
   {
    "duration": 10,
    "start_time": "2023-02-25T16:22:43.906Z"
   },
   {
    "duration": 1458,
    "start_time": "2023-02-25T16:22:59.924Z"
   },
   {
    "duration": 164,
    "start_time": "2023-02-25T16:24:43.434Z"
   },
   {
    "duration": 176,
    "start_time": "2023-02-25T16:26:14.868Z"
   },
   {
    "duration": 11,
    "start_time": "2023-02-25T16:27:25.315Z"
   },
   {
    "duration": 468,
    "start_time": "2023-02-25T16:32:32.995Z"
   },
   {
    "duration": 745,
    "start_time": "2023-02-25T16:32:33.465Z"
   },
   {
    "duration": 5,
    "start_time": "2023-02-25T16:32:34.212Z"
   },
   {
    "duration": 16,
    "start_time": "2023-02-25T16:32:34.219Z"
   },
   {
    "duration": 16,
    "start_time": "2023-02-25T16:32:34.236Z"
   },
   {
    "duration": 42,
    "start_time": "2023-02-25T16:32:34.254Z"
   },
   {
    "duration": 5,
    "start_time": "2023-02-25T16:32:34.298Z"
   },
   {
    "duration": 8,
    "start_time": "2023-02-25T16:32:34.304Z"
   },
   {
    "duration": 14,
    "start_time": "2023-02-25T16:32:34.313Z"
   },
   {
    "duration": 6,
    "start_time": "2023-02-25T16:32:34.330Z"
   },
   {
    "duration": 21,
    "start_time": "2023-02-25T16:32:34.338Z"
   },
   {
    "duration": 31,
    "start_time": "2023-02-25T16:32:34.361Z"
   },
   {
    "duration": 6,
    "start_time": "2023-02-25T16:32:34.394Z"
   },
   {
    "duration": 9,
    "start_time": "2023-02-25T16:32:34.402Z"
   },
   {
    "duration": 6,
    "start_time": "2023-02-25T16:32:34.412Z"
   },
   {
    "duration": 12,
    "start_time": "2023-02-25T16:32:34.420Z"
   },
   {
    "duration": 14,
    "start_time": "2023-02-25T16:32:34.433Z"
   },
   {
    "duration": 5,
    "start_time": "2023-02-25T16:32:34.449Z"
   },
   {
    "duration": 37,
    "start_time": "2023-02-25T16:32:34.456Z"
   },
   {
    "duration": 15,
    "start_time": "2023-02-25T16:32:34.494Z"
   },
   {
    "duration": 7,
    "start_time": "2023-02-25T16:32:34.511Z"
   },
   {
    "duration": 9,
    "start_time": "2023-02-25T16:32:34.520Z"
   },
   {
    "duration": 16,
    "start_time": "2023-02-25T16:32:34.531Z"
   },
   {
    "duration": 11,
    "start_time": "2023-02-25T16:32:34.549Z"
   },
   {
    "duration": 12,
    "start_time": "2023-02-25T16:32:34.562Z"
   },
   {
    "duration": 12,
    "start_time": "2023-02-25T16:32:34.592Z"
   },
   {
    "duration": 10,
    "start_time": "2023-02-25T16:32:34.606Z"
   },
   {
    "duration": 308,
    "start_time": "2023-02-25T16:32:34.621Z"
   },
   {
    "duration": 6,
    "start_time": "2023-02-25T16:32:34.931Z"
   },
   {
    "duration": 31,
    "start_time": "2023-02-25T16:32:34.939Z"
   },
   {
    "duration": 344,
    "start_time": "2023-02-25T16:32:34.972Z"
   },
   {
    "duration": 233,
    "start_time": "2023-02-25T16:32:35.318Z"
   },
   {
    "duration": 361,
    "start_time": "2023-02-25T16:32:35.553Z"
   },
   {
    "duration": 285,
    "start_time": "2023-02-25T16:32:35.916Z"
   },
   {
    "duration": 332,
    "start_time": "2023-02-25T16:32:36.203Z"
   },
   {
    "duration": 14,
    "start_time": "2023-02-25T16:32:36.537Z"
   },
   {
    "duration": 161,
    "start_time": "2023-02-25T16:32:36.553Z"
   },
   {
    "duration": 6,
    "start_time": "2023-02-25T16:32:36.716Z"
   },
   {
    "duration": 15,
    "start_time": "2023-02-25T16:32:36.724Z"
   },
   {
    "duration": 14,
    "start_time": "2023-02-25T16:32:36.741Z"
   },
   {
    "duration": 7,
    "start_time": "2023-02-25T16:32:36.757Z"
   },
   {
    "duration": 32,
    "start_time": "2023-02-25T16:32:36.765Z"
   },
   {
    "duration": 148,
    "start_time": "2023-02-25T16:32:36.799Z"
   },
   {
    "duration": 143,
    "start_time": "2023-02-25T16:32:36.949Z"
   },
   {
    "duration": 5,
    "start_time": "2023-02-25T16:32:37.093Z"
   },
   {
    "duration": 12,
    "start_time": "2023-02-25T16:32:37.099Z"
   },
   {
    "duration": 232,
    "start_time": "2023-02-25T16:32:37.112Z"
   },
   {
    "duration": 5,
    "start_time": "2023-02-25T16:32:37.346Z"
   },
   {
    "duration": 172,
    "start_time": "2023-02-25T16:32:37.352Z"
   },
   {
    "duration": 11,
    "start_time": "2023-02-25T16:32:37.525Z"
   },
   {
    "duration": 168,
    "start_time": "2023-02-25T16:32:37.537Z"
   },
   {
    "duration": 11,
    "start_time": "2023-02-25T16:32:37.706Z"
   },
   {
    "duration": 12,
    "start_time": "2023-02-25T16:38:16.029Z"
   },
   {
    "duration": 324,
    "start_time": "2023-02-25T16:38:25.401Z"
   }
  ],
  "kernelspec": {
   "display_name": "Python 3 (ipykernel)",
   "language": "python",
   "name": "python3"
  },
  "language_info": {
   "codemirror_mode": {
    "name": "ipython",
    "version": 3
   },
   "file_extension": ".py",
   "mimetype": "text/x-python",
   "name": "python",
   "nbconvert_exporter": "python",
   "pygments_lexer": "ipython3",
   "version": "3.9.13"
  },
  "toc": {
   "base_numbering": 1,
   "nav_menu": {},
   "number_sections": true,
   "sideBar": true,
   "skip_h1_title": true,
   "title_cell": "Table of Contents",
   "title_sidebar": "Contents",
   "toc_cell": false,
   "toc_position": {},
   "toc_section_display": true,
   "toc_window_display": true
  }
 },
 "nbformat": 4,
 "nbformat_minor": 2
}
