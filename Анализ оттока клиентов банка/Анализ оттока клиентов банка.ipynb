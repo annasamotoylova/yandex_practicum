{
 "cells": [
  {
   "cell_type": "markdown",
   "metadata": {},
   "source": [
    "# Анализ оттока клиентов банка \"Метанпром\""
   ]
  },
  {
   "cell_type": "markdown",
   "metadata": {},
   "source": [
    "**Исходные данные:** Банк располагается в Ярославле и областных городах: Ростов Великий и Рыбинск.\n",
    "\n",
    "**Задача:** Проанализируйте клиентов регионального банка и выделите сегменты клиентов, которые склонны уходить из банка."
   ]
  },
  {
   "cell_type": "markdown",
   "metadata": {},
   "source": [
    "## Материалы\n",
    "**Презентация:** https://disk.yandex.ru/i/jBTKRrnyp021cg\n",
    "\n",
    "**Дашборд:** https://public.tableau.com/views/_16821068631580/Dashboard1?:language=en-US&publish=yes&:display_count=n&:origin=viz_share_link"
   ]
  },
  {
   "cell_type": "markdown",
   "metadata": {},
   "source": [
    "## Введение. Формирование техзадания и проработка запроса"
   ]
  },
  {
   "cell_type": "markdown",
   "metadata": {},
   "source": [
    "Существует проблема оттока клиентов банка «Метанпром». Данный банк располагается в Ярославле и областных городах: Ростов и Рыбинск. Клиент считается ушедшим, если он подал заявление на закрытие договора.\n",
    "\n",
    "**Заказчик исследования** - отдел маркетинга банка, который на основе нашего анализа будет разрабатывать меры по удержанию клиентов.\n",
    "\n",
    "**Цель исследования:** Провести анализ причин ухода и составить портрет клиента, склонного к оттоку.\n",
    "\n",
    "**Ход исследования:**\n",
    "\n",
    "- Обработка и подготовка исходных данных к анализу; \n",
    "- Проанализировать признаки, влияющие на отток; \n",
    "- Сформулировать и проверить статистические гипотезы, влияющие на отток клиентов; \n",
    "- Сегментировать клиентов, склонных к отоку;\n",
    "- Сформулировать основные выводы и разработать рекомендации по повышению качества работы с клиентами\n",
    "\n",
    "После каждого проделанного шага будут оставлены комментарии, а после каждой части исследования - необходимые выводы. В конце всего исследования будут даны необходимые рекомендации\n",
    "\n"
   ]
  },
  {
   "cell_type": "markdown",
   "metadata": {},
   "source": [
    "## Импорт библиотек и загрузка данных"
   ]
  },
  {
   "cell_type": "code",
   "execution_count": 1,
   "metadata": {},
   "outputs": [],
   "source": [
    "import pandas as pd\n",
    "import matplotlib.pyplot as plt\n",
    "import seaborn as sns\n",
    "import numpy as np\n",
    "from scipy import stats as st"
   ]
  },
  {
   "cell_type": "code",
   "execution_count": 2,
   "metadata": {},
   "outputs": [
    {
     "data": {
      "text/html": [
       "<div>\n",
       "<style scoped>\n",
       "    .dataframe tbody tr th:only-of-type {\n",
       "        vertical-align: middle;\n",
       "    }\n",
       "\n",
       "    .dataframe tbody tr th {\n",
       "        vertical-align: top;\n",
       "    }\n",
       "\n",
       "    .dataframe thead th {\n",
       "        text-align: right;\n",
       "    }\n",
       "</style>\n",
       "<table border=\"1\" class=\"dataframe\">\n",
       "  <thead>\n",
       "    <tr style=\"text-align: right;\">\n",
       "      <th></th>\n",
       "      <th>USERID</th>\n",
       "      <th>score</th>\n",
       "      <th>city</th>\n",
       "      <th>gender</th>\n",
       "      <th>age</th>\n",
       "      <th>equity</th>\n",
       "      <th>balance</th>\n",
       "      <th>products</th>\n",
       "      <th>credit_card</th>\n",
       "      <th>last_activity</th>\n",
       "      <th>EST_SALARY</th>\n",
       "      <th>churn</th>\n",
       "    </tr>\n",
       "  </thead>\n",
       "  <tbody>\n",
       "    <tr>\n",
       "      <th>0</th>\n",
       "      <td>183012</td>\n",
       "      <td>850.0</td>\n",
       "      <td>Рыбинск</td>\n",
       "      <td>Ж</td>\n",
       "      <td>25.0</td>\n",
       "      <td>1</td>\n",
       "      <td>59214.82</td>\n",
       "      <td>2</td>\n",
       "      <td>0</td>\n",
       "      <td>1</td>\n",
       "      <td>75719.14</td>\n",
       "      <td>1</td>\n",
       "    </tr>\n",
       "    <tr>\n",
       "      <th>1</th>\n",
       "      <td>146556</td>\n",
       "      <td>861.0</td>\n",
       "      <td>Рыбинск</td>\n",
       "      <td>Ж</td>\n",
       "      <td>37.0</td>\n",
       "      <td>5</td>\n",
       "      <td>850594.33</td>\n",
       "      <td>3</td>\n",
       "      <td>1</td>\n",
       "      <td>0</td>\n",
       "      <td>86621.77</td>\n",
       "      <td>0</td>\n",
       "    </tr>\n",
       "    <tr>\n",
       "      <th>2</th>\n",
       "      <td>120722</td>\n",
       "      <td>892.0</td>\n",
       "      <td>Рыбинск</td>\n",
       "      <td>Ж</td>\n",
       "      <td>30.0</td>\n",
       "      <td>0</td>\n",
       "      <td>NaN</td>\n",
       "      <td>1</td>\n",
       "      <td>1</td>\n",
       "      <td>1</td>\n",
       "      <td>107683.34</td>\n",
       "      <td>0</td>\n",
       "    </tr>\n",
       "    <tr>\n",
       "      <th>3</th>\n",
       "      <td>225363</td>\n",
       "      <td>866.0</td>\n",
       "      <td>Ярославль</td>\n",
       "      <td>Ж</td>\n",
       "      <td>51.0</td>\n",
       "      <td>5</td>\n",
       "      <td>1524746.26</td>\n",
       "      <td>2</td>\n",
       "      <td>0</td>\n",
       "      <td>1</td>\n",
       "      <td>174423.53</td>\n",
       "      <td>1</td>\n",
       "    </tr>\n",
       "    <tr>\n",
       "      <th>4</th>\n",
       "      <td>157978</td>\n",
       "      <td>730.0</td>\n",
       "      <td>Ярославль</td>\n",
       "      <td>М</td>\n",
       "      <td>34.0</td>\n",
       "      <td>5</td>\n",
       "      <td>174.00</td>\n",
       "      <td>1</td>\n",
       "      <td>1</td>\n",
       "      <td>0</td>\n",
       "      <td>67353.16</td>\n",
       "      <td>1</td>\n",
       "    </tr>\n",
       "  </tbody>\n",
       "</table>\n",
       "</div>"
      ],
      "text/plain": [
       "   USERID  score       city gender   age  equity     balance  products  \\\n",
       "0  183012  850.0    Рыбинск      Ж  25.0       1    59214.82         2   \n",
       "1  146556  861.0    Рыбинск      Ж  37.0       5   850594.33         3   \n",
       "2  120722  892.0    Рыбинск      Ж  30.0       0         NaN         1   \n",
       "3  225363  866.0  Ярославль      Ж  51.0       5  1524746.26         2   \n",
       "4  157978  730.0  Ярославль      М  34.0       5      174.00         1   \n",
       "\n",
       "   credit_card  last_activity  EST_SALARY  churn  \n",
       "0            0              1    75719.14      1  \n",
       "1            1              0    86621.77      0  \n",
       "2            1              1   107683.34      0  \n",
       "3            0              1   174423.53      1  \n",
       "4            1              0    67353.16      1  "
      ]
     },
     "execution_count": 2,
     "metadata": {},
     "output_type": "execute_result"
    }
   ],
   "source": [
    "try:\n",
    "    data = pd.read_csv('/datasets/bank_scrooge.csv')\n",
    "except:\n",
    "    path = \"https://drive.google.com/uc?export=download&id=1-U61mhTz_N1ARjy2XSAZ7IlQqGjeqP0F\"\n",
    "    data = pd.read_csv(path)\n",
    "    \n",
    "data.head()"
   ]
  },
  {
   "cell_type": "code",
   "execution_count": 3,
   "metadata": {
    "scrolled": true
   },
   "outputs": [
    {
     "name": "stdout",
     "output_type": "stream",
     "text": [
      "<class 'pandas.core.frame.DataFrame'>\n",
      "RangeIndex: 10000 entries, 0 to 9999\n",
      "Data columns (total 12 columns):\n",
      " #   Column         Non-Null Count  Dtype  \n",
      "---  ------         --------------  -----  \n",
      " 0   USERID         10000 non-null  int64  \n",
      " 1   score          10000 non-null  float64\n",
      " 2   city           10000 non-null  object \n",
      " 3   gender         10000 non-null  object \n",
      " 4   age            9974 non-null   float64\n",
      " 5   equity         10000 non-null  int64  \n",
      " 6   balance        7705 non-null   float64\n",
      " 7   products       10000 non-null  int64  \n",
      " 8   credit_card    10000 non-null  int64  \n",
      " 9   last_activity  10000 non-null  int64  \n",
      " 10  EST_SALARY     10000 non-null  float64\n",
      " 11  churn          10000 non-null  int64  \n",
      "dtypes: float64(4), int64(6), object(2)\n",
      "memory usage: 937.6+ KB\n"
     ]
    }
   ],
   "source": [
    "data.info()"
   ]
  },
  {
   "cell_type": "markdown",
   "metadata": {},
   "source": [
    "**Вывод по разделу:** В данных 10000 строк, есть пропуски, требуется предобработка."
   ]
  },
  {
   "cell_type": "markdown",
   "metadata": {},
   "source": [
    "## Предобработка данных"
   ]
  },
  {
   "cell_type": "markdown",
   "metadata": {},
   "source": [
    "### Проверить корректность наименований колонок и переименовать при необходимости"
   ]
  },
  {
   "cell_type": "code",
   "execution_count": 4,
   "metadata": {},
   "outputs": [
    {
     "data": {
      "text/plain": [
       "Index(['USERID', 'score', 'city', 'gender', 'age', 'equity', 'balance',\n",
       "       'products', 'credit_card', 'last_activity', 'EST_SALARY', 'churn'],\n",
       "      dtype='object')"
      ]
     },
     "execution_count": 4,
     "metadata": {},
     "output_type": "execute_result"
    }
   ],
   "source": [
    "data.columns"
   ]
  },
  {
   "cell_type": "code",
   "execution_count": 5,
   "metadata": {
    "scrolled": true
   },
   "outputs": [
    {
     "data": {
      "text/html": [
       "<div>\n",
       "<style scoped>\n",
       "    .dataframe tbody tr th:only-of-type {\n",
       "        vertical-align: middle;\n",
       "    }\n",
       "\n",
       "    .dataframe tbody tr th {\n",
       "        vertical-align: top;\n",
       "    }\n",
       "\n",
       "    .dataframe thead th {\n",
       "        text-align: right;\n",
       "    }\n",
       "</style>\n",
       "<table border=\"1\" class=\"dataframe\">\n",
       "  <thead>\n",
       "    <tr style=\"text-align: right;\">\n",
       "      <th></th>\n",
       "      <th>user_id</th>\n",
       "      <th>score</th>\n",
       "      <th>city</th>\n",
       "      <th>gender</th>\n",
       "      <th>age</th>\n",
       "      <th>equity</th>\n",
       "      <th>balance</th>\n",
       "      <th>products</th>\n",
       "      <th>credit_card</th>\n",
       "      <th>last_activity</th>\n",
       "      <th>est_salary</th>\n",
       "      <th>churn</th>\n",
       "    </tr>\n",
       "  </thead>\n",
       "  <tbody>\n",
       "    <tr>\n",
       "      <th>0</th>\n",
       "      <td>183012</td>\n",
       "      <td>850.0</td>\n",
       "      <td>Рыбинск</td>\n",
       "      <td>Ж</td>\n",
       "      <td>25.0</td>\n",
       "      <td>1</td>\n",
       "      <td>59214.82</td>\n",
       "      <td>2</td>\n",
       "      <td>0</td>\n",
       "      <td>1</td>\n",
       "      <td>75719.14</td>\n",
       "      <td>1</td>\n",
       "    </tr>\n",
       "    <tr>\n",
       "      <th>1</th>\n",
       "      <td>146556</td>\n",
       "      <td>861.0</td>\n",
       "      <td>Рыбинск</td>\n",
       "      <td>Ж</td>\n",
       "      <td>37.0</td>\n",
       "      <td>5</td>\n",
       "      <td>850594.33</td>\n",
       "      <td>3</td>\n",
       "      <td>1</td>\n",
       "      <td>0</td>\n",
       "      <td>86621.77</td>\n",
       "      <td>0</td>\n",
       "    </tr>\n",
       "    <tr>\n",
       "      <th>2</th>\n",
       "      <td>120722</td>\n",
       "      <td>892.0</td>\n",
       "      <td>Рыбинск</td>\n",
       "      <td>Ж</td>\n",
       "      <td>30.0</td>\n",
       "      <td>0</td>\n",
       "      <td>NaN</td>\n",
       "      <td>1</td>\n",
       "      <td>1</td>\n",
       "      <td>1</td>\n",
       "      <td>107683.34</td>\n",
       "      <td>0</td>\n",
       "    </tr>\n",
       "    <tr>\n",
       "      <th>3</th>\n",
       "      <td>225363</td>\n",
       "      <td>866.0</td>\n",
       "      <td>Ярославль</td>\n",
       "      <td>Ж</td>\n",
       "      <td>51.0</td>\n",
       "      <td>5</td>\n",
       "      <td>1524746.26</td>\n",
       "      <td>2</td>\n",
       "      <td>0</td>\n",
       "      <td>1</td>\n",
       "      <td>174423.53</td>\n",
       "      <td>1</td>\n",
       "    </tr>\n",
       "    <tr>\n",
       "      <th>4</th>\n",
       "      <td>157978</td>\n",
       "      <td>730.0</td>\n",
       "      <td>Ярославль</td>\n",
       "      <td>М</td>\n",
       "      <td>34.0</td>\n",
       "      <td>5</td>\n",
       "      <td>174.00</td>\n",
       "      <td>1</td>\n",
       "      <td>1</td>\n",
       "      <td>0</td>\n",
       "      <td>67353.16</td>\n",
       "      <td>1</td>\n",
       "    </tr>\n",
       "  </tbody>\n",
       "</table>\n",
       "</div>"
      ],
      "text/plain": [
       "   user_id  score       city gender   age  equity     balance  products  \\\n",
       "0   183012  850.0    Рыбинск      Ж  25.0       1    59214.82         2   \n",
       "1   146556  861.0    Рыбинск      Ж  37.0       5   850594.33         3   \n",
       "2   120722  892.0    Рыбинск      Ж  30.0       0         NaN         1   \n",
       "3   225363  866.0  Ярославль      Ж  51.0       5  1524746.26         2   \n",
       "4   157978  730.0  Ярославль      М  34.0       5      174.00         1   \n",
       "\n",
       "   credit_card  last_activity  est_salary  churn  \n",
       "0            0              1    75719.14      1  \n",
       "1            1              0    86621.77      0  \n",
       "2            1              1   107683.34      0  \n",
       "3            0              1   174423.53      1  \n",
       "4            1              0    67353.16      1  "
      ]
     },
     "execution_count": 5,
     "metadata": {},
     "output_type": "execute_result"
    }
   ],
   "source": [
    "# переименуем два столбца\n",
    "data = data.rename(columns={'USERID':'user_id', 'EST_SALARY':'est_salary'})\n",
    "data.head()"
   ]
  },
  {
   "cell_type": "markdown",
   "metadata": {},
   "source": [
    "Колонки:\n",
    "\n",
    "- `user_id` — идентификатор пользователя,\n",
    "- `score` — баллы кредитного скоринга,\n",
    "- `city` — город,\n",
    "- `gender` — пол,\n",
    "- `age` — возраст,\n",
    "- `equity`  — количество баллов собственности\n",
    "- `balance` — баланс на счёте,\n",
    "- `products` — количество продуктов, которыми пользуется клиент,\n",
    "- `credit_card` — есть ли кредитная карта,\n",
    "- `last_activity` — активный клиент,\n",
    "- `est_salary` — заработная плата клиента,\n",
    "- `churn` — ушёл или нет, 1 - ушел, 0 - остался."
   ]
  },
  {
   "cell_type": "markdown",
   "metadata": {},
   "source": [
    "### Исследовать пропущенные значения и заменить при необходимости"
   ]
  },
  {
   "cell_type": "code",
   "execution_count": 6,
   "metadata": {
    "scrolled": true
   },
   "outputs": [
    {
     "data": {
      "text/plain": [
       "user_id             0\n",
       "score               0\n",
       "city                0\n",
       "gender              0\n",
       "age                26\n",
       "equity              0\n",
       "balance          2295\n",
       "products            0\n",
       "credit_card         0\n",
       "last_activity       0\n",
       "est_salary          0\n",
       "churn               0\n",
       "dtype: int64"
      ]
     },
     "execution_count": 6,
     "metadata": {},
     "output_type": "execute_result"
    }
   ],
   "source": [
    "# проверим пропуски\n",
    "data.isna().sum()"
   ]
  },
  {
   "cell_type": "markdown",
   "metadata": {},
   "source": [
    "**В 'age' 26 пропусков. Посмотрим что с этим можно сделать.**"
   ]
  },
  {
   "cell_type": "code",
   "execution_count": 7,
   "metadata": {
    "scrolled": true
   },
   "outputs": [
    {
     "data": {
      "text/html": [
       "<div>\n",
       "<style scoped>\n",
       "    .dataframe tbody tr th:only-of-type {\n",
       "        vertical-align: middle;\n",
       "    }\n",
       "\n",
       "    .dataframe tbody tr th {\n",
       "        vertical-align: top;\n",
       "    }\n",
       "\n",
       "    .dataframe thead th {\n",
       "        text-align: right;\n",
       "    }\n",
       "</style>\n",
       "<table border=\"1\" class=\"dataframe\">\n",
       "  <thead>\n",
       "    <tr style=\"text-align: right;\">\n",
       "      <th></th>\n",
       "      <th>user_id</th>\n",
       "      <th>score</th>\n",
       "      <th>city</th>\n",
       "      <th>gender</th>\n",
       "      <th>age</th>\n",
       "      <th>equity</th>\n",
       "      <th>balance</th>\n",
       "      <th>products</th>\n",
       "      <th>credit_card</th>\n",
       "      <th>last_activity</th>\n",
       "      <th>est_salary</th>\n",
       "      <th>churn</th>\n",
       "    </tr>\n",
       "  </thead>\n",
       "  <tbody>\n",
       "    <tr>\n",
       "      <th>1247</th>\n",
       "      <td>228075</td>\n",
       "      <td>932.0</td>\n",
       "      <td>Ярославль</td>\n",
       "      <td>М</td>\n",
       "      <td>NaN</td>\n",
       "      <td>5</td>\n",
       "      <td>7601719.20</td>\n",
       "      <td>2</td>\n",
       "      <td>1</td>\n",
       "      <td>1</td>\n",
       "      <td>408121.16</td>\n",
       "      <td>0</td>\n",
       "    </tr>\n",
       "    <tr>\n",
       "      <th>2165</th>\n",
       "      <td>187635</td>\n",
       "      <td>692.0</td>\n",
       "      <td>Рыбинск</td>\n",
       "      <td>Ж</td>\n",
       "      <td>NaN</td>\n",
       "      <td>0</td>\n",
       "      <td>NaN</td>\n",
       "      <td>1</td>\n",
       "      <td>1</td>\n",
       "      <td>1</td>\n",
       "      <td>160368.82</td>\n",
       "      <td>0</td>\n",
       "    </tr>\n",
       "    <tr>\n",
       "      <th>2444</th>\n",
       "      <td>221156</td>\n",
       "      <td>913.0</td>\n",
       "      <td>Ярославль</td>\n",
       "      <td>М</td>\n",
       "      <td>NaN</td>\n",
       "      <td>0</td>\n",
       "      <td>NaN</td>\n",
       "      <td>1</td>\n",
       "      <td>1</td>\n",
       "      <td>1</td>\n",
       "      <td>135693.24</td>\n",
       "      <td>0</td>\n",
       "    </tr>\n",
       "    <tr>\n",
       "      <th>3091</th>\n",
       "      <td>138660</td>\n",
       "      <td>836.0</td>\n",
       "      <td>Ростов</td>\n",
       "      <td>Ж</td>\n",
       "      <td>NaN</td>\n",
       "      <td>5</td>\n",
       "      <td>294315.53</td>\n",
       "      <td>2</td>\n",
       "      <td>0</td>\n",
       "      <td>1</td>\n",
       "      <td>63310.22</td>\n",
       "      <td>1</td>\n",
       "    </tr>\n",
       "    <tr>\n",
       "      <th>4912</th>\n",
       "      <td>210674</td>\n",
       "      <td>834.0</td>\n",
       "      <td>Рыбинск</td>\n",
       "      <td>М</td>\n",
       "      <td>NaN</td>\n",
       "      <td>1</td>\n",
       "      <td>238330.52</td>\n",
       "      <td>2</td>\n",
       "      <td>0</td>\n",
       "      <td>1</td>\n",
       "      <td>93775.06</td>\n",
       "      <td>0</td>\n",
       "    </tr>\n",
       "    <tr>\n",
       "      <th>5470</th>\n",
       "      <td>218868</td>\n",
       "      <td>827.0</td>\n",
       "      <td>Рыбинск</td>\n",
       "      <td>Ж</td>\n",
       "      <td>NaN</td>\n",
       "      <td>4</td>\n",
       "      <td>448959.07</td>\n",
       "      <td>2</td>\n",
       "      <td>1</td>\n",
       "      <td>1</td>\n",
       "      <td>67835.95</td>\n",
       "      <td>0</td>\n",
       "    </tr>\n",
       "    <tr>\n",
       "      <th>5495</th>\n",
       "      <td>151662</td>\n",
       "      <td>884.0</td>\n",
       "      <td>Рыбинск</td>\n",
       "      <td>Ж</td>\n",
       "      <td>NaN</td>\n",
       "      <td>0</td>\n",
       "      <td>NaN</td>\n",
       "      <td>1</td>\n",
       "      <td>1</td>\n",
       "      <td>1</td>\n",
       "      <td>137500.77</td>\n",
       "      <td>0</td>\n",
       "    </tr>\n",
       "    <tr>\n",
       "      <th>7236</th>\n",
       "      <td>210135</td>\n",
       "      <td>908.0</td>\n",
       "      <td>Рыбинск</td>\n",
       "      <td>Ж</td>\n",
       "      <td>NaN</td>\n",
       "      <td>4</td>\n",
       "      <td>1120340.31</td>\n",
       "      <td>3</td>\n",
       "      <td>1</td>\n",
       "      <td>1</td>\n",
       "      <td>85002.15</td>\n",
       "      <td>0</td>\n",
       "    </tr>\n",
       "    <tr>\n",
       "      <th>7248</th>\n",
       "      <td>219343</td>\n",
       "      <td>920.0</td>\n",
       "      <td>Рыбинск</td>\n",
       "      <td>Ж</td>\n",
       "      <td>NaN</td>\n",
       "      <td>0</td>\n",
       "      <td>NaN</td>\n",
       "      <td>1</td>\n",
       "      <td>1</td>\n",
       "      <td>0</td>\n",
       "      <td>159248.67</td>\n",
       "      <td>0</td>\n",
       "    </tr>\n",
       "    <tr>\n",
       "      <th>7345</th>\n",
       "      <td>184913</td>\n",
       "      <td>829.0</td>\n",
       "      <td>Ярославль</td>\n",
       "      <td>Ж</td>\n",
       "      <td>NaN</td>\n",
       "      <td>3</td>\n",
       "      <td>188648.77</td>\n",
       "      <td>2</td>\n",
       "      <td>0</td>\n",
       "      <td>1</td>\n",
       "      <td>75206.90</td>\n",
       "      <td>0</td>\n",
       "    </tr>\n",
       "    <tr>\n",
       "      <th>7409</th>\n",
       "      <td>214031</td>\n",
       "      <td>777.0</td>\n",
       "      <td>Ярославль</td>\n",
       "      <td>М</td>\n",
       "      <td>NaN</td>\n",
       "      <td>2</td>\n",
       "      <td>171510.23</td>\n",
       "      <td>1</td>\n",
       "      <td>1</td>\n",
       "      <td>1</td>\n",
       "      <td>75409.63</td>\n",
       "      <td>0</td>\n",
       "    </tr>\n",
       "    <tr>\n",
       "      <th>8015</th>\n",
       "      <td>198635</td>\n",
       "      <td>670.0</td>\n",
       "      <td>Ярославль</td>\n",
       "      <td>Ж</td>\n",
       "      <td>NaN</td>\n",
       "      <td>0</td>\n",
       "      <td>NaN</td>\n",
       "      <td>1</td>\n",
       "      <td>1</td>\n",
       "      <td>1</td>\n",
       "      <td>168699.33</td>\n",
       "      <td>0</td>\n",
       "    </tr>\n",
       "    <tr>\n",
       "      <th>8070</th>\n",
       "      <td>226550</td>\n",
       "      <td>940.0</td>\n",
       "      <td>Рыбинск</td>\n",
       "      <td>М</td>\n",
       "      <td>NaN</td>\n",
       "      <td>0</td>\n",
       "      <td>NaN</td>\n",
       "      <td>1</td>\n",
       "      <td>0</td>\n",
       "      <td>1</td>\n",
       "      <td>147696.95</td>\n",
       "      <td>0</td>\n",
       "    </tr>\n",
       "    <tr>\n",
       "      <th>8293</th>\n",
       "      <td>216848</td>\n",
       "      <td>930.0</td>\n",
       "      <td>Ярославль</td>\n",
       "      <td>М</td>\n",
       "      <td>NaN</td>\n",
       "      <td>0</td>\n",
       "      <td>NaN</td>\n",
       "      <td>1</td>\n",
       "      <td>1</td>\n",
       "      <td>1</td>\n",
       "      <td>199542.51</td>\n",
       "      <td>0</td>\n",
       "    </tr>\n",
       "    <tr>\n",
       "      <th>8385</th>\n",
       "      <td>206759</td>\n",
       "      <td>915.0</td>\n",
       "      <td>Рыбинск</td>\n",
       "      <td>М</td>\n",
       "      <td>NaN</td>\n",
       "      <td>0</td>\n",
       "      <td>NaN</td>\n",
       "      <td>1</td>\n",
       "      <td>1</td>\n",
       "      <td>0</td>\n",
       "      <td>71179.53</td>\n",
       "      <td>0</td>\n",
       "    </tr>\n",
       "    <tr>\n",
       "      <th>8449</th>\n",
       "      <td>210898</td>\n",
       "      <td>805.0</td>\n",
       "      <td>Ярославль</td>\n",
       "      <td>Ж</td>\n",
       "      <td>NaN</td>\n",
       "      <td>0</td>\n",
       "      <td>NaN</td>\n",
       "      <td>1</td>\n",
       "      <td>0</td>\n",
       "      <td>1</td>\n",
       "      <td>922080.25</td>\n",
       "      <td>0</td>\n",
       "    </tr>\n",
       "    <tr>\n",
       "      <th>8632</th>\n",
       "      <td>221197</td>\n",
       "      <td>893.0</td>\n",
       "      <td>Ярославль</td>\n",
       "      <td>М</td>\n",
       "      <td>NaN</td>\n",
       "      <td>0</td>\n",
       "      <td>NaN</td>\n",
       "      <td>1</td>\n",
       "      <td>1</td>\n",
       "      <td>0</td>\n",
       "      <td>173929.92</td>\n",
       "      <td>0</td>\n",
       "    </tr>\n",
       "    <tr>\n",
       "      <th>8785</th>\n",
       "      <td>127440</td>\n",
       "      <td>663.0</td>\n",
       "      <td>Ярославль</td>\n",
       "      <td>М</td>\n",
       "      <td>NaN</td>\n",
       "      <td>0</td>\n",
       "      <td>NaN</td>\n",
       "      <td>1</td>\n",
       "      <td>1</td>\n",
       "      <td>1</td>\n",
       "      <td>117197.56</td>\n",
       "      <td>0</td>\n",
       "    </tr>\n",
       "    <tr>\n",
       "      <th>9104</th>\n",
       "      <td>222480</td>\n",
       "      <td>776.0</td>\n",
       "      <td>Рыбинск</td>\n",
       "      <td>Ж</td>\n",
       "      <td>NaN</td>\n",
       "      <td>5</td>\n",
       "      <td>796735.09</td>\n",
       "      <td>1</td>\n",
       "      <td>1</td>\n",
       "      <td>1</td>\n",
       "      <td>55073.63</td>\n",
       "      <td>0</td>\n",
       "    </tr>\n",
       "    <tr>\n",
       "      <th>9301</th>\n",
       "      <td>202983</td>\n",
       "      <td>942.0</td>\n",
       "      <td>Рыбинск</td>\n",
       "      <td>Ж</td>\n",
       "      <td>NaN</td>\n",
       "      <td>0</td>\n",
       "      <td>NaN</td>\n",
       "      <td>1</td>\n",
       "      <td>1</td>\n",
       "      <td>1</td>\n",
       "      <td>163804.73</td>\n",
       "      <td>0</td>\n",
       "    </tr>\n",
       "    <tr>\n",
       "      <th>9380</th>\n",
       "      <td>187459</td>\n",
       "      <td>894.0</td>\n",
       "      <td>Рыбинск</td>\n",
       "      <td>М</td>\n",
       "      <td>NaN</td>\n",
       "      <td>0</td>\n",
       "      <td>NaN</td>\n",
       "      <td>1</td>\n",
       "      <td>1</td>\n",
       "      <td>0</td>\n",
       "      <td>178012.28</td>\n",
       "      <td>0</td>\n",
       "    </tr>\n",
       "    <tr>\n",
       "      <th>9457</th>\n",
       "      <td>141945</td>\n",
       "      <td>929.0</td>\n",
       "      <td>Ярославль</td>\n",
       "      <td>М</td>\n",
       "      <td>NaN</td>\n",
       "      <td>0</td>\n",
       "      <td>NaN</td>\n",
       "      <td>1</td>\n",
       "      <td>1</td>\n",
       "      <td>0</td>\n",
       "      <td>381868.89</td>\n",
       "      <td>0</td>\n",
       "    </tr>\n",
       "    <tr>\n",
       "      <th>9632</th>\n",
       "      <td>185829</td>\n",
       "      <td>927.0</td>\n",
       "      <td>Ярославль</td>\n",
       "      <td>М</td>\n",
       "      <td>NaN</td>\n",
       "      <td>0</td>\n",
       "      <td>NaN</td>\n",
       "      <td>1</td>\n",
       "      <td>1</td>\n",
       "      <td>0</td>\n",
       "      <td>231254.86</td>\n",
       "      <td>0</td>\n",
       "    </tr>\n",
       "    <tr>\n",
       "      <th>9634</th>\n",
       "      <td>221809</td>\n",
       "      <td>917.0</td>\n",
       "      <td>Ярославль</td>\n",
       "      <td>М</td>\n",
       "      <td>NaN</td>\n",
       "      <td>0</td>\n",
       "      <td>NaN</td>\n",
       "      <td>1</td>\n",
       "      <td>1</td>\n",
       "      <td>1</td>\n",
       "      <td>192644.15</td>\n",
       "      <td>0</td>\n",
       "    </tr>\n",
       "    <tr>\n",
       "      <th>9667</th>\n",
       "      <td>163657</td>\n",
       "      <td>849.0</td>\n",
       "      <td>Ярославль</td>\n",
       "      <td>М</td>\n",
       "      <td>NaN</td>\n",
       "      <td>4</td>\n",
       "      <td>1254013.85</td>\n",
       "      <td>2</td>\n",
       "      <td>1</td>\n",
       "      <td>1</td>\n",
       "      <td>119106.67</td>\n",
       "      <td>0</td>\n",
       "    </tr>\n",
       "    <tr>\n",
       "      <th>9819</th>\n",
       "      <td>140934</td>\n",
       "      <td>832.0</td>\n",
       "      <td>Рыбинск</td>\n",
       "      <td>Ж</td>\n",
       "      <td>NaN</td>\n",
       "      <td>3</td>\n",
       "      <td>385763.16</td>\n",
       "      <td>2</td>\n",
       "      <td>0</td>\n",
       "      <td>1</td>\n",
       "      <td>59651.35</td>\n",
       "      <td>0</td>\n",
       "    </tr>\n",
       "  </tbody>\n",
       "</table>\n",
       "</div>"
      ],
      "text/plain": [
       "      user_id  score       city gender  age  equity     balance  products  \\\n",
       "1247   228075  932.0  Ярославль      М  NaN       5  7601719.20         2   \n",
       "2165   187635  692.0    Рыбинск      Ж  NaN       0         NaN         1   \n",
       "2444   221156  913.0  Ярославль      М  NaN       0         NaN         1   \n",
       "3091   138660  836.0     Ростов      Ж  NaN       5   294315.53         2   \n",
       "4912   210674  834.0    Рыбинск      М  NaN       1   238330.52         2   \n",
       "5470   218868  827.0    Рыбинск      Ж  NaN       4   448959.07         2   \n",
       "5495   151662  884.0    Рыбинск      Ж  NaN       0         NaN         1   \n",
       "7236   210135  908.0    Рыбинск      Ж  NaN       4  1120340.31         3   \n",
       "7248   219343  920.0    Рыбинск      Ж  NaN       0         NaN         1   \n",
       "7345   184913  829.0  Ярославль      Ж  NaN       3   188648.77         2   \n",
       "7409   214031  777.0  Ярославль      М  NaN       2   171510.23         1   \n",
       "8015   198635  670.0  Ярославль      Ж  NaN       0         NaN         1   \n",
       "8070   226550  940.0    Рыбинск      М  NaN       0         NaN         1   \n",
       "8293   216848  930.0  Ярославль      М  NaN       0         NaN         1   \n",
       "8385   206759  915.0    Рыбинск      М  NaN       0         NaN         1   \n",
       "8449   210898  805.0  Ярославль      Ж  NaN       0         NaN         1   \n",
       "8632   221197  893.0  Ярославль      М  NaN       0         NaN         1   \n",
       "8785   127440  663.0  Ярославль      М  NaN       0         NaN         1   \n",
       "9104   222480  776.0    Рыбинск      Ж  NaN       5   796735.09         1   \n",
       "9301   202983  942.0    Рыбинск      Ж  NaN       0         NaN         1   \n",
       "9380   187459  894.0    Рыбинск      М  NaN       0         NaN         1   \n",
       "9457   141945  929.0  Ярославль      М  NaN       0         NaN         1   \n",
       "9632   185829  927.0  Ярославль      М  NaN       0         NaN         1   \n",
       "9634   221809  917.0  Ярославль      М  NaN       0         NaN         1   \n",
       "9667   163657  849.0  Ярославль      М  NaN       4  1254013.85         2   \n",
       "9819   140934  832.0    Рыбинск      Ж  NaN       3   385763.16         2   \n",
       "\n",
       "      credit_card  last_activity  est_salary  churn  \n",
       "1247            1              1   408121.16      0  \n",
       "2165            1              1   160368.82      0  \n",
       "2444            1              1   135693.24      0  \n",
       "3091            0              1    63310.22      1  \n",
       "4912            0              1    93775.06      0  \n",
       "5470            1              1    67835.95      0  \n",
       "5495            1              1   137500.77      0  \n",
       "7236            1              1    85002.15      0  \n",
       "7248            1              0   159248.67      0  \n",
       "7345            0              1    75206.90      0  \n",
       "7409            1              1    75409.63      0  \n",
       "8015            1              1   168699.33      0  \n",
       "8070            0              1   147696.95      0  \n",
       "8293            1              1   199542.51      0  \n",
       "8385            1              0    71179.53      0  \n",
       "8449            0              1   922080.25      0  \n",
       "8632            1              0   173929.92      0  \n",
       "8785            1              1   117197.56      0  \n",
       "9104            1              1    55073.63      0  \n",
       "9301            1              1   163804.73      0  \n",
       "9380            1              0   178012.28      0  \n",
       "9457            1              0   381868.89      0  \n",
       "9632            1              0   231254.86      0  \n",
       "9634            1              1   192644.15      0  \n",
       "9667            1              1   119106.67      0  \n",
       "9819            0              1    59651.35      0  "
      ]
     },
     "execution_count": 7,
     "metadata": {},
     "output_type": "execute_result"
    }
   ],
   "source": [
    "data[data['age'].isnull()]"
   ]
  },
  {
   "cell_type": "markdown",
   "metadata": {},
   "source": [
    "Причиной пропусков скорее всего является технический сбой. При пропусках в возрасте обращает на себя внимание баланс на счете - там по большей части тоже пропуски. Однако поскольку пропусков в balance во всем датасете - 2295, то никаких выводов  о взаимосвязи пропусков в возрасте и в балансе я бы не делала."
   ]
  },
  {
   "cell_type": "code",
   "execution_count": 8,
   "metadata": {
    "scrolled": true
   },
   "outputs": [
    {
     "data": {
      "text/plain": [
       "count    9974.000000\n",
       "mean       42.734409\n",
       "std        12.179971\n",
       "min        18.000000\n",
       "25%        33.000000\n",
       "50%        40.000000\n",
       "75%        51.000000\n",
       "max        86.000000\n",
       "Name: age, dtype: float64"
      ]
     },
     "execution_count": 8,
     "metadata": {},
     "output_type": "execute_result"
    }
   ],
   "source": [
    "data['age'].describe()"
   ]
  },
  {
   "cell_type": "markdown",
   "metadata": {},
   "source": [
    "Разброс в возрасте большой, от 18 до 86 лет. Пропусков мало, всего 26 из 10 000 строк. Можно и удалить,  но заменим медианой, ведь чем меньше данных мы потеряем, тем лучше."
   ]
  },
  {
   "cell_type": "code",
   "execution_count": 9,
   "metadata": {},
   "outputs": [],
   "source": [
    "data['age'] = data['age'].fillna(data['age'].median())"
   ]
  },
  {
   "cell_type": "markdown",
   "metadata": {},
   "source": [
    "**Изучим пропуски в колонке balance.**"
   ]
  },
  {
   "cell_type": "code",
   "execution_count": 10,
   "metadata": {},
   "outputs": [
    {
     "data": {
      "text/html": [
       "<div>\n",
       "<style scoped>\n",
       "    .dataframe tbody tr th:only-of-type {\n",
       "        vertical-align: middle;\n",
       "    }\n",
       "\n",
       "    .dataframe tbody tr th {\n",
       "        vertical-align: top;\n",
       "    }\n",
       "\n",
       "    .dataframe thead th {\n",
       "        text-align: right;\n",
       "    }\n",
       "</style>\n",
       "<table border=\"1\" class=\"dataframe\">\n",
       "  <thead>\n",
       "    <tr style=\"text-align: right;\">\n",
       "      <th></th>\n",
       "      <th>user_id</th>\n",
       "      <th>score</th>\n",
       "      <th>city</th>\n",
       "      <th>gender</th>\n",
       "      <th>age</th>\n",
       "      <th>equity</th>\n",
       "      <th>balance</th>\n",
       "      <th>products</th>\n",
       "      <th>credit_card</th>\n",
       "      <th>last_activity</th>\n",
       "      <th>est_salary</th>\n",
       "      <th>churn</th>\n",
       "    </tr>\n",
       "  </thead>\n",
       "  <tbody>\n",
       "    <tr>\n",
       "      <th>2</th>\n",
       "      <td>120722</td>\n",
       "      <td>892.0</td>\n",
       "      <td>Рыбинск</td>\n",
       "      <td>Ж</td>\n",
       "      <td>30.0</td>\n",
       "      <td>0</td>\n",
       "      <td>NaN</td>\n",
       "      <td>1</td>\n",
       "      <td>1</td>\n",
       "      <td>1</td>\n",
       "      <td>107683.34</td>\n",
       "      <td>0</td>\n",
       "    </tr>\n",
       "    <tr>\n",
       "      <th>9</th>\n",
       "      <td>133130</td>\n",
       "      <td>906.0</td>\n",
       "      <td>Ярославль</td>\n",
       "      <td>Ж</td>\n",
       "      <td>67.0</td>\n",
       "      <td>0</td>\n",
       "      <td>NaN</td>\n",
       "      <td>1</td>\n",
       "      <td>0</td>\n",
       "      <td>1</td>\n",
       "      <td>238055.53</td>\n",
       "      <td>0</td>\n",
       "    </tr>\n",
       "    <tr>\n",
       "      <th>10</th>\n",
       "      <td>148929</td>\n",
       "      <td>927.0</td>\n",
       "      <td>Ростов</td>\n",
       "      <td>М</td>\n",
       "      <td>52.0</td>\n",
       "      <td>0</td>\n",
       "      <td>NaN</td>\n",
       "      <td>1</td>\n",
       "      <td>1</td>\n",
       "      <td>1</td>\n",
       "      <td>196820.07</td>\n",
       "      <td>0</td>\n",
       "    </tr>\n",
       "    <tr>\n",
       "      <th>11</th>\n",
       "      <td>172184</td>\n",
       "      <td>921.0</td>\n",
       "      <td>Ростов</td>\n",
       "      <td>М</td>\n",
       "      <td>41.0</td>\n",
       "      <td>0</td>\n",
       "      <td>NaN</td>\n",
       "      <td>1</td>\n",
       "      <td>1</td>\n",
       "      <td>1</td>\n",
       "      <td>217469.48</td>\n",
       "      <td>0</td>\n",
       "    </tr>\n",
       "    <tr>\n",
       "      <th>19</th>\n",
       "      <td>127034</td>\n",
       "      <td>922.0</td>\n",
       "      <td>Рыбинск</td>\n",
       "      <td>Ж</td>\n",
       "      <td>53.0</td>\n",
       "      <td>0</td>\n",
       "      <td>NaN</td>\n",
       "      <td>1</td>\n",
       "      <td>0</td>\n",
       "      <td>0</td>\n",
       "      <td>147094.82</td>\n",
       "      <td>0</td>\n",
       "    </tr>\n",
       "  </tbody>\n",
       "</table>\n",
       "</div>"
      ],
      "text/plain": [
       "    user_id  score       city gender   age  equity  balance  products  \\\n",
       "2    120722  892.0    Рыбинск      Ж  30.0       0      NaN         1   \n",
       "9    133130  906.0  Ярославль      Ж  67.0       0      NaN         1   \n",
       "10   148929  927.0     Ростов      М  52.0       0      NaN         1   \n",
       "11   172184  921.0     Ростов      М  41.0       0      NaN         1   \n",
       "19   127034  922.0    Рыбинск      Ж  53.0       0      NaN         1   \n",
       "\n",
       "    credit_card  last_activity  est_salary  churn  \n",
       "2             1              1   107683.34      0  \n",
       "9             0              1   238055.53      0  \n",
       "10            1              1   196820.07      0  \n",
       "11            1              1   217469.48      0  \n",
       "19            0              0   147094.82      0  "
      ]
     },
     "execution_count": 10,
     "metadata": {},
     "output_type": "execute_result"
    }
   ],
   "source": [
    "data[data['balance'].isnull()].head()"
   ]
  },
  {
   "cell_type": "markdown",
   "metadata": {},
   "source": [
    "Видно, что в строках с пропусками в 'balance' остальные данные заполнены. "
   ]
  },
  {
   "cell_type": "markdown",
   "metadata": {},
   "source": [
    "Кстати, проверим, сколько клиентов с нулевым балансом."
   ]
  },
  {
   "cell_type": "code",
   "execution_count": 11,
   "metadata": {},
   "outputs": [
    {
     "data": {
      "text/html": [
       "<div>\n",
       "<style scoped>\n",
       "    .dataframe tbody tr th:only-of-type {\n",
       "        vertical-align: middle;\n",
       "    }\n",
       "\n",
       "    .dataframe tbody tr th {\n",
       "        vertical-align: top;\n",
       "    }\n",
       "\n",
       "    .dataframe thead th {\n",
       "        text-align: right;\n",
       "    }\n",
       "</style>\n",
       "<table border=\"1\" class=\"dataframe\">\n",
       "  <thead>\n",
       "    <tr style=\"text-align: right;\">\n",
       "      <th></th>\n",
       "      <th>user_id</th>\n",
       "      <th>score</th>\n",
       "      <th>city</th>\n",
       "      <th>gender</th>\n",
       "      <th>age</th>\n",
       "      <th>equity</th>\n",
       "      <th>balance</th>\n",
       "      <th>products</th>\n",
       "      <th>credit_card</th>\n",
       "      <th>last_activity</th>\n",
       "      <th>est_salary</th>\n",
       "      <th>churn</th>\n",
       "    </tr>\n",
       "  </thead>\n",
       "  <tbody>\n",
       "    <tr>\n",
       "      <th>3900</th>\n",
       "      <td>179831</td>\n",
       "      <td>730.0</td>\n",
       "      <td>Ярославль</td>\n",
       "      <td>М</td>\n",
       "      <td>18.0</td>\n",
       "      <td>0</td>\n",
       "      <td>0.0</td>\n",
       "      <td>2</td>\n",
       "      <td>1</td>\n",
       "      <td>1</td>\n",
       "      <td>64548.33</td>\n",
       "      <td>0</td>\n",
       "    </tr>\n",
       "    <tr>\n",
       "      <th>6757</th>\n",
       "      <td>148456</td>\n",
       "      <td>813.0</td>\n",
       "      <td>Ярославль</td>\n",
       "      <td>М</td>\n",
       "      <td>20.0</td>\n",
       "      <td>2</td>\n",
       "      <td>0.0</td>\n",
       "      <td>2</td>\n",
       "      <td>1</td>\n",
       "      <td>0</td>\n",
       "      <td>23876.51</td>\n",
       "      <td>0</td>\n",
       "    </tr>\n",
       "  </tbody>\n",
       "</table>\n",
       "</div>"
      ],
      "text/plain": [
       "      user_id  score       city gender   age  equity  balance  products  \\\n",
       "3900   179831  730.0  Ярославль      М  18.0       0      0.0         2   \n",
       "6757   148456  813.0  Ярославль      М  20.0       2      0.0         2   \n",
       "\n",
       "      credit_card  last_activity  est_salary  churn  \n",
       "3900            1              1    64548.33      0  \n",
       "6757            1              0    23876.51      0  "
      ]
     },
     "execution_count": 11,
     "metadata": {},
     "output_type": "execute_result"
    }
   ],
   "source": [
    "data.query('balance == 0')"
   ]
  },
  {
   "cell_type": "markdown",
   "metadata": {},
   "source": [
    "Всего двое, при этом они пользуются двумя продуктами, есть кридитка и уходить пока не собираются.\n",
    "\n",
    "Возможно, что пропуски в 'balance' - это нули, но это не точно. И если в дальнейшим анализе пропуски в 'balance' нам не помешают, оставим все как есть. А в рекомендациях отметим вероятность технического сбоя при выгрузке данных."
   ]
  },
  {
   "cell_type": "code",
   "execution_count": 12,
   "metadata": {},
   "outputs": [
    {
     "name": "stdout",
     "output_type": "stream",
     "text": [
      "Доля пропусков в столбце balance составляет: 0.23\n"
     ]
    }
   ],
   "source": [
    "print('Доля пропусков в столбце balance составляет:', round(data['balance'].isna().sum()/len(data), 2))"
   ]
  },
  {
   "cell_type": "markdown",
   "metadata": {},
   "source": [
    "23% это много.\n",
    "\n",
    "Чуть более подробно посмотрим в 'balance' на данные без пропусков."
   ]
  },
  {
   "cell_type": "code",
   "execution_count": 13,
   "metadata": {},
   "outputs": [
    {
     "data": {
      "text/plain": [
       "count    7.705000e+03\n",
       "mean     8.277943e+05\n",
       "std      1.980614e+06\n",
       "min      0.000000e+00\n",
       "25%      2.955542e+05\n",
       "50%      5.242722e+05\n",
       "75%      9.807058e+05\n",
       "max      1.191136e+08\n",
       "Name: balance, dtype: float64"
      ]
     },
     "execution_count": 13,
     "metadata": {},
     "output_type": "execute_result"
    }
   ],
   "source": [
    "data['balance'].describe()"
   ]
  },
  {
   "cell_type": "markdown",
   "metadata": {},
   "source": [
    "Ничего себе, у кого-то на счету лежит 119 млн!"
   ]
  },
  {
   "cell_type": "markdown",
   "metadata": {},
   "source": [
    "### Исследовать соответствие типов и привести в соответствие"
   ]
  },
  {
   "cell_type": "code",
   "execution_count": 14,
   "metadata": {},
   "outputs": [
    {
     "name": "stdout",
     "output_type": "stream",
     "text": [
      "<class 'pandas.core.frame.DataFrame'>\n",
      "RangeIndex: 10000 entries, 0 to 9999\n",
      "Data columns (total 12 columns):\n",
      " #   Column         Non-Null Count  Dtype  \n",
      "---  ------         --------------  -----  \n",
      " 0   user_id        10000 non-null  int64  \n",
      " 1   score          10000 non-null  int64  \n",
      " 2   city           10000 non-null  object \n",
      " 3   gender         10000 non-null  object \n",
      " 4   age            10000 non-null  int64  \n",
      " 5   equity         10000 non-null  int64  \n",
      " 6   balance        7705 non-null   float64\n",
      " 7   products       10000 non-null  int64  \n",
      " 8   credit_card    10000 non-null  int64  \n",
      " 9   last_activity  10000 non-null  int64  \n",
      " 10  est_salary     10000 non-null  float64\n",
      " 11  churn          10000 non-null  int64  \n",
      "dtypes: float64(2), int64(8), object(2)\n",
      "memory usage: 937.6+ KB\n"
     ]
    }
   ],
   "source": [
    "# изменим тип данных столбца 'score' на int\n",
    "data['score'] = data['score'].astype(int)\n",
    "\n",
    "# изменим тип данных столбца 'age' на int\n",
    "data['age'] = data['age'].astype(int)\n",
    "data.info()"
   ]
  },
  {
   "cell_type": "markdown",
   "metadata": {},
   "source": [
    "### Проверить на дубликаты, явные и неявные"
   ]
  },
  {
   "cell_type": "code",
   "execution_count": 15,
   "metadata": {},
   "outputs": [
    {
     "data": {
      "text/plain": [
       "0"
      ]
     },
     "execution_count": 15,
     "metadata": {},
     "output_type": "execute_result"
    }
   ],
   "source": [
    "# проверим явные дубликаты\n",
    "data.duplicated().sum()"
   ]
  },
  {
   "cell_type": "markdown",
   "metadata": {},
   "source": [
    "Поищем неявные дубликаты"
   ]
  },
  {
   "cell_type": "code",
   "execution_count": 16,
   "metadata": {},
   "outputs": [
    {
     "data": {
      "text/plain": [
       "73"
      ]
     },
     "execution_count": 16,
     "metadata": {},
     "output_type": "execute_result"
    }
   ],
   "source": [
    "data['user_id'].duplicated().sum()"
   ]
  },
  {
   "cell_type": "code",
   "execution_count": 17,
   "metadata": {},
   "outputs": [
    {
     "data": {
      "text/html": [
       "<div>\n",
       "<style scoped>\n",
       "    .dataframe tbody tr th:only-of-type {\n",
       "        vertical-align: middle;\n",
       "    }\n",
       "\n",
       "    .dataframe tbody tr th {\n",
       "        vertical-align: top;\n",
       "    }\n",
       "\n",
       "    .dataframe thead th {\n",
       "        text-align: right;\n",
       "    }\n",
       "</style>\n",
       "<table border=\"1\" class=\"dataframe\">\n",
       "  <thead>\n",
       "    <tr style=\"text-align: right;\">\n",
       "      <th></th>\n",
       "      <th>user_id</th>\n",
       "      <th>score</th>\n",
       "      <th>city</th>\n",
       "      <th>gender</th>\n",
       "      <th>age</th>\n",
       "      <th>equity</th>\n",
       "      <th>balance</th>\n",
       "      <th>products</th>\n",
       "      <th>credit_card</th>\n",
       "      <th>last_activity</th>\n",
       "      <th>est_salary</th>\n",
       "      <th>churn</th>\n",
       "    </tr>\n",
       "  </thead>\n",
       "  <tbody>\n",
       "    <tr>\n",
       "      <th>1893</th>\n",
       "      <td>116540</td>\n",
       "      <td>883</td>\n",
       "      <td>Рыбинск</td>\n",
       "      <td>Ж</td>\n",
       "      <td>55</td>\n",
       "      <td>1</td>\n",
       "      <td>362756.49</td>\n",
       "      <td>3</td>\n",
       "      <td>0</td>\n",
       "      <td>1</td>\n",
       "      <td>175920.48</td>\n",
       "      <td>1</td>\n",
       "    </tr>\n",
       "    <tr>\n",
       "      <th>7694</th>\n",
       "      <td>116540</td>\n",
       "      <td>887</td>\n",
       "      <td>Ярославль</td>\n",
       "      <td>Ж</td>\n",
       "      <td>38</td>\n",
       "      <td>0</td>\n",
       "      <td>NaN</td>\n",
       "      <td>1</td>\n",
       "      <td>0</td>\n",
       "      <td>1</td>\n",
       "      <td>119247.61</td>\n",
       "      <td>0</td>\n",
       "    </tr>\n",
       "    <tr>\n",
       "      <th>7542</th>\n",
       "      <td>117943</td>\n",
       "      <td>880</td>\n",
       "      <td>Ярославль</td>\n",
       "      <td>Ж</td>\n",
       "      <td>40</td>\n",
       "      <td>0</td>\n",
       "      <td>NaN</td>\n",
       "      <td>1</td>\n",
       "      <td>1</td>\n",
       "      <td>0</td>\n",
       "      <td>137718.93</td>\n",
       "      <td>0</td>\n",
       "    </tr>\n",
       "    <tr>\n",
       "      <th>4866</th>\n",
       "      <td>117943</td>\n",
       "      <td>855</td>\n",
       "      <td>Рыбинск</td>\n",
       "      <td>Ж</td>\n",
       "      <td>32</td>\n",
       "      <td>6</td>\n",
       "      <td>1036832.93</td>\n",
       "      <td>4</td>\n",
       "      <td>1</td>\n",
       "      <td>1</td>\n",
       "      <td>107792.71</td>\n",
       "      <td>1</td>\n",
       "    </tr>\n",
       "    <tr>\n",
       "      <th>5896</th>\n",
       "      <td>120258</td>\n",
       "      <td>905</td>\n",
       "      <td>Ярославль</td>\n",
       "      <td>М</td>\n",
       "      <td>30</td>\n",
       "      <td>0</td>\n",
       "      <td>NaN</td>\n",
       "      <td>1</td>\n",
       "      <td>1</td>\n",
       "      <td>1</td>\n",
       "      <td>146427.96</td>\n",
       "      <td>0</td>\n",
       "    </tr>\n",
       "    <tr>\n",
       "      <th>...</th>\n",
       "      <td>...</td>\n",
       "      <td>...</td>\n",
       "      <td>...</td>\n",
       "      <td>...</td>\n",
       "      <td>...</td>\n",
       "      <td>...</td>\n",
       "      <td>...</td>\n",
       "      <td>...</td>\n",
       "      <td>...</td>\n",
       "      <td>...</td>\n",
       "      <td>...</td>\n",
       "      <td>...</td>\n",
       "    </tr>\n",
       "    <tr>\n",
       "      <th>2597</th>\n",
       "      <td>226719</td>\n",
       "      <td>990</td>\n",
       "      <td>Ярославль</td>\n",
       "      <td>М</td>\n",
       "      <td>37</td>\n",
       "      <td>4</td>\n",
       "      <td>14648692.14</td>\n",
       "      <td>2</td>\n",
       "      <td>0</td>\n",
       "      <td>0</td>\n",
       "      <td>934412.61</td>\n",
       "      <td>1</td>\n",
       "    </tr>\n",
       "    <tr>\n",
       "      <th>8205</th>\n",
       "      <td>227795</td>\n",
       "      <td>840</td>\n",
       "      <td>Рыбинск</td>\n",
       "      <td>М</td>\n",
       "      <td>34</td>\n",
       "      <td>2</td>\n",
       "      <td>350768.03</td>\n",
       "      <td>1</td>\n",
       "      <td>1</td>\n",
       "      <td>0</td>\n",
       "      <td>102036.14</td>\n",
       "      <td>1</td>\n",
       "    </tr>\n",
       "    <tr>\n",
       "      <th>8497</th>\n",
       "      <td>227795</td>\n",
       "      <td>839</td>\n",
       "      <td>Ярославль</td>\n",
       "      <td>М</td>\n",
       "      <td>34</td>\n",
       "      <td>2</td>\n",
       "      <td>326593.14</td>\n",
       "      <td>2</td>\n",
       "      <td>1</td>\n",
       "      <td>0</td>\n",
       "      <td>103314.92</td>\n",
       "      <td>0</td>\n",
       "    </tr>\n",
       "    <tr>\n",
       "      <th>6457</th>\n",
       "      <td>228075</td>\n",
       "      <td>839</td>\n",
       "      <td>Рыбинск</td>\n",
       "      <td>М</td>\n",
       "      <td>39</td>\n",
       "      <td>5</td>\n",
       "      <td>507199.85</td>\n",
       "      <td>3</td>\n",
       "      <td>0</td>\n",
       "      <td>1</td>\n",
       "      <td>85195.80</td>\n",
       "      <td>0</td>\n",
       "    </tr>\n",
       "    <tr>\n",
       "      <th>1247</th>\n",
       "      <td>228075</td>\n",
       "      <td>932</td>\n",
       "      <td>Ярославль</td>\n",
       "      <td>М</td>\n",
       "      <td>40</td>\n",
       "      <td>5</td>\n",
       "      <td>7601719.20</td>\n",
       "      <td>2</td>\n",
       "      <td>1</td>\n",
       "      <td>1</td>\n",
       "      <td>408121.16</td>\n",
       "      <td>0</td>\n",
       "    </tr>\n",
       "  </tbody>\n",
       "</table>\n",
       "<p>146 rows × 12 columns</p>\n",
       "</div>"
      ],
      "text/plain": [
       "      user_id  score       city gender  age  equity      balance  products  \\\n",
       "1893   116540    883    Рыбинск      Ж   55       1    362756.49         3   \n",
       "7694   116540    887  Ярославль      Ж   38       0          NaN         1   \n",
       "7542   117943    880  Ярославль      Ж   40       0          NaN         1   \n",
       "4866   117943    855    Рыбинск      Ж   32       6   1036832.93         4   \n",
       "5896   120258    905  Ярославль      М   30       0          NaN         1   \n",
       "...       ...    ...        ...    ...  ...     ...          ...       ...   \n",
       "2597   226719    990  Ярославль      М   37       4  14648692.14         2   \n",
       "8205   227795    840    Рыбинск      М   34       2    350768.03         1   \n",
       "8497   227795    839  Ярославль      М   34       2    326593.14         2   \n",
       "6457   228075    839    Рыбинск      М   39       5    507199.85         3   \n",
       "1247   228075    932  Ярославль      М   40       5   7601719.20         2   \n",
       "\n",
       "      credit_card  last_activity  est_salary  churn  \n",
       "1893            0              1   175920.48      1  \n",
       "7694            0              1   119247.61      0  \n",
       "7542            1              0   137718.93      0  \n",
       "4866            1              1   107792.71      1  \n",
       "5896            1              1   146427.96      0  \n",
       "...           ...            ...         ...    ...  \n",
       "2597            0              0   934412.61      1  \n",
       "8205            1              0   102036.14      1  \n",
       "8497            1              0   103314.92      0  \n",
       "6457            0              1    85195.80      0  \n",
       "1247            1              1   408121.16      0  \n",
       "\n",
       "[146 rows x 12 columns]"
      ]
     },
     "execution_count": 17,
     "metadata": {},
     "output_type": "execute_result"
    }
   ],
   "source": [
    "dubl_id = data[data[['user_id']].duplicated(keep=False)].sort_values(by='user_id')\n",
    "dubl_id"
   ]
  },
  {
   "cell_type": "markdown",
   "metadata": {},
   "source": [
    "Думаю, корректно будет удалить дубли."
   ]
  },
  {
   "cell_type": "code",
   "execution_count": 18,
   "metadata": {},
   "outputs": [
    {
     "data": {
      "text/plain": [
       "Int64Index([1893, 7542, 5896, 1411, 8164, 4850, 8785, 3988,  904, 7487, 9819,\n",
       "            2276, 4343, 5369, 8364,  946, 9267, 5495,  690, 5197, 9363, 3936,\n",
       "            8733, 6786, 6670,   58, 5020,  790, 9653, 2941, 7753, 8705, 9146,\n",
       "             150, 9632, 9380, 2165, 5454,  231, 7931, 2226, 4870, 8015, 8822,\n",
       "            9035, 9301, 5889, 1513, 1580, 5570, 3230, 8521, 1837, 4986, 6685,\n",
       "            1359, 7409, 8293, 9880, 4611, 4186, 4623,    7, 1010, 1740, 1389,\n",
       "             440, 9634, 9104, 8070, 4216, 8205, 6457],\n",
       "           dtype='int64')"
      ]
     },
     "execution_count": 18,
     "metadata": {},
     "output_type": "execute_result"
    }
   ],
   "source": [
    "# выделим индексы строк на удаление\n",
    "dubl_id.drop_duplicates(subset=['user_id']).index"
   ]
  },
  {
   "cell_type": "code",
   "execution_count": 19,
   "metadata": {},
   "outputs": [],
   "source": [
    "# удалим дубли по индексам строк\n",
    "data = data.drop(index = dubl_id.drop_duplicates(subset=['user_id']).index).reset_index(drop=True)"
   ]
  },
  {
   "cell_type": "code",
   "execution_count": 20,
   "metadata": {},
   "outputs": [
    {
     "data": {
      "text/plain": [
       "0"
      ]
     },
     "execution_count": 20,
     "metadata": {},
     "output_type": "execute_result"
    }
   ],
   "source": [
    "# проверим как получилось\n",
    "data['user_id'].duplicated().sum()"
   ]
  },
  {
   "cell_type": "markdown",
   "metadata": {},
   "source": [
    "На всякий случай проверим столбец 'city' на неявные дубликаты"
   ]
  },
  {
   "cell_type": "code",
   "execution_count": 21,
   "metadata": {},
   "outputs": [
    {
     "data": {
      "text/plain": [
       "array(['Рыбинск', 'Ярославль', 'Ростов'], dtype=object)"
      ]
     },
     "execution_count": 21,
     "metadata": {},
     "output_type": "execute_result"
    }
   ],
   "source": [
    "data['city'].unique()"
   ]
  },
  {
   "cell_type": "markdown",
   "metadata": {},
   "source": [
    "Нет, тут все четко, идем дальше."
   ]
  },
  {
   "cell_type": "markdown",
   "metadata": {},
   "source": [
    "### Кодирование категориальных данных"
   ]
  },
  {
   "cell_type": "markdown",
   "metadata": {},
   "source": [
    "Приведем столбцы gender, city к бинарному виду"
   ]
  },
  {
   "cell_type": "code",
   "execution_count": 22,
   "metadata": {},
   "outputs": [
    {
     "data": {
      "text/html": [
       "<div>\n",
       "<style scoped>\n",
       "    .dataframe tbody tr th:only-of-type {\n",
       "        vertical-align: middle;\n",
       "    }\n",
       "\n",
       "    .dataframe tbody tr th {\n",
       "        vertical-align: top;\n",
       "    }\n",
       "\n",
       "    .dataframe thead th {\n",
       "        text-align: right;\n",
       "    }\n",
       "</style>\n",
       "<table border=\"1\" class=\"dataframe\">\n",
       "  <thead>\n",
       "    <tr style=\"text-align: right;\">\n",
       "      <th></th>\n",
       "      <th>user_id</th>\n",
       "      <th>score</th>\n",
       "      <th>city</th>\n",
       "      <th>gender</th>\n",
       "      <th>age</th>\n",
       "      <th>equity</th>\n",
       "      <th>balance</th>\n",
       "      <th>products</th>\n",
       "      <th>credit_card</th>\n",
       "      <th>last_activity</th>\n",
       "      <th>est_salary</th>\n",
       "      <th>churn</th>\n",
       "    </tr>\n",
       "  </thead>\n",
       "  <tbody>\n",
       "    <tr>\n",
       "      <th>0</th>\n",
       "      <td>183012</td>\n",
       "      <td>850</td>\n",
       "      <td>Рыбинск</td>\n",
       "      <td>0</td>\n",
       "      <td>25</td>\n",
       "      <td>1</td>\n",
       "      <td>59214.82</td>\n",
       "      <td>2</td>\n",
       "      <td>0</td>\n",
       "      <td>1</td>\n",
       "      <td>75719.14</td>\n",
       "      <td>1</td>\n",
       "    </tr>\n",
       "    <tr>\n",
       "      <th>1</th>\n",
       "      <td>146556</td>\n",
       "      <td>861</td>\n",
       "      <td>Рыбинск</td>\n",
       "      <td>0</td>\n",
       "      <td>37</td>\n",
       "      <td>5</td>\n",
       "      <td>850594.33</td>\n",
       "      <td>3</td>\n",
       "      <td>1</td>\n",
       "      <td>0</td>\n",
       "      <td>86621.77</td>\n",
       "      <td>0</td>\n",
       "    </tr>\n",
       "    <tr>\n",
       "      <th>2</th>\n",
       "      <td>120722</td>\n",
       "      <td>892</td>\n",
       "      <td>Рыбинск</td>\n",
       "      <td>0</td>\n",
       "      <td>30</td>\n",
       "      <td>0</td>\n",
       "      <td>NaN</td>\n",
       "      <td>1</td>\n",
       "      <td>1</td>\n",
       "      <td>1</td>\n",
       "      <td>107683.34</td>\n",
       "      <td>0</td>\n",
       "    </tr>\n",
       "    <tr>\n",
       "      <th>3</th>\n",
       "      <td>225363</td>\n",
       "      <td>866</td>\n",
       "      <td>Ярославль</td>\n",
       "      <td>0</td>\n",
       "      <td>51</td>\n",
       "      <td>5</td>\n",
       "      <td>1524746.26</td>\n",
       "      <td>2</td>\n",
       "      <td>0</td>\n",
       "      <td>1</td>\n",
       "      <td>174423.53</td>\n",
       "      <td>1</td>\n",
       "    </tr>\n",
       "    <tr>\n",
       "      <th>4</th>\n",
       "      <td>157978</td>\n",
       "      <td>730</td>\n",
       "      <td>Ярославль</td>\n",
       "      <td>1</td>\n",
       "      <td>34</td>\n",
       "      <td>5</td>\n",
       "      <td>174.00</td>\n",
       "      <td>1</td>\n",
       "      <td>1</td>\n",
       "      <td>0</td>\n",
       "      <td>67353.16</td>\n",
       "      <td>1</td>\n",
       "    </tr>\n",
       "  </tbody>\n",
       "</table>\n",
       "</div>"
      ],
      "text/plain": [
       "   user_id  score       city  gender  age  equity     balance  products  \\\n",
       "0   183012    850    Рыбинск       0   25       1    59214.82         2   \n",
       "1   146556    861    Рыбинск       0   37       5   850594.33         3   \n",
       "2   120722    892    Рыбинск       0   30       0         NaN         1   \n",
       "3   225363    866  Ярославль       0   51       5  1524746.26         2   \n",
       "4   157978    730  Ярославль       1   34       5      174.00         1   \n",
       "\n",
       "   credit_card  last_activity  est_salary  churn  \n",
       "0            0              1    75719.14      1  \n",
       "1            1              0    86621.77      0  \n",
       "2            1              1   107683.34      0  \n",
       "3            0              1   174423.53      1  \n",
       "4            1              0    67353.16      1  "
      ]
     },
     "execution_count": 22,
     "metadata": {},
     "output_type": "execute_result"
    }
   ],
   "source": [
    "# для столбца 'gender' сначала заменим соответственно значения \"М\" и \"Ж\" на \"1\" и \"0\":\n",
    "data['gender'] = data['gender'].replace(\"М\", '1')\n",
    "data['gender'] = data['gender'].replace(\"Ж\", '0')\n",
    "\n",
    "# приведем к типу 'int'\n",
    "data['gender'] = data['gender'].astype('int')\n",
    "data.head()"
   ]
  },
  {
   "cell_type": "code",
   "execution_count": 23,
   "metadata": {},
   "outputs": [
    {
     "data": {
      "text/html": [
       "<div>\n",
       "<style scoped>\n",
       "    .dataframe tbody tr th:only-of-type {\n",
       "        vertical-align: middle;\n",
       "    }\n",
       "\n",
       "    .dataframe tbody tr th {\n",
       "        vertical-align: top;\n",
       "    }\n",
       "\n",
       "    .dataframe thead th {\n",
       "        text-align: right;\n",
       "    }\n",
       "</style>\n",
       "<table border=\"1\" class=\"dataframe\">\n",
       "  <thead>\n",
       "    <tr style=\"text-align: right;\">\n",
       "      <th></th>\n",
       "      <th>user_id</th>\n",
       "      <th>score</th>\n",
       "      <th>gender</th>\n",
       "      <th>age</th>\n",
       "      <th>equity</th>\n",
       "      <th>balance</th>\n",
       "      <th>products</th>\n",
       "      <th>credit_card</th>\n",
       "      <th>last_activity</th>\n",
       "      <th>est_salary</th>\n",
       "      <th>churn</th>\n",
       "      <th>city_Ростов</th>\n",
       "      <th>city_Рыбинск</th>\n",
       "      <th>city_Ярославль</th>\n",
       "    </tr>\n",
       "  </thead>\n",
       "  <tbody>\n",
       "    <tr>\n",
       "      <th>0</th>\n",
       "      <td>183012</td>\n",
       "      <td>850</td>\n",
       "      <td>0</td>\n",
       "      <td>25</td>\n",
       "      <td>1</td>\n",
       "      <td>59214.82</td>\n",
       "      <td>2</td>\n",
       "      <td>0</td>\n",
       "      <td>1</td>\n",
       "      <td>75719.14</td>\n",
       "      <td>1</td>\n",
       "      <td>0</td>\n",
       "      <td>1</td>\n",
       "      <td>0</td>\n",
       "    </tr>\n",
       "    <tr>\n",
       "      <th>1</th>\n",
       "      <td>146556</td>\n",
       "      <td>861</td>\n",
       "      <td>0</td>\n",
       "      <td>37</td>\n",
       "      <td>5</td>\n",
       "      <td>850594.33</td>\n",
       "      <td>3</td>\n",
       "      <td>1</td>\n",
       "      <td>0</td>\n",
       "      <td>86621.77</td>\n",
       "      <td>0</td>\n",
       "      <td>0</td>\n",
       "      <td>1</td>\n",
       "      <td>0</td>\n",
       "    </tr>\n",
       "    <tr>\n",
       "      <th>2</th>\n",
       "      <td>120722</td>\n",
       "      <td>892</td>\n",
       "      <td>0</td>\n",
       "      <td>30</td>\n",
       "      <td>0</td>\n",
       "      <td>NaN</td>\n",
       "      <td>1</td>\n",
       "      <td>1</td>\n",
       "      <td>1</td>\n",
       "      <td>107683.34</td>\n",
       "      <td>0</td>\n",
       "      <td>0</td>\n",
       "      <td>1</td>\n",
       "      <td>0</td>\n",
       "    </tr>\n",
       "    <tr>\n",
       "      <th>3</th>\n",
       "      <td>225363</td>\n",
       "      <td>866</td>\n",
       "      <td>0</td>\n",
       "      <td>51</td>\n",
       "      <td>5</td>\n",
       "      <td>1524746.26</td>\n",
       "      <td>2</td>\n",
       "      <td>0</td>\n",
       "      <td>1</td>\n",
       "      <td>174423.53</td>\n",
       "      <td>1</td>\n",
       "      <td>0</td>\n",
       "      <td>0</td>\n",
       "      <td>1</td>\n",
       "    </tr>\n",
       "    <tr>\n",
       "      <th>4</th>\n",
       "      <td>157978</td>\n",
       "      <td>730</td>\n",
       "      <td>1</td>\n",
       "      <td>34</td>\n",
       "      <td>5</td>\n",
       "      <td>174.00</td>\n",
       "      <td>1</td>\n",
       "      <td>1</td>\n",
       "      <td>0</td>\n",
       "      <td>67353.16</td>\n",
       "      <td>1</td>\n",
       "      <td>0</td>\n",
       "      <td>0</td>\n",
       "      <td>1</td>\n",
       "    </tr>\n",
       "  </tbody>\n",
       "</table>\n",
       "</div>"
      ],
      "text/plain": [
       "   user_id  score  gender  age  equity     balance  products  credit_card  \\\n",
       "0   183012    850       0   25       1    59214.82         2            0   \n",
       "1   146556    861       0   37       5   850594.33         3            1   \n",
       "2   120722    892       0   30       0         NaN         1            1   \n",
       "3   225363    866       0   51       5  1524746.26         2            0   \n",
       "4   157978    730       1   34       5      174.00         1            1   \n",
       "\n",
       "   last_activity  est_salary  churn  city_Ростов  city_Рыбинск  city_Ярославль  \n",
       "0              1    75719.14      1            0             1               0  \n",
       "1              0    86621.77      0            0             1               0  \n",
       "2              1   107683.34      0            0             1               0  \n",
       "3              1   174423.53      1            0             0               1  \n",
       "4              0    67353.16      1            0             0               1  "
      ]
     },
     "execution_count": 23,
     "metadata": {},
     "output_type": "execute_result"
    }
   ],
   "source": [
    "# для столбца 'city 'сделаем разбивку по городам\n",
    "data = pd.get_dummies(data)\n",
    "data.head()"
   ]
  },
  {
   "cell_type": "code",
   "execution_count": 24,
   "metadata": {
    "scrolled": true
   },
   "outputs": [
    {
     "data": {
      "text/html": [
       "<div>\n",
       "<style scoped>\n",
       "    .dataframe tbody tr th:only-of-type {\n",
       "        vertical-align: middle;\n",
       "    }\n",
       "\n",
       "    .dataframe tbody tr th {\n",
       "        vertical-align: top;\n",
       "    }\n",
       "\n",
       "    .dataframe thead th {\n",
       "        text-align: right;\n",
       "    }\n",
       "</style>\n",
       "<table border=\"1\" class=\"dataframe\">\n",
       "  <thead>\n",
       "    <tr style=\"text-align: right;\">\n",
       "      <th></th>\n",
       "      <th>user_id</th>\n",
       "      <th>score</th>\n",
       "      <th>gender</th>\n",
       "      <th>age</th>\n",
       "      <th>equity</th>\n",
       "      <th>balance</th>\n",
       "      <th>products</th>\n",
       "      <th>credit_card</th>\n",
       "      <th>last_activity</th>\n",
       "      <th>est_salary</th>\n",
       "      <th>churn</th>\n",
       "      <th>Ростов</th>\n",
       "      <th>Рыбинск</th>\n",
       "      <th>Ярославль</th>\n",
       "    </tr>\n",
       "  </thead>\n",
       "  <tbody>\n",
       "    <tr>\n",
       "      <th>0</th>\n",
       "      <td>183012</td>\n",
       "      <td>850</td>\n",
       "      <td>0</td>\n",
       "      <td>25</td>\n",
       "      <td>1</td>\n",
       "      <td>59214.82</td>\n",
       "      <td>2</td>\n",
       "      <td>0</td>\n",
       "      <td>1</td>\n",
       "      <td>75719.14</td>\n",
       "      <td>1</td>\n",
       "      <td>0</td>\n",
       "      <td>1</td>\n",
       "      <td>0</td>\n",
       "    </tr>\n",
       "    <tr>\n",
       "      <th>1</th>\n",
       "      <td>146556</td>\n",
       "      <td>861</td>\n",
       "      <td>0</td>\n",
       "      <td>37</td>\n",
       "      <td>5</td>\n",
       "      <td>850594.33</td>\n",
       "      <td>3</td>\n",
       "      <td>1</td>\n",
       "      <td>0</td>\n",
       "      <td>86621.77</td>\n",
       "      <td>0</td>\n",
       "      <td>0</td>\n",
       "      <td>1</td>\n",
       "      <td>0</td>\n",
       "    </tr>\n",
       "    <tr>\n",
       "      <th>2</th>\n",
       "      <td>120722</td>\n",
       "      <td>892</td>\n",
       "      <td>0</td>\n",
       "      <td>30</td>\n",
       "      <td>0</td>\n",
       "      <td>NaN</td>\n",
       "      <td>1</td>\n",
       "      <td>1</td>\n",
       "      <td>1</td>\n",
       "      <td>107683.34</td>\n",
       "      <td>0</td>\n",
       "      <td>0</td>\n",
       "      <td>1</td>\n",
       "      <td>0</td>\n",
       "    </tr>\n",
       "    <tr>\n",
       "      <th>3</th>\n",
       "      <td>225363</td>\n",
       "      <td>866</td>\n",
       "      <td>0</td>\n",
       "      <td>51</td>\n",
       "      <td>5</td>\n",
       "      <td>1524746.26</td>\n",
       "      <td>2</td>\n",
       "      <td>0</td>\n",
       "      <td>1</td>\n",
       "      <td>174423.53</td>\n",
       "      <td>1</td>\n",
       "      <td>0</td>\n",
       "      <td>0</td>\n",
       "      <td>1</td>\n",
       "    </tr>\n",
       "    <tr>\n",
       "      <th>4</th>\n",
       "      <td>157978</td>\n",
       "      <td>730</td>\n",
       "      <td>1</td>\n",
       "      <td>34</td>\n",
       "      <td>5</td>\n",
       "      <td>174.00</td>\n",
       "      <td>1</td>\n",
       "      <td>1</td>\n",
       "      <td>0</td>\n",
       "      <td>67353.16</td>\n",
       "      <td>1</td>\n",
       "      <td>0</td>\n",
       "      <td>0</td>\n",
       "      <td>1</td>\n",
       "    </tr>\n",
       "  </tbody>\n",
       "</table>\n",
       "</div>"
      ],
      "text/plain": [
       "   user_id  score  gender  age  equity     balance  products  credit_card  \\\n",
       "0   183012    850       0   25       1    59214.82         2            0   \n",
       "1   146556    861       0   37       5   850594.33         3            1   \n",
       "2   120722    892       0   30       0         NaN         1            1   \n",
       "3   225363    866       0   51       5  1524746.26         2            0   \n",
       "4   157978    730       1   34       5      174.00         1            1   \n",
       "\n",
       "   last_activity  est_salary  churn  Ростов  Рыбинск  Ярославль  \n",
       "0              1    75719.14      1       0        1          0  \n",
       "1              0    86621.77      0       0        1          0  \n",
       "2              1   107683.34      0       0        1          0  \n",
       "3              1   174423.53      1       0        0          1  \n",
       "4              0    67353.16      1       0        0          1  "
      ]
     },
     "execution_count": 24,
     "metadata": {},
     "output_type": "execute_result"
    }
   ],
   "source": [
    "# переименуем получившиеся столбцы\n",
    "data =  data.rename(columns={'city_Ростов':'Ростов', 'city_Рыбинск':'Рыбинск', 'city_Ярославль':'Ярославль'})\n",
    "data.head()"
   ]
  },
  {
   "cell_type": "markdown",
   "metadata": {},
   "source": [
    "**Вывод по разделу:**\n",
    "\n",
    "- Переменованы колонки, типы данных приведены в соответствие, исследованы и обработаны пропущенные значения, найдены и обработаны неявные дубликаты.\n",
    "- Также проанализированы причины пропусков - возможный технический сбой при выгрузке данных.\n",
    "- Для дальнейшего анализа было проведено кодирование категориальных данных.\n"
   ]
  },
  {
   "cell_type": "markdown",
   "metadata": {},
   "source": [
    "## Исследовательский анализ данных (EDA)"
   ]
  },
  {
   "cell_type": "markdown",
   "metadata": {},
   "source": [
    "### Анализ распределений показателей клиентов банка"
   ]
  },
  {
   "cell_type": "markdown",
   "metadata": {},
   "source": [
    "Посмотрим, есть ли выбросы в данных в 'balance' и в 'est_salary'"
   ]
  },
  {
   "cell_type": "code",
   "execution_count": 25,
   "metadata": {
    "scrolled": true
   },
   "outputs": [
    {
     "data": {
      "image/png": "[encoded data removed]",
      "text/plain": [
       "<Figure size 360x360 with 1 Axes>"
      ]
     },
     "metadata": {
      "needs_background": "light"
     },
     "output_type": "display_data"
    }
   ],
   "source": [
    "data.boxplot(column=['balance'], figsize=(5, 5))\n",
    "plt.title('Анализ выбросов в balance')\n",
    "plt.ylabel('распределение')\n",
    "plt.show()"
   ]
  },
  {
   "cell_type": "code",
   "execution_count": 26,
   "metadata": {},
   "outputs": [
    {
     "data": {
      "text/plain": [
       "316308.942"
      ]
     },
     "execution_count": 26,
     "metadata": {},
     "output_type": "execute_result"
    }
   ],
   "source": [
    "np.percentile(data['est_salary'], 95)"
   ]
  },
  {
   "cell_type": "code",
   "execution_count": 27,
   "metadata": {},
   "outputs": [
    {
     "data": {
      "image/png": "[encoded data removed]",
      "text/plain": [
       "<Figure size 360x360 with 1 Axes>"
      ]
     },
     "metadata": {
      "needs_background": "light"
     },
     "output_type": "display_data"
    }
   ],
   "source": [
    "data.boxplot(column=['est_salary'], figsize=(5, 5))\n",
    "plt.title('Анализ выбросов в est_salary')\n",
    "plt.ylabel('распределение')\n",
    "plt.show()"
   ]
  },
  {
   "cell_type": "markdown",
   "metadata": {},
   "source": [
    "Да, есть выбросы в обоих признаках. Если в дальнейшем анализе они не будут портить картину, то удалять не будем, а укажем в рекомендациях. Ведь помимо выбросов в балансе есть еще и пропуски, а данные по зарплате заполнялись моделью, и могут быть ошибки, которые следует доработать."
   ]
  },
  {
   "cell_type": "markdown",
   "metadata": {},
   "source": [
    "Построим гистограммы распределения каждой величины в разбивке по churn"
   ]
  },
  {
   "cell_type": "code",
   "execution_count": 28,
   "metadata": {},
   "outputs": [],
   "source": [
    "sns.set_theme(style=\"darkgrid\")\n",
    "sns.set_palette(['cornflowerblue','green'])"
   ]
  },
  {
   "cell_type": "code",
   "execution_count": 29,
   "metadata": {},
   "outputs": [],
   "source": [
    "# Напишем функцию, которая строит гистограммы распределения признаков\n",
    "def function_hist(data, column):\n",
    "    sns.displot(data, x=column, hue='churn')\n",
    "    plt.title('Распределение '+name, fontsize=13)\n",
    "    plt.xlabel(name)\n",
    "    plt.ylabel('Распределение')\n",
    "    plt.legend({'Ушли', 'Остались'})\n",
    "    plt.show()"
   ]
  },
  {
   "cell_type": "code",
   "execution_count": 30,
   "metadata": {
    "scrolled": false
   },
   "outputs": [
    {
     "data": {
      "image/png": "[encoded data removed]",
      "text/plain": [
       "<Figure size 406.6x360 with 1 Axes>"
      ]
     },
     "metadata": {},
     "output_type": "display_data"
    },
    {
     "data": {
      "image/png": "[encoded data removed]",
      "text/plain": [
       "<Figure size 406.6x360 with 1 Axes>"
      ]
     },
     "metadata": {},
     "output_type": "display_data"
    },
    {
     "data": {
      "image/png": "[encoded data removed]",
      "text/plain": [
       "<Figure size 406.6x360 with 1 Axes>"
      ]
     },
     "metadata": {},
     "output_type": "display_data"
    },
    {
     "data": {
      "image/png": "[encoded data removed]",
      "text/plain": [
       "<Figure size 406.6x360 with 1 Axes>"
      ]
     },
     "metadata": {},
     "output_type": "display_data"
    },
    {
     "data": {
      "image/png": "[encoded data removed]",
      "text/plain": [
       "<Figure size 406.6x360 with 1 Axes>"
      ]
     },
     "metadata": {},
     "output_type": "display_data"
    },
    {
     "data": {
      "image/png": "[encoded data removed]",
      "text/plain": [
       "<Figure size 406.6x360 with 1 Axes>"
      ]
     },
     "metadata": {},
     "output_type": "display_data"
    },
    {
     "data": {
      "image/png": "[encoded data removed]",
      "text/plain": [
       "<Figure size 406.6x360 with 1 Axes>"
      ]
     },
     "metadata": {},
     "output_type": "display_data"
    },
    {
     "data": {
      "image/png": "[encoded data removed]",
      "text/plain": [
       "<Figure size 406.6x360 with 1 Axes>"
      ]
     },
     "metadata": {},
     "output_type": "display_data"
    },
    {
     "data": {
      "image/png": "[encoded data removed]",
      "text/plain": [
       "<Figure size 406.6x360 with 1 Axes>"
      ]
     },
     "metadata": {},
     "output_type": "display_data"
    },
    {
     "data": {
      "image/png": "[encoded data removed]",
      "text/plain": [
       "<Figure size 406.6x360 with 1 Axes>"
      ]
     },
     "metadata": {},
     "output_type": "display_data"
    },
    {
     "data": {
      "image/png": "[encoded data removed]",
      "text/plain": [
       "<Figure size 406.6x360 with 1 Axes>"
      ]
     },
     "metadata": {},
     "output_type": "display_data"
    },
    {
     "data": {
      "image/png": "[encoded data removed]",
      "text/plain": [
       "<Figure size 406.6x360 with 1 Axes>"
      ]
     },
     "metadata": {},
     "output_type": "display_data"
    },
    {
     "data": {
      "image/png": "[encoded data removed]",
      "text/plain": [
       "<Figure size 406.6x360 with 1 Axes>"
      ]
     },
     "metadata": {},
     "output_type": "display_data"
    }
   ],
   "source": [
    "for name in data.columns[1::]:\n",
    "    function_hist(data,name)"
   ]
  },
  {
   "cell_type": "markdown",
   "metadata": {},
   "source": [
    "**по графикам можно сделать следующие выводы:**\n",
    "\n",
    "- мужчин уходит больше, чем женщин;\n",
    "- больше всего уходят клиентов с 5 и выше баллами собственности, имеющие 3-4 банковских продукта;\n",
    "- больше уходит клиентов, не имеющих кредитную карту;\n",
    "- больше уходит активных клиентов, чем неактивных."
   ]
  },
  {
   "cell_type": "markdown",
   "metadata": {},
   "source": [
    "### Корреляционный анализ данных на вероятность ухода"
   ]
  },
  {
   "cell_type": "code",
   "execution_count": 31,
   "metadata": {},
   "outputs": [
    {
     "data": {
      "image/png": "[encoded data removed]",
      "text/plain": [
       "<Figure size 936x936 with 2 Axes>"
      ]
     },
     "metadata": {},
     "output_type": "display_data"
    }
   ],
   "source": [
    "cm = data.drop('user_id', axis=1).corr()\n",
    "fig, test = plt.subplots()\n",
    "test.set_title('Корреляция признаков клиентов банка')\n",
    "fig.set_figheight(13)\n",
    "fig.set_figwidth(13)\n",
    "sns.heatmap(cm, annot = True, square=True)\n",
    "plt.show()"
   ]
  },
  {
   "cell_type": "markdown",
   "metadata": {},
   "source": [
    "сильная корреляция от ±0,7 до ±1\n",
    "\n",
    "средняя корреляция от ±0,3 до ±0,699\n",
    "\n",
    "слабая корреляция от ±0,1 до ±0,299"
   ]
  },
  {
   "cell_type": "markdown",
   "metadata": {},
   "source": [
    "Признаки практически не коррелируют между собой. \n",
    "\n",
    "Слабая положительная корреляция наблюдается между оттоком и полом, количеством баллов собственности, активностью клиента. \n",
    "\n",
    "Чуть сильнее связь между оттоком и количеством продуктов."
   ]
  },
  {
   "cell_type": "markdown",
   "metadata": {},
   "source": [
    "**Вывод по разделу**\n",
    "\n",
    "Изучены выбросы в колонках 'est_salary' и 'balance'\n",
    "\n",
    "Построены гистограммы распределения данных в разбивке по 'churn'\n",
    "\n",
    "Проведен корреляционный анализ на вероятность ухода\n",
    "\n",
    "Было выявлено, что:\n",
    "- мужчин уходит больше, чем женщин;\n",
    "- больше всего уходят клиентов с 5 и выше баллами собственности, имеющие 3-4 банковских продукта;\n",
    "- больше уходит клиентов, не имеющих кредитную карту;\n",
    "- больше уходит активных клиентов, чем неактивных."
   ]
  },
  {
   "cell_type": "markdown",
   "metadata": {},
   "source": [
    "## Статистический анализ. Проверка гипотез"
   ]
  },
  {
   "cell_type": "markdown",
   "metadata": {},
   "source": [
    "### Сформулировать и проверить статистические гипотезы, влияющие на отток клиентов"
   ]
  },
  {
   "cell_type": "markdown",
   "metadata": {},
   "source": [
    "**Гипотеза 1: Средние зарплаты ушедших и оставшихся клиентов одинаковые**"
   ]
  },
  {
   "cell_type": "markdown",
   "metadata": {},
   "source": [
    "H0: средние зарплаты оставшихся и ушедших клиентов равны\n",
    "\n",
    "H1: средние зарплаты оставшихся и ушедших клиентов отличаются"
   ]
  },
  {
   "cell_type": "code",
   "execution_count": 32,
   "metadata": {},
   "outputs": [
    {
     "name": "stdout",
     "output_type": "stream",
     "text": [
      "p-value: [0.92575021]\n",
      "Не получилось отвергнуть нулевую гипотезу\n"
     ]
    }
   ],
   "source": [
    "salary_left = data.query('churn == 1')[['est_salary']]\n",
    "salary_stay = data.query('churn == 0')[['est_salary']]\n",
    "\n",
    "alpha = 0.05\n",
    "\n",
    "results = st.ttest_ind(salary_left, salary_stay, equal_var=False)\n",
    "print('p-value:', results.pvalue)\n",
    "\n",
    "if results.pvalue < alpha:\n",
    "    print('Отвергаем нулевую гипотезу')\n",
    "else:\n",
    "    print('Не получилось отвергнуть нулевую гипотезу')"
   ]
  },
  {
   "cell_type": "markdown",
   "metadata": {},
   "source": [
    "Таким образом, средние зарплаты оставшихся и ушедших клиентов одинаковые."
   ]
  },
  {
   "cell_type": "markdown",
   "metadata": {},
   "source": [
    "**Гипотеза 2: Среднее количество продуктов у ушедших и оставшихся клиентов одинаковое**"
   ]
  },
  {
   "cell_type": "markdown",
   "metadata": {},
   "source": [
    "H0: среднее количество продуктов у оставшихся и ушедших клиентов равны\n",
    "\n",
    "H1: среднее количество продуктов у оставшихся и ушедших клиентов отличаются"
   ]
  },
  {
   "cell_type": "code",
   "execution_count": 33,
   "metadata": {},
   "outputs": [
    {
     "name": "stdout",
     "output_type": "stream",
     "text": [
      "p-value: [1.03702088e-135]\n",
      "Отвергаем нулевую гипотезу\n"
     ]
    }
   ],
   "source": [
    "products_left = data.query('churn == 1')[['products']]\n",
    "products_stay = data.query('churn == 0')[['products']]\n",
    "\n",
    "alpha = 0.05\n",
    "\n",
    "results = st.ttest_ind(products_left, products_stay, equal_var=False)\n",
    "print('p-value:', results.pvalue)\n",
    "\n",
    "if results.pvalue < alpha:\n",
    "    print('Отвергаем нулевую гипотезу')\n",
    "else:\n",
    "    print('Не получилось отвергнуть нулевую гипотезу')"
   ]
  },
  {
   "cell_type": "markdown",
   "metadata": {},
   "source": [
    "Таким образом, среднее количество продуктов у оставшихся и ушедших клиентов отличаются."
   ]
  },
  {
   "cell_type": "markdown",
   "metadata": {},
   "source": [
    "По поводу alpha=0.05\n",
    "\n",
    "Альфа-уровень — это вероятность ошибочного отклонения истинной нулевой гипотезы. Увеличение альфа-уровня теста увеличивает вероятность того, что мы сможем найти значимый результат теста, но также увеличивает вероятность того, что мы ошибочно отклоним истинную нулевую гипотезу.\n",
    "\n",
    "0.05 - это наиболее распространенный выбор альфа-уровня проверки гипотезы.\n",
    "\n",
    "Чтобы опустить его порог до 0,01 нужны веские причины для перестраховки. У нас не тот случай, когда неправильные выводы влекут за собой серьезные последствия, как например в медицине. Поэтому считаю выбор alpha=0.05 вполне оправданным."
   ]
  },
  {
   "cell_type": "markdown",
   "metadata": {},
   "source": [
    "## Промежуточный итог: какие показатели влияют на отток клиентов"
   ]
  },
  {
   "cell_type": "markdown",
   "metadata": {},
   "source": [
    "Подведем промежуточные итоги. На отток клиентов влияют:\n",
    "- gender: мужчин уходит больше, чем женщин;\n",
    "- equity: основная масса ушедших клиентов с 5 и выше баллами собственности;\n",
    "- products: ушедшие клиенты имеют банковские продукты;\n",
    "- credit_card: ушедшие клиентов как правило не имеют кредитную карту;\n",
    "- last_activity: среди ушедших клиентов больше активных, чем неактивных."
   ]
  },
  {
   "cell_type": "markdown",
   "metadata": {},
   "source": [
    "## Сегментация клиентов"
   ]
  },
  {
   "cell_type": "markdown",
   "metadata": {},
   "source": [
    "### Выделение сегментов"
   ]
  },
  {
   "cell_type": "markdown",
   "metadata": {},
   "source": [
    "Посмотрим на средние значения в двух группах (тех, кто ушел, и тех, кто остался) по портретным признакам клиентов. Если средние будут сильно отличаться, это послужит поводом для выделения в сегменты."
   ]
  },
  {
   "cell_type": "code",
   "execution_count": 34,
   "metadata": {},
   "outputs": [
    {
     "name": "stdout",
     "output_type": "stream",
     "text": [
      "Общий портрет клиентов:\n"
     ]
    },
    {
     "data": {
      "text/html": [
       "<div>\n",
       "<style scoped>\n",
       "    .dataframe tbody tr th:only-of-type {\n",
       "        vertical-align: middle;\n",
       "    }\n",
       "\n",
       "    .dataframe tbody tr th {\n",
       "        vertical-align: top;\n",
       "    }\n",
       "\n",
       "    .dataframe thead th {\n",
       "        text-align: right;\n",
       "    }\n",
       "</style>\n",
       "<table border=\"1\" class=\"dataframe\">\n",
       "  <thead>\n",
       "    <tr style=\"text-align: right;\">\n",
       "      <th></th>\n",
       "      <th>user_id</th>\n",
       "      <th>score</th>\n",
       "      <th>gender</th>\n",
       "      <th>age</th>\n",
       "      <th>equity</th>\n",
       "      <th>balance</th>\n",
       "      <th>products</th>\n",
       "      <th>credit_card</th>\n",
       "      <th>last_activity</th>\n",
       "      <th>est_salary</th>\n",
       "      <th>Ростов</th>\n",
       "      <th>Рыбинск</th>\n",
       "      <th>Ярославль</th>\n",
       "    </tr>\n",
       "    <tr>\n",
       "      <th>churn</th>\n",
       "      <th></th>\n",
       "      <th></th>\n",
       "      <th></th>\n",
       "      <th></th>\n",
       "      <th></th>\n",
       "      <th></th>\n",
       "      <th></th>\n",
       "      <th></th>\n",
       "      <th></th>\n",
       "      <th></th>\n",
       "      <th></th>\n",
       "      <th></th>\n",
       "      <th></th>\n",
       "    </tr>\n",
       "  </thead>\n",
       "  <tbody>\n",
       "    <tr>\n",
       "      <th>0</th>\n",
       "      <td>173152.5</td>\n",
       "      <td>848.0</td>\n",
       "      <td>0.0</td>\n",
       "      <td>40.0</td>\n",
       "      <td>3.0</td>\n",
       "      <td>475382.445</td>\n",
       "      <td>2.0</td>\n",
       "      <td>1.0</td>\n",
       "      <td>0.0</td>\n",
       "      <td>118224.635</td>\n",
       "      <td>0</td>\n",
       "      <td>0</td>\n",
       "      <td>1</td>\n",
       "    </tr>\n",
       "    <tr>\n",
       "      <th>1</th>\n",
       "      <td>170460.0</td>\n",
       "      <td>866.0</td>\n",
       "      <td>1.0</td>\n",
       "      <td>39.0</td>\n",
       "      <td>4.0</td>\n",
       "      <td>781540.965</td>\n",
       "      <td>2.0</td>\n",
       "      <td>1.0</td>\n",
       "      <td>1.0</td>\n",
       "      <td>124997.370</td>\n",
       "      <td>0</td>\n",
       "      <td>0</td>\n",
       "      <td>1</td>\n",
       "    </tr>\n",
       "  </tbody>\n",
       "</table>\n",
       "</div>"
      ],
      "text/plain": [
       "        user_id  score  gender   age  equity     balance  products  \\\n",
       "churn                                                                \n",
       "0      173152.5  848.0     0.0  40.0     3.0  475382.445       2.0   \n",
       "1      170460.0  866.0     1.0  39.0     4.0  781540.965       2.0   \n",
       "\n",
       "       credit_card  last_activity  est_salary  Ростов  Рыбинск  Ярославль  \n",
       "churn                                                                      \n",
       "0              1.0            0.0  118224.635       0        0          1  \n",
       "1              1.0            1.0  124997.370       0        0          1  "
      ]
     },
     "execution_count": 34,
     "metadata": {},
     "output_type": "execute_result"
    }
   ],
   "source": [
    "print('Общий портрет клиентов:')\n",
    "data.groupby(['churn']).median()"
   ]
  },
  {
   "cell_type": "markdown",
   "metadata": {},
   "source": [
    "**Сегмент 1: активные клиенты, мужчины**"
   ]
  },
  {
   "cell_type": "code",
   "execution_count": 35,
   "metadata": {},
   "outputs": [],
   "source": [
    "segment_1 = data.query('last_activity == 1 & gender == 1')"
   ]
  },
  {
   "cell_type": "markdown",
   "metadata": {},
   "source": [
    "Также на основании корреляционного анализа включим в сегментацию показатели по количеству продуктов, наличию кредитной карты и баллы собственности"
   ]
  },
  {
   "cell_type": "markdown",
   "metadata": {},
   "source": [
    "**Сегмент 2: клиенты не имеющие кредитную карту**"
   ]
  },
  {
   "cell_type": "code",
   "execution_count": 36,
   "metadata": {},
   "outputs": [],
   "source": [
    "segment_2 = data.query('credit_card == 0')"
   ]
  },
  {
   "cell_type": "markdown",
   "metadata": {},
   "source": [
    "**Сегмент 3: клиенты с баллами собственности от 5 и выше**"
   ]
  },
  {
   "cell_type": "code",
   "execution_count": 37,
   "metadata": {},
   "outputs": [],
   "source": [
    "segment_3 = data.query('equity >= 5')"
   ]
  },
  {
   "cell_type": "markdown",
   "metadata": {},
   "source": [
    "**Сегмент 4: клиенты имеющие банковские продукты от 3 и выше**"
   ]
  },
  {
   "cell_type": "code",
   "execution_count": 38,
   "metadata": {},
   "outputs": [],
   "source": [
    "segment_4 = data.query('products >= 3')"
   ]
  },
  {
   "cell_type": "markdown",
   "metadata": {},
   "source": [
    "### Приоритизация сегментов по оттоку"
   ]
  },
  {
   "cell_type": "markdown",
   "metadata": {},
   "source": [
    "**Посчитаем общий отток**"
   ]
  },
  {
   "cell_type": "code",
   "execution_count": 39,
   "metadata": {
    "scrolled": true
   },
   "outputs": [
    {
     "name": "stdout",
     "output_type": "stream",
     "text": [
      "Общий отток в данных: 1791\n"
     ]
    }
   ],
   "source": [
    "# посчитаем общий отток\n",
    "print('Общий отток в данных:', len(data.query('churn == 1')))"
   ]
  },
  {
   "cell_type": "code",
   "execution_count": 40,
   "metadata": {
    "scrolled": true
   },
   "outputs": [
    {
     "name": "stdout",
     "output_type": "stream",
     "text": [
      "Доля общего оттока в данных: 0.18\n"
     ]
    }
   ],
   "source": [
    "print('Доля общего оттока в данных:', round(len(data.query('churn == 1'))/len(data), 2))"
   ]
  },
  {
   "cell_type": "markdown",
   "metadata": {},
   "source": [
    "**Исследуем сегмент 1**"
   ]
  },
  {
   "cell_type": "code",
   "execution_count": 41,
   "metadata": {},
   "outputs": [
    {
     "name": "stdout",
     "output_type": "stream",
     "text": [
      "Количество клиентов в сегменте_1: 2560\n"
     ]
    }
   ],
   "source": [
    "print('Количество клиентов в сегменте_1:',len(segment_1))"
   ]
  },
  {
   "cell_type": "code",
   "execution_count": 42,
   "metadata": {},
   "outputs": [
    {
     "name": "stdout",
     "output_type": "stream",
     "text": [
      "Количество ушедших в сегменте_1: 759\n"
     ]
    }
   ],
   "source": [
    "print('Количество ушедших в сегменте_1:', len(segment_1.query('churn == 1')))"
   ]
  },
  {
   "cell_type": "code",
   "execution_count": 43,
   "metadata": {
    "scrolled": true
   },
   "outputs": [
    {
     "name": "stdout",
     "output_type": "stream",
     "text": [
      "Доля ушедших в сегменте 1: 0.3\n"
     ]
    }
   ],
   "source": [
    "print('Доля ушедших в сегменте 1:', round(len(segment_1.query('churn == 1'))/len(segment_1), 2))"
   ]
  },
  {
   "cell_type": "code",
   "execution_count": 44,
   "metadata": {
    "scrolled": true
   },
   "outputs": [
    {
     "name": "stdout",
     "output_type": "stream",
     "text": [
      "Доля ушедших в сегменте 1 относительно общего оттока: 0.42\n"
     ]
    }
   ],
   "source": [
    "print('Доля ушедших в сегменте 1 относительно общего оттока:', \\\n",
    "      round(len(segment_1.query('churn == 1'))/len(data.query('churn == 1')), 2))"
   ]
  },
  {
   "cell_type": "markdown",
   "metadata": {},
   "source": [
    "**Исследуем сегмент 2**"
   ]
  },
  {
   "cell_type": "code",
   "execution_count": 45,
   "metadata": {},
   "outputs": [
    {
     "name": "stdout",
     "output_type": "stream",
     "text": [
      "Количество клиентов в сегменте_2: 3174\n"
     ]
    }
   ],
   "source": [
    "print('Количество клиентов в сегменте_2:',len(segment_2))"
   ]
  },
  {
   "cell_type": "code",
   "execution_count": 46,
   "metadata": {},
   "outputs": [
    {
     "name": "stdout",
     "output_type": "stream",
     "text": [
      "Количество ушедших в сегменте_2: 802\n"
     ]
    }
   ],
   "source": [
    "print('Количество ушедших в сегменте_2:', len(segment_2.query('churn == 1')))"
   ]
  },
  {
   "cell_type": "code",
   "execution_count": 47,
   "metadata": {
    "scrolled": false
   },
   "outputs": [
    {
     "name": "stdout",
     "output_type": "stream",
     "text": [
      "Доля ушедших в сегменте 2: 0.25\n"
     ]
    }
   ],
   "source": [
    "print('Доля ушедших в сегменте 2:', round(len(segment_2.query('churn == 1'))/len(segment_2), 2))"
   ]
  },
  {
   "cell_type": "code",
   "execution_count": 48,
   "metadata": {
    "scrolled": false
   },
   "outputs": [
    {
     "name": "stdout",
     "output_type": "stream",
     "text": [
      "Доля ушедших в сегменте 2 относительно общего оттока: 0.45\n"
     ]
    }
   ],
   "source": [
    "print('Доля ушедших в сегменте 2 относительно общего оттока:', \\\n",
    "      round(len(segment_2.query('churn == 1'))/len(data.query('churn == 1')), 2))"
   ]
  },
  {
   "cell_type": "markdown",
   "metadata": {},
   "source": [
    "**Исследуем сегмент 3**"
   ]
  },
  {
   "cell_type": "code",
   "execution_count": 49,
   "metadata": {},
   "outputs": [
    {
     "name": "stdout",
     "output_type": "stream",
     "text": [
      "Количество клиентов в сегменте_3: 2173\n"
     ]
    }
   ],
   "source": [
    "print('Количество клиентов в сегменте_3:',len(segment_3))"
   ]
  },
  {
   "cell_type": "code",
   "execution_count": 50,
   "metadata": {},
   "outputs": [
    {
     "name": "stdout",
     "output_type": "stream",
     "text": [
      "Количество ушедших в сегменте_3: 674\n"
     ]
    }
   ],
   "source": [
    "print('Количество ушедших в сегменте_3:', len(segment_3.query('churn == 1')))"
   ]
  },
  {
   "cell_type": "code",
   "execution_count": 51,
   "metadata": {
    "scrolled": true
   },
   "outputs": [
    {
     "name": "stdout",
     "output_type": "stream",
     "text": [
      "Доля ушедших в сегменте 3: 0.31\n"
     ]
    }
   ],
   "source": [
    "print('Доля ушедших в сегменте 3:', round(len(segment_3.query('churn == 1'))/len(segment_3), 2))"
   ]
  },
  {
   "cell_type": "code",
   "execution_count": 52,
   "metadata": {
    "scrolled": false
   },
   "outputs": [
    {
     "name": "stdout",
     "output_type": "stream",
     "text": [
      "Доля ушедших в сегменте 3 относительно общего оттока: 0.38\n"
     ]
    }
   ],
   "source": [
    "print('Доля ушедших в сегменте 3 относительно общего оттока:', \\\n",
    "      round(len(segment_3.query('churn == 1'))/len(data.query('churn == 1')), 2))"
   ]
  },
  {
   "cell_type": "markdown",
   "metadata": {},
   "source": [
    "**Исследуем сегмент 4**"
   ]
  },
  {
   "cell_type": "code",
   "execution_count": 53,
   "metadata": {},
   "outputs": [
    {
     "name": "stdout",
     "output_type": "stream",
     "text": [
      "Количество клиентов в сегменте_4: 1518\n"
     ]
    }
   ],
   "source": [
    "print('Количество клиентов в сегменте_4:',len(segment_4))"
   ]
  },
  {
   "cell_type": "code",
   "execution_count": 54,
   "metadata": {
    "scrolled": true
   },
   "outputs": [
    {
     "name": "stdout",
     "output_type": "stream",
     "text": [
      "Количество ушедших в сегменте_4: 597\n"
     ]
    }
   ],
   "source": [
    "print('Количество ушедших в сегменте_4:', len(segment_4.query('churn == 1')))"
   ]
  },
  {
   "cell_type": "code",
   "execution_count": 55,
   "metadata": {
    "scrolled": true
   },
   "outputs": [
    {
     "name": "stdout",
     "output_type": "stream",
     "text": [
      "Доля ушедших в сегменте 4: 0.39\n"
     ]
    }
   ],
   "source": [
    "print('Доля ушедших в сегменте 4:', round(len(segment_4.query('churn == 1'))/len(segment_4), 2))"
   ]
  },
  {
   "cell_type": "code",
   "execution_count": 56,
   "metadata": {
    "scrolled": false
   },
   "outputs": [
    {
     "name": "stdout",
     "output_type": "stream",
     "text": [
      "Доля ушедших в сегменте 4 относительно общего оттока: 0.33\n"
     ]
    }
   ],
   "source": [
    "print('Доля ушедших в сегменте 4 относительно общего оттока:', \\\n",
    "      round(len(segment_4.query('churn == 1'))/len(data.query('churn == 1')), 2))"
   ]
  },
  {
   "cell_type": "markdown",
   "metadata": {},
   "source": [
    "Соберем данные анализа сегментов в одной таблице"
   ]
  },
  {
   "cell_type": "code",
   "execution_count": 57,
   "metadata": {
    "scrolled": true
   },
   "outputs": [
    {
     "data": {
      "text/html": [
       "<div>\n",
       "<style scoped>\n",
       "    .dataframe tbody tr th:only-of-type {\n",
       "        vertical-align: middle;\n",
       "    }\n",
       "\n",
       "    .dataframe tbody tr th {\n",
       "        vertical-align: top;\n",
       "    }\n",
       "\n",
       "    .dataframe thead th {\n",
       "        text-align: right;\n",
       "    }\n",
       "</style>\n",
       "<table border=\"1\" class=\"dataframe\">\n",
       "  <thead>\n",
       "    <tr style=\"text-align: right;\">\n",
       "      <th></th>\n",
       "      <th>segment</th>\n",
       "      <th>size</th>\n",
       "      <th>share_left</th>\n",
       "      <th>share_stay</th>\n",
       "      <th>share_left_in_all</th>\n",
       "    </tr>\n",
       "  </thead>\n",
       "  <tbody>\n",
       "    <tr>\n",
       "      <th>1</th>\n",
       "      <td>segment_2</td>\n",
       "      <td>3174</td>\n",
       "      <td>0.25</td>\n",
       "      <td>0.75</td>\n",
       "      <td>0.45</td>\n",
       "    </tr>\n",
       "    <tr>\n",
       "      <th>0</th>\n",
       "      <td>segment_1</td>\n",
       "      <td>2560</td>\n",
       "      <td>0.30</td>\n",
       "      <td>0.70</td>\n",
       "      <td>0.42</td>\n",
       "    </tr>\n",
       "    <tr>\n",
       "      <th>2</th>\n",
       "      <td>segment_3</td>\n",
       "      <td>2173</td>\n",
       "      <td>0.31</td>\n",
       "      <td>0.69</td>\n",
       "      <td>0.38</td>\n",
       "    </tr>\n",
       "    <tr>\n",
       "      <th>3</th>\n",
       "      <td>segment_4</td>\n",
       "      <td>1518</td>\n",
       "      <td>0.39</td>\n",
       "      <td>0.61</td>\n",
       "      <td>0.33</td>\n",
       "    </tr>\n",
       "  </tbody>\n",
       "</table>\n",
       "</div>"
      ],
      "text/plain": [
       "     segment  size  share_left  share_stay  share_left_in_all\n",
       "1  segment_2  3174        0.25        0.75               0.45\n",
       "0  segment_1  2560        0.30        0.70               0.42\n",
       "2  segment_3  2173        0.31        0.69               0.38\n",
       "3  segment_4  1518        0.39        0.61               0.33"
      ]
     },
     "execution_count": 57,
     "metadata": {},
     "output_type": "execute_result"
    }
   ],
   "source": [
    "df = pd.DataFrame(\n",
    "    [['segment_1',\n",
    "      len(segment_1),\n",
    "      round(len(segment_1.query('churn == 1'))/len(segment_1), 2), \n",
    "      1-round(len(segment_1.query('churn == 1'))/len(segment_1), 2),\n",
    "      round(len(segment_1.query('churn == 1'))/len(data.query('churn == 1')), 2)],\n",
    "     ['segment_2', \n",
    "      len(segment_2),\n",
    "      round(len(segment_2.query('churn == 1'))/len(segment_2), 2), \n",
    "      1-round(len(segment_2.query('churn == 1'))/len(segment_2), 2),\n",
    "      round(len(segment_2.query('churn == 1'))/len(data.query('churn == 1')), 2)], \n",
    "     ['segment_3',\n",
    "      len(segment_3),\n",
    "      round(len(segment_3.query('churn == 1'))/len(segment_3), 2), \n",
    "      1-round(len(segment_3.query('churn == 1'))/len(segment_3), 2),\n",
    "      round(len(segment_3.query('churn == 1'))/len(data.query('churn == 1')), 2)],\n",
    "     ['segment_4',\n",
    "      len(segment_4),\n",
    "      round(len(segment_4.query('churn == 1'))/len(segment_4), 2), \n",
    "      1-round(len(segment_4.query('churn == 1'))/len(segment_4), 2),\n",
    "      round(len(segment_4.query('churn == 1'))/len(data.query('churn == 1')), 2)]],\n",
    "    columns=['segment', 'size', 'share_left', 'share_stay', 'share_left_in_all'])\n",
    "df.sort_values(by='share_left_in_all', ascending=False)"
   ]
  },
  {
   "cell_type": "markdown",
   "metadata": {},
   "source": [
    "Собрать данные можно и через цикл"
   ]
  },
  {
   "cell_type": "code",
   "execution_count": 58,
   "metadata": {},
   "outputs": [],
   "source": [
    "dict_sample = {1: segment_1, 2: segment_2, 3: segment_3, 4: segment_4}"
   ]
  },
  {
   "cell_type": "code",
   "execution_count": 59,
   "metadata": {},
   "outputs": [
    {
     "data": {
      "text/html": [
       "<div>\n",
       "<style scoped>\n",
       "    .dataframe tbody tr th:only-of-type {\n",
       "        vertical-align: middle;\n",
       "    }\n",
       "\n",
       "    .dataframe tbody tr th {\n",
       "        vertical-align: top;\n",
       "    }\n",
       "\n",
       "    .dataframe thead th {\n",
       "        text-align: right;\n",
       "    }\n",
       "</style>\n",
       "<table border=\"1\" class=\"dataframe\">\n",
       "  <thead>\n",
       "    <tr style=\"text-align: right;\">\n",
       "      <th></th>\n",
       "      <th>segment</th>\n",
       "      <th>size</th>\n",
       "      <th>share_left</th>\n",
       "      <th>share_stay</th>\n",
       "      <th>share_left_in_all</th>\n",
       "    </tr>\n",
       "  </thead>\n",
       "  <tbody>\n",
       "    <tr>\n",
       "      <th>0</th>\n",
       "      <td>1</td>\n",
       "      <td>2560</td>\n",
       "      <td>0.30</td>\n",
       "      <td>0.70</td>\n",
       "      <td>0.42</td>\n",
       "    </tr>\n",
       "    <tr>\n",
       "      <th>1</th>\n",
       "      <td>2</td>\n",
       "      <td>3174</td>\n",
       "      <td>0.25</td>\n",
       "      <td>0.75</td>\n",
       "      <td>0.45</td>\n",
       "    </tr>\n",
       "    <tr>\n",
       "      <th>2</th>\n",
       "      <td>3</td>\n",
       "      <td>2173</td>\n",
       "      <td>0.31</td>\n",
       "      <td>0.69</td>\n",
       "      <td>0.38</td>\n",
       "    </tr>\n",
       "    <tr>\n",
       "      <th>3</th>\n",
       "      <td>4</td>\n",
       "      <td>1518</td>\n",
       "      <td>0.39</td>\n",
       "      <td>0.61</td>\n",
       "      <td>0.33</td>\n",
       "    </tr>\n",
       "  </tbody>\n",
       "</table>\n",
       "</div>"
      ],
      "text/plain": [
       "  segment  size  share_left  share_stay  share_left_in_all\n",
       "0       1  2560        0.30        0.70               0.42\n",
       "1       2  3174        0.25        0.75               0.45\n",
       "2       3  2173        0.31        0.69               0.38\n",
       "3       4  1518        0.39        0.61               0.33"
      ]
     },
     "execution_count": 59,
     "metadata": {},
     "output_type": "execute_result"
    }
   ],
   "source": [
    "cols = ['segment', 'size', 'share_left', 'share_stay', 'share_left_in_all']\n",
    "\n",
    "N = 4\n",
    "dat = pd.DataFrame(columns = cols)\n",
    "for i in range(N):\n",
    "\n",
    "    dat = dat.append({'segment': str(i+1),\n",
    "                     'size': len(dict_sample[i+1]),\n",
    "                     'share_left': round(len(dict_sample[i+1].query('churn == 1'))/len(dict_sample[i+1]), 2),\n",
    "                     'share_stay': 1-round(len(dict_sample[i+1].query('churn == 1'))/len(dict_sample[i+1]), 2),\n",
    "                     'share_left_in_all': round(len(dict_sample[i+1].query('churn == 1'))/len(data.query('churn == 1')), 2)\n",
    "                     },ignore_index=True)\n",
    "dat    "
   ]
  },
  {
   "cell_type": "code",
   "execution_count": 60,
   "metadata": {
    "scrolled": true
   },
   "outputs": [
    {
     "data": {
      "image/png": "[encoded data removed]",
      "text/plain": [
       "<Figure size 864x360 with 1 Axes>"
      ]
     },
     "metadata": {},
     "output_type": "display_data"
    }
   ],
   "source": [
    "fig, ax = plt.subplots(figsize=(12, 5))\n",
    "ax = sns.barplot(x='segment', y='share_left_in_all', data=df)\n",
    "ax.set_title('Приоритезация сегментов по общему оттоку')\n",
    "plt.show()"
   ]
  },
  {
   "cell_type": "code",
   "execution_count": 61,
   "metadata": {},
   "outputs": [
    {
     "data": {
      "image/png": "[encoded data removed]",
      "text/plain": [
       "<Figure size 864x360 with 1 Axes>"
      ]
     },
     "metadata": {},
     "output_type": "display_data"
    }
   ],
   "source": [
    "fig, ax = plt.subplots(figsize=(12, 5))\n",
    "ax = sns.barplot(x='segment', y='share_left', data=df)\n",
    "ax.set_title('Приоритезация сегментов по оттоку внутри сегмента')\n",
    "plt.show()"
   ]
  },
  {
   "cell_type": "markdown",
   "metadata": {},
   "source": [
    "Размеры сегментов неодинаковые. Поэтому следует рассматривать данные по ним в двух плоскостях: относительно общего оттока и оттока внутри сегмента. И ситуация получается прямо противоположная.\n",
    "\n",
    "- приоритезация сегментов по общему оттоку: 2, 1, 3, 4\n",
    "- приоритезация сегментов по внутреннему оттоку: 4, 3, 1, 2\n",
    "\n",
    "Самые стабильные первый и третий сегмент - активные мужчины) и клиенты с баллами собственности от 5 и выше.\n",
    "\n",
    "Я бы больше ориентировалась на данные по оттоку внутри сегмента.\n",
    "1. Сегмент 4: клиенты имеющие банковские продукты от 3 и выше\n",
    "2. Сегмент 3: клиенты с баллами собственности от 5 и выше\n",
    "3. Сегмент 1: активные клиенты, мужчины\n",
    "4. Сегмент 2: клиенты не имеющие кредитную карту\n"
   ]
  },
  {
   "cell_type": "markdown",
   "metadata": {},
   "source": [
    "## Выводы и рекомендации"
   ]
  },
  {
   "cell_type": "markdown",
   "metadata": {},
   "source": [
    "**На этапе предобработки данных**\n",
    "- Переменованы колонки, типы данных приведены в соответствие, исследованы и обработаны пропущенные значения, найдены и обработаны неявные дубликаты.\n",
    "- Также проанализированы причины пропусков - возможный технический сбой при выгрузке данных.\n",
    "- Проведено кодирование категориальных данных для дальнейшего анализа.\n",
    "\n",
    "**В ходе исследовательского анализа выявлены следующие причины, влияющие на отток:**\n",
    "- мужчин уходит больше, чем женщин;\n",
    "- больше всего уходят клиентов с 5 и выше баллами собственности, имеющие 3-4 банковских продукта;\n",
    "- больше уходит клиентов, не имеющих кредитную карту;\n",
    "- больше уходит активных клиентов, чем неактивных.\n",
    "\n",
    "**В ходе статистического анализа** были проверены гипотезы о влиянии на отток зарплат и используемых продуктов клиентами банка.\n",
    "\n",
    "Было выявлено, что средние зарплаты оставшихся и ушедших клиентов одинаковые, а вот среднее количество продуктов банка различается.\n",
    "\n",
    "**В ходе сегментации клиентов по оттоку выделены 4 сегмента:**\n",
    "\n",
    "Сегмент 1: активные клиенты, мужчины\n",
    "\n",
    "Сегмент 2: клиенты не имеющие кредитную карту\n",
    "\n",
    "Сегмент 3: клиенты с баллами собственности от 5 и выше\n",
    "\n",
    "Сегмент 4: клиенты имеющие банковские продукты от 3 и выше\n",
    "\n",
    "Приоритеты по оттоку расставлены следующим образом:\n",
    "Сегмент 4, Сегмент 3, Сегмент 1, Сегмент 2\n",
    "\n",
    "**Рекомендации для отдела маркетинга**\n",
    "- Следует провести анализ качества предоставляемых услуг по банковским продуктам, \n",
    "- Предоставить дополнительные услуги/льготы для клиентов с 3 и более продуктами. \n",
    "- В рекламных кампаниях делать акцент на мужской тематике,\n",
    "- Провести исследование о качестве и удобстве клиентского сервиса, ведь склонны к оттоку именно активные клиенты.\n",
    "- Провести акцию с целью увеличить объем использования клиентами кредитных карт, - ведь клиенты, имеющие кредитные карты не склонны уходить из банка.\n",
    "- Провести маркетинговые шаги на удержание клиентов с высокими баллами собственности.\n",
    "\n",
    "**Рекомендации для ИТ специалистов.**\n",
    "- Предполагаем, что при выгрузке данных произошел технический сбой, который повлек большое количество пропусков в 'balance'\n",
    "- Признак 'est_salary' имеет выбросы, возможно следует доработать модель, которая заполняет эти данные."
   ]
  },
  {
   "cell_type": "markdown",
   "metadata": {},
   "source": [
    "## Подготовка дашборда и презентации"
   ]
  },
  {
   "cell_type": "markdown",
   "metadata": {
    "scrolled": true
   },
   "source": [
    "**презентация:** https://disk.yandex.ru/i/jBTKRrnyp021cg\n",
    "\n",
    "**дашборд:** https://public.tableau.com/views/_16821068631580/Dashboard1?:language=en-US&publish=yes&:display_count=n&:origin=viz_share_link"
   ]
  }
 ],
 "metadata": {
  "ExecuteTimeLog": [
   {
    "duration": 419,
    "start_time": "2023-04-18T11:33:13.926Z"
   },
   {
    "duration": 1106,
    "start_time": "2023-04-18T11:33:33.922Z"
   },
   {
    "duration": 14,
    "start_time": "2023-04-18T11:34:06.426Z"
   },
   {
    "duration": 16,
    "start_time": "2023-04-18T11:34:29.577Z"
   },
   {
    "duration": 12,
    "start_time": "2023-04-18T11:35:15.720Z"
   },
   {
    "duration": 10,
    "start_time": "2023-04-18T15:58:53.424Z"
   },
   {
    "duration": 8,
    "start_time": "2023-04-18T15:59:29.421Z"
   },
   {
    "duration": 25,
    "start_time": "2023-04-18T15:59:47.419Z"
   },
   {
    "duration": 11,
    "start_time": "2023-04-18T16:00:07.105Z"
   },
   {
    "duration": 14,
    "start_time": "2023-04-18T16:00:42.109Z"
   },
   {
    "duration": 11,
    "start_time": "2023-04-18T16:03:46.601Z"
   },
   {
    "duration": 17,
    "start_time": "2023-04-18T16:04:21.283Z"
   },
   {
    "duration": 12,
    "start_time": "2023-04-18T16:04:39.726Z"
   },
   {
    "duration": 118,
    "start_time": "2023-04-18T16:05:40.362Z"
   },
   {
    "duration": 40,
    "start_time": "2023-04-18T16:06:19.754Z"
   },
   {
    "duration": 1269,
    "start_time": "2023-04-18T16:07:02.461Z"
   },
   {
    "duration": 7,
    "start_time": "2023-04-18T16:07:15.333Z"
   },
   {
    "duration": 9,
    "start_time": "2023-04-18T16:07:31.313Z"
   },
   {
    "duration": 16,
    "start_time": "2023-04-18T16:08:00.225Z"
   },
   {
    "duration": 8,
    "start_time": "2023-04-18T16:08:07.216Z"
   },
   {
    "duration": 5,
    "start_time": "2023-04-18T16:08:29.941Z"
   },
   {
    "duration": 413,
    "start_time": "2023-04-18T16:08:38.625Z"
   },
   {
    "duration": 1117,
    "start_time": "2023-04-18T16:08:39.040Z"
   },
   {
    "duration": 22,
    "start_time": "2023-04-18T16:08:40.158Z"
   },
   {
    "duration": 19,
    "start_time": "2023-04-18T16:08:40.182Z"
   },
   {
    "duration": 7,
    "start_time": "2023-04-18T16:08:40.203Z"
   },
   {
    "duration": 9,
    "start_time": "2023-04-18T16:08:40.211Z"
   },
   {
    "duration": 4,
    "start_time": "2023-04-18T16:08:40.222Z"
   },
   {
    "duration": 61,
    "start_time": "2023-04-18T16:08:40.227Z"
   },
   {
    "duration": 13,
    "start_time": "2023-04-18T16:08:40.295Z"
   },
   {
    "duration": 6,
    "start_time": "2023-04-18T16:08:40.310Z"
   },
   {
    "duration": 22,
    "start_time": "2023-04-18T16:08:40.318Z"
   },
   {
    "duration": 112,
    "start_time": "2023-04-18T16:09:40.443Z"
   },
   {
    "duration": 34,
    "start_time": "2023-04-18T16:10:01.127Z"
   },
   {
    "duration": 14,
    "start_time": "2023-04-18T16:10:08.522Z"
   },
   {
    "duration": 10,
    "start_time": "2023-04-18T16:10:18.144Z"
   },
   {
    "duration": 5,
    "start_time": "2023-04-18T16:14:31.623Z"
   },
   {
    "duration": 7,
    "start_time": "2023-04-18T16:15:50.121Z"
   },
   {
    "duration": 6,
    "start_time": "2023-04-18T16:16:33.849Z"
   },
   {
    "duration": 5,
    "start_time": "2023-04-18T16:16:49.155Z"
   },
   {
    "duration": 13,
    "start_time": "2023-04-18T16:20:57.357Z"
   },
   {
    "duration": 414,
    "start_time": "2023-04-18T16:21:14.078Z"
   },
   {
    "duration": 951,
    "start_time": "2023-04-18T16:21:14.494Z"
   },
   {
    "duration": 15,
    "start_time": "2023-04-18T16:21:15.446Z"
   },
   {
    "duration": 22,
    "start_time": "2023-04-18T16:21:15.464Z"
   },
   {
    "duration": 18,
    "start_time": "2023-04-18T16:21:15.487Z"
   },
   {
    "duration": 10,
    "start_time": "2023-04-18T16:21:15.507Z"
   },
   {
    "duration": 24,
    "start_time": "2023-04-18T16:21:15.519Z"
   },
   {
    "duration": 42,
    "start_time": "2023-04-18T16:21:15.545Z"
   },
   {
    "duration": 9,
    "start_time": "2023-04-18T16:21:15.589Z"
   },
   {
    "duration": 8,
    "start_time": "2023-04-18T16:21:15.600Z"
   },
   {
    "duration": 29,
    "start_time": "2023-04-18T16:21:15.610Z"
   },
   {
    "duration": 76,
    "start_time": "2023-04-18T16:28:42.990Z"
   },
   {
    "duration": 4,
    "start_time": "2023-04-18T17:53:03.042Z"
   },
   {
    "duration": 13,
    "start_time": "2023-04-18T17:53:08.296Z"
   },
   {
    "duration": 507,
    "start_time": "2023-04-18T17:53:24.738Z"
   },
   {
    "duration": 1301,
    "start_time": "2023-04-18T17:53:25.249Z"
   },
   {
    "duration": 23,
    "start_time": "2023-04-18T17:53:26.552Z"
   },
   {
    "duration": 24,
    "start_time": "2023-04-18T17:53:26.577Z"
   },
   {
    "duration": 9,
    "start_time": "2023-04-18T17:53:26.602Z"
   },
   {
    "duration": 26,
    "start_time": "2023-04-18T17:53:26.613Z"
   },
   {
    "duration": 9,
    "start_time": "2023-04-18T17:53:26.641Z"
   },
   {
    "duration": 99,
    "start_time": "2023-04-18T17:53:26.674Z"
   },
   {
    "duration": 0,
    "start_time": "2023-04-18T17:53:26.779Z"
   },
   {
    "duration": 0,
    "start_time": "2023-04-18T17:53:26.781Z"
   },
   {
    "duration": 1,
    "start_time": "2023-04-18T17:53:26.782Z"
   },
   {
    "duration": 0,
    "start_time": "2023-04-18T17:53:26.786Z"
   },
   {
    "duration": 28,
    "start_time": "2023-04-18T17:54:28.106Z"
   },
   {
    "duration": 517,
    "start_time": "2023-04-18T17:54:49.442Z"
   },
   {
    "duration": 1107,
    "start_time": "2023-04-18T17:54:49.964Z"
   },
   {
    "duration": 18,
    "start_time": "2023-04-18T17:54:51.079Z"
   },
   {
    "duration": 26,
    "start_time": "2023-04-18T17:54:51.106Z"
   },
   {
    "duration": 19,
    "start_time": "2023-04-18T17:54:51.134Z"
   },
   {
    "duration": 30,
    "start_time": "2023-04-18T17:54:51.155Z"
   },
   {
    "duration": 13,
    "start_time": "2023-04-18T17:54:51.186Z"
   },
   {
    "duration": 26,
    "start_time": "2023-04-18T17:54:51.200Z"
   },
   {
    "duration": 21,
    "start_time": "2023-04-18T17:54:51.227Z"
   },
   {
    "duration": 33,
    "start_time": "2023-04-18T17:54:51.250Z"
   },
   {
    "duration": 8,
    "start_time": "2023-04-18T17:54:51.286Z"
   },
   {
    "duration": 43,
    "start_time": "2023-04-18T17:54:51.296Z"
   },
   {
    "duration": 8,
    "start_time": "2023-04-18T17:55:15.291Z"
   },
   {
    "duration": 5,
    "start_time": "2023-04-18T17:55:20.862Z"
   },
   {
    "duration": 12,
    "start_time": "2023-04-18T18:06:10.906Z"
   },
   {
    "duration": 5,
    "start_time": "2023-04-18T18:10:43.636Z"
   },
   {
    "duration": 13,
    "start_time": "2023-04-18T18:11:47.536Z"
   },
   {
    "duration": 54,
    "start_time": "2023-04-18T18:19:17.090Z"
   },
   {
    "duration": 5,
    "start_time": "2023-04-18T18:19:27.651Z"
   },
   {
    "duration": 69,
    "start_time": "2023-04-18T18:20:15.283Z"
   },
   {
    "duration": 4,
    "start_time": "2023-04-18T18:20:26.939Z"
   },
   {
    "duration": 25,
    "start_time": "2023-04-18T18:23:24.450Z"
   },
   {
    "duration": 13,
    "start_time": "2023-04-18T18:24:51.414Z"
   },
   {
    "duration": 91,
    "start_time": "2023-04-18T18:33:26.240Z"
   },
   {
    "duration": 4,
    "start_time": "2023-04-18T18:33:34.320Z"
   },
   {
    "duration": 452,
    "start_time": "2023-04-18T18:33:47.000Z"
   },
   {
    "duration": 1202,
    "start_time": "2023-04-18T18:33:47.454Z"
   },
   {
    "duration": 15,
    "start_time": "2023-04-18T18:33:48.658Z"
   },
   {
    "duration": 9,
    "start_time": "2023-04-18T18:33:48.675Z"
   },
   {
    "duration": 24,
    "start_time": "2023-04-18T18:33:48.686Z"
   },
   {
    "duration": 6,
    "start_time": "2023-04-18T18:33:48.721Z"
   },
   {
    "duration": 25,
    "start_time": "2023-04-18T18:33:48.728Z"
   },
   {
    "duration": 21,
    "start_time": "2023-04-18T18:33:48.754Z"
   },
   {
    "duration": 5,
    "start_time": "2023-04-18T18:33:48.777Z"
   },
   {
    "duration": 28,
    "start_time": "2023-04-18T18:33:48.785Z"
   },
   {
    "duration": 23,
    "start_time": "2023-04-18T18:33:48.815Z"
   },
   {
    "duration": 18,
    "start_time": "2023-04-18T18:33:48.840Z"
   },
   {
    "duration": 24,
    "start_time": "2023-04-18T18:33:48.860Z"
   },
   {
    "duration": 25,
    "start_time": "2023-04-18T18:33:48.887Z"
   },
   {
    "duration": 13,
    "start_time": "2023-04-18T18:33:48.913Z"
   },
   {
    "duration": 9,
    "start_time": "2023-04-18T18:33:48.927Z"
   },
   {
    "duration": 39,
    "start_time": "2023-04-18T18:33:48.937Z"
   },
   {
    "duration": 13,
    "start_time": "2023-04-18T18:34:38.925Z"
   },
   {
    "duration": 12,
    "start_time": "2023-04-18T18:37:22.003Z"
   },
   {
    "duration": 21,
    "start_time": "2023-04-18T19:18:35.920Z"
   },
   {
    "duration": 86,
    "start_time": "2023-04-18T19:24:36.508Z"
   },
   {
    "duration": 13,
    "start_time": "2023-04-18T19:24:58.907Z"
   },
   {
    "duration": 13,
    "start_time": "2023-04-18T19:25:13.508Z"
   },
   {
    "duration": 15,
    "start_time": "2023-04-18T19:25:28.815Z"
   },
   {
    "duration": 13,
    "start_time": "2023-04-18T19:25:37.099Z"
   },
   {
    "duration": 23,
    "start_time": "2023-04-18T19:26:13.127Z"
   },
   {
    "duration": 21,
    "start_time": "2023-04-18T19:26:47.305Z"
   },
   {
    "duration": 14,
    "start_time": "2023-04-18T19:32:00.715Z"
   },
   {
    "duration": 11,
    "start_time": "2023-04-18T19:32:17.448Z"
   },
   {
    "duration": 10,
    "start_time": "2023-04-18T19:33:08.932Z"
   },
   {
    "duration": 514,
    "start_time": "2023-04-18T19:33:24.612Z"
   },
   {
    "duration": 1144,
    "start_time": "2023-04-18T19:33:25.134Z"
   },
   {
    "duration": 22,
    "start_time": "2023-04-18T19:33:26.280Z"
   },
   {
    "duration": 12,
    "start_time": "2023-04-18T19:33:26.305Z"
   },
   {
    "duration": 19,
    "start_time": "2023-04-18T19:33:26.319Z"
   },
   {
    "duration": 6,
    "start_time": "2023-04-18T19:33:26.340Z"
   },
   {
    "duration": 65,
    "start_time": "2023-04-18T19:33:26.348Z"
   },
   {
    "duration": 13,
    "start_time": "2023-04-18T19:33:26.415Z"
   },
   {
    "duration": 12,
    "start_time": "2023-04-18T19:33:26.429Z"
   },
   {
    "duration": 36,
    "start_time": "2023-04-18T19:33:26.443Z"
   },
   {
    "duration": 35,
    "start_time": "2023-04-18T19:33:26.481Z"
   },
   {
    "duration": 6,
    "start_time": "2023-04-18T19:33:26.518Z"
   },
   {
    "duration": 10,
    "start_time": "2023-04-18T19:33:26.530Z"
   },
   {
    "duration": 13,
    "start_time": "2023-04-18T19:33:26.541Z"
   },
   {
    "duration": 27,
    "start_time": "2023-04-18T19:33:26.556Z"
   },
   {
    "duration": 5,
    "start_time": "2023-04-18T19:33:26.585Z"
   },
   {
    "duration": 32,
    "start_time": "2023-04-18T19:33:26.592Z"
   },
   {
    "duration": 23,
    "start_time": "2023-04-18T19:33:26.626Z"
   },
   {
    "duration": 27,
    "start_time": "2023-04-18T19:33:26.651Z"
   },
   {
    "duration": 20,
    "start_time": "2023-04-18T19:40:51.509Z"
   },
   {
    "duration": 20,
    "start_time": "2023-04-18T19:42:08.612Z"
   },
   {
    "duration": 21,
    "start_time": "2023-04-18T19:43:41.535Z"
   },
   {
    "duration": 6,
    "start_time": "2023-04-18T19:49:00.530Z"
   },
   {
    "duration": 88,
    "start_time": "2023-04-18T19:51:30.016Z"
   },
   {
    "duration": 39,
    "start_time": "2023-04-18T19:51:44.412Z"
   },
   {
    "duration": 50,
    "start_time": "2023-04-18T19:51:54.456Z"
   },
   {
    "duration": 22,
    "start_time": "2023-04-18T19:52:07.409Z"
   },
   {
    "duration": 71,
    "start_time": "2023-04-18T19:52:48.042Z"
   },
   {
    "duration": 25,
    "start_time": "2023-04-18T19:52:55.512Z"
   },
   {
    "duration": 22,
    "start_time": "2023-04-18T19:54:05.022Z"
   },
   {
    "duration": 7,
    "start_time": "2023-04-18T19:54:30.326Z"
   },
   {
    "duration": 20,
    "start_time": "2023-04-18T19:56:14.438Z"
   },
   {
    "duration": 21,
    "start_time": "2023-04-18T19:57:01.332Z"
   },
   {
    "duration": 22,
    "start_time": "2023-04-18T19:57:10.853Z"
   },
   {
    "duration": 22,
    "start_time": "2023-04-18T19:57:19.796Z"
   },
   {
    "duration": 38,
    "start_time": "2023-04-18T19:57:42.452Z"
   },
   {
    "duration": 26,
    "start_time": "2023-04-18T19:59:07.505Z"
   },
   {
    "duration": 20,
    "start_time": "2023-04-18T19:59:32.092Z"
   },
   {
    "duration": 6,
    "start_time": "2023-04-18T20:00:59.842Z"
   },
   {
    "duration": 3,
    "start_time": "2023-04-18T20:03:28.096Z"
   },
   {
    "duration": 31,
    "start_time": "2023-04-18T20:04:31.132Z"
   },
   {
    "duration": 5,
    "start_time": "2023-04-18T20:07:48.925Z"
   },
   {
    "duration": 7,
    "start_time": "2023-04-18T20:08:09.745Z"
   },
   {
    "duration": 11,
    "start_time": "2023-04-18T20:08:11.499Z"
   },
   {
    "duration": 8,
    "start_time": "2023-04-18T20:08:32.915Z"
   },
   {
    "duration": 14,
    "start_time": "2023-04-18T20:08:41.196Z"
   },
   {
    "duration": 11,
    "start_time": "2023-04-18T20:08:41.931Z"
   },
   {
    "duration": 6,
    "start_time": "2023-04-18T20:08:45.025Z"
   },
   {
    "duration": 15,
    "start_time": "2023-04-18T20:08:51.841Z"
   },
   {
    "duration": 521,
    "start_time": "2023-04-18T20:09:15.108Z"
   },
   {
    "duration": 1020,
    "start_time": "2023-04-18T20:09:15.635Z"
   },
   {
    "duration": 29,
    "start_time": "2023-04-18T20:09:16.657Z"
   },
   {
    "duration": 10,
    "start_time": "2023-04-18T20:09:16.690Z"
   },
   {
    "duration": 26,
    "start_time": "2023-04-18T20:09:16.703Z"
   },
   {
    "duration": 9,
    "start_time": "2023-04-18T20:09:16.732Z"
   },
   {
    "duration": 65,
    "start_time": "2023-04-18T20:09:16.743Z"
   },
   {
    "duration": 10,
    "start_time": "2023-04-18T20:09:16.814Z"
   },
   {
    "duration": 7,
    "start_time": "2023-04-18T20:09:16.827Z"
   },
   {
    "duration": 19,
    "start_time": "2023-04-18T20:09:16.837Z"
   },
   {
    "duration": 28,
    "start_time": "2023-04-18T20:09:16.857Z"
   },
   {
    "duration": 4,
    "start_time": "2023-04-18T20:09:16.887Z"
   },
   {
    "duration": 17,
    "start_time": "2023-04-18T20:09:16.895Z"
   },
   {
    "duration": 24,
    "start_time": "2023-04-18T20:09:16.916Z"
   },
   {
    "duration": 24,
    "start_time": "2023-04-18T20:09:16.942Z"
   },
   {
    "duration": 6,
    "start_time": "2023-04-18T20:09:16.969Z"
   },
   {
    "duration": 34,
    "start_time": "2023-04-18T20:09:16.978Z"
   },
   {
    "duration": 9,
    "start_time": "2023-04-18T20:09:17.017Z"
   },
   {
    "duration": 8,
    "start_time": "2023-04-18T20:09:17.027Z"
   },
   {
    "duration": 38,
    "start_time": "2023-04-18T20:09:17.037Z"
   },
   {
    "duration": 28,
    "start_time": "2023-04-18T20:09:17.078Z"
   },
   {
    "duration": 7,
    "start_time": "2023-04-18T20:09:57.916Z"
   },
   {
    "duration": 15,
    "start_time": "2023-04-18T20:11:24.211Z"
   },
   {
    "duration": 490,
    "start_time": "2023-04-18T20:11:31.784Z"
   },
   {
    "duration": 1021,
    "start_time": "2023-04-18T20:11:32.276Z"
   },
   {
    "duration": 17,
    "start_time": "2023-04-18T20:11:33.302Z"
   },
   {
    "duration": 5,
    "start_time": "2023-04-18T20:11:33.321Z"
   },
   {
    "duration": 14,
    "start_time": "2023-04-18T20:11:33.329Z"
   },
   {
    "duration": 45,
    "start_time": "2023-04-18T20:11:33.345Z"
   },
   {
    "duration": 43,
    "start_time": "2023-04-18T20:11:33.391Z"
   },
   {
    "duration": 17,
    "start_time": "2023-04-18T20:11:33.436Z"
   },
   {
    "duration": 6,
    "start_time": "2023-04-18T20:11:33.456Z"
   },
   {
    "duration": 30,
    "start_time": "2023-04-18T20:11:33.473Z"
   },
   {
    "duration": 44,
    "start_time": "2023-04-18T20:11:33.508Z"
   },
   {
    "duration": 13,
    "start_time": "2023-04-18T20:11:33.554Z"
   },
   {
    "duration": 14,
    "start_time": "2023-04-18T20:11:33.570Z"
   },
   {
    "duration": 24,
    "start_time": "2023-04-18T20:11:33.590Z"
   },
   {
    "duration": 19,
    "start_time": "2023-04-18T20:11:33.618Z"
   },
   {
    "duration": 6,
    "start_time": "2023-04-18T20:11:33.639Z"
   },
   {
    "duration": 45,
    "start_time": "2023-04-18T20:11:33.647Z"
   },
   {
    "duration": 10,
    "start_time": "2023-04-18T20:11:33.695Z"
   },
   {
    "duration": 8,
    "start_time": "2023-04-18T20:11:33.707Z"
   },
   {
    "duration": 6,
    "start_time": "2023-04-18T20:11:33.716Z"
   },
   {
    "duration": 13,
    "start_time": "2023-04-18T20:11:33.724Z"
   },
   {
    "duration": 23,
    "start_time": "2023-04-18T20:30:06.885Z"
   },
   {
    "duration": 12,
    "start_time": "2023-04-18T20:30:40.598Z"
   },
   {
    "duration": 21,
    "start_time": "2023-04-18T20:31:41.629Z"
   },
   {
    "duration": 25,
    "start_time": "2023-04-18T20:33:26.005Z"
   },
   {
    "duration": 18,
    "start_time": "2023-04-18T20:35:10.603Z"
   },
   {
    "duration": 22,
    "start_time": "2023-04-18T20:37:02.880Z"
   },
   {
    "duration": 94,
    "start_time": "2023-04-18T20:37:19.931Z"
   },
   {
    "duration": 12,
    "start_time": "2023-04-18T20:37:36.579Z"
   },
   {
    "duration": 23,
    "start_time": "2023-04-18T20:38:03.969Z"
   },
   {
    "duration": 13,
    "start_time": "2023-04-18T20:38:53.017Z"
   },
   {
    "duration": 399,
    "start_time": "2023-04-18T20:38:59.244Z"
   },
   {
    "duration": 1489,
    "start_time": "2023-04-18T20:38:59.644Z"
   },
   {
    "duration": 14,
    "start_time": "2023-04-18T20:39:01.134Z"
   },
   {
    "duration": 46,
    "start_time": "2023-04-18T20:39:01.150Z"
   },
   {
    "duration": 99,
    "start_time": "2023-04-18T20:39:01.198Z"
   },
   {
    "duration": 43,
    "start_time": "2023-04-18T20:39:01.299Z"
   },
   {
    "duration": 62,
    "start_time": "2023-04-18T20:39:01.344Z"
   },
   {
    "duration": 26,
    "start_time": "2023-04-18T20:39:01.408Z"
   },
   {
    "duration": 56,
    "start_time": "2023-04-18T20:39:01.436Z"
   },
   {
    "duration": 61,
    "start_time": "2023-04-18T20:39:01.496Z"
   },
   {
    "duration": 48,
    "start_time": "2023-04-18T20:39:01.559Z"
   },
   {
    "duration": 4,
    "start_time": "2023-04-18T20:39:01.609Z"
   },
   {
    "duration": 36,
    "start_time": "2023-04-18T20:39:01.615Z"
   },
   {
    "duration": 25,
    "start_time": "2023-04-18T20:39:01.653Z"
   },
   {
    "duration": 22,
    "start_time": "2023-04-18T20:39:01.685Z"
   },
   {
    "duration": 13,
    "start_time": "2023-04-18T20:39:01.709Z"
   },
   {
    "duration": 42,
    "start_time": "2023-04-18T20:39:01.724Z"
   },
   {
    "duration": 27,
    "start_time": "2023-04-18T20:39:01.775Z"
   },
   {
    "duration": 31,
    "start_time": "2023-04-18T20:39:01.804Z"
   },
   {
    "duration": 44,
    "start_time": "2023-04-18T20:39:01.837Z"
   },
   {
    "duration": 54,
    "start_time": "2023-04-18T20:39:01.883Z"
   },
   {
    "duration": 48,
    "start_time": "2023-04-18T20:39:01.939Z"
   },
   {
    "duration": 41,
    "start_time": "2023-04-18T20:39:01.988Z"
   },
   {
    "duration": 22,
    "start_time": "2023-04-18T20:39:02.030Z"
   },
   {
    "duration": 87,
    "start_time": "2023-04-18T20:39:46.573Z"
   },
   {
    "duration": 414,
    "start_time": "2023-04-18T20:39:55.211Z"
   },
   {
    "duration": 1035,
    "start_time": "2023-04-18T20:39:55.627Z"
   },
   {
    "duration": 29,
    "start_time": "2023-04-18T20:39:56.666Z"
   },
   {
    "duration": 13,
    "start_time": "2023-04-18T20:39:56.700Z"
   },
   {
    "duration": 17,
    "start_time": "2023-04-18T20:39:56.716Z"
   },
   {
    "duration": 9,
    "start_time": "2023-04-18T20:39:56.735Z"
   },
   {
    "duration": 48,
    "start_time": "2023-04-18T20:39:56.745Z"
   },
   {
    "duration": 10,
    "start_time": "2023-04-18T20:39:56.795Z"
   },
   {
    "duration": 7,
    "start_time": "2023-04-18T20:39:56.806Z"
   },
   {
    "duration": 16,
    "start_time": "2023-04-18T20:39:56.815Z"
   },
   {
    "duration": 17,
    "start_time": "2023-04-18T20:39:56.832Z"
   },
   {
    "duration": 23,
    "start_time": "2023-04-18T20:39:56.851Z"
   },
   {
    "duration": 14,
    "start_time": "2023-04-18T20:39:56.879Z"
   },
   {
    "duration": 16,
    "start_time": "2023-04-18T20:39:56.896Z"
   },
   {
    "duration": 11,
    "start_time": "2023-04-18T20:39:56.914Z"
   },
   {
    "duration": 5,
    "start_time": "2023-04-18T20:39:56.926Z"
   },
   {
    "duration": 55,
    "start_time": "2023-04-18T20:39:56.933Z"
   },
   {
    "duration": 14,
    "start_time": "2023-04-18T20:39:56.992Z"
   },
   {
    "duration": 9,
    "start_time": "2023-04-18T20:39:57.011Z"
   },
   {
    "duration": 5,
    "start_time": "2023-04-18T20:39:57.022Z"
   },
   {
    "duration": 12,
    "start_time": "2023-04-18T20:39:57.029Z"
   },
   {
    "duration": 42,
    "start_time": "2023-04-18T20:39:57.042Z"
   },
   {
    "duration": 22,
    "start_time": "2023-04-18T20:39:57.085Z"
   },
   {
    "duration": 13,
    "start_time": "2023-04-18T20:39:57.109Z"
   },
   {
    "duration": 80,
    "start_time": "2023-04-18T20:40:03.210Z"
   },
   {
    "duration": 19,
    "start_time": "2023-04-18T20:40:42.667Z"
   },
   {
    "duration": 13,
    "start_time": "2023-04-18T20:40:50.093Z"
   },
   {
    "duration": 17,
    "start_time": "2023-04-18T20:41:07.546Z"
   },
   {
    "duration": 10,
    "start_time": "2023-04-18T20:41:33.990Z"
   },
   {
    "duration": 13,
    "start_time": "2023-04-18T20:42:00.328Z"
   },
   {
    "duration": 14,
    "start_time": "2023-04-18T20:45:15.483Z"
   },
   {
    "duration": 24,
    "start_time": "2023-04-18T20:45:24.680Z"
   },
   {
    "duration": 452,
    "start_time": "2023-04-18T20:45:48.578Z"
   },
   {
    "duration": 1315,
    "start_time": "2023-04-18T20:45:49.033Z"
   },
   {
    "duration": 11,
    "start_time": "2023-04-18T20:45:50.350Z"
   },
   {
    "duration": 18,
    "start_time": "2023-04-18T20:45:50.362Z"
   },
   {
    "duration": 23,
    "start_time": "2023-04-18T20:45:50.384Z"
   },
   {
    "duration": 8,
    "start_time": "2023-04-18T20:45:50.408Z"
   },
   {
    "duration": 19,
    "start_time": "2023-04-18T20:45:50.417Z"
   },
   {
    "duration": 8,
    "start_time": "2023-04-18T20:45:50.437Z"
   },
   {
    "duration": 9,
    "start_time": "2023-04-18T20:45:50.462Z"
   },
   {
    "duration": 23,
    "start_time": "2023-04-18T20:45:50.472Z"
   },
   {
    "duration": 14,
    "start_time": "2023-04-18T20:45:50.497Z"
   },
   {
    "duration": 4,
    "start_time": "2023-04-18T20:45:50.513Z"
   },
   {
    "duration": 11,
    "start_time": "2023-04-18T20:45:50.519Z"
   },
   {
    "duration": 38,
    "start_time": "2023-04-18T20:45:50.532Z"
   },
   {
    "duration": 14,
    "start_time": "2023-04-18T20:45:50.572Z"
   },
   {
    "duration": 8,
    "start_time": "2023-04-18T20:45:50.588Z"
   },
   {
    "duration": 27,
    "start_time": "2023-04-18T20:45:50.599Z"
   },
   {
    "duration": 7,
    "start_time": "2023-04-18T20:45:50.628Z"
   },
   {
    "duration": 7,
    "start_time": "2023-04-18T20:45:50.636Z"
   },
   {
    "duration": 23,
    "start_time": "2023-04-18T20:45:50.663Z"
   },
   {
    "duration": 8,
    "start_time": "2023-04-18T20:45:50.688Z"
   },
   {
    "duration": 16,
    "start_time": "2023-04-18T20:45:50.698Z"
   },
   {
    "duration": 17,
    "start_time": "2023-04-18T20:45:50.715Z"
   },
   {
    "duration": 11,
    "start_time": "2023-04-18T20:45:50.734Z"
   },
   {
    "duration": 1308,
    "start_time": "2023-04-19T17:04:22.232Z"
   },
   {
    "duration": 4,
    "start_time": "2023-04-19T17:11:58.051Z"
   },
   {
    "duration": 3,
    "start_time": "2023-04-19T17:13:42.975Z"
   },
   {
    "duration": 103,
    "start_time": "2023-04-19T17:14:41.375Z"
   },
   {
    "duration": 1330,
    "start_time": "2023-04-19T17:14:56.357Z"
   },
   {
    "duration": 1255,
    "start_time": "2023-04-19T17:14:57.689Z"
   },
   {
    "duration": 22,
    "start_time": "2023-04-19T17:14:58.946Z"
   },
   {
    "duration": 20,
    "start_time": "2023-04-19T17:14:58.970Z"
   },
   {
    "duration": 117,
    "start_time": "2023-04-19T17:14:58.992Z"
   },
   {
    "duration": 68,
    "start_time": "2023-04-19T17:14:59.111Z"
   },
   {
    "duration": 79,
    "start_time": "2023-04-19T17:14:59.181Z"
   },
   {
    "duration": 86,
    "start_time": "2023-04-19T17:14:59.264Z"
   },
   {
    "duration": 53,
    "start_time": "2023-04-19T17:14:59.354Z"
   },
   {
    "duration": 80,
    "start_time": "2023-04-19T17:14:59.411Z"
   },
   {
    "duration": 19,
    "start_time": "2023-04-19T17:14:59.493Z"
   },
   {
    "duration": 12,
    "start_time": "2023-04-19T17:14:59.514Z"
   },
   {
    "duration": 54,
    "start_time": "2023-04-19T17:14:59.528Z"
   },
   {
    "duration": 15,
    "start_time": "2023-04-19T17:14:59.584Z"
   },
   {
    "duration": 19,
    "start_time": "2023-04-19T17:14:59.601Z"
   },
   {
    "duration": 10,
    "start_time": "2023-04-19T17:14:59.622Z"
   },
   {
    "duration": 91,
    "start_time": "2023-04-19T17:14:59.634Z"
   },
   {
    "duration": 70,
    "start_time": "2023-04-19T17:14:59.727Z"
   },
   {
    "duration": 76,
    "start_time": "2023-04-19T17:14:59.799Z"
   },
   {
    "duration": 42,
    "start_time": "2023-04-19T17:14:59.877Z"
   },
   {
    "duration": 50,
    "start_time": "2023-04-19T17:14:59.922Z"
   },
   {
    "duration": 92,
    "start_time": "2023-04-19T17:14:59.974Z"
   },
   {
    "duration": 52,
    "start_time": "2023-04-19T17:15:00.068Z"
   },
   {
    "duration": 91,
    "start_time": "2023-04-19T17:15:00.122Z"
   },
   {
    "duration": 84,
    "start_time": "2023-04-19T17:15:00.215Z"
   },
   {
    "duration": 90,
    "start_time": "2023-04-19T17:15:00.301Z"
   },
   {
    "duration": 16304,
    "start_time": "2023-04-19T17:15:00.393Z"
   },
   {
    "duration": 5,
    "start_time": "2023-04-19T17:15:16.699Z"
   },
   {
    "duration": 4,
    "start_time": "2023-04-19T17:18:44.071Z"
   },
   {
    "duration": 20984,
    "start_time": "2023-04-19T17:18:47.895Z"
   },
   {
    "duration": 10,
    "start_time": "2023-04-19T17:19:16.385Z"
   },
   {
    "duration": 1474,
    "start_time": "2023-04-19T17:19:35.479Z"
   },
   {
    "duration": 1069,
    "start_time": "2023-04-19T17:19:36.956Z"
   },
   {
    "duration": 24,
    "start_time": "2023-04-19T17:19:38.027Z"
   },
   {
    "duration": 21,
    "start_time": "2023-04-19T17:19:38.074Z"
   },
   {
    "duration": 18,
    "start_time": "2023-04-19T17:19:38.097Z"
   },
   {
    "duration": 13,
    "start_time": "2023-04-19T17:19:38.117Z"
   },
   {
    "duration": 58,
    "start_time": "2023-04-19T17:19:38.132Z"
   },
   {
    "duration": 14,
    "start_time": "2023-04-19T17:19:38.192Z"
   },
   {
    "duration": 9,
    "start_time": "2023-04-19T17:19:38.208Z"
   },
   {
    "duration": 26,
    "start_time": "2023-04-19T17:19:38.220Z"
   },
   {
    "duration": 27,
    "start_time": "2023-04-19T17:19:38.251Z"
   },
   {
    "duration": 5,
    "start_time": "2023-04-19T17:19:38.279Z"
   },
   {
    "duration": 13,
    "start_time": "2023-04-19T17:19:38.286Z"
   },
   {
    "duration": 16,
    "start_time": "2023-04-19T17:19:38.301Z"
   },
   {
    "duration": 42,
    "start_time": "2023-04-19T17:19:38.319Z"
   },
   {
    "duration": 12,
    "start_time": "2023-04-19T17:19:38.363Z"
   },
   {
    "duration": 29,
    "start_time": "2023-04-19T17:19:38.377Z"
   },
   {
    "duration": 8,
    "start_time": "2023-04-19T17:19:38.408Z"
   },
   {
    "duration": 20,
    "start_time": "2023-04-19T17:19:38.418Z"
   },
   {
    "duration": 26,
    "start_time": "2023-04-19T17:19:38.440Z"
   },
   {
    "duration": 9,
    "start_time": "2023-04-19T17:19:38.468Z"
   },
   {
    "duration": 26,
    "start_time": "2023-04-19T17:19:38.479Z"
   },
   {
    "duration": 60,
    "start_time": "2023-04-19T17:19:38.508Z"
   },
   {
    "duration": 24,
    "start_time": "2023-04-19T17:19:38.574Z"
   },
   {
    "duration": 10,
    "start_time": "2023-04-19T17:19:38.602Z"
   },
   {
    "duration": 18,
    "start_time": "2023-04-19T17:19:38.641Z"
   },
   {
    "duration": 20930,
    "start_time": "2023-04-19T17:19:38.661Z"
   },
   {
    "duration": 1645,
    "start_time": "2023-04-19T17:37:07.368Z"
   },
   {
    "duration": 1439,
    "start_time": "2023-04-19T17:39:42.968Z"
   },
   {
    "duration": 395,
    "start_time": "2023-04-19T18:10:23.989Z"
   },
   {
    "duration": 427,
    "start_time": "2023-04-19T18:25:59.435Z"
   },
   {
    "duration": 440,
    "start_time": "2023-04-19T18:27:49.093Z"
   },
   {
    "duration": 611,
    "start_time": "2023-04-19T18:28:05.161Z"
   },
   {
    "duration": 457,
    "start_time": "2023-04-19T18:28:58.586Z"
   },
   {
    "duration": 408,
    "start_time": "2023-04-19T18:29:14.897Z"
   },
   {
    "duration": 103,
    "start_time": "2023-04-19T18:32:47.373Z"
   },
   {
    "duration": 145,
    "start_time": "2023-04-19T18:32:52.968Z"
   },
   {
    "duration": 188,
    "start_time": "2023-04-19T18:33:14.971Z"
   },
   {
    "duration": 111,
    "start_time": "2023-04-19T18:33:47.307Z"
   },
   {
    "duration": 301,
    "start_time": "2023-04-19T18:34:24.150Z"
   },
   {
    "duration": 147,
    "start_time": "2023-04-19T18:34:29.598Z"
   },
   {
    "duration": 8,
    "start_time": "2023-04-19T18:35:18.590Z"
   },
   {
    "duration": 2155,
    "start_time": "2023-04-19T18:35:32.022Z"
   },
   {
    "duration": 1424,
    "start_time": "2023-04-19T18:35:50.757Z"
   },
   {
    "duration": 94,
    "start_time": "2023-04-19T18:36:15.102Z"
   },
   {
    "duration": 68,
    "start_time": "2023-04-19T18:36:24.858Z"
   },
   {
    "duration": 9,
    "start_time": "2023-04-19T18:36:39.159Z"
   },
   {
    "duration": 90,
    "start_time": "2023-04-19T18:47:53.293Z"
   },
   {
    "duration": 95,
    "start_time": "2023-04-19T18:47:58.596Z"
   },
   {
    "duration": 109,
    "start_time": "2023-04-19T18:48:06.187Z"
   },
   {
    "duration": 5,
    "start_time": "2023-04-19T18:48:26.826Z"
   },
   {
    "duration": 111,
    "start_time": "2023-04-19T18:48:39.416Z"
   },
   {
    "duration": 128,
    "start_time": "2023-04-19T18:48:52.712Z"
   },
   {
    "duration": 160,
    "start_time": "2023-04-19T18:49:12.113Z"
   },
   {
    "duration": 58,
    "start_time": "2023-04-20T03:51:12.149Z"
   },
   {
    "duration": 1499,
    "start_time": "2023-04-20T03:51:35.258Z"
   },
   {
    "duration": 2160,
    "start_time": "2023-04-20T03:51:36.759Z"
   },
   {
    "duration": 12,
    "start_time": "2023-04-20T03:51:38.921Z"
   },
   {
    "duration": 4,
    "start_time": "2023-04-20T03:51:38.935Z"
   },
   {
    "duration": 14,
    "start_time": "2023-04-20T03:51:38.941Z"
   },
   {
    "duration": 6,
    "start_time": "2023-04-20T03:51:38.957Z"
   },
   {
    "duration": 28,
    "start_time": "2023-04-20T03:51:38.986Z"
   },
   {
    "duration": 8,
    "start_time": "2023-04-20T03:51:39.015Z"
   },
   {
    "duration": 5,
    "start_time": "2023-04-20T03:51:39.024Z"
   },
   {
    "duration": 14,
    "start_time": "2023-04-20T03:51:39.031Z"
   },
   {
    "duration": 46,
    "start_time": "2023-04-20T03:51:39.047Z"
   },
   {
    "duration": 6,
    "start_time": "2023-04-20T03:51:39.096Z"
   },
   {
    "duration": 10,
    "start_time": "2023-04-20T03:51:39.104Z"
   },
   {
    "duration": 14,
    "start_time": "2023-04-20T03:51:39.115Z"
   },
   {
    "duration": 14,
    "start_time": "2023-04-20T03:51:39.130Z"
   },
   {
    "duration": 44,
    "start_time": "2023-04-20T03:51:39.146Z"
   },
   {
    "duration": 30,
    "start_time": "2023-04-20T03:51:39.192Z"
   },
   {
    "duration": 7,
    "start_time": "2023-04-20T03:51:39.223Z"
   },
   {
    "duration": 7,
    "start_time": "2023-04-20T03:51:39.232Z"
   },
   {
    "duration": 6,
    "start_time": "2023-04-20T03:51:39.241Z"
   },
   {
    "duration": 42,
    "start_time": "2023-04-20T03:51:39.248Z"
   },
   {
    "duration": 20,
    "start_time": "2023-04-20T03:51:39.292Z"
   },
   {
    "duration": 17,
    "start_time": "2023-04-20T03:51:39.314Z"
   },
   {
    "duration": 11,
    "start_time": "2023-04-20T03:51:39.332Z"
   },
   {
    "duration": 165,
    "start_time": "2023-04-20T03:51:39.345Z"
   },
   {
    "duration": 5,
    "start_time": "2023-04-20T03:51:39.512Z"
   },
   {
    "duration": 147,
    "start_time": "2023-04-20T03:51:39.518Z"
   },
   {
    "duration": 4,
    "start_time": "2023-04-20T03:51:39.667Z"
   },
   {
    "duration": 4,
    "start_time": "2023-04-20T03:51:39.672Z"
   },
   {
    "duration": 18158,
    "start_time": "2023-04-20T03:51:39.686Z"
   },
   {
    "duration": 1895,
    "start_time": "2023-04-20T03:51:57.846Z"
   },
   {
    "duration": 16,
    "start_time": "2023-04-20T03:51:59.742Z"
   },
   {
    "duration": 13,
    "start_time": "2023-04-20T03:53:37.097Z"
   },
   {
    "duration": 14,
    "start_time": "2023-04-20T03:54:49.272Z"
   },
   {
    "duration": 12,
    "start_time": "2023-04-20T03:55:14.851Z"
   },
   {
    "duration": 1187,
    "start_time": "2023-04-20T04:12:24.301Z"
   },
   {
    "duration": 1202,
    "start_time": "2023-04-20T04:12:25.490Z"
   },
   {
    "duration": 14,
    "start_time": "2023-04-20T04:12:26.693Z"
   },
   {
    "duration": 4,
    "start_time": "2023-04-20T04:12:26.709Z"
   },
   {
    "duration": 14,
    "start_time": "2023-04-20T04:12:26.716Z"
   },
   {
    "duration": 8,
    "start_time": "2023-04-20T04:12:26.732Z"
   },
   {
    "duration": 59,
    "start_time": "2023-04-20T04:12:26.742Z"
   },
   {
    "duration": 10,
    "start_time": "2023-04-20T04:12:26.803Z"
   },
   {
    "duration": 6,
    "start_time": "2023-04-20T04:12:26.814Z"
   },
   {
    "duration": 15,
    "start_time": "2023-04-20T04:12:26.823Z"
   },
   {
    "duration": 47,
    "start_time": "2023-04-20T04:12:26.840Z"
   },
   {
    "duration": 4,
    "start_time": "2023-04-20T04:12:26.889Z"
   },
   {
    "duration": 25,
    "start_time": "2023-04-20T04:12:26.895Z"
   },
   {
    "duration": 15,
    "start_time": "2023-04-20T04:12:26.922Z"
   },
   {
    "duration": 12,
    "start_time": "2023-04-20T04:12:26.939Z"
   },
   {
    "duration": 5,
    "start_time": "2023-04-20T04:12:26.953Z"
   },
   {
    "duration": 22,
    "start_time": "2023-04-20T04:12:26.985Z"
   },
   {
    "duration": 7,
    "start_time": "2023-04-20T04:12:27.009Z"
   },
   {
    "duration": 14,
    "start_time": "2023-04-20T04:12:27.018Z"
   },
   {
    "duration": 10,
    "start_time": "2023-04-20T04:12:27.034Z"
   },
   {
    "duration": 6,
    "start_time": "2023-04-20T04:12:27.046Z"
   },
   {
    "duration": 47,
    "start_time": "2023-04-20T04:12:27.054Z"
   },
   {
    "duration": 20,
    "start_time": "2023-04-20T04:12:27.103Z"
   },
   {
    "duration": 13,
    "start_time": "2023-04-20T04:12:27.125Z"
   },
   {
    "duration": 167,
    "start_time": "2023-04-20T04:12:27.139Z"
   },
   {
    "duration": 4,
    "start_time": "2023-04-20T04:12:27.308Z"
   },
   {
    "duration": 138,
    "start_time": "2023-04-20T04:12:27.314Z"
   },
   {
    "duration": 5,
    "start_time": "2023-04-20T04:12:27.455Z"
   },
   {
    "duration": 12,
    "start_time": "2023-04-20T04:12:27.462Z"
   },
   {
    "duration": 17771,
    "start_time": "2023-04-20T04:12:27.476Z"
   },
   {
    "duration": 1820,
    "start_time": "2023-04-20T04:12:45.249Z"
   },
   {
    "duration": 17,
    "start_time": "2023-04-20T04:12:47.071Z"
   },
   {
    "duration": 15,
    "start_time": "2023-04-20T04:12:47.090Z"
   },
   {
    "duration": 17,
    "start_time": "2023-04-20T04:29:31.837Z"
   },
   {
    "duration": 21,
    "start_time": "2023-04-20T04:29:57.643Z"
   },
   {
    "duration": 18,
    "start_time": "2023-04-20T04:41:04.702Z"
   },
   {
    "duration": 20,
    "start_time": "2023-04-20T04:42:04.608Z"
   },
   {
    "duration": 20,
    "start_time": "2023-04-20T04:58:20.302Z"
   },
   {
    "duration": 8,
    "start_time": "2023-04-20T04:59:27.537Z"
   },
   {
    "duration": 5,
    "start_time": "2023-04-20T05:00:16.667Z"
   },
   {
    "duration": 13,
    "start_time": "2023-04-20T05:00:58.824Z"
   },
   {
    "duration": 4,
    "start_time": "2023-04-20T05:01:32.667Z"
   },
   {
    "duration": 7,
    "start_time": "2023-04-20T05:01:51.665Z"
   },
   {
    "duration": 12,
    "start_time": "2023-04-20T05:03:07.422Z"
   },
   {
    "duration": 8,
    "start_time": "2023-04-20T05:03:31.879Z"
   },
   {
    "duration": 15,
    "start_time": "2023-04-20T05:04:27.325Z"
   },
   {
    "duration": 65,
    "start_time": "2023-04-20T05:04:52.432Z"
   },
   {
    "duration": 113,
    "start_time": "2023-04-20T05:06:03.168Z"
   },
   {
    "duration": 8,
    "start_time": "2023-04-20T05:06:38.036Z"
   },
   {
    "duration": 55,
    "start_time": "2023-04-20T05:07:34.795Z"
   },
   {
    "duration": 10,
    "start_time": "2023-04-20T05:08:50.391Z"
   },
   {
    "duration": 61,
    "start_time": "2023-04-20T05:09:23.596Z"
   },
   {
    "duration": 8,
    "start_time": "2023-04-20T05:09:31.874Z"
   },
   {
    "duration": 6,
    "start_time": "2023-04-20T05:10:09.517Z"
   },
   {
    "duration": 6,
    "start_time": "2023-04-20T05:10:15.064Z"
   },
   {
    "duration": 7,
    "start_time": "2023-04-20T05:10:46.961Z"
   },
   {
    "duration": 6,
    "start_time": "2023-04-20T05:10:49.148Z"
   },
   {
    "duration": 8,
    "start_time": "2023-04-20T05:11:42.057Z"
   },
   {
    "duration": 6,
    "start_time": "2023-04-20T05:12:09.148Z"
   },
   {
    "duration": 57,
    "start_time": "2023-04-20T05:12:59.045Z"
   },
   {
    "duration": 12,
    "start_time": "2023-04-20T05:14:46.023Z"
   },
   {
    "duration": 4,
    "start_time": "2023-04-20T05:15:49.078Z"
   },
   {
    "duration": 8,
    "start_time": "2023-04-20T05:16:36.213Z"
   },
   {
    "duration": 53,
    "start_time": "2023-04-20T05:17:08.783Z"
   },
   {
    "duration": 99,
    "start_time": "2023-04-20T05:17:31.507Z"
   },
   {
    "duration": 7,
    "start_time": "2023-04-20T05:17:41.899Z"
   },
   {
    "duration": 6,
    "start_time": "2023-04-20T05:17:48.161Z"
   },
   {
    "duration": 4,
    "start_time": "2023-04-20T05:18:23.871Z"
   },
   {
    "duration": 6,
    "start_time": "2023-04-20T05:18:45.350Z"
   },
   {
    "duration": 7,
    "start_time": "2023-04-20T05:19:14.352Z"
   },
   {
    "duration": 8,
    "start_time": "2023-04-20T05:20:09.825Z"
   },
   {
    "duration": 7,
    "start_time": "2023-04-20T05:20:48.547Z"
   },
   {
    "duration": 8,
    "start_time": "2023-04-20T05:34:27.771Z"
   },
   {
    "duration": 8,
    "start_time": "2023-04-20T05:35:34.854Z"
   },
   {
    "duration": 6,
    "start_time": "2023-04-20T05:37:46.773Z"
   },
   {
    "duration": 6,
    "start_time": "2023-04-20T05:37:50.279Z"
   },
   {
    "duration": 7,
    "start_time": "2023-04-20T05:38:40.360Z"
   },
   {
    "duration": 8,
    "start_time": "2023-04-20T05:39:10.775Z"
   },
   {
    "duration": 11,
    "start_time": "2023-04-20T05:39:34.716Z"
   },
   {
    "duration": 8,
    "start_time": "2023-04-20T05:40:42.021Z"
   },
   {
    "duration": 8,
    "start_time": "2023-04-20T05:40:51.038Z"
   },
   {
    "duration": 9,
    "start_time": "2023-04-20T05:41:28.888Z"
   },
   {
    "duration": 7,
    "start_time": "2023-04-20T05:41:44.517Z"
   },
   {
    "duration": 10,
    "start_time": "2023-04-20T05:42:11.040Z"
   },
   {
    "duration": 10,
    "start_time": "2023-04-20T05:42:27.890Z"
   },
   {
    "duration": 18,
    "start_time": "2023-04-20T05:58:45.226Z"
   },
   {
    "duration": 26,
    "start_time": "2023-04-20T05:58:58.979Z"
   },
   {
    "duration": 78,
    "start_time": "2023-04-20T06:00:14.661Z"
   },
   {
    "duration": 230,
    "start_time": "2023-04-20T06:00:30.925Z"
   },
   {
    "duration": 61,
    "start_time": "2023-04-20T06:00:54.275Z"
   },
   {
    "duration": 466,
    "start_time": "2023-04-20T06:01:06.502Z"
   },
   {
    "duration": 93,
    "start_time": "2023-04-20T06:01:38.439Z"
   },
   {
    "duration": 86,
    "start_time": "2023-04-20T06:02:13.216Z"
   },
   {
    "duration": 59,
    "start_time": "2023-04-20T06:02:38.625Z"
   },
   {
    "duration": 69,
    "start_time": "2023-04-20T06:02:51.548Z"
   },
   {
    "duration": 77,
    "start_time": "2023-04-20T06:02:58.546Z"
   },
   {
    "duration": 83,
    "start_time": "2023-04-20T06:03:54.779Z"
   },
   {
    "duration": 75,
    "start_time": "2023-04-20T06:03:59.557Z"
   },
   {
    "duration": 27,
    "start_time": "2023-04-20T06:04:25.978Z"
   },
   {
    "duration": 175,
    "start_time": "2023-04-20T06:05:01.563Z"
   },
   {
    "duration": 14,
    "start_time": "2023-04-20T06:05:21.944Z"
   },
   {
    "duration": 60,
    "start_time": "2023-04-20T06:05:30.222Z"
   },
   {
    "duration": 69,
    "start_time": "2023-04-20T06:06:19.366Z"
   },
   {
    "duration": 113,
    "start_time": "2023-04-20T06:06:32.152Z"
   },
   {
    "duration": 358,
    "start_time": "2023-04-20T06:13:33.305Z"
   },
   {
    "duration": 47,
    "start_time": "2023-04-20T06:14:13.949Z"
   },
   {
    "duration": 83,
    "start_time": "2023-04-20T06:14:35.017Z"
   },
   {
    "duration": 108,
    "start_time": "2023-04-20T06:14:52.785Z"
   },
   {
    "duration": 337,
    "start_time": "2023-04-20T06:15:09.419Z"
   },
   {
    "duration": 24,
    "start_time": "2023-04-20T06:25:13.200Z"
   },
   {
    "duration": 34,
    "start_time": "2023-04-20T06:25:22.382Z"
   },
   {
    "duration": 85,
    "start_time": "2023-04-20T06:27:03.360Z"
   },
   {
    "duration": 158,
    "start_time": "2023-04-20T06:27:32.516Z"
   },
   {
    "duration": 12,
    "start_time": "2023-04-20T06:28:03.811Z"
   },
   {
    "duration": 128,
    "start_time": "2023-04-20T06:29:21.951Z"
   },
   {
    "duration": 127,
    "start_time": "2023-04-20T06:29:39.651Z"
   },
   {
    "duration": 309,
    "start_time": "2023-04-20T06:33:08.025Z"
   },
   {
    "duration": 276,
    "start_time": "2023-04-20T06:33:23.613Z"
   },
   {
    "duration": 343,
    "start_time": "2023-04-20T06:33:59.013Z"
   },
   {
    "duration": 1383,
    "start_time": "2023-04-20T06:34:25.426Z"
   },
   {
    "duration": 1437,
    "start_time": "2023-04-20T06:34:26.815Z"
   },
   {
    "duration": 13,
    "start_time": "2023-04-20T06:34:28.254Z"
   },
   {
    "duration": 4,
    "start_time": "2023-04-20T06:34:28.269Z"
   },
   {
    "duration": 21,
    "start_time": "2023-04-20T06:34:28.275Z"
   },
   {
    "duration": 16,
    "start_time": "2023-04-20T06:34:28.298Z"
   },
   {
    "duration": 39,
    "start_time": "2023-04-20T06:34:28.316Z"
   },
   {
    "duration": 11,
    "start_time": "2023-04-20T06:34:28.357Z"
   },
   {
    "duration": 5,
    "start_time": "2023-04-20T06:34:28.370Z"
   },
   {
    "duration": 23,
    "start_time": "2023-04-20T06:34:28.386Z"
   },
   {
    "duration": 25,
    "start_time": "2023-04-20T06:34:28.411Z"
   },
   {
    "duration": 7,
    "start_time": "2023-04-20T06:34:28.439Z"
   },
   {
    "duration": 24,
    "start_time": "2023-04-20T06:34:28.448Z"
   },
   {
    "duration": 32,
    "start_time": "2023-04-20T06:34:28.473Z"
   },
   {
    "duration": 22,
    "start_time": "2023-04-20T06:34:28.507Z"
   },
   {
    "duration": 6,
    "start_time": "2023-04-20T06:34:28.531Z"
   },
   {
    "duration": 31,
    "start_time": "2023-04-20T06:34:28.539Z"
   },
   {
    "duration": 25,
    "start_time": "2023-04-20T06:34:28.571Z"
   },
   {
    "duration": 18,
    "start_time": "2023-04-20T06:34:28.598Z"
   },
   {
    "duration": 11,
    "start_time": "2023-04-20T06:34:28.618Z"
   },
   {
    "duration": 8,
    "start_time": "2023-04-20T06:34:28.631Z"
   },
   {
    "duration": 21,
    "start_time": "2023-04-20T06:34:28.640Z"
   },
   {
    "duration": 19,
    "start_time": "2023-04-20T06:34:28.663Z"
   },
   {
    "duration": 16,
    "start_time": "2023-04-20T06:34:28.684Z"
   },
   {
    "duration": 171,
    "start_time": "2023-04-20T06:34:28.702Z"
   },
   {
    "duration": 16,
    "start_time": "2023-04-20T06:34:28.875Z"
   },
   {
    "duration": 160,
    "start_time": "2023-04-20T06:34:28.892Z"
   },
   {
    "duration": 3,
    "start_time": "2023-04-20T06:34:29.055Z"
   },
   {
    "duration": 9,
    "start_time": "2023-04-20T06:34:29.060Z"
   },
   {
    "duration": 20486,
    "start_time": "2023-04-20T06:34:29.070Z"
   },
   {
    "duration": 2123,
    "start_time": "2023-04-20T06:34:49.558Z"
   },
   {
    "duration": 26,
    "start_time": "2023-04-20T06:34:51.682Z"
   },
   {
    "duration": 17,
    "start_time": "2023-04-20T06:34:51.712Z"
   },
   {
    "duration": 26,
    "start_time": "2023-04-20T06:34:51.732Z"
   },
   {
    "duration": 16,
    "start_time": "2023-04-20T06:34:51.760Z"
   },
   {
    "duration": 35,
    "start_time": "2023-04-20T06:34:51.777Z"
   },
   {
    "duration": 17,
    "start_time": "2023-04-20T06:34:51.814Z"
   },
   {
    "duration": 16,
    "start_time": "2023-04-20T06:34:51.834Z"
   },
   {
    "duration": 9,
    "start_time": "2023-04-20T06:34:51.852Z"
   },
   {
    "duration": 20,
    "start_time": "2023-04-20T06:34:51.862Z"
   },
   {
    "duration": 28,
    "start_time": "2023-04-20T06:34:51.883Z"
   },
   {
    "duration": 12,
    "start_time": "2023-04-20T06:34:51.913Z"
   },
   {
    "duration": 20,
    "start_time": "2023-04-20T06:34:51.927Z"
   },
   {
    "duration": 16,
    "start_time": "2023-04-20T06:34:51.949Z"
   },
   {
    "duration": 38,
    "start_time": "2023-04-20T06:34:51.966Z"
   },
   {
    "duration": 30,
    "start_time": "2023-04-20T06:34:52.006Z"
   },
   {
    "duration": 29,
    "start_time": "2023-04-20T06:34:52.038Z"
   },
   {
    "duration": 40,
    "start_time": "2023-04-20T06:34:52.069Z"
   },
   {
    "duration": 18,
    "start_time": "2023-04-20T06:34:52.117Z"
   },
   {
    "duration": 46,
    "start_time": "2023-04-20T06:34:52.211Z"
   },
   {
    "duration": 0,
    "start_time": "2023-04-20T06:34:52.717Z"
   },
   {
    "duration": 0,
    "start_time": "2023-04-20T06:34:52.721Z"
   },
   {
    "duration": 0,
    "start_time": "2023-04-20T06:34:52.722Z"
   },
   {
    "duration": 0,
    "start_time": "2023-04-20T06:34:52.724Z"
   },
   {
    "duration": 0,
    "start_time": "2023-04-20T06:34:52.725Z"
   },
   {
    "duration": 7,
    "start_time": "2023-04-20T06:34:59.172Z"
   },
   {
    "duration": 7,
    "start_time": "2023-04-20T06:35:00.832Z"
   },
   {
    "duration": 9,
    "start_time": "2023-04-20T06:35:01.734Z"
   },
   {
    "duration": 34,
    "start_time": "2023-04-20T06:35:04.916Z"
   },
   {
    "duration": 301,
    "start_time": "2023-04-20T06:35:06.754Z"
   },
   {
    "duration": 164,
    "start_time": "2023-04-20T06:37:07.916Z"
   },
   {
    "duration": 285,
    "start_time": "2023-04-20T06:37:21.634Z"
   },
   {
    "duration": 165,
    "start_time": "2023-04-20T06:38:00.776Z"
   },
   {
    "duration": 18,
    "start_time": "2023-04-20T06:38:23.341Z"
   },
   {
    "duration": 20,
    "start_time": "2023-04-20T06:39:01.129Z"
   },
   {
    "duration": 22,
    "start_time": "2023-04-20T06:39:04.177Z"
   },
   {
    "duration": 202,
    "start_time": "2023-04-20T06:39:10.573Z"
   },
   {
    "duration": 186,
    "start_time": "2023-04-20T06:39:16.229Z"
   },
   {
    "duration": 35,
    "start_time": "2023-04-20T06:40:06.262Z"
   },
   {
    "duration": 169,
    "start_time": "2023-04-20T06:40:11.440Z"
   },
   {
    "duration": 533,
    "start_time": "2023-04-20T06:42:20.348Z"
   },
   {
    "duration": 302,
    "start_time": "2023-04-20T06:42:46.364Z"
   },
   {
    "duration": 281,
    "start_time": "2023-04-20T06:43:00.261Z"
   },
   {
    "duration": 31,
    "start_time": "2023-04-20T06:44:37.982Z"
   },
   {
    "duration": 19,
    "start_time": "2023-04-20T06:44:55.313Z"
   },
   {
    "duration": 15,
    "start_time": "2023-04-20T06:45:29.765Z"
   },
   {
    "duration": 210,
    "start_time": "2023-04-20T06:46:18.253Z"
   },
   {
    "duration": 17,
    "start_time": "2023-04-20T06:46:43.216Z"
   },
   {
    "duration": 172,
    "start_time": "2023-04-20T06:46:46.960Z"
   },
   {
    "duration": 152,
    "start_time": "2023-04-20T06:53:13.122Z"
   },
   {
    "duration": 104,
    "start_time": "2023-04-20T06:53:44.031Z"
   },
   {
    "duration": 36,
    "start_time": "2023-04-20T06:55:44.886Z"
   },
   {
    "duration": 27,
    "start_time": "2023-04-20T06:56:01.138Z"
   },
   {
    "duration": 30,
    "start_time": "2023-04-20T06:57:51.512Z"
   },
   {
    "duration": 63,
    "start_time": "2023-04-20T07:00:12.661Z"
   },
   {
    "duration": 45,
    "start_time": "2023-04-20T07:01:41.002Z"
   },
   {
    "duration": 40,
    "start_time": "2023-04-20T07:01:54.719Z"
   },
   {
    "duration": 3,
    "start_time": "2023-04-20T07:03:06.842Z"
   },
   {
    "duration": 7,
    "start_time": "2023-04-20T07:03:29.920Z"
   },
   {
    "duration": 10,
    "start_time": "2023-04-20T07:03:44.417Z"
   },
   {
    "duration": 11,
    "start_time": "2023-04-20T07:03:49.971Z"
   },
   {
    "duration": 73,
    "start_time": "2023-04-20T07:05:38.671Z"
   },
   {
    "duration": 135,
    "start_time": "2023-04-20T07:08:34.586Z"
   },
   {
    "duration": 92,
    "start_time": "2023-04-20T07:09:05.579Z"
   },
   {
    "duration": 86,
    "start_time": "2023-04-20T07:13:19.418Z"
   },
   {
    "duration": 171,
    "start_time": "2023-04-20T07:14:25.348Z"
   },
   {
    "duration": 127,
    "start_time": "2023-04-20T07:15:26.004Z"
   },
   {
    "duration": 183,
    "start_time": "2023-04-20T07:15:35.468Z"
   },
   {
    "duration": 138,
    "start_time": "2023-04-20T07:15:41.846Z"
   },
   {
    "duration": 159,
    "start_time": "2023-04-20T07:16:27.182Z"
   },
   {
    "duration": 155,
    "start_time": "2023-04-20T07:17:12.815Z"
   },
   {
    "duration": 284,
    "start_time": "2023-04-20T07:18:04.022Z"
   },
   {
    "duration": 140,
    "start_time": "2023-04-20T07:19:37.618Z"
   },
   {
    "duration": 170,
    "start_time": "2023-04-20T07:41:15.566Z"
   },
   {
    "duration": 147,
    "start_time": "2023-04-20T07:44:06.247Z"
   },
   {
    "duration": 145,
    "start_time": "2023-04-20T07:45:01.704Z"
   },
   {
    "duration": 74,
    "start_time": "2023-04-20T07:45:31.734Z"
   },
   {
    "duration": 174,
    "start_time": "2023-04-20T07:45:39.735Z"
   },
   {
    "duration": 9,
    "start_time": "2023-04-20T08:28:40.769Z"
   },
   {
    "duration": 7,
    "start_time": "2023-04-20T08:29:03.734Z"
   },
   {
    "duration": 2031,
    "start_time": "2023-04-20T10:14:24.045Z"
   },
   {
    "duration": 2226,
    "start_time": "2023-04-20T10:14:42.635Z"
   },
   {
    "duration": 1394,
    "start_time": "2023-04-20T10:28:19.244Z"
   },
   {
    "duration": 1466,
    "start_time": "2023-04-20T10:28:20.640Z"
   },
   {
    "duration": 29,
    "start_time": "2023-04-20T10:28:22.112Z"
   },
   {
    "duration": 5,
    "start_time": "2023-04-20T10:28:22.144Z"
   },
   {
    "duration": 22,
    "start_time": "2023-04-20T10:28:22.151Z"
   },
   {
    "duration": 15,
    "start_time": "2023-04-20T10:28:22.176Z"
   },
   {
    "duration": 45,
    "start_time": "2023-04-20T10:28:22.193Z"
   },
   {
    "duration": 13,
    "start_time": "2023-04-20T10:28:22.240Z"
   },
   {
    "duration": 5,
    "start_time": "2023-04-20T10:28:22.255Z"
   },
   {
    "duration": 30,
    "start_time": "2023-04-20T10:28:22.263Z"
   },
   {
    "duration": 22,
    "start_time": "2023-04-20T10:28:22.295Z"
   },
   {
    "duration": 7,
    "start_time": "2023-04-20T10:28:22.319Z"
   },
   {
    "duration": 15,
    "start_time": "2023-04-20T10:28:22.328Z"
   },
   {
    "duration": 13,
    "start_time": "2023-04-20T10:28:22.346Z"
   },
   {
    "duration": 36,
    "start_time": "2023-04-20T10:28:22.361Z"
   },
   {
    "duration": 14,
    "start_time": "2023-04-20T10:28:22.403Z"
   },
   {
    "duration": 37,
    "start_time": "2023-04-20T10:28:22.421Z"
   },
   {
    "duration": 8,
    "start_time": "2023-04-20T10:28:22.461Z"
   },
   {
    "duration": 18,
    "start_time": "2023-04-20T10:28:22.471Z"
   },
   {
    "duration": 10,
    "start_time": "2023-04-20T10:28:22.492Z"
   },
   {
    "duration": 18,
    "start_time": "2023-04-20T10:28:22.504Z"
   },
   {
    "duration": 26,
    "start_time": "2023-04-20T10:28:22.525Z"
   },
   {
    "duration": 22,
    "start_time": "2023-04-20T10:28:22.553Z"
   },
   {
    "duration": 35,
    "start_time": "2023-04-20T10:28:22.577Z"
   },
   {
    "duration": 164,
    "start_time": "2023-04-20T10:28:22.614Z"
   },
   {
    "duration": 6,
    "start_time": "2023-04-20T10:28:22.779Z"
   },
   {
    "duration": 169,
    "start_time": "2023-04-20T10:28:22.797Z"
   },
   {
    "duration": 4,
    "start_time": "2023-04-20T10:28:22.971Z"
   },
   {
    "duration": 14,
    "start_time": "2023-04-20T10:28:22.977Z"
   },
   {
    "duration": 20936,
    "start_time": "2023-04-20T10:28:22.993Z"
   },
   {
    "duration": 2290,
    "start_time": "2023-04-20T10:28:43.936Z"
   },
   {
    "duration": 21,
    "start_time": "2023-04-20T10:28:46.227Z"
   },
   {
    "duration": 12,
    "start_time": "2023-04-20T10:28:46.249Z"
   },
   {
    "duration": 39,
    "start_time": "2023-04-20T10:28:46.262Z"
   },
   {
    "duration": 14,
    "start_time": "2023-04-20T10:28:46.303Z"
   },
   {
    "duration": 7,
    "start_time": "2023-04-20T10:28:46.321Z"
   },
   {
    "duration": 11,
    "start_time": "2023-04-20T10:28:46.330Z"
   },
   {
    "duration": 6,
    "start_time": "2023-04-20T10:28:46.342Z"
   },
   {
    "duration": 13,
    "start_time": "2023-04-20T10:28:46.349Z"
   },
   {
    "duration": 6,
    "start_time": "2023-04-20T10:28:46.364Z"
   },
   {
    "duration": 4,
    "start_time": "2023-04-20T10:28:46.372Z"
   },
   {
    "duration": 34,
    "start_time": "2023-04-20T10:28:46.395Z"
   },
   {
    "duration": 10,
    "start_time": "2023-04-20T10:28:46.433Z"
   },
   {
    "duration": 11,
    "start_time": "2023-04-20T10:28:46.449Z"
   },
   {
    "duration": 4,
    "start_time": "2023-04-20T10:28:46.462Z"
   },
   {
    "duration": 10,
    "start_time": "2023-04-20T10:28:46.467Z"
   },
   {
    "duration": 22,
    "start_time": "2023-04-20T10:28:46.479Z"
   },
   {
    "duration": 27,
    "start_time": "2023-04-20T10:28:46.504Z"
   },
   {
    "duration": 10,
    "start_time": "2023-04-20T10:28:46.536Z"
   },
   {
    "duration": 6,
    "start_time": "2023-04-20T10:28:46.548Z"
   },
   {
    "duration": 6,
    "start_time": "2023-04-20T10:28:46.556Z"
   },
   {
    "duration": 12,
    "start_time": "2023-04-20T10:28:46.564Z"
   },
   {
    "duration": 11,
    "start_time": "2023-04-20T10:28:46.577Z"
   },
   {
    "duration": 15,
    "start_time": "2023-04-20T10:28:46.589Z"
   },
   {
    "duration": 14,
    "start_time": "2023-04-20T10:28:46.606Z"
   },
   {
    "duration": 21,
    "start_time": "2023-04-20T10:28:46.622Z"
   },
   {
    "duration": 61,
    "start_time": "2023-04-20T10:28:46.645Z"
   },
   {
    "duration": 266,
    "start_time": "2023-04-20T10:28:46.708Z"
   },
   {
    "duration": 269,
    "start_time": "2023-04-20T10:28:46.976Z"
   },
   {
    "duration": 4,
    "start_time": "2023-04-20T10:29:21.547Z"
   },
   {
    "duration": 20360,
    "start_time": "2023-04-20T10:29:25.647Z"
   },
   {
    "duration": 4,
    "start_time": "2023-04-20T10:29:47.530Z"
   },
   {
    "duration": 20839,
    "start_time": "2023-04-20T10:29:48.557Z"
   },
   {
    "duration": 1363,
    "start_time": "2023-04-20T10:30:22.814Z"
   },
   {
    "duration": 1378,
    "start_time": "2023-04-20T10:30:24.179Z"
   },
   {
    "duration": 12,
    "start_time": "2023-04-20T10:30:25.558Z"
   },
   {
    "duration": 10,
    "start_time": "2023-04-20T10:30:25.572Z"
   },
   {
    "duration": 50,
    "start_time": "2023-04-20T10:30:25.584Z"
   },
   {
    "duration": 11,
    "start_time": "2023-04-20T10:30:25.636Z"
   },
   {
    "duration": 20,
    "start_time": "2023-04-20T10:30:25.648Z"
   },
   {
    "duration": 41,
    "start_time": "2023-04-20T10:30:25.670Z"
   },
   {
    "duration": 29,
    "start_time": "2023-04-20T10:30:25.712Z"
   },
   {
    "duration": 29,
    "start_time": "2023-04-20T10:30:25.743Z"
   },
   {
    "duration": 21,
    "start_time": "2023-04-20T10:30:25.774Z"
   },
   {
    "duration": 5,
    "start_time": "2023-04-20T10:30:25.797Z"
   },
   {
    "duration": 16,
    "start_time": "2023-04-20T10:30:25.804Z"
   },
   {
    "duration": 21,
    "start_time": "2023-04-20T10:30:25.822Z"
   },
   {
    "duration": 9,
    "start_time": "2023-04-20T10:30:25.845Z"
   },
   {
    "duration": 4,
    "start_time": "2023-04-20T10:30:25.856Z"
   },
   {
    "duration": 71,
    "start_time": "2023-04-20T10:30:25.861Z"
   },
   {
    "duration": 9,
    "start_time": "2023-04-20T10:30:25.934Z"
   },
   {
    "duration": 9,
    "start_time": "2023-04-20T10:30:25.945Z"
   },
   {
    "duration": 5,
    "start_time": "2023-04-20T10:30:25.956Z"
   },
   {
    "duration": 7,
    "start_time": "2023-04-20T10:30:25.964Z"
   },
   {
    "duration": 50,
    "start_time": "2023-04-20T10:30:25.973Z"
   },
   {
    "duration": 19,
    "start_time": "2023-04-20T10:30:26.024Z"
   },
   {
    "duration": 11,
    "start_time": "2023-04-20T10:30:26.045Z"
   },
   {
    "duration": 184,
    "start_time": "2023-04-20T10:30:26.057Z"
   },
   {
    "duration": 5,
    "start_time": "2023-04-20T10:30:26.243Z"
   },
   {
    "duration": 153,
    "start_time": "2023-04-20T10:30:26.250Z"
   },
   {
    "duration": 4,
    "start_time": "2023-04-20T10:30:26.408Z"
   },
   {
    "duration": 7,
    "start_time": "2023-04-20T10:30:26.414Z"
   },
   {
    "duration": 20678,
    "start_time": "2023-04-20T10:30:26.423Z"
   },
   {
    "duration": 2368,
    "start_time": "2023-04-20T10:30:47.109Z"
   },
   {
    "duration": 16,
    "start_time": "2023-04-20T10:30:49.479Z"
   },
   {
    "duration": 51,
    "start_time": "2023-04-20T10:30:49.497Z"
   },
   {
    "duration": 44,
    "start_time": "2023-04-20T10:30:49.551Z"
   },
   {
    "duration": 8,
    "start_time": "2023-04-20T10:30:49.597Z"
   },
   {
    "duration": 34,
    "start_time": "2023-04-20T10:30:49.607Z"
   },
   {
    "duration": 18,
    "start_time": "2023-04-20T10:30:49.643Z"
   },
   {
    "duration": 21,
    "start_time": "2023-04-20T10:30:49.663Z"
   },
   {
    "duration": 27,
    "start_time": "2023-04-20T10:30:49.686Z"
   },
   {
    "duration": 15,
    "start_time": "2023-04-20T10:30:49.719Z"
   },
   {
    "duration": 27,
    "start_time": "2023-04-20T10:30:49.737Z"
   },
   {
    "duration": 28,
    "start_time": "2023-04-20T10:30:49.766Z"
   },
   {
    "duration": 26,
    "start_time": "2023-04-20T10:30:49.797Z"
   },
   {
    "duration": 27,
    "start_time": "2023-04-20T10:30:49.826Z"
   },
   {
    "duration": 4,
    "start_time": "2023-04-20T10:30:49.855Z"
   },
   {
    "duration": 16,
    "start_time": "2023-04-20T10:30:49.861Z"
   },
   {
    "duration": 7,
    "start_time": "2023-04-20T10:30:49.878Z"
   },
   {
    "duration": 19,
    "start_time": "2023-04-20T10:30:49.887Z"
   },
   {
    "duration": 10,
    "start_time": "2023-04-20T10:30:49.908Z"
   },
   {
    "duration": 9,
    "start_time": "2023-04-20T10:30:49.920Z"
   },
   {
    "duration": 13,
    "start_time": "2023-04-20T10:30:49.932Z"
   },
   {
    "duration": 28,
    "start_time": "2023-04-20T10:30:49.947Z"
   },
   {
    "duration": 11,
    "start_time": "2023-04-20T10:30:49.977Z"
   },
   {
    "duration": 12,
    "start_time": "2023-04-20T10:30:49.995Z"
   },
   {
    "duration": 32,
    "start_time": "2023-04-20T10:30:50.009Z"
   },
   {
    "duration": 32,
    "start_time": "2023-04-20T10:30:50.043Z"
   },
   {
    "duration": 77,
    "start_time": "2023-04-20T10:30:50.077Z"
   },
   {
    "duration": 207,
    "start_time": "2023-04-20T10:30:50.156Z"
   },
   {
    "duration": 261,
    "start_time": "2023-04-20T10:30:50.364Z"
   },
   {
    "duration": 1418,
    "start_time": "2023-04-20T11:23:07.858Z"
   },
   {
    "duration": 1181,
    "start_time": "2023-04-20T11:23:09.278Z"
   },
   {
    "duration": 17,
    "start_time": "2023-04-20T11:23:10.461Z"
   },
   {
    "duration": 4,
    "start_time": "2023-04-20T11:23:10.481Z"
   },
   {
    "duration": 54,
    "start_time": "2023-04-20T11:23:10.487Z"
   },
   {
    "duration": 10,
    "start_time": "2023-04-20T11:23:10.545Z"
   },
   {
    "duration": 81,
    "start_time": "2023-04-20T11:23:10.557Z"
   },
   {
    "duration": 20,
    "start_time": "2023-04-20T11:23:10.640Z"
   },
   {
    "duration": 9,
    "start_time": "2023-04-20T11:23:10.665Z"
   },
   {
    "duration": 25,
    "start_time": "2023-04-20T11:23:10.678Z"
   },
   {
    "duration": 21,
    "start_time": "2023-04-20T11:23:10.705Z"
   },
   {
    "duration": 5,
    "start_time": "2023-04-20T11:23:10.728Z"
   },
   {
    "duration": 11,
    "start_time": "2023-04-20T11:23:10.735Z"
   },
   {
    "duration": 19,
    "start_time": "2023-04-20T11:23:10.747Z"
   },
   {
    "duration": 16,
    "start_time": "2023-04-20T11:23:10.786Z"
   },
   {
    "duration": 7,
    "start_time": "2023-04-20T11:23:10.804Z"
   },
   {
    "duration": 31,
    "start_time": "2023-04-20T11:23:10.821Z"
   },
   {
    "duration": 8,
    "start_time": "2023-04-20T11:23:10.854Z"
   },
   {
    "duration": 36,
    "start_time": "2023-04-20T11:23:10.863Z"
   },
   {
    "duration": 8,
    "start_time": "2023-04-20T11:23:10.901Z"
   },
   {
    "duration": 10,
    "start_time": "2023-04-20T11:23:10.911Z"
   },
   {
    "duration": 25,
    "start_time": "2023-04-20T11:23:10.923Z"
   },
   {
    "duration": 27,
    "start_time": "2023-04-20T11:23:10.950Z"
   },
   {
    "duration": 22,
    "start_time": "2023-04-20T11:23:10.988Z"
   },
   {
    "duration": 214,
    "start_time": "2023-04-20T11:23:11.012Z"
   },
   {
    "duration": 8,
    "start_time": "2023-04-20T11:23:11.229Z"
   },
   {
    "duration": 195,
    "start_time": "2023-04-20T11:23:11.239Z"
   },
   {
    "duration": 4,
    "start_time": "2023-04-20T11:23:11.440Z"
   },
   {
    "duration": 18,
    "start_time": "2023-04-20T11:23:11.445Z"
   },
   {
    "duration": 21861,
    "start_time": "2023-04-20T11:23:11.466Z"
   },
   {
    "duration": 2336,
    "start_time": "2023-04-20T11:23:33.333Z"
   },
   {
    "duration": 27,
    "start_time": "2023-04-20T11:23:35.672Z"
   },
   {
    "duration": 24,
    "start_time": "2023-04-20T11:23:35.708Z"
   },
   {
    "duration": 105,
    "start_time": "2023-04-20T11:23:35.738Z"
   },
   {
    "duration": 14,
    "start_time": "2023-04-20T11:23:35.848Z"
   },
   {
    "duration": 13,
    "start_time": "2023-04-20T11:23:35.869Z"
   },
   {
    "duration": 60,
    "start_time": "2023-04-20T11:23:35.883Z"
   },
   {
    "duration": 14,
    "start_time": "2023-04-20T11:23:35.948Z"
   },
   {
    "duration": 13,
    "start_time": "2023-04-20T11:23:35.964Z"
   },
   {
    "duration": 26,
    "start_time": "2023-04-20T11:23:35.979Z"
   },
   {
    "duration": 9,
    "start_time": "2023-04-20T11:23:36.006Z"
   },
   {
    "duration": 18,
    "start_time": "2023-04-20T11:23:36.017Z"
   },
   {
    "duration": 34,
    "start_time": "2023-04-20T11:23:36.040Z"
   },
   {
    "duration": 55,
    "start_time": "2023-04-20T11:23:36.076Z"
   },
   {
    "duration": 36,
    "start_time": "2023-04-20T11:23:36.134Z"
   },
   {
    "duration": 44,
    "start_time": "2023-04-20T11:23:36.172Z"
   },
   {
    "duration": 24,
    "start_time": "2023-04-20T11:23:36.218Z"
   },
   {
    "duration": 28,
    "start_time": "2023-04-20T11:23:36.244Z"
   },
   {
    "duration": 39,
    "start_time": "2023-04-20T11:23:36.274Z"
   },
   {
    "duration": 43,
    "start_time": "2023-04-20T11:23:36.327Z"
   },
   {
    "duration": 25,
    "start_time": "2023-04-20T11:23:36.372Z"
   },
   {
    "duration": 10,
    "start_time": "2023-04-20T11:23:36.399Z"
   },
   {
    "duration": 33,
    "start_time": "2023-04-20T11:23:36.413Z"
   },
   {
    "duration": 10,
    "start_time": "2023-04-20T11:23:36.449Z"
   },
   {
    "duration": 29,
    "start_time": "2023-04-20T11:23:36.461Z"
   },
   {
    "duration": 23,
    "start_time": "2023-04-20T11:23:36.493Z"
   },
   {
    "duration": 59,
    "start_time": "2023-04-20T11:23:36.518Z"
   },
   {
    "duration": 188,
    "start_time": "2023-04-20T11:23:36.579Z"
   },
   {
    "duration": 213,
    "start_time": "2023-04-20T11:23:36.770Z"
   },
   {
    "duration": 1306,
    "start_time": "2023-04-21T10:22:33.211Z"
   },
   {
    "duration": 1233,
    "start_time": "2023-04-21T10:22:34.519Z"
   },
   {
    "duration": 13,
    "start_time": "2023-04-21T10:22:35.754Z"
   },
   {
    "duration": 10,
    "start_time": "2023-04-21T10:22:35.770Z"
   },
   {
    "duration": 22,
    "start_time": "2023-04-21T10:22:35.781Z"
   },
   {
    "duration": 16,
    "start_time": "2023-04-21T10:22:35.805Z"
   },
   {
    "duration": 22,
    "start_time": "2023-04-21T10:22:35.845Z"
   },
   {
    "duration": 26,
    "start_time": "2023-04-21T10:22:35.869Z"
   },
   {
    "duration": 16,
    "start_time": "2023-04-21T10:22:35.897Z"
   },
   {
    "duration": 30,
    "start_time": "2023-04-21T10:22:35.916Z"
   },
   {
    "duration": 35,
    "start_time": "2023-04-21T10:22:35.950Z"
   },
   {
    "duration": 12,
    "start_time": "2023-04-21T10:22:35.987Z"
   },
   {
    "duration": 41,
    "start_time": "2023-04-21T10:22:36.002Z"
   },
   {
    "duration": 24,
    "start_time": "2023-04-21T10:22:36.048Z"
   },
   {
    "duration": 14,
    "start_time": "2023-04-21T10:22:36.074Z"
   },
   {
    "duration": 11,
    "start_time": "2023-04-21T10:22:36.089Z"
   },
   {
    "duration": 45,
    "start_time": "2023-04-21T10:22:36.101Z"
   },
   {
    "duration": 8,
    "start_time": "2023-04-21T10:22:36.148Z"
   },
   {
    "duration": 49,
    "start_time": "2023-04-21T10:22:36.157Z"
   },
   {
    "duration": 21,
    "start_time": "2023-04-21T10:22:36.207Z"
   },
   {
    "duration": 31,
    "start_time": "2023-04-21T10:22:36.230Z"
   },
   {
    "duration": 30,
    "start_time": "2023-04-21T10:22:36.263Z"
   },
   {
    "duration": 26,
    "start_time": "2023-04-21T10:22:36.294Z"
   },
   {
    "duration": 21,
    "start_time": "2023-04-21T10:22:36.322Z"
   },
   {
    "duration": 150,
    "start_time": "2023-04-21T10:22:36.348Z"
   },
   {
    "duration": 5,
    "start_time": "2023-04-21T10:22:36.500Z"
   },
   {
    "duration": 197,
    "start_time": "2023-04-21T10:22:36.507Z"
   },
   {
    "duration": 4,
    "start_time": "2023-04-21T10:22:36.709Z"
   },
   {
    "duration": 18,
    "start_time": "2023-04-21T10:22:36.716Z"
   },
   {
    "duration": 19273,
    "start_time": "2023-04-21T10:22:36.736Z"
   },
   {
    "duration": 2140,
    "start_time": "2023-04-21T10:22:56.011Z"
   },
   {
    "duration": 14,
    "start_time": "2023-04-21T10:22:58.153Z"
   },
   {
    "duration": 17,
    "start_time": "2023-04-21T10:22:58.168Z"
   },
   {
    "duration": 22,
    "start_time": "2023-04-21T10:22:58.187Z"
   },
   {
    "duration": 38,
    "start_time": "2023-04-21T10:22:58.210Z"
   },
   {
    "duration": 8,
    "start_time": "2023-04-21T10:22:58.251Z"
   },
   {
    "duration": 14,
    "start_time": "2023-04-21T10:22:58.261Z"
   },
   {
    "duration": 8,
    "start_time": "2023-04-21T10:22:58.277Z"
   },
   {
    "duration": 11,
    "start_time": "2023-04-21T10:22:58.287Z"
   },
   {
    "duration": 12,
    "start_time": "2023-04-21T10:22:58.299Z"
   },
   {
    "duration": 24,
    "start_time": "2023-04-21T10:22:58.313Z"
   },
   {
    "duration": 10,
    "start_time": "2023-04-21T10:22:58.345Z"
   },
   {
    "duration": 16,
    "start_time": "2023-04-21T10:22:58.357Z"
   },
   {
    "duration": 28,
    "start_time": "2023-04-21T10:22:58.375Z"
   },
   {
    "duration": 18,
    "start_time": "2023-04-21T10:22:58.405Z"
   },
   {
    "duration": 13,
    "start_time": "2023-04-21T10:22:58.425Z"
   },
   {
    "duration": 51,
    "start_time": "2023-04-21T10:22:58.440Z"
   },
   {
    "duration": 32,
    "start_time": "2023-04-21T10:22:58.493Z"
   },
   {
    "duration": 29,
    "start_time": "2023-04-21T10:22:58.528Z"
   },
   {
    "duration": 16,
    "start_time": "2023-04-21T10:22:58.559Z"
   },
   {
    "duration": 21,
    "start_time": "2023-04-21T10:22:58.577Z"
   },
   {
    "duration": 22,
    "start_time": "2023-04-21T10:22:58.600Z"
   },
   {
    "duration": 9,
    "start_time": "2023-04-21T10:22:58.624Z"
   },
   {
    "duration": 17,
    "start_time": "2023-04-21T10:22:58.646Z"
   },
   {
    "duration": 10,
    "start_time": "2023-04-21T10:22:58.665Z"
   },
   {
    "duration": 32,
    "start_time": "2023-04-21T10:22:58.677Z"
   },
   {
    "duration": 49,
    "start_time": "2023-04-21T10:22:58.712Z"
   },
   {
    "duration": 192,
    "start_time": "2023-04-21T10:22:58.763Z"
   },
   {
    "duration": 193,
    "start_time": "2023-04-21T10:22:58.957Z"
   },
   {
    "duration": 1372,
    "start_time": "2023-04-21T12:08:59.114Z"
   },
   {
    "duration": 30,
    "start_time": "2023-04-21T12:20:44.203Z"
   },
   {
    "duration": 33,
    "start_time": "2023-04-21T12:21:59.773Z"
   },
   {
    "duration": 108,
    "start_time": "2023-04-21T12:23:42.194Z"
   },
   {
    "duration": 121,
    "start_time": "2023-04-21T12:23:52.229Z"
   },
   {
    "duration": 25,
    "start_time": "2023-04-21T12:23:56.411Z"
   },
   {
    "duration": 13,
    "start_time": "2023-04-21T12:24:13.091Z"
   },
   {
    "duration": 86,
    "start_time": "2023-04-21T12:24:20.784Z"
   },
   {
    "duration": 12,
    "start_time": "2023-04-21T12:24:31.866Z"
   },
   {
    "duration": 33,
    "start_time": "2023-04-21T12:24:50.030Z"
   },
   {
    "duration": 15,
    "start_time": "2023-04-21T12:25:12.310Z"
   },
   {
    "duration": 140,
    "start_time": "2023-04-21T12:25:30.594Z"
   },
   {
    "duration": 11,
    "start_time": "2023-04-21T12:25:39.487Z"
   },
   {
    "duration": 23,
    "start_time": "2023-04-21T12:26:58.627Z"
   },
   {
    "duration": 153,
    "start_time": "2023-04-21T12:27:11.100Z"
   },
   {
    "duration": 101,
    "start_time": "2023-04-21T12:27:18.535Z"
   },
   {
    "duration": 31,
    "start_time": "2023-04-21T12:27:37.408Z"
   },
   {
    "duration": 20,
    "start_time": "2023-04-21T12:28:19.770Z"
   },
   {
    "duration": 23,
    "start_time": "2023-04-21T12:28:41.897Z"
   },
   {
    "duration": 25,
    "start_time": "2023-04-21T12:29:01.636Z"
   },
   {
    "duration": 12,
    "start_time": "2023-04-21T12:29:20.898Z"
   },
   {
    "duration": 12,
    "start_time": "2023-04-21T12:29:31.315Z"
   },
   {
    "duration": 24,
    "start_time": "2023-04-21T12:29:51.468Z"
   },
   {
    "duration": 14,
    "start_time": "2023-04-21T12:30:10.229Z"
   },
   {
    "duration": 26,
    "start_time": "2023-04-21T12:30:19.084Z"
   },
   {
    "duration": 13,
    "start_time": "2023-04-21T12:34:19.362Z"
   },
   {
    "duration": 11,
    "start_time": "2023-04-21T12:34:53.331Z"
   },
   {
    "duration": 13,
    "start_time": "2023-04-21T12:39:21.775Z"
   },
   {
    "duration": 9,
    "start_time": "2023-04-21T12:43:05.206Z"
   },
   {
    "duration": 11,
    "start_time": "2023-04-21T12:43:28.271Z"
   },
   {
    "duration": 13,
    "start_time": "2023-04-21T12:43:35.449Z"
   },
   {
    "duration": 16,
    "start_time": "2023-04-21T12:43:49.971Z"
   },
   {
    "duration": 11,
    "start_time": "2023-04-21T12:44:08.080Z"
   },
   {
    "duration": 26,
    "start_time": "2023-04-21T12:44:26.936Z"
   },
   {
    "duration": 81,
    "start_time": "2023-04-21T12:44:56.855Z"
   },
   {
    "duration": 13,
    "start_time": "2023-04-21T12:45:06.761Z"
   },
   {
    "duration": 91,
    "start_time": "2023-04-21T12:45:28.290Z"
   },
   {
    "duration": 13,
    "start_time": "2023-04-21T12:45:38.228Z"
   },
   {
    "duration": 12,
    "start_time": "2023-04-21T12:45:46.251Z"
   },
   {
    "duration": 28,
    "start_time": "2023-04-21T12:45:59.415Z"
   },
   {
    "duration": 36,
    "start_time": "2023-04-21T12:46:10.828Z"
   },
   {
    "duration": 13,
    "start_time": "2023-04-21T12:46:49.552Z"
   },
   {
    "duration": 12,
    "start_time": "2023-04-21T12:47:10.328Z"
   },
   {
    "duration": 18,
    "start_time": "2023-04-21T12:47:21.913Z"
   },
   {
    "duration": 23,
    "start_time": "2023-04-21T12:47:30.111Z"
   },
   {
    "duration": 15,
    "start_time": "2023-04-21T12:59:57.630Z"
   },
   {
    "duration": 32,
    "start_time": "2023-04-21T13:00:15.647Z"
   },
   {
    "duration": 9,
    "start_time": "2023-04-21T13:03:35.090Z"
   },
   {
    "duration": 9,
    "start_time": "2023-04-21T13:03:59.853Z"
   },
   {
    "duration": 1328,
    "start_time": "2023-04-21T13:04:11.147Z"
   },
   {
    "duration": 1413,
    "start_time": "2023-04-21T13:04:12.478Z"
   },
   {
    "duration": 14,
    "start_time": "2023-04-21T13:04:13.893Z"
   },
   {
    "duration": 29,
    "start_time": "2023-04-21T13:04:13.909Z"
   },
   {
    "duration": 20,
    "start_time": "2023-04-21T13:04:13.940Z"
   },
   {
    "duration": 15,
    "start_time": "2023-04-21T13:04:13.962Z"
   },
   {
    "duration": 50,
    "start_time": "2023-04-21T13:04:13.979Z"
   },
   {
    "duration": 14,
    "start_time": "2023-04-21T13:04:14.031Z"
   },
   {
    "duration": 10,
    "start_time": "2023-04-21T13:04:14.048Z"
   },
   {
    "duration": 20,
    "start_time": "2023-04-21T13:04:14.061Z"
   },
   {
    "duration": 18,
    "start_time": "2023-04-21T13:04:14.082Z"
   },
   {
    "duration": 4,
    "start_time": "2023-04-21T13:04:14.101Z"
   },
   {
    "duration": 23,
    "start_time": "2023-04-21T13:04:14.107Z"
   },
   {
    "duration": 32,
    "start_time": "2023-04-21T13:04:14.131Z"
   },
   {
    "duration": 11,
    "start_time": "2023-04-21T13:04:14.165Z"
   },
   {
    "duration": 6,
    "start_time": "2023-04-21T13:04:14.178Z"
   },
   {
    "duration": 56,
    "start_time": "2023-04-21T13:04:14.186Z"
   },
   {
    "duration": 7,
    "start_time": "2023-04-21T13:04:14.244Z"
   },
   {
    "duration": 11,
    "start_time": "2023-04-21T13:04:14.253Z"
   },
   {
    "duration": 10,
    "start_time": "2023-04-21T13:04:14.265Z"
   },
   {
    "duration": 16,
    "start_time": "2023-04-21T13:04:14.277Z"
   },
   {
    "duration": 37,
    "start_time": "2023-04-21T13:04:14.295Z"
   },
   {
    "duration": 30,
    "start_time": "2023-04-21T13:04:14.334Z"
   },
   {
    "duration": 14,
    "start_time": "2023-04-21T13:04:14.365Z"
   },
   {
    "duration": 168,
    "start_time": "2023-04-21T13:04:14.381Z"
   },
   {
    "duration": 5,
    "start_time": "2023-04-21T13:04:14.551Z"
   },
   {
    "duration": 151,
    "start_time": "2023-04-21T13:04:14.558Z"
   },
   {
    "duration": 7,
    "start_time": "2023-04-21T13:04:14.717Z"
   },
   {
    "duration": 17,
    "start_time": "2023-04-21T13:04:14.730Z"
   },
   {
    "duration": 18782,
    "start_time": "2023-04-21T13:04:14.749Z"
   },
   {
    "duration": 1927,
    "start_time": "2023-04-21T13:04:33.536Z"
   },
   {
    "duration": 13,
    "start_time": "2023-04-21T13:04:35.465Z"
   },
   {
    "duration": 72,
    "start_time": "2023-04-21T13:04:35.479Z"
   },
   {
    "duration": 24,
    "start_time": "2023-04-21T13:04:35.553Z"
   },
   {
    "duration": 8,
    "start_time": "2023-04-21T13:04:35.579Z"
   },
   {
    "duration": 10,
    "start_time": "2023-04-21T13:04:35.589Z"
   },
   {
    "duration": 22,
    "start_time": "2023-04-21T13:04:35.601Z"
   },
   {
    "duration": 22,
    "start_time": "2023-04-21T13:04:35.634Z"
   },
   {
    "duration": 24,
    "start_time": "2023-04-21T13:04:35.658Z"
   },
   {
    "duration": 21,
    "start_time": "2023-04-21T13:04:35.684Z"
   },
   {
    "duration": 4,
    "start_time": "2023-04-21T13:04:35.707Z"
   },
   {
    "duration": 42,
    "start_time": "2023-04-21T13:04:35.713Z"
   },
   {
    "duration": 28,
    "start_time": "2023-04-21T13:04:35.757Z"
   },
   {
    "duration": 24,
    "start_time": "2023-04-21T13:04:35.786Z"
   },
   {
    "duration": 35,
    "start_time": "2023-04-21T13:04:35.812Z"
   },
   {
    "duration": 19,
    "start_time": "2023-04-21T13:04:35.849Z"
   },
   {
    "duration": 19,
    "start_time": "2023-04-21T13:04:35.870Z"
   },
   {
    "duration": 17,
    "start_time": "2023-04-21T13:04:35.891Z"
   },
   {
    "duration": 6,
    "start_time": "2023-04-21T13:04:35.910Z"
   },
   {
    "duration": 45,
    "start_time": "2023-04-21T13:04:35.918Z"
   },
   {
    "duration": 15,
    "start_time": "2023-04-21T13:04:35.965Z"
   },
   {
    "duration": 46,
    "start_time": "2023-04-21T13:04:35.982Z"
   },
   {
    "duration": 36,
    "start_time": "2023-04-21T13:04:36.030Z"
   },
   {
    "duration": 14,
    "start_time": "2023-04-21T13:04:36.068Z"
   },
   {
    "duration": 11,
    "start_time": "2023-04-21T13:04:36.084Z"
   },
   {
    "duration": 19,
    "start_time": "2023-04-21T13:04:36.097Z"
   },
   {
    "duration": 71,
    "start_time": "2023-04-21T13:04:36.120Z"
   },
   {
    "duration": 47,
    "start_time": "2023-04-21T13:04:36.197Z"
   },
   {
    "duration": 191,
    "start_time": "2023-04-21T13:04:36.247Z"
   },
   {
    "duration": 223,
    "start_time": "2023-04-21T13:04:36.442Z"
   },
   {
    "duration": 15,
    "start_time": "2023-04-21T13:04:36.717Z"
   },
   {
    "duration": 125,
    "start_time": "2023-04-21T13:05:46.832Z"
   },
   {
    "duration": 25,
    "start_time": "2023-04-21T13:06:45.786Z"
   },
   {
    "duration": 4,
    "start_time": "2023-04-21T13:07:19.188Z"
   },
   {
    "duration": 72,
    "start_time": "2023-04-21T13:07:40.718Z"
   },
   {
    "duration": 24,
    "start_time": "2023-04-21T13:08:31.614Z"
   },
   {
    "duration": 46,
    "start_time": "2023-04-21T13:10:44.189Z"
   },
   {
    "duration": 56,
    "start_time": "2023-04-21T13:13:07.554Z"
   },
   {
    "duration": 4,
    "start_time": "2023-04-21T13:13:31.955Z"
   },
   {
    "duration": 3,
    "start_time": "2023-04-21T13:14:29.606Z"
   },
   {
    "duration": 69,
    "start_time": "2023-04-21T13:14:43.094Z"
   },
   {
    "duration": 61,
    "start_time": "2023-04-21T13:16:14.609Z"
   },
   {
    "duration": 66,
    "start_time": "2023-04-21T13:16:22.376Z"
   },
   {
    "duration": 1318,
    "start_time": "2023-04-21T13:16:49.465Z"
   },
   {
    "duration": 1257,
    "start_time": "2023-04-21T13:16:50.785Z"
   },
   {
    "duration": 15,
    "start_time": "2023-04-21T13:16:52.045Z"
   },
   {
    "duration": 22,
    "start_time": "2023-04-21T13:16:52.064Z"
   },
   {
    "duration": 40,
    "start_time": "2023-04-21T13:16:52.088Z"
   },
   {
    "duration": 46,
    "start_time": "2023-04-21T13:16:52.130Z"
   },
   {
    "duration": 38,
    "start_time": "2023-04-21T13:16:52.178Z"
   },
   {
    "duration": 34,
    "start_time": "2023-04-21T13:16:52.224Z"
   },
   {
    "duration": 22,
    "start_time": "2023-04-21T13:16:52.260Z"
   },
   {
    "duration": 27,
    "start_time": "2023-04-21T13:16:52.285Z"
   },
   {
    "duration": 57,
    "start_time": "2023-04-21T13:16:52.314Z"
   },
   {
    "duration": 19,
    "start_time": "2023-04-21T13:16:52.372Z"
   },
   {
    "duration": 31,
    "start_time": "2023-04-21T13:16:52.393Z"
   },
   {
    "duration": 18,
    "start_time": "2023-04-21T13:16:52.426Z"
   },
   {
    "duration": 97,
    "start_time": "2023-04-21T13:16:52.446Z"
   },
   {
    "duration": 33,
    "start_time": "2023-04-21T13:16:52.546Z"
   },
   {
    "duration": 51,
    "start_time": "2023-04-21T13:16:52.581Z"
   },
   {
    "duration": 21,
    "start_time": "2023-04-21T13:16:52.636Z"
   },
   {
    "duration": 44,
    "start_time": "2023-04-21T13:16:52.659Z"
   },
   {
    "duration": 52,
    "start_time": "2023-04-21T13:16:52.705Z"
   },
   {
    "duration": 18,
    "start_time": "2023-04-21T13:16:52.759Z"
   },
   {
    "duration": 45,
    "start_time": "2023-04-21T13:16:52.779Z"
   },
   {
    "duration": 45,
    "start_time": "2023-04-21T13:16:52.826Z"
   },
   {
    "duration": 32,
    "start_time": "2023-04-21T13:16:52.873Z"
   },
   {
    "duration": 184,
    "start_time": "2023-04-21T13:16:52.907Z"
   },
   {
    "duration": 7,
    "start_time": "2023-04-21T13:16:53.093Z"
   },
   {
    "duration": 163,
    "start_time": "2023-04-21T13:16:53.102Z"
   },
   {
    "duration": 4,
    "start_time": "2023-04-21T13:16:53.270Z"
   },
   {
    "duration": 12,
    "start_time": "2023-04-21T13:16:53.276Z"
   },
   {
    "duration": 18617,
    "start_time": "2023-04-21T13:16:53.290Z"
   },
   {
    "duration": 1934,
    "start_time": "2023-04-21T13:17:11.910Z"
   },
   {
    "duration": 13,
    "start_time": "2023-04-21T13:17:13.846Z"
   },
   {
    "duration": 19,
    "start_time": "2023-04-21T13:17:13.861Z"
   },
   {
    "duration": 39,
    "start_time": "2023-04-21T13:17:13.882Z"
   },
   {
    "duration": 8,
    "start_time": "2023-04-21T13:17:13.935Z"
   },
   {
    "duration": 25,
    "start_time": "2023-04-21T13:17:13.945Z"
   },
   {
    "duration": 16,
    "start_time": "2023-04-21T13:17:13.972Z"
   },
   {
    "duration": 8,
    "start_time": "2023-04-21T13:17:13.990Z"
   },
   {
    "duration": 13,
    "start_time": "2023-04-21T13:17:13.999Z"
   },
   {
    "duration": 27,
    "start_time": "2023-04-21T13:17:14.013Z"
   },
   {
    "duration": 23,
    "start_time": "2023-04-21T13:17:14.042Z"
   },
   {
    "duration": 23,
    "start_time": "2023-04-21T13:17:14.066Z"
   },
   {
    "duration": 20,
    "start_time": "2023-04-21T13:17:14.091Z"
   },
   {
    "duration": 28,
    "start_time": "2023-04-21T13:17:14.113Z"
   },
   {
    "duration": 13,
    "start_time": "2023-04-21T13:17:14.143Z"
   },
   {
    "duration": 18,
    "start_time": "2023-04-21T13:17:14.158Z"
   },
   {
    "duration": 16,
    "start_time": "2023-04-21T13:17:14.178Z"
   },
   {
    "duration": 42,
    "start_time": "2023-04-21T13:17:14.196Z"
   },
   {
    "duration": 10,
    "start_time": "2023-04-21T13:17:14.240Z"
   },
   {
    "duration": 12,
    "start_time": "2023-04-21T13:17:14.252Z"
   },
   {
    "duration": 14,
    "start_time": "2023-04-21T13:17:14.265Z"
   },
   {
    "duration": 28,
    "start_time": "2023-04-21T13:17:14.281Z"
   },
   {
    "duration": 4,
    "start_time": "2023-04-21T13:17:14.311Z"
   },
   {
    "duration": 22,
    "start_time": "2023-04-21T13:17:14.316Z"
   },
   {
    "duration": 17,
    "start_time": "2023-04-21T13:17:14.340Z"
   },
   {
    "duration": 11,
    "start_time": "2023-04-21T13:17:14.359Z"
   },
   {
    "duration": 61,
    "start_time": "2023-04-21T13:17:14.372Z"
   },
   {
    "duration": 3,
    "start_time": "2023-04-21T13:17:14.435Z"
   },
   {
    "duration": 56,
    "start_time": "2023-04-21T13:17:14.439Z"
   },
   {
    "duration": 166,
    "start_time": "2023-04-21T13:17:14.496Z"
   },
   {
    "duration": 191,
    "start_time": "2023-04-21T13:17:14.664Z"
   },
   {
    "duration": 92,
    "start_time": "2023-04-21T16:36:01.468Z"
   },
   {
    "duration": 131,
    "start_time": "2023-04-21T16:36:11.401Z"
   },
   {
    "duration": 76,
    "start_time": "2023-04-21T16:36:31.546Z"
   },
   {
    "duration": 76,
    "start_time": "2023-04-21T16:36:41.499Z"
   },
   {
    "duration": 68,
    "start_time": "2023-04-21T16:36:56.654Z"
   },
   {
    "duration": 77,
    "start_time": "2023-04-21T16:37:17.596Z"
   },
   {
    "duration": 46,
    "start_time": "2023-04-21T16:37:22.957Z"
   },
   {
    "duration": 1389,
    "start_time": "2023-04-21T16:37:32.121Z"
   },
   {
    "duration": 1298,
    "start_time": "2023-04-21T16:37:33.512Z"
   },
   {
    "duration": 14,
    "start_time": "2023-04-21T16:37:34.811Z"
   },
   {
    "duration": 11,
    "start_time": "2023-04-21T16:37:34.827Z"
   },
   {
    "duration": 19,
    "start_time": "2023-04-21T16:37:34.840Z"
   },
   {
    "duration": 9,
    "start_time": "2023-04-21T16:37:34.861Z"
   },
   {
    "duration": 18,
    "start_time": "2023-04-21T16:37:34.871Z"
   },
   {
    "duration": 16,
    "start_time": "2023-04-21T16:37:34.890Z"
   },
   {
    "duration": 4,
    "start_time": "2023-04-21T16:37:34.908Z"
   },
   {
    "duration": 35,
    "start_time": "2023-04-21T16:37:34.914Z"
   },
   {
    "duration": 15,
    "start_time": "2023-04-21T16:37:34.951Z"
   },
   {
    "duration": 5,
    "start_time": "2023-04-21T16:37:34.967Z"
   },
   {
    "duration": 10,
    "start_time": "2023-04-21T16:37:34.974Z"
   },
   {
    "duration": 13,
    "start_time": "2023-04-21T16:37:34.986Z"
   },
   {
    "duration": 49,
    "start_time": "2023-04-21T16:37:35.001Z"
   },
   {
    "duration": 5,
    "start_time": "2023-04-21T16:37:35.052Z"
   },
   {
    "duration": 26,
    "start_time": "2023-04-21T16:37:35.060Z"
   },
   {
    "duration": 6,
    "start_time": "2023-04-21T16:37:35.088Z"
   },
   {
    "duration": 8,
    "start_time": "2023-04-21T16:37:35.095Z"
   },
   {
    "duration": 4,
    "start_time": "2023-04-21T16:37:35.104Z"
   },
   {
    "duration": 7,
    "start_time": "2023-04-21T16:37:35.110Z"
   },
   {
    "duration": 43,
    "start_time": "2023-04-21T16:37:35.118Z"
   },
   {
    "duration": 23,
    "start_time": "2023-04-21T16:37:35.163Z"
   },
   {
    "duration": 11,
    "start_time": "2023-04-21T16:37:35.187Z"
   },
   {
    "duration": 145,
    "start_time": "2023-04-21T16:37:35.199Z"
   },
   {
    "duration": 6,
    "start_time": "2023-04-21T16:37:35.346Z"
   },
   {
    "duration": 143,
    "start_time": "2023-04-21T16:37:35.354Z"
   },
   {
    "duration": 3,
    "start_time": "2023-04-21T16:37:35.501Z"
   },
   {
    "duration": 8,
    "start_time": "2023-04-21T16:37:35.505Z"
   },
   {
    "duration": 15426,
    "start_time": "2023-04-21T16:37:35.515Z"
   },
   {
    "duration": 1537,
    "start_time": "2023-04-21T16:37:50.943Z"
   },
   {
    "duration": 13,
    "start_time": "2023-04-21T16:37:52.483Z"
   },
   {
    "duration": 13,
    "start_time": "2023-04-21T16:37:52.498Z"
   },
   {
    "duration": 19,
    "start_time": "2023-04-21T16:37:52.513Z"
   },
   {
    "duration": 6,
    "start_time": "2023-04-21T16:37:52.534Z"
   },
   {
    "duration": 6,
    "start_time": "2023-04-21T16:37:52.548Z"
   },
   {
    "duration": 16,
    "start_time": "2023-04-21T16:37:52.555Z"
   },
   {
    "duration": 6,
    "start_time": "2023-04-21T16:37:52.573Z"
   },
   {
    "duration": 6,
    "start_time": "2023-04-21T16:37:52.581Z"
   },
   {
    "duration": 7,
    "start_time": "2023-04-21T16:37:52.588Z"
   },
   {
    "duration": 4,
    "start_time": "2023-04-21T16:37:52.597Z"
   },
   {
    "duration": 18,
    "start_time": "2023-04-21T16:37:52.602Z"
   },
   {
    "duration": 12,
    "start_time": "2023-04-21T16:37:52.622Z"
   },
   {
    "duration": 9,
    "start_time": "2023-04-21T16:37:52.648Z"
   },
   {
    "duration": 6,
    "start_time": "2023-04-21T16:37:52.658Z"
   },
   {
    "duration": 8,
    "start_time": "2023-04-21T16:37:52.666Z"
   },
   {
    "duration": 10,
    "start_time": "2023-04-21T16:37:52.676Z"
   },
   {
    "duration": 22,
    "start_time": "2023-04-21T16:37:52.687Z"
   },
   {
    "duration": 21,
    "start_time": "2023-04-21T16:37:52.711Z"
   },
   {
    "duration": 17,
    "start_time": "2023-04-21T16:37:52.733Z"
   },
   {
    "duration": 13,
    "start_time": "2023-04-21T16:37:52.752Z"
   },
   {
    "duration": 10,
    "start_time": "2023-04-21T16:37:52.767Z"
   },
   {
    "duration": 3,
    "start_time": "2023-04-21T16:37:52.779Z"
   },
   {
    "duration": 7,
    "start_time": "2023-04-21T16:37:52.783Z"
   },
   {
    "duration": 18,
    "start_time": "2023-04-21T16:37:52.791Z"
   },
   {
    "duration": 8,
    "start_time": "2023-04-21T16:37:52.810Z"
   },
   {
    "duration": 43,
    "start_time": "2023-04-21T16:37:52.820Z"
   },
   {
    "duration": 2,
    "start_time": "2023-04-21T16:37:52.865Z"
   },
   {
    "duration": 47,
    "start_time": "2023-04-21T16:37:52.868Z"
   },
   {
    "duration": 157,
    "start_time": "2023-04-21T16:37:52.916Z"
   },
   {
    "duration": 175,
    "start_time": "2023-04-21T16:37:53.074Z"
   },
   {
    "duration": 18,
    "start_time": "2023-04-21T16:37:53.268Z"
   },
   {
    "duration": 6,
    "start_time": "2023-04-21T16:38:33.284Z"
   },
   {
    "duration": 11,
    "start_time": "2023-04-21T16:38:46.940Z"
   },
   {
    "duration": 11,
    "start_time": "2023-04-21T16:39:44.805Z"
   },
   {
    "duration": 100,
    "start_time": "2023-04-21T16:43:15.918Z"
   },
   {
    "duration": 9,
    "start_time": "2023-04-21T16:43:19.986Z"
   },
   {
    "duration": 13,
    "start_time": "2023-04-21T16:43:35.902Z"
   },
   {
    "duration": 1157,
    "start_time": "2023-04-21T20:05:52.500Z"
   },
   {
    "duration": 1134,
    "start_time": "2023-04-21T20:05:53.659Z"
   },
   {
    "duration": 10,
    "start_time": "2023-04-21T20:05:54.795Z"
   },
   {
    "duration": 4,
    "start_time": "2023-04-21T20:05:54.807Z"
   },
   {
    "duration": 17,
    "start_time": "2023-04-21T20:05:54.812Z"
   },
   {
    "duration": 19,
    "start_time": "2023-04-21T20:05:54.830Z"
   },
   {
    "duration": 18,
    "start_time": "2023-04-21T20:05:54.850Z"
   },
   {
    "duration": 13,
    "start_time": "2023-04-21T20:05:54.869Z"
   },
   {
    "duration": 4,
    "start_time": "2023-04-21T20:05:54.884Z"
   },
   {
    "duration": 15,
    "start_time": "2023-04-21T20:05:54.889Z"
   },
   {
    "duration": 13,
    "start_time": "2023-04-21T20:05:54.905Z"
   },
   {
    "duration": 4,
    "start_time": "2023-04-21T20:05:54.920Z"
   },
   {
    "duration": 8,
    "start_time": "2023-04-21T20:05:54.949Z"
   },
   {
    "duration": 11,
    "start_time": "2023-04-21T20:05:54.960Z"
   },
   {
    "duration": 12,
    "start_time": "2023-04-21T20:05:54.973Z"
   },
   {
    "duration": 4,
    "start_time": "2023-04-21T20:05:54.986Z"
   },
   {
    "duration": 22,
    "start_time": "2023-04-21T20:05:54.991Z"
   },
   {
    "duration": 35,
    "start_time": "2023-04-21T20:05:55.015Z"
   },
   {
    "duration": 8,
    "start_time": "2023-04-21T20:05:55.053Z"
   },
   {
    "duration": 6,
    "start_time": "2023-04-21T20:05:55.063Z"
   },
   {
    "duration": 10,
    "start_time": "2023-04-21T20:05:55.071Z"
   },
   {
    "duration": 15,
    "start_time": "2023-04-21T20:05:55.083Z"
   },
   {
    "duration": 16,
    "start_time": "2023-04-21T20:05:55.099Z"
   },
   {
    "duration": 40,
    "start_time": "2023-04-21T20:05:55.116Z"
   },
   {
    "duration": 132,
    "start_time": "2023-04-21T20:05:55.158Z"
   },
   {
    "duration": 7,
    "start_time": "2023-04-21T20:05:55.292Z"
   },
   {
    "duration": 124,
    "start_time": "2023-04-21T20:05:55.300Z"
   },
   {
    "duration": 3,
    "start_time": "2023-04-21T20:05:55.426Z"
   },
   {
    "duration": 5,
    "start_time": "2023-04-21T20:05:55.430Z"
   },
   {
    "duration": 15301,
    "start_time": "2023-04-21T20:05:55.436Z"
   },
   {
    "duration": 1494,
    "start_time": "2023-04-21T20:06:10.738Z"
   },
   {
    "duration": 12,
    "start_time": "2023-04-21T20:06:12.234Z"
   },
   {
    "duration": 33,
    "start_time": "2023-04-21T20:06:12.248Z"
   },
   {
    "duration": 16,
    "start_time": "2023-04-21T20:06:12.283Z"
   },
   {
    "duration": 5,
    "start_time": "2023-04-21T20:06:12.301Z"
   },
   {
    "duration": 6,
    "start_time": "2023-04-21T20:06:12.308Z"
   },
   {
    "duration": 6,
    "start_time": "2023-04-21T20:06:12.315Z"
   },
   {
    "duration": 13,
    "start_time": "2023-04-21T20:06:12.323Z"
   },
   {
    "duration": 12,
    "start_time": "2023-04-21T20:06:12.337Z"
   },
   {
    "duration": 7,
    "start_time": "2023-04-21T20:06:12.351Z"
   },
   {
    "duration": 8,
    "start_time": "2023-04-21T20:06:12.361Z"
   },
   {
    "duration": 10,
    "start_time": "2023-04-21T20:06:12.370Z"
   },
   {
    "duration": 7,
    "start_time": "2023-04-21T20:06:12.381Z"
   },
   {
    "duration": 8,
    "start_time": "2023-04-21T20:06:12.389Z"
   },
   {
    "duration": 3,
    "start_time": "2023-04-21T20:06:12.398Z"
   },
   {
    "duration": 14,
    "start_time": "2023-04-21T20:06:12.402Z"
   },
   {
    "duration": 5,
    "start_time": "2023-04-21T20:06:12.418Z"
   },
   {
    "duration": 30,
    "start_time": "2023-04-21T20:06:12.424Z"
   },
   {
    "duration": 5,
    "start_time": "2023-04-21T20:06:12.456Z"
   },
   {
    "duration": 18,
    "start_time": "2023-04-21T20:06:12.462Z"
   },
   {
    "duration": 7,
    "start_time": "2023-04-21T20:06:12.482Z"
   },
   {
    "duration": 9,
    "start_time": "2023-04-21T20:06:12.491Z"
   },
   {
    "duration": 3,
    "start_time": "2023-04-21T20:06:12.502Z"
   },
   {
    "duration": 7,
    "start_time": "2023-04-21T20:06:12.507Z"
   },
   {
    "duration": 37,
    "start_time": "2023-04-21T20:06:12.515Z"
   },
   {
    "duration": 9,
    "start_time": "2023-04-21T20:06:12.553Z"
   },
   {
    "duration": 37,
    "start_time": "2023-04-21T20:06:12.563Z"
   },
   {
    "duration": 2,
    "start_time": "2023-04-21T20:06:12.602Z"
   },
   {
    "duration": 74,
    "start_time": "2023-04-21T20:06:12.605Z"
   },
   {
    "duration": 139,
    "start_time": "2023-04-21T20:06:12.680Z"
   },
   {
    "duration": 153,
    "start_time": "2023-04-21T20:06:12.820Z"
   },
   {
    "duration": 1414,
    "start_time": "2023-04-22T10:20:22.837Z"
   },
   {
    "duration": 1175,
    "start_time": "2023-04-22T10:20:24.254Z"
   },
   {
    "duration": 16,
    "start_time": "2023-04-22T10:20:25.431Z"
   },
   {
    "duration": 5,
    "start_time": "2023-04-22T10:20:25.450Z"
   },
   {
    "duration": 41,
    "start_time": "2023-04-22T10:20:25.457Z"
   },
   {
    "duration": 18,
    "start_time": "2023-04-22T10:20:25.499Z"
   },
   {
    "duration": 25,
    "start_time": "2023-04-22T10:20:25.519Z"
   },
   {
    "duration": 11,
    "start_time": "2023-04-22T10:20:25.546Z"
   },
   {
    "duration": 31,
    "start_time": "2023-04-22T10:20:25.559Z"
   },
   {
    "duration": 23,
    "start_time": "2023-04-22T10:20:25.596Z"
   },
   {
    "duration": 21,
    "start_time": "2023-04-22T10:20:25.621Z"
   },
   {
    "duration": 4,
    "start_time": "2023-04-22T10:20:25.644Z"
   },
   {
    "duration": 10,
    "start_time": "2023-04-22T10:20:25.649Z"
   },
   {
    "duration": 53,
    "start_time": "2023-04-22T10:20:25.660Z"
   },
   {
    "duration": 20,
    "start_time": "2023-04-22T10:20:25.717Z"
   },
   {
    "duration": 6,
    "start_time": "2023-04-22T10:20:25.740Z"
   },
   {
    "duration": 39,
    "start_time": "2023-04-22T10:20:25.748Z"
   },
   {
    "duration": 17,
    "start_time": "2023-04-22T10:20:25.791Z"
   },
   {
    "duration": 9,
    "start_time": "2023-04-22T10:20:25.816Z"
   },
   {
    "duration": 6,
    "start_time": "2023-04-22T10:20:25.827Z"
   },
   {
    "duration": 7,
    "start_time": "2023-04-22T10:20:25.836Z"
   },
   {
    "duration": 17,
    "start_time": "2023-04-22T10:20:25.845Z"
   },
   {
    "duration": 55,
    "start_time": "2023-04-22T10:20:25.863Z"
   },
   {
    "duration": 17,
    "start_time": "2023-04-22T10:20:25.920Z"
   },
   {
    "duration": 183,
    "start_time": "2023-04-22T10:20:25.938Z"
   },
   {
    "duration": 5,
    "start_time": "2023-04-22T10:20:26.123Z"
   },
   {
    "duration": 152,
    "start_time": "2023-04-22T10:20:26.130Z"
   },
   {
    "duration": 4,
    "start_time": "2023-04-22T10:20:26.288Z"
   },
   {
    "duration": 10,
    "start_time": "2023-04-22T10:20:26.295Z"
   },
   {
    "duration": 18967,
    "start_time": "2023-04-22T10:20:26.312Z"
   },
   {
    "duration": 1861,
    "start_time": "2023-04-22T10:20:45.281Z"
   },
   {
    "duration": 14,
    "start_time": "2023-04-22T10:20:47.144Z"
   },
   {
    "duration": 34,
    "start_time": "2023-04-22T10:20:47.160Z"
   },
   {
    "duration": 28,
    "start_time": "2023-04-22T10:20:47.197Z"
   },
   {
    "duration": 7,
    "start_time": "2023-04-22T10:20:47.227Z"
   },
   {
    "duration": 8,
    "start_time": "2023-04-22T10:20:47.236Z"
   },
   {
    "duration": 6,
    "start_time": "2023-04-22T10:20:47.246Z"
   },
   {
    "duration": 40,
    "start_time": "2023-04-22T10:20:47.254Z"
   },
   {
    "duration": 16,
    "start_time": "2023-04-22T10:20:47.296Z"
   },
   {
    "duration": 9,
    "start_time": "2023-04-22T10:20:47.314Z"
   },
   {
    "duration": 25,
    "start_time": "2023-04-22T10:20:47.324Z"
   },
   {
    "duration": 8,
    "start_time": "2023-04-22T10:20:47.351Z"
   },
   {
    "duration": 12,
    "start_time": "2023-04-22T10:20:47.360Z"
   },
   {
    "duration": 19,
    "start_time": "2023-04-22T10:20:47.374Z"
   },
   {
    "duration": 10,
    "start_time": "2023-04-22T10:20:47.399Z"
   },
   {
    "duration": 13,
    "start_time": "2023-04-22T10:20:47.413Z"
   },
   {
    "duration": 38,
    "start_time": "2023-04-22T10:20:47.428Z"
   },
   {
    "duration": 10,
    "start_time": "2023-04-22T10:20:47.468Z"
   },
   {
    "duration": 3,
    "start_time": "2023-04-22T10:20:47.480Z"
   },
   {
    "duration": 16,
    "start_time": "2023-04-22T10:20:47.485Z"
   },
   {
    "duration": 12,
    "start_time": "2023-04-22T10:20:47.503Z"
   },
   {
    "duration": 11,
    "start_time": "2023-04-22T10:20:47.517Z"
   },
   {
    "duration": 3,
    "start_time": "2023-04-22T10:20:47.530Z"
   },
   {
    "duration": 13,
    "start_time": "2023-04-22T10:20:47.534Z"
   },
   {
    "duration": 10,
    "start_time": "2023-04-22T10:20:47.549Z"
   },
   {
    "duration": 29,
    "start_time": "2023-04-22T10:20:47.561Z"
   },
   {
    "duration": 57,
    "start_time": "2023-04-22T10:20:47.594Z"
   },
   {
    "duration": 3,
    "start_time": "2023-04-22T10:20:47.652Z"
   },
   {
    "duration": 78,
    "start_time": "2023-04-22T10:20:47.656Z"
   },
   {
    "duration": 173,
    "start_time": "2023-04-22T10:20:47.736Z"
   },
   {
    "duration": 208,
    "start_time": "2023-04-22T10:20:47.912Z"
   }
  ],
  "kernelspec": {
   "display_name": "Python 3 (ipykernel)",
   "language": "python",
   "name": "python3"
  },
  "language_info": {
   "codemirror_mode": {
    "name": "ipython",
    "version": 3
   },
   "file_extension": ".py",
   "mimetype": "text/x-python",
   "name": "python",
   "nbconvert_exporter": "python",
   "pygments_lexer": "ipython3",
   "version": "3.9.13"
  },
  "toc": {
   "base_numbering": 1,
   "nav_menu": {},
   "number_sections": true,
   "sideBar": true,
   "skip_h1_title": true,
   "title_cell": "Table of Contents",
   "title_sidebar": "Contents",
   "toc_cell": false,
   "toc_position": {},
   "toc_section_display": true,
   "toc_window_display": false
  }
 },
 "nbformat": 4,
 "nbformat_minor": 2
}
